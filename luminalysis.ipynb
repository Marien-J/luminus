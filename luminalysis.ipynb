{
 "cells": [
  {
   "cell_type": "code",
   "execution_count": 26,
   "metadata": {},
   "outputs": [],
   "source": [
    "from dash import Dash, html, dcc, Input, Output\n",
    "import pandas as pd\n",
    "import plotly.express as px\n",
    "import geopandas as gpd\n",
    "import shapely \n",
    "import numpy as np\n",
    "import dash_bootstrap_components as dbc\n",
    "from dash.dependencies import Input, Output, State\n",
    "import dash\n",
    "from dash_bootstrap_templates import load_figure_template\n",
    "import plotly.graph_objects as go\n",
    "import dash_daq as daq\n",
    "# import sys\n",
    "# from pathlib import Path\n",
    "# sys.path.append(str(Path(__file__).parent))\n",
    "from figure_functions import barchart_heating_systems, boxplot_co2, boxplot_investment\n",
    "from constants import INJECTION_PRICE, GAS_PRICE, ELECTRICITY_PRICE, ELEC_CO2_INTENSITY, ELEC_CO2_INTENSITY_ELECTRIFICATION, COLS\n",
    "from tab_layout import make_layout_scenario_maker, make_sliders\n",
    "from server import app\n",
    "from functions import map_epc\n",
    "import matplotlib.pyplot as plt\n",
    "from scipy.optimize import curve_fit\n",
    "\n",
    "from luminalysis_functions import example_cases, dynamic_co2, fit_co2"
   ]
  },
  {
   "cell_type": "code",
   "execution_count": 8,
   "metadata": {},
   "outputs": [],
   "source": [
    "# df = pd.read_feather('data/archetypes_luminus_trimmed.ftr')\n",
    "# def hs(scenario_name, gas, elec, oil, heating_consumption):\n",
    "#     if scenario_name == 'current situation':\n",
    "#         return 'Oil' if oil >= heating_consumption else 'Gasboiler'\n",
    "#     elif 'hp' in scenario_name.lower() or 'warmtepomp' in scenario_name.lower():\n",
    "#         return 'Heat Pump'\n",
    "#     elif 'gasboiler' in scenario_name.lower():\n",
    "#         return 'Gasboiler'\n",
    "#     else:\n",
    "#         return 'Gasboiler'\n",
    "\n",
    "# def dhw_system(scenario_name, gas, elec, heating_system):\n",
    "#     if 'heat pump boiler' in scenario_name.lower():\n",
    "#         return 'HP Boiler'\n",
    "#     elif heating_system == 'Heat Pump':\n",
    "#         if gas == 0:\n",
    "#             return 'HP Boiler'\n",
    "#         else:\n",
    "#             return 'Gasboiler'\n",
    "#     else:\n",
    "#         return 'Gasboiler'\n",
    "# df['heating_system'] = df.apply(lambda x: hs(x.scenario_name,\n",
    "#                                              x.gas_consumption,\n",
    "#                                              x.electricity_consumption,\n",
    "#                                              x.oil_consumption,\n",
    "#                                              x.heating_consumption), axis = 1)\n",
    "# df['dhw_system'] = df.apply(lambda x: dhw_system(x.scenario_name,\n",
    "#                                              x.gas_consumption,\n",
    "#                                              x.electricity_consumption,\n",
    "#                                              x.heating_system), axis = 1)"
   ]
  },
  {
   "cell_type": "code",
   "execution_count": 27,
   "metadata": {},
   "outputs": [],
   "source": [
    "\n",
    "\n",
    "#df = pd.read_csv('data/archetypes_luminus.csv', usecols = COLS)\n",
    "df = pd.read_feather('data/archetypes_luminus_trimmed.ftr')\n",
    "df['tco'] = df.total_investment_cost + df.electricity_consumption*15*ELECTRICITY_PRICE['BE'] + df.gas_consumption*GAS_PRICE['BE'] * 15+ df.total_oil_cost -df.electricity_injected * INJECTION_PRICE['BE'] * 15\n",
    "df['total_co2'] = df.electricity_consumption * 0.171 + df.gas_consumption * 0.056 * 3.6 + df.oil_consumption * 0.074 * 3.6 - df.electricity_injected * 0.171\n",
    "# df['mapped_epc'] = df.apply(lambda x: map_epc( epc = x.epc_ind, \n",
    "#                                                 co2 = x.total_co2 / x.total_floor_area), axis = 1)\n",
    "optimal_unmodded_temp = df[df.epc_ind<=100].sort_values(by = 'tco', ascending = True).drop_duplicates(subset = 'name', keep = 'first')\n",
    "optimal_unmodded_temp['dataset'] = 'unmodded'\n",
    "optimal_modded_temp = df[df.epc_ind<=100].sort_values(by = 'tco', ascending = True).drop_duplicates(subset = 'name', keep = 'first')\n",
    "optimal_modded_temp['dataset'] = 'modded'"
   ]
  },
  {
   "cell_type": "code",
   "execution_count": 10,
   "metadata": {},
   "outputs": [
    {
     "data": {
      "text/plain": [
       "0         2712.4074\n",
       "1         2425.8114\n",
       "2         2180.2554\n",
       "3         2180.2554\n",
       "4         2425.8114\n",
       "            ...    \n",
       "676355    -126.1980\n",
       "676356    -505.4760\n",
       "676357    -505.4760\n",
       "676358    -126.1980\n",
       "676359    -505.4760\n",
       "Name: total_co2, Length: 676360, dtype: float64"
      ]
     },
     "execution_count": 10,
     "metadata": {},
     "output_type": "execute_result"
    }
   ],
   "source": [
    "df.total_co2"
   ]
  },
  {
   "cell_type": "code",
   "execution_count": 33,
   "metadata": {},
   "outputs": [],
   "source": [
    "x_fit, y_fit_central, y_fit_electrification, fig = fit_co2(central_scenario = ELEC_CO2_INTENSITY, electrification_scenario = ELEC_CO2_INTENSITY_ELECTRIFICATION, returnplot = True)\n",
    "# Plot the data and the fit"
   ]
  },
  {
   "cell_type": "code",
   "execution_count": 34,
   "metadata": {},
   "outputs": [
    {
     "data": {
      "application/vnd.plotly.v1+json": {
       "config": {
        "plotlyServerURL": "https://plot.ly"
       },
       "data": [
        {
         "marker": {
          "size": 8
         },
         "mode": "markers",
         "name": "central scenario",
         "type": "scatter",
         "x": [
          2020,
          2030,
          2040
         ],
         "y": [
          0.171,
          0.134,
          0.051
         ]
        },
        {
         "marker": {
          "size": 8
         },
         "mode": "markers",
         "name": "electrification scenario",
         "type": "scatter",
         "x": [
          2020,
          2030,
          2040
         ],
         "y": [
          0.171,
          0.096,
          0.019
         ]
        },
        {
         "marker": {
          "size": 8
         },
         "mode": "lines",
         "name": "central fit",
         "type": "scatter",
         "x": [
          2020,
          2021,
          2022,
          2023,
          2024,
          2025,
          2026,
          2027,
          2028,
          2029,
          2030,
          2031,
          2032,
          2033,
          2034,
          2035,
          2036,
          2037,
          2038,
          2039,
          2040
         ],
         "y": [
          0.17813383665817434,
          0.16992408636693274,
          0.16209270326919564,
          0.15462224935186375,
          0.147496090276961,
          0.14069835834222524,
          0.13421391714875425,
          0.12802832789703306,
          0.12212781723629437,
          0.1164992465956229,
          0.11113008292851366,
          0.1060083708057416,
          0.10112270579440223,
          0.09646220906384673,
          0.092016503161967,
          0.08777568890789235,
          0.08373032334964464,
          0.07987139873767113,
          0.07619032246743532,
          0.07267889794640446,
          0.06932930634283063
         ]
        },
        {
         "marker": {
          "size": 8
         },
         "mode": "lines",
         "name": "electrification fit",
         "type": "scatter",
         "x": [
          2020,
          2021,
          2022,
          2023,
          2024,
          2025,
          2026,
          2027,
          2028,
          2029,
          2030,
          2031,
          2032,
          2033,
          2034,
          2035,
          2036,
          2037,
          2038,
          2039,
          2040
         ],
         "y": [
          0.17467801782973907,
          0.1615405827781984,
          0.1493912067960117,
          0.13815557851869248,
          0.12776497549750143,
          0.11815584386025,
          0.1092694095855777,
          0.10105131901307106,
          0.09345130639041394,
          0.08642288642412857,
          0.07992306995340166,
          0.0739121010079217,
          0.06835321364144753,
          0.06321240705378701,
          0.05845823762572465,
          0.0540616265948847,
          0.04999568219618415,
          0.04623553517900168,
          0.042758186695007465,
          0.03954236762626328,
          0.03656840849317689
         ]
        }
       ],
       "layout": {
        "height": 400,
        "legend": {
         "bgcolor": "RGBA(255,255,255,0.4)",
         "x": 1,
         "xanchor": "right",
         "y": 0.99,
         "yanchor": "top"
        },
        "margin": {
         "b": 10,
         "l": 50,
         "r": 40,
         "t": 10
        },
        "template": {
         "data": {
          "bar": [
           {
            "error_x": {
             "color": "#2a3f5f"
            },
            "error_y": {
             "color": "#2a3f5f"
            },
            "marker": {
             "line": {
              "color": "#E5ECF6",
              "width": 0.5
             },
             "pattern": {
              "fillmode": "overlay",
              "size": 10,
              "solidity": 0.2
             }
            },
            "type": "bar"
           }
          ],
          "barpolar": [
           {
            "marker": {
             "line": {
              "color": "#E5ECF6",
              "width": 0.5
             },
             "pattern": {
              "fillmode": "overlay",
              "size": 10,
              "solidity": 0.2
             }
            },
            "type": "barpolar"
           }
          ],
          "carpet": [
           {
            "aaxis": {
             "endlinecolor": "#2a3f5f",
             "gridcolor": "white",
             "linecolor": "white",
             "minorgridcolor": "white",
             "startlinecolor": "#2a3f5f"
            },
            "baxis": {
             "endlinecolor": "#2a3f5f",
             "gridcolor": "white",
             "linecolor": "white",
             "minorgridcolor": "white",
             "startlinecolor": "#2a3f5f"
            },
            "type": "carpet"
           }
          ],
          "choropleth": [
           {
            "colorbar": {
             "outlinewidth": 0,
             "ticks": ""
            },
            "type": "choropleth"
           }
          ],
          "contour": [
           {
            "colorbar": {
             "outlinewidth": 0,
             "ticks": ""
            },
            "colorscale": [
             [
              0,
              "#0d0887"
             ],
             [
              0.1111111111111111,
              "#46039f"
             ],
             [
              0.2222222222222222,
              "#7201a8"
             ],
             [
              0.3333333333333333,
              "#9c179e"
             ],
             [
              0.4444444444444444,
              "#bd3786"
             ],
             [
              0.5555555555555556,
              "#d8576b"
             ],
             [
              0.6666666666666666,
              "#ed7953"
             ],
             [
              0.7777777777777778,
              "#fb9f3a"
             ],
             [
              0.8888888888888888,
              "#fdca26"
             ],
             [
              1,
              "#f0f921"
             ]
            ],
            "type": "contour"
           }
          ],
          "contourcarpet": [
           {
            "colorbar": {
             "outlinewidth": 0,
             "ticks": ""
            },
            "type": "contourcarpet"
           }
          ],
          "heatmap": [
           {
            "colorbar": {
             "outlinewidth": 0,
             "ticks": ""
            },
            "colorscale": [
             [
              0,
              "#0d0887"
             ],
             [
              0.1111111111111111,
              "#46039f"
             ],
             [
              0.2222222222222222,
              "#7201a8"
             ],
             [
              0.3333333333333333,
              "#9c179e"
             ],
             [
              0.4444444444444444,
              "#bd3786"
             ],
             [
              0.5555555555555556,
              "#d8576b"
             ],
             [
              0.6666666666666666,
              "#ed7953"
             ],
             [
              0.7777777777777778,
              "#fb9f3a"
             ],
             [
              0.8888888888888888,
              "#fdca26"
             ],
             [
              1,
              "#f0f921"
             ]
            ],
            "type": "heatmap"
           }
          ],
          "heatmapgl": [
           {
            "colorbar": {
             "outlinewidth": 0,
             "ticks": ""
            },
            "colorscale": [
             [
              0,
              "#0d0887"
             ],
             [
              0.1111111111111111,
              "#46039f"
             ],
             [
              0.2222222222222222,
              "#7201a8"
             ],
             [
              0.3333333333333333,
              "#9c179e"
             ],
             [
              0.4444444444444444,
              "#bd3786"
             ],
             [
              0.5555555555555556,
              "#d8576b"
             ],
             [
              0.6666666666666666,
              "#ed7953"
             ],
             [
              0.7777777777777778,
              "#fb9f3a"
             ],
             [
              0.8888888888888888,
              "#fdca26"
             ],
             [
              1,
              "#f0f921"
             ]
            ],
            "type": "heatmapgl"
           }
          ],
          "histogram": [
           {
            "marker": {
             "pattern": {
              "fillmode": "overlay",
              "size": 10,
              "solidity": 0.2
             }
            },
            "type": "histogram"
           }
          ],
          "histogram2d": [
           {
            "colorbar": {
             "outlinewidth": 0,
             "ticks": ""
            },
            "colorscale": [
             [
              0,
              "#0d0887"
             ],
             [
              0.1111111111111111,
              "#46039f"
             ],
             [
              0.2222222222222222,
              "#7201a8"
             ],
             [
              0.3333333333333333,
              "#9c179e"
             ],
             [
              0.4444444444444444,
              "#bd3786"
             ],
             [
              0.5555555555555556,
              "#d8576b"
             ],
             [
              0.6666666666666666,
              "#ed7953"
             ],
             [
              0.7777777777777778,
              "#fb9f3a"
             ],
             [
              0.8888888888888888,
              "#fdca26"
             ],
             [
              1,
              "#f0f921"
             ]
            ],
            "type": "histogram2d"
           }
          ],
          "histogram2dcontour": [
           {
            "colorbar": {
             "outlinewidth": 0,
             "ticks": ""
            },
            "colorscale": [
             [
              0,
              "#0d0887"
             ],
             [
              0.1111111111111111,
              "#46039f"
             ],
             [
              0.2222222222222222,
              "#7201a8"
             ],
             [
              0.3333333333333333,
              "#9c179e"
             ],
             [
              0.4444444444444444,
              "#bd3786"
             ],
             [
              0.5555555555555556,
              "#d8576b"
             ],
             [
              0.6666666666666666,
              "#ed7953"
             ],
             [
              0.7777777777777778,
              "#fb9f3a"
             ],
             [
              0.8888888888888888,
              "#fdca26"
             ],
             [
              1,
              "#f0f921"
             ]
            ],
            "type": "histogram2dcontour"
           }
          ],
          "mesh3d": [
           {
            "colorbar": {
             "outlinewidth": 0,
             "ticks": ""
            },
            "type": "mesh3d"
           }
          ],
          "parcoords": [
           {
            "line": {
             "colorbar": {
              "outlinewidth": 0,
              "ticks": ""
             }
            },
            "type": "parcoords"
           }
          ],
          "pie": [
           {
            "automargin": true,
            "type": "pie"
           }
          ],
          "scatter": [
           {
            "fillpattern": {
             "fillmode": "overlay",
             "size": 10,
             "solidity": 0.2
            },
            "type": "scatter"
           }
          ],
          "scatter3d": [
           {
            "line": {
             "colorbar": {
              "outlinewidth": 0,
              "ticks": ""
             }
            },
            "marker": {
             "colorbar": {
              "outlinewidth": 0,
              "ticks": ""
             }
            },
            "type": "scatter3d"
           }
          ],
          "scattercarpet": [
           {
            "marker": {
             "colorbar": {
              "outlinewidth": 0,
              "ticks": ""
             }
            },
            "type": "scattercarpet"
           }
          ],
          "scattergeo": [
           {
            "marker": {
             "colorbar": {
              "outlinewidth": 0,
              "ticks": ""
             }
            },
            "type": "scattergeo"
           }
          ],
          "scattergl": [
           {
            "marker": {
             "colorbar": {
              "outlinewidth": 0,
              "ticks": ""
             }
            },
            "type": "scattergl"
           }
          ],
          "scattermapbox": [
           {
            "marker": {
             "colorbar": {
              "outlinewidth": 0,
              "ticks": ""
             }
            },
            "type": "scattermapbox"
           }
          ],
          "scatterpolar": [
           {
            "marker": {
             "colorbar": {
              "outlinewidth": 0,
              "ticks": ""
             }
            },
            "type": "scatterpolar"
           }
          ],
          "scatterpolargl": [
           {
            "marker": {
             "colorbar": {
              "outlinewidth": 0,
              "ticks": ""
             }
            },
            "type": "scatterpolargl"
           }
          ],
          "scatterternary": [
           {
            "marker": {
             "colorbar": {
              "outlinewidth": 0,
              "ticks": ""
             }
            },
            "type": "scatterternary"
           }
          ],
          "surface": [
           {
            "colorbar": {
             "outlinewidth": 0,
             "ticks": ""
            },
            "colorscale": [
             [
              0,
              "#0d0887"
             ],
             [
              0.1111111111111111,
              "#46039f"
             ],
             [
              0.2222222222222222,
              "#7201a8"
             ],
             [
              0.3333333333333333,
              "#9c179e"
             ],
             [
              0.4444444444444444,
              "#bd3786"
             ],
             [
              0.5555555555555556,
              "#d8576b"
             ],
             [
              0.6666666666666666,
              "#ed7953"
             ],
             [
              0.7777777777777778,
              "#fb9f3a"
             ],
             [
              0.8888888888888888,
              "#fdca26"
             ],
             [
              1,
              "#f0f921"
             ]
            ],
            "type": "surface"
           }
          ],
          "table": [
           {
            "cells": {
             "fill": {
              "color": "#EBF0F8"
             },
             "line": {
              "color": "white"
             }
            },
            "header": {
             "fill": {
              "color": "#C8D4E3"
             },
             "line": {
              "color": "white"
             }
            },
            "type": "table"
           }
          ]
         },
         "layout": {
          "annotationdefaults": {
           "arrowcolor": "#2a3f5f",
           "arrowhead": 0,
           "arrowwidth": 1
          },
          "autotypenumbers": "strict",
          "coloraxis": {
           "colorbar": {
            "outlinewidth": 0,
            "ticks": ""
           }
          },
          "colorscale": {
           "diverging": [
            [
             0,
             "#8e0152"
            ],
            [
             0.1,
             "#c51b7d"
            ],
            [
             0.2,
             "#de77ae"
            ],
            [
             0.3,
             "#f1b6da"
            ],
            [
             0.4,
             "#fde0ef"
            ],
            [
             0.5,
             "#f7f7f7"
            ],
            [
             0.6,
             "#e6f5d0"
            ],
            [
             0.7,
             "#b8e186"
            ],
            [
             0.8,
             "#7fbc41"
            ],
            [
             0.9,
             "#4d9221"
            ],
            [
             1,
             "#276419"
            ]
           ],
           "sequential": [
            [
             0,
             "#0d0887"
            ],
            [
             0.1111111111111111,
             "#46039f"
            ],
            [
             0.2222222222222222,
             "#7201a8"
            ],
            [
             0.3333333333333333,
             "#9c179e"
            ],
            [
             0.4444444444444444,
             "#bd3786"
            ],
            [
             0.5555555555555556,
             "#d8576b"
            ],
            [
             0.6666666666666666,
             "#ed7953"
            ],
            [
             0.7777777777777778,
             "#fb9f3a"
            ],
            [
             0.8888888888888888,
             "#fdca26"
            ],
            [
             1,
             "#f0f921"
            ]
           ],
           "sequentialminus": [
            [
             0,
             "#0d0887"
            ],
            [
             0.1111111111111111,
             "#46039f"
            ],
            [
             0.2222222222222222,
             "#7201a8"
            ],
            [
             0.3333333333333333,
             "#9c179e"
            ],
            [
             0.4444444444444444,
             "#bd3786"
            ],
            [
             0.5555555555555556,
             "#d8576b"
            ],
            [
             0.6666666666666666,
             "#ed7953"
            ],
            [
             0.7777777777777778,
             "#fb9f3a"
            ],
            [
             0.8888888888888888,
             "#fdca26"
            ],
            [
             1,
             "#f0f921"
            ]
           ]
          },
          "colorway": [
           "#636efa",
           "#EF553B",
           "#00cc96",
           "#ab63fa",
           "#FFA15A",
           "#19d3f3",
           "#FF6692",
           "#B6E880",
           "#FF97FF",
           "#FECB52"
          ],
          "font": {
           "color": "#2a3f5f"
          },
          "geo": {
           "bgcolor": "white",
           "lakecolor": "white",
           "landcolor": "#E5ECF6",
           "showlakes": true,
           "showland": true,
           "subunitcolor": "white"
          },
          "hoverlabel": {
           "align": "left"
          },
          "hovermode": "closest",
          "mapbox": {
           "style": "light"
          },
          "paper_bgcolor": "white",
          "plot_bgcolor": "#E5ECF6",
          "polar": {
           "angularaxis": {
            "gridcolor": "white",
            "linecolor": "white",
            "ticks": ""
           },
           "bgcolor": "#E5ECF6",
           "radialaxis": {
            "gridcolor": "white",
            "linecolor": "white",
            "ticks": ""
           }
          },
          "scene": {
           "xaxis": {
            "backgroundcolor": "#E5ECF6",
            "gridcolor": "white",
            "gridwidth": 2,
            "linecolor": "white",
            "showbackground": true,
            "ticks": "",
            "zerolinecolor": "white"
           },
           "yaxis": {
            "backgroundcolor": "#E5ECF6",
            "gridcolor": "white",
            "gridwidth": 2,
            "linecolor": "white",
            "showbackground": true,
            "ticks": "",
            "zerolinecolor": "white"
           },
           "zaxis": {
            "backgroundcolor": "#E5ECF6",
            "gridcolor": "white",
            "gridwidth": 2,
            "linecolor": "white",
            "showbackground": true,
            "ticks": "",
            "zerolinecolor": "white"
           }
          },
          "shapedefaults": {
           "line": {
            "color": "#2a3f5f"
           }
          },
          "ternary": {
           "aaxis": {
            "gridcolor": "white",
            "linecolor": "white",
            "ticks": ""
           },
           "baxis": {
            "gridcolor": "white",
            "linecolor": "white",
            "ticks": ""
           },
           "bgcolor": "#E5ECF6",
           "caxis": {
            "gridcolor": "white",
            "linecolor": "white",
            "ticks": ""
           }
          },
          "title": {
           "x": 0.05
          },
          "xaxis": {
           "automargin": true,
           "gridcolor": "white",
           "linecolor": "white",
           "ticks": "",
           "title": {
            "standoff": 15
           },
           "zerolinecolor": "white",
           "zerolinewidth": 2
          },
          "yaxis": {
           "automargin": true,
           "gridcolor": "white",
           "linecolor": "white",
           "ticks": "",
           "title": {
            "standoff": 15
           },
           "zerolinecolor": "white",
           "zerolinewidth": 2
          }
         }
        },
        "width": 400,
        "xaxis": {
         "title": {
          "text": "Year"
         }
        },
        "yaxis": {
         "title": {
          "text": "CO₂ intensity (kg/kWh)"
         }
        }
       }
      },
      "text/html": [
       "<div>                            <div id=\"a603d3d1-d4c7-49b0-8626-86afa71bc6dc\" class=\"plotly-graph-div\" style=\"height:400px; width:400px;\"></div>            <script type=\"text/javascript\">                require([\"plotly\"], function(Plotly) {                    window.PLOTLYENV=window.PLOTLYENV || {};                                    if (document.getElementById(\"a603d3d1-d4c7-49b0-8626-86afa71bc6dc\")) {                    Plotly.newPlot(                        \"a603d3d1-d4c7-49b0-8626-86afa71bc6dc\",                        [{\"mode\":\"markers\",\"name\":\"central scenario\",\"x\":[2020,2030,2040],\"y\":[0.171,0.134,0.051],\"type\":\"scatter\",\"marker\":{\"size\":8}},{\"mode\":\"markers\",\"name\":\"electrification scenario\",\"x\":[2020,2030,2040],\"y\":[0.171,0.096,0.019],\"type\":\"scatter\",\"marker\":{\"size\":8}},{\"mode\":\"lines\",\"name\":\"central fit\",\"x\":[2020.0,2021.0,2022.0,2023.0,2024.0,2025.0,2026.0,2027.0,2028.0,2029.0,2030.0,2031.0,2032.0,2033.0,2034.0,2035.0,2036.0,2037.0,2038.0,2039.0,2040.0],\"y\":[0.17813383665817434,0.16992408636693274,0.16209270326919564,0.15462224935186375,0.147496090276961,0.14069835834222524,0.13421391714875425,0.12802832789703306,0.12212781723629437,0.1164992465956229,0.11113008292851366,0.1060083708057416,0.10112270579440223,0.09646220906384673,0.092016503161967,0.08777568890789235,0.08373032334964464,0.07987139873767113,0.07619032246743532,0.07267889794640446,0.06932930634283063],\"type\":\"scatter\",\"marker\":{\"size\":8}},{\"mode\":\"lines\",\"name\":\"electrification fit\",\"x\":[2020.0,2021.0,2022.0,2023.0,2024.0,2025.0,2026.0,2027.0,2028.0,2029.0,2030.0,2031.0,2032.0,2033.0,2034.0,2035.0,2036.0,2037.0,2038.0,2039.0,2040.0],\"y\":[0.17467801782973907,0.1615405827781984,0.1493912067960117,0.13815557851869248,0.12776497549750143,0.11815584386025,0.1092694095855777,0.10105131901307106,0.09345130639041394,0.08642288642412857,0.07992306995340166,0.0739121010079217,0.06835321364144753,0.06321240705378701,0.05845823762572465,0.0540616265948847,0.04999568219618415,0.04623553517900168,0.042758186695007465,0.03954236762626328,0.03656840849317689],\"type\":\"scatter\",\"marker\":{\"size\":8}}],                        {\"template\":{\"data\":{\"histogram2dcontour\":[{\"type\":\"histogram2dcontour\",\"colorbar\":{\"outlinewidth\":0,\"ticks\":\"\"},\"colorscale\":[[0.0,\"#0d0887\"],[0.1111111111111111,\"#46039f\"],[0.2222222222222222,\"#7201a8\"],[0.3333333333333333,\"#9c179e\"],[0.4444444444444444,\"#bd3786\"],[0.5555555555555556,\"#d8576b\"],[0.6666666666666666,\"#ed7953\"],[0.7777777777777778,\"#fb9f3a\"],[0.8888888888888888,\"#fdca26\"],[1.0,\"#f0f921\"]]}],\"choropleth\":[{\"type\":\"choropleth\",\"colorbar\":{\"outlinewidth\":0,\"ticks\":\"\"}}],\"histogram2d\":[{\"type\":\"histogram2d\",\"colorbar\":{\"outlinewidth\":0,\"ticks\":\"\"},\"colorscale\":[[0.0,\"#0d0887\"],[0.1111111111111111,\"#46039f\"],[0.2222222222222222,\"#7201a8\"],[0.3333333333333333,\"#9c179e\"],[0.4444444444444444,\"#bd3786\"],[0.5555555555555556,\"#d8576b\"],[0.6666666666666666,\"#ed7953\"],[0.7777777777777778,\"#fb9f3a\"],[0.8888888888888888,\"#fdca26\"],[1.0,\"#f0f921\"]]}],\"heatmap\":[{\"type\":\"heatmap\",\"colorbar\":{\"outlinewidth\":0,\"ticks\":\"\"},\"colorscale\":[[0.0,\"#0d0887\"],[0.1111111111111111,\"#46039f\"],[0.2222222222222222,\"#7201a8\"],[0.3333333333333333,\"#9c179e\"],[0.4444444444444444,\"#bd3786\"],[0.5555555555555556,\"#d8576b\"],[0.6666666666666666,\"#ed7953\"],[0.7777777777777778,\"#fb9f3a\"],[0.8888888888888888,\"#fdca26\"],[1.0,\"#f0f921\"]]}],\"heatmapgl\":[{\"type\":\"heatmapgl\",\"colorbar\":{\"outlinewidth\":0,\"ticks\":\"\"},\"colorscale\":[[0.0,\"#0d0887\"],[0.1111111111111111,\"#46039f\"],[0.2222222222222222,\"#7201a8\"],[0.3333333333333333,\"#9c179e\"],[0.4444444444444444,\"#bd3786\"],[0.5555555555555556,\"#d8576b\"],[0.6666666666666666,\"#ed7953\"],[0.7777777777777778,\"#fb9f3a\"],[0.8888888888888888,\"#fdca26\"],[1.0,\"#f0f921\"]]}],\"contourcarpet\":[{\"type\":\"contourcarpet\",\"colorbar\":{\"outlinewidth\":0,\"ticks\":\"\"}}],\"contour\":[{\"type\":\"contour\",\"colorbar\":{\"outlinewidth\":0,\"ticks\":\"\"},\"colorscale\":[[0.0,\"#0d0887\"],[0.1111111111111111,\"#46039f\"],[0.2222222222222222,\"#7201a8\"],[0.3333333333333333,\"#9c179e\"],[0.4444444444444444,\"#bd3786\"],[0.5555555555555556,\"#d8576b\"],[0.6666666666666666,\"#ed7953\"],[0.7777777777777778,\"#fb9f3a\"],[0.8888888888888888,\"#fdca26\"],[1.0,\"#f0f921\"]]}],\"surface\":[{\"type\":\"surface\",\"colorbar\":{\"outlinewidth\":0,\"ticks\":\"\"},\"colorscale\":[[0.0,\"#0d0887\"],[0.1111111111111111,\"#46039f\"],[0.2222222222222222,\"#7201a8\"],[0.3333333333333333,\"#9c179e\"],[0.4444444444444444,\"#bd3786\"],[0.5555555555555556,\"#d8576b\"],[0.6666666666666666,\"#ed7953\"],[0.7777777777777778,\"#fb9f3a\"],[0.8888888888888888,\"#fdca26\"],[1.0,\"#f0f921\"]]}],\"mesh3d\":[{\"type\":\"mesh3d\",\"colorbar\":{\"outlinewidth\":0,\"ticks\":\"\"}}],\"scatter\":[{\"fillpattern\":{\"fillmode\":\"overlay\",\"size\":10,\"solidity\":0.2},\"type\":\"scatter\"}],\"parcoords\":[{\"type\":\"parcoords\",\"line\":{\"colorbar\":{\"outlinewidth\":0,\"ticks\":\"\"}}}],\"scatterpolargl\":[{\"type\":\"scatterpolargl\",\"marker\":{\"colorbar\":{\"outlinewidth\":0,\"ticks\":\"\"}}}],\"bar\":[{\"error_x\":{\"color\":\"#2a3f5f\"},\"error_y\":{\"color\":\"#2a3f5f\"},\"marker\":{\"line\":{\"color\":\"#E5ECF6\",\"width\":0.5},\"pattern\":{\"fillmode\":\"overlay\",\"size\":10,\"solidity\":0.2}},\"type\":\"bar\"}],\"scattergeo\":[{\"type\":\"scattergeo\",\"marker\":{\"colorbar\":{\"outlinewidth\":0,\"ticks\":\"\"}}}],\"scatterpolar\":[{\"type\":\"scatterpolar\",\"marker\":{\"colorbar\":{\"outlinewidth\":0,\"ticks\":\"\"}}}],\"histogram\":[{\"marker\":{\"pattern\":{\"fillmode\":\"overlay\",\"size\":10,\"solidity\":0.2}},\"type\":\"histogram\"}],\"scattergl\":[{\"type\":\"scattergl\",\"marker\":{\"colorbar\":{\"outlinewidth\":0,\"ticks\":\"\"}}}],\"scatter3d\":[{\"type\":\"scatter3d\",\"line\":{\"colorbar\":{\"outlinewidth\":0,\"ticks\":\"\"}},\"marker\":{\"colorbar\":{\"outlinewidth\":0,\"ticks\":\"\"}}}],\"scattermapbox\":[{\"type\":\"scattermapbox\",\"marker\":{\"colorbar\":{\"outlinewidth\":0,\"ticks\":\"\"}}}],\"scatterternary\":[{\"type\":\"scatterternary\",\"marker\":{\"colorbar\":{\"outlinewidth\":0,\"ticks\":\"\"}}}],\"scattercarpet\":[{\"type\":\"scattercarpet\",\"marker\":{\"colorbar\":{\"outlinewidth\":0,\"ticks\":\"\"}}}],\"carpet\":[{\"aaxis\":{\"endlinecolor\":\"#2a3f5f\",\"gridcolor\":\"white\",\"linecolor\":\"white\",\"minorgridcolor\":\"white\",\"startlinecolor\":\"#2a3f5f\"},\"baxis\":{\"endlinecolor\":\"#2a3f5f\",\"gridcolor\":\"white\",\"linecolor\":\"white\",\"minorgridcolor\":\"white\",\"startlinecolor\":\"#2a3f5f\"},\"type\":\"carpet\"}],\"table\":[{\"cells\":{\"fill\":{\"color\":\"#EBF0F8\"},\"line\":{\"color\":\"white\"}},\"header\":{\"fill\":{\"color\":\"#C8D4E3\"},\"line\":{\"color\":\"white\"}},\"type\":\"table\"}],\"barpolar\":[{\"marker\":{\"line\":{\"color\":\"#E5ECF6\",\"width\":0.5},\"pattern\":{\"fillmode\":\"overlay\",\"size\":10,\"solidity\":0.2}},\"type\":\"barpolar\"}],\"pie\":[{\"automargin\":true,\"type\":\"pie\"}]},\"layout\":{\"autotypenumbers\":\"strict\",\"colorway\":[\"#636efa\",\"#EF553B\",\"#00cc96\",\"#ab63fa\",\"#FFA15A\",\"#19d3f3\",\"#FF6692\",\"#B6E880\",\"#FF97FF\",\"#FECB52\"],\"font\":{\"color\":\"#2a3f5f\"},\"hovermode\":\"closest\",\"hoverlabel\":{\"align\":\"left\"},\"paper_bgcolor\":\"white\",\"plot_bgcolor\":\"#E5ECF6\",\"polar\":{\"bgcolor\":\"#E5ECF6\",\"angularaxis\":{\"gridcolor\":\"white\",\"linecolor\":\"white\",\"ticks\":\"\"},\"radialaxis\":{\"gridcolor\":\"white\",\"linecolor\":\"white\",\"ticks\":\"\"}},\"ternary\":{\"bgcolor\":\"#E5ECF6\",\"aaxis\":{\"gridcolor\":\"white\",\"linecolor\":\"white\",\"ticks\":\"\"},\"baxis\":{\"gridcolor\":\"white\",\"linecolor\":\"white\",\"ticks\":\"\"},\"caxis\":{\"gridcolor\":\"white\",\"linecolor\":\"white\",\"ticks\":\"\"}},\"coloraxis\":{\"colorbar\":{\"outlinewidth\":0,\"ticks\":\"\"}},\"colorscale\":{\"sequential\":[[0.0,\"#0d0887\"],[0.1111111111111111,\"#46039f\"],[0.2222222222222222,\"#7201a8\"],[0.3333333333333333,\"#9c179e\"],[0.4444444444444444,\"#bd3786\"],[0.5555555555555556,\"#d8576b\"],[0.6666666666666666,\"#ed7953\"],[0.7777777777777778,\"#fb9f3a\"],[0.8888888888888888,\"#fdca26\"],[1.0,\"#f0f921\"]],\"sequentialminus\":[[0.0,\"#0d0887\"],[0.1111111111111111,\"#46039f\"],[0.2222222222222222,\"#7201a8\"],[0.3333333333333333,\"#9c179e\"],[0.4444444444444444,\"#bd3786\"],[0.5555555555555556,\"#d8576b\"],[0.6666666666666666,\"#ed7953\"],[0.7777777777777778,\"#fb9f3a\"],[0.8888888888888888,\"#fdca26\"],[1.0,\"#f0f921\"]],\"diverging\":[[0,\"#8e0152\"],[0.1,\"#c51b7d\"],[0.2,\"#de77ae\"],[0.3,\"#f1b6da\"],[0.4,\"#fde0ef\"],[0.5,\"#f7f7f7\"],[0.6,\"#e6f5d0\"],[0.7,\"#b8e186\"],[0.8,\"#7fbc41\"],[0.9,\"#4d9221\"],[1,\"#276419\"]]},\"xaxis\":{\"gridcolor\":\"white\",\"linecolor\":\"white\",\"ticks\":\"\",\"title\":{\"standoff\":15},\"zerolinecolor\":\"white\",\"automargin\":true,\"zerolinewidth\":2},\"yaxis\":{\"gridcolor\":\"white\",\"linecolor\":\"white\",\"ticks\":\"\",\"title\":{\"standoff\":15},\"zerolinecolor\":\"white\",\"automargin\":true,\"zerolinewidth\":2},\"scene\":{\"xaxis\":{\"backgroundcolor\":\"#E5ECF6\",\"gridcolor\":\"white\",\"linecolor\":\"white\",\"showbackground\":true,\"ticks\":\"\",\"zerolinecolor\":\"white\",\"gridwidth\":2},\"yaxis\":{\"backgroundcolor\":\"#E5ECF6\",\"gridcolor\":\"white\",\"linecolor\":\"white\",\"showbackground\":true,\"ticks\":\"\",\"zerolinecolor\":\"white\",\"gridwidth\":2},\"zaxis\":{\"backgroundcolor\":\"#E5ECF6\",\"gridcolor\":\"white\",\"linecolor\":\"white\",\"showbackground\":true,\"ticks\":\"\",\"zerolinecolor\":\"white\",\"gridwidth\":2}},\"shapedefaults\":{\"line\":{\"color\":\"#2a3f5f\"}},\"annotationdefaults\":{\"arrowcolor\":\"#2a3f5f\",\"arrowhead\":0,\"arrowwidth\":1},\"geo\":{\"bgcolor\":\"white\",\"landcolor\":\"#E5ECF6\",\"subunitcolor\":\"white\",\"showland\":true,\"showlakes\":true,\"lakecolor\":\"white\"},\"title\":{\"x\":0.05},\"mapbox\":{\"style\":\"light\"}}},\"legend\":{\"yanchor\":\"top\",\"y\":0.99,\"xanchor\":\"right\",\"x\":1,\"bgcolor\":\"RGBA(255,255,255,0.4)\"},\"margin\":{\"l\":50,\"b\":10,\"t\":10,\"r\":40},\"width\":400,\"height\":400,\"xaxis\":{\"title\":{\"text\":\"Year\"}},\"yaxis\":{\"title\":{\"text\":\"CO\\u2082 intensity (kg\\u002fkWh)\"}}},                        {\"responsive\": true}                    ).then(function(){\n",
       "                            \n",
       "var gd = document.getElementById('a603d3d1-d4c7-49b0-8626-86afa71bc6dc');\n",
       "var x = new MutationObserver(function (mutations, observer) {{\n",
       "        var display = window.getComputedStyle(gd).display;\n",
       "        if (!display || display === 'none') {{\n",
       "            console.log([gd, 'removed!']);\n",
       "            Plotly.purge(gd);\n",
       "            observer.disconnect();\n",
       "        }}\n",
       "}});\n",
       "\n",
       "// Listen for the removal of the full notebook cells\n",
       "var notebookContainer = gd.closest('#notebook-container');\n",
       "if (notebookContainer) {{\n",
       "    x.observe(notebookContainer, {childList: true});\n",
       "}}\n",
       "\n",
       "// Listen for the clearing of the current output cell\n",
       "var outputEl = gd.closest('.output');\n",
       "if (outputEl) {{\n",
       "    x.observe(outputEl, {childList: true});\n",
       "}}\n",
       "\n",
       "                        })                };                });            </script>        </div>"
      ]
     },
     "metadata": {},
     "output_type": "display_data"
    }
   ],
   "source": [
    "fig.show()"
   ]
  },
  {
   "cell_type": "code",
   "execution_count": 30,
   "metadata": {},
   "outputs": [
    {
     "data": {
      "text/plain": [
       "array([0.17813384, 0.16992409, 0.1620927 , 0.15462225, 0.14749609,\n",
       "       0.14069836, 0.13421392, 0.12802833, 0.12212782, 0.11649925,\n",
       "       0.11113008, 0.10600837, 0.10112271, 0.09646221, 0.0920165 ,\n",
       "       0.08777569, 0.08373032, 0.0798714 , 0.07619032, 0.0726789 ,\n",
       "       0.06932931])"
      ]
     },
     "execution_count": 30,
     "metadata": {},
     "output_type": "execute_result"
    }
   ],
   "source": [
    "y_fit_central"
   ]
  },
  {
   "cell_type": "code",
   "execution_count": 12,
   "metadata": {},
   "outputs": [],
   "source": [
    "# # Convert dictionary to arrays\n",
    "# years = np.array(list(ELEC_CO2_INTENSITY.keys()))\n",
    "# central_scenario = np.array(list(ELEC_CO2_INTENSITY.values()))\n",
    "# electrification_scenario = np.array(list(ELEC_CO2_INTENSITY_ELECTRIFICATION.values()))\n",
    "\n",
    "# # Exponential decay function\n",
    "# def exp_decay(x, a, b):\n",
    "#     return a * np.exp(b * x)\n",
    "\n",
    "# # Fit the central scenario data\n",
    "# popt_central, pcov_central = curve_fit(exp_decay, years - 2020, central_scenario, p0=(0.171, -0.1))\n",
    "# a_central, b_central = popt_central\n",
    "\n",
    "# # Fit the electrification scenario data\n",
    "# popt_electrification, pcov_electrification = curve_fit(exp_decay, years - 2020, electrification_scenario, p0=(0.171, -0.1))\n",
    "# a_electrification, b_electrification = popt_electrification\n",
    "\n",
    "# # Generate data for plotting\n",
    "# x_fit = np.linspace(2020, 2040, 21)\n",
    "# y_fit_central = exp_decay(x_fit - 2020, *popt_central)\n",
    "# y_fit_electrification = exp_decay(x_fit - 2020, *popt_electrification)\n",
    "# Plot the data and the fit\n",
    "# fig = plt.figure(figsize=(10, 6))\n",
    "# plt.plot(years, central_scenario, 'o', label='Central Scenario Data')\n",
    "# plt.plot(x_fit, y_fit_central, '-', label=f'Central Scenario Fit: a={a_central:.3f}, b={b_central:.3f}')\n",
    "# plt.plot(years, electrification_scenario, 'o', label='Electrification Scenario Data')\n",
    "# plt.plot(x_fit, y_fit_electrification, '-', label=f'Electrification Scenario Fit: a={a_electrification:.3f}, b={b_electrification:.3f}')\n",
    "# plt.xlabel('Year')\n",
    "# plt.ylabel('CO2 Intensity (kg/kWh)')\n",
    "# plt.title('CO2 Intensity Projections until 2040')\n",
    "# plt.legend()\n",
    "# plt.grid(True)\n",
    "# plt.show()\n"
   ]
  },
  {
   "cell_type": "code",
   "execution_count": 13,
   "metadata": {},
   "outputs": [
    {
     "name": "stdout",
     "output_type": "stream",
     "text": [
      "2025 0.14069835834222524\n",
      "2026 0.13421391714875425\n",
      "2027 0.12802832789703306\n",
      "2028 0.12212781723629437\n",
      "2029 0.1164992465956229\n",
      "2030 0.11113008292851366\n",
      "2031 0.1060083708057416\n",
      "2032 0.10112270579440223\n",
      "2033 0.09646220906384673\n",
      "2034 0.092016503161967\n",
      "2035 0.08777568890789235\n",
      "2036 0.08373032334964464\n",
      "2037 0.07987139873767113\n",
      "2038 0.07619032246743532\n",
      "2039 0.07267889794640446\n",
      "2040 0.06932930634283063\n"
     ]
    }
   ],
   "source": [
    "df = dynamic_co2(df, x_fit, y_fit_central, start_year = 2025)"
   ]
  },
  {
   "cell_type": "code",
   "execution_count": 14,
   "metadata": {},
   "outputs": [
    {
     "data": {
      "text/html": [
       "<div>\n",
       "<style scoped>\n",
       "    .dataframe tbody tr th:only-of-type {\n",
       "        vertical-align: middle;\n",
       "    }\n",
       "\n",
       "    .dataframe tbody tr th {\n",
       "        vertical-align: top;\n",
       "    }\n",
       "\n",
       "    .dataframe thead th {\n",
       "        text-align: right;\n",
       "    }\n",
       "</style>\n",
       "<table border=\"1\" class=\"dataframe\">\n",
       "  <thead>\n",
       "    <tr style=\"text-align: right;\">\n",
       "      <th></th>\n",
       "      <th>electricity_consumption</th>\n",
       "      <th>gas_consumption</th>\n",
       "      <th>total_co2</th>\n",
       "      <th>pv_production</th>\n",
       "      <th>oil_consumption</th>\n",
       "      <th>heating_consumption</th>\n",
       "      <th>domestic_hot_water_consumption</th>\n",
       "      <th>total_emissions</th>\n",
       "    </tr>\n",
       "  </thead>\n",
       "  <tbody>\n",
       "    <tr>\n",
       "      <th>0</th>\n",
       "      <td>1763</td>\n",
       "      <td>11959</td>\n",
       "      <td>2712.4074</td>\n",
       "      <td>0</td>\n",
       "      <td>0</td>\n",
       "      <td>8803</td>\n",
       "      <td>3155</td>\n",
       "      <td>41427.278969</td>\n",
       "    </tr>\n",
       "    <tr>\n",
       "      <th>1</th>\n",
       "      <td>1222</td>\n",
       "      <td>11959</td>\n",
       "      <td>2425.8114</td>\n",
       "      <td>1676</td>\n",
       "      <td>0</td>\n",
       "      <td>8803</td>\n",
       "      <td>3155</td>\n",
       "      <td>38715.706262</td>\n",
       "    </tr>\n",
       "    <tr>\n",
       "      <th>2</th>\n",
       "      <td>1000</td>\n",
       "      <td>11959</td>\n",
       "      <td>2180.2554</td>\n",
       "      <td>3112</td>\n",
       "      <td>0</td>\n",
       "      <td>8803</td>\n",
       "      <td>3155</td>\n",
       "      <td>36392.425590</td>\n",
       "    </tr>\n",
       "    <tr>\n",
       "      <th>3</th>\n",
       "      <td>1270</td>\n",
       "      <td>11959</td>\n",
       "      <td>2180.2554</td>\n",
       "      <td>3112</td>\n",
       "      <td>0</td>\n",
       "      <td>8803</td>\n",
       "      <td>3155</td>\n",
       "      <td>36392.425590</td>\n",
       "    </tr>\n",
       "    <tr>\n",
       "      <th>4</th>\n",
       "      <td>1329</td>\n",
       "      <td>11959</td>\n",
       "      <td>2425.8114</td>\n",
       "      <td>1676</td>\n",
       "      <td>0</td>\n",
       "      <td>8803</td>\n",
       "      <td>3155</td>\n",
       "      <td>38715.706262</td>\n",
       "    </tr>\n",
       "    <tr>\n",
       "      <th>...</th>\n",
       "      <td>...</td>\n",
       "      <td>...</td>\n",
       "      <td>...</td>\n",
       "      <td>...</td>\n",
       "      <td>...</td>\n",
       "      <td>...</td>\n",
       "      <td>...</td>\n",
       "      <td>...</td>\n",
       "    </tr>\n",
       "    <tr>\n",
       "      <th>676355</th>\n",
       "      <td>3289</td>\n",
       "      <td>0</td>\n",
       "      <td>-126.1980</td>\n",
       "      <td>4787</td>\n",
       "      <td>0</td>\n",
       "      <td>1491</td>\n",
       "      <td>1275</td>\n",
       "      <td>-1193.998006</td>\n",
       "    </tr>\n",
       "    <tr>\n",
       "      <th>676356</th>\n",
       "      <td>3808</td>\n",
       "      <td>0</td>\n",
       "      <td>-505.4760</td>\n",
       "      <td>7899</td>\n",
       "      <td>0</td>\n",
       "      <td>1491</td>\n",
       "      <td>1275</td>\n",
       "      <td>-4782.463557</td>\n",
       "    </tr>\n",
       "    <tr>\n",
       "      <th>676357</th>\n",
       "      <td>4189</td>\n",
       "      <td>0</td>\n",
       "      <td>-505.4760</td>\n",
       "      <td>7899</td>\n",
       "      <td>0</td>\n",
       "      <td>1491</td>\n",
       "      <td>1275</td>\n",
       "      <td>-4782.463557</td>\n",
       "    </tr>\n",
       "    <tr>\n",
       "      <th>676358</th>\n",
       "      <td>2896</td>\n",
       "      <td>0</td>\n",
       "      <td>-126.1980</td>\n",
       "      <td>4787</td>\n",
       "      <td>0</td>\n",
       "      <td>1491</td>\n",
       "      <td>1275</td>\n",
       "      <td>-1193.998006</td>\n",
       "    </tr>\n",
       "    <tr>\n",
       "      <th>676359</th>\n",
       "      <td>3808</td>\n",
       "      <td>0</td>\n",
       "      <td>-505.4760</td>\n",
       "      <td>7899</td>\n",
       "      <td>0</td>\n",
       "      <td>1491</td>\n",
       "      <td>1275</td>\n",
       "      <td>-4782.463557</td>\n",
       "    </tr>\n",
       "  </tbody>\n",
       "</table>\n",
       "<p>676360 rows × 8 columns</p>\n",
       "</div>"
      ],
      "text/plain": [
       "        electricity_consumption  gas_consumption  total_co2  pv_production  \\\n",
       "0                          1763            11959  2712.4074              0   \n",
       "1                          1222            11959  2425.8114           1676   \n",
       "2                          1000            11959  2180.2554           3112   \n",
       "3                          1270            11959  2180.2554           3112   \n",
       "4                          1329            11959  2425.8114           1676   \n",
       "...                         ...              ...        ...            ...   \n",
       "676355                     3289                0  -126.1980           4787   \n",
       "676356                     3808                0  -505.4760           7899   \n",
       "676357                     4189                0  -505.4760           7899   \n",
       "676358                     2896                0  -126.1980           4787   \n",
       "676359                     3808                0  -505.4760           7899   \n",
       "\n",
       "        oil_consumption  heating_consumption  domestic_hot_water_consumption  \\\n",
       "0                     0                 8803                            3155   \n",
       "1                     0                 8803                            3155   \n",
       "2                     0                 8803                            3155   \n",
       "3                     0                 8803                            3155   \n",
       "4                     0                 8803                            3155   \n",
       "...                 ...                  ...                             ...   \n",
       "676355                0                 1491                            1275   \n",
       "676356                0                 1491                            1275   \n",
       "676357                0                 1491                            1275   \n",
       "676358                0                 1491                            1275   \n",
       "676359                0                 1491                            1275   \n",
       "\n",
       "        total_emissions  \n",
       "0          41427.278969  \n",
       "1          38715.706262  \n",
       "2          36392.425590  \n",
       "3          36392.425590  \n",
       "4          38715.706262  \n",
       "...                 ...  \n",
       "676355     -1193.998006  \n",
       "676356     -4782.463557  \n",
       "676357     -4782.463557  \n",
       "676358     -1193.998006  \n",
       "676359     -4782.463557  \n",
       "\n",
       "[676360 rows x 8 columns]"
      ]
     },
     "execution_count": 14,
     "metadata": {},
     "output_type": "execute_result"
    }
   ],
   "source": [
    "df[['electricity_consumption', 'gas_consumption', 'total_co2', 'pv_production', 'oil_consumption', 'heating_consumption', 'domestic_hot_water_consumption',  'total_emissions']]"
   ]
  },
  {
   "cell_type": "code",
   "execution_count": 15,
   "metadata": {},
   "outputs": [],
   "source": [
    "testcase = df[df.epc_ind <= 100].sort_values(by = 'tco', ascending = True).drop_duplicates(subset = 'name', keep = 'first')\n",
    "testcase = testcase[testcase.name == 'type_0']"
   ]
  },
  {
   "cell_type": "code",
   "execution_count": 16,
   "metadata": {},
   "outputs": [
    {
     "data": {
      "text/plain": [
       "array([  780.885,  1561.77 ,  2342.655,  3123.54 ,  3904.425,  4685.31 ,\n",
       "        5466.195,  6247.08 ,  7027.965,  7808.85 ,  8589.735,  9370.62 ,\n",
       "       10151.505, 10932.39 , 11713.275, 12494.16 ])"
      ]
     },
     "execution_count": 16,
     "metadata": {},
     "output_type": "execute_result"
    }
   ],
   "source": [
    "testcase['total_co2'].values * np.array([1 for i in range(16)]).cumsum()"
   ]
  },
  {
   "cell_type": "code",
   "execution_count": 17,
   "metadata": {},
   "outputs": [],
   "source": [
    "testcase = df[(df.epc_ind<100) & (df.name == 'type_0')].sort_values(by = 'tco', ascending = False).drop_duplicates(subset = ['heating_system', 'dhw_system'], keep = 'first')"
   ]
  },
  {
   "cell_type": "code",
   "execution_count": 18,
   "metadata": {},
   "outputs": [
    {
     "data": {
      "text/html": [
       "<div>\n",
       "<style scoped>\n",
       "    .dataframe tbody tr th:only-of-type {\n",
       "        vertical-align: middle;\n",
       "    }\n",
       "\n",
       "    .dataframe tbody tr th {\n",
       "        vertical-align: top;\n",
       "    }\n",
       "\n",
       "    .dataframe thead th {\n",
       "        text-align: right;\n",
       "    }\n",
       "</style>\n",
       "<table border=\"1\" class=\"dataframe\">\n",
       "  <thead>\n",
       "    <tr style=\"text-align: right;\">\n",
       "      <th></th>\n",
       "      <th>electricity_consumption</th>\n",
       "      <th>gas_consumption</th>\n",
       "      <th>total_co2</th>\n",
       "      <th>pv_production</th>\n",
       "      <th>oil_consumption</th>\n",
       "      <th>heating_consumption</th>\n",
       "      <th>domestic_hot_water_consumption</th>\n",
       "      <th>total_emissions</th>\n",
       "      <th>heating_system</th>\n",
       "      <th>dhw_system</th>\n",
       "      <th>scenario_name</th>\n",
       "    </tr>\n",
       "  </thead>\n",
       "  <tbody>\n",
       "    <tr>\n",
       "      <th>3162</th>\n",
       "      <td>2763</td>\n",
       "      <td>0</td>\n",
       "      <td>78.6600</td>\n",
       "      <td>3112</td>\n",
       "      <td>0</td>\n",
       "      <td>533</td>\n",
       "      <td>1275</td>\n",
       "      <td>744.226399</td>\n",
       "      <td>Heat Pump</td>\n",
       "      <td>HP Boiler</td>\n",
       "      <td>Triple glass, incl. frame + Internal wall insu...</td>\n",
       "    </tr>\n",
       "    <tr>\n",
       "      <th>2245</th>\n",
       "      <td>1488</td>\n",
       "      <td>3155</td>\n",
       "      <td>496.6830</td>\n",
       "      <td>3112</td>\n",
       "      <td>0</td>\n",
       "      <td>533</td>\n",
       "      <td>3155</td>\n",
       "      <td>8858.192966</td>\n",
       "      <td>Heat Pump</td>\n",
       "      <td>Gasboiler</td>\n",
       "      <td>Triple glass, incl. frame + Internal wall insu...</td>\n",
       "    </tr>\n",
       "    <tr>\n",
       "      <th>3153</th>\n",
       "      <td>2298</td>\n",
       "      <td>2918</td>\n",
       "      <td>616.8258</td>\n",
       "      <td>2872</td>\n",
       "      <td>0</td>\n",
       "      <td>2918</td>\n",
       "      <td>1275</td>\n",
       "      <td>9682.487341</td>\n",
       "      <td>Gasboiler</td>\n",
       "      <td>HP Boiler</td>\n",
       "      <td>Triple glass, incl. frame + Internal wall insu...</td>\n",
       "    </tr>\n",
       "    <tr>\n",
       "      <th>2161</th>\n",
       "      <td>1000</td>\n",
       "      <td>6074</td>\n",
       "      <td>993.8394</td>\n",
       "      <td>3112</td>\n",
       "      <td>0</td>\n",
       "      <td>2918</td>\n",
       "      <td>3155</td>\n",
       "      <td>17409.769590</td>\n",
       "      <td>Gasboiler</td>\n",
       "      <td>Gasboiler</td>\n",
       "      <td>Triple glass, incl. frame + Internal wall insu...</td>\n",
       "    </tr>\n",
       "  </tbody>\n",
       "</table>\n",
       "</div>"
      ],
      "text/plain": [
       "      electricity_consumption  gas_consumption  total_co2  pv_production  \\\n",
       "3162                     2763                0    78.6600           3112   \n",
       "2245                     1488             3155   496.6830           3112   \n",
       "3153                     2298             2918   616.8258           2872   \n",
       "2161                     1000             6074   993.8394           3112   \n",
       "\n",
       "      oil_consumption  heating_consumption  domestic_hot_water_consumption  \\\n",
       "3162                0                  533                            1275   \n",
       "2245                0                  533                            3155   \n",
       "3153                0                 2918                            1275   \n",
       "2161                0                 2918                            3155   \n",
       "\n",
       "      total_emissions heating_system dhw_system  \\\n",
       "3162       744.226399      Heat Pump  HP Boiler   \n",
       "2245      8858.192966      Heat Pump  Gasboiler   \n",
       "3153      9682.487341      Gasboiler  HP Boiler   \n",
       "2161     17409.769590      Gasboiler  Gasboiler   \n",
       "\n",
       "                                          scenario_name  \n",
       "3162  Triple glass, incl. frame + Internal wall insu...  \n",
       "2245  Triple glass, incl. frame + Internal wall insu...  \n",
       "3153  Triple glass, incl. frame + Internal wall insu...  \n",
       "2161  Triple glass, incl. frame + Internal wall insu...  "
      ]
     },
     "execution_count": 18,
     "metadata": {},
     "output_type": "execute_result"
    }
   ],
   "source": [
    "testcase[['electricity_consumption', 'gas_consumption', 'total_co2', 'pv_production', 'oil_consumption', 'heating_consumption', 'domestic_hot_water_consumption',  'total_emissions', 'heating_system', 'dhw_system', 'scenario_name']]"
   ]
  },
  {
   "cell_type": "code",
   "execution_count": 19,
   "metadata": {},
   "outputs": [],
   "source": [
    "# split_scenarios = df['scenario_name'].str.split('+')\n",
    "# all_entries = list(split_scenarios.values.flatten())\n",
    "#set([item.strip() for sublist in all_entries for item in sublist])"
   ]
  },
  {
   "cell_type": "code",
   "execution_count": 20,
   "metadata": {},
   "outputs": [
    {
     "data": {
      "text/html": [
       "<div>\n",
       "<style scoped>\n",
       "    .dataframe tbody tr th:only-of-type {\n",
       "        vertical-align: middle;\n",
       "    }\n",
       "\n",
       "    .dataframe tbody tr th {\n",
       "        vertical-align: top;\n",
       "    }\n",
       "\n",
       "    .dataframe thead th {\n",
       "        text-align: right;\n",
       "    }\n",
       "</style>\n",
       "<table border=\"1\" class=\"dataframe\">\n",
       "  <thead>\n",
       "    <tr style=\"text-align: right;\">\n",
       "      <th></th>\n",
       "      <th>electricity_consumption</th>\n",
       "      <th>gas_consumption</th>\n",
       "      <th>total_co2</th>\n",
       "      <th>pv_production</th>\n",
       "      <th>oil_consumption</th>\n",
       "      <th>heating_consumption</th>\n",
       "      <th>domestic_hot_water_consumption</th>\n",
       "      <th>total_emissions</th>\n",
       "      <th>heating_system</th>\n",
       "      <th>scenario_name</th>\n",
       "    </tr>\n",
       "  </thead>\n",
       "  <tbody>\n",
       "    <tr>\n",
       "      <th>17</th>\n",
       "      <td>3284</td>\n",
       "      <td>3155</td>\n",
       "      <td>1197.612</td>\n",
       "      <td>0</td>\n",
       "      <td>0</td>\n",
       "      <td>1520</td>\n",
       "      <td>3155</td>\n",
       "      <td>15489.897338</td>\n",
       "      <td>Heat Pump</td>\n",
       "      <td>Air-water HP - no floor heating</td>\n",
       "    </tr>\n",
       "    <tr>\n",
       "      <th>18</th>\n",
       "      <td>3206</td>\n",
       "      <td>3155</td>\n",
       "      <td>1184.274</td>\n",
       "      <td>0</td>\n",
       "      <td>0</td>\n",
       "      <td>1442</td>\n",
       "      <td>3155</td>\n",
       "      <td>15363.702426</td>\n",
       "      <td>Heat Pump</td>\n",
       "      <td>Air-water HP - floor heating</td>\n",
       "    </tr>\n",
       "    <tr>\n",
       "      <th>49</th>\n",
       "      <td>3203</td>\n",
       "      <td>3155</td>\n",
       "      <td>1183.761</td>\n",
       "      <td>0</td>\n",
       "      <td>0</td>\n",
       "      <td>1440</td>\n",
       "      <td>3155</td>\n",
       "      <td>15358.848776</td>\n",
       "      <td>Heat Pump</td>\n",
       "      <td>Double glass, incl. frame + Air-water HP - no ...</td>\n",
       "    </tr>\n",
       "    <tr>\n",
       "      <th>57</th>\n",
       "      <td>3036</td>\n",
       "      <td>3155</td>\n",
       "      <td>1155.204</td>\n",
       "      <td>0</td>\n",
       "      <td>0</td>\n",
       "      <td>1272</td>\n",
       "      <td>3155</td>\n",
       "      <td>15088.662235</td>\n",
       "      <td>Heat Pump</td>\n",
       "      <td>Double glass, incl. frame + Ground-water warmt...</td>\n",
       "    </tr>\n",
       "    <tr>\n",
       "      <th>59</th>\n",
       "      <td>3129</td>\n",
       "      <td>3155</td>\n",
       "      <td>1171.107</td>\n",
       "      <td>0</td>\n",
       "      <td>0</td>\n",
       "      <td>1366</td>\n",
       "      <td>3155</td>\n",
       "      <td>15239.125399</td>\n",
       "      <td>Heat Pump</td>\n",
       "      <td>Double glass, incl. frame + Air-water HP - flo...</td>\n",
       "    </tr>\n",
       "    <tr>\n",
       "      <th>...</th>\n",
       "      <td>...</td>\n",
       "      <td>...</td>\n",
       "      <td>...</td>\n",
       "      <td>...</td>\n",
       "      <td>...</td>\n",
       "      <td>...</td>\n",
       "      <td>...</td>\n",
       "      <td>...</td>\n",
       "      <td>...</td>\n",
       "      <td>...</td>\n",
       "    </tr>\n",
       "    <tr>\n",
       "      <th>675257</th>\n",
       "      <td>2532</td>\n",
       "      <td>3155</td>\n",
       "      <td>-87.624</td>\n",
       "      <td>7899</td>\n",
       "      <td>0</td>\n",
       "      <td>1491</td>\n",
       "      <td>3155</td>\n",
       "      <td>3329.885126</td>\n",
       "      <td>Heat Pump</td>\n",
       "      <td>Triple glass, incl. frame + Internal wall insu...</td>\n",
       "    </tr>\n",
       "    <tr>\n",
       "      <th>675258</th>\n",
       "      <td>1322</td>\n",
       "      <td>3155</td>\n",
       "      <td>368.604</td>\n",
       "      <td>3591</td>\n",
       "      <td>0</td>\n",
       "      <td>1491</td>\n",
       "      <td>3155</td>\n",
       "      <td>7646.398242</td>\n",
       "      <td>Heat Pump</td>\n",
       "      <td>Triple glass, incl. frame + Internal wall insu...</td>\n",
       "    </tr>\n",
       "    <tr>\n",
       "      <th>675259</th>\n",
       "      <td>2913</td>\n",
       "      <td>3155</td>\n",
       "      <td>-87.624</td>\n",
       "      <td>7899</td>\n",
       "      <td>0</td>\n",
       "      <td>1491</td>\n",
       "      <td>3155</td>\n",
       "      <td>3329.885126</td>\n",
       "      <td>Heat Pump</td>\n",
       "      <td>Triple glass, incl. frame + Internal wall insu...</td>\n",
       "    </tr>\n",
       "    <tr>\n",
       "      <th>675260</th>\n",
       "      <td>996</td>\n",
       "      <td>3155</td>\n",
       "      <td>368.604</td>\n",
       "      <td>3591</td>\n",
       "      <td>0</td>\n",
       "      <td>1491</td>\n",
       "      <td>3155</td>\n",
       "      <td>7646.398242</td>\n",
       "      <td>Heat Pump</td>\n",
       "      <td>Triple glass, incl. frame + Internal wall insu...</td>\n",
       "    </tr>\n",
       "    <tr>\n",
       "      <th>675261</th>\n",
       "      <td>2532</td>\n",
       "      <td>3155</td>\n",
       "      <td>-87.624</td>\n",
       "      <td>7899</td>\n",
       "      <td>0</td>\n",
       "      <td>1491</td>\n",
       "      <td>3155</td>\n",
       "      <td>3329.885126</td>\n",
       "      <td>Heat Pump</td>\n",
       "      <td>Triple glass, incl. frame + Internal wall insu...</td>\n",
       "    </tr>\n",
       "  </tbody>\n",
       "</table>\n",
       "<p>180020 rows × 10 columns</p>\n",
       "</div>"
      ],
      "text/plain": [
       "        electricity_consumption  gas_consumption  total_co2  pv_production  \\\n",
       "17                         3284             3155   1197.612              0   \n",
       "18                         3206             3155   1184.274              0   \n",
       "49                         3203             3155   1183.761              0   \n",
       "57                         3036             3155   1155.204              0   \n",
       "59                         3129             3155   1171.107              0   \n",
       "...                         ...              ...        ...            ...   \n",
       "675257                     2532             3155    -87.624           7899   \n",
       "675258                     1322             3155    368.604           3591   \n",
       "675259                     2913             3155    -87.624           7899   \n",
       "675260                      996             3155    368.604           3591   \n",
       "675261                     2532             3155    -87.624           7899   \n",
       "\n",
       "        oil_consumption  heating_consumption  domestic_hot_water_consumption  \\\n",
       "17                    0                 1520                            3155   \n",
       "18                    0                 1442                            3155   \n",
       "49                    0                 1440                            3155   \n",
       "57                    0                 1272                            3155   \n",
       "59                    0                 1366                            3155   \n",
       "...                 ...                  ...                             ...   \n",
       "675257                0                 1491                            3155   \n",
       "675258                0                 1491                            3155   \n",
       "675259                0                 1491                            3155   \n",
       "675260                0                 1491                            3155   \n",
       "675261                0                 1491                            3155   \n",
       "\n",
       "        total_emissions heating_system  \\\n",
       "17         15489.897338      Heat Pump   \n",
       "18         15363.702426      Heat Pump   \n",
       "49         15358.848776      Heat Pump   \n",
       "57         15088.662235      Heat Pump   \n",
       "59         15239.125399      Heat Pump   \n",
       "...                 ...            ...   \n",
       "675257      3329.885126      Heat Pump   \n",
       "675258      7646.398242      Heat Pump   \n",
       "675259      3329.885126      Heat Pump   \n",
       "675260      7646.398242      Heat Pump   \n",
       "675261      3329.885126      Heat Pump   \n",
       "\n",
       "                                            scenario_name  \n",
       "17                        Air-water HP - no floor heating  \n",
       "18                           Air-water HP - floor heating  \n",
       "49      Double glass, incl. frame + Air-water HP - no ...  \n",
       "57      Double glass, incl. frame + Ground-water warmt...  \n",
       "59      Double glass, incl. frame + Air-water HP - flo...  \n",
       "...                                                   ...  \n",
       "675257  Triple glass, incl. frame + Internal wall insu...  \n",
       "675258  Triple glass, incl. frame + Internal wall insu...  \n",
       "675259  Triple glass, incl. frame + Internal wall insu...  \n",
       "675260  Triple glass, incl. frame + Internal wall insu...  \n",
       "675261  Triple glass, incl. frame + Internal wall insu...  \n",
       "\n",
       "[180020 rows x 10 columns]"
      ]
     },
     "execution_count": 20,
     "metadata": {},
     "output_type": "execute_result"
    }
   ],
   "source": [
    "df[(df.heating_system == 'Heat Pump') & (df.gas_consumption > 0)][['electricity_consumption', 'gas_consumption', 'total_co2', 'pv_production', 'oil_consumption', 'heating_consumption', 'domestic_hot_water_consumption',  'total_emissions', 'heating_system', 'scenario_name']]"
   ]
  },
  {
   "cell_type": "code",
   "execution_count": 25,
   "metadata": {},
   "outputs": [
    {
     "data": {
      "text/html": [
       "<div>\n",
       "<style scoped>\n",
       "    .dataframe tbody tr th:only-of-type {\n",
       "        vertical-align: middle;\n",
       "    }\n",
       "\n",
       "    .dataframe tbody tr th {\n",
       "        vertical-align: top;\n",
       "    }\n",
       "\n",
       "    .dataframe thead th {\n",
       "        text-align: right;\n",
       "    }\n",
       "</style>\n",
       "<table border=\"1\" class=\"dataframe\">\n",
       "  <thead>\n",
       "    <tr style=\"text-align: right;\">\n",
       "      <th></th>\n",
       "      <th>electricity_consumption</th>\n",
       "      <th>electricity_injected</th>\n",
       "      <th>emissions_2025</th>\n",
       "      <th>emissions_2026</th>\n",
       "      <th>emissions_2027</th>\n",
       "      <th>gas_consumption</th>\n",
       "      <th>total_co2</th>\n",
       "      <th>pv_production</th>\n",
       "      <th>oil_consumption</th>\n",
       "      <th>heating_consumption</th>\n",
       "      <th>domestic_hot_water_consumption</th>\n",
       "      <th>total_emissions</th>\n",
       "      <th>heating_system</th>\n",
       "      <th>dhw_system</th>\n",
       "      <th>scenario_name</th>\n",
       "    </tr>\n",
       "  </thead>\n",
       "  <tbody>\n",
       "    <tr>\n",
       "      <th>3162</th>\n",
       "      <td>2763</td>\n",
       "      <td>2303</td>\n",
       "      <td>64.721245</td>\n",
       "      <td>61.738402</td>\n",
       "      <td>58.893031</td>\n",
       "      <td>0</td>\n",
       "      <td>78.6600</td>\n",
       "      <td>3112</td>\n",
       "      <td>0</td>\n",
       "      <td>533</td>\n",
       "      <td>1275</td>\n",
       "      <td>744.226399</td>\n",
       "      <td>Heat Pump</td>\n",
       "      <td>HP Boiler</td>\n",
       "      <td>Triple glass, incl. frame + Internal wall insu...</td>\n",
       "    </tr>\n",
       "    <tr>\n",
       "      <th>2245</th>\n",
       "      <td>1488</td>\n",
       "      <td>2303</td>\n",
       "      <td>521.378838</td>\n",
       "      <td>526.663658</td>\n",
       "      <td>531.704913</td>\n",
       "      <td>3155</td>\n",
       "      <td>496.6830</td>\n",
       "      <td>3112</td>\n",
       "      <td>0</td>\n",
       "      <td>533</td>\n",
       "      <td>3155</td>\n",
       "      <td>8858.192966</td>\n",
       "      <td>Heat Pump</td>\n",
       "      <td>Gasboiler</td>\n",
       "      <td>Triple glass, incl. frame + Internal wall insu...</td>\n",
       "    </tr>\n",
       "    <tr>\n",
       "      <th>3153</th>\n",
       "      <td>2298</td>\n",
       "      <td>2131</td>\n",
       "      <td>611.765426</td>\n",
       "      <td>610.682524</td>\n",
       "      <td>609.649531</td>\n",
       "      <td>2918</td>\n",
       "      <td>616.8258</td>\n",
       "      <td>2872</td>\n",
       "      <td>0</td>\n",
       "      <td>2918</td>\n",
       "      <td>1275</td>\n",
       "      <td>9682.487341</td>\n",
       "      <td>Gasboiler</td>\n",
       "      <td>HP Boiler</td>\n",
       "      <td>Triple glass, incl. frame + Internal wall insu...</td>\n",
       "    </tr>\n",
       "    <tr>\n",
       "      <th>2161</th>\n",
       "      <td>1000</td>\n",
       "      <td>2349</td>\n",
       "      <td>1034.716315</td>\n",
       "      <td>1043.463826</td>\n",
       "      <td>1051.808186</td>\n",
       "      <td>6074</td>\n",
       "      <td>993.8394</td>\n",
       "      <td>3112</td>\n",
       "      <td>0</td>\n",
       "      <td>2918</td>\n",
       "      <td>3155</td>\n",
       "      <td>17409.769590</td>\n",
       "      <td>Gasboiler</td>\n",
       "      <td>Gasboiler</td>\n",
       "      <td>Triple glass, incl. frame + Internal wall insu...</td>\n",
       "    </tr>\n",
       "  </tbody>\n",
       "</table>\n",
       "</div>"
      ],
      "text/plain": [
       "      electricity_consumption  electricity_injected  emissions_2025  \\\n",
       "3162                     2763                  2303       64.721245   \n",
       "2245                     1488                  2303      521.378838   \n",
       "3153                     2298                  2131      611.765426   \n",
       "2161                     1000                  2349     1034.716315   \n",
       "\n",
       "      emissions_2026  emissions_2027  gas_consumption  total_co2  \\\n",
       "3162       61.738402       58.893031                0    78.6600   \n",
       "2245      526.663658      531.704913             3155   496.6830   \n",
       "3153      610.682524      609.649531             2918   616.8258   \n",
       "2161     1043.463826     1051.808186             6074   993.8394   \n",
       "\n",
       "      pv_production  oil_consumption  heating_consumption  \\\n",
       "3162           3112                0                  533   \n",
       "2245           3112                0                  533   \n",
       "3153           2872                0                 2918   \n",
       "2161           3112                0                 2918   \n",
       "\n",
       "      domestic_hot_water_consumption  total_emissions heating_system  \\\n",
       "3162                            1275       744.226399      Heat Pump   \n",
       "2245                            3155      8858.192966      Heat Pump   \n",
       "3153                            1275      9682.487341      Gasboiler   \n",
       "2161                            3155     17409.769590      Gasboiler   \n",
       "\n",
       "     dhw_system                                      scenario_name  \n",
       "3162  HP Boiler  Triple glass, incl. frame + Internal wall insu...  \n",
       "2245  Gasboiler  Triple glass, incl. frame + Internal wall insu...  \n",
       "3153  HP Boiler  Triple glass, incl. frame + Internal wall insu...  \n",
       "2161  Gasboiler  Triple glass, incl. frame + Internal wall insu...  "
      ]
     },
     "execution_count": 25,
     "metadata": {},
     "output_type": "execute_result"
    }
   ],
   "source": [
    "testcase[['electricity_consumption', 'electricity_injected', 'emissions_2025', 'emissions_2026', 'emissions_2027','gas_consumption', 'total_co2', 'pv_production', 'oil_consumption', 'heating_consumption', 'domestic_hot_water_consumption',  'total_emissions', 'heating_system', 'dhw_system', 'scenario_name']]"
   ]
  },
  {
   "cell_type": "code",
   "execution_count": 22,
   "metadata": {},
   "outputs": [
    {
     "data": {
      "text/html": [
       "<div>\n",
       "<style scoped>\n",
       "    .dataframe tbody tr th:only-of-type {\n",
       "        vertical-align: middle;\n",
       "    }\n",
       "\n",
       "    .dataframe tbody tr th {\n",
       "        vertical-align: top;\n",
       "    }\n",
       "\n",
       "    .dataframe thead th {\n",
       "        text-align: right;\n",
       "    }\n",
       "</style>\n",
       "<table border=\"1\" class=\"dataframe\">\n",
       "  <thead>\n",
       "    <tr style=\"text-align: right;\">\n",
       "      <th></th>\n",
       "      <th>Unnamed: 0</th>\n",
       "      <th>epc_ind</th>\n",
       "      <th>epc_label</th>\n",
       "      <th>total_co2</th>\n",
       "      <th>scenario_name</th>\n",
       "      <th>gas_consumption</th>\n",
       "      <th>oil_consumption</th>\n",
       "      <th>total_floor_area</th>\n",
       "      <th>heating_consumption</th>\n",
       "      <th>electricity_injected</th>\n",
       "      <th>...</th>\n",
       "      <th>emissions_2032</th>\n",
       "      <th>emissions_2033</th>\n",
       "      <th>emissions_2034</th>\n",
       "      <th>emissions_2035</th>\n",
       "      <th>emissions_2036</th>\n",
       "      <th>emissions_2037</th>\n",
       "      <th>emissions_2038</th>\n",
       "      <th>emissions_2039</th>\n",
       "      <th>emissions_2040</th>\n",
       "      <th>total_emissions</th>\n",
       "    </tr>\n",
       "  </thead>\n",
       "  <tbody>\n",
       "    <tr>\n",
       "      <th>3153</th>\n",
       "      <td>0</td>\n",
       "      <td>80</td>\n",
       "      <td>2</td>\n",
       "      <td>616.8258</td>\n",
       "      <td>Triple glass, incl. frame + Internal wall insu...</td>\n",
       "      <td>2918</td>\n",
       "      <td>0</td>\n",
       "      <td>97</td>\n",
       "      <td>2918</td>\n",
       "      <td>2131</td>\n",
       "      <td>...</td>\n",
       "      <td>605.156292</td>\n",
       "      <td>604.377989</td>\n",
       "      <td>603.635556</td>\n",
       "      <td>602.927340</td>\n",
       "      <td>602.251764</td>\n",
       "      <td>601.607324</td>\n",
       "      <td>600.992584</td>\n",
       "      <td>600.406176</td>\n",
       "      <td>599.846794</td>\n",
       "      <td>9682.487341</td>\n",
       "    </tr>\n",
       "    <tr>\n",
       "      <th>2161</th>\n",
       "      <td>0</td>\n",
       "      <td>72</td>\n",
       "      <td>2</td>\n",
       "      <td>993.8394</td>\n",
       "      <td>Triple glass, incl. frame + Internal wall insu...</td>\n",
       "      <td>6074</td>\n",
       "      <td>0</td>\n",
       "      <td>97</td>\n",
       "      <td>2918</td>\n",
       "      <td>2349</td>\n",
       "      <td>...</td>\n",
       "      <td>1088.103870</td>\n",
       "      <td>1094.390880</td>\n",
       "      <td>1100.388137</td>\n",
       "      <td>1106.108996</td>\n",
       "      <td>1111.566194</td>\n",
       "      <td>1116.771883</td>\n",
       "      <td>1121.737655</td>\n",
       "      <td>1126.474567</td>\n",
       "      <td>1130.993166</td>\n",
       "      <td>17409.769590</td>\n",
       "    </tr>\n",
       "  </tbody>\n",
       "</table>\n",
       "<p>2 rows × 40 columns</p>\n",
       "</div>"
      ],
      "text/plain": [
       "      Unnamed: 0  epc_ind  epc_label  total_co2  \\\n",
       "3153           0       80          2   616.8258   \n",
       "2161           0       72          2   993.8394   \n",
       "\n",
       "                                          scenario_name  gas_consumption  \\\n",
       "3153  Triple glass, incl. frame + Internal wall insu...             2918   \n",
       "2161  Triple glass, incl. frame + Internal wall insu...             6074   \n",
       "\n",
       "      oil_consumption  total_floor_area  heating_consumption  \\\n",
       "3153                0                97                 2918   \n",
       "2161                0                97                 2918   \n",
       "\n",
       "      electricity_injected  ...  emissions_2032  emissions_2033  \\\n",
       "3153                  2131  ...      605.156292      604.377989   \n",
       "2161                  2349  ...     1088.103870     1094.390880   \n",
       "\n",
       "      emissions_2034 emissions_2035  emissions_2036  emissions_2037  \\\n",
       "3153      603.635556     602.927340      602.251764      601.607324   \n",
       "2161     1100.388137    1106.108996     1111.566194     1116.771883   \n",
       "\n",
       "     emissions_2038 emissions_2039  emissions_2040  total_emissions  \n",
       "3153     600.992584     600.406176      599.846794      9682.487341  \n",
       "2161    1121.737655    1126.474567     1130.993166     17409.769590  \n",
       "\n",
       "[2 rows x 40 columns]"
      ]
     },
     "execution_count": 22,
     "metadata": {},
     "output_type": "execute_result"
    }
   ],
   "source": [
    "testcase[testcase.heating_system == 'Gasboiler']"
   ]
  },
  {
   "cell_type": "code",
   "execution_count": 23,
   "metadata": {},
   "outputs": [
    {
     "name": "stdout",
     "output_type": "stream",
     "text": [
      "('Heat Pump', 'HP Boiler')\n",
      "('Gasboiler', 'Gasboiler')\n"
     ]
    }
   ],
   "source": [
    "for x in zip(testcase.heating_system.unique(), testcase.dhw_system.unique()):\n",
    "    print(x)"
   ]
  },
  {
   "cell_type": "code",
   "execution_count": 24,
   "metadata": {},
   "outputs": [
    {
     "ename": "NameError",
     "evalue": "name 'new_emissions_cumulative' is not defined",
     "output_type": "error",
     "traceback": [
      "\u001b[0;31m---------------------------------------------------------------------------\u001b[0m",
      "\u001b[0;31mNameError\u001b[0m                                 Traceback (most recent call last)",
      "Cell \u001b[0;32mIn[24], line 1\u001b[0m\n\u001b[0;32m----> 1\u001b[0m \u001b[43mnew_emissions_cumulative\u001b[49m\u001b[38;5;241m.\u001b[39mshape[\u001b[38;5;241m1\u001b[39m]\n",
      "\u001b[0;31mNameError\u001b[0m: name 'new_emissions_cumulative' is not defined"
     ]
    }
   ],
   "source": [
    "new_emissions_cumulative.shape[1]"
   ]
  },
  {
   "cell_type": "code",
   "execution_count": null,
   "metadata": {},
   "outputs": [
    {
     "data": {
      "text/plain": [
       "array([1034.7163146 , 1043.46382577, 1051.80818567, 1059.76797455,\n",
       "       1067.36091634, 1074.60391813, 1081.51310778, 1088.10386988,\n",
       "       1094.39087997, 1100.38813723, 1106.10899566, 1111.5661938 ,\n",
       "       1116.7718831 , 1121.73765499, 1126.47456667, 1130.99316574])"
      ]
     },
     "execution_count": 199,
     "metadata": {},
     "output_type": "execute_result"
    }
   ],
   "source": [
    "tmp[[f'emissions_{year + 2025}' for year in range(len(y_fit_central[5:]))]].cumsum(axis=1).values[0]"
   ]
  },
  {
   "cell_type": "code",
   "execution_count": null,
   "metadata": {},
   "outputs": [
    {
     "data": {
      "application/vnd.plotly.v1+json": {
       "config": {
        "plotlyServerURL": "https://plot.ly"
       },
       "data": [
        {
         "mode": "lines+markers",
         "name": "Gasboiler + Gasboiler",
         "type": "scatter",
         "x": [
          2020,
          2030,
          2040
         ],
         "y": [
          1034.7163145963382,
          2078.1801403626687,
          3129.988326029571,
          4189.75630057781,
          5257.117216920315,
          6331.721135049749,
          7413.234242832804,
          8501.338112716156,
          9595.728992689026,
          10696.117129923532,
          11802.226125586785,
          12913.792319388114,
          14030.564202490996,
          15152.301857482425,
          16278.776424152726,
          17409.76958989625
         ]
        }
       ],
       "layout": {
        "template": {
         "data": {
          "bar": [
           {
            "error_x": {
             "color": "#2a3f5f"
            },
            "error_y": {
             "color": "#2a3f5f"
            },
            "marker": {
             "line": {
              "color": "#E5ECF6",
              "width": 0.5
             },
             "pattern": {
              "fillmode": "overlay",
              "size": 10,
              "solidity": 0.2
             }
            },
            "type": "bar"
           }
          ],
          "barpolar": [
           {
            "marker": {
             "line": {
              "color": "#E5ECF6",
              "width": 0.5
             },
             "pattern": {
              "fillmode": "overlay",
              "size": 10,
              "solidity": 0.2
             }
            },
            "type": "barpolar"
           }
          ],
          "carpet": [
           {
            "aaxis": {
             "endlinecolor": "#2a3f5f",
             "gridcolor": "white",
             "linecolor": "white",
             "minorgridcolor": "white",
             "startlinecolor": "#2a3f5f"
            },
            "baxis": {
             "endlinecolor": "#2a3f5f",
             "gridcolor": "white",
             "linecolor": "white",
             "minorgridcolor": "white",
             "startlinecolor": "#2a3f5f"
            },
            "type": "carpet"
           }
          ],
          "choropleth": [
           {
            "colorbar": {
             "outlinewidth": 0,
             "ticks": ""
            },
            "type": "choropleth"
           }
          ],
          "contour": [
           {
            "colorbar": {
             "outlinewidth": 0,
             "ticks": ""
            },
            "colorscale": [
             [
              0,
              "#0d0887"
             ],
             [
              0.1111111111111111,
              "#46039f"
             ],
             [
              0.2222222222222222,
              "#7201a8"
             ],
             [
              0.3333333333333333,
              "#9c179e"
             ],
             [
              0.4444444444444444,
              "#bd3786"
             ],
             [
              0.5555555555555556,
              "#d8576b"
             ],
             [
              0.6666666666666666,
              "#ed7953"
             ],
             [
              0.7777777777777778,
              "#fb9f3a"
             ],
             [
              0.8888888888888888,
              "#fdca26"
             ],
             [
              1,
              "#f0f921"
             ]
            ],
            "type": "contour"
           }
          ],
          "contourcarpet": [
           {
            "colorbar": {
             "outlinewidth": 0,
             "ticks": ""
            },
            "type": "contourcarpet"
           }
          ],
          "heatmap": [
           {
            "colorbar": {
             "outlinewidth": 0,
             "ticks": ""
            },
            "colorscale": [
             [
              0,
              "#0d0887"
             ],
             [
              0.1111111111111111,
              "#46039f"
             ],
             [
              0.2222222222222222,
              "#7201a8"
             ],
             [
              0.3333333333333333,
              "#9c179e"
             ],
             [
              0.4444444444444444,
              "#bd3786"
             ],
             [
              0.5555555555555556,
              "#d8576b"
             ],
             [
              0.6666666666666666,
              "#ed7953"
             ],
             [
              0.7777777777777778,
              "#fb9f3a"
             ],
             [
              0.8888888888888888,
              "#fdca26"
             ],
             [
              1,
              "#f0f921"
             ]
            ],
            "type": "heatmap"
           }
          ],
          "heatmapgl": [
           {
            "colorbar": {
             "outlinewidth": 0,
             "ticks": ""
            },
            "colorscale": [
             [
              0,
              "#0d0887"
             ],
             [
              0.1111111111111111,
              "#46039f"
             ],
             [
              0.2222222222222222,
              "#7201a8"
             ],
             [
              0.3333333333333333,
              "#9c179e"
             ],
             [
              0.4444444444444444,
              "#bd3786"
             ],
             [
              0.5555555555555556,
              "#d8576b"
             ],
             [
              0.6666666666666666,
              "#ed7953"
             ],
             [
              0.7777777777777778,
              "#fb9f3a"
             ],
             [
              0.8888888888888888,
              "#fdca26"
             ],
             [
              1,
              "#f0f921"
             ]
            ],
            "type": "heatmapgl"
           }
          ],
          "histogram": [
           {
            "marker": {
             "pattern": {
              "fillmode": "overlay",
              "size": 10,
              "solidity": 0.2
             }
            },
            "type": "histogram"
           }
          ],
          "histogram2d": [
           {
            "colorbar": {
             "outlinewidth": 0,
             "ticks": ""
            },
            "colorscale": [
             [
              0,
              "#0d0887"
             ],
             [
              0.1111111111111111,
              "#46039f"
             ],
             [
              0.2222222222222222,
              "#7201a8"
             ],
             [
              0.3333333333333333,
              "#9c179e"
             ],
             [
              0.4444444444444444,
              "#bd3786"
             ],
             [
              0.5555555555555556,
              "#d8576b"
             ],
             [
              0.6666666666666666,
              "#ed7953"
             ],
             [
              0.7777777777777778,
              "#fb9f3a"
             ],
             [
              0.8888888888888888,
              "#fdca26"
             ],
             [
              1,
              "#f0f921"
             ]
            ],
            "type": "histogram2d"
           }
          ],
          "histogram2dcontour": [
           {
            "colorbar": {
             "outlinewidth": 0,
             "ticks": ""
            },
            "colorscale": [
             [
              0,
              "#0d0887"
             ],
             [
              0.1111111111111111,
              "#46039f"
             ],
             [
              0.2222222222222222,
              "#7201a8"
             ],
             [
              0.3333333333333333,
              "#9c179e"
             ],
             [
              0.4444444444444444,
              "#bd3786"
             ],
             [
              0.5555555555555556,
              "#d8576b"
             ],
             [
              0.6666666666666666,
              "#ed7953"
             ],
             [
              0.7777777777777778,
              "#fb9f3a"
             ],
             [
              0.8888888888888888,
              "#fdca26"
             ],
             [
              1,
              "#f0f921"
             ]
            ],
            "type": "histogram2dcontour"
           }
          ],
          "mesh3d": [
           {
            "colorbar": {
             "outlinewidth": 0,
             "ticks": ""
            },
            "type": "mesh3d"
           }
          ],
          "parcoords": [
           {
            "line": {
             "colorbar": {
              "outlinewidth": 0,
              "ticks": ""
             }
            },
            "type": "parcoords"
           }
          ],
          "pie": [
           {
            "automargin": true,
            "type": "pie"
           }
          ],
          "scatter": [
           {
            "fillpattern": {
             "fillmode": "overlay",
             "size": 10,
             "solidity": 0.2
            },
            "type": "scatter"
           }
          ],
          "scatter3d": [
           {
            "line": {
             "colorbar": {
              "outlinewidth": 0,
              "ticks": ""
             }
            },
            "marker": {
             "colorbar": {
              "outlinewidth": 0,
              "ticks": ""
             }
            },
            "type": "scatter3d"
           }
          ],
          "scattercarpet": [
           {
            "marker": {
             "colorbar": {
              "outlinewidth": 0,
              "ticks": ""
             }
            },
            "type": "scattercarpet"
           }
          ],
          "scattergeo": [
           {
            "marker": {
             "colorbar": {
              "outlinewidth": 0,
              "ticks": ""
             }
            },
            "type": "scattergeo"
           }
          ],
          "scattergl": [
           {
            "marker": {
             "colorbar": {
              "outlinewidth": 0,
              "ticks": ""
             }
            },
            "type": "scattergl"
           }
          ],
          "scattermapbox": [
           {
            "marker": {
             "colorbar": {
              "outlinewidth": 0,
              "ticks": ""
             }
            },
            "type": "scattermapbox"
           }
          ],
          "scatterpolar": [
           {
            "marker": {
             "colorbar": {
              "outlinewidth": 0,
              "ticks": ""
             }
            },
            "type": "scatterpolar"
           }
          ],
          "scatterpolargl": [
           {
            "marker": {
             "colorbar": {
              "outlinewidth": 0,
              "ticks": ""
             }
            },
            "type": "scatterpolargl"
           }
          ],
          "scatterternary": [
           {
            "marker": {
             "colorbar": {
              "outlinewidth": 0,
              "ticks": ""
             }
            },
            "type": "scatterternary"
           }
          ],
          "surface": [
           {
            "colorbar": {
             "outlinewidth": 0,
             "ticks": ""
            },
            "colorscale": [
             [
              0,
              "#0d0887"
             ],
             [
              0.1111111111111111,
              "#46039f"
             ],
             [
              0.2222222222222222,
              "#7201a8"
             ],
             [
              0.3333333333333333,
              "#9c179e"
             ],
             [
              0.4444444444444444,
              "#bd3786"
             ],
             [
              0.5555555555555556,
              "#d8576b"
             ],
             [
              0.6666666666666666,
              "#ed7953"
             ],
             [
              0.7777777777777778,
              "#fb9f3a"
             ],
             [
              0.8888888888888888,
              "#fdca26"
             ],
             [
              1,
              "#f0f921"
             ]
            ],
            "type": "surface"
           }
          ],
          "table": [
           {
            "cells": {
             "fill": {
              "color": "#EBF0F8"
             },
             "line": {
              "color": "white"
             }
            },
            "header": {
             "fill": {
              "color": "#C8D4E3"
             },
             "line": {
              "color": "white"
             }
            },
            "type": "table"
           }
          ]
         },
         "layout": {
          "annotationdefaults": {
           "arrowcolor": "#2a3f5f",
           "arrowhead": 0,
           "arrowwidth": 1
          },
          "autotypenumbers": "strict",
          "coloraxis": {
           "colorbar": {
            "outlinewidth": 0,
            "ticks": ""
           }
          },
          "colorscale": {
           "diverging": [
            [
             0,
             "#8e0152"
            ],
            [
             0.1,
             "#c51b7d"
            ],
            [
             0.2,
             "#de77ae"
            ],
            [
             0.3,
             "#f1b6da"
            ],
            [
             0.4,
             "#fde0ef"
            ],
            [
             0.5,
             "#f7f7f7"
            ],
            [
             0.6,
             "#e6f5d0"
            ],
            [
             0.7,
             "#b8e186"
            ],
            [
             0.8,
             "#7fbc41"
            ],
            [
             0.9,
             "#4d9221"
            ],
            [
             1,
             "#276419"
            ]
           ],
           "sequential": [
            [
             0,
             "#0d0887"
            ],
            [
             0.1111111111111111,
             "#46039f"
            ],
            [
             0.2222222222222222,
             "#7201a8"
            ],
            [
             0.3333333333333333,
             "#9c179e"
            ],
            [
             0.4444444444444444,
             "#bd3786"
            ],
            [
             0.5555555555555556,
             "#d8576b"
            ],
            [
             0.6666666666666666,
             "#ed7953"
            ],
            [
             0.7777777777777778,
             "#fb9f3a"
            ],
            [
             0.8888888888888888,
             "#fdca26"
            ],
            [
             1,
             "#f0f921"
            ]
           ],
           "sequentialminus": [
            [
             0,
             "#0d0887"
            ],
            [
             0.1111111111111111,
             "#46039f"
            ],
            [
             0.2222222222222222,
             "#7201a8"
            ],
            [
             0.3333333333333333,
             "#9c179e"
            ],
            [
             0.4444444444444444,
             "#bd3786"
            ],
            [
             0.5555555555555556,
             "#d8576b"
            ],
            [
             0.6666666666666666,
             "#ed7953"
            ],
            [
             0.7777777777777778,
             "#fb9f3a"
            ],
            [
             0.8888888888888888,
             "#fdca26"
            ],
            [
             1,
             "#f0f921"
            ]
           ]
          },
          "colorway": [
           "#636efa",
           "#EF553B",
           "#00cc96",
           "#ab63fa",
           "#FFA15A",
           "#19d3f3",
           "#FF6692",
           "#B6E880",
           "#FF97FF",
           "#FECB52"
          ],
          "font": {
           "color": "#2a3f5f"
          },
          "geo": {
           "bgcolor": "white",
           "lakecolor": "white",
           "landcolor": "#E5ECF6",
           "showlakes": true,
           "showland": true,
           "subunitcolor": "white"
          },
          "hoverlabel": {
           "align": "left"
          },
          "hovermode": "closest",
          "mapbox": {
           "style": "light"
          },
          "paper_bgcolor": "white",
          "plot_bgcolor": "#E5ECF6",
          "polar": {
           "angularaxis": {
            "gridcolor": "white",
            "linecolor": "white",
            "ticks": ""
           },
           "bgcolor": "#E5ECF6",
           "radialaxis": {
            "gridcolor": "white",
            "linecolor": "white",
            "ticks": ""
           }
          },
          "scene": {
           "xaxis": {
            "backgroundcolor": "#E5ECF6",
            "gridcolor": "white",
            "gridwidth": 2,
            "linecolor": "white",
            "showbackground": true,
            "ticks": "",
            "zerolinecolor": "white"
           },
           "yaxis": {
            "backgroundcolor": "#E5ECF6",
            "gridcolor": "white",
            "gridwidth": 2,
            "linecolor": "white",
            "showbackground": true,
            "ticks": "",
            "zerolinecolor": "white"
           },
           "zaxis": {
            "backgroundcolor": "#E5ECF6",
            "gridcolor": "white",
            "gridwidth": 2,
            "linecolor": "white",
            "showbackground": true,
            "ticks": "",
            "zerolinecolor": "white"
           }
          },
          "shapedefaults": {
           "line": {
            "color": "#2a3f5f"
           }
          },
          "ternary": {
           "aaxis": {
            "gridcolor": "white",
            "linecolor": "white",
            "ticks": ""
           },
           "baxis": {
            "gridcolor": "white",
            "linecolor": "white",
            "ticks": ""
           },
           "bgcolor": "#E5ECF6",
           "caxis": {
            "gridcolor": "white",
            "linecolor": "white",
            "ticks": ""
           }
          },
          "title": {
           "x": 0.05
          },
          "xaxis": {
           "automargin": true,
           "gridcolor": "white",
           "linecolor": "white",
           "ticks": "",
           "title": {
            "standoff": 15
           },
           "zerolinecolor": "white",
           "zerolinewidth": 2
          },
          "yaxis": {
           "automargin": true,
           "gridcolor": "white",
           "linecolor": "white",
           "ticks": "",
           "title": {
            "standoff": 15
           },
           "zerolinecolor": "white",
           "zerolinewidth": 2
          }
         }
        }
       }
      },
      "text/html": [
       "<div>                            <div id=\"21f84f1d-7c76-4f8a-b983-c5633a55d394\" class=\"plotly-graph-div\" style=\"height:525px; width:100%;\"></div>            <script type=\"text/javascript\">                require([\"plotly\"], function(Plotly) {                    window.PLOTLYENV=window.PLOTLYENV || {};                                    if (document.getElementById(\"21f84f1d-7c76-4f8a-b983-c5633a55d394\")) {                    Plotly.newPlot(                        \"21f84f1d-7c76-4f8a-b983-c5633a55d394\",                        [{\"mode\":\"lines+markers\",\"name\":\"Gasboiler + Gasboiler\",\"x\":[2020,2030,2040],\"y\":[1034.7163145963382,2078.1801403626687,3129.988326029571,4189.75630057781,5257.117216920315,6331.721135049749,7413.234242832804,8501.338112716156,9595.728992689026,10696.117129923532,11802.226125586785,12913.792319388114,14030.564202490996,15152.301857482425,16278.776424152726,17409.76958989625],\"type\":\"scatter\"}],                        {\"template\":{\"data\":{\"histogram2dcontour\":[{\"type\":\"histogram2dcontour\",\"colorbar\":{\"outlinewidth\":0,\"ticks\":\"\"},\"colorscale\":[[0.0,\"#0d0887\"],[0.1111111111111111,\"#46039f\"],[0.2222222222222222,\"#7201a8\"],[0.3333333333333333,\"#9c179e\"],[0.4444444444444444,\"#bd3786\"],[0.5555555555555556,\"#d8576b\"],[0.6666666666666666,\"#ed7953\"],[0.7777777777777778,\"#fb9f3a\"],[0.8888888888888888,\"#fdca26\"],[1.0,\"#f0f921\"]]}],\"choropleth\":[{\"type\":\"choropleth\",\"colorbar\":{\"outlinewidth\":0,\"ticks\":\"\"}}],\"histogram2d\":[{\"type\":\"histogram2d\",\"colorbar\":{\"outlinewidth\":0,\"ticks\":\"\"},\"colorscale\":[[0.0,\"#0d0887\"],[0.1111111111111111,\"#46039f\"],[0.2222222222222222,\"#7201a8\"],[0.3333333333333333,\"#9c179e\"],[0.4444444444444444,\"#bd3786\"],[0.5555555555555556,\"#d8576b\"],[0.6666666666666666,\"#ed7953\"],[0.7777777777777778,\"#fb9f3a\"],[0.8888888888888888,\"#fdca26\"],[1.0,\"#f0f921\"]]}],\"heatmap\":[{\"type\":\"heatmap\",\"colorbar\":{\"outlinewidth\":0,\"ticks\":\"\"},\"colorscale\":[[0.0,\"#0d0887\"],[0.1111111111111111,\"#46039f\"],[0.2222222222222222,\"#7201a8\"],[0.3333333333333333,\"#9c179e\"],[0.4444444444444444,\"#bd3786\"],[0.5555555555555556,\"#d8576b\"],[0.6666666666666666,\"#ed7953\"],[0.7777777777777778,\"#fb9f3a\"],[0.8888888888888888,\"#fdca26\"],[1.0,\"#f0f921\"]]}],\"heatmapgl\":[{\"type\":\"heatmapgl\",\"colorbar\":{\"outlinewidth\":0,\"ticks\":\"\"},\"colorscale\":[[0.0,\"#0d0887\"],[0.1111111111111111,\"#46039f\"],[0.2222222222222222,\"#7201a8\"],[0.3333333333333333,\"#9c179e\"],[0.4444444444444444,\"#bd3786\"],[0.5555555555555556,\"#d8576b\"],[0.6666666666666666,\"#ed7953\"],[0.7777777777777778,\"#fb9f3a\"],[0.8888888888888888,\"#fdca26\"],[1.0,\"#f0f921\"]]}],\"contourcarpet\":[{\"type\":\"contourcarpet\",\"colorbar\":{\"outlinewidth\":0,\"ticks\":\"\"}}],\"contour\":[{\"type\":\"contour\",\"colorbar\":{\"outlinewidth\":0,\"ticks\":\"\"},\"colorscale\":[[0.0,\"#0d0887\"],[0.1111111111111111,\"#46039f\"],[0.2222222222222222,\"#7201a8\"],[0.3333333333333333,\"#9c179e\"],[0.4444444444444444,\"#bd3786\"],[0.5555555555555556,\"#d8576b\"],[0.6666666666666666,\"#ed7953\"],[0.7777777777777778,\"#fb9f3a\"],[0.8888888888888888,\"#fdca26\"],[1.0,\"#f0f921\"]]}],\"surface\":[{\"type\":\"surface\",\"colorbar\":{\"outlinewidth\":0,\"ticks\":\"\"},\"colorscale\":[[0.0,\"#0d0887\"],[0.1111111111111111,\"#46039f\"],[0.2222222222222222,\"#7201a8\"],[0.3333333333333333,\"#9c179e\"],[0.4444444444444444,\"#bd3786\"],[0.5555555555555556,\"#d8576b\"],[0.6666666666666666,\"#ed7953\"],[0.7777777777777778,\"#fb9f3a\"],[0.8888888888888888,\"#fdca26\"],[1.0,\"#f0f921\"]]}],\"mesh3d\":[{\"type\":\"mesh3d\",\"colorbar\":{\"outlinewidth\":0,\"ticks\":\"\"}}],\"scatter\":[{\"fillpattern\":{\"fillmode\":\"overlay\",\"size\":10,\"solidity\":0.2},\"type\":\"scatter\"}],\"parcoords\":[{\"type\":\"parcoords\",\"line\":{\"colorbar\":{\"outlinewidth\":0,\"ticks\":\"\"}}}],\"scatterpolargl\":[{\"type\":\"scatterpolargl\",\"marker\":{\"colorbar\":{\"outlinewidth\":0,\"ticks\":\"\"}}}],\"bar\":[{\"error_x\":{\"color\":\"#2a3f5f\"},\"error_y\":{\"color\":\"#2a3f5f\"},\"marker\":{\"line\":{\"color\":\"#E5ECF6\",\"width\":0.5},\"pattern\":{\"fillmode\":\"overlay\",\"size\":10,\"solidity\":0.2}},\"type\":\"bar\"}],\"scattergeo\":[{\"type\":\"scattergeo\",\"marker\":{\"colorbar\":{\"outlinewidth\":0,\"ticks\":\"\"}}}],\"scatterpolar\":[{\"type\":\"scatterpolar\",\"marker\":{\"colorbar\":{\"outlinewidth\":0,\"ticks\":\"\"}}}],\"histogram\":[{\"marker\":{\"pattern\":{\"fillmode\":\"overlay\",\"size\":10,\"solidity\":0.2}},\"type\":\"histogram\"}],\"scattergl\":[{\"type\":\"scattergl\",\"marker\":{\"colorbar\":{\"outlinewidth\":0,\"ticks\":\"\"}}}],\"scatter3d\":[{\"type\":\"scatter3d\",\"line\":{\"colorbar\":{\"outlinewidth\":0,\"ticks\":\"\"}},\"marker\":{\"colorbar\":{\"outlinewidth\":0,\"ticks\":\"\"}}}],\"scattermapbox\":[{\"type\":\"scattermapbox\",\"marker\":{\"colorbar\":{\"outlinewidth\":0,\"ticks\":\"\"}}}],\"scatterternary\":[{\"type\":\"scatterternary\",\"marker\":{\"colorbar\":{\"outlinewidth\":0,\"ticks\":\"\"}}}],\"scattercarpet\":[{\"type\":\"scattercarpet\",\"marker\":{\"colorbar\":{\"outlinewidth\":0,\"ticks\":\"\"}}}],\"carpet\":[{\"aaxis\":{\"endlinecolor\":\"#2a3f5f\",\"gridcolor\":\"white\",\"linecolor\":\"white\",\"minorgridcolor\":\"white\",\"startlinecolor\":\"#2a3f5f\"},\"baxis\":{\"endlinecolor\":\"#2a3f5f\",\"gridcolor\":\"white\",\"linecolor\":\"white\",\"minorgridcolor\":\"white\",\"startlinecolor\":\"#2a3f5f\"},\"type\":\"carpet\"}],\"table\":[{\"cells\":{\"fill\":{\"color\":\"#EBF0F8\"},\"line\":{\"color\":\"white\"}},\"header\":{\"fill\":{\"color\":\"#C8D4E3\"},\"line\":{\"color\":\"white\"}},\"type\":\"table\"}],\"barpolar\":[{\"marker\":{\"line\":{\"color\":\"#E5ECF6\",\"width\":0.5},\"pattern\":{\"fillmode\":\"overlay\",\"size\":10,\"solidity\":0.2}},\"type\":\"barpolar\"}],\"pie\":[{\"automargin\":true,\"type\":\"pie\"}]},\"layout\":{\"autotypenumbers\":\"strict\",\"colorway\":[\"#636efa\",\"#EF553B\",\"#00cc96\",\"#ab63fa\",\"#FFA15A\",\"#19d3f3\",\"#FF6692\",\"#B6E880\",\"#FF97FF\",\"#FECB52\"],\"font\":{\"color\":\"#2a3f5f\"},\"hovermode\":\"closest\",\"hoverlabel\":{\"align\":\"left\"},\"paper_bgcolor\":\"white\",\"plot_bgcolor\":\"#E5ECF6\",\"polar\":{\"bgcolor\":\"#E5ECF6\",\"angularaxis\":{\"gridcolor\":\"white\",\"linecolor\":\"white\",\"ticks\":\"\"},\"radialaxis\":{\"gridcolor\":\"white\",\"linecolor\":\"white\",\"ticks\":\"\"}},\"ternary\":{\"bgcolor\":\"#E5ECF6\",\"aaxis\":{\"gridcolor\":\"white\",\"linecolor\":\"white\",\"ticks\":\"\"},\"baxis\":{\"gridcolor\":\"white\",\"linecolor\":\"white\",\"ticks\":\"\"},\"caxis\":{\"gridcolor\":\"white\",\"linecolor\":\"white\",\"ticks\":\"\"}},\"coloraxis\":{\"colorbar\":{\"outlinewidth\":0,\"ticks\":\"\"}},\"colorscale\":{\"sequential\":[[0.0,\"#0d0887\"],[0.1111111111111111,\"#46039f\"],[0.2222222222222222,\"#7201a8\"],[0.3333333333333333,\"#9c179e\"],[0.4444444444444444,\"#bd3786\"],[0.5555555555555556,\"#d8576b\"],[0.6666666666666666,\"#ed7953\"],[0.7777777777777778,\"#fb9f3a\"],[0.8888888888888888,\"#fdca26\"],[1.0,\"#f0f921\"]],\"sequentialminus\":[[0.0,\"#0d0887\"],[0.1111111111111111,\"#46039f\"],[0.2222222222222222,\"#7201a8\"],[0.3333333333333333,\"#9c179e\"],[0.4444444444444444,\"#bd3786\"],[0.5555555555555556,\"#d8576b\"],[0.6666666666666666,\"#ed7953\"],[0.7777777777777778,\"#fb9f3a\"],[0.8888888888888888,\"#fdca26\"],[1.0,\"#f0f921\"]],\"diverging\":[[0,\"#8e0152\"],[0.1,\"#c51b7d\"],[0.2,\"#de77ae\"],[0.3,\"#f1b6da\"],[0.4,\"#fde0ef\"],[0.5,\"#f7f7f7\"],[0.6,\"#e6f5d0\"],[0.7,\"#b8e186\"],[0.8,\"#7fbc41\"],[0.9,\"#4d9221\"],[1,\"#276419\"]]},\"xaxis\":{\"gridcolor\":\"white\",\"linecolor\":\"white\",\"ticks\":\"\",\"title\":{\"standoff\":15},\"zerolinecolor\":\"white\",\"automargin\":true,\"zerolinewidth\":2},\"yaxis\":{\"gridcolor\":\"white\",\"linecolor\":\"white\",\"ticks\":\"\",\"title\":{\"standoff\":15},\"zerolinecolor\":\"white\",\"automargin\":true,\"zerolinewidth\":2},\"scene\":{\"xaxis\":{\"backgroundcolor\":\"#E5ECF6\",\"gridcolor\":\"white\",\"linecolor\":\"white\",\"showbackground\":true,\"ticks\":\"\",\"zerolinecolor\":\"white\",\"gridwidth\":2},\"yaxis\":{\"backgroundcolor\":\"#E5ECF6\",\"gridcolor\":\"white\",\"linecolor\":\"white\",\"showbackground\":true,\"ticks\":\"\",\"zerolinecolor\":\"white\",\"gridwidth\":2},\"zaxis\":{\"backgroundcolor\":\"#E5ECF6\",\"gridcolor\":\"white\",\"linecolor\":\"white\",\"showbackground\":true,\"ticks\":\"\",\"zerolinecolor\":\"white\",\"gridwidth\":2}},\"shapedefaults\":{\"line\":{\"color\":\"#2a3f5f\"}},\"annotationdefaults\":{\"arrowcolor\":\"#2a3f5f\",\"arrowhead\":0,\"arrowwidth\":1},\"geo\":{\"bgcolor\":\"white\",\"landcolor\":\"#E5ECF6\",\"subunitcolor\":\"white\",\"showland\":true,\"showlakes\":true,\"lakecolor\":\"white\"},\"title\":{\"x\":0.05},\"mapbox\":{\"style\":\"light\"}}}},                        {\"responsive\": true}                    ).then(function(){\n",
       "                            \n",
       "var gd = document.getElementById('21f84f1d-7c76-4f8a-b983-c5633a55d394');\n",
       "var x = new MutationObserver(function (mutations, observer) {{\n",
       "        var display = window.getComputedStyle(gd).display;\n",
       "        if (!display || display === 'none') {{\n",
       "            console.log([gd, 'removed!']);\n",
       "            Plotly.purge(gd);\n",
       "            observer.disconnect();\n",
       "        }}\n",
       "}});\n",
       "\n",
       "// Listen for the removal of the full notebook cells\n",
       "var notebookContainer = gd.closest('#notebook-container');\n",
       "if (notebookContainer) {{\n",
       "    x.observe(notebookContainer, {childList: true});\n",
       "}}\n",
       "\n",
       "// Listen for the clearing of the current output cell\n",
       "var outputEl = gd.closest('.output');\n",
       "if (outputEl) {{\n",
       "    x.observe(outputEl, {childList: true});\n",
       "}}\n",
       "\n",
       "                        })                };                });            </script>        </div>"
      ]
     },
     "metadata": {},
     "output_type": "display_data"
    }
   ],
   "source": [
    "fig = go.Figure()\n",
    "fig.add_trace(go.Scatter(\n",
    "    x=years,\n",
    "    y=tmp[[f'emissions_{year + 2025}' for year in range(len(y_fit_central[5:]))]].cumsum(axis=1).values[0],\n",
    "    mode='lines+markers',\n",
    "    name=f'{heating_system} + {dhw_system}'\n",
    "))"
   ]
  },
  {
   "cell_type": "code",
   "execution_count": null,
   "metadata": {},
   "outputs": [
    {
     "data": {
      "application/vnd.plotly.v1+json": {
       "config": {
        "plotlyServerURL": "https://plot.ly"
       },
       "data": [
        {
         "mode": "lines+markers",
         "name": "Heat Pump + HP Boiler",
         "type": "scatter",
         "x": [
          2025,
          2026,
          2027,
          2028,
          2029,
          2030,
          2031,
          2032,
          2033,
          2034,
          2035,
          2036,
          2037,
          2038,
          2039,
          2040
         ],
         "y": [
          64.72124483742363,
          126.45964672585058,
          185.35267755848577,
          241.5314734871812,
          295.12112692116773,
          346.240965068284,
          395.00481563892515,
          441.52126030435016,
          485.8938764737196,
          528.2214679282245,
          568.598284825855,
          607.1142335666915,
          643.8550769860202,
          678.9026253210404,
          712.3349183763864,
          744.2263992940885
         ]
        },
        {
         "mode": "lines+markers",
         "name": "standard Heat Pump + HP Boiler",
         "type": "scatter",
         "x": [
          2025,
          2026,
          2027,
          2028,
          2029,
          2030,
          2031,
          2032,
          2033,
          2034,
          2035,
          2036,
          2037,
          2038,
          2039,
          2040
         ],
         "y": [
          78.65999999999997,
          157.31999999999994,
          235.9799999999999,
          314.6399999999999,
          393.29999999999984,
          471.9599999999998,
          550.6199999999998,
          629.2799999999997,
          707.9399999999997,
          786.5999999999997,
          865.2599999999996,
          943.9199999999996,
          1022.5799999999996,
          1101.2399999999996,
          1179.8999999999996,
          1258.5599999999995
         ]
        },
        {
         "mode": "lines+markers",
         "name": "Heat Pump + Gasboiler",
         "type": "scatter",
         "x": [
          2025,
          2026,
          2027,
          2028,
          2029,
          2030,
          2031,
          2032,
          2033,
          2034,
          2035,
          2036,
          2037,
          2038,
          2039,
          2040
         ],
         "y": [
          521.3788379510863,
          1048.0424954748516,
          1579.7474082387698,
          2116.26123719119,
          2657.3623512157574,
          3202.8393336290187,
          3752.4905114223393,
          4306.123506199901,
          4863.554805812866,
          5424.609355735863,
          5989.1201692759305,
          6556.92795574597,
          7127.880765774768,
          7701.833652963809,
          8278.64835113749,
          8858.192966468083
         ]
        },
        {
         "mode": "lines+markers",
         "name": "standard Heat Pump + Gasboiler",
         "type": "scatter",
         "x": [
          2025,
          2026,
          2027,
          2028,
          2029,
          2030,
          2031,
          2032,
          2033,
          2034,
          2035,
          2036,
          2037,
          2038,
          2039,
          2040
         ],
         "y": [
          496.68299999999994,
          993.3659999999999,
          1490.0489999999998,
          1986.7319999999997,
          2483.4149999999995,
          2980.0979999999995,
          3476.7809999999995,
          3973.4639999999995,
          4470.146999999999,
          4966.829999999999,
          5463.512999999999,
          5960.195999999999,
          6456.878999999999,
          6953.561999999999,
          7450.244999999999,
          7946.927999999999
         ]
        },
        {
         "mode": "lines+markers",
         "name": "Gasboiler + HP Boiler",
         "type": "scatter",
         "x": [
          2025,
          2026,
          2027,
          2028,
          2029,
          2030,
          2031,
          2032,
          2033,
          2034,
          2035,
          2036,
          2037,
          2038,
          2039,
          2040
         ],
         "y": [
          611.7654258431517,
          1222.4479500069938,
          1832.0974807657985,
          2440.76162624426,
          3048.485800425729,
          3655.313324274791,
          4261.2855221993495,
          4866.441814067015,
          5470.819802980677,
          6074.455359008725,
          6677.382699056343,
          7279.634463055734,
          7881.241786644925,
          8482.234370496986,
          9082.640546454037,
          9682.48734061329
         ]
        },
        {
         "mode": "lines+markers",
         "name": "standard Gasboiler + HP Boiler",
         "type": "scatter",
         "x": [
          2025,
          2026,
          2027,
          2028,
          2029,
          2030,
          2031,
          2032,
          2033,
          2034,
          2035,
          2036,
          2037,
          2038,
          2039,
          2040
         ],
         "y": [
          616.8258000000001,
          1233.6516000000001,
          1850.4774000000002,
          2467.3032000000003,
          3084.1290000000004,
          3700.9548000000004,
          4317.7806,
          4934.606400000001,
          5551.432200000001,
          6168.258000000001,
          6785.0838,
          7401.909600000001,
          8018.735400000001,
          8635.5612,
          9252.387,
          9869.212800000001
         ]
        },
        {
         "mode": "lines+markers",
         "name": "Gasboiler + Gasboiler",
         "type": "scatter",
         "x": [
          2025,
          2026,
          2027,
          2028,
          2029,
          2030,
          2031,
          2032,
          2033,
          2034,
          2035,
          2036,
          2037,
          2038,
          2039,
          2040
         ],
         "y": [
          1034.7163145963382,
          2078.1801403626687,
          3129.988326029571,
          4189.75630057781,
          5257.117216920315,
          6331.721135049749,
          7413.234242832804,
          8501.338112716156,
          9595.728992689026,
          10696.117129923532,
          11802.226125586785,
          12913.792319388114,
          14030.564202490996,
          15152.301857482425,
          16278.776424152726,
          17409.76958989625
         ]
        },
        {
         "mode": "lines+markers",
         "name": "standard Gasboiler + Gasboiler",
         "type": "scatter",
         "x": [
          2025,
          2026,
          2027,
          2028,
          2029,
          2030,
          2031,
          2032,
          2033,
          2034,
          2035,
          2036,
          2037,
          2038,
          2039,
          2040
         ],
         "y": [
          993.8394000000001,
          1987.6788000000001,
          2981.5182000000004,
          3975.3576000000003,
          4969.197,
          5963.036400000001,
          6956.875800000001,
          7950.715200000001,
          8944.554600000001,
          9938.394,
          10932.233400000001,
          11926.072800000002,
          12919.9122,
          13913.751600000001,
          14907.591,
          15901.430400000001
         ]
        }
       ],
       "layout": {
        "legend": {
         "title": {
          "text": "Emission Categories"
         }
        },
        "template": {
         "data": {
          "bar": [
           {
            "error_x": {
             "color": "#2a3f5f"
            },
            "error_y": {
             "color": "#2a3f5f"
            },
            "marker": {
             "line": {
              "color": "#E5ECF6",
              "width": 0.5
             },
             "pattern": {
              "fillmode": "overlay",
              "size": 10,
              "solidity": 0.2
             }
            },
            "type": "bar"
           }
          ],
          "barpolar": [
           {
            "marker": {
             "line": {
              "color": "#E5ECF6",
              "width": 0.5
             },
             "pattern": {
              "fillmode": "overlay",
              "size": 10,
              "solidity": 0.2
             }
            },
            "type": "barpolar"
           }
          ],
          "carpet": [
           {
            "aaxis": {
             "endlinecolor": "#2a3f5f",
             "gridcolor": "white",
             "linecolor": "white",
             "minorgridcolor": "white",
             "startlinecolor": "#2a3f5f"
            },
            "baxis": {
             "endlinecolor": "#2a3f5f",
             "gridcolor": "white",
             "linecolor": "white",
             "minorgridcolor": "white",
             "startlinecolor": "#2a3f5f"
            },
            "type": "carpet"
           }
          ],
          "choropleth": [
           {
            "colorbar": {
             "outlinewidth": 0,
             "ticks": ""
            },
            "type": "choropleth"
           }
          ],
          "contour": [
           {
            "colorbar": {
             "outlinewidth": 0,
             "ticks": ""
            },
            "colorscale": [
             [
              0,
              "#0d0887"
             ],
             [
              0.1111111111111111,
              "#46039f"
             ],
             [
              0.2222222222222222,
              "#7201a8"
             ],
             [
              0.3333333333333333,
              "#9c179e"
             ],
             [
              0.4444444444444444,
              "#bd3786"
             ],
             [
              0.5555555555555556,
              "#d8576b"
             ],
             [
              0.6666666666666666,
              "#ed7953"
             ],
             [
              0.7777777777777778,
              "#fb9f3a"
             ],
             [
              0.8888888888888888,
              "#fdca26"
             ],
             [
              1,
              "#f0f921"
             ]
            ],
            "type": "contour"
           }
          ],
          "contourcarpet": [
           {
            "colorbar": {
             "outlinewidth": 0,
             "ticks": ""
            },
            "type": "contourcarpet"
           }
          ],
          "heatmap": [
           {
            "colorbar": {
             "outlinewidth": 0,
             "ticks": ""
            },
            "colorscale": [
             [
              0,
              "#0d0887"
             ],
             [
              0.1111111111111111,
              "#46039f"
             ],
             [
              0.2222222222222222,
              "#7201a8"
             ],
             [
              0.3333333333333333,
              "#9c179e"
             ],
             [
              0.4444444444444444,
              "#bd3786"
             ],
             [
              0.5555555555555556,
              "#d8576b"
             ],
             [
              0.6666666666666666,
              "#ed7953"
             ],
             [
              0.7777777777777778,
              "#fb9f3a"
             ],
             [
              0.8888888888888888,
              "#fdca26"
             ],
             [
              1,
              "#f0f921"
             ]
            ],
            "type": "heatmap"
           }
          ],
          "heatmapgl": [
           {
            "colorbar": {
             "outlinewidth": 0,
             "ticks": ""
            },
            "colorscale": [
             [
              0,
              "#0d0887"
             ],
             [
              0.1111111111111111,
              "#46039f"
             ],
             [
              0.2222222222222222,
              "#7201a8"
             ],
             [
              0.3333333333333333,
              "#9c179e"
             ],
             [
              0.4444444444444444,
              "#bd3786"
             ],
             [
              0.5555555555555556,
              "#d8576b"
             ],
             [
              0.6666666666666666,
              "#ed7953"
             ],
             [
              0.7777777777777778,
              "#fb9f3a"
             ],
             [
              0.8888888888888888,
              "#fdca26"
             ],
             [
              1,
              "#f0f921"
             ]
            ],
            "type": "heatmapgl"
           }
          ],
          "histogram": [
           {
            "marker": {
             "pattern": {
              "fillmode": "overlay",
              "size": 10,
              "solidity": 0.2
             }
            },
            "type": "histogram"
           }
          ],
          "histogram2d": [
           {
            "colorbar": {
             "outlinewidth": 0,
             "ticks": ""
            },
            "colorscale": [
             [
              0,
              "#0d0887"
             ],
             [
              0.1111111111111111,
              "#46039f"
             ],
             [
              0.2222222222222222,
              "#7201a8"
             ],
             [
              0.3333333333333333,
              "#9c179e"
             ],
             [
              0.4444444444444444,
              "#bd3786"
             ],
             [
              0.5555555555555556,
              "#d8576b"
             ],
             [
              0.6666666666666666,
              "#ed7953"
             ],
             [
              0.7777777777777778,
              "#fb9f3a"
             ],
             [
              0.8888888888888888,
              "#fdca26"
             ],
             [
              1,
              "#f0f921"
             ]
            ],
            "type": "histogram2d"
           }
          ],
          "histogram2dcontour": [
           {
            "colorbar": {
             "outlinewidth": 0,
             "ticks": ""
            },
            "colorscale": [
             [
              0,
              "#0d0887"
             ],
             [
              0.1111111111111111,
              "#46039f"
             ],
             [
              0.2222222222222222,
              "#7201a8"
             ],
             [
              0.3333333333333333,
              "#9c179e"
             ],
             [
              0.4444444444444444,
              "#bd3786"
             ],
             [
              0.5555555555555556,
              "#d8576b"
             ],
             [
              0.6666666666666666,
              "#ed7953"
             ],
             [
              0.7777777777777778,
              "#fb9f3a"
             ],
             [
              0.8888888888888888,
              "#fdca26"
             ],
             [
              1,
              "#f0f921"
             ]
            ],
            "type": "histogram2dcontour"
           }
          ],
          "mesh3d": [
           {
            "colorbar": {
             "outlinewidth": 0,
             "ticks": ""
            },
            "type": "mesh3d"
           }
          ],
          "parcoords": [
           {
            "line": {
             "colorbar": {
              "outlinewidth": 0,
              "ticks": ""
             }
            },
            "type": "parcoords"
           }
          ],
          "pie": [
           {
            "automargin": true,
            "type": "pie"
           }
          ],
          "scatter": [
           {
            "fillpattern": {
             "fillmode": "overlay",
             "size": 10,
             "solidity": 0.2
            },
            "type": "scatter"
           }
          ],
          "scatter3d": [
           {
            "line": {
             "colorbar": {
              "outlinewidth": 0,
              "ticks": ""
             }
            },
            "marker": {
             "colorbar": {
              "outlinewidth": 0,
              "ticks": ""
             }
            },
            "type": "scatter3d"
           }
          ],
          "scattercarpet": [
           {
            "marker": {
             "colorbar": {
              "outlinewidth": 0,
              "ticks": ""
             }
            },
            "type": "scattercarpet"
           }
          ],
          "scattergeo": [
           {
            "marker": {
             "colorbar": {
              "outlinewidth": 0,
              "ticks": ""
             }
            },
            "type": "scattergeo"
           }
          ],
          "scattergl": [
           {
            "marker": {
             "colorbar": {
              "outlinewidth": 0,
              "ticks": ""
             }
            },
            "type": "scattergl"
           }
          ],
          "scattermapbox": [
           {
            "marker": {
             "colorbar": {
              "outlinewidth": 0,
              "ticks": ""
             }
            },
            "type": "scattermapbox"
           }
          ],
          "scatterpolar": [
           {
            "marker": {
             "colorbar": {
              "outlinewidth": 0,
              "ticks": ""
             }
            },
            "type": "scatterpolar"
           }
          ],
          "scatterpolargl": [
           {
            "marker": {
             "colorbar": {
              "outlinewidth": 0,
              "ticks": ""
             }
            },
            "type": "scatterpolargl"
           }
          ],
          "scatterternary": [
           {
            "marker": {
             "colorbar": {
              "outlinewidth": 0,
              "ticks": ""
             }
            },
            "type": "scatterternary"
           }
          ],
          "surface": [
           {
            "colorbar": {
             "outlinewidth": 0,
             "ticks": ""
            },
            "colorscale": [
             [
              0,
              "#0d0887"
             ],
             [
              0.1111111111111111,
              "#46039f"
             ],
             [
              0.2222222222222222,
              "#7201a8"
             ],
             [
              0.3333333333333333,
              "#9c179e"
             ],
             [
              0.4444444444444444,
              "#bd3786"
             ],
             [
              0.5555555555555556,
              "#d8576b"
             ],
             [
              0.6666666666666666,
              "#ed7953"
             ],
             [
              0.7777777777777778,
              "#fb9f3a"
             ],
             [
              0.8888888888888888,
              "#fdca26"
             ],
             [
              1,
              "#f0f921"
             ]
            ],
            "type": "surface"
           }
          ],
          "table": [
           {
            "cells": {
             "fill": {
              "color": "#EBF0F8"
             },
             "line": {
              "color": "white"
             }
            },
            "header": {
             "fill": {
              "color": "#C8D4E3"
             },
             "line": {
              "color": "white"
             }
            },
            "type": "table"
           }
          ]
         },
         "layout": {
          "annotationdefaults": {
           "arrowcolor": "#2a3f5f",
           "arrowhead": 0,
           "arrowwidth": 1
          },
          "autotypenumbers": "strict",
          "coloraxis": {
           "colorbar": {
            "outlinewidth": 0,
            "ticks": ""
           }
          },
          "colorscale": {
           "diverging": [
            [
             0,
             "#8e0152"
            ],
            [
             0.1,
             "#c51b7d"
            ],
            [
             0.2,
             "#de77ae"
            ],
            [
             0.3,
             "#f1b6da"
            ],
            [
             0.4,
             "#fde0ef"
            ],
            [
             0.5,
             "#f7f7f7"
            ],
            [
             0.6,
             "#e6f5d0"
            ],
            [
             0.7,
             "#b8e186"
            ],
            [
             0.8,
             "#7fbc41"
            ],
            [
             0.9,
             "#4d9221"
            ],
            [
             1,
             "#276419"
            ]
           ],
           "sequential": [
            [
             0,
             "#0d0887"
            ],
            [
             0.1111111111111111,
             "#46039f"
            ],
            [
             0.2222222222222222,
             "#7201a8"
            ],
            [
             0.3333333333333333,
             "#9c179e"
            ],
            [
             0.4444444444444444,
             "#bd3786"
            ],
            [
             0.5555555555555556,
             "#d8576b"
            ],
            [
             0.6666666666666666,
             "#ed7953"
            ],
            [
             0.7777777777777778,
             "#fb9f3a"
            ],
            [
             0.8888888888888888,
             "#fdca26"
            ],
            [
             1,
             "#f0f921"
            ]
           ],
           "sequentialminus": [
            [
             0,
             "#0d0887"
            ],
            [
             0.1111111111111111,
             "#46039f"
            ],
            [
             0.2222222222222222,
             "#7201a8"
            ],
            [
             0.3333333333333333,
             "#9c179e"
            ],
            [
             0.4444444444444444,
             "#bd3786"
            ],
            [
             0.5555555555555556,
             "#d8576b"
            ],
            [
             0.6666666666666666,
             "#ed7953"
            ],
            [
             0.7777777777777778,
             "#fb9f3a"
            ],
            [
             0.8888888888888888,
             "#fdca26"
            ],
            [
             1,
             "#f0f921"
            ]
           ]
          },
          "colorway": [
           "#636efa",
           "#EF553B",
           "#00cc96",
           "#ab63fa",
           "#FFA15A",
           "#19d3f3",
           "#FF6692",
           "#B6E880",
           "#FF97FF",
           "#FECB52"
          ],
          "font": {
           "color": "#2a3f5f"
          },
          "geo": {
           "bgcolor": "white",
           "lakecolor": "white",
           "landcolor": "#E5ECF6",
           "showlakes": true,
           "showland": true,
           "subunitcolor": "white"
          },
          "hoverlabel": {
           "align": "left"
          },
          "hovermode": "closest",
          "mapbox": {
           "style": "light"
          },
          "paper_bgcolor": "white",
          "plot_bgcolor": "#E5ECF6",
          "polar": {
           "angularaxis": {
            "gridcolor": "white",
            "linecolor": "white",
            "ticks": ""
           },
           "bgcolor": "#E5ECF6",
           "radialaxis": {
            "gridcolor": "white",
            "linecolor": "white",
            "ticks": ""
           }
          },
          "scene": {
           "xaxis": {
            "backgroundcolor": "#E5ECF6",
            "gridcolor": "white",
            "gridwidth": 2,
            "linecolor": "white",
            "showbackground": true,
            "ticks": "",
            "zerolinecolor": "white"
           },
           "yaxis": {
            "backgroundcolor": "#E5ECF6",
            "gridcolor": "white",
            "gridwidth": 2,
            "linecolor": "white",
            "showbackground": true,
            "ticks": "",
            "zerolinecolor": "white"
           },
           "zaxis": {
            "backgroundcolor": "#E5ECF6",
            "gridcolor": "white",
            "gridwidth": 2,
            "linecolor": "white",
            "showbackground": true,
            "ticks": "",
            "zerolinecolor": "white"
           }
          },
          "shapedefaults": {
           "line": {
            "color": "#2a3f5f"
           }
          },
          "ternary": {
           "aaxis": {
            "gridcolor": "white",
            "linecolor": "white",
            "ticks": ""
           },
           "baxis": {
            "gridcolor": "white",
            "linecolor": "white",
            "ticks": ""
           },
           "bgcolor": "#E5ECF6",
           "caxis": {
            "gridcolor": "white",
            "linecolor": "white",
            "ticks": ""
           }
          },
          "title": {
           "x": 0.05
          },
          "xaxis": {
           "automargin": true,
           "gridcolor": "white",
           "linecolor": "white",
           "ticks": "",
           "title": {
            "standoff": 15
           },
           "zerolinecolor": "white",
           "zerolinewidth": 2
          },
          "yaxis": {
           "automargin": true,
           "gridcolor": "white",
           "linecolor": "white",
           "ticks": "",
           "title": {
            "standoff": 15
           },
           "zerolinecolor": "white",
           "zerolinewidth": 2
          }
         }
        },
        "title": {
         "text": "Yearly Cumulative Emissions"
        },
        "xaxis": {
         "title": {
          "text": "Year"
         }
        },
        "yaxis": {
         "title": {
          "text": "Cumulative Emissions (kg CO2)"
         }
        }
       }
      },
      "text/html": [
       "<div>                            <div id=\"405b5ace-b2a9-40a4-8b4c-e79c01f7e850\" class=\"plotly-graph-div\" style=\"height:525px; width:100%;\"></div>            <script type=\"text/javascript\">                require([\"plotly\"], function(Plotly) {                    window.PLOTLYENV=window.PLOTLYENV || {};                                    if (document.getElementById(\"405b5ace-b2a9-40a4-8b4c-e79c01f7e850\")) {                    Plotly.newPlot(                        \"405b5ace-b2a9-40a4-8b4c-e79c01f7e850\",                        [{\"mode\":\"lines+markers\",\"name\":\"Heat Pump + HP Boiler\",\"x\":[2025,2026,2027,2028,2029,2030,2031,2032,2033,2034,2035,2036,2037,2038,2039,2040],\"y\":[64.72124483742363,126.45964672585058,185.35267755848577,241.5314734871812,295.12112692116773,346.240965068284,395.00481563892515,441.52126030435016,485.8938764737196,528.2214679282245,568.598284825855,607.1142335666915,643.8550769860202,678.9026253210404,712.3349183763864,744.2263992940885],\"type\":\"scatter\"},{\"mode\":\"lines+markers\",\"name\":\"standard Heat Pump + HP Boiler\",\"x\":[2025,2026,2027,2028,2029,2030,2031,2032,2033,2034,2035,2036,2037,2038,2039,2040],\"y\":[78.65999999999997,157.31999999999994,235.9799999999999,314.6399999999999,393.29999999999984,471.9599999999998,550.6199999999998,629.2799999999997,707.9399999999997,786.5999999999997,865.2599999999996,943.9199999999996,1022.5799999999996,1101.2399999999996,1179.8999999999996,1258.5599999999995],\"type\":\"scatter\"},{\"mode\":\"lines+markers\",\"name\":\"Heat Pump + Gasboiler\",\"x\":[2025,2026,2027,2028,2029,2030,2031,2032,2033,2034,2035,2036,2037,2038,2039,2040],\"y\":[521.3788379510863,1048.0424954748516,1579.7474082387698,2116.26123719119,2657.3623512157574,3202.8393336290187,3752.4905114223393,4306.123506199901,4863.554805812866,5424.609355735863,5989.1201692759305,6556.92795574597,7127.880765774768,7701.833652963809,8278.64835113749,8858.192966468083],\"type\":\"scatter\"},{\"mode\":\"lines+markers\",\"name\":\"standard Heat Pump + Gasboiler\",\"x\":[2025,2026,2027,2028,2029,2030,2031,2032,2033,2034,2035,2036,2037,2038,2039,2040],\"y\":[496.68299999999994,993.3659999999999,1490.0489999999998,1986.7319999999997,2483.4149999999995,2980.0979999999995,3476.7809999999995,3973.4639999999995,4470.146999999999,4966.829999999999,5463.512999999999,5960.195999999999,6456.878999999999,6953.561999999999,7450.244999999999,7946.927999999999],\"type\":\"scatter\"},{\"mode\":\"lines+markers\",\"name\":\"Gasboiler + HP Boiler\",\"x\":[2025,2026,2027,2028,2029,2030,2031,2032,2033,2034,2035,2036,2037,2038,2039,2040],\"y\":[611.7654258431517,1222.4479500069938,1832.0974807657985,2440.76162624426,3048.485800425729,3655.313324274791,4261.2855221993495,4866.441814067015,5470.819802980677,6074.455359008725,6677.382699056343,7279.634463055734,7881.241786644925,8482.234370496986,9082.640546454037,9682.48734061329],\"type\":\"scatter\"},{\"mode\":\"lines+markers\",\"name\":\"standard Gasboiler + HP Boiler\",\"x\":[2025,2026,2027,2028,2029,2030,2031,2032,2033,2034,2035,2036,2037,2038,2039,2040],\"y\":[616.8258000000001,1233.6516000000001,1850.4774000000002,2467.3032000000003,3084.1290000000004,3700.9548000000004,4317.7806,4934.606400000001,5551.432200000001,6168.258000000001,6785.0838,7401.909600000001,8018.735400000001,8635.5612,9252.387,9869.212800000001],\"type\":\"scatter\"},{\"mode\":\"lines+markers\",\"name\":\"Gasboiler + Gasboiler\",\"x\":[2025,2026,2027,2028,2029,2030,2031,2032,2033,2034,2035,2036,2037,2038,2039,2040],\"y\":[1034.7163145963382,2078.1801403626687,3129.988326029571,4189.75630057781,5257.117216920315,6331.721135049749,7413.234242832804,8501.338112716156,9595.728992689026,10696.117129923532,11802.226125586785,12913.792319388114,14030.564202490996,15152.301857482425,16278.776424152726,17409.76958989625],\"type\":\"scatter\"},{\"mode\":\"lines+markers\",\"name\":\"standard Gasboiler + Gasboiler\",\"x\":[2025,2026,2027,2028,2029,2030,2031,2032,2033,2034,2035,2036,2037,2038,2039,2040],\"y\":[993.8394000000001,1987.6788000000001,2981.5182000000004,3975.3576000000003,4969.197,5963.036400000001,6956.875800000001,7950.715200000001,8944.554600000001,9938.394,10932.233400000001,11926.072800000002,12919.9122,13913.751600000001,14907.591,15901.430400000001],\"type\":\"scatter\"}],                        {\"template\":{\"data\":{\"histogram2dcontour\":[{\"type\":\"histogram2dcontour\",\"colorbar\":{\"outlinewidth\":0,\"ticks\":\"\"},\"colorscale\":[[0.0,\"#0d0887\"],[0.1111111111111111,\"#46039f\"],[0.2222222222222222,\"#7201a8\"],[0.3333333333333333,\"#9c179e\"],[0.4444444444444444,\"#bd3786\"],[0.5555555555555556,\"#d8576b\"],[0.6666666666666666,\"#ed7953\"],[0.7777777777777778,\"#fb9f3a\"],[0.8888888888888888,\"#fdca26\"],[1.0,\"#f0f921\"]]}],\"choropleth\":[{\"type\":\"choropleth\",\"colorbar\":{\"outlinewidth\":0,\"ticks\":\"\"}}],\"histogram2d\":[{\"type\":\"histogram2d\",\"colorbar\":{\"outlinewidth\":0,\"ticks\":\"\"},\"colorscale\":[[0.0,\"#0d0887\"],[0.1111111111111111,\"#46039f\"],[0.2222222222222222,\"#7201a8\"],[0.3333333333333333,\"#9c179e\"],[0.4444444444444444,\"#bd3786\"],[0.5555555555555556,\"#d8576b\"],[0.6666666666666666,\"#ed7953\"],[0.7777777777777778,\"#fb9f3a\"],[0.8888888888888888,\"#fdca26\"],[1.0,\"#f0f921\"]]}],\"heatmap\":[{\"type\":\"heatmap\",\"colorbar\":{\"outlinewidth\":0,\"ticks\":\"\"},\"colorscale\":[[0.0,\"#0d0887\"],[0.1111111111111111,\"#46039f\"],[0.2222222222222222,\"#7201a8\"],[0.3333333333333333,\"#9c179e\"],[0.4444444444444444,\"#bd3786\"],[0.5555555555555556,\"#d8576b\"],[0.6666666666666666,\"#ed7953\"],[0.7777777777777778,\"#fb9f3a\"],[0.8888888888888888,\"#fdca26\"],[1.0,\"#f0f921\"]]}],\"heatmapgl\":[{\"type\":\"heatmapgl\",\"colorbar\":{\"outlinewidth\":0,\"ticks\":\"\"},\"colorscale\":[[0.0,\"#0d0887\"],[0.1111111111111111,\"#46039f\"],[0.2222222222222222,\"#7201a8\"],[0.3333333333333333,\"#9c179e\"],[0.4444444444444444,\"#bd3786\"],[0.5555555555555556,\"#d8576b\"],[0.6666666666666666,\"#ed7953\"],[0.7777777777777778,\"#fb9f3a\"],[0.8888888888888888,\"#fdca26\"],[1.0,\"#f0f921\"]]}],\"contourcarpet\":[{\"type\":\"contourcarpet\",\"colorbar\":{\"outlinewidth\":0,\"ticks\":\"\"}}],\"contour\":[{\"type\":\"contour\",\"colorbar\":{\"outlinewidth\":0,\"ticks\":\"\"},\"colorscale\":[[0.0,\"#0d0887\"],[0.1111111111111111,\"#46039f\"],[0.2222222222222222,\"#7201a8\"],[0.3333333333333333,\"#9c179e\"],[0.4444444444444444,\"#bd3786\"],[0.5555555555555556,\"#d8576b\"],[0.6666666666666666,\"#ed7953\"],[0.7777777777777778,\"#fb9f3a\"],[0.8888888888888888,\"#fdca26\"],[1.0,\"#f0f921\"]]}],\"surface\":[{\"type\":\"surface\",\"colorbar\":{\"outlinewidth\":0,\"ticks\":\"\"},\"colorscale\":[[0.0,\"#0d0887\"],[0.1111111111111111,\"#46039f\"],[0.2222222222222222,\"#7201a8\"],[0.3333333333333333,\"#9c179e\"],[0.4444444444444444,\"#bd3786\"],[0.5555555555555556,\"#d8576b\"],[0.6666666666666666,\"#ed7953\"],[0.7777777777777778,\"#fb9f3a\"],[0.8888888888888888,\"#fdca26\"],[1.0,\"#f0f921\"]]}],\"mesh3d\":[{\"type\":\"mesh3d\",\"colorbar\":{\"outlinewidth\":0,\"ticks\":\"\"}}],\"scatter\":[{\"fillpattern\":{\"fillmode\":\"overlay\",\"size\":10,\"solidity\":0.2},\"type\":\"scatter\"}],\"parcoords\":[{\"type\":\"parcoords\",\"line\":{\"colorbar\":{\"outlinewidth\":0,\"ticks\":\"\"}}}],\"scatterpolargl\":[{\"type\":\"scatterpolargl\",\"marker\":{\"colorbar\":{\"outlinewidth\":0,\"ticks\":\"\"}}}],\"bar\":[{\"error_x\":{\"color\":\"#2a3f5f\"},\"error_y\":{\"color\":\"#2a3f5f\"},\"marker\":{\"line\":{\"color\":\"#E5ECF6\",\"width\":0.5},\"pattern\":{\"fillmode\":\"overlay\",\"size\":10,\"solidity\":0.2}},\"type\":\"bar\"}],\"scattergeo\":[{\"type\":\"scattergeo\",\"marker\":{\"colorbar\":{\"outlinewidth\":0,\"ticks\":\"\"}}}],\"scatterpolar\":[{\"type\":\"scatterpolar\",\"marker\":{\"colorbar\":{\"outlinewidth\":0,\"ticks\":\"\"}}}],\"histogram\":[{\"marker\":{\"pattern\":{\"fillmode\":\"overlay\",\"size\":10,\"solidity\":0.2}},\"type\":\"histogram\"}],\"scattergl\":[{\"type\":\"scattergl\",\"marker\":{\"colorbar\":{\"outlinewidth\":0,\"ticks\":\"\"}}}],\"scatter3d\":[{\"type\":\"scatter3d\",\"line\":{\"colorbar\":{\"outlinewidth\":0,\"ticks\":\"\"}},\"marker\":{\"colorbar\":{\"outlinewidth\":0,\"ticks\":\"\"}}}],\"scattermapbox\":[{\"type\":\"scattermapbox\",\"marker\":{\"colorbar\":{\"outlinewidth\":0,\"ticks\":\"\"}}}],\"scatterternary\":[{\"type\":\"scatterternary\",\"marker\":{\"colorbar\":{\"outlinewidth\":0,\"ticks\":\"\"}}}],\"scattercarpet\":[{\"type\":\"scattercarpet\",\"marker\":{\"colorbar\":{\"outlinewidth\":0,\"ticks\":\"\"}}}],\"carpet\":[{\"aaxis\":{\"endlinecolor\":\"#2a3f5f\",\"gridcolor\":\"white\",\"linecolor\":\"white\",\"minorgridcolor\":\"white\",\"startlinecolor\":\"#2a3f5f\"},\"baxis\":{\"endlinecolor\":\"#2a3f5f\",\"gridcolor\":\"white\",\"linecolor\":\"white\",\"minorgridcolor\":\"white\",\"startlinecolor\":\"#2a3f5f\"},\"type\":\"carpet\"}],\"table\":[{\"cells\":{\"fill\":{\"color\":\"#EBF0F8\"},\"line\":{\"color\":\"white\"}},\"header\":{\"fill\":{\"color\":\"#C8D4E3\"},\"line\":{\"color\":\"white\"}},\"type\":\"table\"}],\"barpolar\":[{\"marker\":{\"line\":{\"color\":\"#E5ECF6\",\"width\":0.5},\"pattern\":{\"fillmode\":\"overlay\",\"size\":10,\"solidity\":0.2}},\"type\":\"barpolar\"}],\"pie\":[{\"automargin\":true,\"type\":\"pie\"}]},\"layout\":{\"autotypenumbers\":\"strict\",\"colorway\":[\"#636efa\",\"#EF553B\",\"#00cc96\",\"#ab63fa\",\"#FFA15A\",\"#19d3f3\",\"#FF6692\",\"#B6E880\",\"#FF97FF\",\"#FECB52\"],\"font\":{\"color\":\"#2a3f5f\"},\"hovermode\":\"closest\",\"hoverlabel\":{\"align\":\"left\"},\"paper_bgcolor\":\"white\",\"plot_bgcolor\":\"#E5ECF6\",\"polar\":{\"bgcolor\":\"#E5ECF6\",\"angularaxis\":{\"gridcolor\":\"white\",\"linecolor\":\"white\",\"ticks\":\"\"},\"radialaxis\":{\"gridcolor\":\"white\",\"linecolor\":\"white\",\"ticks\":\"\"}},\"ternary\":{\"bgcolor\":\"#E5ECF6\",\"aaxis\":{\"gridcolor\":\"white\",\"linecolor\":\"white\",\"ticks\":\"\"},\"baxis\":{\"gridcolor\":\"white\",\"linecolor\":\"white\",\"ticks\":\"\"},\"caxis\":{\"gridcolor\":\"white\",\"linecolor\":\"white\",\"ticks\":\"\"}},\"coloraxis\":{\"colorbar\":{\"outlinewidth\":0,\"ticks\":\"\"}},\"colorscale\":{\"sequential\":[[0.0,\"#0d0887\"],[0.1111111111111111,\"#46039f\"],[0.2222222222222222,\"#7201a8\"],[0.3333333333333333,\"#9c179e\"],[0.4444444444444444,\"#bd3786\"],[0.5555555555555556,\"#d8576b\"],[0.6666666666666666,\"#ed7953\"],[0.7777777777777778,\"#fb9f3a\"],[0.8888888888888888,\"#fdca26\"],[1.0,\"#f0f921\"]],\"sequentialminus\":[[0.0,\"#0d0887\"],[0.1111111111111111,\"#46039f\"],[0.2222222222222222,\"#7201a8\"],[0.3333333333333333,\"#9c179e\"],[0.4444444444444444,\"#bd3786\"],[0.5555555555555556,\"#d8576b\"],[0.6666666666666666,\"#ed7953\"],[0.7777777777777778,\"#fb9f3a\"],[0.8888888888888888,\"#fdca26\"],[1.0,\"#f0f921\"]],\"diverging\":[[0,\"#8e0152\"],[0.1,\"#c51b7d\"],[0.2,\"#de77ae\"],[0.3,\"#f1b6da\"],[0.4,\"#fde0ef\"],[0.5,\"#f7f7f7\"],[0.6,\"#e6f5d0\"],[0.7,\"#b8e186\"],[0.8,\"#7fbc41\"],[0.9,\"#4d9221\"],[1,\"#276419\"]]},\"xaxis\":{\"gridcolor\":\"white\",\"linecolor\":\"white\",\"ticks\":\"\",\"title\":{\"standoff\":15},\"zerolinecolor\":\"white\",\"automargin\":true,\"zerolinewidth\":2},\"yaxis\":{\"gridcolor\":\"white\",\"linecolor\":\"white\",\"ticks\":\"\",\"title\":{\"standoff\":15},\"zerolinecolor\":\"white\",\"automargin\":true,\"zerolinewidth\":2},\"scene\":{\"xaxis\":{\"backgroundcolor\":\"#E5ECF6\",\"gridcolor\":\"white\",\"linecolor\":\"white\",\"showbackground\":true,\"ticks\":\"\",\"zerolinecolor\":\"white\",\"gridwidth\":2},\"yaxis\":{\"backgroundcolor\":\"#E5ECF6\",\"gridcolor\":\"white\",\"linecolor\":\"white\",\"showbackground\":true,\"ticks\":\"\",\"zerolinecolor\":\"white\",\"gridwidth\":2},\"zaxis\":{\"backgroundcolor\":\"#E5ECF6\",\"gridcolor\":\"white\",\"linecolor\":\"white\",\"showbackground\":true,\"ticks\":\"\",\"zerolinecolor\":\"white\",\"gridwidth\":2}},\"shapedefaults\":{\"line\":{\"color\":\"#2a3f5f\"}},\"annotationdefaults\":{\"arrowcolor\":\"#2a3f5f\",\"arrowhead\":0,\"arrowwidth\":1},\"geo\":{\"bgcolor\":\"white\",\"landcolor\":\"#E5ECF6\",\"subunitcolor\":\"white\",\"showland\":true,\"showlakes\":true,\"lakecolor\":\"white\"},\"title\":{\"x\":0.05},\"mapbox\":{\"style\":\"light\"}}},\"title\":{\"text\":\"Yearly Cumulative Emissions\"},\"xaxis\":{\"title\":{\"text\":\"Year\"}},\"yaxis\":{\"title\":{\"text\":\"Cumulative Emissions (kg CO2)\"}},\"legend\":{\"title\":{\"text\":\"Emission Categories\"}}},                        {\"responsive\": true}                    ).then(function(){\n",
       "                            \n",
       "var gd = document.getElementById('405b5ace-b2a9-40a4-8b4c-e79c01f7e850');\n",
       "var x = new MutationObserver(function (mutations, observer) {{\n",
       "        var display = window.getComputedStyle(gd).display;\n",
       "        if (!display || display === 'none') {{\n",
       "            console.log([gd, 'removed!']);\n",
       "            Plotly.purge(gd);\n",
       "            observer.disconnect();\n",
       "        }}\n",
       "}});\n",
       "\n",
       "// Listen for the removal of the full notebook cells\n",
       "var notebookContainer = gd.closest('#notebook-container');\n",
       "if (notebookContainer) {{\n",
       "    x.observe(notebookContainer, {childList: true});\n",
       "}}\n",
       "\n",
       "// Listen for the clearing of the current output cell\n",
       "var outputEl = gd.closest('.output');\n",
       "if (outputEl) {{\n",
       "    x.observe(outputEl, {childList: true});\n",
       "}}\n",
       "\n",
       "                        })                };                });            </script>        </div>"
      ]
     },
     "metadata": {},
     "output_type": "display_data"
    }
   ],
   "source": [
    "fig = go.Figure()\n",
    "for heating_system in testcase.heating_system.unique():\n",
    "    for dhw_system in testcase.dhw_system.unique():\n",
    "        tmp = testcase[(testcase.heating_system == heating_system) & (testcase.dhw_system == dhw_system)]\n",
    "        years = np.arange(2025, 2025 + len(y_fit_central[5:]))\n",
    "        total_co2_cumulative = tmp['total_co2'].values * np.array([1 for i in range(16)]).cumsum()\n",
    "        new_emissions_cumulative = tmp[[f'emissions_{year + 2025}' for year in range(len(y_fit_central[5:]))]].cumsum(axis=1)\n",
    "        #new_emissions_cumulative = tmp[[f'emissions_{year + 2025}' for year in range(len(y_fit_central[5:]))]]\n",
    "        # Create the Plotly scatter plot\n",
    "\n",
    "\n",
    "        # Add total_co2 cumulative emissions\n",
    "        # fig.add_trace(go.Scatter(\n",
    "        #     x=years,\n",
    "        #     y=total_co2_cumulative,\n",
    "        #     mode='lines+markers',\n",
    "        #     name='Total CO2 (Original)'\n",
    "        # ))\n",
    "        fig.add_trace(go.Scatter(\n",
    "            x=years,\n",
    "            y=new_emissions_cumulative.values[0],\n",
    "            mode='lines+markers',\n",
    "            name=f'{heating_system} + {dhw_system}'\n",
    "        ))\n",
    "        fig.add_trace(go.Scatter(\n",
    "            x=years,\n",
    "            y=total_co2_cumulative,\n",
    "            mode='lines+markers',\n",
    "            name=f'standard {heating_system} + {dhw_system}'\n",
    "        ))\n",
    "        \n",
    "# # Add newly calculated cumulative emissions\n",
    "# tmp = testcase[testcase.heating_system == 'Heat Pump']\n",
    "# years = np.arange(2025, 2025 + len(y_fit_central[5:]))\n",
    "# #total_co2_cumulative = tmp['total_co2'].values * np.array([1 for i in range(16)]).cumsum()\n",
    "# new_emissions_cumulative = tmp[[f'emissions_{year + 2025}' for year in range(len(y_fit_central[5:]))]].cumsum(axis=1)\n",
    "# for i in range(new_emissions_cumulative.shape[0]):\n",
    "#     fig.add_trace(go.Scatter(\n",
    "#         x=years,\n",
    "#         y=new_emissions_cumulative.iloc[i],\n",
    "#         mode='lines+markers',\n",
    "#         name=f'{tmp.heating_system.values}'\n",
    "#     ))\n",
    "\n",
    "# Update layout\n",
    "fig.update_layout(\n",
    "    title='Yearly Cumulative Emissions',\n",
    "    xaxis_title='Year',\n",
    "    yaxis_title='Cumulative Emissions (kg CO2)',\n",
    "    legend_title='Emission Categories'\n",
    ")\n",
    "\n",
    "# Show the plot\n",
    "fig.show()"
   ]
  },
  {
   "cell_type": "code",
   "execution_count": null,
   "metadata": {},
   "outputs": [],
   "source": [
    "df['self_cons'] = df.pv_production"
   ]
  }
 ],
 "metadata": {
  "kernelspec": {
   "display_name": ".venv",
   "language": "python",
   "name": "python3"
  },
  "language_info": {
   "codemirror_mode": {
    "name": "ipython",
    "version": 3
   },
   "file_extension": ".py",
   "mimetype": "text/x-python",
   "name": "python",
   "nbconvert_exporter": "python",
   "pygments_lexer": "ipython3",
   "version": "3.10.12"
  }
 },
 "nbformat": 4,
 "nbformat_minor": 2
}
