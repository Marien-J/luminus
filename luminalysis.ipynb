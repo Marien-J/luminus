{
 "cells": [
  {
   "cell_type": "code",
   "execution_count": 128,
   "metadata": {},
   "outputs": [],
   "source": [
    "from dash import Dash, html, dcc, Input, Output\n",
    "import pandas as pd\n",
    "import plotly.express as px\n",
    "import geopandas as gpd\n",
    "import shapely \n",
    "import numpy as np\n",
    "import dash_bootstrap_components as dbc\n",
    "from dash.dependencies import Input, Output, State\n",
    "import dash\n",
    "from dash_bootstrap_templates import load_figure_template\n",
    "import plotly.graph_objects as go\n",
    "import dash_daq as daq\n",
    "# import sys\n",
    "# from pathlib import Path\n",
    "# sys.path.append(str(Path(__file__).parent))\n",
    "from figure_functions import barchart_heating_systems, boxplot_co2, boxplot_investment\n",
    "from constants import INJECTION_PRICE, GAS_PRICE, ELECTRICITY_PRICE, ELEC_CO2_INTENSITY, ELEC_CO2_INTENSITY_ELECTRIFICATION, COLS\n",
    "from tab_layout import make_layout_scenario_maker, make_sliders\n",
    "from server import app\n",
    "from functions import map_epc\n",
    "import matplotlib.pyplot as plt\n",
    "from scipy.optimize import curve_fit\n",
    "\n",
    "from luminalysis_functions import example_cases, dynamic_co2, fit_co2, mod_solar"
   ]
  },
  {
   "cell_type": "code",
   "execution_count": 129,
   "metadata": {},
   "outputs": [],
   "source": [
    "# df = pd.read_feather('data/archetypes_luminus_trimmed.ftr')\n",
    "# def hs(scenario_name, gas, elec, oil, heating_consumption):\n",
    "#     if scenario_name == 'current situation':\n",
    "#         return 'Oil' if oil >= heating_consumption else 'Gasboiler'\n",
    "#     elif 'hp' in scenario_name.lower() or 'warmtepomp' in scenario_name.lower():\n",
    "#         return 'Heat Pump'\n",
    "#     elif 'gasboiler' in scenario_name.lower():\n",
    "#         return 'Gasboiler'\n",
    "#     else:\n",
    "#         return 'Gasboiler'\n",
    "\n",
    "# def dhw_system(scenario_name, gas, elec, heating_system):\n",
    "#     if 'heat pump boiler' in scenario_name.lower():\n",
    "#         return 'HP Boiler'\n",
    "#     elif heating_system == 'Heat Pump':\n",
    "#         if gas == 0:\n",
    "#             return 'HP Boiler'\n",
    "#         else:\n",
    "#             return 'Gasboiler'\n",
    "#     else:\n",
    "#         return 'Gasboiler'\n",
    "# df['heating_system'] = df.apply(lambda x: hs(x.scenario_name,\n",
    "#                                              x.gas_consumption,\n",
    "#                                              x.electricity_consumption,\n",
    "#                                              x.oil_consumption,\n",
    "#                                              x.heating_consumption), axis = 1)\n",
    "# df['dhw_system'] = df.apply(lambda x: dhw_system(x.scenario_name,\n",
    "#                                              x.gas_consumption,\n",
    "#                                              x.electricity_consumption,\n",
    "#                                              x.heating_system), axis = 1)"
   ]
  },
  {
   "cell_type": "code",
   "execution_count": 130,
   "metadata": {},
   "outputs": [],
   "source": [
    "\n",
    "\n",
    "#df = pd.read_csv('data/archetypes_luminus.csv', usecols = COLS)\n",
    "df = pd.read_feather('data/archetypes_luminus_trimmed.ftr')\n",
    "df['tco'] = df.total_investment_cost + df.electricity_consumption*15*ELECTRICITY_PRICE['BE'] + df.gas_consumption*GAS_PRICE['BE'] * 15+ df.total_oil_cost -df.electricity_injected * INJECTION_PRICE['BE'] * 15\n",
    "df['total_co2'] = df.electricity_consumption * 0.171 + df.gas_consumption * 0.056 * 3.6 + df.oil_consumption * 0.074 * 3.6 - df.electricity_injected * 0.171\n",
    "# df['mapped_epc'] = df.apply(lambda x: map_epc( epc = x.epc_ind, \n",
    "#                                                 co2 = x.total_co2 / x.total_floor_area), axis = 1)\n",
    "optimal_unmodded_temp = df[df.epc_ind<=100].sort_values(by = 'tco', ascending = True).drop_duplicates(subset = 'name', keep = 'first')\n",
    "optimal_unmodded_temp['dataset'] = 'unmodded'\n",
    "optimal_modded_temp = df[df.epc_ind<=100].sort_values(by = 'tco', ascending = True).drop_duplicates(subset = 'name', keep = 'first')\n",
    "optimal_modded_temp['dataset'] = 'modded'"
   ]
  },
  {
   "cell_type": "code",
   "execution_count": 131,
   "metadata": {},
   "outputs": [
    {
     "data": {
      "text/plain": [
       "heating_system\n",
       "Heat Pump    78\n",
       "Gasboiler    57\n",
       "Name: count, dtype: int64"
      ]
     },
     "execution_count": 131,
     "metadata": {},
     "output_type": "execute_result"
    }
   ],
   "source": [
    "df[(df['epc_ind'] < 100)].sort_values(by='tco', ascending=True).drop_duplicates(subset=['name'], keep='first').heating_system.value_counts()"
   ]
  },
  {
   "cell_type": "code",
   "execution_count": 132,
   "metadata": {},
   "outputs": [],
   "source": [
    "x_fit, y_fit_central, y_fit_electrification, fig = fit_co2(central_scenario = ELEC_CO2_INTENSITY, electrification_scenario = ELEC_CO2_INTENSITY_ELECTRIFICATION, returnplot = True)\n",
    "# Plot the data and the fit"
   ]
  },
  {
   "cell_type": "code",
   "execution_count": 133,
   "metadata": {},
   "outputs": [
    {
     "data": {
      "application/vnd.plotly.v1+json": {
       "config": {
        "plotlyServerURL": "https://plot.ly"
       },
       "data": [
        {
         "marker": {
          "size": 8
         },
         "mode": "markers",
         "name": "central scenario",
         "type": "scatter",
         "x": [
          2020,
          2030,
          2040
         ],
         "y": [
          0.171,
          0.134,
          0.051
         ]
        },
        {
         "marker": {
          "size": 8
         },
         "mode": "markers",
         "name": "electrification scenario",
         "type": "scatter",
         "x": [
          2020,
          2030,
          2040
         ],
         "y": [
          0.171,
          0.096,
          0.019
         ]
        },
        {
         "marker": {
          "size": 8
         },
         "mode": "lines",
         "name": "central fit",
         "type": "scatter",
         "x": [
          2020,
          2021,
          2022,
          2023,
          2024,
          2025,
          2026,
          2027,
          2028,
          2029,
          2030,
          2031,
          2032,
          2033,
          2034,
          2035,
          2036,
          2037,
          2038,
          2039,
          2040
         ],
         "y": [
          0.17813383665817434,
          0.16992408636693274,
          0.16209270326919564,
          0.15462224935186375,
          0.147496090276961,
          0.14069835834222524,
          0.13421391714875425,
          0.12802832789703306,
          0.12212781723629437,
          0.1164992465956229,
          0.11113008292851366,
          0.1060083708057416,
          0.10112270579440223,
          0.09646220906384673,
          0.092016503161967,
          0.08777568890789235,
          0.08373032334964464,
          0.07987139873767113,
          0.07619032246743532,
          0.07267889794640446,
          0.06932930634283063
         ]
        },
        {
         "marker": {
          "size": 8
         },
         "mode": "lines",
         "name": "electrification fit",
         "type": "scatter",
         "x": [
          2020,
          2021,
          2022,
          2023,
          2024,
          2025,
          2026,
          2027,
          2028,
          2029,
          2030,
          2031,
          2032,
          2033,
          2034,
          2035,
          2036,
          2037,
          2038,
          2039,
          2040
         ],
         "y": [
          0.17467801782973907,
          0.1615405827781984,
          0.1493912067960117,
          0.13815557851869248,
          0.12776497549750143,
          0.11815584386025,
          0.1092694095855777,
          0.10105131901307106,
          0.09345130639041394,
          0.08642288642412857,
          0.07992306995340166,
          0.0739121010079217,
          0.06835321364144753,
          0.06321240705378701,
          0.05845823762572465,
          0.0540616265948847,
          0.04999568219618415,
          0.04623553517900168,
          0.042758186695007465,
          0.03954236762626328,
          0.03656840849317689
         ]
        }
       ],
       "layout": {
        "height": 400,
        "legend": {
         "bgcolor": "RGBA(255,255,255,0.4)",
         "x": 1,
         "xanchor": "right",
         "y": 0.99,
         "yanchor": "top"
        },
        "margin": {
         "b": 10,
         "l": 50,
         "r": 40,
         "t": 10
        },
        "template": {
         "data": {
          "bar": [
           {
            "error_x": {
             "color": "#2a3f5f"
            },
            "error_y": {
             "color": "#2a3f5f"
            },
            "marker": {
             "line": {
              "color": "#E5ECF6",
              "width": 0.5
             },
             "pattern": {
              "fillmode": "overlay",
              "size": 10,
              "solidity": 0.2
             }
            },
            "type": "bar"
           }
          ],
          "barpolar": [
           {
            "marker": {
             "line": {
              "color": "#E5ECF6",
              "width": 0.5
             },
             "pattern": {
              "fillmode": "overlay",
              "size": 10,
              "solidity": 0.2
             }
            },
            "type": "barpolar"
           }
          ],
          "carpet": [
           {
            "aaxis": {
             "endlinecolor": "#2a3f5f",
             "gridcolor": "white",
             "linecolor": "white",
             "minorgridcolor": "white",
             "startlinecolor": "#2a3f5f"
            },
            "baxis": {
             "endlinecolor": "#2a3f5f",
             "gridcolor": "white",
             "linecolor": "white",
             "minorgridcolor": "white",
             "startlinecolor": "#2a3f5f"
            },
            "type": "carpet"
           }
          ],
          "choropleth": [
           {
            "colorbar": {
             "outlinewidth": 0,
             "ticks": ""
            },
            "type": "choropleth"
           }
          ],
          "contour": [
           {
            "colorbar": {
             "outlinewidth": 0,
             "ticks": ""
            },
            "colorscale": [
             [
              0,
              "#0d0887"
             ],
             [
              0.1111111111111111,
              "#46039f"
             ],
             [
              0.2222222222222222,
              "#7201a8"
             ],
             [
              0.3333333333333333,
              "#9c179e"
             ],
             [
              0.4444444444444444,
              "#bd3786"
             ],
             [
              0.5555555555555556,
              "#d8576b"
             ],
             [
              0.6666666666666666,
              "#ed7953"
             ],
             [
              0.7777777777777778,
              "#fb9f3a"
             ],
             [
              0.8888888888888888,
              "#fdca26"
             ],
             [
              1,
              "#f0f921"
             ]
            ],
            "type": "contour"
           }
          ],
          "contourcarpet": [
           {
            "colorbar": {
             "outlinewidth": 0,
             "ticks": ""
            },
            "type": "contourcarpet"
           }
          ],
          "heatmap": [
           {
            "colorbar": {
             "outlinewidth": 0,
             "ticks": ""
            },
            "colorscale": [
             [
              0,
              "#0d0887"
             ],
             [
              0.1111111111111111,
              "#46039f"
             ],
             [
              0.2222222222222222,
              "#7201a8"
             ],
             [
              0.3333333333333333,
              "#9c179e"
             ],
             [
              0.4444444444444444,
              "#bd3786"
             ],
             [
              0.5555555555555556,
              "#d8576b"
             ],
             [
              0.6666666666666666,
              "#ed7953"
             ],
             [
              0.7777777777777778,
              "#fb9f3a"
             ],
             [
              0.8888888888888888,
              "#fdca26"
             ],
             [
              1,
              "#f0f921"
             ]
            ],
            "type": "heatmap"
           }
          ],
          "heatmapgl": [
           {
            "colorbar": {
             "outlinewidth": 0,
             "ticks": ""
            },
            "colorscale": [
             [
              0,
              "#0d0887"
             ],
             [
              0.1111111111111111,
              "#46039f"
             ],
             [
              0.2222222222222222,
              "#7201a8"
             ],
             [
              0.3333333333333333,
              "#9c179e"
             ],
             [
              0.4444444444444444,
              "#bd3786"
             ],
             [
              0.5555555555555556,
              "#d8576b"
             ],
             [
              0.6666666666666666,
              "#ed7953"
             ],
             [
              0.7777777777777778,
              "#fb9f3a"
             ],
             [
              0.8888888888888888,
              "#fdca26"
             ],
             [
              1,
              "#f0f921"
             ]
            ],
            "type": "heatmapgl"
           }
          ],
          "histogram": [
           {
            "marker": {
             "pattern": {
              "fillmode": "overlay",
              "size": 10,
              "solidity": 0.2
             }
            },
            "type": "histogram"
           }
          ],
          "histogram2d": [
           {
            "colorbar": {
             "outlinewidth": 0,
             "ticks": ""
            },
            "colorscale": [
             [
              0,
              "#0d0887"
             ],
             [
              0.1111111111111111,
              "#46039f"
             ],
             [
              0.2222222222222222,
              "#7201a8"
             ],
             [
              0.3333333333333333,
              "#9c179e"
             ],
             [
              0.4444444444444444,
              "#bd3786"
             ],
             [
              0.5555555555555556,
              "#d8576b"
             ],
             [
              0.6666666666666666,
              "#ed7953"
             ],
             [
              0.7777777777777778,
              "#fb9f3a"
             ],
             [
              0.8888888888888888,
              "#fdca26"
             ],
             [
              1,
              "#f0f921"
             ]
            ],
            "type": "histogram2d"
           }
          ],
          "histogram2dcontour": [
           {
            "colorbar": {
             "outlinewidth": 0,
             "ticks": ""
            },
            "colorscale": [
             [
              0,
              "#0d0887"
             ],
             [
              0.1111111111111111,
              "#46039f"
             ],
             [
              0.2222222222222222,
              "#7201a8"
             ],
             [
              0.3333333333333333,
              "#9c179e"
             ],
             [
              0.4444444444444444,
              "#bd3786"
             ],
             [
              0.5555555555555556,
              "#d8576b"
             ],
             [
              0.6666666666666666,
              "#ed7953"
             ],
             [
              0.7777777777777778,
              "#fb9f3a"
             ],
             [
              0.8888888888888888,
              "#fdca26"
             ],
             [
              1,
              "#f0f921"
             ]
            ],
            "type": "histogram2dcontour"
           }
          ],
          "mesh3d": [
           {
            "colorbar": {
             "outlinewidth": 0,
             "ticks": ""
            },
            "type": "mesh3d"
           }
          ],
          "parcoords": [
           {
            "line": {
             "colorbar": {
              "outlinewidth": 0,
              "ticks": ""
             }
            },
            "type": "parcoords"
           }
          ],
          "pie": [
           {
            "automargin": true,
            "type": "pie"
           }
          ],
          "scatter": [
           {
            "fillpattern": {
             "fillmode": "overlay",
             "size": 10,
             "solidity": 0.2
            },
            "type": "scatter"
           }
          ],
          "scatter3d": [
           {
            "line": {
             "colorbar": {
              "outlinewidth": 0,
              "ticks": ""
             }
            },
            "marker": {
             "colorbar": {
              "outlinewidth": 0,
              "ticks": ""
             }
            },
            "type": "scatter3d"
           }
          ],
          "scattercarpet": [
           {
            "marker": {
             "colorbar": {
              "outlinewidth": 0,
              "ticks": ""
             }
            },
            "type": "scattercarpet"
           }
          ],
          "scattergeo": [
           {
            "marker": {
             "colorbar": {
              "outlinewidth": 0,
              "ticks": ""
             }
            },
            "type": "scattergeo"
           }
          ],
          "scattergl": [
           {
            "marker": {
             "colorbar": {
              "outlinewidth": 0,
              "ticks": ""
             }
            },
            "type": "scattergl"
           }
          ],
          "scattermapbox": [
           {
            "marker": {
             "colorbar": {
              "outlinewidth": 0,
              "ticks": ""
             }
            },
            "type": "scattermapbox"
           }
          ],
          "scatterpolar": [
           {
            "marker": {
             "colorbar": {
              "outlinewidth": 0,
              "ticks": ""
             }
            },
            "type": "scatterpolar"
           }
          ],
          "scatterpolargl": [
           {
            "marker": {
             "colorbar": {
              "outlinewidth": 0,
              "ticks": ""
             }
            },
            "type": "scatterpolargl"
           }
          ],
          "scatterternary": [
           {
            "marker": {
             "colorbar": {
              "outlinewidth": 0,
              "ticks": ""
             }
            },
            "type": "scatterternary"
           }
          ],
          "surface": [
           {
            "colorbar": {
             "outlinewidth": 0,
             "ticks": ""
            },
            "colorscale": [
             [
              0,
              "#0d0887"
             ],
             [
              0.1111111111111111,
              "#46039f"
             ],
             [
              0.2222222222222222,
              "#7201a8"
             ],
             [
              0.3333333333333333,
              "#9c179e"
             ],
             [
              0.4444444444444444,
              "#bd3786"
             ],
             [
              0.5555555555555556,
              "#d8576b"
             ],
             [
              0.6666666666666666,
              "#ed7953"
             ],
             [
              0.7777777777777778,
              "#fb9f3a"
             ],
             [
              0.8888888888888888,
              "#fdca26"
             ],
             [
              1,
              "#f0f921"
             ]
            ],
            "type": "surface"
           }
          ],
          "table": [
           {
            "cells": {
             "fill": {
              "color": "#EBF0F8"
             },
             "line": {
              "color": "white"
             }
            },
            "header": {
             "fill": {
              "color": "#C8D4E3"
             },
             "line": {
              "color": "white"
             }
            },
            "type": "table"
           }
          ]
         },
         "layout": {
          "annotationdefaults": {
           "arrowcolor": "#2a3f5f",
           "arrowhead": 0,
           "arrowwidth": 1
          },
          "autotypenumbers": "strict",
          "coloraxis": {
           "colorbar": {
            "outlinewidth": 0,
            "ticks": ""
           }
          },
          "colorscale": {
           "diverging": [
            [
             0,
             "#8e0152"
            ],
            [
             0.1,
             "#c51b7d"
            ],
            [
             0.2,
             "#de77ae"
            ],
            [
             0.3,
             "#f1b6da"
            ],
            [
             0.4,
             "#fde0ef"
            ],
            [
             0.5,
             "#f7f7f7"
            ],
            [
             0.6,
             "#e6f5d0"
            ],
            [
             0.7,
             "#b8e186"
            ],
            [
             0.8,
             "#7fbc41"
            ],
            [
             0.9,
             "#4d9221"
            ],
            [
             1,
             "#276419"
            ]
           ],
           "sequential": [
            [
             0,
             "#0d0887"
            ],
            [
             0.1111111111111111,
             "#46039f"
            ],
            [
             0.2222222222222222,
             "#7201a8"
            ],
            [
             0.3333333333333333,
             "#9c179e"
            ],
            [
             0.4444444444444444,
             "#bd3786"
            ],
            [
             0.5555555555555556,
             "#d8576b"
            ],
            [
             0.6666666666666666,
             "#ed7953"
            ],
            [
             0.7777777777777778,
             "#fb9f3a"
            ],
            [
             0.8888888888888888,
             "#fdca26"
            ],
            [
             1,
             "#f0f921"
            ]
           ],
           "sequentialminus": [
            [
             0,
             "#0d0887"
            ],
            [
             0.1111111111111111,
             "#46039f"
            ],
            [
             0.2222222222222222,
             "#7201a8"
            ],
            [
             0.3333333333333333,
             "#9c179e"
            ],
            [
             0.4444444444444444,
             "#bd3786"
            ],
            [
             0.5555555555555556,
             "#d8576b"
            ],
            [
             0.6666666666666666,
             "#ed7953"
            ],
            [
             0.7777777777777778,
             "#fb9f3a"
            ],
            [
             0.8888888888888888,
             "#fdca26"
            ],
            [
             1,
             "#f0f921"
            ]
           ]
          },
          "colorway": [
           "#636efa",
           "#EF553B",
           "#00cc96",
           "#ab63fa",
           "#FFA15A",
           "#19d3f3",
           "#FF6692",
           "#B6E880",
           "#FF97FF",
           "#FECB52"
          ],
          "font": {
           "color": "#2a3f5f"
          },
          "geo": {
           "bgcolor": "white",
           "lakecolor": "white",
           "landcolor": "#E5ECF6",
           "showlakes": true,
           "showland": true,
           "subunitcolor": "white"
          },
          "hoverlabel": {
           "align": "left"
          },
          "hovermode": "closest",
          "mapbox": {
           "style": "light"
          },
          "paper_bgcolor": "white",
          "plot_bgcolor": "#E5ECF6",
          "polar": {
           "angularaxis": {
            "gridcolor": "white",
            "linecolor": "white",
            "ticks": ""
           },
           "bgcolor": "#E5ECF6",
           "radialaxis": {
            "gridcolor": "white",
            "linecolor": "white",
            "ticks": ""
           }
          },
          "scene": {
           "xaxis": {
            "backgroundcolor": "#E5ECF6",
            "gridcolor": "white",
            "gridwidth": 2,
            "linecolor": "white",
            "showbackground": true,
            "ticks": "",
            "zerolinecolor": "white"
           },
           "yaxis": {
            "backgroundcolor": "#E5ECF6",
            "gridcolor": "white",
            "gridwidth": 2,
            "linecolor": "white",
            "showbackground": true,
            "ticks": "",
            "zerolinecolor": "white"
           },
           "zaxis": {
            "backgroundcolor": "#E5ECF6",
            "gridcolor": "white",
            "gridwidth": 2,
            "linecolor": "white",
            "showbackground": true,
            "ticks": "",
            "zerolinecolor": "white"
           }
          },
          "shapedefaults": {
           "line": {
            "color": "#2a3f5f"
           }
          },
          "ternary": {
           "aaxis": {
            "gridcolor": "white",
            "linecolor": "white",
            "ticks": ""
           },
           "baxis": {
            "gridcolor": "white",
            "linecolor": "white",
            "ticks": ""
           },
           "bgcolor": "#E5ECF6",
           "caxis": {
            "gridcolor": "white",
            "linecolor": "white",
            "ticks": ""
           }
          },
          "title": {
           "x": 0.05
          },
          "xaxis": {
           "automargin": true,
           "gridcolor": "white",
           "linecolor": "white",
           "ticks": "",
           "title": {
            "standoff": 15
           },
           "zerolinecolor": "white",
           "zerolinewidth": 2
          },
          "yaxis": {
           "automargin": true,
           "gridcolor": "white",
           "linecolor": "white",
           "ticks": "",
           "title": {
            "standoff": 15
           },
           "zerolinecolor": "white",
           "zerolinewidth": 2
          }
         }
        },
        "width": 400,
        "xaxis": {
         "title": {
          "text": "Year"
         }
        },
        "yaxis": {
         "title": {
          "text": "CO₂ intensity (kg/kWh)"
         }
        }
       }
      },
      "text/html": [
       "<div>                            <div id=\"a4b2a74e-bb13-40aa-874b-1deb8f674ddb\" class=\"plotly-graph-div\" style=\"height:400px; width:400px;\"></div>            <script type=\"text/javascript\">                require([\"plotly\"], function(Plotly) {                    window.PLOTLYENV=window.PLOTLYENV || {};                                    if (document.getElementById(\"a4b2a74e-bb13-40aa-874b-1deb8f674ddb\")) {                    Plotly.newPlot(                        \"a4b2a74e-bb13-40aa-874b-1deb8f674ddb\",                        [{\"mode\":\"markers\",\"name\":\"central scenario\",\"x\":[2020,2030,2040],\"y\":[0.171,0.134,0.051],\"type\":\"scatter\",\"marker\":{\"size\":8}},{\"mode\":\"markers\",\"name\":\"electrification scenario\",\"x\":[2020,2030,2040],\"y\":[0.171,0.096,0.019],\"type\":\"scatter\",\"marker\":{\"size\":8}},{\"mode\":\"lines\",\"name\":\"central fit\",\"x\":[2020.0,2021.0,2022.0,2023.0,2024.0,2025.0,2026.0,2027.0,2028.0,2029.0,2030.0,2031.0,2032.0,2033.0,2034.0,2035.0,2036.0,2037.0,2038.0,2039.0,2040.0],\"y\":[0.17813383665817434,0.16992408636693274,0.16209270326919564,0.15462224935186375,0.147496090276961,0.14069835834222524,0.13421391714875425,0.12802832789703306,0.12212781723629437,0.1164992465956229,0.11113008292851366,0.1060083708057416,0.10112270579440223,0.09646220906384673,0.092016503161967,0.08777568890789235,0.08373032334964464,0.07987139873767113,0.07619032246743532,0.07267889794640446,0.06932930634283063],\"type\":\"scatter\",\"marker\":{\"size\":8}},{\"mode\":\"lines\",\"name\":\"electrification fit\",\"x\":[2020.0,2021.0,2022.0,2023.0,2024.0,2025.0,2026.0,2027.0,2028.0,2029.0,2030.0,2031.0,2032.0,2033.0,2034.0,2035.0,2036.0,2037.0,2038.0,2039.0,2040.0],\"y\":[0.17467801782973907,0.1615405827781984,0.1493912067960117,0.13815557851869248,0.12776497549750143,0.11815584386025,0.1092694095855777,0.10105131901307106,0.09345130639041394,0.08642288642412857,0.07992306995340166,0.0739121010079217,0.06835321364144753,0.06321240705378701,0.05845823762572465,0.0540616265948847,0.04999568219618415,0.04623553517900168,0.042758186695007465,0.03954236762626328,0.03656840849317689],\"type\":\"scatter\",\"marker\":{\"size\":8}}],                        {\"template\":{\"data\":{\"histogram2dcontour\":[{\"type\":\"histogram2dcontour\",\"colorbar\":{\"outlinewidth\":0,\"ticks\":\"\"},\"colorscale\":[[0.0,\"#0d0887\"],[0.1111111111111111,\"#46039f\"],[0.2222222222222222,\"#7201a8\"],[0.3333333333333333,\"#9c179e\"],[0.4444444444444444,\"#bd3786\"],[0.5555555555555556,\"#d8576b\"],[0.6666666666666666,\"#ed7953\"],[0.7777777777777778,\"#fb9f3a\"],[0.8888888888888888,\"#fdca26\"],[1.0,\"#f0f921\"]]}],\"choropleth\":[{\"type\":\"choropleth\",\"colorbar\":{\"outlinewidth\":0,\"ticks\":\"\"}}],\"histogram2d\":[{\"type\":\"histogram2d\",\"colorbar\":{\"outlinewidth\":0,\"ticks\":\"\"},\"colorscale\":[[0.0,\"#0d0887\"],[0.1111111111111111,\"#46039f\"],[0.2222222222222222,\"#7201a8\"],[0.3333333333333333,\"#9c179e\"],[0.4444444444444444,\"#bd3786\"],[0.5555555555555556,\"#d8576b\"],[0.6666666666666666,\"#ed7953\"],[0.7777777777777778,\"#fb9f3a\"],[0.8888888888888888,\"#fdca26\"],[1.0,\"#f0f921\"]]}],\"heatmap\":[{\"type\":\"heatmap\",\"colorbar\":{\"outlinewidth\":0,\"ticks\":\"\"},\"colorscale\":[[0.0,\"#0d0887\"],[0.1111111111111111,\"#46039f\"],[0.2222222222222222,\"#7201a8\"],[0.3333333333333333,\"#9c179e\"],[0.4444444444444444,\"#bd3786\"],[0.5555555555555556,\"#d8576b\"],[0.6666666666666666,\"#ed7953\"],[0.7777777777777778,\"#fb9f3a\"],[0.8888888888888888,\"#fdca26\"],[1.0,\"#f0f921\"]]}],\"heatmapgl\":[{\"type\":\"heatmapgl\",\"colorbar\":{\"outlinewidth\":0,\"ticks\":\"\"},\"colorscale\":[[0.0,\"#0d0887\"],[0.1111111111111111,\"#46039f\"],[0.2222222222222222,\"#7201a8\"],[0.3333333333333333,\"#9c179e\"],[0.4444444444444444,\"#bd3786\"],[0.5555555555555556,\"#d8576b\"],[0.6666666666666666,\"#ed7953\"],[0.7777777777777778,\"#fb9f3a\"],[0.8888888888888888,\"#fdca26\"],[1.0,\"#f0f921\"]]}],\"contourcarpet\":[{\"type\":\"contourcarpet\",\"colorbar\":{\"outlinewidth\":0,\"ticks\":\"\"}}],\"contour\":[{\"type\":\"contour\",\"colorbar\":{\"outlinewidth\":0,\"ticks\":\"\"},\"colorscale\":[[0.0,\"#0d0887\"],[0.1111111111111111,\"#46039f\"],[0.2222222222222222,\"#7201a8\"],[0.3333333333333333,\"#9c179e\"],[0.4444444444444444,\"#bd3786\"],[0.5555555555555556,\"#d8576b\"],[0.6666666666666666,\"#ed7953\"],[0.7777777777777778,\"#fb9f3a\"],[0.8888888888888888,\"#fdca26\"],[1.0,\"#f0f921\"]]}],\"surface\":[{\"type\":\"surface\",\"colorbar\":{\"outlinewidth\":0,\"ticks\":\"\"},\"colorscale\":[[0.0,\"#0d0887\"],[0.1111111111111111,\"#46039f\"],[0.2222222222222222,\"#7201a8\"],[0.3333333333333333,\"#9c179e\"],[0.4444444444444444,\"#bd3786\"],[0.5555555555555556,\"#d8576b\"],[0.6666666666666666,\"#ed7953\"],[0.7777777777777778,\"#fb9f3a\"],[0.8888888888888888,\"#fdca26\"],[1.0,\"#f0f921\"]]}],\"mesh3d\":[{\"type\":\"mesh3d\",\"colorbar\":{\"outlinewidth\":0,\"ticks\":\"\"}}],\"scatter\":[{\"fillpattern\":{\"fillmode\":\"overlay\",\"size\":10,\"solidity\":0.2},\"type\":\"scatter\"}],\"parcoords\":[{\"type\":\"parcoords\",\"line\":{\"colorbar\":{\"outlinewidth\":0,\"ticks\":\"\"}}}],\"scatterpolargl\":[{\"type\":\"scatterpolargl\",\"marker\":{\"colorbar\":{\"outlinewidth\":0,\"ticks\":\"\"}}}],\"bar\":[{\"error_x\":{\"color\":\"#2a3f5f\"},\"error_y\":{\"color\":\"#2a3f5f\"},\"marker\":{\"line\":{\"color\":\"#E5ECF6\",\"width\":0.5},\"pattern\":{\"fillmode\":\"overlay\",\"size\":10,\"solidity\":0.2}},\"type\":\"bar\"}],\"scattergeo\":[{\"type\":\"scattergeo\",\"marker\":{\"colorbar\":{\"outlinewidth\":0,\"ticks\":\"\"}}}],\"scatterpolar\":[{\"type\":\"scatterpolar\",\"marker\":{\"colorbar\":{\"outlinewidth\":0,\"ticks\":\"\"}}}],\"histogram\":[{\"marker\":{\"pattern\":{\"fillmode\":\"overlay\",\"size\":10,\"solidity\":0.2}},\"type\":\"histogram\"}],\"scattergl\":[{\"type\":\"scattergl\",\"marker\":{\"colorbar\":{\"outlinewidth\":0,\"ticks\":\"\"}}}],\"scatter3d\":[{\"type\":\"scatter3d\",\"line\":{\"colorbar\":{\"outlinewidth\":0,\"ticks\":\"\"}},\"marker\":{\"colorbar\":{\"outlinewidth\":0,\"ticks\":\"\"}}}],\"scattermapbox\":[{\"type\":\"scattermapbox\",\"marker\":{\"colorbar\":{\"outlinewidth\":0,\"ticks\":\"\"}}}],\"scatterternary\":[{\"type\":\"scatterternary\",\"marker\":{\"colorbar\":{\"outlinewidth\":0,\"ticks\":\"\"}}}],\"scattercarpet\":[{\"type\":\"scattercarpet\",\"marker\":{\"colorbar\":{\"outlinewidth\":0,\"ticks\":\"\"}}}],\"carpet\":[{\"aaxis\":{\"endlinecolor\":\"#2a3f5f\",\"gridcolor\":\"white\",\"linecolor\":\"white\",\"minorgridcolor\":\"white\",\"startlinecolor\":\"#2a3f5f\"},\"baxis\":{\"endlinecolor\":\"#2a3f5f\",\"gridcolor\":\"white\",\"linecolor\":\"white\",\"minorgridcolor\":\"white\",\"startlinecolor\":\"#2a3f5f\"},\"type\":\"carpet\"}],\"table\":[{\"cells\":{\"fill\":{\"color\":\"#EBF0F8\"},\"line\":{\"color\":\"white\"}},\"header\":{\"fill\":{\"color\":\"#C8D4E3\"},\"line\":{\"color\":\"white\"}},\"type\":\"table\"}],\"barpolar\":[{\"marker\":{\"line\":{\"color\":\"#E5ECF6\",\"width\":0.5},\"pattern\":{\"fillmode\":\"overlay\",\"size\":10,\"solidity\":0.2}},\"type\":\"barpolar\"}],\"pie\":[{\"automargin\":true,\"type\":\"pie\"}]},\"layout\":{\"autotypenumbers\":\"strict\",\"colorway\":[\"#636efa\",\"#EF553B\",\"#00cc96\",\"#ab63fa\",\"#FFA15A\",\"#19d3f3\",\"#FF6692\",\"#B6E880\",\"#FF97FF\",\"#FECB52\"],\"font\":{\"color\":\"#2a3f5f\"},\"hovermode\":\"closest\",\"hoverlabel\":{\"align\":\"left\"},\"paper_bgcolor\":\"white\",\"plot_bgcolor\":\"#E5ECF6\",\"polar\":{\"bgcolor\":\"#E5ECF6\",\"angularaxis\":{\"gridcolor\":\"white\",\"linecolor\":\"white\",\"ticks\":\"\"},\"radialaxis\":{\"gridcolor\":\"white\",\"linecolor\":\"white\",\"ticks\":\"\"}},\"ternary\":{\"bgcolor\":\"#E5ECF6\",\"aaxis\":{\"gridcolor\":\"white\",\"linecolor\":\"white\",\"ticks\":\"\"},\"baxis\":{\"gridcolor\":\"white\",\"linecolor\":\"white\",\"ticks\":\"\"},\"caxis\":{\"gridcolor\":\"white\",\"linecolor\":\"white\",\"ticks\":\"\"}},\"coloraxis\":{\"colorbar\":{\"outlinewidth\":0,\"ticks\":\"\"}},\"colorscale\":{\"sequential\":[[0.0,\"#0d0887\"],[0.1111111111111111,\"#46039f\"],[0.2222222222222222,\"#7201a8\"],[0.3333333333333333,\"#9c179e\"],[0.4444444444444444,\"#bd3786\"],[0.5555555555555556,\"#d8576b\"],[0.6666666666666666,\"#ed7953\"],[0.7777777777777778,\"#fb9f3a\"],[0.8888888888888888,\"#fdca26\"],[1.0,\"#f0f921\"]],\"sequentialminus\":[[0.0,\"#0d0887\"],[0.1111111111111111,\"#46039f\"],[0.2222222222222222,\"#7201a8\"],[0.3333333333333333,\"#9c179e\"],[0.4444444444444444,\"#bd3786\"],[0.5555555555555556,\"#d8576b\"],[0.6666666666666666,\"#ed7953\"],[0.7777777777777778,\"#fb9f3a\"],[0.8888888888888888,\"#fdca26\"],[1.0,\"#f0f921\"]],\"diverging\":[[0,\"#8e0152\"],[0.1,\"#c51b7d\"],[0.2,\"#de77ae\"],[0.3,\"#f1b6da\"],[0.4,\"#fde0ef\"],[0.5,\"#f7f7f7\"],[0.6,\"#e6f5d0\"],[0.7,\"#b8e186\"],[0.8,\"#7fbc41\"],[0.9,\"#4d9221\"],[1,\"#276419\"]]},\"xaxis\":{\"gridcolor\":\"white\",\"linecolor\":\"white\",\"ticks\":\"\",\"title\":{\"standoff\":15},\"zerolinecolor\":\"white\",\"automargin\":true,\"zerolinewidth\":2},\"yaxis\":{\"gridcolor\":\"white\",\"linecolor\":\"white\",\"ticks\":\"\",\"title\":{\"standoff\":15},\"zerolinecolor\":\"white\",\"automargin\":true,\"zerolinewidth\":2},\"scene\":{\"xaxis\":{\"backgroundcolor\":\"#E5ECF6\",\"gridcolor\":\"white\",\"linecolor\":\"white\",\"showbackground\":true,\"ticks\":\"\",\"zerolinecolor\":\"white\",\"gridwidth\":2},\"yaxis\":{\"backgroundcolor\":\"#E5ECF6\",\"gridcolor\":\"white\",\"linecolor\":\"white\",\"showbackground\":true,\"ticks\":\"\",\"zerolinecolor\":\"white\",\"gridwidth\":2},\"zaxis\":{\"backgroundcolor\":\"#E5ECF6\",\"gridcolor\":\"white\",\"linecolor\":\"white\",\"showbackground\":true,\"ticks\":\"\",\"zerolinecolor\":\"white\",\"gridwidth\":2}},\"shapedefaults\":{\"line\":{\"color\":\"#2a3f5f\"}},\"annotationdefaults\":{\"arrowcolor\":\"#2a3f5f\",\"arrowhead\":0,\"arrowwidth\":1},\"geo\":{\"bgcolor\":\"white\",\"landcolor\":\"#E5ECF6\",\"subunitcolor\":\"white\",\"showland\":true,\"showlakes\":true,\"lakecolor\":\"white\"},\"title\":{\"x\":0.05},\"mapbox\":{\"style\":\"light\"}}},\"legend\":{\"yanchor\":\"top\",\"y\":0.99,\"xanchor\":\"right\",\"x\":1,\"bgcolor\":\"RGBA(255,255,255,0.4)\"},\"margin\":{\"l\":50,\"b\":10,\"t\":10,\"r\":40},\"width\":400,\"height\":400,\"xaxis\":{\"title\":{\"text\":\"Year\"}},\"yaxis\":{\"title\":{\"text\":\"CO\\u2082 intensity (kg\\u002fkWh)\"}}},                        {\"responsive\": true}                    ).then(function(){\n",
       "                            \n",
       "var gd = document.getElementById('a4b2a74e-bb13-40aa-874b-1deb8f674ddb');\n",
       "var x = new MutationObserver(function (mutations, observer) {{\n",
       "        var display = window.getComputedStyle(gd).display;\n",
       "        if (!display || display === 'none') {{\n",
       "            console.log([gd, 'removed!']);\n",
       "            Plotly.purge(gd);\n",
       "            observer.disconnect();\n",
       "        }}\n",
       "}});\n",
       "\n",
       "// Listen for the removal of the full notebook cells\n",
       "var notebookContainer = gd.closest('#notebook-container');\n",
       "if (notebookContainer) {{\n",
       "    x.observe(notebookContainer, {childList: true});\n",
       "}}\n",
       "\n",
       "// Listen for the clearing of the current output cell\n",
       "var outputEl = gd.closest('.output');\n",
       "if (outputEl) {{\n",
       "    x.observe(outputEl, {childList: true});\n",
       "}}\n",
       "\n",
       "                        })                };                });            </script>        </div>"
      ]
     },
     "metadata": {},
     "output_type": "display_data"
    }
   ],
   "source": [
    "fig.show()"
   ]
  },
  {
   "cell_type": "code",
   "execution_count": 134,
   "metadata": {},
   "outputs": [
    {
     "data": {
      "text/plain": [
       "array([0.17813384, 0.16992409, 0.1620927 , 0.15462225, 0.14749609,\n",
       "       0.14069836, 0.13421392, 0.12802833, 0.12212782, 0.11649925,\n",
       "       0.11113008, 0.10600837, 0.10112271, 0.09646221, 0.0920165 ,\n",
       "       0.08777569, 0.08373032, 0.0798714 , 0.07619032, 0.0726789 ,\n",
       "       0.06932931])"
      ]
     },
     "execution_count": 134,
     "metadata": {},
     "output_type": "execute_result"
    }
   ],
   "source": [
    "y_fit_central"
   ]
  },
  {
   "cell_type": "code",
   "execution_count": 135,
   "metadata": {},
   "outputs": [],
   "source": [
    "# # Convert dictionary to arrays\n",
    "# years = np.array(list(ELEC_CO2_INTENSITY.keys()))\n",
    "# central_scenario = np.array(list(ELEC_CO2_INTENSITY.values()))\n",
    "# electrification_scenario = np.array(list(ELEC_CO2_INTENSITY_ELECTRIFICATION.values()))\n",
    "\n",
    "# # Exponential decay function\n",
    "# def exp_decay(x, a, b):\n",
    "#     return a * np.exp(b * x)\n",
    "\n",
    "# # Fit the central scenario data\n",
    "# popt_central, pcov_central = curve_fit(exp_decay, years - 2020, central_scenario, p0=(0.171, -0.1))\n",
    "# a_central, b_central = popt_central\n",
    "\n",
    "# # Fit the electrification scenario data\n",
    "# popt_electrification, pcov_electrification = curve_fit(exp_decay, years - 2020, electrification_scenario, p0=(0.171, -0.1))\n",
    "# a_electrification, b_electrification = popt_electrification\n",
    "\n",
    "# # Generate data for plotting\n",
    "# x_fit = np.linspace(2020, 2040, 21)\n",
    "# y_fit_central = exp_decay(x_fit - 2020, *popt_central)\n",
    "# y_fit_electrification = exp_decay(x_fit - 2020, *popt_electrification)\n",
    "# Plot the data and the fit\n",
    "# fig = plt.figure(figsize=(10, 6))\n",
    "# plt.plot(years, central_scenario, 'o', label='Central Scenario Data')\n",
    "# plt.plot(x_fit, y_fit_central, '-', label=f'Central Scenario Fit: a={a_central:.3f}, b={b_central:.3f}')\n",
    "# plt.plot(years, electrification_scenario, 'o', label='Electrification Scenario Data')\n",
    "# plt.plot(x_fit, y_fit_electrification, '-', label=f'Electrification Scenario Fit: a={a_electrification:.3f}, b={b_electrification:.3f}')\n",
    "# plt.xlabel('Year')\n",
    "# plt.ylabel('CO2 Intensity (kg/kWh)')\n",
    "# plt.title('CO2 Intensity Projections until 2040')\n",
    "# plt.legend()\n",
    "# plt.grid(True)\n",
    "# plt.show()\n"
   ]
  },
  {
   "cell_type": "code",
   "execution_count": 136,
   "metadata": {},
   "outputs": [],
   "source": [
    "df = dynamic_co2(df, x_fit, y_fit_central, start_year = 2025, solar = True)\n",
    "df = mod_solar(df, co2_flag=True)\n",
    "\n",
    "years = np.arange(2025, 2025 + len(y_fit_central[5:]))\n",
    "for year in range(len(years)):\n",
    "    df[f'solar_injection_emissions_{year + 2025}'] = (\n",
    "        df[f'modified_emissions_{year + 2025}'] - \n",
    "        df[f'emissions_{year + 2025}'] \n",
    "    )"
   ]
  },
  {
   "cell_type": "code",
   "execution_count": 137,
   "metadata": {},
   "outputs": [
    {
     "data": {
      "application/vnd.plotly.v1+json": {
       "config": {
        "plotlyServerURL": "https://plot.ly"
       },
       "data": [
        {
         "mode": "lines+markers",
         "name": "Heat Pump + Gasboiler",
         "type": "scatter",
         "x": [
          2025,
          2026,
          2027,
          2028,
          2029,
          2030,
          2031,
          2032,
          2033,
          2034,
          2035,
          2036,
          2037,
          2038,
          2039,
          2040
         ],
         "y": [
          755.2195095158647,
          1504.9466973408596,
          2249.4346910696468,
          2988.924952268788,
          3723.6478141352804,
          4453.8229943757315,
          5179.6600844481945,
          5901.359016256053,
          6619.110507333131,
          7333.096485511317,
          8043.490494016301,
          8750.45807789345,
          9454.157152624259,
          10154.738355754176,
          10852.345382314781,
          11547.11530478716
         ]
        },
        {
         "mode": "lines+markers",
         "name": "modified Heat Pump + Gasboiler",
         "type": "scatter",
         "x": [
          2025,
          2026,
          2027,
          2028,
          2029,
          2030,
          2031,
          2032,
          2033,
          2034,
          2035,
          2036,
          2037,
          2038,
          2039,
          2040
         ],
         "y": [
          755.2195095158647,
          1504.9466973408596,
          2249.4346910696468,
          2988.924952268788,
          3723.6478141352804,
          4453.8229943757315,
          5179.6600844481945,
          5901.359016256053,
          6619.110507333131,
          7333.096485511317,
          8043.490494016301,
          8750.45807789345,
          9454.157152624259,
          10154.738355754176,
          10852.345382314781,
          11547.11530478716
         ]
        },
        {
         "mode": "lines+markers",
         "name": "standard Heat Pump + Gasboiler",
         "type": "scatter",
         "x": [
          2025,
          2026,
          2027,
          2028,
          2029,
          2030,
          2031,
          2032,
          2033,
          2034,
          2035,
          2036,
          2037,
          2038,
          2039,
          2040
         ],
         "y": [
          780.885,
          1561.77,
          2342.6549999999997,
          3123.54,
          3904.425,
          4685.3099999999995,
          5466.195,
          6247.08,
          7027.965,
          7808.85,
          8589.735,
          9370.619999999999,
          10151.505,
          10932.39,
          11713.275,
          12494.16
         ]
        },
        {
         "mode": "lines+markers",
         "name": "standard modified Heat Pump + Gasboiler",
         "type": "scatter",
         "x": [
          2025,
          2026,
          2027,
          2028,
          2029,
          2030,
          2031,
          2032,
          2033,
          2034,
          2035,
          2036,
          2037,
          2038,
          2039,
          2040
         ],
         "y": [
          780.885,
          1561.77,
          2342.6549999999997,
          3123.54,
          3904.425,
          4685.3099999999995,
          5466.195,
          6247.08,
          7027.965,
          7808.85,
          8589.735,
          9370.619999999999,
          10151.505,
          10932.39,
          11713.275,
          12494.16
         ]
        }
       ],
       "layout": {
        "legend": {
         "title": {
          "text": "Emission Categories"
         }
        },
        "template": {
         "data": {
          "bar": [
           {
            "error_x": {
             "color": "#2a3f5f"
            },
            "error_y": {
             "color": "#2a3f5f"
            },
            "marker": {
             "line": {
              "color": "#E5ECF6",
              "width": 0.5
             },
             "pattern": {
              "fillmode": "overlay",
              "size": 10,
              "solidity": 0.2
             }
            },
            "type": "bar"
           }
          ],
          "barpolar": [
           {
            "marker": {
             "line": {
              "color": "#E5ECF6",
              "width": 0.5
             },
             "pattern": {
              "fillmode": "overlay",
              "size": 10,
              "solidity": 0.2
             }
            },
            "type": "barpolar"
           }
          ],
          "carpet": [
           {
            "aaxis": {
             "endlinecolor": "#2a3f5f",
             "gridcolor": "white",
             "linecolor": "white",
             "minorgridcolor": "white",
             "startlinecolor": "#2a3f5f"
            },
            "baxis": {
             "endlinecolor": "#2a3f5f",
             "gridcolor": "white",
             "linecolor": "white",
             "minorgridcolor": "white",
             "startlinecolor": "#2a3f5f"
            },
            "type": "carpet"
           }
          ],
          "choropleth": [
           {
            "colorbar": {
             "outlinewidth": 0,
             "ticks": ""
            },
            "type": "choropleth"
           }
          ],
          "contour": [
           {
            "colorbar": {
             "outlinewidth": 0,
             "ticks": ""
            },
            "colorscale": [
             [
              0,
              "#0d0887"
             ],
             [
              0.1111111111111111,
              "#46039f"
             ],
             [
              0.2222222222222222,
              "#7201a8"
             ],
             [
              0.3333333333333333,
              "#9c179e"
             ],
             [
              0.4444444444444444,
              "#bd3786"
             ],
             [
              0.5555555555555556,
              "#d8576b"
             ],
             [
              0.6666666666666666,
              "#ed7953"
             ],
             [
              0.7777777777777778,
              "#fb9f3a"
             ],
             [
              0.8888888888888888,
              "#fdca26"
             ],
             [
              1,
              "#f0f921"
             ]
            ],
            "type": "contour"
           }
          ],
          "contourcarpet": [
           {
            "colorbar": {
             "outlinewidth": 0,
             "ticks": ""
            },
            "type": "contourcarpet"
           }
          ],
          "heatmap": [
           {
            "colorbar": {
             "outlinewidth": 0,
             "ticks": ""
            },
            "colorscale": [
             [
              0,
              "#0d0887"
             ],
             [
              0.1111111111111111,
              "#46039f"
             ],
             [
              0.2222222222222222,
              "#7201a8"
             ],
             [
              0.3333333333333333,
              "#9c179e"
             ],
             [
              0.4444444444444444,
              "#bd3786"
             ],
             [
              0.5555555555555556,
              "#d8576b"
             ],
             [
              0.6666666666666666,
              "#ed7953"
             ],
             [
              0.7777777777777778,
              "#fb9f3a"
             ],
             [
              0.8888888888888888,
              "#fdca26"
             ],
             [
              1,
              "#f0f921"
             ]
            ],
            "type": "heatmap"
           }
          ],
          "heatmapgl": [
           {
            "colorbar": {
             "outlinewidth": 0,
             "ticks": ""
            },
            "colorscale": [
             [
              0,
              "#0d0887"
             ],
             [
              0.1111111111111111,
              "#46039f"
             ],
             [
              0.2222222222222222,
              "#7201a8"
             ],
             [
              0.3333333333333333,
              "#9c179e"
             ],
             [
              0.4444444444444444,
              "#bd3786"
             ],
             [
              0.5555555555555556,
              "#d8576b"
             ],
             [
              0.6666666666666666,
              "#ed7953"
             ],
             [
              0.7777777777777778,
              "#fb9f3a"
             ],
             [
              0.8888888888888888,
              "#fdca26"
             ],
             [
              1,
              "#f0f921"
             ]
            ],
            "type": "heatmapgl"
           }
          ],
          "histogram": [
           {
            "marker": {
             "pattern": {
              "fillmode": "overlay",
              "size": 10,
              "solidity": 0.2
             }
            },
            "type": "histogram"
           }
          ],
          "histogram2d": [
           {
            "colorbar": {
             "outlinewidth": 0,
             "ticks": ""
            },
            "colorscale": [
             [
              0,
              "#0d0887"
             ],
             [
              0.1111111111111111,
              "#46039f"
             ],
             [
              0.2222222222222222,
              "#7201a8"
             ],
             [
              0.3333333333333333,
              "#9c179e"
             ],
             [
              0.4444444444444444,
              "#bd3786"
             ],
             [
              0.5555555555555556,
              "#d8576b"
             ],
             [
              0.6666666666666666,
              "#ed7953"
             ],
             [
              0.7777777777777778,
              "#fb9f3a"
             ],
             [
              0.8888888888888888,
              "#fdca26"
             ],
             [
              1,
              "#f0f921"
             ]
            ],
            "type": "histogram2d"
           }
          ],
          "histogram2dcontour": [
           {
            "colorbar": {
             "outlinewidth": 0,
             "ticks": ""
            },
            "colorscale": [
             [
              0,
              "#0d0887"
             ],
             [
              0.1111111111111111,
              "#46039f"
             ],
             [
              0.2222222222222222,
              "#7201a8"
             ],
             [
              0.3333333333333333,
              "#9c179e"
             ],
             [
              0.4444444444444444,
              "#bd3786"
             ],
             [
              0.5555555555555556,
              "#d8576b"
             ],
             [
              0.6666666666666666,
              "#ed7953"
             ],
             [
              0.7777777777777778,
              "#fb9f3a"
             ],
             [
              0.8888888888888888,
              "#fdca26"
             ],
             [
              1,
              "#f0f921"
             ]
            ],
            "type": "histogram2dcontour"
           }
          ],
          "mesh3d": [
           {
            "colorbar": {
             "outlinewidth": 0,
             "ticks": ""
            },
            "type": "mesh3d"
           }
          ],
          "parcoords": [
           {
            "line": {
             "colorbar": {
              "outlinewidth": 0,
              "ticks": ""
             }
            },
            "type": "parcoords"
           }
          ],
          "pie": [
           {
            "automargin": true,
            "type": "pie"
           }
          ],
          "scatter": [
           {
            "fillpattern": {
             "fillmode": "overlay",
             "size": 10,
             "solidity": 0.2
            },
            "type": "scatter"
           }
          ],
          "scatter3d": [
           {
            "line": {
             "colorbar": {
              "outlinewidth": 0,
              "ticks": ""
             }
            },
            "marker": {
             "colorbar": {
              "outlinewidth": 0,
              "ticks": ""
             }
            },
            "type": "scatter3d"
           }
          ],
          "scattercarpet": [
           {
            "marker": {
             "colorbar": {
              "outlinewidth": 0,
              "ticks": ""
             }
            },
            "type": "scattercarpet"
           }
          ],
          "scattergeo": [
           {
            "marker": {
             "colorbar": {
              "outlinewidth": 0,
              "ticks": ""
             }
            },
            "type": "scattergeo"
           }
          ],
          "scattergl": [
           {
            "marker": {
             "colorbar": {
              "outlinewidth": 0,
              "ticks": ""
             }
            },
            "type": "scattergl"
           }
          ],
          "scattermapbox": [
           {
            "marker": {
             "colorbar": {
              "outlinewidth": 0,
              "ticks": ""
             }
            },
            "type": "scattermapbox"
           }
          ],
          "scatterpolar": [
           {
            "marker": {
             "colorbar": {
              "outlinewidth": 0,
              "ticks": ""
             }
            },
            "type": "scatterpolar"
           }
          ],
          "scatterpolargl": [
           {
            "marker": {
             "colorbar": {
              "outlinewidth": 0,
              "ticks": ""
             }
            },
            "type": "scatterpolargl"
           }
          ],
          "scatterternary": [
           {
            "marker": {
             "colorbar": {
              "outlinewidth": 0,
              "ticks": ""
             }
            },
            "type": "scatterternary"
           }
          ],
          "surface": [
           {
            "colorbar": {
             "outlinewidth": 0,
             "ticks": ""
            },
            "colorscale": [
             [
              0,
              "#0d0887"
             ],
             [
              0.1111111111111111,
              "#46039f"
             ],
             [
              0.2222222222222222,
              "#7201a8"
             ],
             [
              0.3333333333333333,
              "#9c179e"
             ],
             [
              0.4444444444444444,
              "#bd3786"
             ],
             [
              0.5555555555555556,
              "#d8576b"
             ],
             [
              0.6666666666666666,
              "#ed7953"
             ],
             [
              0.7777777777777778,
              "#fb9f3a"
             ],
             [
              0.8888888888888888,
              "#fdca26"
             ],
             [
              1,
              "#f0f921"
             ]
            ],
            "type": "surface"
           }
          ],
          "table": [
           {
            "cells": {
             "fill": {
              "color": "#EBF0F8"
             },
             "line": {
              "color": "white"
             }
            },
            "header": {
             "fill": {
              "color": "#C8D4E3"
             },
             "line": {
              "color": "white"
             }
            },
            "type": "table"
           }
          ]
         },
         "layout": {
          "annotationdefaults": {
           "arrowcolor": "#2a3f5f",
           "arrowhead": 0,
           "arrowwidth": 1
          },
          "autotypenumbers": "strict",
          "coloraxis": {
           "colorbar": {
            "outlinewidth": 0,
            "ticks": ""
           }
          },
          "colorscale": {
           "diverging": [
            [
             0,
             "#8e0152"
            ],
            [
             0.1,
             "#c51b7d"
            ],
            [
             0.2,
             "#de77ae"
            ],
            [
             0.3,
             "#f1b6da"
            ],
            [
             0.4,
             "#fde0ef"
            ],
            [
             0.5,
             "#f7f7f7"
            ],
            [
             0.6,
             "#e6f5d0"
            ],
            [
             0.7,
             "#b8e186"
            ],
            [
             0.8,
             "#7fbc41"
            ],
            [
             0.9,
             "#4d9221"
            ],
            [
             1,
             "#276419"
            ]
           ],
           "sequential": [
            [
             0,
             "#0d0887"
            ],
            [
             0.1111111111111111,
             "#46039f"
            ],
            [
             0.2222222222222222,
             "#7201a8"
            ],
            [
             0.3333333333333333,
             "#9c179e"
            ],
            [
             0.4444444444444444,
             "#bd3786"
            ],
            [
             0.5555555555555556,
             "#d8576b"
            ],
            [
             0.6666666666666666,
             "#ed7953"
            ],
            [
             0.7777777777777778,
             "#fb9f3a"
            ],
            [
             0.8888888888888888,
             "#fdca26"
            ],
            [
             1,
             "#f0f921"
            ]
           ],
           "sequentialminus": [
            [
             0,
             "#0d0887"
            ],
            [
             0.1111111111111111,
             "#46039f"
            ],
            [
             0.2222222222222222,
             "#7201a8"
            ],
            [
             0.3333333333333333,
             "#9c179e"
            ],
            [
             0.4444444444444444,
             "#bd3786"
            ],
            [
             0.5555555555555556,
             "#d8576b"
            ],
            [
             0.6666666666666666,
             "#ed7953"
            ],
            [
             0.7777777777777778,
             "#fb9f3a"
            ],
            [
             0.8888888888888888,
             "#fdca26"
            ],
            [
             1,
             "#f0f921"
            ]
           ]
          },
          "colorway": [
           "#636efa",
           "#EF553B",
           "#00cc96",
           "#ab63fa",
           "#FFA15A",
           "#19d3f3",
           "#FF6692",
           "#B6E880",
           "#FF97FF",
           "#FECB52"
          ],
          "font": {
           "color": "#2a3f5f"
          },
          "geo": {
           "bgcolor": "white",
           "lakecolor": "white",
           "landcolor": "#E5ECF6",
           "showlakes": true,
           "showland": true,
           "subunitcolor": "white"
          },
          "hoverlabel": {
           "align": "left"
          },
          "hovermode": "closest",
          "mapbox": {
           "style": "light"
          },
          "paper_bgcolor": "white",
          "plot_bgcolor": "#E5ECF6",
          "polar": {
           "angularaxis": {
            "gridcolor": "white",
            "linecolor": "white",
            "ticks": ""
           },
           "bgcolor": "#E5ECF6",
           "radialaxis": {
            "gridcolor": "white",
            "linecolor": "white",
            "ticks": ""
           }
          },
          "scene": {
           "xaxis": {
            "backgroundcolor": "#E5ECF6",
            "gridcolor": "white",
            "gridwidth": 2,
            "linecolor": "white",
            "showbackground": true,
            "ticks": "",
            "zerolinecolor": "white"
           },
           "yaxis": {
            "backgroundcolor": "#E5ECF6",
            "gridcolor": "white",
            "gridwidth": 2,
            "linecolor": "white",
            "showbackground": true,
            "ticks": "",
            "zerolinecolor": "white"
           },
           "zaxis": {
            "backgroundcolor": "#E5ECF6",
            "gridcolor": "white",
            "gridwidth": 2,
            "linecolor": "white",
            "showbackground": true,
            "ticks": "",
            "zerolinecolor": "white"
           }
          },
          "shapedefaults": {
           "line": {
            "color": "#2a3f5f"
           }
          },
          "ternary": {
           "aaxis": {
            "gridcolor": "white",
            "linecolor": "white",
            "ticks": ""
           },
           "baxis": {
            "gridcolor": "white",
            "linecolor": "white",
            "ticks": ""
           },
           "bgcolor": "#E5ECF6",
           "caxis": {
            "gridcolor": "white",
            "linecolor": "white",
            "ticks": ""
           }
          },
          "title": {
           "x": 0.05
          },
          "xaxis": {
           "automargin": true,
           "gridcolor": "white",
           "linecolor": "white",
           "ticks": "",
           "title": {
            "standoff": 15
           },
           "zerolinecolor": "white",
           "zerolinewidth": 2
          },
          "yaxis": {
           "automargin": true,
           "gridcolor": "white",
           "linecolor": "white",
           "ticks": "",
           "title": {
            "standoff": 15
           },
           "zerolinecolor": "white",
           "zerolinewidth": 2
          }
         }
        },
        "title": {
         "text": "Yearly Cumulative Emissions"
        },
        "xaxis": {
         "title": {
          "text": "Year"
         }
        },
        "yaxis": {
         "title": {
          "text": "Cumulative Emissions (kg CO2)"
         }
        }
       }
      },
      "text/html": [
       "<div>                            <div id=\"a2782258-59c2-4f97-8a79-01a590192daf\" class=\"plotly-graph-div\" style=\"height:525px; width:100%;\"></div>            <script type=\"text/javascript\">                require([\"plotly\"], function(Plotly) {                    window.PLOTLYENV=window.PLOTLYENV || {};                                    if (document.getElementById(\"a2782258-59c2-4f97-8a79-01a590192daf\")) {                    Plotly.newPlot(                        \"a2782258-59c2-4f97-8a79-01a590192daf\",                        [{\"mode\":\"lines+markers\",\"name\":\"Heat Pump + Gasboiler\",\"x\":[2025,2026,2027,2028,2029,2030,2031,2032,2033,2034,2035,2036,2037,2038,2039,2040],\"y\":[755.2195095158647,1504.9466973408596,2249.4346910696468,2988.924952268788,3723.6478141352804,4453.8229943757315,5179.6600844481945,5901.359016256053,6619.110507333131,7333.096485511317,8043.490494016301,8750.45807789345,9454.157152624259,10154.738355754176,10852.345382314781,11547.11530478716],\"type\":\"scatter\"},{\"mode\":\"lines+markers\",\"name\":\"modified Heat Pump + Gasboiler\",\"x\":[2025,2026,2027,2028,2029,2030,2031,2032,2033,2034,2035,2036,2037,2038,2039,2040],\"y\":[755.2195095158647,1504.9466973408596,2249.4346910696468,2988.924952268788,3723.6478141352804,4453.8229943757315,5179.6600844481945,5901.359016256053,6619.110507333131,7333.096485511317,8043.490494016301,8750.45807789345,9454.157152624259,10154.738355754176,10852.345382314781,11547.11530478716],\"type\":\"scatter\"},{\"mode\":\"lines+markers\",\"name\":\"standard Heat Pump + Gasboiler\",\"x\":[2025,2026,2027,2028,2029,2030,2031,2032,2033,2034,2035,2036,2037,2038,2039,2040],\"y\":[780.885,1561.77,2342.6549999999997,3123.54,3904.425,4685.3099999999995,5466.195,6247.08,7027.965,7808.85,8589.735,9370.619999999999,10151.505,10932.39,11713.275,12494.16],\"type\":\"scatter\"},{\"mode\":\"lines+markers\",\"name\":\"standard modified Heat Pump + Gasboiler\",\"x\":[2025,2026,2027,2028,2029,2030,2031,2032,2033,2034,2035,2036,2037,2038,2039,2040],\"y\":[780.885,1561.77,2342.6549999999997,3123.54,3904.425,4685.3099999999995,5466.195,6247.08,7027.965,7808.85,8589.735,9370.619999999999,10151.505,10932.39,11713.275,12494.16],\"type\":\"scatter\"}],                        {\"template\":{\"data\":{\"histogram2dcontour\":[{\"type\":\"histogram2dcontour\",\"colorbar\":{\"outlinewidth\":0,\"ticks\":\"\"},\"colorscale\":[[0.0,\"#0d0887\"],[0.1111111111111111,\"#46039f\"],[0.2222222222222222,\"#7201a8\"],[0.3333333333333333,\"#9c179e\"],[0.4444444444444444,\"#bd3786\"],[0.5555555555555556,\"#d8576b\"],[0.6666666666666666,\"#ed7953\"],[0.7777777777777778,\"#fb9f3a\"],[0.8888888888888888,\"#fdca26\"],[1.0,\"#f0f921\"]]}],\"choropleth\":[{\"type\":\"choropleth\",\"colorbar\":{\"outlinewidth\":0,\"ticks\":\"\"}}],\"histogram2d\":[{\"type\":\"histogram2d\",\"colorbar\":{\"outlinewidth\":0,\"ticks\":\"\"},\"colorscale\":[[0.0,\"#0d0887\"],[0.1111111111111111,\"#46039f\"],[0.2222222222222222,\"#7201a8\"],[0.3333333333333333,\"#9c179e\"],[0.4444444444444444,\"#bd3786\"],[0.5555555555555556,\"#d8576b\"],[0.6666666666666666,\"#ed7953\"],[0.7777777777777778,\"#fb9f3a\"],[0.8888888888888888,\"#fdca26\"],[1.0,\"#f0f921\"]]}],\"heatmap\":[{\"type\":\"heatmap\",\"colorbar\":{\"outlinewidth\":0,\"ticks\":\"\"},\"colorscale\":[[0.0,\"#0d0887\"],[0.1111111111111111,\"#46039f\"],[0.2222222222222222,\"#7201a8\"],[0.3333333333333333,\"#9c179e\"],[0.4444444444444444,\"#bd3786\"],[0.5555555555555556,\"#d8576b\"],[0.6666666666666666,\"#ed7953\"],[0.7777777777777778,\"#fb9f3a\"],[0.8888888888888888,\"#fdca26\"],[1.0,\"#f0f921\"]]}],\"heatmapgl\":[{\"type\":\"heatmapgl\",\"colorbar\":{\"outlinewidth\":0,\"ticks\":\"\"},\"colorscale\":[[0.0,\"#0d0887\"],[0.1111111111111111,\"#46039f\"],[0.2222222222222222,\"#7201a8\"],[0.3333333333333333,\"#9c179e\"],[0.4444444444444444,\"#bd3786\"],[0.5555555555555556,\"#d8576b\"],[0.6666666666666666,\"#ed7953\"],[0.7777777777777778,\"#fb9f3a\"],[0.8888888888888888,\"#fdca26\"],[1.0,\"#f0f921\"]]}],\"contourcarpet\":[{\"type\":\"contourcarpet\",\"colorbar\":{\"outlinewidth\":0,\"ticks\":\"\"}}],\"contour\":[{\"type\":\"contour\",\"colorbar\":{\"outlinewidth\":0,\"ticks\":\"\"},\"colorscale\":[[0.0,\"#0d0887\"],[0.1111111111111111,\"#46039f\"],[0.2222222222222222,\"#7201a8\"],[0.3333333333333333,\"#9c179e\"],[0.4444444444444444,\"#bd3786\"],[0.5555555555555556,\"#d8576b\"],[0.6666666666666666,\"#ed7953\"],[0.7777777777777778,\"#fb9f3a\"],[0.8888888888888888,\"#fdca26\"],[1.0,\"#f0f921\"]]}],\"surface\":[{\"type\":\"surface\",\"colorbar\":{\"outlinewidth\":0,\"ticks\":\"\"},\"colorscale\":[[0.0,\"#0d0887\"],[0.1111111111111111,\"#46039f\"],[0.2222222222222222,\"#7201a8\"],[0.3333333333333333,\"#9c179e\"],[0.4444444444444444,\"#bd3786\"],[0.5555555555555556,\"#d8576b\"],[0.6666666666666666,\"#ed7953\"],[0.7777777777777778,\"#fb9f3a\"],[0.8888888888888888,\"#fdca26\"],[1.0,\"#f0f921\"]]}],\"mesh3d\":[{\"type\":\"mesh3d\",\"colorbar\":{\"outlinewidth\":0,\"ticks\":\"\"}}],\"scatter\":[{\"fillpattern\":{\"fillmode\":\"overlay\",\"size\":10,\"solidity\":0.2},\"type\":\"scatter\"}],\"parcoords\":[{\"type\":\"parcoords\",\"line\":{\"colorbar\":{\"outlinewidth\":0,\"ticks\":\"\"}}}],\"scatterpolargl\":[{\"type\":\"scatterpolargl\",\"marker\":{\"colorbar\":{\"outlinewidth\":0,\"ticks\":\"\"}}}],\"bar\":[{\"error_x\":{\"color\":\"#2a3f5f\"},\"error_y\":{\"color\":\"#2a3f5f\"},\"marker\":{\"line\":{\"color\":\"#E5ECF6\",\"width\":0.5},\"pattern\":{\"fillmode\":\"overlay\",\"size\":10,\"solidity\":0.2}},\"type\":\"bar\"}],\"scattergeo\":[{\"type\":\"scattergeo\",\"marker\":{\"colorbar\":{\"outlinewidth\":0,\"ticks\":\"\"}}}],\"scatterpolar\":[{\"type\":\"scatterpolar\",\"marker\":{\"colorbar\":{\"outlinewidth\":0,\"ticks\":\"\"}}}],\"histogram\":[{\"marker\":{\"pattern\":{\"fillmode\":\"overlay\",\"size\":10,\"solidity\":0.2}},\"type\":\"histogram\"}],\"scattergl\":[{\"type\":\"scattergl\",\"marker\":{\"colorbar\":{\"outlinewidth\":0,\"ticks\":\"\"}}}],\"scatter3d\":[{\"type\":\"scatter3d\",\"line\":{\"colorbar\":{\"outlinewidth\":0,\"ticks\":\"\"}},\"marker\":{\"colorbar\":{\"outlinewidth\":0,\"ticks\":\"\"}}}],\"scattermapbox\":[{\"type\":\"scattermapbox\",\"marker\":{\"colorbar\":{\"outlinewidth\":0,\"ticks\":\"\"}}}],\"scatterternary\":[{\"type\":\"scatterternary\",\"marker\":{\"colorbar\":{\"outlinewidth\":0,\"ticks\":\"\"}}}],\"scattercarpet\":[{\"type\":\"scattercarpet\",\"marker\":{\"colorbar\":{\"outlinewidth\":0,\"ticks\":\"\"}}}],\"carpet\":[{\"aaxis\":{\"endlinecolor\":\"#2a3f5f\",\"gridcolor\":\"white\",\"linecolor\":\"white\",\"minorgridcolor\":\"white\",\"startlinecolor\":\"#2a3f5f\"},\"baxis\":{\"endlinecolor\":\"#2a3f5f\",\"gridcolor\":\"white\",\"linecolor\":\"white\",\"minorgridcolor\":\"white\",\"startlinecolor\":\"#2a3f5f\"},\"type\":\"carpet\"}],\"table\":[{\"cells\":{\"fill\":{\"color\":\"#EBF0F8\"},\"line\":{\"color\":\"white\"}},\"header\":{\"fill\":{\"color\":\"#C8D4E3\"},\"line\":{\"color\":\"white\"}},\"type\":\"table\"}],\"barpolar\":[{\"marker\":{\"line\":{\"color\":\"#E5ECF6\",\"width\":0.5},\"pattern\":{\"fillmode\":\"overlay\",\"size\":10,\"solidity\":0.2}},\"type\":\"barpolar\"}],\"pie\":[{\"automargin\":true,\"type\":\"pie\"}]},\"layout\":{\"autotypenumbers\":\"strict\",\"colorway\":[\"#636efa\",\"#EF553B\",\"#00cc96\",\"#ab63fa\",\"#FFA15A\",\"#19d3f3\",\"#FF6692\",\"#B6E880\",\"#FF97FF\",\"#FECB52\"],\"font\":{\"color\":\"#2a3f5f\"},\"hovermode\":\"closest\",\"hoverlabel\":{\"align\":\"left\"},\"paper_bgcolor\":\"white\",\"plot_bgcolor\":\"#E5ECF6\",\"polar\":{\"bgcolor\":\"#E5ECF6\",\"angularaxis\":{\"gridcolor\":\"white\",\"linecolor\":\"white\",\"ticks\":\"\"},\"radialaxis\":{\"gridcolor\":\"white\",\"linecolor\":\"white\",\"ticks\":\"\"}},\"ternary\":{\"bgcolor\":\"#E5ECF6\",\"aaxis\":{\"gridcolor\":\"white\",\"linecolor\":\"white\",\"ticks\":\"\"},\"baxis\":{\"gridcolor\":\"white\",\"linecolor\":\"white\",\"ticks\":\"\"},\"caxis\":{\"gridcolor\":\"white\",\"linecolor\":\"white\",\"ticks\":\"\"}},\"coloraxis\":{\"colorbar\":{\"outlinewidth\":0,\"ticks\":\"\"}},\"colorscale\":{\"sequential\":[[0.0,\"#0d0887\"],[0.1111111111111111,\"#46039f\"],[0.2222222222222222,\"#7201a8\"],[0.3333333333333333,\"#9c179e\"],[0.4444444444444444,\"#bd3786\"],[0.5555555555555556,\"#d8576b\"],[0.6666666666666666,\"#ed7953\"],[0.7777777777777778,\"#fb9f3a\"],[0.8888888888888888,\"#fdca26\"],[1.0,\"#f0f921\"]],\"sequentialminus\":[[0.0,\"#0d0887\"],[0.1111111111111111,\"#46039f\"],[0.2222222222222222,\"#7201a8\"],[0.3333333333333333,\"#9c179e\"],[0.4444444444444444,\"#bd3786\"],[0.5555555555555556,\"#d8576b\"],[0.6666666666666666,\"#ed7953\"],[0.7777777777777778,\"#fb9f3a\"],[0.8888888888888888,\"#fdca26\"],[1.0,\"#f0f921\"]],\"diverging\":[[0,\"#8e0152\"],[0.1,\"#c51b7d\"],[0.2,\"#de77ae\"],[0.3,\"#f1b6da\"],[0.4,\"#fde0ef\"],[0.5,\"#f7f7f7\"],[0.6,\"#e6f5d0\"],[0.7,\"#b8e186\"],[0.8,\"#7fbc41\"],[0.9,\"#4d9221\"],[1,\"#276419\"]]},\"xaxis\":{\"gridcolor\":\"white\",\"linecolor\":\"white\",\"ticks\":\"\",\"title\":{\"standoff\":15},\"zerolinecolor\":\"white\",\"automargin\":true,\"zerolinewidth\":2},\"yaxis\":{\"gridcolor\":\"white\",\"linecolor\":\"white\",\"ticks\":\"\",\"title\":{\"standoff\":15},\"zerolinecolor\":\"white\",\"automargin\":true,\"zerolinewidth\":2},\"scene\":{\"xaxis\":{\"backgroundcolor\":\"#E5ECF6\",\"gridcolor\":\"white\",\"linecolor\":\"white\",\"showbackground\":true,\"ticks\":\"\",\"zerolinecolor\":\"white\",\"gridwidth\":2},\"yaxis\":{\"backgroundcolor\":\"#E5ECF6\",\"gridcolor\":\"white\",\"linecolor\":\"white\",\"showbackground\":true,\"ticks\":\"\",\"zerolinecolor\":\"white\",\"gridwidth\":2},\"zaxis\":{\"backgroundcolor\":\"#E5ECF6\",\"gridcolor\":\"white\",\"linecolor\":\"white\",\"showbackground\":true,\"ticks\":\"\",\"zerolinecolor\":\"white\",\"gridwidth\":2}},\"shapedefaults\":{\"line\":{\"color\":\"#2a3f5f\"}},\"annotationdefaults\":{\"arrowcolor\":\"#2a3f5f\",\"arrowhead\":0,\"arrowwidth\":1},\"geo\":{\"bgcolor\":\"white\",\"landcolor\":\"#E5ECF6\",\"subunitcolor\":\"white\",\"showland\":true,\"showlakes\":true,\"lakecolor\":\"white\"},\"title\":{\"x\":0.05},\"mapbox\":{\"style\":\"light\"}}},\"title\":{\"text\":\"Yearly Cumulative Emissions\"},\"xaxis\":{\"title\":{\"text\":\"Year\"}},\"yaxis\":{\"title\":{\"text\":\"Cumulative Emissions (kg CO2)\"}},\"legend\":{\"title\":{\"text\":\"Emission Categories\"}}},                        {\"responsive\": true}                    ).then(function(){\n",
       "                            \n",
       "var gd = document.getElementById('a2782258-59c2-4f97-8a79-01a590192daf');\n",
       "var x = new MutationObserver(function (mutations, observer) {{\n",
       "        var display = window.getComputedStyle(gd).display;\n",
       "        if (!display || display === 'none') {{\n",
       "            console.log([gd, 'removed!']);\n",
       "            Plotly.purge(gd);\n",
       "            observer.disconnect();\n",
       "        }}\n",
       "}});\n",
       "\n",
       "// Listen for the removal of the full notebook cells\n",
       "var notebookContainer = gd.closest('#notebook-container');\n",
       "if (notebookContainer) {{\n",
       "    x.observe(notebookContainer, {childList: true});\n",
       "}}\n",
       "\n",
       "// Listen for the clearing of the current output cell\n",
       "var outputEl = gd.closest('.output');\n",
       "if (outputEl) {{\n",
       "    x.observe(outputEl, {childList: true});\n",
       "}}\n",
       "\n",
       "                        })                };                });            </script>        </div>"
      ]
     },
     "metadata": {},
     "output_type": "display_data"
    }
   ],
   "source": [
    "testcase = df[df.epc_ind<=100].sort_values(by = 'tco', ascending = True).drop_duplicates(subset = 'name', keep = 'first')\n",
    "testcase = testcase[testcase.name == 'type_0']\n",
    "fig = go.Figure()\n",
    "for heating_system in testcase.heating_system.unique():\n",
    "    for dhw_system in testcase.dhw_system.unique():\n",
    "        tmp = testcase[(testcase.heating_system == heating_system) & (testcase.dhw_system == dhw_system)]\n",
    "        years = np.arange(2025, 2025 + len(y_fit_central[5:]))\n",
    "        total_co2_cumulative = tmp['total_co2'].values * np.array([1 for i in range(16)]).cumsum()\n",
    "        modified_total_co2_cumulative = tmp['total_co2_modified'].values * np.array([1 for i in range(16)]).cumsum()\n",
    "        new_emissions_cumulative = tmp[[f'emissions_{year + 2025}' for year in range(len(y_fit_central[5:]))]].cumsum(axis=1)\n",
    "        modified_new_emissions_cumulative = tmp[[f'modified_emissions_{year + 2025}' for year in range(len(y_fit_central[5:]))]].cumsum(axis=1)\n",
    "        #new_emissions_cumulative = tmp[[f'emissions_{year + 2025}' for year in range(len(y_fit_central[5:]))]]\n",
    "        # Create the Plotly scatter plot\n",
    "\n",
    "\n",
    "        # Add total_co2 cumulative emissions\n",
    "        # fig.add_trace(go.Scatter(\n",
    "        #     x=years,\n",
    "        #     y=total_co2_cumulative,\n",
    "        #     mode='lines+markers',\n",
    "        #     name='Total CO2 (Original)'\n",
    "        # ))\n",
    "        fig.add_trace(go.Scatter(\n",
    "            x=years,\n",
    "            y=new_emissions_cumulative.values[0],\n",
    "            mode='lines+markers',\n",
    "            name=f'{heating_system} + {dhw_system}'\n",
    "        ))\n",
    "        fig.add_trace(go.Scatter(\n",
    "            x=years,\n",
    "            y=modified_new_emissions_cumulative.values[0],\n",
    "            mode='lines+markers',\n",
    "            name=f'modified {heating_system} + {dhw_system}'\n",
    "        ))\n",
    "        fig.add_trace(go.Scatter(\n",
    "            x=years,\n",
    "            y=total_co2_cumulative,\n",
    "            mode='lines+markers',\n",
    "            name=f'standard {heating_system} + {dhw_system}'\n",
    "        ))\n",
    "        fig.add_trace(go.Scatter(\n",
    "            x=years,\n",
    "            y=modified_total_co2_cumulative,\n",
    "            mode='lines+markers',\n",
    "            name=f'standard modified {heating_system} + {dhw_system}'\n",
    "        ))\n",
    "        \n",
    "# # Add newly calculated cumulative emissions\n",
    "# tmp = testcase[testcase.heating_system == 'Heat Pump']\n",
    "# years = np.arange(2025, 2025 + len(y_fit_central[5:]))\n",
    "# #total_co2_cumulative = tmp['total_co2'].values * np.array([1 for i in range(16)]).cumsum()\n",
    "# new_emissions_cumulative = tmp[[f'emissions_{year + 2025}' for year in range(len(y_fit_central[5:]))]].cumsum(axis=1)\n",
    "# for i in range(new_emissions_cumulative.shape[0]):\n",
    "#     fig.add_trace(go.Scatter(\n",
    "#         x=years,\n",
    "#         y=new_emissions_cumulative.iloc[i],\n",
    "#         mode='lines+markers',\n",
    "#         name=f'{tmp.heating_system.values}'\n",
    "#     ))\n",
    "\n",
    "# Update layout\n",
    "fig.update_layout(\n",
    "    title='Yearly Cumulative Emissions',\n",
    "    xaxis_title='Year',\n",
    "    yaxis_title='Cumulative Emissions (kg CO2)',\n",
    "    legend_title='Emission Categories'\n",
    ")\n",
    "\n",
    "# Show the plot\n",
    "fig.show()"
   ]
  },
  {
   "cell_type": "code",
   "execution_count": 176,
   "metadata": {},
   "outputs": [
    {
     "data": {
      "application/vnd.plotly.v1+json": {
       "config": {
        "plotlyServerURL": "https://plot.ly"
       },
       "data": [
        {
         "fill": "tonexty",
         "name": "GESLOTEN - Modified CO2 Emissions",
         "type": "scatter",
         "x": [
          2025,
          2025,
          2025,
          2026,
          2026,
          2026,
          2027,
          2027,
          2027,
          2028,
          2028,
          2028,
          2029,
          2029,
          2029,
          2030,
          2030,
          2030,
          2031,
          2031,
          2031,
          2032,
          2032,
          2032,
          2033,
          2033,
          2033,
          2034,
          2034,
          2034,
          2035,
          2035,
          2035,
          2036,
          2036,
          2036,
          2037,
          2037,
          2037,
          2038,
          2038,
          2038,
          2039,
          2039,
          2039,
          2040,
          2040,
          2040
         ],
         "xaxis": "x",
         "y": [
          74666.67928503598,
          74666.67928503598,
          74666.67928503598,
          74123.89913493647,
          74123.89913493647,
          74123.89913493647,
          73606.13438662114,
          73606.13438662114,
          73606.13438662114,
          73112.23214176402,
          73112.23214176402,
          73112.23214176402,
          72641.09263628663,
          72641.09263628663,
          72641.09263628663,
          72191.66679153123,
          72191.66679153123,
          72191.66679153123,
          71762.9538782946,
          71762.9538782946,
          71762.9538782946,
          71353.99928852044,
          71353.99928852044,
          71353.99928852044,
          70963.89240968929,
          70963.89240968929,
          70963.89240968929,
          70591.76459717246,
          70591.76459717246,
          70591.76459717246,
          70236.78724003513,
          70236.78724003513,
          70236.78724003513,
          69898.16991598201,
          69898.16991598201,
          69898.16991598201,
          69575.15863133676,
          69575.15863133676,
          69575.15863133676,
          69267.03414213668,
          69267.03414213668,
          69267.03414213668,
          68973.11035260379,
          68973.11035260379,
          68973.11035260379,
          68692.73278742663,
          68692.73278742663,
          68692.73278742663
         ],
         "yaxis": "y"
        },
        {
         "fill": "tonexty",
         "name": "GESLOTEN - Solar CO2 Emissions",
         "type": "scatter",
         "x": [
          2025,
          2025,
          2025,
          2026,
          2026,
          2026,
          2027,
          2027,
          2027,
          2028,
          2028,
          2028,
          2029,
          2029,
          2029,
          2030,
          2030,
          2030,
          2031,
          2031,
          2031,
          2032,
          2032,
          2032,
          2033,
          2033,
          2033,
          2034,
          2034,
          2034,
          2035,
          2035,
          2035,
          2036,
          2036,
          2036,
          2037,
          2037,
          2037,
          2038,
          2038,
          2038,
          2039,
          2039,
          2039,
          2040,
          2040,
          2040
         ],
         "xaxis": "x",
         "y": [
          -18206.64896620063,
          -18206.64896620063,
          -18206.64896620063,
          -17367.549306883095,
          -17367.549306883095,
          -17367.549306883095,
          -16567.12168653187,
          -16567.12168653187,
          -16567.12168653187,
          -15803.583806010964,
          -15803.583806010964,
          -15803.583806010964,
          -15075.23550796679,
          -15075.23550796679,
          -15075.23550796679,
          -14380.45499111552,
          -14380.45499111552,
          -14380.45499111552,
          -13717.695199004575,
          -13717.695199004575,
          -13717.695199004575,
          -13085.480375207237,
          -13085.480375207237,
          -13085.480375207237,
          -12482.40277727989,
          -12482.40277727989,
          -12482.40277727989,
          -11907.119542164855,
          -11907.119542164855,
          -11907.119542164855,
          -11358.349696059082,
          -11358.349696059082,
          -11358.349696059082,
          -10834.871302090713,
          -10834.871302090713,
          -10834.871302090713,
          -10335.51873945212,
          -10335.51873945212,
          -10335.51873945212,
          -9859.180107931064,
          -9859.180107931064,
          -9859.180107931064,
          -9404.79475206063,
          -9404.79475206063,
          -9404.79475206063,
          -8971.350899374971,
          -8971.350899374971,
          -8971.350899374971
         ],
         "yaxis": "y"
        },
        {
         "fill": "tonexty",
         "name": "GESLOTEN - Net CO2 Emissions",
         "type": "scatter",
         "x": [
          2025,
          2025,
          2025,
          2026,
          2026,
          2026,
          2027,
          2027,
          2027,
          2028,
          2028,
          2028,
          2029,
          2029,
          2029,
          2030,
          2030,
          2030,
          2031,
          2031,
          2031,
          2032,
          2032,
          2032,
          2033,
          2033,
          2033,
          2034,
          2034,
          2034,
          2035,
          2035,
          2035,
          2036,
          2036,
          2036,
          2037,
          2037,
          2037,
          2038,
          2038,
          2038,
          2039,
          2039,
          2039,
          2040,
          2040,
          2040
         ],
         "xaxis": "x4",
         "y": [
          56460.030318835335,
          56460.030318835335,
          56460.030318835335,
          56756.349828053375,
          56756.349828053375,
          56756.349828053375,
          57039.01270008928,
          57039.01270008928,
          57039.01270008928,
          57308.64833575306,
          57308.64833575306,
          57308.64833575306,
          57565.85712831982,
          57565.85712831982,
          57565.85712831982,
          57811.21180041571,
          57811.21180041571,
          57811.21180041571,
          58045.25867929003,
          58045.25867929003,
          58045.25867929003,
          58268.5189133132,
          58268.5189133132,
          58268.5189133132,
          58481.4896324094,
          58481.4896324094,
          58481.4896324094,
          58684.64505500759,
          58684.64505500759,
          58684.64505500759,
          58878.43754397605,
          58878.43754397605,
          58878.43754397605,
          59063.29861389129,
          59063.29861389129,
          59063.29861389129,
          59239.63989188464,
          59239.63989188464,
          59239.63989188464,
          59407.85403420561,
          59407.85403420561,
          59407.85403420561,
          59568.31560054316,
          59568.31560054316,
          59568.31560054316,
          59721.38188805166,
          59721.38188805166,
          59721.38188805166
         ],
         "yaxis": "y4"
        },
        {
         "type": "histogram",
         "x": [
          6099,
          10849,
          5199,
          6599,
          6599,
          12199,
          12149,
          6599,
          15849,
          14599,
          6599,
          12399,
          17849,
          16599,
          16549,
          13199,
          11299,
          11299,
          18649,
          18299,
          17149,
          17499,
          19649,
          28099,
          30649,
          30899,
          30799,
          27999,
          32999,
          29599,
          34699,
          37049,
          38399,
          36099,
          38899,
          39899,
          34699,
          34599,
          43299,
          37699,
          42099,
          41099,
          42499,
          44099,
          48599
         ],
         "xaxis": "x7",
         "yaxis": "y7"
        },
        {
         "fill": "tonexty",
         "name": "HALF_OPEN - Modified CO2 Emissions",
         "type": "scatter",
         "x": [
          2025,
          2025,
          2025,
          2026,
          2026,
          2026,
          2027,
          2027,
          2027,
          2028,
          2028,
          2028,
          2029,
          2029,
          2029,
          2030,
          2030,
          2030,
          2031,
          2031,
          2031,
          2032,
          2032,
          2032,
          2033,
          2033,
          2033,
          2034,
          2034,
          2034,
          2035,
          2035,
          2035,
          2036,
          2036,
          2036,
          2037,
          2037,
          2037,
          2038,
          2038,
          2038,
          2039,
          2039,
          2039,
          2040,
          2040,
          2040
         ],
         "xaxis": "x2",
         "y": [
          88475.66448445406,
          88475.66448445406,
          88475.66448445406,
          88004.77084942539,
          88004.77084942539,
          88004.77084942539,
          87555.57954355466,
          87555.57954355466,
          87555.57954355466,
          87127.09035988247,
          87127.09035988247,
          87127.09035988247,
          86718.34918852756,
          86718.34918852756,
          86718.34918852756,
          86328.44589218574,
          86328.44589218574,
          86328.44589218574,
          85956.51227954215,
          85956.51227954215,
          85956.51227954215,
          85601.7201720837,
          85601.7201720837,
          85601.7201720837,
          85263.2795600075,
          85263.2795600075,
          85263.2795600075,
          84940.43684311889,
          84940.43684311889,
          84940.43684311889,
          84632.47315280222,
          84632.47315280222,
          84632.47315280222,
          84338.70275132784,
          84338.70275132784,
          84338.70275132784,
          84058.47150493096,
          84058.47150493096,
          84058.47150493096,
          83791.15542726268,
          83791.15542726268,
          83791.15542726268,
          83536.15928996995,
          83536.15928996995,
          83536.15928996995,
          83292.91529731003,
          83292.91529731003,
          83292.91529731003
         ],
         "yaxis": "y2"
        },
        {
         "fill": "tonexty",
         "name": "HALF_OPEN - Solar CO2 Emissions",
         "type": "scatter",
         "x": [
          2025,
          2025,
          2025,
          2026,
          2026,
          2026,
          2027,
          2027,
          2027,
          2028,
          2028,
          2028,
          2029,
          2029,
          2029,
          2030,
          2030,
          2030,
          2031,
          2031,
          2031,
          2032,
          2032,
          2032,
          2033,
          2033,
          2033,
          2034,
          2034,
          2034,
          2035,
          2035,
          2035,
          2036,
          2036,
          2036,
          2037,
          2037,
          2037,
          2038,
          2038,
          2038,
          2039,
          2039,
          2039,
          2040,
          2040,
          2040
         ],
         "xaxis": "x2",
         "y": [
          -26235.741483358055,
          -26235.741483358055,
          -26235.741483358055,
          -25026.600702893906,
          -25026.600702893906,
          -25026.600702893906,
          -23873.186246303965,
          -23873.186246303965,
          -23873.186246303965,
          -22772.929824417344,
          -22772.929824417344,
          -22772.929824417344,
          -21723.381514192613,
          -21723.381514192613,
          -21723.381514192613,
          -20722.20430351408,
          -20722.20430351408,
          -20722.20430351408,
          -19767.16888740503,
          -19767.16888740503,
          -19767.16888740503,
          -18856.148704070594,
          -18856.148704070594,
          -18856.148704070594,
          -17987.11519971737,
          -17987.11519971737,
          -17987.11519971737,
          -17158.133311605663,
          -17158.133311605663,
          -17158.133311605663,
          -16367.357159276868,
          -16367.357159276868,
          -16367.357159276868,
          -15613.025934361538,
          -15613.025934361538,
          -15613.025934361538,
          -14893.45997981606,
          -14893.45997981606,
          -14893.45997981606,
          -14207.05704985773,
          -14207.05704985773,
          -14207.05704985773,
          -13552.28874227015,
          -13552.28874227015,
          -13552.28874227015,
          -12927.697095134945,
          -12927.697095134945,
          -12927.697095134945
         ],
         "yaxis": "y2"
        },
        {
         "fill": "tonexty",
         "name": "HALF_OPEN - Net CO2 Emissions",
         "type": "scatter",
         "x": [
          2025,
          2025,
          2025,
          2026,
          2026,
          2026,
          2027,
          2027,
          2027,
          2028,
          2028,
          2028,
          2029,
          2029,
          2029,
          2030,
          2030,
          2030,
          2031,
          2031,
          2031,
          2032,
          2032,
          2032,
          2033,
          2033,
          2033,
          2034,
          2034,
          2034,
          2035,
          2035,
          2035,
          2036,
          2036,
          2036,
          2037,
          2037,
          2037,
          2038,
          2038,
          2038,
          2039,
          2039,
          2039,
          2040,
          2040,
          2040
         ],
         "xaxis": "x5",
         "y": [
          62239.92300109599,
          62239.92300109599,
          62239.92300109599,
          62978.170146531476,
          62978.170146531476,
          62978.170146531476,
          63682.39329725069,
          63682.39329725069,
          63682.39329725069,
          64354.160535465126,
          64354.160535465126,
          64354.160535465126,
          64994.96767433494,
          64994.96767433494,
          64994.96767433494,
          65606.24158867166,
          65606.24158867166,
          65606.24158867166,
          66189.34339213713,
          66189.34339213713,
          66189.34339213713,
          66745.57146801309,
          66745.57146801309,
          66745.57146801309,
          67276.16436029013,
          67276.16436029013,
          67276.16436029013,
          67782.30353151321,
          67782.30353151321,
          67782.30353151321,
          68265.11599352537,
          68265.11599352537,
          68265.11599352537,
          68725.6768169663,
          68725.6768169663,
          68725.6768169663,
          69165.01152511488,
          69165.01152511488,
          69165.01152511488,
          69584.09837740495,
          69584.09837740495,
          69584.09837740495,
          69983.87054769979,
          69983.87054769979,
          69983.87054769979,
          70365.21820217508,
          70365.21820217508,
          70365.21820217508
         ],
         "yaxis": "y5"
        },
        {
         "type": "histogram",
         "x": [
          6599,
          6599,
          12449,
          12449,
          6900,
          15699,
          12399,
          15699,
          12749,
          20399,
          20999,
          17299,
          14099,
          17299,
          19299,
          21899,
          22899,
          20499,
          18699,
          18699,
          31799,
          22999,
          34899,
          29199,
          39049,
          39949,
          42499,
          45949,
          48999,
          48699,
          46099,
          46399,
          48399,
          56499,
          54799,
          51749,
          55299,
          53599,
          53799,
          54999,
          56699,
          61249,
          61099,
          60499,
          77099
         ],
         "xaxis": "x8",
         "yaxis": "y8"
        },
        {
         "fill": "tonexty",
         "name": "OPEN - Modified CO2 Emissions",
         "type": "scatter",
         "x": [
          2025,
          2025,
          2025,
          2026,
          2026,
          2026,
          2027,
          2027,
          2027,
          2028,
          2028,
          2028,
          2029,
          2029,
          2029,
          2030,
          2030,
          2030,
          2031,
          2031,
          2031,
          2032,
          2032,
          2032,
          2033,
          2033,
          2033,
          2034,
          2034,
          2034,
          2035,
          2035,
          2035,
          2036,
          2036,
          2036,
          2037,
          2037,
          2037,
          2038,
          2038,
          2038,
          2039,
          2039,
          2039,
          2040,
          2040,
          2040
         ],
         "xaxis": "x3",
         "y": [
          110732.94725888447,
          110732.94725888447,
          110732.94725888447,
          110300.6619867217,
          110300.6619867217,
          110300.6619867217,
          109888.29967925571,
          109888.29967925571,
          109888.29967925571,
          109494.94213605757,
          109494.94213605757,
          109494.94213605757,
          109119.71347429718,
          109119.71347429718,
          109119.71347429718,
          108761.77817842936,
          108761.77817842936,
          108761.77817842936,
          108420.33923976475,
          108420.33923976475,
          108420.33923976475,
          108094.63638178381,
          108094.63638178381,
          108094.63638178381,
          107783.94436724133,
          107783.94436724133,
          107783.94436724133,
          107487.57138329252,
          107487.57138329252,
          107487.57138329252,
          107204.85750104464,
          107204.85750104464,
          107204.85750104464,
          106935.17320610405,
          106935.17320610405,
          106935.17320610405,
          106677.91799684685,
          106677.91799684685,
          106677.91799684685,
          106432.51904729157,
          106432.51904729157,
          106432.51904729157,
          106198.42993159704,
          106198.42993159704,
          106198.42993159704,
          105975.12940734481,
          105975.12940734481,
          105975.12940734481
         ],
         "yaxis": "y3"
        },
        {
         "fill": "tonexty",
         "name": "OPEN - Solar CO2 Emissions",
         "type": "scatter",
         "x": [
          2025,
          2025,
          2025,
          2026,
          2026,
          2026,
          2027,
          2027,
          2027,
          2028,
          2028,
          2028,
          2029,
          2029,
          2029,
          2030,
          2030,
          2030,
          2031,
          2031,
          2031,
          2032,
          2032,
          2032,
          2033,
          2033,
          2033,
          2034,
          2034,
          2034,
          2035,
          2035,
          2035,
          2036,
          2036,
          2036,
          2037,
          2037,
          2037,
          2038,
          2038,
          2038,
          2039,
          2039,
          2039,
          2040,
          2040,
          2040
         ],
         "xaxis": "x3",
         "y": [
          -38773.512893592095,
          -38773.512893592095,
          -38773.512893592095,
          -36986.537073936546,
          -36986.537073936546,
          -36986.537073936546,
          -35281.91857353647,
          -35281.91857353647,
          -35281.91857353647,
          -33655.861746160765,
          -33655.861746160765,
          -33655.861746160765,
          -32104.74587757517,
          -32104.74587757517,
          -32104.74587757517,
          -30625.11712335686,
          -30625.11712335686,
          -30625.11712335686,
          -29213.68081827547,
          -29213.68081827547,
          -29213.68081827547,
          -27867.294140115573,
          -27867.294140115573,
          -27867.294140115573,
          -26582.959111605818,
          -26582.959111605818,
          -26582.959111605818,
          -25357.815924871702,
          -25357.815924871702,
          -25357.815924871702,
          -24189.136573548065,
          -24189.136573548065,
          -24189.136573548065,
          -23074.31877837173,
          -23074.31877837173,
          -23074.31877837173,
          -22010.880192728677,
          -22010.880192728677,
          -22010.880192728677,
          -20996.45287525336,
          -20996.45287525336,
          -20996.45287525336,
          -20028.77801717219,
          -20028.77801717219,
          -20028.77801717219,
          -19105.700912650922,
          -19105.700912650922,
          -19105.700912650922
         ],
         "yaxis": "y3"
        },
        {
         "fill": "tonexty",
         "name": "OPEN - Net CO2 Emissions",
         "type": "scatter",
         "x": [
          2025,
          2025,
          2025,
          2026,
          2026,
          2026,
          2027,
          2027,
          2027,
          2028,
          2028,
          2028,
          2029,
          2029,
          2029,
          2030,
          2030,
          2030,
          2031,
          2031,
          2031,
          2032,
          2032,
          2032,
          2033,
          2033,
          2033,
          2034,
          2034,
          2034,
          2035,
          2035,
          2035,
          2036,
          2036,
          2036,
          2037,
          2037,
          2037,
          2038,
          2038,
          2038,
          2039,
          2039,
          2039,
          2040,
          2040,
          2040
         ],
         "xaxis": "x6",
         "y": [
          71959.43436529237,
          71959.43436529237,
          71959.43436529237,
          73314.12491278515,
          73314.12491278515,
          73314.12491278515,
          74606.38110571924,
          74606.38110571924,
          74606.38110571924,
          75839.0803898968,
          75839.0803898968,
          75839.0803898968,
          77014.96759672205,
          77014.96759672205,
          77014.96759672205,
          78136.6610550725,
          78136.6610550725,
          78136.6610550725,
          79206.6584214893,
          79206.6584214893,
          79206.6584214893,
          80227.34224166824,
          80227.34224166824,
          80227.34224166824,
          81200.98525563553,
          81200.98525563553,
          81200.98525563553,
          82129.75545842083,
          82129.75545842083,
          82129.75545842083,
          83015.72092749657,
          83015.72092749657,
          83015.72092749657,
          83860.85442773232,
          83860.85442773232,
          83860.85442773232,
          84667.03780411817,
          84667.03780411817,
          84667.03780411817,
          85436.0661720382,
          85436.0661720382,
          85436.0661720382,
          86169.65191442487,
          86169.65191442487,
          86169.65191442487,
          86869.42849469387,
          86869.42849469387,
          86869.42849469387
         ],
         "yaxis": "y6"
        },
        {
         "type": "histogram",
         "x": [
          12149,
          14299,
          14299,
          12750,
          17499,
          21699,
          16599,
          20099,
          15799,
          19099,
          25099,
          24899,
          20099,
          24699,
          21199,
          26949,
          24999,
          21199,
          32249,
          26799,
          45999,
          47499,
          46599,
          58999,
          48599,
          48599,
          61499,
          49499,
          57499,
          55999,
          56099,
          57599,
          57399,
          58149,
          65699,
          65899,
          64399,
          64499,
          67499,
          72599,
          79499,
          81199,
          85700,
          89999
         ],
         "xaxis": "x9",
         "yaxis": "y9"
        }
       ],
       "layout": {
        "annotations": [
         {
          "font": {
           "size": 16
          },
          "showarrow": false,
          "text": "GESLOTEN",
          "x": 0.14444444444444446,
          "xanchor": "center",
          "xref": "paper",
          "y": 1,
          "yanchor": "bottom",
          "yref": "paper"
         },
         {
          "font": {
           "size": 16
          },
          "showarrow": false,
          "text": "HALF_OPEN",
          "x": 0.5,
          "xanchor": "center",
          "xref": "paper",
          "y": 1,
          "yanchor": "bottom",
          "yref": "paper"
         },
         {
          "font": {
           "size": 16
          },
          "showarrow": false,
          "text": "OPEN",
          "x": 0.8555555555555556,
          "xanchor": "center",
          "xref": "paper",
          "y": 1,
          "yanchor": "bottom",
          "yref": "paper"
         }
        ],
        "height": 800,
        "showlegend": true,
        "template": {
         "data": {
          "bar": [
           {
            "error_x": {
             "color": "#2a3f5f"
            },
            "error_y": {
             "color": "#2a3f5f"
            },
            "marker": {
             "line": {
              "color": "#E5ECF6",
              "width": 0.5
             },
             "pattern": {
              "fillmode": "overlay",
              "size": 10,
              "solidity": 0.2
             }
            },
            "type": "bar"
           }
          ],
          "barpolar": [
           {
            "marker": {
             "line": {
              "color": "#E5ECF6",
              "width": 0.5
             },
             "pattern": {
              "fillmode": "overlay",
              "size": 10,
              "solidity": 0.2
             }
            },
            "type": "barpolar"
           }
          ],
          "carpet": [
           {
            "aaxis": {
             "endlinecolor": "#2a3f5f",
             "gridcolor": "white",
             "linecolor": "white",
             "minorgridcolor": "white",
             "startlinecolor": "#2a3f5f"
            },
            "baxis": {
             "endlinecolor": "#2a3f5f",
             "gridcolor": "white",
             "linecolor": "white",
             "minorgridcolor": "white",
             "startlinecolor": "#2a3f5f"
            },
            "type": "carpet"
           }
          ],
          "choropleth": [
           {
            "colorbar": {
             "outlinewidth": 0,
             "ticks": ""
            },
            "type": "choropleth"
           }
          ],
          "contour": [
           {
            "colorbar": {
             "outlinewidth": 0,
             "ticks": ""
            },
            "colorscale": [
             [
              0,
              "#0d0887"
             ],
             [
              0.1111111111111111,
              "#46039f"
             ],
             [
              0.2222222222222222,
              "#7201a8"
             ],
             [
              0.3333333333333333,
              "#9c179e"
             ],
             [
              0.4444444444444444,
              "#bd3786"
             ],
             [
              0.5555555555555556,
              "#d8576b"
             ],
             [
              0.6666666666666666,
              "#ed7953"
             ],
             [
              0.7777777777777778,
              "#fb9f3a"
             ],
             [
              0.8888888888888888,
              "#fdca26"
             ],
             [
              1,
              "#f0f921"
             ]
            ],
            "type": "contour"
           }
          ],
          "contourcarpet": [
           {
            "colorbar": {
             "outlinewidth": 0,
             "ticks": ""
            },
            "type": "contourcarpet"
           }
          ],
          "heatmap": [
           {
            "colorbar": {
             "outlinewidth": 0,
             "ticks": ""
            },
            "colorscale": [
             [
              0,
              "#0d0887"
             ],
             [
              0.1111111111111111,
              "#46039f"
             ],
             [
              0.2222222222222222,
              "#7201a8"
             ],
             [
              0.3333333333333333,
              "#9c179e"
             ],
             [
              0.4444444444444444,
              "#bd3786"
             ],
             [
              0.5555555555555556,
              "#d8576b"
             ],
             [
              0.6666666666666666,
              "#ed7953"
             ],
             [
              0.7777777777777778,
              "#fb9f3a"
             ],
             [
              0.8888888888888888,
              "#fdca26"
             ],
             [
              1,
              "#f0f921"
             ]
            ],
            "type": "heatmap"
           }
          ],
          "heatmapgl": [
           {
            "colorbar": {
             "outlinewidth": 0,
             "ticks": ""
            },
            "colorscale": [
             [
              0,
              "#0d0887"
             ],
             [
              0.1111111111111111,
              "#46039f"
             ],
             [
              0.2222222222222222,
              "#7201a8"
             ],
             [
              0.3333333333333333,
              "#9c179e"
             ],
             [
              0.4444444444444444,
              "#bd3786"
             ],
             [
              0.5555555555555556,
              "#d8576b"
             ],
             [
              0.6666666666666666,
              "#ed7953"
             ],
             [
              0.7777777777777778,
              "#fb9f3a"
             ],
             [
              0.8888888888888888,
              "#fdca26"
             ],
             [
              1,
              "#f0f921"
             ]
            ],
            "type": "heatmapgl"
           }
          ],
          "histogram": [
           {
            "marker": {
             "pattern": {
              "fillmode": "overlay",
              "size": 10,
              "solidity": 0.2
             }
            },
            "type": "histogram"
           }
          ],
          "histogram2d": [
           {
            "colorbar": {
             "outlinewidth": 0,
             "ticks": ""
            },
            "colorscale": [
             [
              0,
              "#0d0887"
             ],
             [
              0.1111111111111111,
              "#46039f"
             ],
             [
              0.2222222222222222,
              "#7201a8"
             ],
             [
              0.3333333333333333,
              "#9c179e"
             ],
             [
              0.4444444444444444,
              "#bd3786"
             ],
             [
              0.5555555555555556,
              "#d8576b"
             ],
             [
              0.6666666666666666,
              "#ed7953"
             ],
             [
              0.7777777777777778,
              "#fb9f3a"
             ],
             [
              0.8888888888888888,
              "#fdca26"
             ],
             [
              1,
              "#f0f921"
             ]
            ],
            "type": "histogram2d"
           }
          ],
          "histogram2dcontour": [
           {
            "colorbar": {
             "outlinewidth": 0,
             "ticks": ""
            },
            "colorscale": [
             [
              0,
              "#0d0887"
             ],
             [
              0.1111111111111111,
              "#46039f"
             ],
             [
              0.2222222222222222,
              "#7201a8"
             ],
             [
              0.3333333333333333,
              "#9c179e"
             ],
             [
              0.4444444444444444,
              "#bd3786"
             ],
             [
              0.5555555555555556,
              "#d8576b"
             ],
             [
              0.6666666666666666,
              "#ed7953"
             ],
             [
              0.7777777777777778,
              "#fb9f3a"
             ],
             [
              0.8888888888888888,
              "#fdca26"
             ],
             [
              1,
              "#f0f921"
             ]
            ],
            "type": "histogram2dcontour"
           }
          ],
          "mesh3d": [
           {
            "colorbar": {
             "outlinewidth": 0,
             "ticks": ""
            },
            "type": "mesh3d"
           }
          ],
          "parcoords": [
           {
            "line": {
             "colorbar": {
              "outlinewidth": 0,
              "ticks": ""
             }
            },
            "type": "parcoords"
           }
          ],
          "pie": [
           {
            "automargin": true,
            "type": "pie"
           }
          ],
          "scatter": [
           {
            "fillpattern": {
             "fillmode": "overlay",
             "size": 10,
             "solidity": 0.2
            },
            "type": "scatter"
           }
          ],
          "scatter3d": [
           {
            "line": {
             "colorbar": {
              "outlinewidth": 0,
              "ticks": ""
             }
            },
            "marker": {
             "colorbar": {
              "outlinewidth": 0,
              "ticks": ""
             }
            },
            "type": "scatter3d"
           }
          ],
          "scattercarpet": [
           {
            "marker": {
             "colorbar": {
              "outlinewidth": 0,
              "ticks": ""
             }
            },
            "type": "scattercarpet"
           }
          ],
          "scattergeo": [
           {
            "marker": {
             "colorbar": {
              "outlinewidth": 0,
              "ticks": ""
             }
            },
            "type": "scattergeo"
           }
          ],
          "scattergl": [
           {
            "marker": {
             "colorbar": {
              "outlinewidth": 0,
              "ticks": ""
             }
            },
            "type": "scattergl"
           }
          ],
          "scattermapbox": [
           {
            "marker": {
             "colorbar": {
              "outlinewidth": 0,
              "ticks": ""
             }
            },
            "type": "scattermapbox"
           }
          ],
          "scatterpolar": [
           {
            "marker": {
             "colorbar": {
              "outlinewidth": 0,
              "ticks": ""
             }
            },
            "type": "scatterpolar"
           }
          ],
          "scatterpolargl": [
           {
            "marker": {
             "colorbar": {
              "outlinewidth": 0,
              "ticks": ""
             }
            },
            "type": "scatterpolargl"
           }
          ],
          "scatterternary": [
           {
            "marker": {
             "colorbar": {
              "outlinewidth": 0,
              "ticks": ""
             }
            },
            "type": "scatterternary"
           }
          ],
          "surface": [
           {
            "colorbar": {
             "outlinewidth": 0,
             "ticks": ""
            },
            "colorscale": [
             [
              0,
              "#0d0887"
             ],
             [
              0.1111111111111111,
              "#46039f"
             ],
             [
              0.2222222222222222,
              "#7201a8"
             ],
             [
              0.3333333333333333,
              "#9c179e"
             ],
             [
              0.4444444444444444,
              "#bd3786"
             ],
             [
              0.5555555555555556,
              "#d8576b"
             ],
             [
              0.6666666666666666,
              "#ed7953"
             ],
             [
              0.7777777777777778,
              "#fb9f3a"
             ],
             [
              0.8888888888888888,
              "#fdca26"
             ],
             [
              1,
              "#f0f921"
             ]
            ],
            "type": "surface"
           }
          ],
          "table": [
           {
            "cells": {
             "fill": {
              "color": "#EBF0F8"
             },
             "line": {
              "color": "white"
             }
            },
            "header": {
             "fill": {
              "color": "#C8D4E3"
             },
             "line": {
              "color": "white"
             }
            },
            "type": "table"
           }
          ]
         },
         "layout": {
          "annotationdefaults": {
           "arrowcolor": "#2a3f5f",
           "arrowhead": 0,
           "arrowwidth": 1
          },
          "autotypenumbers": "strict",
          "coloraxis": {
           "colorbar": {
            "outlinewidth": 0,
            "ticks": ""
           }
          },
          "colorscale": {
           "diverging": [
            [
             0,
             "#8e0152"
            ],
            [
             0.1,
             "#c51b7d"
            ],
            [
             0.2,
             "#de77ae"
            ],
            [
             0.3,
             "#f1b6da"
            ],
            [
             0.4,
             "#fde0ef"
            ],
            [
             0.5,
             "#f7f7f7"
            ],
            [
             0.6,
             "#e6f5d0"
            ],
            [
             0.7,
             "#b8e186"
            ],
            [
             0.8,
             "#7fbc41"
            ],
            [
             0.9,
             "#4d9221"
            ],
            [
             1,
             "#276419"
            ]
           ],
           "sequential": [
            [
             0,
             "#0d0887"
            ],
            [
             0.1111111111111111,
             "#46039f"
            ],
            [
             0.2222222222222222,
             "#7201a8"
            ],
            [
             0.3333333333333333,
             "#9c179e"
            ],
            [
             0.4444444444444444,
             "#bd3786"
            ],
            [
             0.5555555555555556,
             "#d8576b"
            ],
            [
             0.6666666666666666,
             "#ed7953"
            ],
            [
             0.7777777777777778,
             "#fb9f3a"
            ],
            [
             0.8888888888888888,
             "#fdca26"
            ],
            [
             1,
             "#f0f921"
            ]
           ],
           "sequentialminus": [
            [
             0,
             "#0d0887"
            ],
            [
             0.1111111111111111,
             "#46039f"
            ],
            [
             0.2222222222222222,
             "#7201a8"
            ],
            [
             0.3333333333333333,
             "#9c179e"
            ],
            [
             0.4444444444444444,
             "#bd3786"
            ],
            [
             0.5555555555555556,
             "#d8576b"
            ],
            [
             0.6666666666666666,
             "#ed7953"
            ],
            [
             0.7777777777777778,
             "#fb9f3a"
            ],
            [
             0.8888888888888888,
             "#fdca26"
            ],
            [
             1,
             "#f0f921"
            ]
           ]
          },
          "colorway": [
           "#636efa",
           "#EF553B",
           "#00cc96",
           "#ab63fa",
           "#FFA15A",
           "#19d3f3",
           "#FF6692",
           "#B6E880",
           "#FF97FF",
           "#FECB52"
          ],
          "font": {
           "color": "#2a3f5f"
          },
          "geo": {
           "bgcolor": "white",
           "lakecolor": "white",
           "landcolor": "#E5ECF6",
           "showlakes": true,
           "showland": true,
           "subunitcolor": "white"
          },
          "hoverlabel": {
           "align": "left"
          },
          "hovermode": "closest",
          "mapbox": {
           "style": "light"
          },
          "paper_bgcolor": "white",
          "plot_bgcolor": "#E5ECF6",
          "polar": {
           "angularaxis": {
            "gridcolor": "white",
            "linecolor": "white",
            "ticks": ""
           },
           "bgcolor": "#E5ECF6",
           "radialaxis": {
            "gridcolor": "white",
            "linecolor": "white",
            "ticks": ""
           }
          },
          "scene": {
           "xaxis": {
            "backgroundcolor": "#E5ECF6",
            "gridcolor": "white",
            "gridwidth": 2,
            "linecolor": "white",
            "showbackground": true,
            "ticks": "",
            "zerolinecolor": "white"
           },
           "yaxis": {
            "backgroundcolor": "#E5ECF6",
            "gridcolor": "white",
            "gridwidth": 2,
            "linecolor": "white",
            "showbackground": true,
            "ticks": "",
            "zerolinecolor": "white"
           },
           "zaxis": {
            "backgroundcolor": "#E5ECF6",
            "gridcolor": "white",
            "gridwidth": 2,
            "linecolor": "white",
            "showbackground": true,
            "ticks": "",
            "zerolinecolor": "white"
           }
          },
          "shapedefaults": {
           "line": {
            "color": "#2a3f5f"
           }
          },
          "ternary": {
           "aaxis": {
            "gridcolor": "white",
            "linecolor": "white",
            "ticks": ""
           },
           "baxis": {
            "gridcolor": "white",
            "linecolor": "white",
            "ticks": ""
           },
           "bgcolor": "#E5ECF6",
           "caxis": {
            "gridcolor": "white",
            "linecolor": "white",
            "ticks": ""
           }
          },
          "title": {
           "x": 0.05
          },
          "xaxis": {
           "automargin": true,
           "gridcolor": "white",
           "linecolor": "white",
           "ticks": "",
           "title": {
            "standoff": 15
           },
           "zerolinecolor": "white",
           "zerolinewidth": 2
          },
          "yaxis": {
           "automargin": true,
           "gridcolor": "white",
           "linecolor": "white",
           "ticks": "",
           "title": {
            "standoff": 15
           },
           "zerolinecolor": "white",
           "zerolinewidth": 2
          }
         }
        },
        "title": {
         "text": "CO2 Emissions Over Years by Building Type with gasboilers and A labels"
        },
        "width": 1600,
        "xaxis": {
         "anchor": "y",
         "domain": [
          0,
          0.2888888888888889
         ],
         "title": {
          "text": "Year"
         }
        },
        "xaxis2": {
         "anchor": "y2",
         "domain": [
          0.35555555555555557,
          0.6444444444444445
         ],
         "title": {
          "text": "Year"
         }
        },
        "xaxis3": {
         "anchor": "y3",
         "domain": [
          0.7111111111111111,
          1
         ],
         "title": {
          "text": "Year"
         }
        },
        "xaxis4": {
         "anchor": "y4",
         "domain": [
          0,
          0.2888888888888889
         ]
        },
        "xaxis5": {
         "anchor": "y5",
         "domain": [
          0.35555555555555557,
          0.6444444444444445
         ]
        },
        "xaxis6": {
         "anchor": "y6",
         "domain": [
          0.7111111111111111,
          1
         ]
        },
        "xaxis7": {
         "anchor": "y7",
         "domain": [
          0,
          0.2888888888888889
         ],
         "title": {
          "text": "Investment cost [€]"
         }
        },
        "xaxis8": {
         "anchor": "y8",
         "domain": [
          0.35555555555555557,
          0.6444444444444445
         ],
         "title": {
          "text": "Investment cost [€]"
         }
        },
        "xaxis9": {
         "anchor": "y9",
         "domain": [
          0.7111111111111111,
          1
         ],
         "title": {
          "text": "Investment cost [€]"
         }
        },
        "yaxis": {
         "anchor": "x",
         "domain": [
          0.7777777777777778,
          1
         ],
         "range": [
          -45000,
          120000
         ],
         "title": {
          "text": "Gross CO2 Emissions (kg)"
         }
        },
        "yaxis2": {
         "anchor": "x2",
         "domain": [
          0.7777777777777778,
          1
         ],
         "matches": "y",
         "range": [
          -45000,
          120000
         ],
         "showticklabels": false
        },
        "yaxis3": {
         "anchor": "x3",
         "domain": [
          0.7777777777777778,
          1
         ],
         "matches": "y",
         "range": [
          -45000,
          120000
         ],
         "showticklabels": false
        },
        "yaxis4": {
         "anchor": "x4",
         "domain": [
          0.3888888888888889,
          0.6111111111111112
         ],
         "range": [
          -20000,
          100000
         ],
         "title": {
          "text": "Net CO2 Emissions (kg)"
         }
        },
        "yaxis5": {
         "anchor": "x5",
         "domain": [
          0.3888888888888889,
          0.6111111111111112
         ],
         "matches": "y4",
         "range": [
          -20000,
          100000
         ],
         "showticklabels": false
        },
        "yaxis6": {
         "anchor": "x6",
         "domain": [
          0.3888888888888889,
          0.6111111111111112
         ],
         "matches": "y4",
         "range": [
          -20000,
          100000
         ],
         "showticklabels": false
        },
        "yaxis7": {
         "anchor": "x7",
         "domain": [
          0,
          0.22222222222222224
         ],
         "range": [
          0,
          30
         ],
         "title": {
          "text": "Count"
         }
        },
        "yaxis8": {
         "anchor": "x8",
         "domain": [
          0,
          0.22222222222222224
         ],
         "matches": "y7",
         "range": [
          0,
          30
         ],
         "showticklabels": false
        },
        "yaxis9": {
         "anchor": "x9",
         "domain": [
          0,
          0.22222222222222224
         ],
         "matches": "y7",
         "range": [
          0,
          30
         ],
         "showticklabels": false
        }
       }
      },
      "text/html": [
       "<div>                            <div id=\"4a4c6606-3829-41bf-b707-e2bca89a2919\" class=\"plotly-graph-div\" style=\"height:800px; width:1600px;\"></div>            <script type=\"text/javascript\">                require([\"plotly\"], function(Plotly) {                    window.PLOTLYENV=window.PLOTLYENV || {};                                    if (document.getElementById(\"4a4c6606-3829-41bf-b707-e2bca89a2919\")) {                    Plotly.newPlot(                        \"4a4c6606-3829-41bf-b707-e2bca89a2919\",                        [{\"fill\":\"tonexty\",\"name\":\"GESLOTEN - Modified CO2 Emissions\",\"x\":[2025,2025,2025,2026,2026,2026,2027,2027,2027,2028,2028,2028,2029,2029,2029,2030,2030,2030,2031,2031,2031,2032,2032,2032,2033,2033,2033,2034,2034,2034,2035,2035,2035,2036,2036,2036,2037,2037,2037,2038,2038,2038,2039,2039,2039,2040,2040,2040],\"y\":[74666.67928503598,74666.67928503598,74666.67928503598,74123.89913493647,74123.89913493647,74123.89913493647,73606.13438662114,73606.13438662114,73606.13438662114,73112.23214176402,73112.23214176402,73112.23214176402,72641.09263628663,72641.09263628663,72641.09263628663,72191.66679153123,72191.66679153123,72191.66679153123,71762.9538782946,71762.9538782946,71762.9538782946,71353.99928852044,71353.99928852044,71353.99928852044,70963.89240968929,70963.89240968929,70963.89240968929,70591.76459717246,70591.76459717246,70591.76459717246,70236.78724003513,70236.78724003513,70236.78724003513,69898.16991598201,69898.16991598201,69898.16991598201,69575.15863133676,69575.15863133676,69575.15863133676,69267.03414213668,69267.03414213668,69267.03414213668,68973.11035260379,68973.11035260379,68973.11035260379,68692.73278742663,68692.73278742663,68692.73278742663],\"type\":\"scatter\",\"xaxis\":\"x\",\"yaxis\":\"y\"},{\"fill\":\"tonexty\",\"name\":\"GESLOTEN - Solar CO2 Emissions\",\"x\":[2025,2025,2025,2026,2026,2026,2027,2027,2027,2028,2028,2028,2029,2029,2029,2030,2030,2030,2031,2031,2031,2032,2032,2032,2033,2033,2033,2034,2034,2034,2035,2035,2035,2036,2036,2036,2037,2037,2037,2038,2038,2038,2039,2039,2039,2040,2040,2040],\"y\":[-18206.64896620063,-18206.64896620063,-18206.64896620063,-17367.549306883095,-17367.549306883095,-17367.549306883095,-16567.12168653187,-16567.12168653187,-16567.12168653187,-15803.583806010964,-15803.583806010964,-15803.583806010964,-15075.23550796679,-15075.23550796679,-15075.23550796679,-14380.45499111552,-14380.45499111552,-14380.45499111552,-13717.695199004575,-13717.695199004575,-13717.695199004575,-13085.480375207237,-13085.480375207237,-13085.480375207237,-12482.40277727989,-12482.40277727989,-12482.40277727989,-11907.119542164855,-11907.119542164855,-11907.119542164855,-11358.349696059082,-11358.349696059082,-11358.349696059082,-10834.871302090713,-10834.871302090713,-10834.871302090713,-10335.51873945212,-10335.51873945212,-10335.51873945212,-9859.180107931064,-9859.180107931064,-9859.180107931064,-9404.79475206063,-9404.79475206063,-9404.79475206063,-8971.350899374971,-8971.350899374971,-8971.350899374971],\"type\":\"scatter\",\"xaxis\":\"x\",\"yaxis\":\"y\"},{\"fill\":\"tonexty\",\"name\":\"GESLOTEN - Net CO2 Emissions\",\"x\":[2025,2025,2025,2026,2026,2026,2027,2027,2027,2028,2028,2028,2029,2029,2029,2030,2030,2030,2031,2031,2031,2032,2032,2032,2033,2033,2033,2034,2034,2034,2035,2035,2035,2036,2036,2036,2037,2037,2037,2038,2038,2038,2039,2039,2039,2040,2040,2040],\"y\":[56460.030318835335,56460.030318835335,56460.030318835335,56756.349828053375,56756.349828053375,56756.349828053375,57039.01270008928,57039.01270008928,57039.01270008928,57308.64833575306,57308.64833575306,57308.64833575306,57565.85712831982,57565.85712831982,57565.85712831982,57811.21180041571,57811.21180041571,57811.21180041571,58045.25867929003,58045.25867929003,58045.25867929003,58268.5189133132,58268.5189133132,58268.5189133132,58481.4896324094,58481.4896324094,58481.4896324094,58684.64505500759,58684.64505500759,58684.64505500759,58878.43754397605,58878.43754397605,58878.43754397605,59063.29861389129,59063.29861389129,59063.29861389129,59239.63989188464,59239.63989188464,59239.63989188464,59407.85403420561,59407.85403420561,59407.85403420561,59568.31560054316,59568.31560054316,59568.31560054316,59721.38188805166,59721.38188805166,59721.38188805166],\"type\":\"scatter\",\"xaxis\":\"x4\",\"yaxis\":\"y4\"},{\"x\":[6099,10849,5199,6599,6599,12199,12149,6599,15849,14599,6599,12399,17849,16599,16549,13199,11299,11299,18649,18299,17149,17499,19649,28099,30649,30899,30799,27999,32999,29599,34699,37049,38399,36099,38899,39899,34699,34599,43299,37699,42099,41099,42499,44099,48599],\"type\":\"histogram\",\"xaxis\":\"x7\",\"yaxis\":\"y7\"},{\"fill\":\"tonexty\",\"name\":\"HALF_OPEN - Modified CO2 Emissions\",\"x\":[2025,2025,2025,2026,2026,2026,2027,2027,2027,2028,2028,2028,2029,2029,2029,2030,2030,2030,2031,2031,2031,2032,2032,2032,2033,2033,2033,2034,2034,2034,2035,2035,2035,2036,2036,2036,2037,2037,2037,2038,2038,2038,2039,2039,2039,2040,2040,2040],\"y\":[88475.66448445406,88475.66448445406,88475.66448445406,88004.77084942539,88004.77084942539,88004.77084942539,87555.57954355466,87555.57954355466,87555.57954355466,87127.09035988247,87127.09035988247,87127.09035988247,86718.34918852756,86718.34918852756,86718.34918852756,86328.44589218574,86328.44589218574,86328.44589218574,85956.51227954215,85956.51227954215,85956.51227954215,85601.7201720837,85601.7201720837,85601.7201720837,85263.2795600075,85263.2795600075,85263.2795600075,84940.43684311889,84940.43684311889,84940.43684311889,84632.47315280222,84632.47315280222,84632.47315280222,84338.70275132784,84338.70275132784,84338.70275132784,84058.47150493096,84058.47150493096,84058.47150493096,83791.15542726268,83791.15542726268,83791.15542726268,83536.15928996995,83536.15928996995,83536.15928996995,83292.91529731003,83292.91529731003,83292.91529731003],\"type\":\"scatter\",\"xaxis\":\"x2\",\"yaxis\":\"y2\"},{\"fill\":\"tonexty\",\"name\":\"HALF_OPEN - Solar CO2 Emissions\",\"x\":[2025,2025,2025,2026,2026,2026,2027,2027,2027,2028,2028,2028,2029,2029,2029,2030,2030,2030,2031,2031,2031,2032,2032,2032,2033,2033,2033,2034,2034,2034,2035,2035,2035,2036,2036,2036,2037,2037,2037,2038,2038,2038,2039,2039,2039,2040,2040,2040],\"y\":[-26235.741483358055,-26235.741483358055,-26235.741483358055,-25026.600702893906,-25026.600702893906,-25026.600702893906,-23873.186246303965,-23873.186246303965,-23873.186246303965,-22772.929824417344,-22772.929824417344,-22772.929824417344,-21723.381514192613,-21723.381514192613,-21723.381514192613,-20722.20430351408,-20722.20430351408,-20722.20430351408,-19767.16888740503,-19767.16888740503,-19767.16888740503,-18856.148704070594,-18856.148704070594,-18856.148704070594,-17987.11519971737,-17987.11519971737,-17987.11519971737,-17158.133311605663,-17158.133311605663,-17158.133311605663,-16367.357159276868,-16367.357159276868,-16367.357159276868,-15613.025934361538,-15613.025934361538,-15613.025934361538,-14893.45997981606,-14893.45997981606,-14893.45997981606,-14207.05704985773,-14207.05704985773,-14207.05704985773,-13552.28874227015,-13552.28874227015,-13552.28874227015,-12927.697095134945,-12927.697095134945,-12927.697095134945],\"type\":\"scatter\",\"xaxis\":\"x2\",\"yaxis\":\"y2\"},{\"fill\":\"tonexty\",\"name\":\"HALF_OPEN - Net CO2 Emissions\",\"x\":[2025,2025,2025,2026,2026,2026,2027,2027,2027,2028,2028,2028,2029,2029,2029,2030,2030,2030,2031,2031,2031,2032,2032,2032,2033,2033,2033,2034,2034,2034,2035,2035,2035,2036,2036,2036,2037,2037,2037,2038,2038,2038,2039,2039,2039,2040,2040,2040],\"y\":[62239.92300109599,62239.92300109599,62239.92300109599,62978.170146531476,62978.170146531476,62978.170146531476,63682.39329725069,63682.39329725069,63682.39329725069,64354.160535465126,64354.160535465126,64354.160535465126,64994.96767433494,64994.96767433494,64994.96767433494,65606.24158867166,65606.24158867166,65606.24158867166,66189.34339213713,66189.34339213713,66189.34339213713,66745.57146801309,66745.57146801309,66745.57146801309,67276.16436029013,67276.16436029013,67276.16436029013,67782.30353151321,67782.30353151321,67782.30353151321,68265.11599352537,68265.11599352537,68265.11599352537,68725.6768169663,68725.6768169663,68725.6768169663,69165.01152511488,69165.01152511488,69165.01152511488,69584.09837740495,69584.09837740495,69584.09837740495,69983.87054769979,69983.87054769979,69983.87054769979,70365.21820217508,70365.21820217508,70365.21820217508],\"type\":\"scatter\",\"xaxis\":\"x5\",\"yaxis\":\"y5\"},{\"x\":[6599,6599,12449,12449,6900,15699,12399,15699,12749,20399,20999,17299,14099,17299,19299,21899,22899,20499,18699,18699,31799,22999,34899,29199,39049,39949,42499,45949,48999,48699,46099,46399,48399,56499,54799,51749,55299,53599,53799,54999,56699,61249,61099,60499,77099],\"type\":\"histogram\",\"xaxis\":\"x8\",\"yaxis\":\"y8\"},{\"fill\":\"tonexty\",\"name\":\"OPEN - Modified CO2 Emissions\",\"x\":[2025,2025,2025,2026,2026,2026,2027,2027,2027,2028,2028,2028,2029,2029,2029,2030,2030,2030,2031,2031,2031,2032,2032,2032,2033,2033,2033,2034,2034,2034,2035,2035,2035,2036,2036,2036,2037,2037,2037,2038,2038,2038,2039,2039,2039,2040,2040,2040],\"y\":[110732.94725888447,110732.94725888447,110732.94725888447,110300.6619867217,110300.6619867217,110300.6619867217,109888.29967925571,109888.29967925571,109888.29967925571,109494.94213605757,109494.94213605757,109494.94213605757,109119.71347429718,109119.71347429718,109119.71347429718,108761.77817842936,108761.77817842936,108761.77817842936,108420.33923976475,108420.33923976475,108420.33923976475,108094.63638178381,108094.63638178381,108094.63638178381,107783.94436724133,107783.94436724133,107783.94436724133,107487.57138329252,107487.57138329252,107487.57138329252,107204.85750104464,107204.85750104464,107204.85750104464,106935.17320610405,106935.17320610405,106935.17320610405,106677.91799684685,106677.91799684685,106677.91799684685,106432.51904729157,106432.51904729157,106432.51904729157,106198.42993159704,106198.42993159704,106198.42993159704,105975.12940734481,105975.12940734481,105975.12940734481],\"type\":\"scatter\",\"xaxis\":\"x3\",\"yaxis\":\"y3\"},{\"fill\":\"tonexty\",\"name\":\"OPEN - Solar CO2 Emissions\",\"x\":[2025,2025,2025,2026,2026,2026,2027,2027,2027,2028,2028,2028,2029,2029,2029,2030,2030,2030,2031,2031,2031,2032,2032,2032,2033,2033,2033,2034,2034,2034,2035,2035,2035,2036,2036,2036,2037,2037,2037,2038,2038,2038,2039,2039,2039,2040,2040,2040],\"y\":[-38773.512893592095,-38773.512893592095,-38773.512893592095,-36986.537073936546,-36986.537073936546,-36986.537073936546,-35281.91857353647,-35281.91857353647,-35281.91857353647,-33655.861746160765,-33655.861746160765,-33655.861746160765,-32104.74587757517,-32104.74587757517,-32104.74587757517,-30625.11712335686,-30625.11712335686,-30625.11712335686,-29213.68081827547,-29213.68081827547,-29213.68081827547,-27867.294140115573,-27867.294140115573,-27867.294140115573,-26582.959111605818,-26582.959111605818,-26582.959111605818,-25357.815924871702,-25357.815924871702,-25357.815924871702,-24189.136573548065,-24189.136573548065,-24189.136573548065,-23074.31877837173,-23074.31877837173,-23074.31877837173,-22010.880192728677,-22010.880192728677,-22010.880192728677,-20996.45287525336,-20996.45287525336,-20996.45287525336,-20028.77801717219,-20028.77801717219,-20028.77801717219,-19105.700912650922,-19105.700912650922,-19105.700912650922],\"type\":\"scatter\",\"xaxis\":\"x3\",\"yaxis\":\"y3\"},{\"fill\":\"tonexty\",\"name\":\"OPEN - Net CO2 Emissions\",\"x\":[2025,2025,2025,2026,2026,2026,2027,2027,2027,2028,2028,2028,2029,2029,2029,2030,2030,2030,2031,2031,2031,2032,2032,2032,2033,2033,2033,2034,2034,2034,2035,2035,2035,2036,2036,2036,2037,2037,2037,2038,2038,2038,2039,2039,2039,2040,2040,2040],\"y\":[71959.43436529237,71959.43436529237,71959.43436529237,73314.12491278515,73314.12491278515,73314.12491278515,74606.38110571924,74606.38110571924,74606.38110571924,75839.0803898968,75839.0803898968,75839.0803898968,77014.96759672205,77014.96759672205,77014.96759672205,78136.6610550725,78136.6610550725,78136.6610550725,79206.6584214893,79206.6584214893,79206.6584214893,80227.34224166824,80227.34224166824,80227.34224166824,81200.98525563553,81200.98525563553,81200.98525563553,82129.75545842083,82129.75545842083,82129.75545842083,83015.72092749657,83015.72092749657,83015.72092749657,83860.85442773232,83860.85442773232,83860.85442773232,84667.03780411817,84667.03780411817,84667.03780411817,85436.0661720382,85436.0661720382,85436.0661720382,86169.65191442487,86169.65191442487,86169.65191442487,86869.42849469387,86869.42849469387,86869.42849469387],\"type\":\"scatter\",\"xaxis\":\"x6\",\"yaxis\":\"y6\"},{\"x\":[12149,14299,14299,12750,17499,21699,16599,20099,15799,19099,25099,24899,20099,24699,21199,26949,24999,21199,32249,26799,45999,47499,46599,58999,48599,48599,61499,49499,57499,55999,56099,57599,57399,58149,65699,65899,64399,64499,67499,72599,79499,81199,85700,89999],\"type\":\"histogram\",\"xaxis\":\"x9\",\"yaxis\":\"y9\"}],                        {\"template\":{\"data\":{\"histogram2dcontour\":[{\"type\":\"histogram2dcontour\",\"colorbar\":{\"outlinewidth\":0,\"ticks\":\"\"},\"colorscale\":[[0.0,\"#0d0887\"],[0.1111111111111111,\"#46039f\"],[0.2222222222222222,\"#7201a8\"],[0.3333333333333333,\"#9c179e\"],[0.4444444444444444,\"#bd3786\"],[0.5555555555555556,\"#d8576b\"],[0.6666666666666666,\"#ed7953\"],[0.7777777777777778,\"#fb9f3a\"],[0.8888888888888888,\"#fdca26\"],[1.0,\"#f0f921\"]]}],\"choropleth\":[{\"type\":\"choropleth\",\"colorbar\":{\"outlinewidth\":0,\"ticks\":\"\"}}],\"histogram2d\":[{\"type\":\"histogram2d\",\"colorbar\":{\"outlinewidth\":0,\"ticks\":\"\"},\"colorscale\":[[0.0,\"#0d0887\"],[0.1111111111111111,\"#46039f\"],[0.2222222222222222,\"#7201a8\"],[0.3333333333333333,\"#9c179e\"],[0.4444444444444444,\"#bd3786\"],[0.5555555555555556,\"#d8576b\"],[0.6666666666666666,\"#ed7953\"],[0.7777777777777778,\"#fb9f3a\"],[0.8888888888888888,\"#fdca26\"],[1.0,\"#f0f921\"]]}],\"heatmap\":[{\"type\":\"heatmap\",\"colorbar\":{\"outlinewidth\":0,\"ticks\":\"\"},\"colorscale\":[[0.0,\"#0d0887\"],[0.1111111111111111,\"#46039f\"],[0.2222222222222222,\"#7201a8\"],[0.3333333333333333,\"#9c179e\"],[0.4444444444444444,\"#bd3786\"],[0.5555555555555556,\"#d8576b\"],[0.6666666666666666,\"#ed7953\"],[0.7777777777777778,\"#fb9f3a\"],[0.8888888888888888,\"#fdca26\"],[1.0,\"#f0f921\"]]}],\"heatmapgl\":[{\"type\":\"heatmapgl\",\"colorbar\":{\"outlinewidth\":0,\"ticks\":\"\"},\"colorscale\":[[0.0,\"#0d0887\"],[0.1111111111111111,\"#46039f\"],[0.2222222222222222,\"#7201a8\"],[0.3333333333333333,\"#9c179e\"],[0.4444444444444444,\"#bd3786\"],[0.5555555555555556,\"#d8576b\"],[0.6666666666666666,\"#ed7953\"],[0.7777777777777778,\"#fb9f3a\"],[0.8888888888888888,\"#fdca26\"],[1.0,\"#f0f921\"]]}],\"contourcarpet\":[{\"type\":\"contourcarpet\",\"colorbar\":{\"outlinewidth\":0,\"ticks\":\"\"}}],\"contour\":[{\"type\":\"contour\",\"colorbar\":{\"outlinewidth\":0,\"ticks\":\"\"},\"colorscale\":[[0.0,\"#0d0887\"],[0.1111111111111111,\"#46039f\"],[0.2222222222222222,\"#7201a8\"],[0.3333333333333333,\"#9c179e\"],[0.4444444444444444,\"#bd3786\"],[0.5555555555555556,\"#d8576b\"],[0.6666666666666666,\"#ed7953\"],[0.7777777777777778,\"#fb9f3a\"],[0.8888888888888888,\"#fdca26\"],[1.0,\"#f0f921\"]]}],\"surface\":[{\"type\":\"surface\",\"colorbar\":{\"outlinewidth\":0,\"ticks\":\"\"},\"colorscale\":[[0.0,\"#0d0887\"],[0.1111111111111111,\"#46039f\"],[0.2222222222222222,\"#7201a8\"],[0.3333333333333333,\"#9c179e\"],[0.4444444444444444,\"#bd3786\"],[0.5555555555555556,\"#d8576b\"],[0.6666666666666666,\"#ed7953\"],[0.7777777777777778,\"#fb9f3a\"],[0.8888888888888888,\"#fdca26\"],[1.0,\"#f0f921\"]]}],\"mesh3d\":[{\"type\":\"mesh3d\",\"colorbar\":{\"outlinewidth\":0,\"ticks\":\"\"}}],\"scatter\":[{\"fillpattern\":{\"fillmode\":\"overlay\",\"size\":10,\"solidity\":0.2},\"type\":\"scatter\"}],\"parcoords\":[{\"type\":\"parcoords\",\"line\":{\"colorbar\":{\"outlinewidth\":0,\"ticks\":\"\"}}}],\"scatterpolargl\":[{\"type\":\"scatterpolargl\",\"marker\":{\"colorbar\":{\"outlinewidth\":0,\"ticks\":\"\"}}}],\"bar\":[{\"error_x\":{\"color\":\"#2a3f5f\"},\"error_y\":{\"color\":\"#2a3f5f\"},\"marker\":{\"line\":{\"color\":\"#E5ECF6\",\"width\":0.5},\"pattern\":{\"fillmode\":\"overlay\",\"size\":10,\"solidity\":0.2}},\"type\":\"bar\"}],\"scattergeo\":[{\"type\":\"scattergeo\",\"marker\":{\"colorbar\":{\"outlinewidth\":0,\"ticks\":\"\"}}}],\"scatterpolar\":[{\"type\":\"scatterpolar\",\"marker\":{\"colorbar\":{\"outlinewidth\":0,\"ticks\":\"\"}}}],\"histogram\":[{\"marker\":{\"pattern\":{\"fillmode\":\"overlay\",\"size\":10,\"solidity\":0.2}},\"type\":\"histogram\"}],\"scattergl\":[{\"type\":\"scattergl\",\"marker\":{\"colorbar\":{\"outlinewidth\":0,\"ticks\":\"\"}}}],\"scatter3d\":[{\"type\":\"scatter3d\",\"line\":{\"colorbar\":{\"outlinewidth\":0,\"ticks\":\"\"}},\"marker\":{\"colorbar\":{\"outlinewidth\":0,\"ticks\":\"\"}}}],\"scattermapbox\":[{\"type\":\"scattermapbox\",\"marker\":{\"colorbar\":{\"outlinewidth\":0,\"ticks\":\"\"}}}],\"scatterternary\":[{\"type\":\"scatterternary\",\"marker\":{\"colorbar\":{\"outlinewidth\":0,\"ticks\":\"\"}}}],\"scattercarpet\":[{\"type\":\"scattercarpet\",\"marker\":{\"colorbar\":{\"outlinewidth\":0,\"ticks\":\"\"}}}],\"carpet\":[{\"aaxis\":{\"endlinecolor\":\"#2a3f5f\",\"gridcolor\":\"white\",\"linecolor\":\"white\",\"minorgridcolor\":\"white\",\"startlinecolor\":\"#2a3f5f\"},\"baxis\":{\"endlinecolor\":\"#2a3f5f\",\"gridcolor\":\"white\",\"linecolor\":\"white\",\"minorgridcolor\":\"white\",\"startlinecolor\":\"#2a3f5f\"},\"type\":\"carpet\"}],\"table\":[{\"cells\":{\"fill\":{\"color\":\"#EBF0F8\"},\"line\":{\"color\":\"white\"}},\"header\":{\"fill\":{\"color\":\"#C8D4E3\"},\"line\":{\"color\":\"white\"}},\"type\":\"table\"}],\"barpolar\":[{\"marker\":{\"line\":{\"color\":\"#E5ECF6\",\"width\":0.5},\"pattern\":{\"fillmode\":\"overlay\",\"size\":10,\"solidity\":0.2}},\"type\":\"barpolar\"}],\"pie\":[{\"automargin\":true,\"type\":\"pie\"}]},\"layout\":{\"autotypenumbers\":\"strict\",\"colorway\":[\"#636efa\",\"#EF553B\",\"#00cc96\",\"#ab63fa\",\"#FFA15A\",\"#19d3f3\",\"#FF6692\",\"#B6E880\",\"#FF97FF\",\"#FECB52\"],\"font\":{\"color\":\"#2a3f5f\"},\"hovermode\":\"closest\",\"hoverlabel\":{\"align\":\"left\"},\"paper_bgcolor\":\"white\",\"plot_bgcolor\":\"#E5ECF6\",\"polar\":{\"bgcolor\":\"#E5ECF6\",\"angularaxis\":{\"gridcolor\":\"white\",\"linecolor\":\"white\",\"ticks\":\"\"},\"radialaxis\":{\"gridcolor\":\"white\",\"linecolor\":\"white\",\"ticks\":\"\"}},\"ternary\":{\"bgcolor\":\"#E5ECF6\",\"aaxis\":{\"gridcolor\":\"white\",\"linecolor\":\"white\",\"ticks\":\"\"},\"baxis\":{\"gridcolor\":\"white\",\"linecolor\":\"white\",\"ticks\":\"\"},\"caxis\":{\"gridcolor\":\"white\",\"linecolor\":\"white\",\"ticks\":\"\"}},\"coloraxis\":{\"colorbar\":{\"outlinewidth\":0,\"ticks\":\"\"}},\"colorscale\":{\"sequential\":[[0.0,\"#0d0887\"],[0.1111111111111111,\"#46039f\"],[0.2222222222222222,\"#7201a8\"],[0.3333333333333333,\"#9c179e\"],[0.4444444444444444,\"#bd3786\"],[0.5555555555555556,\"#d8576b\"],[0.6666666666666666,\"#ed7953\"],[0.7777777777777778,\"#fb9f3a\"],[0.8888888888888888,\"#fdca26\"],[1.0,\"#f0f921\"]],\"sequentialminus\":[[0.0,\"#0d0887\"],[0.1111111111111111,\"#46039f\"],[0.2222222222222222,\"#7201a8\"],[0.3333333333333333,\"#9c179e\"],[0.4444444444444444,\"#bd3786\"],[0.5555555555555556,\"#d8576b\"],[0.6666666666666666,\"#ed7953\"],[0.7777777777777778,\"#fb9f3a\"],[0.8888888888888888,\"#fdca26\"],[1.0,\"#f0f921\"]],\"diverging\":[[0,\"#8e0152\"],[0.1,\"#c51b7d\"],[0.2,\"#de77ae\"],[0.3,\"#f1b6da\"],[0.4,\"#fde0ef\"],[0.5,\"#f7f7f7\"],[0.6,\"#e6f5d0\"],[0.7,\"#b8e186\"],[0.8,\"#7fbc41\"],[0.9,\"#4d9221\"],[1,\"#276419\"]]},\"xaxis\":{\"gridcolor\":\"white\",\"linecolor\":\"white\",\"ticks\":\"\",\"title\":{\"standoff\":15},\"zerolinecolor\":\"white\",\"automargin\":true,\"zerolinewidth\":2},\"yaxis\":{\"gridcolor\":\"white\",\"linecolor\":\"white\",\"ticks\":\"\",\"title\":{\"standoff\":15},\"zerolinecolor\":\"white\",\"automargin\":true,\"zerolinewidth\":2},\"scene\":{\"xaxis\":{\"backgroundcolor\":\"#E5ECF6\",\"gridcolor\":\"white\",\"linecolor\":\"white\",\"showbackground\":true,\"ticks\":\"\",\"zerolinecolor\":\"white\",\"gridwidth\":2},\"yaxis\":{\"backgroundcolor\":\"#E5ECF6\",\"gridcolor\":\"white\",\"linecolor\":\"white\",\"showbackground\":true,\"ticks\":\"\",\"zerolinecolor\":\"white\",\"gridwidth\":2},\"zaxis\":{\"backgroundcolor\":\"#E5ECF6\",\"gridcolor\":\"white\",\"linecolor\":\"white\",\"showbackground\":true,\"ticks\":\"\",\"zerolinecolor\":\"white\",\"gridwidth\":2}},\"shapedefaults\":{\"line\":{\"color\":\"#2a3f5f\"}},\"annotationdefaults\":{\"arrowcolor\":\"#2a3f5f\",\"arrowhead\":0,\"arrowwidth\":1},\"geo\":{\"bgcolor\":\"white\",\"landcolor\":\"#E5ECF6\",\"subunitcolor\":\"white\",\"showland\":true,\"showlakes\":true,\"lakecolor\":\"white\"},\"title\":{\"x\":0.05},\"mapbox\":{\"style\":\"light\"}}},\"xaxis\":{\"anchor\":\"y\",\"domain\":[0.0,0.2888888888888889],\"title\":{\"text\":\"Year\"}},\"yaxis\":{\"anchor\":\"x\",\"domain\":[0.7777777777777778,1.0],\"title\":{\"text\":\"Gross CO2 Emissions (kg)\"},\"range\":[-45000,120000]},\"xaxis2\":{\"anchor\":\"y2\",\"domain\":[0.35555555555555557,0.6444444444444445],\"title\":{\"text\":\"Year\"}},\"yaxis2\":{\"anchor\":\"x2\",\"domain\":[0.7777777777777778,1.0],\"matches\":\"y\",\"showticklabels\":false,\"range\":[-45000,120000]},\"xaxis3\":{\"anchor\":\"y3\",\"domain\":[0.7111111111111111,1.0],\"title\":{\"text\":\"Year\"}},\"yaxis3\":{\"anchor\":\"x3\",\"domain\":[0.7777777777777778,1.0],\"matches\":\"y\",\"showticklabels\":false,\"range\":[-45000,120000]},\"xaxis4\":{\"anchor\":\"y4\",\"domain\":[0.0,0.2888888888888889]},\"yaxis4\":{\"anchor\":\"x4\",\"domain\":[0.3888888888888889,0.6111111111111112],\"title\":{\"text\":\"Net CO2 Emissions (kg)\"},\"range\":[-20000,100000]},\"xaxis5\":{\"anchor\":\"y5\",\"domain\":[0.35555555555555557,0.6444444444444445]},\"yaxis5\":{\"anchor\":\"x5\",\"domain\":[0.3888888888888889,0.6111111111111112],\"matches\":\"y4\",\"showticklabels\":false,\"range\":[-20000,100000]},\"xaxis6\":{\"anchor\":\"y6\",\"domain\":[0.7111111111111111,1.0]},\"yaxis6\":{\"anchor\":\"x6\",\"domain\":[0.3888888888888889,0.6111111111111112],\"matches\":\"y4\",\"showticklabels\":false,\"range\":[-20000,100000]},\"xaxis7\":{\"anchor\":\"y7\",\"domain\":[0.0,0.2888888888888889],\"title\":{\"text\":\"Investment cost [\\u20ac]\"}},\"yaxis7\":{\"anchor\":\"x7\",\"domain\":[0.0,0.22222222222222224],\"title\":{\"text\":\"Count\"},\"range\":[0,30]},\"xaxis8\":{\"anchor\":\"y8\",\"domain\":[0.35555555555555557,0.6444444444444445],\"title\":{\"text\":\"Investment cost [\\u20ac]\"}},\"yaxis8\":{\"anchor\":\"x8\",\"domain\":[0.0,0.22222222222222224],\"matches\":\"y7\",\"showticklabels\":false,\"range\":[0,30]},\"xaxis9\":{\"anchor\":\"y9\",\"domain\":[0.7111111111111111,1.0],\"title\":{\"text\":\"Investment cost [\\u20ac]\"}},\"yaxis9\":{\"anchor\":\"x9\",\"domain\":[0.0,0.22222222222222224],\"matches\":\"y7\",\"showticklabels\":false,\"range\":[0,30]},\"annotations\":[{\"font\":{\"size\":16},\"showarrow\":false,\"text\":\"GESLOTEN\",\"x\":0.14444444444444446,\"xanchor\":\"center\",\"xref\":\"paper\",\"y\":1.0,\"yanchor\":\"bottom\",\"yref\":\"paper\"},{\"font\":{\"size\":16},\"showarrow\":false,\"text\":\"HALF_OPEN\",\"x\":0.5,\"xanchor\":\"center\",\"xref\":\"paper\",\"y\":1.0,\"yanchor\":\"bottom\",\"yref\":\"paper\"},{\"font\":{\"size\":16},\"showarrow\":false,\"text\":\"OPEN\",\"x\":0.8555555555555556,\"xanchor\":\"center\",\"xref\":\"paper\",\"y\":1.0,\"yanchor\":\"bottom\",\"yref\":\"paper\"}],\"title\":{\"text\":\"CO2 Emissions Over Years by Building Type with gasboilers and A labels\"},\"showlegend\":true,\"height\":800,\"width\":1600},                        {\"responsive\": true}                    ).then(function(){\n",
       "                            \n",
       "var gd = document.getElementById('4a4c6606-3829-41bf-b707-e2bca89a2919');\n",
       "var x = new MutationObserver(function (mutations, observer) {{\n",
       "        var display = window.getComputedStyle(gd).display;\n",
       "        if (!display || display === 'none') {{\n",
       "            console.log([gd, 'removed!']);\n",
       "            Plotly.purge(gd);\n",
       "            observer.disconnect();\n",
       "        }}\n",
       "}});\n",
       "\n",
       "// Listen for the removal of the full notebook cells\n",
       "var notebookContainer = gd.closest('#notebook-container');\n",
       "if (notebookContainer) {{\n",
       "    x.observe(notebookContainer, {childList: true});\n",
       "}}\n",
       "\n",
       "// Listen for the clearing of the current output cell\n",
       "var outputEl = gd.closest('.output');\n",
       "if (outputEl) {{\n",
       "    x.observe(outputEl, {childList: true});\n",
       "}}\n",
       "\n",
       "                        })                };                });            </script>        </div>"
      ]
     },
     "metadata": {},
     "output_type": "display_data"
    }
   ],
   "source": [
    "import pandas as pd\n",
    "import plotly.graph_objects as go\n",
    "from plotly.subplots import make_subplots\n",
    "\n",
    "\n",
    "# Filter the DataFrame\n",
    "testcase2 = df[(df['epc_ind'] <= 100) & (df['heating_system'] == 'Gasboiler')].sort_values(by='tco', ascending=True).drop_duplicates(subset=['name'], keep='first')\n",
    "\n",
    "# Extract the years from the columns\n",
    "years = sorted([int(col.split('_')[-1]) for col in testcase2.columns if 'emissions_' in col])\n",
    "\n",
    "# Initialize lists to store the data\n",
    "data = []\n",
    "\n",
    "# Collect data for each year and each building type\n",
    "for year in years:\n",
    "    for building_type, group in testcase2.groupby('building_type'):\n",
    "        modified_emissions = group[f'modified_emissions_{year}'].sum()\n",
    "        solar_emissions = group[f'solar_injection_emissions_{year}'].sum() * -1  # Make solar emissions negative\n",
    "        net_emissions = group[f'emissions_{year}'].sum()\n",
    "        data.append([year, building_type, 'Modified CO2 Emissions', modified_emissions])\n",
    "        data.append([year, building_type, 'Solar CO2 Emissions', solar_emissions])\n",
    "        data.append([year, building_type, 'Net Emissions', net_emissions])\n",
    "\n",
    "# Create a DataFrame from the collected data\n",
    "emissions_df = pd.DataFrame(data, columns=['Year', 'Building Type', 'Emissions Type', 'Emissions'])\n",
    "\n",
    "# Get unique building types\n",
    "building_types = emissions_df['Building Type'].unique()\n",
    "\n",
    "# Create subplots\n",
    "fig = make_subplots(rows=3, cols=len(building_types), shared_yaxes=True, subplot_titles=building_types)\n",
    "\n",
    "# Add traces for each building type\n",
    "for i, building_type in enumerate(building_types, start=1):\n",
    "    subset = emissions_df[emissions_df['Building Type'] == building_type]\n",
    "\n",
    "    fig.add_trace(go.Scatter(\n",
    "        x=subset[subset['Emissions Type'] == 'Modified CO2 Emissions']['Year'],\n",
    "        y=subset[subset['Emissions Type'] == 'Modified CO2 Emissions']['Emissions'],\n",
    "        fill='tonexty',\n",
    "        name=f'{building_type} - Modified CO2 Emissions'\n",
    "    ), row=1, col=i)\n",
    "    fig.add_trace(go.Scatter(\n",
    "        x=subset[subset['Emissions Type'] == 'Solar CO2 Emissions']['Year'],\n",
    "        y=subset[subset['Emissions Type'] == 'Solar CO2 Emissions']['Emissions'],\n",
    "        fill='tonexty',\n",
    "        name=f'{building_type} - Solar CO2 Emissions'\n",
    "    ), row=1, col=i)\n",
    "    fig.add_trace(go.Scatter(\n",
    "        x=subset[subset['Emissions Type'] == 'Solar CO2 Emissions']['Year'],\n",
    "        y=subset[subset['Emissions Type'] == 'Net Emissions']['Emissions'],\n",
    "        fill='tonexty',\n",
    "        name=f'{building_type} - Net CO2 Emissions'\n",
    "    ), row=2, col=i)\n",
    "    fig.add_trace(go.Histogram(x = testcase2[testcase2.building_type == building_type].total_investment_cost), row = 3, col = i)\n",
    "\n",
    "\n",
    "# Update layout\n",
    "fig.update_layout(\n",
    "    title='CO2 Emissions Over Years by Building Type with gasboilers and A labels',\n",
    "    xaxis_title='Year',\n",
    "    yaxis_title='CO2 Emissions (kg)',\n",
    "    showlegend=True,\n",
    "    height = 800, width = 1600\n",
    ")\n",
    "\n",
    "# Update x-axes titles for each subplot\n",
    "for i in range(1, len(building_types) + 1):\n",
    "    fig.update_xaxes(title_text='Year', row=1, col=i)\n",
    "\n",
    "# Update y-axis title only for the first subplot\n",
    "fig.update_yaxes(title_text='Gross CO2 Emissions (kg)', row=1, col=1)\n",
    "fig.update_yaxes(title_text='Net CO2 Emissions (kg)', row=2, col=1)\n",
    "fig.update_yaxes(title_text='Count', row=3, col=1)\n",
    "fig.update_yaxes(range = [-45000, 120000], row = 1)\n",
    "fig.update_yaxes(range = [-20000, 100000], row = 2)\n",
    "fig.update_yaxes(range = [0, 30], row = 3)\n",
    "for i in range(len(building_types)+ 1):\n",
    "    fig.update_xaxes(title_text='Investment cost [€]', row=3, col=i)\n",
    "\n",
    "# Show the plot\n",
    "fig.show()\n",
    "fig2 = fig"
   ]
  },
  {
   "cell_type": "code",
   "execution_count": 179,
   "metadata": {},
   "outputs": [
    {
     "data": {
      "application/vnd.plotly.v1+json": {
       "config": {
        "plotlyServerURL": "https://plot.ly"
       },
       "data": [
        {
         "fill": "tonexty",
         "name": "GESLOTEN - Modified CO2 Emissions",
         "type": "scatter",
         "x": [
          2025,
          2025,
          2025,
          2026,
          2026,
          2026,
          2027,
          2027,
          2027,
          2028,
          2028,
          2028,
          2029,
          2029,
          2029,
          2030,
          2030,
          2030,
          2031,
          2031,
          2031,
          2032,
          2032,
          2032,
          2033,
          2033,
          2033,
          2034,
          2034,
          2034,
          2035,
          2035,
          2035,
          2036,
          2036,
          2036,
          2037,
          2037,
          2037,
          2038,
          2038,
          2038,
          2039,
          2039,
          2039,
          2040,
          2040,
          2040
         ],
         "xaxis": "x",
         "y": [
          26197.47152988897,
          26197.47152988897,
          26197.47152988897,
          24990.094517429447,
          24990.094517429447,
          24990.094517429447,
          23838.36254111597,
          23838.36254111597,
          23838.36254111597,
          22739.711058129073,
          22739.711058129073,
          22739.711058129073,
          21691.6937191186,
          21691.6937191186,
          21691.6937191186,
          20691.976920957535,
          20691.976920957535,
          20691.976920957535,
          19738.33461054586,
          19738.33461054586,
          19738.33461054586,
          18828.64332809452,
          18828.64332809452,
          18828.64332809452,
          17960.877478852002,
          17960.877478852002,
          17960.877478852002,
          17133.10482274561,
          17133.10482274561,
          17133.10482274561,
          16343.482171893924,
          16343.482171893924,
          16343.482171893924,
          15590.251286410434,
          15590.251286410434,
          15590.251286410434,
          14871.734959359414,
          14871.734959359414,
          14871.734959359414,
          14186.333282146588,
          14186.333282146588,
          14186.333282146588,
          13532.520082028725,
          13532.520082028725,
          13532.520082028725,
          12908.839523809691,
          12908.839523809691,
          12908.839523809691
         ],
         "yaxis": "y"
        },
        {
         "fill": "tonexty",
         "name": "GESLOTEN - Solar CO2 Emissions",
         "type": "scatter",
         "x": [
          2025,
          2025,
          2025,
          2026,
          2026,
          2026,
          2027,
          2027,
          2027,
          2028,
          2028,
          2028,
          2029,
          2029,
          2029,
          2030,
          2030,
          2030,
          2031,
          2031,
          2031,
          2032,
          2032,
          2032,
          2033,
          2033,
          2033,
          2034,
          2034,
          2034,
          2035,
          2035,
          2035,
          2036,
          2036,
          2036,
          2037,
          2037,
          2037,
          2038,
          2038,
          2038,
          2039,
          2039,
          2039,
          2040,
          2040,
          2040
         ],
         "xaxis": "x",
         "y": [
          -5371.019131356106,
          -5371.019131356106,
          -5371.019131356106,
          -5123.482073236544,
          -5123.482073236544,
          -5123.482073236544,
          -4887.35338914134,
          -4887.35338914134,
          -4887.35338914134,
          -4662.107295178301,
          -4662.107295178301,
          -4662.107295178301,
          -4447.242239541309,
          -4447.242239541309,
          -4447.242239541309,
          -4242.27978571308,
          -4242.27978571308,
          -4242.27978571308,
          -4046.76354713838,
          -4046.76354713838,
          -4046.76354713838,
          -3860.2581709955107,
          -3860.2581709955107,
          -3860.2581709955107,
          -3682.3483688032843,
          -3682.3483688032843,
          -3682.3483688032843,
          -3512.637991704928,
          -3512.637991704928,
          -3512.637991704928,
          -3350.749148369883,
          -3350.749148369883,
          -3350.749148369883,
          -3196.321363549335,
          -3196.321363549335,
          -3196.321363549335,
          -3049.0107754118576,
          -3049.0107754118576,
          -3049.0107754118576,
          -2908.4893698718756,
          -2908.4893698718756,
          -2908.4893698718756,
          -2774.444250206044,
          -2774.444250206044,
          -2774.444250206044,
          -2646.5769403312165,
          -2646.5769403312165,
          -2646.5769403312165
         ],
         "yaxis": "y"
        },
        {
         "fill": "tonexty",
         "name": "GESLOTEN - Net CO2 Emissions",
         "text": "Net Emissions",
         "type": "scatter",
         "x": [
          2025,
          2025,
          2025,
          2026,
          2026,
          2026,
          2027,
          2027,
          2027,
          2028,
          2028,
          2028,
          2029,
          2029,
          2029,
          2030,
          2030,
          2030,
          2031,
          2031,
          2031,
          2032,
          2032,
          2032,
          2033,
          2033,
          2033,
          2034,
          2034,
          2034,
          2035,
          2035,
          2035,
          2036,
          2036,
          2036,
          2037,
          2037,
          2037,
          2038,
          2038,
          2038,
          2039,
          2039,
          2039,
          2040,
          2040,
          2040
         ],
         "xaxis": "x4",
         "y": [
          20826.452398532867,
          20826.452398532867,
          20826.452398532867,
          19866.612444192902,
          19866.612444192902,
          19866.612444192902,
          18951.00915197463,
          18951.00915197463,
          18951.00915197463,
          18077.60376295077,
          18077.60376295077,
          18077.60376295077,
          17244.45147957729,
          17244.45147957729,
          17244.45147957729,
          16449.69713524445,
          16449.69713524445,
          16449.69713524445,
          15691.571063407484,
          15691.571063407484,
          15691.571063407484,
          14968.385157099008,
          14968.385157099008,
          14968.385157099008,
          14278.529110048721,
          14278.529110048721,
          14278.529110048721,
          13620.466831040678,
          13620.466831040678,
          13620.466831040678,
          12992.73302352404,
          12992.73302352404,
          12992.73302352404,
          12393.9299228611,
          12393.9299228611,
          12393.9299228611,
          11822.724183947556,
          11822.724183947556,
          11822.724183947556,
          11277.843912274713,
          11277.843912274713,
          11277.843912274713,
          10758.075831822682,
          10758.075831822682,
          10758.075831822682,
          10262.262583478476,
          10262.262583478476,
          10262.262583478476
         ],
         "yaxis": "y4"
        },
        {
         "type": "histogram",
         "x": [
          9299,
          9499,
          10099,
          10199,
          10299,
          17749,
          17749,
          10599,
          10599,
          10799,
          20049,
          12899,
          10999,
          11199,
          11299,
          11399,
          11599,
          24049,
          16699,
          14399,
          14399,
          24949,
          29249,
          26699,
          26099,
          25299,
          27349,
          27299,
          28549,
          30399,
          28499,
          28899,
          31699,
          37049,
          30649,
          32899,
          40149,
          34399,
          44749,
          34899,
          44649,
          37899,
          43299,
          43599,
          53749
         ],
         "xaxis": "x7",
         "yaxis": "y7"
        },
        {
         "fill": "tonexty",
         "name": "HALF_OPEN - Modified CO2 Emissions",
         "type": "scatter",
         "x": [
          2025,
          2025,
          2025,
          2026,
          2026,
          2026,
          2027,
          2027,
          2027,
          2028,
          2028,
          2028,
          2029,
          2029,
          2029,
          2030,
          2030,
          2030,
          2031,
          2031,
          2031,
          2032,
          2032,
          2032,
          2033,
          2033,
          2033,
          2034,
          2034,
          2034,
          2035,
          2035,
          2035,
          2036,
          2036,
          2036,
          2037,
          2037,
          2037,
          2038,
          2038,
          2038,
          2039,
          2039,
          2039,
          2040,
          2040,
          2040
         ],
         "xaxis": "x2",
         "y": [
          31184.02420834272,
          31184.02420834272,
          31184.02420834272,
          30095.45512742997,
          30095.45512742997,
          30095.45512742997,
          29057.05551738653,
          29057.05551738653,
          29057.05551738653,
          28066.51319072568,
          28066.51319072568,
          28066.51319072568,
          27121.622522993595,
          27121.622522993595,
          27121.622522993595,
          26220.279541541302,
          26220.279541541302,
          26220.279541541302,
          25360.477240643064,
          25360.477240643064,
          25360.477240643064,
          24540.301112529476,
          24540.301112529476,
          24540.301112529476,
          23757.924884384207,
          23757.924884384207,
          23757.924884384207,
          23011.60645181204,
          23011.60645181204,
          23011.60645181204,
          22299.683999723522,
          22299.683999723522,
          22299.683999723522,
          21620.572301998247,
          21620.572301998247,
          21620.572301998247,
          20972.7591916878,
          20972.7591916878,
          20972.7591916878,
          20354.80219389823,
          20354.80219389823,
          20354.80219389823,
          19765.325313854704,
          19765.325313854704,
          19765.325313854704,
          19203.01597299635,
          19203.01597299635,
          19203.01597299635
         ],
         "yaxis": "y2"
        },
        {
         "fill": "tonexty",
         "name": "HALF_OPEN - Solar CO2 Emissions",
         "type": "scatter",
         "x": [
          2025,
          2025,
          2025,
          2026,
          2026,
          2026,
          2027,
          2027,
          2027,
          2028,
          2028,
          2028,
          2029,
          2029,
          2029,
          2030,
          2030,
          2030,
          2031,
          2031,
          2031,
          2032,
          2032,
          2032,
          2033,
          2033,
          2033,
          2034,
          2034,
          2034,
          2035,
          2035,
          2035,
          2036,
          2036,
          2036,
          2037,
          2037,
          2037,
          2038,
          2038,
          2038,
          2039,
          2039,
          2039,
          2040,
          2040,
          2040
         ],
         "xaxis": "x2",
         "y": [
          -7974.220157403959,
          -7974.220157403959,
          -7974.220157403959,
          -7606.707968322797,
          -7606.707968322797,
          -7606.707968322797,
          -7256.133511892246,
          -7256.133511892246,
          -7256.133511892246,
          -6921.71616968422,
          -6921.71616968422,
          -6921.71616968422,
          -6602.711300053524,
          -6602.711300053524,
          -6602.711300053524,
          -6298.408580056441,
          -6298.408580056441,
          -6298.408580056441,
          -6008.13042378621,
          -6008.13042378621,
          -6008.13042378621,
          -5731.23047360354,
          -5731.23047360354,
          -5731.23047360354,
          -5467.092160902577,
          -5467.092160902577,
          -5467.092160902577,
          -5215.127333207642,
          -5215.127333207642,
          -5215.127333207642,
          -4974.7749445437075,
          -4974.7749445437075,
          -4974.7749445437075,
          -4745.49980616446,
          -4745.49980616446,
          -4745.49980616446,
          -4526.791394856249,
          -4526.791394856249,
          -4526.791394856249,
          -4318.162716164365,
          -4318.162716164365,
          -4318.162716164365,
          -4119.149220010419,
          -4119.149220010419,
          -4119.149220010419,
          -3929.307766286269,
          -3929.307766286269,
          -3929.307766286269
         ],
         "yaxis": "y2"
        },
        {
         "fill": "tonexty",
         "name": "HALF_OPEN - Net CO2 Emissions",
         "text": "Net Emissions",
         "type": "scatter",
         "x": [
          2025,
          2025,
          2025,
          2026,
          2026,
          2026,
          2027,
          2027,
          2027,
          2028,
          2028,
          2028,
          2029,
          2029,
          2029,
          2030,
          2030,
          2030,
          2031,
          2031,
          2031,
          2032,
          2032,
          2032,
          2033,
          2033,
          2033,
          2034,
          2034,
          2034,
          2035,
          2035,
          2035,
          2036,
          2036,
          2036,
          2037,
          2037,
          2037,
          2038,
          2038,
          2038,
          2039,
          2039,
          2039,
          2040,
          2040,
          2040
         ],
         "xaxis": "x5",
         "y": [
          23209.80405093876,
          23209.80405093876,
          23209.80405093876,
          22488.747159107174,
          22488.747159107174,
          22488.747159107174,
          21800.922005494285,
          21800.922005494285,
          21800.922005494285,
          21144.79702104146,
          21144.79702104146,
          21144.79702104146,
          20518.911222940074,
          20518.911222940074,
          20518.911222940074,
          19921.87096148486,
          19921.87096148486,
          19921.87096148486,
          19352.346816856854,
          19352.346816856854,
          19352.346816856854,
          18809.070638925936,
          18809.070638925936,
          18809.070638925936,
          18290.832723481628,
          18290.832723481628,
          18290.832723481628,
          17796.479118604402,
          17796.479118604402,
          17796.479118604402,
          17324.90905517981,
          17324.90905517981,
          17324.90905517981,
          16875.072495833785,
          16875.072495833785,
          16875.072495833785,
          16445.967796831552,
          16445.967796831552,
          16445.967796831552,
          16036.63947773387,
          16036.63947773387,
          16036.63947773387,
          15646.176093844284,
          15646.176093844284,
          15646.176093844284,
          15273.708206710078,
          15273.708206710078,
          15273.708206710078
         ],
         "yaxis": "y5"
        },
        {
         "type": "histogram",
         "x": [
          28249,
          9799,
          32649,
          10499,
          10699,
          11300,
          33449,
          29549,
          36849,
          11699,
          14399,
          11799,
          36849,
          23149,
          23249,
          23349,
          23349,
          32149,
          32049,
          27199,
          28100,
          27499,
          26049,
          26049,
          20999,
          29749,
          21999,
          30499,
          40449,
          32249,
          44499,
          41899,
          49549,
          48749,
          44599,
          44899,
          53499,
          54999,
          45399,
          55149,
          55549,
          55549,
          53749,
          57249,
          59199
         ],
         "xaxis": "x8",
         "yaxis": "y8"
        },
        {
         "fill": "tonexty",
         "name": "OPEN - Modified CO2 Emissions",
         "type": "scatter",
         "x": [
          2025,
          2025,
          2025,
          2026,
          2026,
          2026,
          2027,
          2027,
          2027,
          2028,
          2028,
          2028,
          2029,
          2029,
          2029,
          2030,
          2030,
          2030,
          2031,
          2031,
          2031,
          2032,
          2032,
          2032,
          2033,
          2033,
          2033,
          2034,
          2034,
          2034,
          2035,
          2035,
          2035,
          2036,
          2036,
          2036,
          2037,
          2037,
          2037,
          2038,
          2038,
          2038,
          2039,
          2039,
          2039,
          2040,
          2040,
          2040
         ],
         "xaxis": "x3",
         "y": [
          41905.22273655583,
          41905.22273655583,
          41905.22273655583,
          41019.79174491095,
          41019.79174491095,
          41019.79174491095,
          40175.168089356164,
          40175.168089356164,
          40175.168089356164,
          39369.47106016429,
          39369.47106016429,
          39369.47106016429,
          38600.90662489252,
          38600.90662489252,
          38600.90662489252,
          37867.76343363976,
          37867.76343363976,
          37867.76343363976,
          37168.409008411596,
          37168.409008411596,
          37168.409008411596,
          36501.286108108245,
          36501.286108108245,
          36501.286108108245,
          35864.90926104108,
          35864.90926104108,
          35864.90926104108,
          35257.86145725711,
          35257.86145725711,
          35257.86145725711,
          34678.79099330598,
          34678.79099330598,
          34678.79099330598,
          34126.408462423926,
          34126.408462423926,
          34126.408462423926,
          33599.483883432775,
          33599.483883432775,
          33599.483883432775,
          33096.84396196088,
          33096.84396196088,
          33096.84396196088,
          32617.369477887692,
          32617.369477887692,
          32617.369477887692,
          32159.992793194495,
          32159.992793194495,
          32159.992793194495
         ],
         "yaxis": "y3"
        },
        {
         "fill": "tonexty",
         "name": "OPEN - Solar CO2 Emissions",
         "type": "scatter",
         "x": [
          2025,
          2025,
          2025,
          2026,
          2026,
          2026,
          2027,
          2027,
          2027,
          2028,
          2028,
          2028,
          2029,
          2029,
          2029,
          2030,
          2030,
          2030,
          2031,
          2031,
          2031,
          2032,
          2032,
          2032,
          2033,
          2033,
          2033,
          2034,
          2034,
          2034,
          2035,
          2035,
          2035,
          2036,
          2036,
          2036,
          2037,
          2037,
          2037,
          2038,
          2038,
          2038,
          2039,
          2039,
          2039,
          2040,
          2040,
          2040
         ],
         "xaxis": "x3",
         "y": [
          -16048.476847589238,
          -16048.476847589238,
          -16048.476847589238,
          -15308.842031738357,
          -15308.842031738357,
          -15308.842031738357,
          -14603.295164919284,
          -14603.295164919284,
          -14603.295164919284,
          -13930.265217423446,
          -13930.265217423446,
          -13930.265217423446,
          -13288.253564436538,
          -13288.253564436538,
          -13288.253564436538,
          -12675.830649075053,
          -12675.830649075053,
          -12675.830649075053,
          -12091.632799215306,
          -12091.632799215306,
          -12091.632799215306,
          -11534.3591910269,
          -11534.3591910269,
          -11534.3591910269,
          -11002.768952449549,
          -11002.768952449549,
          -11002.768952449549,
          -10495.67840016344,
          -10495.67840016344,
          -10495.67840016344,
          -10011.958403900926,
          -10011.958403900926,
          -10011.958403900926,
          -9550.531872230516,
          -9550.531872230516,
          -9550.531872230516,
          -9110.371354214982,
          -9110.371354214982,
          -9110.371354214982,
          -8690.496751603074,
          -8690.496751603074,
          -8690.496751603074,
          -8289.973136460732,
          -8289.973136460732,
          -8289.973136460732,
          -7907.908669382291,
          -7907.908669382291,
          -7907.908669382291
         ],
         "yaxis": "y3"
        },
        {
         "fill": "tonexty",
         "name": "OPEN - Net CO2 Emissions",
         "text": "Net Emissions",
         "type": "scatter",
         "x": [
          2025,
          2025,
          2025,
          2026,
          2026,
          2026,
          2027,
          2027,
          2027,
          2028,
          2028,
          2028,
          2029,
          2029,
          2029,
          2030,
          2030,
          2030,
          2031,
          2031,
          2031,
          2032,
          2032,
          2032,
          2033,
          2033,
          2033,
          2034,
          2034,
          2034,
          2035,
          2035,
          2035,
          2036,
          2036,
          2036,
          2037,
          2037,
          2037,
          2038,
          2038,
          2038,
          2039,
          2039,
          2039,
          2040,
          2040,
          2040
         ],
         "xaxis": "x6",
         "y": [
          25856.74588896659,
          25856.74588896659,
          25856.74588896659,
          25710.94971317259,
          25710.94971317259,
          25710.94971317259,
          25571.87292443689,
          25571.87292443689,
          25571.87292443689,
          25439.205842740845,
          25439.205842740845,
          25439.205842740845,
          25312.653060455985,
          25312.653060455985,
          25312.653060455985,
          25191.932784564702,
          25191.932784564702,
          25191.932784564702,
          25076.77620919629,
          25076.77620919629,
          25076.77620919629,
          24966.92691708134,
          24966.92691708134,
          24966.92691708134,
          24862.14030859153,
          24862.14030859153,
          24862.14030859153,
          24762.183057093673,
          24762.183057093673,
          24762.183057093673,
          24666.83258940505,
          24666.83258940505,
          24666.83258940505,
          24575.876590193417,
          24575.876590193417,
          24575.876590193417,
          24489.112529217797,
          24489.112529217797,
          24489.112529217797,
          24406.347210357817,
          24406.347210357817,
          24406.347210357817,
          24327.39634142696,
          24327.39634142696,
          24327.39634142696,
          24252.0841238122,
          24252.0841238122,
          24252.0841238122
         ],
         "yaxis": "y6"
        },
        {
         "type": "histogram",
         "x": [
          29849,
          33649,
          31149,
          11199,
          34249,
          21949,
          12200,
          26499,
          28699,
          32049,
          30499,
          26149,
          29299,
          33449,
          31999,
          45049,
          46949,
          30999,
          45149,
          48149,
          34199,
          46549,
          48949,
          35799,
          27299,
          48849,
          56249,
          47749,
          47649,
          59649,
          47949,
          30299,
          53749,
          37749,
          57349,
          41999,
          63949,
          43899,
          65249,
          65649,
          73549,
          69649,
          75849,
          74249,
          73549
         ],
         "xaxis": "x9",
         "yaxis": "y9"
        }
       ],
       "layout": {
        "annotations": [
         {
          "font": {
           "size": 16
          },
          "showarrow": false,
          "text": "GESLOTEN",
          "x": 0.14444444444444446,
          "xanchor": "center",
          "xref": "paper",
          "y": 1,
          "yanchor": "bottom",
          "yref": "paper"
         },
         {
          "font": {
           "size": 16
          },
          "showarrow": false,
          "text": "HALF_OPEN",
          "x": 0.5,
          "xanchor": "center",
          "xref": "paper",
          "y": 1,
          "yanchor": "bottom",
          "yref": "paper"
         },
         {
          "font": {
           "size": 16
          },
          "showarrow": false,
          "text": "OPEN",
          "x": 0.8555555555555556,
          "xanchor": "center",
          "xref": "paper",
          "y": 1,
          "yanchor": "bottom",
          "yref": "paper"
         }
        ],
        "height": 800,
        "showlegend": true,
        "template": {
         "data": {
          "bar": [
           {
            "error_x": {
             "color": "#2a3f5f"
            },
            "error_y": {
             "color": "#2a3f5f"
            },
            "marker": {
             "line": {
              "color": "#E5ECF6",
              "width": 0.5
             },
             "pattern": {
              "fillmode": "overlay",
              "size": 10,
              "solidity": 0.2
             }
            },
            "type": "bar"
           }
          ],
          "barpolar": [
           {
            "marker": {
             "line": {
              "color": "#E5ECF6",
              "width": 0.5
             },
             "pattern": {
              "fillmode": "overlay",
              "size": 10,
              "solidity": 0.2
             }
            },
            "type": "barpolar"
           }
          ],
          "carpet": [
           {
            "aaxis": {
             "endlinecolor": "#2a3f5f",
             "gridcolor": "white",
             "linecolor": "white",
             "minorgridcolor": "white",
             "startlinecolor": "#2a3f5f"
            },
            "baxis": {
             "endlinecolor": "#2a3f5f",
             "gridcolor": "white",
             "linecolor": "white",
             "minorgridcolor": "white",
             "startlinecolor": "#2a3f5f"
            },
            "type": "carpet"
           }
          ],
          "choropleth": [
           {
            "colorbar": {
             "outlinewidth": 0,
             "ticks": ""
            },
            "type": "choropleth"
           }
          ],
          "contour": [
           {
            "colorbar": {
             "outlinewidth": 0,
             "ticks": ""
            },
            "colorscale": [
             [
              0,
              "#0d0887"
             ],
             [
              0.1111111111111111,
              "#46039f"
             ],
             [
              0.2222222222222222,
              "#7201a8"
             ],
             [
              0.3333333333333333,
              "#9c179e"
             ],
             [
              0.4444444444444444,
              "#bd3786"
             ],
             [
              0.5555555555555556,
              "#d8576b"
             ],
             [
              0.6666666666666666,
              "#ed7953"
             ],
             [
              0.7777777777777778,
              "#fb9f3a"
             ],
             [
              0.8888888888888888,
              "#fdca26"
             ],
             [
              1,
              "#f0f921"
             ]
            ],
            "type": "contour"
           }
          ],
          "contourcarpet": [
           {
            "colorbar": {
             "outlinewidth": 0,
             "ticks": ""
            },
            "type": "contourcarpet"
           }
          ],
          "heatmap": [
           {
            "colorbar": {
             "outlinewidth": 0,
             "ticks": ""
            },
            "colorscale": [
             [
              0,
              "#0d0887"
             ],
             [
              0.1111111111111111,
              "#46039f"
             ],
             [
              0.2222222222222222,
              "#7201a8"
             ],
             [
              0.3333333333333333,
              "#9c179e"
             ],
             [
              0.4444444444444444,
              "#bd3786"
             ],
             [
              0.5555555555555556,
              "#d8576b"
             ],
             [
              0.6666666666666666,
              "#ed7953"
             ],
             [
              0.7777777777777778,
              "#fb9f3a"
             ],
             [
              0.8888888888888888,
              "#fdca26"
             ],
             [
              1,
              "#f0f921"
             ]
            ],
            "type": "heatmap"
           }
          ],
          "heatmapgl": [
           {
            "colorbar": {
             "outlinewidth": 0,
             "ticks": ""
            },
            "colorscale": [
             [
              0,
              "#0d0887"
             ],
             [
              0.1111111111111111,
              "#46039f"
             ],
             [
              0.2222222222222222,
              "#7201a8"
             ],
             [
              0.3333333333333333,
              "#9c179e"
             ],
             [
              0.4444444444444444,
              "#bd3786"
             ],
             [
              0.5555555555555556,
              "#d8576b"
             ],
             [
              0.6666666666666666,
              "#ed7953"
             ],
             [
              0.7777777777777778,
              "#fb9f3a"
             ],
             [
              0.8888888888888888,
              "#fdca26"
             ],
             [
              1,
              "#f0f921"
             ]
            ],
            "type": "heatmapgl"
           }
          ],
          "histogram": [
           {
            "marker": {
             "pattern": {
              "fillmode": "overlay",
              "size": 10,
              "solidity": 0.2
             }
            },
            "type": "histogram"
           }
          ],
          "histogram2d": [
           {
            "colorbar": {
             "outlinewidth": 0,
             "ticks": ""
            },
            "colorscale": [
             [
              0,
              "#0d0887"
             ],
             [
              0.1111111111111111,
              "#46039f"
             ],
             [
              0.2222222222222222,
              "#7201a8"
             ],
             [
              0.3333333333333333,
              "#9c179e"
             ],
             [
              0.4444444444444444,
              "#bd3786"
             ],
             [
              0.5555555555555556,
              "#d8576b"
             ],
             [
              0.6666666666666666,
              "#ed7953"
             ],
             [
              0.7777777777777778,
              "#fb9f3a"
             ],
             [
              0.8888888888888888,
              "#fdca26"
             ],
             [
              1,
              "#f0f921"
             ]
            ],
            "type": "histogram2d"
           }
          ],
          "histogram2dcontour": [
           {
            "colorbar": {
             "outlinewidth": 0,
             "ticks": ""
            },
            "colorscale": [
             [
              0,
              "#0d0887"
             ],
             [
              0.1111111111111111,
              "#46039f"
             ],
             [
              0.2222222222222222,
              "#7201a8"
             ],
             [
              0.3333333333333333,
              "#9c179e"
             ],
             [
              0.4444444444444444,
              "#bd3786"
             ],
             [
              0.5555555555555556,
              "#d8576b"
             ],
             [
              0.6666666666666666,
              "#ed7953"
             ],
             [
              0.7777777777777778,
              "#fb9f3a"
             ],
             [
              0.8888888888888888,
              "#fdca26"
             ],
             [
              1,
              "#f0f921"
             ]
            ],
            "type": "histogram2dcontour"
           }
          ],
          "mesh3d": [
           {
            "colorbar": {
             "outlinewidth": 0,
             "ticks": ""
            },
            "type": "mesh3d"
           }
          ],
          "parcoords": [
           {
            "line": {
             "colorbar": {
              "outlinewidth": 0,
              "ticks": ""
             }
            },
            "type": "parcoords"
           }
          ],
          "pie": [
           {
            "automargin": true,
            "type": "pie"
           }
          ],
          "scatter": [
           {
            "fillpattern": {
             "fillmode": "overlay",
             "size": 10,
             "solidity": 0.2
            },
            "type": "scatter"
           }
          ],
          "scatter3d": [
           {
            "line": {
             "colorbar": {
              "outlinewidth": 0,
              "ticks": ""
             }
            },
            "marker": {
             "colorbar": {
              "outlinewidth": 0,
              "ticks": ""
             }
            },
            "type": "scatter3d"
           }
          ],
          "scattercarpet": [
           {
            "marker": {
             "colorbar": {
              "outlinewidth": 0,
              "ticks": ""
             }
            },
            "type": "scattercarpet"
           }
          ],
          "scattergeo": [
           {
            "marker": {
             "colorbar": {
              "outlinewidth": 0,
              "ticks": ""
             }
            },
            "type": "scattergeo"
           }
          ],
          "scattergl": [
           {
            "marker": {
             "colorbar": {
              "outlinewidth": 0,
              "ticks": ""
             }
            },
            "type": "scattergl"
           }
          ],
          "scattermapbox": [
           {
            "marker": {
             "colorbar": {
              "outlinewidth": 0,
              "ticks": ""
             }
            },
            "type": "scattermapbox"
           }
          ],
          "scatterpolar": [
           {
            "marker": {
             "colorbar": {
              "outlinewidth": 0,
              "ticks": ""
             }
            },
            "type": "scatterpolar"
           }
          ],
          "scatterpolargl": [
           {
            "marker": {
             "colorbar": {
              "outlinewidth": 0,
              "ticks": ""
             }
            },
            "type": "scatterpolargl"
           }
          ],
          "scatterternary": [
           {
            "marker": {
             "colorbar": {
              "outlinewidth": 0,
              "ticks": ""
             }
            },
            "type": "scatterternary"
           }
          ],
          "surface": [
           {
            "colorbar": {
             "outlinewidth": 0,
             "ticks": ""
            },
            "colorscale": [
             [
              0,
              "#0d0887"
             ],
             [
              0.1111111111111111,
              "#46039f"
             ],
             [
              0.2222222222222222,
              "#7201a8"
             ],
             [
              0.3333333333333333,
              "#9c179e"
             ],
             [
              0.4444444444444444,
              "#bd3786"
             ],
             [
              0.5555555555555556,
              "#d8576b"
             ],
             [
              0.6666666666666666,
              "#ed7953"
             ],
             [
              0.7777777777777778,
              "#fb9f3a"
             ],
             [
              0.8888888888888888,
              "#fdca26"
             ],
             [
              1,
              "#f0f921"
             ]
            ],
            "type": "surface"
           }
          ],
          "table": [
           {
            "cells": {
             "fill": {
              "color": "#EBF0F8"
             },
             "line": {
              "color": "white"
             }
            },
            "header": {
             "fill": {
              "color": "#C8D4E3"
             },
             "line": {
              "color": "white"
             }
            },
            "type": "table"
           }
          ]
         },
         "layout": {
          "annotationdefaults": {
           "arrowcolor": "#2a3f5f",
           "arrowhead": 0,
           "arrowwidth": 1
          },
          "autotypenumbers": "strict",
          "coloraxis": {
           "colorbar": {
            "outlinewidth": 0,
            "ticks": ""
           }
          },
          "colorscale": {
           "diverging": [
            [
             0,
             "#8e0152"
            ],
            [
             0.1,
             "#c51b7d"
            ],
            [
             0.2,
             "#de77ae"
            ],
            [
             0.3,
             "#f1b6da"
            ],
            [
             0.4,
             "#fde0ef"
            ],
            [
             0.5,
             "#f7f7f7"
            ],
            [
             0.6,
             "#e6f5d0"
            ],
            [
             0.7,
             "#b8e186"
            ],
            [
             0.8,
             "#7fbc41"
            ],
            [
             0.9,
             "#4d9221"
            ],
            [
             1,
             "#276419"
            ]
           ],
           "sequential": [
            [
             0,
             "#0d0887"
            ],
            [
             0.1111111111111111,
             "#46039f"
            ],
            [
             0.2222222222222222,
             "#7201a8"
            ],
            [
             0.3333333333333333,
             "#9c179e"
            ],
            [
             0.4444444444444444,
             "#bd3786"
            ],
            [
             0.5555555555555556,
             "#d8576b"
            ],
            [
             0.6666666666666666,
             "#ed7953"
            ],
            [
             0.7777777777777778,
             "#fb9f3a"
            ],
            [
             0.8888888888888888,
             "#fdca26"
            ],
            [
             1,
             "#f0f921"
            ]
           ],
           "sequentialminus": [
            [
             0,
             "#0d0887"
            ],
            [
             0.1111111111111111,
             "#46039f"
            ],
            [
             0.2222222222222222,
             "#7201a8"
            ],
            [
             0.3333333333333333,
             "#9c179e"
            ],
            [
             0.4444444444444444,
             "#bd3786"
            ],
            [
             0.5555555555555556,
             "#d8576b"
            ],
            [
             0.6666666666666666,
             "#ed7953"
            ],
            [
             0.7777777777777778,
             "#fb9f3a"
            ],
            [
             0.8888888888888888,
             "#fdca26"
            ],
            [
             1,
             "#f0f921"
            ]
           ]
          },
          "colorway": [
           "#636efa",
           "#EF553B",
           "#00cc96",
           "#ab63fa",
           "#FFA15A",
           "#19d3f3",
           "#FF6692",
           "#B6E880",
           "#FF97FF",
           "#FECB52"
          ],
          "font": {
           "color": "#2a3f5f"
          },
          "geo": {
           "bgcolor": "white",
           "lakecolor": "white",
           "landcolor": "#E5ECF6",
           "showlakes": true,
           "showland": true,
           "subunitcolor": "white"
          },
          "hoverlabel": {
           "align": "left"
          },
          "hovermode": "closest",
          "mapbox": {
           "style": "light"
          },
          "paper_bgcolor": "white",
          "plot_bgcolor": "#E5ECF6",
          "polar": {
           "angularaxis": {
            "gridcolor": "white",
            "linecolor": "white",
            "ticks": ""
           },
           "bgcolor": "#E5ECF6",
           "radialaxis": {
            "gridcolor": "white",
            "linecolor": "white",
            "ticks": ""
           }
          },
          "scene": {
           "xaxis": {
            "backgroundcolor": "#E5ECF6",
            "gridcolor": "white",
            "gridwidth": 2,
            "linecolor": "white",
            "showbackground": true,
            "ticks": "",
            "zerolinecolor": "white"
           },
           "yaxis": {
            "backgroundcolor": "#E5ECF6",
            "gridcolor": "white",
            "gridwidth": 2,
            "linecolor": "white",
            "showbackground": true,
            "ticks": "",
            "zerolinecolor": "white"
           },
           "zaxis": {
            "backgroundcolor": "#E5ECF6",
            "gridcolor": "white",
            "gridwidth": 2,
            "linecolor": "white",
            "showbackground": true,
            "ticks": "",
            "zerolinecolor": "white"
           }
          },
          "shapedefaults": {
           "line": {
            "color": "#2a3f5f"
           }
          },
          "ternary": {
           "aaxis": {
            "gridcolor": "white",
            "linecolor": "white",
            "ticks": ""
           },
           "baxis": {
            "gridcolor": "white",
            "linecolor": "white",
            "ticks": ""
           },
           "bgcolor": "#E5ECF6",
           "caxis": {
            "gridcolor": "white",
            "linecolor": "white",
            "ticks": ""
           }
          },
          "title": {
           "x": 0.05
          },
          "xaxis": {
           "automargin": true,
           "gridcolor": "white",
           "linecolor": "white",
           "ticks": "",
           "title": {
            "standoff": 15
           },
           "zerolinecolor": "white",
           "zerolinewidth": 2
          },
          "yaxis": {
           "automargin": true,
           "gridcolor": "white",
           "linecolor": "white",
           "ticks": "",
           "title": {
            "standoff": 15
           },
           "zerolinecolor": "white",
           "zerolinewidth": 2
          }
         }
        },
        "title": {
         "text": "CO2 Emissions Over Years by Building Type with heat pumps and A labels"
        },
        "width": 1600,
        "xaxis": {
         "anchor": "y",
         "domain": [
          0,
          0.2888888888888889
         ],
         "title": {
          "text": "Year"
         }
        },
        "xaxis2": {
         "anchor": "y2",
         "domain": [
          0.35555555555555557,
          0.6444444444444445
         ],
         "title": {
          "text": "Year"
         }
        },
        "xaxis3": {
         "anchor": "y3",
         "domain": [
          0.7111111111111111,
          1
         ],
         "title": {
          "text": "Year"
         }
        },
        "xaxis4": {
         "anchor": "y4",
         "domain": [
          0,
          0.2888888888888889
         ]
        },
        "xaxis5": {
         "anchor": "y5",
         "domain": [
          0.35555555555555557,
          0.6444444444444445
         ]
        },
        "xaxis6": {
         "anchor": "y6",
         "domain": [
          0.7111111111111111,
          1
         ]
        },
        "xaxis7": {
         "anchor": "y7",
         "domain": [
          0,
          0.2888888888888889
         ],
         "title": {
          "text": "Investment cost [€]"
         }
        },
        "xaxis8": {
         "anchor": "y8",
         "domain": [
          0.35555555555555557,
          0.6444444444444445
         ],
         "title": {
          "text": "Investment cost [€]"
         }
        },
        "xaxis9": {
         "anchor": "y9",
         "domain": [
          0.7111111111111111,
          1
         ],
         "title": {
          "text": "Investment cost [€]"
         }
        },
        "yaxis": {
         "anchor": "x",
         "domain": [
          0.7777777777777778,
          1
         ],
         "range": [
          -45000,
          120000
         ],
         "title": {
          "text": "Gross CO2 Emissions (kg)"
         }
        },
        "yaxis2": {
         "anchor": "x2",
         "domain": [
          0.7777777777777778,
          1
         ],
         "matches": "y",
         "range": [
          -45000,
          120000
         ],
         "showticklabels": false
        },
        "yaxis3": {
         "anchor": "x3",
         "domain": [
          0.7777777777777778,
          1
         ],
         "matches": "y",
         "range": [
          -45000,
          120000
         ],
         "showticklabels": false
        },
        "yaxis4": {
         "anchor": "x4",
         "domain": [
          0.3888888888888889,
          0.6111111111111112
         ],
         "range": [
          -20000,
          100000
         ],
         "title": {
          "text": "Net CO2 Emissions (kg)"
         }
        },
        "yaxis5": {
         "anchor": "x5",
         "domain": [
          0.3888888888888889,
          0.6111111111111112
         ],
         "matches": "y4",
         "range": [
          -20000,
          100000
         ],
         "showticklabels": false
        },
        "yaxis6": {
         "anchor": "x6",
         "domain": [
          0.3888888888888889,
          0.6111111111111112
         ],
         "matches": "y4",
         "range": [
          -20000,
          100000
         ],
         "showticklabels": false
        },
        "yaxis7": {
         "anchor": "x7",
         "domain": [
          0,
          0.22222222222222224
         ],
         "range": [
          0,
          30
         ],
         "title": {
          "text": "Count"
         }
        },
        "yaxis8": {
         "anchor": "x8",
         "domain": [
          0,
          0.22222222222222224
         ],
         "matches": "y7",
         "range": [
          0,
          30
         ],
         "showticklabels": false
        },
        "yaxis9": {
         "anchor": "x9",
         "domain": [
          0,
          0.22222222222222224
         ],
         "matches": "y7",
         "range": [
          0,
          30
         ],
         "showticklabels": false
        }
       }
      },
      "text/html": [
       "<div>                            <div id=\"58c32867-c82b-43ef-a538-ea0c96a7dafc\" class=\"plotly-graph-div\" style=\"height:800px; width:1600px;\"></div>            <script type=\"text/javascript\">                require([\"plotly\"], function(Plotly) {                    window.PLOTLYENV=window.PLOTLYENV || {};                                    if (document.getElementById(\"58c32867-c82b-43ef-a538-ea0c96a7dafc\")) {                    Plotly.newPlot(                        \"58c32867-c82b-43ef-a538-ea0c96a7dafc\",                        [{\"fill\":\"tonexty\",\"name\":\"GESLOTEN - Modified CO2 Emissions\",\"x\":[2025,2025,2025,2026,2026,2026,2027,2027,2027,2028,2028,2028,2029,2029,2029,2030,2030,2030,2031,2031,2031,2032,2032,2032,2033,2033,2033,2034,2034,2034,2035,2035,2035,2036,2036,2036,2037,2037,2037,2038,2038,2038,2039,2039,2039,2040,2040,2040],\"y\":[26197.47152988897,26197.47152988897,26197.47152988897,24990.094517429447,24990.094517429447,24990.094517429447,23838.36254111597,23838.36254111597,23838.36254111597,22739.711058129073,22739.711058129073,22739.711058129073,21691.6937191186,21691.6937191186,21691.6937191186,20691.976920957535,20691.976920957535,20691.976920957535,19738.33461054586,19738.33461054586,19738.33461054586,18828.64332809452,18828.64332809452,18828.64332809452,17960.877478852002,17960.877478852002,17960.877478852002,17133.10482274561,17133.10482274561,17133.10482274561,16343.482171893924,16343.482171893924,16343.482171893924,15590.251286410434,15590.251286410434,15590.251286410434,14871.734959359414,14871.734959359414,14871.734959359414,14186.333282146588,14186.333282146588,14186.333282146588,13532.520082028725,13532.520082028725,13532.520082028725,12908.839523809691,12908.839523809691,12908.839523809691],\"type\":\"scatter\",\"xaxis\":\"x\",\"yaxis\":\"y\"},{\"fill\":\"tonexty\",\"name\":\"GESLOTEN - Solar CO2 Emissions\",\"x\":[2025,2025,2025,2026,2026,2026,2027,2027,2027,2028,2028,2028,2029,2029,2029,2030,2030,2030,2031,2031,2031,2032,2032,2032,2033,2033,2033,2034,2034,2034,2035,2035,2035,2036,2036,2036,2037,2037,2037,2038,2038,2038,2039,2039,2039,2040,2040,2040],\"y\":[-5371.019131356106,-5371.019131356106,-5371.019131356106,-5123.482073236544,-5123.482073236544,-5123.482073236544,-4887.35338914134,-4887.35338914134,-4887.35338914134,-4662.107295178301,-4662.107295178301,-4662.107295178301,-4447.242239541309,-4447.242239541309,-4447.242239541309,-4242.27978571308,-4242.27978571308,-4242.27978571308,-4046.76354713838,-4046.76354713838,-4046.76354713838,-3860.2581709955107,-3860.2581709955107,-3860.2581709955107,-3682.3483688032843,-3682.3483688032843,-3682.3483688032843,-3512.637991704928,-3512.637991704928,-3512.637991704928,-3350.749148369883,-3350.749148369883,-3350.749148369883,-3196.321363549335,-3196.321363549335,-3196.321363549335,-3049.0107754118576,-3049.0107754118576,-3049.0107754118576,-2908.4893698718756,-2908.4893698718756,-2908.4893698718756,-2774.444250206044,-2774.444250206044,-2774.444250206044,-2646.5769403312165,-2646.5769403312165,-2646.5769403312165],\"type\":\"scatter\",\"xaxis\":\"x\",\"yaxis\":\"y\"},{\"fill\":\"tonexty\",\"name\":\"GESLOTEN - Net CO2 Emissions\",\"text\":\"Net Emissions\",\"x\":[2025,2025,2025,2026,2026,2026,2027,2027,2027,2028,2028,2028,2029,2029,2029,2030,2030,2030,2031,2031,2031,2032,2032,2032,2033,2033,2033,2034,2034,2034,2035,2035,2035,2036,2036,2036,2037,2037,2037,2038,2038,2038,2039,2039,2039,2040,2040,2040],\"y\":[20826.452398532867,20826.452398532867,20826.452398532867,19866.612444192902,19866.612444192902,19866.612444192902,18951.00915197463,18951.00915197463,18951.00915197463,18077.60376295077,18077.60376295077,18077.60376295077,17244.45147957729,17244.45147957729,17244.45147957729,16449.69713524445,16449.69713524445,16449.69713524445,15691.571063407484,15691.571063407484,15691.571063407484,14968.385157099008,14968.385157099008,14968.385157099008,14278.529110048721,14278.529110048721,14278.529110048721,13620.466831040678,13620.466831040678,13620.466831040678,12992.73302352404,12992.73302352404,12992.73302352404,12393.9299228611,12393.9299228611,12393.9299228611,11822.724183947556,11822.724183947556,11822.724183947556,11277.843912274713,11277.843912274713,11277.843912274713,10758.075831822682,10758.075831822682,10758.075831822682,10262.262583478476,10262.262583478476,10262.262583478476],\"type\":\"scatter\",\"xaxis\":\"x4\",\"yaxis\":\"y4\"},{\"x\":[9299,9499,10099,10199,10299,17749,17749,10599,10599,10799,20049,12899,10999,11199,11299,11399,11599,24049,16699,14399,14399,24949,29249,26699,26099,25299,27349,27299,28549,30399,28499,28899,31699,37049,30649,32899,40149,34399,44749,34899,44649,37899,43299,43599,53749],\"type\":\"histogram\",\"xaxis\":\"x7\",\"yaxis\":\"y7\"},{\"fill\":\"tonexty\",\"name\":\"HALF_OPEN - Modified CO2 Emissions\",\"x\":[2025,2025,2025,2026,2026,2026,2027,2027,2027,2028,2028,2028,2029,2029,2029,2030,2030,2030,2031,2031,2031,2032,2032,2032,2033,2033,2033,2034,2034,2034,2035,2035,2035,2036,2036,2036,2037,2037,2037,2038,2038,2038,2039,2039,2039,2040,2040,2040],\"y\":[31184.02420834272,31184.02420834272,31184.02420834272,30095.45512742997,30095.45512742997,30095.45512742997,29057.05551738653,29057.05551738653,29057.05551738653,28066.51319072568,28066.51319072568,28066.51319072568,27121.622522993595,27121.622522993595,27121.622522993595,26220.279541541302,26220.279541541302,26220.279541541302,25360.477240643064,25360.477240643064,25360.477240643064,24540.301112529476,24540.301112529476,24540.301112529476,23757.924884384207,23757.924884384207,23757.924884384207,23011.60645181204,23011.60645181204,23011.60645181204,22299.683999723522,22299.683999723522,22299.683999723522,21620.572301998247,21620.572301998247,21620.572301998247,20972.7591916878,20972.7591916878,20972.7591916878,20354.80219389823,20354.80219389823,20354.80219389823,19765.325313854704,19765.325313854704,19765.325313854704,19203.01597299635,19203.01597299635,19203.01597299635],\"type\":\"scatter\",\"xaxis\":\"x2\",\"yaxis\":\"y2\"},{\"fill\":\"tonexty\",\"name\":\"HALF_OPEN - Solar CO2 Emissions\",\"x\":[2025,2025,2025,2026,2026,2026,2027,2027,2027,2028,2028,2028,2029,2029,2029,2030,2030,2030,2031,2031,2031,2032,2032,2032,2033,2033,2033,2034,2034,2034,2035,2035,2035,2036,2036,2036,2037,2037,2037,2038,2038,2038,2039,2039,2039,2040,2040,2040],\"y\":[-7974.220157403959,-7974.220157403959,-7974.220157403959,-7606.707968322797,-7606.707968322797,-7606.707968322797,-7256.133511892246,-7256.133511892246,-7256.133511892246,-6921.71616968422,-6921.71616968422,-6921.71616968422,-6602.711300053524,-6602.711300053524,-6602.711300053524,-6298.408580056441,-6298.408580056441,-6298.408580056441,-6008.13042378621,-6008.13042378621,-6008.13042378621,-5731.23047360354,-5731.23047360354,-5731.23047360354,-5467.092160902577,-5467.092160902577,-5467.092160902577,-5215.127333207642,-5215.127333207642,-5215.127333207642,-4974.7749445437075,-4974.7749445437075,-4974.7749445437075,-4745.49980616446,-4745.49980616446,-4745.49980616446,-4526.791394856249,-4526.791394856249,-4526.791394856249,-4318.162716164365,-4318.162716164365,-4318.162716164365,-4119.149220010419,-4119.149220010419,-4119.149220010419,-3929.307766286269,-3929.307766286269,-3929.307766286269],\"type\":\"scatter\",\"xaxis\":\"x2\",\"yaxis\":\"y2\"},{\"fill\":\"tonexty\",\"name\":\"HALF_OPEN - Net CO2 Emissions\",\"text\":\"Net Emissions\",\"x\":[2025,2025,2025,2026,2026,2026,2027,2027,2027,2028,2028,2028,2029,2029,2029,2030,2030,2030,2031,2031,2031,2032,2032,2032,2033,2033,2033,2034,2034,2034,2035,2035,2035,2036,2036,2036,2037,2037,2037,2038,2038,2038,2039,2039,2039,2040,2040,2040],\"y\":[23209.80405093876,23209.80405093876,23209.80405093876,22488.747159107174,22488.747159107174,22488.747159107174,21800.922005494285,21800.922005494285,21800.922005494285,21144.79702104146,21144.79702104146,21144.79702104146,20518.911222940074,20518.911222940074,20518.911222940074,19921.87096148486,19921.87096148486,19921.87096148486,19352.346816856854,19352.346816856854,19352.346816856854,18809.070638925936,18809.070638925936,18809.070638925936,18290.832723481628,18290.832723481628,18290.832723481628,17796.479118604402,17796.479118604402,17796.479118604402,17324.90905517981,17324.90905517981,17324.90905517981,16875.072495833785,16875.072495833785,16875.072495833785,16445.967796831552,16445.967796831552,16445.967796831552,16036.63947773387,16036.63947773387,16036.63947773387,15646.176093844284,15646.176093844284,15646.176093844284,15273.708206710078,15273.708206710078,15273.708206710078],\"type\":\"scatter\",\"xaxis\":\"x5\",\"yaxis\":\"y5\"},{\"x\":[28249,9799,32649,10499,10699,11300,33449,29549,36849,11699,14399,11799,36849,23149,23249,23349,23349,32149,32049,27199,28100,27499,26049,26049,20999,29749,21999,30499,40449,32249,44499,41899,49549,48749,44599,44899,53499,54999,45399,55149,55549,55549,53749,57249,59199],\"type\":\"histogram\",\"xaxis\":\"x8\",\"yaxis\":\"y8\"},{\"fill\":\"tonexty\",\"name\":\"OPEN - Modified CO2 Emissions\",\"x\":[2025,2025,2025,2026,2026,2026,2027,2027,2027,2028,2028,2028,2029,2029,2029,2030,2030,2030,2031,2031,2031,2032,2032,2032,2033,2033,2033,2034,2034,2034,2035,2035,2035,2036,2036,2036,2037,2037,2037,2038,2038,2038,2039,2039,2039,2040,2040,2040],\"y\":[41905.22273655583,41905.22273655583,41905.22273655583,41019.79174491095,41019.79174491095,41019.79174491095,40175.168089356164,40175.168089356164,40175.168089356164,39369.47106016429,39369.47106016429,39369.47106016429,38600.90662489252,38600.90662489252,38600.90662489252,37867.76343363976,37867.76343363976,37867.76343363976,37168.409008411596,37168.409008411596,37168.409008411596,36501.286108108245,36501.286108108245,36501.286108108245,35864.90926104108,35864.90926104108,35864.90926104108,35257.86145725711,35257.86145725711,35257.86145725711,34678.79099330598,34678.79099330598,34678.79099330598,34126.408462423926,34126.408462423926,34126.408462423926,33599.483883432775,33599.483883432775,33599.483883432775,33096.84396196088,33096.84396196088,33096.84396196088,32617.369477887692,32617.369477887692,32617.369477887692,32159.992793194495,32159.992793194495,32159.992793194495],\"type\":\"scatter\",\"xaxis\":\"x3\",\"yaxis\":\"y3\"},{\"fill\":\"tonexty\",\"name\":\"OPEN - Solar CO2 Emissions\",\"x\":[2025,2025,2025,2026,2026,2026,2027,2027,2027,2028,2028,2028,2029,2029,2029,2030,2030,2030,2031,2031,2031,2032,2032,2032,2033,2033,2033,2034,2034,2034,2035,2035,2035,2036,2036,2036,2037,2037,2037,2038,2038,2038,2039,2039,2039,2040,2040,2040],\"y\":[-16048.476847589238,-16048.476847589238,-16048.476847589238,-15308.842031738357,-15308.842031738357,-15308.842031738357,-14603.295164919284,-14603.295164919284,-14603.295164919284,-13930.265217423446,-13930.265217423446,-13930.265217423446,-13288.253564436538,-13288.253564436538,-13288.253564436538,-12675.830649075053,-12675.830649075053,-12675.830649075053,-12091.632799215306,-12091.632799215306,-12091.632799215306,-11534.3591910269,-11534.3591910269,-11534.3591910269,-11002.768952449549,-11002.768952449549,-11002.768952449549,-10495.67840016344,-10495.67840016344,-10495.67840016344,-10011.958403900926,-10011.958403900926,-10011.958403900926,-9550.531872230516,-9550.531872230516,-9550.531872230516,-9110.371354214982,-9110.371354214982,-9110.371354214982,-8690.496751603074,-8690.496751603074,-8690.496751603074,-8289.973136460732,-8289.973136460732,-8289.973136460732,-7907.908669382291,-7907.908669382291,-7907.908669382291],\"type\":\"scatter\",\"xaxis\":\"x3\",\"yaxis\":\"y3\"},{\"fill\":\"tonexty\",\"name\":\"OPEN - Net CO2 Emissions\",\"text\":\"Net Emissions\",\"x\":[2025,2025,2025,2026,2026,2026,2027,2027,2027,2028,2028,2028,2029,2029,2029,2030,2030,2030,2031,2031,2031,2032,2032,2032,2033,2033,2033,2034,2034,2034,2035,2035,2035,2036,2036,2036,2037,2037,2037,2038,2038,2038,2039,2039,2039,2040,2040,2040],\"y\":[25856.74588896659,25856.74588896659,25856.74588896659,25710.94971317259,25710.94971317259,25710.94971317259,25571.87292443689,25571.87292443689,25571.87292443689,25439.205842740845,25439.205842740845,25439.205842740845,25312.653060455985,25312.653060455985,25312.653060455985,25191.932784564702,25191.932784564702,25191.932784564702,25076.77620919629,25076.77620919629,25076.77620919629,24966.92691708134,24966.92691708134,24966.92691708134,24862.14030859153,24862.14030859153,24862.14030859153,24762.183057093673,24762.183057093673,24762.183057093673,24666.83258940505,24666.83258940505,24666.83258940505,24575.876590193417,24575.876590193417,24575.876590193417,24489.112529217797,24489.112529217797,24489.112529217797,24406.347210357817,24406.347210357817,24406.347210357817,24327.39634142696,24327.39634142696,24327.39634142696,24252.0841238122,24252.0841238122,24252.0841238122],\"type\":\"scatter\",\"xaxis\":\"x6\",\"yaxis\":\"y6\"},{\"x\":[29849,33649,31149,11199,34249,21949,12200,26499,28699,32049,30499,26149,29299,33449,31999,45049,46949,30999,45149,48149,34199,46549,48949,35799,27299,48849,56249,47749,47649,59649,47949,30299,53749,37749,57349,41999,63949,43899,65249,65649,73549,69649,75849,74249,73549],\"type\":\"histogram\",\"xaxis\":\"x9\",\"yaxis\":\"y9\"}],                        {\"template\":{\"data\":{\"histogram2dcontour\":[{\"type\":\"histogram2dcontour\",\"colorbar\":{\"outlinewidth\":0,\"ticks\":\"\"},\"colorscale\":[[0.0,\"#0d0887\"],[0.1111111111111111,\"#46039f\"],[0.2222222222222222,\"#7201a8\"],[0.3333333333333333,\"#9c179e\"],[0.4444444444444444,\"#bd3786\"],[0.5555555555555556,\"#d8576b\"],[0.6666666666666666,\"#ed7953\"],[0.7777777777777778,\"#fb9f3a\"],[0.8888888888888888,\"#fdca26\"],[1.0,\"#f0f921\"]]}],\"choropleth\":[{\"type\":\"choropleth\",\"colorbar\":{\"outlinewidth\":0,\"ticks\":\"\"}}],\"histogram2d\":[{\"type\":\"histogram2d\",\"colorbar\":{\"outlinewidth\":0,\"ticks\":\"\"},\"colorscale\":[[0.0,\"#0d0887\"],[0.1111111111111111,\"#46039f\"],[0.2222222222222222,\"#7201a8\"],[0.3333333333333333,\"#9c179e\"],[0.4444444444444444,\"#bd3786\"],[0.5555555555555556,\"#d8576b\"],[0.6666666666666666,\"#ed7953\"],[0.7777777777777778,\"#fb9f3a\"],[0.8888888888888888,\"#fdca26\"],[1.0,\"#f0f921\"]]}],\"heatmap\":[{\"type\":\"heatmap\",\"colorbar\":{\"outlinewidth\":0,\"ticks\":\"\"},\"colorscale\":[[0.0,\"#0d0887\"],[0.1111111111111111,\"#46039f\"],[0.2222222222222222,\"#7201a8\"],[0.3333333333333333,\"#9c179e\"],[0.4444444444444444,\"#bd3786\"],[0.5555555555555556,\"#d8576b\"],[0.6666666666666666,\"#ed7953\"],[0.7777777777777778,\"#fb9f3a\"],[0.8888888888888888,\"#fdca26\"],[1.0,\"#f0f921\"]]}],\"heatmapgl\":[{\"type\":\"heatmapgl\",\"colorbar\":{\"outlinewidth\":0,\"ticks\":\"\"},\"colorscale\":[[0.0,\"#0d0887\"],[0.1111111111111111,\"#46039f\"],[0.2222222222222222,\"#7201a8\"],[0.3333333333333333,\"#9c179e\"],[0.4444444444444444,\"#bd3786\"],[0.5555555555555556,\"#d8576b\"],[0.6666666666666666,\"#ed7953\"],[0.7777777777777778,\"#fb9f3a\"],[0.8888888888888888,\"#fdca26\"],[1.0,\"#f0f921\"]]}],\"contourcarpet\":[{\"type\":\"contourcarpet\",\"colorbar\":{\"outlinewidth\":0,\"ticks\":\"\"}}],\"contour\":[{\"type\":\"contour\",\"colorbar\":{\"outlinewidth\":0,\"ticks\":\"\"},\"colorscale\":[[0.0,\"#0d0887\"],[0.1111111111111111,\"#46039f\"],[0.2222222222222222,\"#7201a8\"],[0.3333333333333333,\"#9c179e\"],[0.4444444444444444,\"#bd3786\"],[0.5555555555555556,\"#d8576b\"],[0.6666666666666666,\"#ed7953\"],[0.7777777777777778,\"#fb9f3a\"],[0.8888888888888888,\"#fdca26\"],[1.0,\"#f0f921\"]]}],\"surface\":[{\"type\":\"surface\",\"colorbar\":{\"outlinewidth\":0,\"ticks\":\"\"},\"colorscale\":[[0.0,\"#0d0887\"],[0.1111111111111111,\"#46039f\"],[0.2222222222222222,\"#7201a8\"],[0.3333333333333333,\"#9c179e\"],[0.4444444444444444,\"#bd3786\"],[0.5555555555555556,\"#d8576b\"],[0.6666666666666666,\"#ed7953\"],[0.7777777777777778,\"#fb9f3a\"],[0.8888888888888888,\"#fdca26\"],[1.0,\"#f0f921\"]]}],\"mesh3d\":[{\"type\":\"mesh3d\",\"colorbar\":{\"outlinewidth\":0,\"ticks\":\"\"}}],\"scatter\":[{\"fillpattern\":{\"fillmode\":\"overlay\",\"size\":10,\"solidity\":0.2},\"type\":\"scatter\"}],\"parcoords\":[{\"type\":\"parcoords\",\"line\":{\"colorbar\":{\"outlinewidth\":0,\"ticks\":\"\"}}}],\"scatterpolargl\":[{\"type\":\"scatterpolargl\",\"marker\":{\"colorbar\":{\"outlinewidth\":0,\"ticks\":\"\"}}}],\"bar\":[{\"error_x\":{\"color\":\"#2a3f5f\"},\"error_y\":{\"color\":\"#2a3f5f\"},\"marker\":{\"line\":{\"color\":\"#E5ECF6\",\"width\":0.5},\"pattern\":{\"fillmode\":\"overlay\",\"size\":10,\"solidity\":0.2}},\"type\":\"bar\"}],\"scattergeo\":[{\"type\":\"scattergeo\",\"marker\":{\"colorbar\":{\"outlinewidth\":0,\"ticks\":\"\"}}}],\"scatterpolar\":[{\"type\":\"scatterpolar\",\"marker\":{\"colorbar\":{\"outlinewidth\":0,\"ticks\":\"\"}}}],\"histogram\":[{\"marker\":{\"pattern\":{\"fillmode\":\"overlay\",\"size\":10,\"solidity\":0.2}},\"type\":\"histogram\"}],\"scattergl\":[{\"type\":\"scattergl\",\"marker\":{\"colorbar\":{\"outlinewidth\":0,\"ticks\":\"\"}}}],\"scatter3d\":[{\"type\":\"scatter3d\",\"line\":{\"colorbar\":{\"outlinewidth\":0,\"ticks\":\"\"}},\"marker\":{\"colorbar\":{\"outlinewidth\":0,\"ticks\":\"\"}}}],\"scattermapbox\":[{\"type\":\"scattermapbox\",\"marker\":{\"colorbar\":{\"outlinewidth\":0,\"ticks\":\"\"}}}],\"scatterternary\":[{\"type\":\"scatterternary\",\"marker\":{\"colorbar\":{\"outlinewidth\":0,\"ticks\":\"\"}}}],\"scattercarpet\":[{\"type\":\"scattercarpet\",\"marker\":{\"colorbar\":{\"outlinewidth\":0,\"ticks\":\"\"}}}],\"carpet\":[{\"aaxis\":{\"endlinecolor\":\"#2a3f5f\",\"gridcolor\":\"white\",\"linecolor\":\"white\",\"minorgridcolor\":\"white\",\"startlinecolor\":\"#2a3f5f\"},\"baxis\":{\"endlinecolor\":\"#2a3f5f\",\"gridcolor\":\"white\",\"linecolor\":\"white\",\"minorgridcolor\":\"white\",\"startlinecolor\":\"#2a3f5f\"},\"type\":\"carpet\"}],\"table\":[{\"cells\":{\"fill\":{\"color\":\"#EBF0F8\"},\"line\":{\"color\":\"white\"}},\"header\":{\"fill\":{\"color\":\"#C8D4E3\"},\"line\":{\"color\":\"white\"}},\"type\":\"table\"}],\"barpolar\":[{\"marker\":{\"line\":{\"color\":\"#E5ECF6\",\"width\":0.5},\"pattern\":{\"fillmode\":\"overlay\",\"size\":10,\"solidity\":0.2}},\"type\":\"barpolar\"}],\"pie\":[{\"automargin\":true,\"type\":\"pie\"}]},\"layout\":{\"autotypenumbers\":\"strict\",\"colorway\":[\"#636efa\",\"#EF553B\",\"#00cc96\",\"#ab63fa\",\"#FFA15A\",\"#19d3f3\",\"#FF6692\",\"#B6E880\",\"#FF97FF\",\"#FECB52\"],\"font\":{\"color\":\"#2a3f5f\"},\"hovermode\":\"closest\",\"hoverlabel\":{\"align\":\"left\"},\"paper_bgcolor\":\"white\",\"plot_bgcolor\":\"#E5ECF6\",\"polar\":{\"bgcolor\":\"#E5ECF6\",\"angularaxis\":{\"gridcolor\":\"white\",\"linecolor\":\"white\",\"ticks\":\"\"},\"radialaxis\":{\"gridcolor\":\"white\",\"linecolor\":\"white\",\"ticks\":\"\"}},\"ternary\":{\"bgcolor\":\"#E5ECF6\",\"aaxis\":{\"gridcolor\":\"white\",\"linecolor\":\"white\",\"ticks\":\"\"},\"baxis\":{\"gridcolor\":\"white\",\"linecolor\":\"white\",\"ticks\":\"\"},\"caxis\":{\"gridcolor\":\"white\",\"linecolor\":\"white\",\"ticks\":\"\"}},\"coloraxis\":{\"colorbar\":{\"outlinewidth\":0,\"ticks\":\"\"}},\"colorscale\":{\"sequential\":[[0.0,\"#0d0887\"],[0.1111111111111111,\"#46039f\"],[0.2222222222222222,\"#7201a8\"],[0.3333333333333333,\"#9c179e\"],[0.4444444444444444,\"#bd3786\"],[0.5555555555555556,\"#d8576b\"],[0.6666666666666666,\"#ed7953\"],[0.7777777777777778,\"#fb9f3a\"],[0.8888888888888888,\"#fdca26\"],[1.0,\"#f0f921\"]],\"sequentialminus\":[[0.0,\"#0d0887\"],[0.1111111111111111,\"#46039f\"],[0.2222222222222222,\"#7201a8\"],[0.3333333333333333,\"#9c179e\"],[0.4444444444444444,\"#bd3786\"],[0.5555555555555556,\"#d8576b\"],[0.6666666666666666,\"#ed7953\"],[0.7777777777777778,\"#fb9f3a\"],[0.8888888888888888,\"#fdca26\"],[1.0,\"#f0f921\"]],\"diverging\":[[0,\"#8e0152\"],[0.1,\"#c51b7d\"],[0.2,\"#de77ae\"],[0.3,\"#f1b6da\"],[0.4,\"#fde0ef\"],[0.5,\"#f7f7f7\"],[0.6,\"#e6f5d0\"],[0.7,\"#b8e186\"],[0.8,\"#7fbc41\"],[0.9,\"#4d9221\"],[1,\"#276419\"]]},\"xaxis\":{\"gridcolor\":\"white\",\"linecolor\":\"white\",\"ticks\":\"\",\"title\":{\"standoff\":15},\"zerolinecolor\":\"white\",\"automargin\":true,\"zerolinewidth\":2},\"yaxis\":{\"gridcolor\":\"white\",\"linecolor\":\"white\",\"ticks\":\"\",\"title\":{\"standoff\":15},\"zerolinecolor\":\"white\",\"automargin\":true,\"zerolinewidth\":2},\"scene\":{\"xaxis\":{\"backgroundcolor\":\"#E5ECF6\",\"gridcolor\":\"white\",\"linecolor\":\"white\",\"showbackground\":true,\"ticks\":\"\",\"zerolinecolor\":\"white\",\"gridwidth\":2},\"yaxis\":{\"backgroundcolor\":\"#E5ECF6\",\"gridcolor\":\"white\",\"linecolor\":\"white\",\"showbackground\":true,\"ticks\":\"\",\"zerolinecolor\":\"white\",\"gridwidth\":2},\"zaxis\":{\"backgroundcolor\":\"#E5ECF6\",\"gridcolor\":\"white\",\"linecolor\":\"white\",\"showbackground\":true,\"ticks\":\"\",\"zerolinecolor\":\"white\",\"gridwidth\":2}},\"shapedefaults\":{\"line\":{\"color\":\"#2a3f5f\"}},\"annotationdefaults\":{\"arrowcolor\":\"#2a3f5f\",\"arrowhead\":0,\"arrowwidth\":1},\"geo\":{\"bgcolor\":\"white\",\"landcolor\":\"#E5ECF6\",\"subunitcolor\":\"white\",\"showland\":true,\"showlakes\":true,\"lakecolor\":\"white\"},\"title\":{\"x\":0.05},\"mapbox\":{\"style\":\"light\"}}},\"xaxis\":{\"anchor\":\"y\",\"domain\":[0.0,0.2888888888888889],\"title\":{\"text\":\"Year\"}},\"yaxis\":{\"anchor\":\"x\",\"domain\":[0.7777777777777778,1.0],\"title\":{\"text\":\"Gross CO2 Emissions (kg)\"},\"range\":[-45000,120000]},\"xaxis2\":{\"anchor\":\"y2\",\"domain\":[0.35555555555555557,0.6444444444444445],\"title\":{\"text\":\"Year\"}},\"yaxis2\":{\"anchor\":\"x2\",\"domain\":[0.7777777777777778,1.0],\"matches\":\"y\",\"showticklabels\":false,\"range\":[-45000,120000]},\"xaxis3\":{\"anchor\":\"y3\",\"domain\":[0.7111111111111111,1.0],\"title\":{\"text\":\"Year\"}},\"yaxis3\":{\"anchor\":\"x3\",\"domain\":[0.7777777777777778,1.0],\"matches\":\"y\",\"showticklabels\":false,\"range\":[-45000,120000]},\"xaxis4\":{\"anchor\":\"y4\",\"domain\":[0.0,0.2888888888888889]},\"yaxis4\":{\"anchor\":\"x4\",\"domain\":[0.3888888888888889,0.6111111111111112],\"title\":{\"text\":\"Net CO2 Emissions (kg)\"},\"range\":[-20000,100000]},\"xaxis5\":{\"anchor\":\"y5\",\"domain\":[0.35555555555555557,0.6444444444444445]},\"yaxis5\":{\"anchor\":\"x5\",\"domain\":[0.3888888888888889,0.6111111111111112],\"matches\":\"y4\",\"showticklabels\":false,\"range\":[-20000,100000]},\"xaxis6\":{\"anchor\":\"y6\",\"domain\":[0.7111111111111111,1.0]},\"yaxis6\":{\"anchor\":\"x6\",\"domain\":[0.3888888888888889,0.6111111111111112],\"matches\":\"y4\",\"showticklabels\":false,\"range\":[-20000,100000]},\"xaxis7\":{\"anchor\":\"y7\",\"domain\":[0.0,0.2888888888888889],\"title\":{\"text\":\"Investment cost [\\u20ac]\"}},\"yaxis7\":{\"anchor\":\"x7\",\"domain\":[0.0,0.22222222222222224],\"title\":{\"text\":\"Count\"},\"range\":[0,30]},\"xaxis8\":{\"anchor\":\"y8\",\"domain\":[0.35555555555555557,0.6444444444444445],\"title\":{\"text\":\"Investment cost [\\u20ac]\"}},\"yaxis8\":{\"anchor\":\"x8\",\"domain\":[0.0,0.22222222222222224],\"matches\":\"y7\",\"showticklabels\":false,\"range\":[0,30]},\"xaxis9\":{\"anchor\":\"y9\",\"domain\":[0.7111111111111111,1.0],\"title\":{\"text\":\"Investment cost [\\u20ac]\"}},\"yaxis9\":{\"anchor\":\"x9\",\"domain\":[0.0,0.22222222222222224],\"matches\":\"y7\",\"showticklabels\":false,\"range\":[0,30]},\"annotations\":[{\"font\":{\"size\":16},\"showarrow\":false,\"text\":\"GESLOTEN\",\"x\":0.14444444444444446,\"xanchor\":\"center\",\"xref\":\"paper\",\"y\":1.0,\"yanchor\":\"bottom\",\"yref\":\"paper\"},{\"font\":{\"size\":16},\"showarrow\":false,\"text\":\"HALF_OPEN\",\"x\":0.5,\"xanchor\":\"center\",\"xref\":\"paper\",\"y\":1.0,\"yanchor\":\"bottom\",\"yref\":\"paper\"},{\"font\":{\"size\":16},\"showarrow\":false,\"text\":\"OPEN\",\"x\":0.8555555555555556,\"xanchor\":\"center\",\"xref\":\"paper\",\"y\":1.0,\"yanchor\":\"bottom\",\"yref\":\"paper\"}],\"title\":{\"text\":\"CO2 Emissions Over Years by Building Type with heat pumps and A labels\"},\"showlegend\":true,\"height\":800,\"width\":1600},                        {\"responsive\": true}                    ).then(function(){\n",
       "                            \n",
       "var gd = document.getElementById('58c32867-c82b-43ef-a538-ea0c96a7dafc');\n",
       "var x = new MutationObserver(function (mutations, observer) {{\n",
       "        var display = window.getComputedStyle(gd).display;\n",
       "        if (!display || display === 'none') {{\n",
       "            console.log([gd, 'removed!']);\n",
       "            Plotly.purge(gd);\n",
       "            observer.disconnect();\n",
       "        }}\n",
       "}});\n",
       "\n",
       "// Listen for the removal of the full notebook cells\n",
       "var notebookContainer = gd.closest('#notebook-container');\n",
       "if (notebookContainer) {{\n",
       "    x.observe(notebookContainer, {childList: true});\n",
       "}}\n",
       "\n",
       "// Listen for the clearing of the current output cell\n",
       "var outputEl = gd.closest('.output');\n",
       "if (outputEl) {{\n",
       "    x.observe(outputEl, {childList: true});\n",
       "}}\n",
       "\n",
       "                        })                };                });            </script>        </div>"
      ]
     },
     "metadata": {},
     "output_type": "display_data"
    }
   ],
   "source": [
    "import pandas as pd\n",
    "import plotly.graph_objects as go\n",
    "from plotly.subplots import make_subplots\n",
    "\n",
    "\n",
    "# Filter the DataFrame\n",
    "testcase2 = df[(df['epc_ind'] <= 100) & (df['heating_system'] == 'Heat Pump')& (df['dhw_system'] == 'HP Boiler')].sort_values(by='tco', ascending=True).drop_duplicates(subset=['name'], keep='first')\n",
    "\n",
    "# Extract the years from the columns\n",
    "years = sorted([int(col.split('_')[-1]) for col in testcase2.columns if 'emissions_' in col])\n",
    "\n",
    "# Initialize lists to store the data\n",
    "data = []\n",
    "\n",
    "# Collect data for each year and each building type\n",
    "for year in years:\n",
    "    for building_type, group in testcase2.groupby('building_type'):\n",
    "        modified_emissions = group[f'modified_emissions_{year}'].sum()\n",
    "        solar_emissions = group[f'solar_injection_emissions_{year}'].sum() * -1  # Make solar emissions negative\n",
    "        net_emissions = group[f'emissions_{year}'].sum()\n",
    "        data.append([year, building_type, 'Modified CO2 Emissions', modified_emissions])\n",
    "        data.append([year, building_type, 'Solar CO2 Emissions', solar_emissions])\n",
    "        data.append([year, building_type, 'Net Emissions', net_emissions])\n",
    "\n",
    "# Create a DataFrame from the collected data\n",
    "emissions_df = pd.DataFrame(data, columns=['Year', 'Building Type', 'Emissions Type', 'Emissions'])\n",
    "\n",
    "# Get unique building types\n",
    "building_types = emissions_df['Building Type'].unique()\n",
    "\n",
    "# Create subplots\n",
    "fig = make_subplots(rows=3, cols=len(building_types), shared_yaxes=True, subplot_titles=building_types)\n",
    "\n",
    "# Add traces for each building type\n",
    "for i, building_type in enumerate(building_types, start=1):\n",
    "    subset = emissions_df[emissions_df['Building Type'] == building_type]\n",
    "\n",
    "    fig.add_trace(go.Scatter(\n",
    "        x=subset[subset['Emissions Type'] == 'Modified CO2 Emissions']['Year'],\n",
    "        y=subset[subset['Emissions Type'] == 'Modified CO2 Emissions']['Emissions'],\n",
    "        fill='tonexty',\n",
    "        name=f'{building_type} - Modified CO2 Emissions'\n",
    "    ), row=1, col=i)\n",
    "    fig.add_trace(go.Scatter(\n",
    "        x=subset[subset['Emissions Type'] == 'Solar CO2 Emissions']['Year'],\n",
    "        y=subset[subset['Emissions Type'] == 'Solar CO2 Emissions']['Emissions'],\n",
    "        fill='tonexty',\n",
    "        name=f'{building_type} - Solar CO2 Emissions'\n",
    "    ), row=1, col=i)\n",
    "    fig.add_trace(go.Scatter(\n",
    "        x=subset[subset['Emissions Type'] == 'Solar CO2 Emissions']['Year'],\n",
    "        y=subset[subset['Emissions Type'] == 'Net Emissions']['Emissions'],\n",
    "        fill='tonexty',\n",
    "        text = 'Net Emissions',\n",
    "        name=f'{building_type} - Net CO2 Emissions'\n",
    "    ), row=2, col=i)\n",
    "    fig.add_trace(go.Histogram(x = testcase2[testcase2.building_type == building_type].total_investment_cost), row = 3, col = i)\n",
    "\n",
    "\n",
    "# Update layout\n",
    "fig.update_layout(\n",
    "    title='CO2 Emissions Over Years by Building Type with heat pumps and A labels',\n",
    "    xaxis_title='Year',\n",
    "    yaxis_title='CO2 Emissions (kg)',\n",
    "    showlegend=True,\n",
    "    height = 800, width = 1600\n",
    ")\n",
    "\n",
    "# Update x-axes titles for each subplot\n",
    "for i in range(1, len(building_types) + 1):\n",
    "    fig.update_xaxes(title_text='Year', row=1, col=i)\n",
    "\n",
    "# Update y-axis title only for the first subplot\n",
    "fig.update_yaxes(title_text='Gross CO2 Emissions (kg)', row=1, col=1)\n",
    "fig.update_yaxes(title_text='Net CO2 Emissions (kg)', row=2, col=1)\n",
    "fig.update_yaxes(title_text='Count', row=3, col=1)\n",
    "fig.update_yaxes(range = [-45000, 120000], row = 1)\n",
    "fig.update_yaxes(range = [-20000, 100000], row = 2)\n",
    "fig.update_yaxes(range = [0, 30], row = 3)\n",
    "for i in range(len(building_types)+ 1):\n",
    "    fig.update_xaxes(title_text='Investment cost [€]', row=3, col=i)\n",
    "# Show the plot\n",
    "fig.show()"
   ]
  },
  {
   "cell_type": "code",
   "execution_count": 92,
   "metadata": {},
   "outputs": [
    {
     "data": {
      "application/vnd.plotly.v1+json": {
       "config": {
        "plotlyServerURL": "https://plot.ly"
       },
       "data": [
        {
         "fill": "tonexty",
         "name": "GESLOTEN - Modified CO2 Emissions",
         "type": "scatter",
         "x": [
          2025,
          2025,
          2025,
          2026,
          2026,
          2026,
          2027,
          2027,
          2027,
          2028,
          2028,
          2028,
          2029,
          2029,
          2029,
          2030,
          2030,
          2030,
          2031,
          2031,
          2031,
          2032,
          2032,
          2032,
          2033,
          2033,
          2033,
          2034,
          2034,
          2034,
          2035,
          2035,
          2035,
          2036,
          2036,
          2036,
          2037,
          2037,
          2037,
          2038,
          2038,
          2038,
          2039,
          2039,
          2039,
          2040,
          2040,
          2040
         ],
         "xaxis": "x",
         "y": [
          20807.458120156665,
          20807.458120156665,
          20807.458120156665,
          19848.49356537782,
          19848.49356537782,
          19848.49356537782,
          18933.725327708526,
          18933.725327708526,
          18933.725327708526,
          18061.116507623865,
          18061.116507623865,
          18061.116507623865,
          17228.72408128688,
          17228.72408128688,
          17228.72408128688,
          16434.6945740491,
          16434.6945740491,
          16434.6945740491,
          15677.259933348707,
          15677.259933348707,
          15677.259933348707,
          14954.733591816761,
          14954.733591816761,
          14954.733591816761,
          14265.5067118251,
          14265.5067118251,
          14265.5067118251,
          13608.044603113813,
          13608.044603113813,
          13608.044603113813,
          12980.883305521476,
          12980.883305521476,
          12980.883305521476,
          12382.626329208899,
          12382.626329208899,
          12382.626329208899,
          11811.941545117972,
          11811.941545117972,
          11811.941545117972,
          11267.558218741606,
          11267.558218741606,
          11267.558218741606,
          10748.26418059992,
          10748.26418059992,
          10748.26418059992,
          10252.903127122194,
          10252.903127122194,
          10252.903127122194
         ],
         "yaxis": "y"
        },
        {
         "fill": "tonexty",
         "name": "GESLOTEN - Solar CO2 Emissions",
         "type": "scatter",
         "x": [
          2025,
          2025,
          2025,
          2026,
          2026,
          2026,
          2027,
          2027,
          2027,
          2028,
          2028,
          2028,
          2029,
          2029,
          2029,
          2030,
          2030,
          2030,
          2031,
          2031,
          2031,
          2032,
          2032,
          2032,
          2033,
          2033,
          2033,
          2034,
          2034,
          2034,
          2035,
          2035,
          2035,
          2036,
          2036,
          2036,
          2037,
          2037,
          2037,
          2038,
          2038,
          2038,
          2039,
          2039,
          2039,
          2040,
          2040,
          2040
         ],
         "xaxis": "x",
         "y": [
          -23799.830805379108,
          -23799.830805379108,
          -23799.830805379108,
          -22702.95515529752,
          -22702.95515529752,
          -22702.95515529752,
          -21656.631805422632,
          -21656.631805422632,
          -21656.631805422632,
          -20658.53092460538,
          -20658.53092460538,
          -20658.53092460538,
          -19706.430057882593,
          -19706.430057882593,
          -19706.430057882593,
          -18798.209177772722,
          -18798.209177772722,
          -18798.209177772722,
          -17931.845963645217,
          -17931.845963645217,
          -17931.845963645217,
          -17105.41129865211,
          -17105.41129865211,
          -17105.41129865211,
          -16317.064974194991,
          -16317.064974194991,
          -16317.064974194991,
          -15565.051592362528,
          -15565.051592362528,
          -15565.051592362528,
          -14847.696657214532,
          -14847.696657214532,
          -14847.696657214532,
          -14163.402846209141,
          -14163.402846209141,
          -14163.402846209141,
          -13510.646453470757,
          -13510.646453470757,
          -13510.646453470757,
          -12887.973996979019,
          -12887.973996979019,
          -12887.973996979019,
          -12293.998982124047,
          -12293.998982124047,
          -12293.998982124047,
          -11727.398814421513,
          -11727.398814421513,
          -11727.398814421513
         ],
         "yaxis": "y"
        },
        {
         "fill": "tonexty",
         "name": "HALF_OPEN - Modified CO2 Emissions",
         "type": "scatter",
         "x": [
          2025,
          2025,
          2025,
          2026,
          2026,
          2026,
          2027,
          2027,
          2027,
          2028,
          2028,
          2028,
          2029,
          2029,
          2029,
          2030,
          2030,
          2030,
          2031,
          2031,
          2031,
          2032,
          2032,
          2032,
          2033,
          2033,
          2033,
          2034,
          2034,
          2034,
          2035,
          2035,
          2035,
          2036,
          2036,
          2036,
          2037,
          2037,
          2037,
          2038,
          2038,
          2038,
          2039,
          2039,
          2039,
          2040,
          2040,
          2040
         ],
         "xaxis": "x2",
         "y": [
          21471.413673173625,
          21471.413673173625,
          21471.413673173625,
          20481.849040402794,
          20481.849040402794,
          20481.849040402794,
          19537.891007054623,
          19537.891007054623,
          19537.891007054623,
          18637.437677161943,
          18637.437677161943,
          18637.437677161943,
          17778.484025971626,
          17778.484025971626,
          17778.484025971626,
          16959.117435388758,
          16959.117435388758,
          16959.117435388758,
          16177.513435181005,
          16177.513435181005,
          16177.513435181005,
          15431.931640460549,
          15431.931640460549,
          15431.931640460549,
          14720.711876397394,
          14720.711876397394,
          14720.711876397394,
          14042.270481535134,
          14042.270481535134,
          14042.270481535134,
          13395.09678147782,
          13395.09678147782,
          13395.09678147782,
          12777.749725095868,
          12777.749725095868,
          12777.749725095868,
          12188.85467576104,
          12188.85467576104,
          12188.85467576104,
          11627.100350465435,
          11627.100350465435,
          11627.100350465435,
          11091.235900008998,
          11091.235900008998,
          11091.235900008998,
          10580.068123754008,
          10580.068123754008,
          10580.068123754008
         ],
         "yaxis": "y2"
        },
        {
         "fill": "tonexty",
         "name": "HALF_OPEN - Solar CO2 Emissions",
         "type": "scatter",
         "x": [
          2025,
          2025,
          2025,
          2026,
          2026,
          2026,
          2027,
          2027,
          2027,
          2028,
          2028,
          2028,
          2029,
          2029,
          2029,
          2030,
          2030,
          2030,
          2031,
          2031,
          2031,
          2032,
          2032,
          2032,
          2033,
          2033,
          2033,
          2034,
          2034,
          2034,
          2035,
          2035,
          2035,
          2036,
          2036,
          2036,
          2037,
          2037,
          2037,
          2038,
          2038,
          2038,
          2039,
          2039,
          2039,
          2040,
          2040,
          2040
         ],
         "xaxis": "x2",
         "y": [
          -29035.779512726684,
          -29035.779512726684,
          -29035.779512726684,
          -27697.591868071264,
          -27697.591868071264,
          -27697.591868071264,
          -26421.07799978281,
          -26421.07799978281,
          -26421.07799978281,
          -25203.395515236836,
          -25203.395515236836,
          -25203.395515236836,
          -24041.833020692095,
          -24041.833020692095,
          -24041.833020692095,
          -22933.80408387444,
          -22933.80408387444,
          -22933.80408387444,
          -21876.84147481009,
          -21876.84147481009,
          -21876.84147481009,
          -20868.591672085,
          -20868.591672085,
          -20868.591672085,
          -19906.80962229698,
          -19906.80962229698,
          -19906.80962229698,
          -18989.35374103197,
          -18989.35374103197,
          -18989.35374103197,
          -18114.18114423284,
          -18114.18114423284,
          -18114.18114423284,
          -17279.343099342816,
          -17279.343099342816,
          -17279.343099342816,
          -16482.980686094455,
          -16482.980686094455,
          -16482.980686094455,
          -15723.320657282158,
          -15723.320657282158,
          -15723.320657282158,
          -14998.67149030154,
          -14998.67149030154,
          -14998.67149030154,
          -14307.419620663613,
          -14307.419620663613,
          -14307.419620663613
         ],
         "yaxis": "y2"
        },
        {
         "fill": "tonexty",
         "name": "OPEN - Modified CO2 Emissions",
         "type": "scatter",
         "x": [
          2025,
          2025,
          2025,
          2026,
          2026,
          2026,
          2027,
          2027,
          2027,
          2028,
          2028,
          2028,
          2029,
          2029,
          2029,
          2030,
          2030,
          2030,
          2031,
          2031,
          2031,
          2032,
          2032,
          2032,
          2033,
          2033,
          2033,
          2034,
          2034,
          2034,
          2035,
          2035,
          2035,
          2036,
          2036,
          2036,
          2037,
          2037,
          2037,
          2038,
          2038,
          2038,
          2039,
          2039,
          2039,
          2040,
          2040,
          2040
         ],
         "xaxis": "x3",
         "y": [
          22743.608229304024,
          22743.608229304024,
          22743.608229304024,
          21695.411279261825,
          21695.411279261825,
          21695.411279261825,
          20695.5231478996,
          20695.5231478996,
          20695.5231478996,
          19741.717400612517,
          19741.717400612517,
          19741.717400612517,
          18831.870213689246,
          18831.870213689246,
          18831.870213689246,
          17963.95564522838,
          17963.95564522838,
          17963.95564522838,
          17136.04112400652,
          17136.04112400652,
          17136.04112400652,
          16346.283146253532,
          16346.283146253532,
          16346.283146253532,
          15592.923170752696,
          15592.923170752696,
          15592.923170752696,
          14874.28370312564,
          14874.28370312564,
          14874.28370312564,
          14188.76456058298,
          14188.76456058298,
          14188.76456058298,
          13534.839308823357,
          13534.839308823357,
          13534.839308823357,
          12911.051863147064,
          12911.051863147064,
          12911.051863147064,
          12316.013246215982,
          12316.013246215982,
          12316.013246215982,
          11748.398495240388,
          11748.398495240388,
          11748.398495240388,
          11206.943711705886,
          11206.943711705886,
          11206.943711705886
         ],
         "yaxis": "y3"
        },
        {
         "fill": "tonexty",
         "name": "OPEN - Solar CO2 Emissions",
         "type": "scatter",
         "x": [
          2025,
          2025,
          2025,
          2026,
          2026,
          2026,
          2027,
          2027,
          2027,
          2028,
          2028,
          2028,
          2029,
          2029,
          2029,
          2030,
          2030,
          2030,
          2031,
          2031,
          2031,
          2032,
          2032,
          2032,
          2033,
          2033,
          2033,
          2034,
          2034,
          2034,
          2035,
          2035,
          2035,
          2036,
          2036,
          2036,
          2037,
          2037,
          2037,
          2038,
          2038,
          2038,
          2039,
          2039,
          2039,
          2040,
          2040,
          2040
         ],
         "xaxis": "x3",
         "y": [
          -39556.9213528416,
          -39556.9213528416,
          -39556.9213528416,
          -37733.84016462081,
          -37733.84016462081,
          -37733.84016462081,
          -35994.78030326716,
          -35994.78030326716,
          -35994.78030326716,
          -34335.86943253246,
          -34335.86943253246,
          -34335.86943253246,
          -32753.41368261959,
          -32753.41368261959,
          -32753.41368261959,
          -31243.88942510283,
          -31243.88942510283,
          -31243.88942510283,
          -29803.935426921827,
          -29803.935426921827,
          -29803.935426921827,
          -28430.345365978803,
          -28430.345365978803,
          -28430.345365978803,
          -27120.060691673316,
          -27120.060691673316,
          -27120.060691673316,
          -25870.16381447754,
          -25870.16381447754,
          -25870.16381447754,
          -24677.871609387206,
          -24677.871609387206,
          -24677.871609387206,
          -23540.529218782543,
          -23540.529218782543,
          -23540.529218782543,
          -22455.60414090002,
          -22455.60414090002,
          -22455.60414090002,
          -21420.680590752036,
          -21420.680590752036,
          -21420.680590752036,
          -20433.454120937782,
          -20433.454120937782,
          -20433.454120937782,
          -19491.726490367804,
          -19491.726490367804,
          -19491.726490367804
         ],
         "yaxis": "y3"
        }
       ],
       "layout": {
        "annotations": [
         {
          "font": {
           "size": 16
          },
          "showarrow": false,
          "text": "GESLOTEN",
          "x": 0.14444444444444446,
          "xanchor": "center",
          "xref": "paper",
          "y": 1,
          "yanchor": "bottom",
          "yref": "paper"
         },
         {
          "font": {
           "size": 16
          },
          "showarrow": false,
          "text": "HALF_OPEN",
          "x": 0.5,
          "xanchor": "center",
          "xref": "paper",
          "y": 1,
          "yanchor": "bottom",
          "yref": "paper"
         },
         {
          "font": {
           "size": 16
          },
          "showarrow": false,
          "text": "OPEN",
          "x": 0.8555555555555556,
          "xanchor": "center",
          "xref": "paper",
          "y": 1,
          "yanchor": "bottom",
          "yref": "paper"
         }
        ],
        "showlegend": true,
        "template": {
         "data": {
          "bar": [
           {
            "error_x": {
             "color": "#2a3f5f"
            },
            "error_y": {
             "color": "#2a3f5f"
            },
            "marker": {
             "line": {
              "color": "#E5ECF6",
              "width": 0.5
             },
             "pattern": {
              "fillmode": "overlay",
              "size": 10,
              "solidity": 0.2
             }
            },
            "type": "bar"
           }
          ],
          "barpolar": [
           {
            "marker": {
             "line": {
              "color": "#E5ECF6",
              "width": 0.5
             },
             "pattern": {
              "fillmode": "overlay",
              "size": 10,
              "solidity": 0.2
             }
            },
            "type": "barpolar"
           }
          ],
          "carpet": [
           {
            "aaxis": {
             "endlinecolor": "#2a3f5f",
             "gridcolor": "white",
             "linecolor": "white",
             "minorgridcolor": "white",
             "startlinecolor": "#2a3f5f"
            },
            "baxis": {
             "endlinecolor": "#2a3f5f",
             "gridcolor": "white",
             "linecolor": "white",
             "minorgridcolor": "white",
             "startlinecolor": "#2a3f5f"
            },
            "type": "carpet"
           }
          ],
          "choropleth": [
           {
            "colorbar": {
             "outlinewidth": 0,
             "ticks": ""
            },
            "type": "choropleth"
           }
          ],
          "contour": [
           {
            "colorbar": {
             "outlinewidth": 0,
             "ticks": ""
            },
            "colorscale": [
             [
              0,
              "#0d0887"
             ],
             [
              0.1111111111111111,
              "#46039f"
             ],
             [
              0.2222222222222222,
              "#7201a8"
             ],
             [
              0.3333333333333333,
              "#9c179e"
             ],
             [
              0.4444444444444444,
              "#bd3786"
             ],
             [
              0.5555555555555556,
              "#d8576b"
             ],
             [
              0.6666666666666666,
              "#ed7953"
             ],
             [
              0.7777777777777778,
              "#fb9f3a"
             ],
             [
              0.8888888888888888,
              "#fdca26"
             ],
             [
              1,
              "#f0f921"
             ]
            ],
            "type": "contour"
           }
          ],
          "contourcarpet": [
           {
            "colorbar": {
             "outlinewidth": 0,
             "ticks": ""
            },
            "type": "contourcarpet"
           }
          ],
          "heatmap": [
           {
            "colorbar": {
             "outlinewidth": 0,
             "ticks": ""
            },
            "colorscale": [
             [
              0,
              "#0d0887"
             ],
             [
              0.1111111111111111,
              "#46039f"
             ],
             [
              0.2222222222222222,
              "#7201a8"
             ],
             [
              0.3333333333333333,
              "#9c179e"
             ],
             [
              0.4444444444444444,
              "#bd3786"
             ],
             [
              0.5555555555555556,
              "#d8576b"
             ],
             [
              0.6666666666666666,
              "#ed7953"
             ],
             [
              0.7777777777777778,
              "#fb9f3a"
             ],
             [
              0.8888888888888888,
              "#fdca26"
             ],
             [
              1,
              "#f0f921"
             ]
            ],
            "type": "heatmap"
           }
          ],
          "heatmapgl": [
           {
            "colorbar": {
             "outlinewidth": 0,
             "ticks": ""
            },
            "colorscale": [
             [
              0,
              "#0d0887"
             ],
             [
              0.1111111111111111,
              "#46039f"
             ],
             [
              0.2222222222222222,
              "#7201a8"
             ],
             [
              0.3333333333333333,
              "#9c179e"
             ],
             [
              0.4444444444444444,
              "#bd3786"
             ],
             [
              0.5555555555555556,
              "#d8576b"
             ],
             [
              0.6666666666666666,
              "#ed7953"
             ],
             [
              0.7777777777777778,
              "#fb9f3a"
             ],
             [
              0.8888888888888888,
              "#fdca26"
             ],
             [
              1,
              "#f0f921"
             ]
            ],
            "type": "heatmapgl"
           }
          ],
          "histogram": [
           {
            "marker": {
             "pattern": {
              "fillmode": "overlay",
              "size": 10,
              "solidity": 0.2
             }
            },
            "type": "histogram"
           }
          ],
          "histogram2d": [
           {
            "colorbar": {
             "outlinewidth": 0,
             "ticks": ""
            },
            "colorscale": [
             [
              0,
              "#0d0887"
             ],
             [
              0.1111111111111111,
              "#46039f"
             ],
             [
              0.2222222222222222,
              "#7201a8"
             ],
             [
              0.3333333333333333,
              "#9c179e"
             ],
             [
              0.4444444444444444,
              "#bd3786"
             ],
             [
              0.5555555555555556,
              "#d8576b"
             ],
             [
              0.6666666666666666,
              "#ed7953"
             ],
             [
              0.7777777777777778,
              "#fb9f3a"
             ],
             [
              0.8888888888888888,
              "#fdca26"
             ],
             [
              1,
              "#f0f921"
             ]
            ],
            "type": "histogram2d"
           }
          ],
          "histogram2dcontour": [
           {
            "colorbar": {
             "outlinewidth": 0,
             "ticks": ""
            },
            "colorscale": [
             [
              0,
              "#0d0887"
             ],
             [
              0.1111111111111111,
              "#46039f"
             ],
             [
              0.2222222222222222,
              "#7201a8"
             ],
             [
              0.3333333333333333,
              "#9c179e"
             ],
             [
              0.4444444444444444,
              "#bd3786"
             ],
             [
              0.5555555555555556,
              "#d8576b"
             ],
             [
              0.6666666666666666,
              "#ed7953"
             ],
             [
              0.7777777777777778,
              "#fb9f3a"
             ],
             [
              0.8888888888888888,
              "#fdca26"
             ],
             [
              1,
              "#f0f921"
             ]
            ],
            "type": "histogram2dcontour"
           }
          ],
          "mesh3d": [
           {
            "colorbar": {
             "outlinewidth": 0,
             "ticks": ""
            },
            "type": "mesh3d"
           }
          ],
          "parcoords": [
           {
            "line": {
             "colorbar": {
              "outlinewidth": 0,
              "ticks": ""
             }
            },
            "type": "parcoords"
           }
          ],
          "pie": [
           {
            "automargin": true,
            "type": "pie"
           }
          ],
          "scatter": [
           {
            "fillpattern": {
             "fillmode": "overlay",
             "size": 10,
             "solidity": 0.2
            },
            "type": "scatter"
           }
          ],
          "scatter3d": [
           {
            "line": {
             "colorbar": {
              "outlinewidth": 0,
              "ticks": ""
             }
            },
            "marker": {
             "colorbar": {
              "outlinewidth": 0,
              "ticks": ""
             }
            },
            "type": "scatter3d"
           }
          ],
          "scattercarpet": [
           {
            "marker": {
             "colorbar": {
              "outlinewidth": 0,
              "ticks": ""
             }
            },
            "type": "scattercarpet"
           }
          ],
          "scattergeo": [
           {
            "marker": {
             "colorbar": {
              "outlinewidth": 0,
              "ticks": ""
             }
            },
            "type": "scattergeo"
           }
          ],
          "scattergl": [
           {
            "marker": {
             "colorbar": {
              "outlinewidth": 0,
              "ticks": ""
             }
            },
            "type": "scattergl"
           }
          ],
          "scattermapbox": [
           {
            "marker": {
             "colorbar": {
              "outlinewidth": 0,
              "ticks": ""
             }
            },
            "type": "scattermapbox"
           }
          ],
          "scatterpolar": [
           {
            "marker": {
             "colorbar": {
              "outlinewidth": 0,
              "ticks": ""
             }
            },
            "type": "scatterpolar"
           }
          ],
          "scatterpolargl": [
           {
            "marker": {
             "colorbar": {
              "outlinewidth": 0,
              "ticks": ""
             }
            },
            "type": "scatterpolargl"
           }
          ],
          "scatterternary": [
           {
            "marker": {
             "colorbar": {
              "outlinewidth": 0,
              "ticks": ""
             }
            },
            "type": "scatterternary"
           }
          ],
          "surface": [
           {
            "colorbar": {
             "outlinewidth": 0,
             "ticks": ""
            },
            "colorscale": [
             [
              0,
              "#0d0887"
             ],
             [
              0.1111111111111111,
              "#46039f"
             ],
             [
              0.2222222222222222,
              "#7201a8"
             ],
             [
              0.3333333333333333,
              "#9c179e"
             ],
             [
              0.4444444444444444,
              "#bd3786"
             ],
             [
              0.5555555555555556,
              "#d8576b"
             ],
             [
              0.6666666666666666,
              "#ed7953"
             ],
             [
              0.7777777777777778,
              "#fb9f3a"
             ],
             [
              0.8888888888888888,
              "#fdca26"
             ],
             [
              1,
              "#f0f921"
             ]
            ],
            "type": "surface"
           }
          ],
          "table": [
           {
            "cells": {
             "fill": {
              "color": "#EBF0F8"
             },
             "line": {
              "color": "white"
             }
            },
            "header": {
             "fill": {
              "color": "#C8D4E3"
             },
             "line": {
              "color": "white"
             }
            },
            "type": "table"
           }
          ]
         },
         "layout": {
          "annotationdefaults": {
           "arrowcolor": "#2a3f5f",
           "arrowhead": 0,
           "arrowwidth": 1
          },
          "autotypenumbers": "strict",
          "coloraxis": {
           "colorbar": {
            "outlinewidth": 0,
            "ticks": ""
           }
          },
          "colorscale": {
           "diverging": [
            [
             0,
             "#8e0152"
            ],
            [
             0.1,
             "#c51b7d"
            ],
            [
             0.2,
             "#de77ae"
            ],
            [
             0.3,
             "#f1b6da"
            ],
            [
             0.4,
             "#fde0ef"
            ],
            [
             0.5,
             "#f7f7f7"
            ],
            [
             0.6,
             "#e6f5d0"
            ],
            [
             0.7,
             "#b8e186"
            ],
            [
             0.8,
             "#7fbc41"
            ],
            [
             0.9,
             "#4d9221"
            ],
            [
             1,
             "#276419"
            ]
           ],
           "sequential": [
            [
             0,
             "#0d0887"
            ],
            [
             0.1111111111111111,
             "#46039f"
            ],
            [
             0.2222222222222222,
             "#7201a8"
            ],
            [
             0.3333333333333333,
             "#9c179e"
            ],
            [
             0.4444444444444444,
             "#bd3786"
            ],
            [
             0.5555555555555556,
             "#d8576b"
            ],
            [
             0.6666666666666666,
             "#ed7953"
            ],
            [
             0.7777777777777778,
             "#fb9f3a"
            ],
            [
             0.8888888888888888,
             "#fdca26"
            ],
            [
             1,
             "#f0f921"
            ]
           ],
           "sequentialminus": [
            [
             0,
             "#0d0887"
            ],
            [
             0.1111111111111111,
             "#46039f"
            ],
            [
             0.2222222222222222,
             "#7201a8"
            ],
            [
             0.3333333333333333,
             "#9c179e"
            ],
            [
             0.4444444444444444,
             "#bd3786"
            ],
            [
             0.5555555555555556,
             "#d8576b"
            ],
            [
             0.6666666666666666,
             "#ed7953"
            ],
            [
             0.7777777777777778,
             "#fb9f3a"
            ],
            [
             0.8888888888888888,
             "#fdca26"
            ],
            [
             1,
             "#f0f921"
            ]
           ]
          },
          "colorway": [
           "#636efa",
           "#EF553B",
           "#00cc96",
           "#ab63fa",
           "#FFA15A",
           "#19d3f3",
           "#FF6692",
           "#B6E880",
           "#FF97FF",
           "#FECB52"
          ],
          "font": {
           "color": "#2a3f5f"
          },
          "geo": {
           "bgcolor": "white",
           "lakecolor": "white",
           "landcolor": "#E5ECF6",
           "showlakes": true,
           "showland": true,
           "subunitcolor": "white"
          },
          "hoverlabel": {
           "align": "left"
          },
          "hovermode": "closest",
          "mapbox": {
           "style": "light"
          },
          "paper_bgcolor": "white",
          "plot_bgcolor": "#E5ECF6",
          "polar": {
           "angularaxis": {
            "gridcolor": "white",
            "linecolor": "white",
            "ticks": ""
           },
           "bgcolor": "#E5ECF6",
           "radialaxis": {
            "gridcolor": "white",
            "linecolor": "white",
            "ticks": ""
           }
          },
          "scene": {
           "xaxis": {
            "backgroundcolor": "#E5ECF6",
            "gridcolor": "white",
            "gridwidth": 2,
            "linecolor": "white",
            "showbackground": true,
            "ticks": "",
            "zerolinecolor": "white"
           },
           "yaxis": {
            "backgroundcolor": "#E5ECF6",
            "gridcolor": "white",
            "gridwidth": 2,
            "linecolor": "white",
            "showbackground": true,
            "ticks": "",
            "zerolinecolor": "white"
           },
           "zaxis": {
            "backgroundcolor": "#E5ECF6",
            "gridcolor": "white",
            "gridwidth": 2,
            "linecolor": "white",
            "showbackground": true,
            "ticks": "",
            "zerolinecolor": "white"
           }
          },
          "shapedefaults": {
           "line": {
            "color": "#2a3f5f"
           }
          },
          "ternary": {
           "aaxis": {
            "gridcolor": "white",
            "linecolor": "white",
            "ticks": ""
           },
           "baxis": {
            "gridcolor": "white",
            "linecolor": "white",
            "ticks": ""
           },
           "bgcolor": "#E5ECF6",
           "caxis": {
            "gridcolor": "white",
            "linecolor": "white",
            "ticks": ""
           }
          },
          "title": {
           "x": 0.05
          },
          "xaxis": {
           "automargin": true,
           "gridcolor": "white",
           "linecolor": "white",
           "ticks": "",
           "title": {
            "standoff": 15
           },
           "zerolinecolor": "white",
           "zerolinewidth": 2
          },
          "yaxis": {
           "automargin": true,
           "gridcolor": "white",
           "linecolor": "white",
           "ticks": "",
           "title": {
            "standoff": 15
           },
           "zerolinecolor": "white",
           "zerolinewidth": 2
          }
         }
        },
        "title": {
         "text": "CO2 Emissions Over Years by Building Type with heat pump and A labels"
        },
        "xaxis": {
         "anchor": "y",
         "domain": [
          0,
          0.2888888888888889
         ],
         "title": {
          "text": "Year"
         }
        },
        "xaxis2": {
         "anchor": "y2",
         "domain": [
          0.35555555555555557,
          0.6444444444444445
         ],
         "title": {
          "text": "Year"
         }
        },
        "xaxis3": {
         "anchor": "y3",
         "domain": [
          0.7111111111111111,
          1
         ],
         "title": {
          "text": "Year"
         }
        },
        "yaxis": {
         "anchor": "x",
         "domain": [
          0,
          1
         ],
         "title": {
          "text": "CO2 Emissions (kg)"
         }
        },
        "yaxis2": {
         "anchor": "x2",
         "domain": [
          0,
          1
         ],
         "matches": "y",
         "showticklabels": false
        },
        "yaxis3": {
         "anchor": "x3",
         "domain": [
          0,
          1
         ],
         "matches": "y",
         "showticklabels": false
        }
       }
      },
      "text/html": [
       "<div>                            <div id=\"2985b215-3c46-40d7-8862-158b60982660\" class=\"plotly-graph-div\" style=\"height:525px; width:100%;\"></div>            <script type=\"text/javascript\">                require([\"plotly\"], function(Plotly) {                    window.PLOTLYENV=window.PLOTLYENV || {};                                    if (document.getElementById(\"2985b215-3c46-40d7-8862-158b60982660\")) {                    Plotly.newPlot(                        \"2985b215-3c46-40d7-8862-158b60982660\",                        [{\"fill\":\"tonexty\",\"name\":\"GESLOTEN - Modified CO2 Emissions\",\"x\":[2025,2025,2025,2026,2026,2026,2027,2027,2027,2028,2028,2028,2029,2029,2029,2030,2030,2030,2031,2031,2031,2032,2032,2032,2033,2033,2033,2034,2034,2034,2035,2035,2035,2036,2036,2036,2037,2037,2037,2038,2038,2038,2039,2039,2039,2040,2040,2040],\"y\":[20807.458120156665,20807.458120156665,20807.458120156665,19848.49356537782,19848.49356537782,19848.49356537782,18933.725327708526,18933.725327708526,18933.725327708526,18061.116507623865,18061.116507623865,18061.116507623865,17228.72408128688,17228.72408128688,17228.72408128688,16434.6945740491,16434.6945740491,16434.6945740491,15677.259933348707,15677.259933348707,15677.259933348707,14954.733591816761,14954.733591816761,14954.733591816761,14265.5067118251,14265.5067118251,14265.5067118251,13608.044603113813,13608.044603113813,13608.044603113813,12980.883305521476,12980.883305521476,12980.883305521476,12382.626329208899,12382.626329208899,12382.626329208899,11811.941545117972,11811.941545117972,11811.941545117972,11267.558218741606,11267.558218741606,11267.558218741606,10748.26418059992,10748.26418059992,10748.26418059992,10252.903127122194,10252.903127122194,10252.903127122194],\"type\":\"scatter\",\"xaxis\":\"x\",\"yaxis\":\"y\"},{\"fill\":\"tonexty\",\"name\":\"GESLOTEN - Solar CO2 Emissions\",\"x\":[2025,2025,2025,2026,2026,2026,2027,2027,2027,2028,2028,2028,2029,2029,2029,2030,2030,2030,2031,2031,2031,2032,2032,2032,2033,2033,2033,2034,2034,2034,2035,2035,2035,2036,2036,2036,2037,2037,2037,2038,2038,2038,2039,2039,2039,2040,2040,2040],\"y\":[-23799.830805379108,-23799.830805379108,-23799.830805379108,-22702.95515529752,-22702.95515529752,-22702.95515529752,-21656.631805422632,-21656.631805422632,-21656.631805422632,-20658.53092460538,-20658.53092460538,-20658.53092460538,-19706.430057882593,-19706.430057882593,-19706.430057882593,-18798.209177772722,-18798.209177772722,-18798.209177772722,-17931.845963645217,-17931.845963645217,-17931.845963645217,-17105.41129865211,-17105.41129865211,-17105.41129865211,-16317.064974194991,-16317.064974194991,-16317.064974194991,-15565.051592362528,-15565.051592362528,-15565.051592362528,-14847.696657214532,-14847.696657214532,-14847.696657214532,-14163.402846209141,-14163.402846209141,-14163.402846209141,-13510.646453470757,-13510.646453470757,-13510.646453470757,-12887.973996979019,-12887.973996979019,-12887.973996979019,-12293.998982124047,-12293.998982124047,-12293.998982124047,-11727.398814421513,-11727.398814421513,-11727.398814421513],\"type\":\"scatter\",\"xaxis\":\"x\",\"yaxis\":\"y\"},{\"fill\":\"tonexty\",\"name\":\"HALF_OPEN - Modified CO2 Emissions\",\"x\":[2025,2025,2025,2026,2026,2026,2027,2027,2027,2028,2028,2028,2029,2029,2029,2030,2030,2030,2031,2031,2031,2032,2032,2032,2033,2033,2033,2034,2034,2034,2035,2035,2035,2036,2036,2036,2037,2037,2037,2038,2038,2038,2039,2039,2039,2040,2040,2040],\"y\":[21471.413673173625,21471.413673173625,21471.413673173625,20481.849040402794,20481.849040402794,20481.849040402794,19537.891007054623,19537.891007054623,19537.891007054623,18637.437677161943,18637.437677161943,18637.437677161943,17778.484025971626,17778.484025971626,17778.484025971626,16959.117435388758,16959.117435388758,16959.117435388758,16177.513435181005,16177.513435181005,16177.513435181005,15431.931640460549,15431.931640460549,15431.931640460549,14720.711876397394,14720.711876397394,14720.711876397394,14042.270481535134,14042.270481535134,14042.270481535134,13395.09678147782,13395.09678147782,13395.09678147782,12777.749725095868,12777.749725095868,12777.749725095868,12188.85467576104,12188.85467576104,12188.85467576104,11627.100350465435,11627.100350465435,11627.100350465435,11091.235900008998,11091.235900008998,11091.235900008998,10580.068123754008,10580.068123754008,10580.068123754008],\"type\":\"scatter\",\"xaxis\":\"x2\",\"yaxis\":\"y2\"},{\"fill\":\"tonexty\",\"name\":\"HALF_OPEN - Solar CO2 Emissions\",\"x\":[2025,2025,2025,2026,2026,2026,2027,2027,2027,2028,2028,2028,2029,2029,2029,2030,2030,2030,2031,2031,2031,2032,2032,2032,2033,2033,2033,2034,2034,2034,2035,2035,2035,2036,2036,2036,2037,2037,2037,2038,2038,2038,2039,2039,2039,2040,2040,2040],\"y\":[-29035.779512726684,-29035.779512726684,-29035.779512726684,-27697.591868071264,-27697.591868071264,-27697.591868071264,-26421.07799978281,-26421.07799978281,-26421.07799978281,-25203.395515236836,-25203.395515236836,-25203.395515236836,-24041.833020692095,-24041.833020692095,-24041.833020692095,-22933.80408387444,-22933.80408387444,-22933.80408387444,-21876.84147481009,-21876.84147481009,-21876.84147481009,-20868.591672085,-20868.591672085,-20868.591672085,-19906.80962229698,-19906.80962229698,-19906.80962229698,-18989.35374103197,-18989.35374103197,-18989.35374103197,-18114.18114423284,-18114.18114423284,-18114.18114423284,-17279.343099342816,-17279.343099342816,-17279.343099342816,-16482.980686094455,-16482.980686094455,-16482.980686094455,-15723.320657282158,-15723.320657282158,-15723.320657282158,-14998.67149030154,-14998.67149030154,-14998.67149030154,-14307.419620663613,-14307.419620663613,-14307.419620663613],\"type\":\"scatter\",\"xaxis\":\"x2\",\"yaxis\":\"y2\"},{\"fill\":\"tonexty\",\"name\":\"OPEN - Modified CO2 Emissions\",\"x\":[2025,2025,2025,2026,2026,2026,2027,2027,2027,2028,2028,2028,2029,2029,2029,2030,2030,2030,2031,2031,2031,2032,2032,2032,2033,2033,2033,2034,2034,2034,2035,2035,2035,2036,2036,2036,2037,2037,2037,2038,2038,2038,2039,2039,2039,2040,2040,2040],\"y\":[22743.608229304024,22743.608229304024,22743.608229304024,21695.411279261825,21695.411279261825,21695.411279261825,20695.5231478996,20695.5231478996,20695.5231478996,19741.717400612517,19741.717400612517,19741.717400612517,18831.870213689246,18831.870213689246,18831.870213689246,17963.95564522838,17963.95564522838,17963.95564522838,17136.04112400652,17136.04112400652,17136.04112400652,16346.283146253532,16346.283146253532,16346.283146253532,15592.923170752696,15592.923170752696,15592.923170752696,14874.28370312564,14874.28370312564,14874.28370312564,14188.76456058298,14188.76456058298,14188.76456058298,13534.839308823357,13534.839308823357,13534.839308823357,12911.051863147064,12911.051863147064,12911.051863147064,12316.013246215982,12316.013246215982,12316.013246215982,11748.398495240388,11748.398495240388,11748.398495240388,11206.943711705886,11206.943711705886,11206.943711705886],\"type\":\"scatter\",\"xaxis\":\"x3\",\"yaxis\":\"y3\"},{\"fill\":\"tonexty\",\"name\":\"OPEN - Solar CO2 Emissions\",\"x\":[2025,2025,2025,2026,2026,2026,2027,2027,2027,2028,2028,2028,2029,2029,2029,2030,2030,2030,2031,2031,2031,2032,2032,2032,2033,2033,2033,2034,2034,2034,2035,2035,2035,2036,2036,2036,2037,2037,2037,2038,2038,2038,2039,2039,2039,2040,2040,2040],\"y\":[-39556.9213528416,-39556.9213528416,-39556.9213528416,-37733.84016462081,-37733.84016462081,-37733.84016462081,-35994.78030326716,-35994.78030326716,-35994.78030326716,-34335.86943253246,-34335.86943253246,-34335.86943253246,-32753.41368261959,-32753.41368261959,-32753.41368261959,-31243.88942510283,-31243.88942510283,-31243.88942510283,-29803.935426921827,-29803.935426921827,-29803.935426921827,-28430.345365978803,-28430.345365978803,-28430.345365978803,-27120.060691673316,-27120.060691673316,-27120.060691673316,-25870.16381447754,-25870.16381447754,-25870.16381447754,-24677.871609387206,-24677.871609387206,-24677.871609387206,-23540.529218782543,-23540.529218782543,-23540.529218782543,-22455.60414090002,-22455.60414090002,-22455.60414090002,-21420.680590752036,-21420.680590752036,-21420.680590752036,-20433.454120937782,-20433.454120937782,-20433.454120937782,-19491.726490367804,-19491.726490367804,-19491.726490367804],\"type\":\"scatter\",\"xaxis\":\"x3\",\"yaxis\":\"y3\"}],                        {\"template\":{\"data\":{\"histogram2dcontour\":[{\"type\":\"histogram2dcontour\",\"colorbar\":{\"outlinewidth\":0,\"ticks\":\"\"},\"colorscale\":[[0.0,\"#0d0887\"],[0.1111111111111111,\"#46039f\"],[0.2222222222222222,\"#7201a8\"],[0.3333333333333333,\"#9c179e\"],[0.4444444444444444,\"#bd3786\"],[0.5555555555555556,\"#d8576b\"],[0.6666666666666666,\"#ed7953\"],[0.7777777777777778,\"#fb9f3a\"],[0.8888888888888888,\"#fdca26\"],[1.0,\"#f0f921\"]]}],\"choropleth\":[{\"type\":\"choropleth\",\"colorbar\":{\"outlinewidth\":0,\"ticks\":\"\"}}],\"histogram2d\":[{\"type\":\"histogram2d\",\"colorbar\":{\"outlinewidth\":0,\"ticks\":\"\"},\"colorscale\":[[0.0,\"#0d0887\"],[0.1111111111111111,\"#46039f\"],[0.2222222222222222,\"#7201a8\"],[0.3333333333333333,\"#9c179e\"],[0.4444444444444444,\"#bd3786\"],[0.5555555555555556,\"#d8576b\"],[0.6666666666666666,\"#ed7953\"],[0.7777777777777778,\"#fb9f3a\"],[0.8888888888888888,\"#fdca26\"],[1.0,\"#f0f921\"]]}],\"heatmap\":[{\"type\":\"heatmap\",\"colorbar\":{\"outlinewidth\":0,\"ticks\":\"\"},\"colorscale\":[[0.0,\"#0d0887\"],[0.1111111111111111,\"#46039f\"],[0.2222222222222222,\"#7201a8\"],[0.3333333333333333,\"#9c179e\"],[0.4444444444444444,\"#bd3786\"],[0.5555555555555556,\"#d8576b\"],[0.6666666666666666,\"#ed7953\"],[0.7777777777777778,\"#fb9f3a\"],[0.8888888888888888,\"#fdca26\"],[1.0,\"#f0f921\"]]}],\"heatmapgl\":[{\"type\":\"heatmapgl\",\"colorbar\":{\"outlinewidth\":0,\"ticks\":\"\"},\"colorscale\":[[0.0,\"#0d0887\"],[0.1111111111111111,\"#46039f\"],[0.2222222222222222,\"#7201a8\"],[0.3333333333333333,\"#9c179e\"],[0.4444444444444444,\"#bd3786\"],[0.5555555555555556,\"#d8576b\"],[0.6666666666666666,\"#ed7953\"],[0.7777777777777778,\"#fb9f3a\"],[0.8888888888888888,\"#fdca26\"],[1.0,\"#f0f921\"]]}],\"contourcarpet\":[{\"type\":\"contourcarpet\",\"colorbar\":{\"outlinewidth\":0,\"ticks\":\"\"}}],\"contour\":[{\"type\":\"contour\",\"colorbar\":{\"outlinewidth\":0,\"ticks\":\"\"},\"colorscale\":[[0.0,\"#0d0887\"],[0.1111111111111111,\"#46039f\"],[0.2222222222222222,\"#7201a8\"],[0.3333333333333333,\"#9c179e\"],[0.4444444444444444,\"#bd3786\"],[0.5555555555555556,\"#d8576b\"],[0.6666666666666666,\"#ed7953\"],[0.7777777777777778,\"#fb9f3a\"],[0.8888888888888888,\"#fdca26\"],[1.0,\"#f0f921\"]]}],\"surface\":[{\"type\":\"surface\",\"colorbar\":{\"outlinewidth\":0,\"ticks\":\"\"},\"colorscale\":[[0.0,\"#0d0887\"],[0.1111111111111111,\"#46039f\"],[0.2222222222222222,\"#7201a8\"],[0.3333333333333333,\"#9c179e\"],[0.4444444444444444,\"#bd3786\"],[0.5555555555555556,\"#d8576b\"],[0.6666666666666666,\"#ed7953\"],[0.7777777777777778,\"#fb9f3a\"],[0.8888888888888888,\"#fdca26\"],[1.0,\"#f0f921\"]]}],\"mesh3d\":[{\"type\":\"mesh3d\",\"colorbar\":{\"outlinewidth\":0,\"ticks\":\"\"}}],\"scatter\":[{\"fillpattern\":{\"fillmode\":\"overlay\",\"size\":10,\"solidity\":0.2},\"type\":\"scatter\"}],\"parcoords\":[{\"type\":\"parcoords\",\"line\":{\"colorbar\":{\"outlinewidth\":0,\"ticks\":\"\"}}}],\"scatterpolargl\":[{\"type\":\"scatterpolargl\",\"marker\":{\"colorbar\":{\"outlinewidth\":0,\"ticks\":\"\"}}}],\"bar\":[{\"error_x\":{\"color\":\"#2a3f5f\"},\"error_y\":{\"color\":\"#2a3f5f\"},\"marker\":{\"line\":{\"color\":\"#E5ECF6\",\"width\":0.5},\"pattern\":{\"fillmode\":\"overlay\",\"size\":10,\"solidity\":0.2}},\"type\":\"bar\"}],\"scattergeo\":[{\"type\":\"scattergeo\",\"marker\":{\"colorbar\":{\"outlinewidth\":0,\"ticks\":\"\"}}}],\"scatterpolar\":[{\"type\":\"scatterpolar\",\"marker\":{\"colorbar\":{\"outlinewidth\":0,\"ticks\":\"\"}}}],\"histogram\":[{\"marker\":{\"pattern\":{\"fillmode\":\"overlay\",\"size\":10,\"solidity\":0.2}},\"type\":\"histogram\"}],\"scattergl\":[{\"type\":\"scattergl\",\"marker\":{\"colorbar\":{\"outlinewidth\":0,\"ticks\":\"\"}}}],\"scatter3d\":[{\"type\":\"scatter3d\",\"line\":{\"colorbar\":{\"outlinewidth\":0,\"ticks\":\"\"}},\"marker\":{\"colorbar\":{\"outlinewidth\":0,\"ticks\":\"\"}}}],\"scattermapbox\":[{\"type\":\"scattermapbox\",\"marker\":{\"colorbar\":{\"outlinewidth\":0,\"ticks\":\"\"}}}],\"scatterternary\":[{\"type\":\"scatterternary\",\"marker\":{\"colorbar\":{\"outlinewidth\":0,\"ticks\":\"\"}}}],\"scattercarpet\":[{\"type\":\"scattercarpet\",\"marker\":{\"colorbar\":{\"outlinewidth\":0,\"ticks\":\"\"}}}],\"carpet\":[{\"aaxis\":{\"endlinecolor\":\"#2a3f5f\",\"gridcolor\":\"white\",\"linecolor\":\"white\",\"minorgridcolor\":\"white\",\"startlinecolor\":\"#2a3f5f\"},\"baxis\":{\"endlinecolor\":\"#2a3f5f\",\"gridcolor\":\"white\",\"linecolor\":\"white\",\"minorgridcolor\":\"white\",\"startlinecolor\":\"#2a3f5f\"},\"type\":\"carpet\"}],\"table\":[{\"cells\":{\"fill\":{\"color\":\"#EBF0F8\"},\"line\":{\"color\":\"white\"}},\"header\":{\"fill\":{\"color\":\"#C8D4E3\"},\"line\":{\"color\":\"white\"}},\"type\":\"table\"}],\"barpolar\":[{\"marker\":{\"line\":{\"color\":\"#E5ECF6\",\"width\":0.5},\"pattern\":{\"fillmode\":\"overlay\",\"size\":10,\"solidity\":0.2}},\"type\":\"barpolar\"}],\"pie\":[{\"automargin\":true,\"type\":\"pie\"}]},\"layout\":{\"autotypenumbers\":\"strict\",\"colorway\":[\"#636efa\",\"#EF553B\",\"#00cc96\",\"#ab63fa\",\"#FFA15A\",\"#19d3f3\",\"#FF6692\",\"#B6E880\",\"#FF97FF\",\"#FECB52\"],\"font\":{\"color\":\"#2a3f5f\"},\"hovermode\":\"closest\",\"hoverlabel\":{\"align\":\"left\"},\"paper_bgcolor\":\"white\",\"plot_bgcolor\":\"#E5ECF6\",\"polar\":{\"bgcolor\":\"#E5ECF6\",\"angularaxis\":{\"gridcolor\":\"white\",\"linecolor\":\"white\",\"ticks\":\"\"},\"radialaxis\":{\"gridcolor\":\"white\",\"linecolor\":\"white\",\"ticks\":\"\"}},\"ternary\":{\"bgcolor\":\"#E5ECF6\",\"aaxis\":{\"gridcolor\":\"white\",\"linecolor\":\"white\",\"ticks\":\"\"},\"baxis\":{\"gridcolor\":\"white\",\"linecolor\":\"white\",\"ticks\":\"\"},\"caxis\":{\"gridcolor\":\"white\",\"linecolor\":\"white\",\"ticks\":\"\"}},\"coloraxis\":{\"colorbar\":{\"outlinewidth\":0,\"ticks\":\"\"}},\"colorscale\":{\"sequential\":[[0.0,\"#0d0887\"],[0.1111111111111111,\"#46039f\"],[0.2222222222222222,\"#7201a8\"],[0.3333333333333333,\"#9c179e\"],[0.4444444444444444,\"#bd3786\"],[0.5555555555555556,\"#d8576b\"],[0.6666666666666666,\"#ed7953\"],[0.7777777777777778,\"#fb9f3a\"],[0.8888888888888888,\"#fdca26\"],[1.0,\"#f0f921\"]],\"sequentialminus\":[[0.0,\"#0d0887\"],[0.1111111111111111,\"#46039f\"],[0.2222222222222222,\"#7201a8\"],[0.3333333333333333,\"#9c179e\"],[0.4444444444444444,\"#bd3786\"],[0.5555555555555556,\"#d8576b\"],[0.6666666666666666,\"#ed7953\"],[0.7777777777777778,\"#fb9f3a\"],[0.8888888888888888,\"#fdca26\"],[1.0,\"#f0f921\"]],\"diverging\":[[0,\"#8e0152\"],[0.1,\"#c51b7d\"],[0.2,\"#de77ae\"],[0.3,\"#f1b6da\"],[0.4,\"#fde0ef\"],[0.5,\"#f7f7f7\"],[0.6,\"#e6f5d0\"],[0.7,\"#b8e186\"],[0.8,\"#7fbc41\"],[0.9,\"#4d9221\"],[1,\"#276419\"]]},\"xaxis\":{\"gridcolor\":\"white\",\"linecolor\":\"white\",\"ticks\":\"\",\"title\":{\"standoff\":15},\"zerolinecolor\":\"white\",\"automargin\":true,\"zerolinewidth\":2},\"yaxis\":{\"gridcolor\":\"white\",\"linecolor\":\"white\",\"ticks\":\"\",\"title\":{\"standoff\":15},\"zerolinecolor\":\"white\",\"automargin\":true,\"zerolinewidth\":2},\"scene\":{\"xaxis\":{\"backgroundcolor\":\"#E5ECF6\",\"gridcolor\":\"white\",\"linecolor\":\"white\",\"showbackground\":true,\"ticks\":\"\",\"zerolinecolor\":\"white\",\"gridwidth\":2},\"yaxis\":{\"backgroundcolor\":\"#E5ECF6\",\"gridcolor\":\"white\",\"linecolor\":\"white\",\"showbackground\":true,\"ticks\":\"\",\"zerolinecolor\":\"white\",\"gridwidth\":2},\"zaxis\":{\"backgroundcolor\":\"#E5ECF6\",\"gridcolor\":\"white\",\"linecolor\":\"white\",\"showbackground\":true,\"ticks\":\"\",\"zerolinecolor\":\"white\",\"gridwidth\":2}},\"shapedefaults\":{\"line\":{\"color\":\"#2a3f5f\"}},\"annotationdefaults\":{\"arrowcolor\":\"#2a3f5f\",\"arrowhead\":0,\"arrowwidth\":1},\"geo\":{\"bgcolor\":\"white\",\"landcolor\":\"#E5ECF6\",\"subunitcolor\":\"white\",\"showland\":true,\"showlakes\":true,\"lakecolor\":\"white\"},\"title\":{\"x\":0.05},\"mapbox\":{\"style\":\"light\"}}},\"xaxis\":{\"anchor\":\"y\",\"domain\":[0.0,0.2888888888888889],\"title\":{\"text\":\"Year\"}},\"yaxis\":{\"anchor\":\"x\",\"domain\":[0.0,1.0],\"title\":{\"text\":\"CO2 Emissions (kg)\"}},\"xaxis2\":{\"anchor\":\"y2\",\"domain\":[0.35555555555555557,0.6444444444444445],\"title\":{\"text\":\"Year\"}},\"yaxis2\":{\"anchor\":\"x2\",\"domain\":[0.0,1.0],\"matches\":\"y\",\"showticklabels\":false},\"xaxis3\":{\"anchor\":\"y3\",\"domain\":[0.7111111111111111,1.0],\"title\":{\"text\":\"Year\"}},\"yaxis3\":{\"anchor\":\"x3\",\"domain\":[0.0,1.0],\"matches\":\"y\",\"showticklabels\":false},\"annotations\":[{\"font\":{\"size\":16},\"showarrow\":false,\"text\":\"GESLOTEN\",\"x\":0.14444444444444446,\"xanchor\":\"center\",\"xref\":\"paper\",\"y\":1.0,\"yanchor\":\"bottom\",\"yref\":\"paper\"},{\"font\":{\"size\":16},\"showarrow\":false,\"text\":\"HALF_OPEN\",\"x\":0.5,\"xanchor\":\"center\",\"xref\":\"paper\",\"y\":1.0,\"yanchor\":\"bottom\",\"yref\":\"paper\"},{\"font\":{\"size\":16},\"showarrow\":false,\"text\":\"OPEN\",\"x\":0.8555555555555556,\"xanchor\":\"center\",\"xref\":\"paper\",\"y\":1.0,\"yanchor\":\"bottom\",\"yref\":\"paper\"}],\"title\":{\"text\":\"CO2 Emissions Over Years by Building Type with heat pump and A labels\"},\"showlegend\":true},                        {\"responsive\": true}                    ).then(function(){\n",
       "                            \n",
       "var gd = document.getElementById('2985b215-3c46-40d7-8862-158b60982660');\n",
       "var x = new MutationObserver(function (mutations, observer) {{\n",
       "        var display = window.getComputedStyle(gd).display;\n",
       "        if (!display || display === 'none') {{\n",
       "            console.log([gd, 'removed!']);\n",
       "            Plotly.purge(gd);\n",
       "            observer.disconnect();\n",
       "        }}\n",
       "}});\n",
       "\n",
       "// Listen for the removal of the full notebook cells\n",
       "var notebookContainer = gd.closest('#notebook-container');\n",
       "if (notebookContainer) {{\n",
       "    x.observe(notebookContainer, {childList: true});\n",
       "}}\n",
       "\n",
       "// Listen for the clearing of the current output cell\n",
       "var outputEl = gd.closest('.output');\n",
       "if (outputEl) {{\n",
       "    x.observe(outputEl, {childList: true});\n",
       "}}\n",
       "\n",
       "                        })                };                });            </script>        </div>"
      ]
     },
     "metadata": {},
     "output_type": "display_data"
    }
   ],
   "source": [
    "import pandas as pd\n",
    "import plotly.graph_objects as go\n",
    "from plotly.subplots import make_subplots\n",
    "\n",
    "\n",
    "# Filter the DataFrame\n",
    "testcase2 = df[(df['epc_ind'] < 100) & (df['heating_system'] == 'Heat Pump') & (df.scenario_name.str.contains('PV full roof')) & (~df.scenario_name.str.contains('PV full roof with battery'))  ].sort_values(by='tco', ascending=False).drop_duplicates(subset=['name'], keep='first')\n",
    "\n",
    "# Extract the years from the columns\n",
    "years = sorted([int(col.split('_')[-1]) for col in testcase2.columns if 'emissions_' in col])\n",
    "\n",
    "# Initialize lists to store the data\n",
    "data = []\n",
    "\n",
    "# Collect data for each year and each building type\n",
    "for year in years:\n",
    "    for building_type, group in testcase2.groupby('building_type'):\n",
    "        modified_emissions = group[f'modified_emissions_{year}'].sum()\n",
    "        solar_emissions = group[f'solar_injection_emissions_{year}'].sum() * -1  # Make solar emissions negative\n",
    "        data.append([year, building_type, 'Modified CO2 Emissions', modified_emissions])\n",
    "        data.append([year, building_type, 'Solar CO2 Emissions', solar_emissions])\n",
    "\n",
    "# Create a DataFrame from the collected data\n",
    "emissions_df = pd.DataFrame(data, columns=['Year', 'Building Type', 'Emissions Type', 'Emissions'])\n",
    "\n",
    "# Get unique building types\n",
    "building_types = emissions_df['Building Type'].unique()\n",
    "\n",
    "# Create subplots\n",
    "fig = make_subplots(rows=1, cols=3, shared_yaxes=True, subplot_titles=building_types)\n",
    "\n",
    "# Add traces for each building type\n",
    "for i, building_type in enumerate(building_types, start=1):\n",
    "    subset = emissions_df[emissions_df['Building Type'] == building_type]\n",
    "    fig.add_trace(go.Scatter(\n",
    "        x=subset[subset['Emissions Type'] == 'Modified CO2 Emissions']['Year'],\n",
    "        y=subset[subset['Emissions Type'] == 'Modified CO2 Emissions']['Emissions'],\n",
    "        fill='tonexty',\n",
    "        name=f'{building_type} - Modified CO2 Emissions'\n",
    "    ), row=1, col=i)\n",
    "    fig.add_trace(go.Scatter(\n",
    "        x=subset[subset['Emissions Type'] == 'Solar CO2 Emissions']['Year'],\n",
    "        y=subset[subset['Emissions Type'] == 'Solar CO2 Emissions']['Emissions'],\n",
    "        fill='tonexty',\n",
    "        name=f'{building_type} - Solar CO2 Emissions'\n",
    "    ), row=1, col=i)\n",
    "\n",
    "# Update layout\n",
    "fig.update_layout(\n",
    "    title='CO2 Emissions Over Years by Building Type with heat pump and A labels',\n",
    "    xaxis_title='Year',\n",
    "    yaxis_title='CO2 Emissions (kg)',\n",
    "    showlegend=True\n",
    ")\n",
    "\n",
    "# Update x-axes titles for each subplot\n",
    "for i in range(1, len(building_types) + 1):\n",
    "    fig.update_xaxes(title_text='Year', row=1, col=i)\n",
    "\n",
    "# Update y-axis title only for the first subplot\n",
    "fig.update_yaxes(title_text='CO2 Emissions (kg)', row=1, col=1)\n",
    "\n",
    "# Show the plot\n",
    "fig.show()\n"
   ]
  }
 ],
 "metadata": {
  "kernelspec": {
   "display_name": ".venv",
   "language": "python",
   "name": "python3"
  },
  "language_info": {
   "codemirror_mode": {
    "name": "ipython",
    "version": 3
   },
   "file_extension": ".py",
   "mimetype": "text/x-python",
   "name": "python",
   "nbconvert_exporter": "python",
   "pygments_lexer": "ipython3",
   "version": "3.10.12"
  }
 },
 "nbformat": 4,
 "nbformat_minor": 2
}
