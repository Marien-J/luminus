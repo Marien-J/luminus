{
 "cells": [
  {
   "cell_type": "code",
   "execution_count": 23,
   "metadata": {},
   "outputs": [],
   "source": [
    "from dash import Dash, html, dcc, Input, Output\n",
    "import pandas as pd\n",
    "import plotly.express as px\n",
    "import geopandas as gpd\n",
    "import shapely \n",
    "import numpy as np\n",
    "import dash_bootstrap_components as dbc\n",
    "from dash.dependencies import Input, Output, State\n",
    "import dash\n",
    "from dash_bootstrap_templates import load_figure_template\n",
    "import plotly.graph_objects as go\n",
    "import dash_daq as daq\n",
    "# import sys\n",
    "# from pathlib import Path\n",
    "# sys.path.append(str(Path(__file__).parent))\n",
    "from figure_functions import barchart_heating_systems, boxplot_co2, boxplot_investment\n",
    "from constants import INJECTION_PRICE, GAS_PRICE, ELECTRICITY_PRICE, ELEC_CO2_INTENSITY, ELEC_CO2_INTENSITY_ELECTRIFICATION, COLS\n",
    "from tab_layout import make_layout_scenario_maker, make_sliders\n",
    "from server import app\n",
    "from functions import map_epc\n",
    "import matplotlib.pyplot as plt\n",
    "from scipy.optimize import curve_fit\n",
    "\n",
    "from luminalysis_functions import example_cases, dynamic_co2, fit_co2, mod_solar"
   ]
  },
  {
   "cell_type": "code",
   "execution_count": 24,
   "metadata": {},
   "outputs": [],
   "source": [
    "# df = pd.read_feather('data/archetypes_luminus_trimmed.ftr')\n",
    "# def hs(scenario_name, gas, elec, oil, heating_consumption):\n",
    "#     if scenario_name == 'current situation':\n",
    "#         return 'Oil' if oil >= heating_consumption else 'Gasboiler'\n",
    "#     elif 'hp' in scenario_name.lower() or 'warmtepomp' in scenario_name.lower():\n",
    "#         return 'Heat Pump'\n",
    "#     elif 'gasboiler' in scenario_name.lower():\n",
    "#         return 'Gasboiler'\n",
    "#     else:\n",
    "#         return 'Gasboiler'\n",
    "\n",
    "# def dhw_system(scenario_name, gas, elec, heating_system):\n",
    "#     if 'heat pump boiler' in scenario_name.lower():\n",
    "#         return 'HP Boiler'\n",
    "#     elif heating_system == 'Heat Pump':\n",
    "#         if gas == 0:\n",
    "#             return 'HP Boiler'\n",
    "#         else:\n",
    "#             return 'Gasboiler'\n",
    "#     else:\n",
    "#         return 'Gasboiler'\n",
    "# df['heating_system'] = df.apply(lambda x: hs(x.scenario_name,\n",
    "#                                              x.gas_consumption,\n",
    "#                                              x.electricity_consumption,\n",
    "#                                              x.oil_consumption,\n",
    "#                                              x.heating_consumption), axis = 1)\n",
    "# df['dhw_system'] = df.apply(lambda x: dhw_system(x.scenario_name,\n",
    "#                                              x.gas_consumption,\n",
    "#                                              x.electricity_consumption,\n",
    "#                                              x.heating_system), axis = 1)"
   ]
  },
  {
   "cell_type": "markdown",
   "metadata": {},
   "source": [
    "data read-in"
   ]
  },
  {
   "cell_type": "code",
   "execution_count": 25,
   "metadata": {},
   "outputs": [],
   "source": [
    "\n",
    "\n",
    "#df = pd.read_csv('data/archetypes_luminus.csv', usecols = COLS)\n",
    "df = pd.read_feather('data/archetypes_luminus_trimmed.ftr')\n",
    "df['tco'] = df.total_investment_cost + df.electricity_consumption*15*ELECTRICITY_PRICE['BE'] + df.gas_consumption*GAS_PRICE['BE'] * 15+ df.total_oil_cost -df.electricity_injected * INJECTION_PRICE['BE'] * 15\n",
    "df['total_co2'] = df.electricity_consumption * 0.171 + df.gas_consumption * 0.056 * 3.6 + df.oil_consumption * 0.074 * 3.6 - df.electricity_injected * 0.171\n",
    "df.loc[ (df['heating_system'] == 'Heat Pump')& (df['dhw_system'] == 'HP Boiler') & (df.oil_consumption == df.domestic_hot_water_consumption), 'electricity_consumption'] = df.electricity_consumption + df.oil_consumption\n",
    "df.loc[ (df['heating_system'] == 'Heat Pump')& (df['dhw_system'] == 'HP Boiler') & (df.oil_consumption == df.domestic_hot_water_consumption), 'oil_consumption'] = 0\n",
    "# df['mapped_epc'] = df.apply(lambda x: map_epc( epc = x.epc_ind, \n",
    "#                                                 co2 = x.total_co2 / x.total_floor_area), axis = 1)\n",
    "optimal_unmodded_temp = df[df.epc_ind<=100].sort_values(by = 'tco', ascending = True).drop_duplicates(subset = 'name', keep = 'first')\n",
    "optimal_unmodded_temp['dataset'] = 'unmodded'\n",
    "optimal_modded_temp = df[df.epc_ind<=100].sort_values(by = 'tco', ascending = True).drop_duplicates(subset = 'name', keep = 'first')\n",
    "optimal_modded_temp['dataset'] = 'modded'\n",
    "\n"
   ]
  },
  {
   "cell_type": "code",
   "execution_count": 26,
   "metadata": {},
   "outputs": [],
   "source": [
    "testcase2 = df[(df['epc_ind'] <= 100) & (df['heating_system'] == 'Heat Pump')& (df['dhw_system'] == 'HP Boiler')].sort_values(by='tco', ascending=True).drop_duplicates(subset=['name'], keep='first')"
   ]
  },
  {
   "cell_type": "code",
   "execution_count": 27,
   "metadata": {},
   "outputs": [
    {
     "data": {
      "text/html": [
       "<div>\n",
       "<style scoped>\n",
       "    .dataframe tbody tr th:only-of-type {\n",
       "        vertical-align: middle;\n",
       "    }\n",
       "\n",
       "    .dataframe tbody tr th {\n",
       "        vertical-align: top;\n",
       "    }\n",
       "\n",
       "    .dataframe thead th {\n",
       "        text-align: right;\n",
       "    }\n",
       "</style>\n",
       "<table border=\"1\" class=\"dataframe\">\n",
       "  <thead>\n",
       "    <tr style=\"text-align: right;\">\n",
       "      <th></th>\n",
       "      <th>heating_consumption</th>\n",
       "      <th>domestic_hot_water_consumption</th>\n",
       "      <th>electricity_consumption</th>\n",
       "      <th>gas_consumption</th>\n",
       "      <th>oil_consumption</th>\n",
       "      <th>scenario_name</th>\n",
       "    </tr>\n",
       "  </thead>\n",
       "  <tbody>\n",
       "  </tbody>\n",
       "</table>\n",
       "</div>"
      ],
      "text/plain": [
       "Empty DataFrame\n",
       "Columns: [heating_consumption, domestic_hot_water_consumption, electricity_consumption, gas_consumption, oil_consumption, scenario_name]\n",
       "Index: []"
      ]
     },
     "execution_count": 27,
     "metadata": {},
     "output_type": "execute_result"
    }
   ],
   "source": [
    "testcase2[testcase2.oil_consumption > 0][['heating_consumption', 'domestic_hot_water_consumption', 'electricity_consumption', 'gas_consumption', 'oil_consumption', 'scenario_name']]"
   ]
  },
  {
   "cell_type": "markdown",
   "metadata": {},
   "source": [
    "fitting 15 year co2 emissions"
   ]
  },
  {
   "cell_type": "code",
   "execution_count": 28,
   "metadata": {},
   "outputs": [
    {
     "data": {
      "application/vnd.plotly.v1+json": {
       "config": {
        "plotlyServerURL": "https://plot.ly"
       },
       "data": [
        {
         "marker": {
          "color": "green",
          "size": 8
         },
         "mode": "markers",
         "name": "central scenario",
         "type": "scatter",
         "x": [
          2020,
          2030,
          2040
         ],
         "y": [
          0.171,
          0.134,
          0.051
         ]
        },
        {
         "marker": {
          "color": "blue",
          "size": 8
         },
         "mode": "markers",
         "name": "electrification scenario",
         "type": "scatter",
         "x": [
          2020,
          2030,
          2040
         ],
         "y": [
          0.171,
          0.096,
          0.019
         ]
        },
        {
         "marker": {
          "color": "green",
          "size": 8
         },
         "mode": "lines",
         "name": "central fit",
         "type": "scatter",
         "x": [
          2020,
          2021,
          2022,
          2023,
          2024,
          2025,
          2026,
          2027,
          2028,
          2029,
          2030,
          2031,
          2032,
          2033,
          2034,
          2035,
          2036,
          2037,
          2038,
          2039,
          2040
         ],
         "y": [
          0.17813383665817434,
          0.16992408636693274,
          0.16209270326919564,
          0.15462224935186375,
          0.147496090276961,
          0.14069835834222524,
          0.13421391714875425,
          0.12802832789703306,
          0.12212781723629437,
          0.1164992465956229,
          0.11113008292851366,
          0.1060083708057416,
          0.10112270579440223,
          0.09646220906384673,
          0.092016503161967,
          0.08777568890789235,
          0.08373032334964464,
          0.07987139873767113,
          0.07619032246743532,
          0.07267889794640446,
          0.06932930634283063
         ]
        },
        {
         "marker": {
          "color": "blue",
          "size": 8
         },
         "mode": "lines",
         "name": "electrification fit",
         "type": "scatter",
         "x": [
          2020,
          2021,
          2022,
          2023,
          2024,
          2025,
          2026,
          2027,
          2028,
          2029,
          2030,
          2031,
          2032,
          2033,
          2034,
          2035,
          2036,
          2037,
          2038,
          2039,
          2040
         ],
         "y": [
          0.17467801782973907,
          0.1615405827781984,
          0.1493912067960117,
          0.13815557851869248,
          0.12776497549750143,
          0.11815584386025,
          0.1092694095855777,
          0.10105131901307106,
          0.09345130639041394,
          0.08642288642412857,
          0.07992306995340166,
          0.0739121010079217,
          0.06835321364144753,
          0.06321240705378701,
          0.05845823762572465,
          0.0540616265948847,
          0.04999568219618415,
          0.04623553517900168,
          0.042758186695007465,
          0.03954236762626328,
          0.03656840849317689
         ]
        }
       ],
       "layout": {
        "height": 400,
        "legend": {
         "bgcolor": "RGBA(255,255,255,0.4)",
         "x": 1,
         "xanchor": "right",
         "y": 0.99,
         "yanchor": "top"
        },
        "margin": {
         "b": 10,
         "l": 50,
         "r": 40,
         "t": 10
        },
        "template": {
         "data": {
          "bar": [
           {
            "error_x": {
             "color": "#2a3f5f"
            },
            "error_y": {
             "color": "#2a3f5f"
            },
            "marker": {
             "line": {
              "color": "#E5ECF6",
              "width": 0.5
             },
             "pattern": {
              "fillmode": "overlay",
              "size": 10,
              "solidity": 0.2
             }
            },
            "type": "bar"
           }
          ],
          "barpolar": [
           {
            "marker": {
             "line": {
              "color": "#E5ECF6",
              "width": 0.5
             },
             "pattern": {
              "fillmode": "overlay",
              "size": 10,
              "solidity": 0.2
             }
            },
            "type": "barpolar"
           }
          ],
          "carpet": [
           {
            "aaxis": {
             "endlinecolor": "#2a3f5f",
             "gridcolor": "white",
             "linecolor": "white",
             "minorgridcolor": "white",
             "startlinecolor": "#2a3f5f"
            },
            "baxis": {
             "endlinecolor": "#2a3f5f",
             "gridcolor": "white",
             "linecolor": "white",
             "minorgridcolor": "white",
             "startlinecolor": "#2a3f5f"
            },
            "type": "carpet"
           }
          ],
          "choropleth": [
           {
            "colorbar": {
             "outlinewidth": 0,
             "ticks": ""
            },
            "type": "choropleth"
           }
          ],
          "contour": [
           {
            "colorbar": {
             "outlinewidth": 0,
             "ticks": ""
            },
            "colorscale": [
             [
              0,
              "#0d0887"
             ],
             [
              0.1111111111111111,
              "#46039f"
             ],
             [
              0.2222222222222222,
              "#7201a8"
             ],
             [
              0.3333333333333333,
              "#9c179e"
             ],
             [
              0.4444444444444444,
              "#bd3786"
             ],
             [
              0.5555555555555556,
              "#d8576b"
             ],
             [
              0.6666666666666666,
              "#ed7953"
             ],
             [
              0.7777777777777778,
              "#fb9f3a"
             ],
             [
              0.8888888888888888,
              "#fdca26"
             ],
             [
              1,
              "#f0f921"
             ]
            ],
            "type": "contour"
           }
          ],
          "contourcarpet": [
           {
            "colorbar": {
             "outlinewidth": 0,
             "ticks": ""
            },
            "type": "contourcarpet"
           }
          ],
          "heatmap": [
           {
            "colorbar": {
             "outlinewidth": 0,
             "ticks": ""
            },
            "colorscale": [
             [
              0,
              "#0d0887"
             ],
             [
              0.1111111111111111,
              "#46039f"
             ],
             [
              0.2222222222222222,
              "#7201a8"
             ],
             [
              0.3333333333333333,
              "#9c179e"
             ],
             [
              0.4444444444444444,
              "#bd3786"
             ],
             [
              0.5555555555555556,
              "#d8576b"
             ],
             [
              0.6666666666666666,
              "#ed7953"
             ],
             [
              0.7777777777777778,
              "#fb9f3a"
             ],
             [
              0.8888888888888888,
              "#fdca26"
             ],
             [
              1,
              "#f0f921"
             ]
            ],
            "type": "heatmap"
           }
          ],
          "heatmapgl": [
           {
            "colorbar": {
             "outlinewidth": 0,
             "ticks": ""
            },
            "colorscale": [
             [
              0,
              "#0d0887"
             ],
             [
              0.1111111111111111,
              "#46039f"
             ],
             [
              0.2222222222222222,
              "#7201a8"
             ],
             [
              0.3333333333333333,
              "#9c179e"
             ],
             [
              0.4444444444444444,
              "#bd3786"
             ],
             [
              0.5555555555555556,
              "#d8576b"
             ],
             [
              0.6666666666666666,
              "#ed7953"
             ],
             [
              0.7777777777777778,
              "#fb9f3a"
             ],
             [
              0.8888888888888888,
              "#fdca26"
             ],
             [
              1,
              "#f0f921"
             ]
            ],
            "type": "heatmapgl"
           }
          ],
          "histogram": [
           {
            "marker": {
             "pattern": {
              "fillmode": "overlay",
              "size": 10,
              "solidity": 0.2
             }
            },
            "type": "histogram"
           }
          ],
          "histogram2d": [
           {
            "colorbar": {
             "outlinewidth": 0,
             "ticks": ""
            },
            "colorscale": [
             [
              0,
              "#0d0887"
             ],
             [
              0.1111111111111111,
              "#46039f"
             ],
             [
              0.2222222222222222,
              "#7201a8"
             ],
             [
              0.3333333333333333,
              "#9c179e"
             ],
             [
              0.4444444444444444,
              "#bd3786"
             ],
             [
              0.5555555555555556,
              "#d8576b"
             ],
             [
              0.6666666666666666,
              "#ed7953"
             ],
             [
              0.7777777777777778,
              "#fb9f3a"
             ],
             [
              0.8888888888888888,
              "#fdca26"
             ],
             [
              1,
              "#f0f921"
             ]
            ],
            "type": "histogram2d"
           }
          ],
          "histogram2dcontour": [
           {
            "colorbar": {
             "outlinewidth": 0,
             "ticks": ""
            },
            "colorscale": [
             [
              0,
              "#0d0887"
             ],
             [
              0.1111111111111111,
              "#46039f"
             ],
             [
              0.2222222222222222,
              "#7201a8"
             ],
             [
              0.3333333333333333,
              "#9c179e"
             ],
             [
              0.4444444444444444,
              "#bd3786"
             ],
             [
              0.5555555555555556,
              "#d8576b"
             ],
             [
              0.6666666666666666,
              "#ed7953"
             ],
             [
              0.7777777777777778,
              "#fb9f3a"
             ],
             [
              0.8888888888888888,
              "#fdca26"
             ],
             [
              1,
              "#f0f921"
             ]
            ],
            "type": "histogram2dcontour"
           }
          ],
          "mesh3d": [
           {
            "colorbar": {
             "outlinewidth": 0,
             "ticks": ""
            },
            "type": "mesh3d"
           }
          ],
          "parcoords": [
           {
            "line": {
             "colorbar": {
              "outlinewidth": 0,
              "ticks": ""
             }
            },
            "type": "parcoords"
           }
          ],
          "pie": [
           {
            "automargin": true,
            "type": "pie"
           }
          ],
          "scatter": [
           {
            "fillpattern": {
             "fillmode": "overlay",
             "size": 10,
             "solidity": 0.2
            },
            "type": "scatter"
           }
          ],
          "scatter3d": [
           {
            "line": {
             "colorbar": {
              "outlinewidth": 0,
              "ticks": ""
             }
            },
            "marker": {
             "colorbar": {
              "outlinewidth": 0,
              "ticks": ""
             }
            },
            "type": "scatter3d"
           }
          ],
          "scattercarpet": [
           {
            "marker": {
             "colorbar": {
              "outlinewidth": 0,
              "ticks": ""
             }
            },
            "type": "scattercarpet"
           }
          ],
          "scattergeo": [
           {
            "marker": {
             "colorbar": {
              "outlinewidth": 0,
              "ticks": ""
             }
            },
            "type": "scattergeo"
           }
          ],
          "scattergl": [
           {
            "marker": {
             "colorbar": {
              "outlinewidth": 0,
              "ticks": ""
             }
            },
            "type": "scattergl"
           }
          ],
          "scattermapbox": [
           {
            "marker": {
             "colorbar": {
              "outlinewidth": 0,
              "ticks": ""
             }
            },
            "type": "scattermapbox"
           }
          ],
          "scatterpolar": [
           {
            "marker": {
             "colorbar": {
              "outlinewidth": 0,
              "ticks": ""
             }
            },
            "type": "scatterpolar"
           }
          ],
          "scatterpolargl": [
           {
            "marker": {
             "colorbar": {
              "outlinewidth": 0,
              "ticks": ""
             }
            },
            "type": "scatterpolargl"
           }
          ],
          "scatterternary": [
           {
            "marker": {
             "colorbar": {
              "outlinewidth": 0,
              "ticks": ""
             }
            },
            "type": "scatterternary"
           }
          ],
          "surface": [
           {
            "colorbar": {
             "outlinewidth": 0,
             "ticks": ""
            },
            "colorscale": [
             [
              0,
              "#0d0887"
             ],
             [
              0.1111111111111111,
              "#46039f"
             ],
             [
              0.2222222222222222,
              "#7201a8"
             ],
             [
              0.3333333333333333,
              "#9c179e"
             ],
             [
              0.4444444444444444,
              "#bd3786"
             ],
             [
              0.5555555555555556,
              "#d8576b"
             ],
             [
              0.6666666666666666,
              "#ed7953"
             ],
             [
              0.7777777777777778,
              "#fb9f3a"
             ],
             [
              0.8888888888888888,
              "#fdca26"
             ],
             [
              1,
              "#f0f921"
             ]
            ],
            "type": "surface"
           }
          ],
          "table": [
           {
            "cells": {
             "fill": {
              "color": "#EBF0F8"
             },
             "line": {
              "color": "white"
             }
            },
            "header": {
             "fill": {
              "color": "#C8D4E3"
             },
             "line": {
              "color": "white"
             }
            },
            "type": "table"
           }
          ]
         },
         "layout": {
          "annotationdefaults": {
           "arrowcolor": "#2a3f5f",
           "arrowhead": 0,
           "arrowwidth": 1
          },
          "autotypenumbers": "strict",
          "coloraxis": {
           "colorbar": {
            "outlinewidth": 0,
            "ticks": ""
           }
          },
          "colorscale": {
           "diverging": [
            [
             0,
             "#8e0152"
            ],
            [
             0.1,
             "#c51b7d"
            ],
            [
             0.2,
             "#de77ae"
            ],
            [
             0.3,
             "#f1b6da"
            ],
            [
             0.4,
             "#fde0ef"
            ],
            [
             0.5,
             "#f7f7f7"
            ],
            [
             0.6,
             "#e6f5d0"
            ],
            [
             0.7,
             "#b8e186"
            ],
            [
             0.8,
             "#7fbc41"
            ],
            [
             0.9,
             "#4d9221"
            ],
            [
             1,
             "#276419"
            ]
           ],
           "sequential": [
            [
             0,
             "#0d0887"
            ],
            [
             0.1111111111111111,
             "#46039f"
            ],
            [
             0.2222222222222222,
             "#7201a8"
            ],
            [
             0.3333333333333333,
             "#9c179e"
            ],
            [
             0.4444444444444444,
             "#bd3786"
            ],
            [
             0.5555555555555556,
             "#d8576b"
            ],
            [
             0.6666666666666666,
             "#ed7953"
            ],
            [
             0.7777777777777778,
             "#fb9f3a"
            ],
            [
             0.8888888888888888,
             "#fdca26"
            ],
            [
             1,
             "#f0f921"
            ]
           ],
           "sequentialminus": [
            [
             0,
             "#0d0887"
            ],
            [
             0.1111111111111111,
             "#46039f"
            ],
            [
             0.2222222222222222,
             "#7201a8"
            ],
            [
             0.3333333333333333,
             "#9c179e"
            ],
            [
             0.4444444444444444,
             "#bd3786"
            ],
            [
             0.5555555555555556,
             "#d8576b"
            ],
            [
             0.6666666666666666,
             "#ed7953"
            ],
            [
             0.7777777777777778,
             "#fb9f3a"
            ],
            [
             0.8888888888888888,
             "#fdca26"
            ],
            [
             1,
             "#f0f921"
            ]
           ]
          },
          "colorway": [
           "#636efa",
           "#EF553B",
           "#00cc96",
           "#ab63fa",
           "#FFA15A",
           "#19d3f3",
           "#FF6692",
           "#B6E880",
           "#FF97FF",
           "#FECB52"
          ],
          "font": {
           "color": "#2a3f5f"
          },
          "geo": {
           "bgcolor": "white",
           "lakecolor": "white",
           "landcolor": "#E5ECF6",
           "showlakes": true,
           "showland": true,
           "subunitcolor": "white"
          },
          "hoverlabel": {
           "align": "left"
          },
          "hovermode": "closest",
          "mapbox": {
           "style": "light"
          },
          "paper_bgcolor": "white",
          "plot_bgcolor": "#E5ECF6",
          "polar": {
           "angularaxis": {
            "gridcolor": "white",
            "linecolor": "white",
            "ticks": ""
           },
           "bgcolor": "#E5ECF6",
           "radialaxis": {
            "gridcolor": "white",
            "linecolor": "white",
            "ticks": ""
           }
          },
          "scene": {
           "xaxis": {
            "backgroundcolor": "#E5ECF6",
            "gridcolor": "white",
            "gridwidth": 2,
            "linecolor": "white",
            "showbackground": true,
            "ticks": "",
            "zerolinecolor": "white"
           },
           "yaxis": {
            "backgroundcolor": "#E5ECF6",
            "gridcolor": "white",
            "gridwidth": 2,
            "linecolor": "white",
            "showbackground": true,
            "ticks": "",
            "zerolinecolor": "white"
           },
           "zaxis": {
            "backgroundcolor": "#E5ECF6",
            "gridcolor": "white",
            "gridwidth": 2,
            "linecolor": "white",
            "showbackground": true,
            "ticks": "",
            "zerolinecolor": "white"
           }
          },
          "shapedefaults": {
           "line": {
            "color": "#2a3f5f"
           }
          },
          "ternary": {
           "aaxis": {
            "gridcolor": "white",
            "linecolor": "white",
            "ticks": ""
           },
           "baxis": {
            "gridcolor": "white",
            "linecolor": "white",
            "ticks": ""
           },
           "bgcolor": "#E5ECF6",
           "caxis": {
            "gridcolor": "white",
            "linecolor": "white",
            "ticks": ""
           }
          },
          "title": {
           "x": 0.05
          },
          "xaxis": {
           "automargin": true,
           "gridcolor": "white",
           "linecolor": "white",
           "ticks": "",
           "title": {
            "standoff": 15
           },
           "zerolinecolor": "white",
           "zerolinewidth": 2
          },
          "yaxis": {
           "automargin": true,
           "gridcolor": "white",
           "linecolor": "white",
           "ticks": "",
           "title": {
            "standoff": 15
           },
           "zerolinecolor": "white",
           "zerolinewidth": 2
          }
         }
        },
        "width": 800,
        "xaxis": {
         "title": {
          "text": "Year"
         }
        },
        "yaxis": {
         "title": {
          "text": "CO₂ intensity (kg/kWh)"
         }
        }
       }
      },
      "text/html": [
       "<div>                            <div id=\"6d391800-25c6-4c29-99d2-4747ced46f8b\" class=\"plotly-graph-div\" style=\"height:400px; width:800px;\"></div>            <script type=\"text/javascript\">                require([\"plotly\"], function(Plotly) {                    window.PLOTLYENV=window.PLOTLYENV || {};                                    if (document.getElementById(\"6d391800-25c6-4c29-99d2-4747ced46f8b\")) {                    Plotly.newPlot(                        \"6d391800-25c6-4c29-99d2-4747ced46f8b\",                        [{\"marker\":{\"color\":\"green\",\"size\":8},\"mode\":\"markers\",\"name\":\"central scenario\",\"x\":[2020,2030,2040],\"y\":[0.171,0.134,0.051],\"type\":\"scatter\"},{\"marker\":{\"color\":\"blue\",\"size\":8},\"mode\":\"markers\",\"name\":\"electrification scenario\",\"x\":[2020,2030,2040],\"y\":[0.171,0.096,0.019],\"type\":\"scatter\"},{\"marker\":{\"color\":\"green\",\"size\":8},\"mode\":\"lines\",\"name\":\"central fit\",\"x\":[2020.0,2021.0,2022.0,2023.0,2024.0,2025.0,2026.0,2027.0,2028.0,2029.0,2030.0,2031.0,2032.0,2033.0,2034.0,2035.0,2036.0,2037.0,2038.0,2039.0,2040.0],\"y\":[0.17813383665817434,0.16992408636693274,0.16209270326919564,0.15462224935186375,0.147496090276961,0.14069835834222524,0.13421391714875425,0.12802832789703306,0.12212781723629437,0.1164992465956229,0.11113008292851366,0.1060083708057416,0.10112270579440223,0.09646220906384673,0.092016503161967,0.08777568890789235,0.08373032334964464,0.07987139873767113,0.07619032246743532,0.07267889794640446,0.06932930634283063],\"type\":\"scatter\"},{\"marker\":{\"color\":\"blue\",\"size\":8},\"mode\":\"lines\",\"name\":\"electrification fit\",\"x\":[2020.0,2021.0,2022.0,2023.0,2024.0,2025.0,2026.0,2027.0,2028.0,2029.0,2030.0,2031.0,2032.0,2033.0,2034.0,2035.0,2036.0,2037.0,2038.0,2039.0,2040.0],\"y\":[0.17467801782973907,0.1615405827781984,0.1493912067960117,0.13815557851869248,0.12776497549750143,0.11815584386025,0.1092694095855777,0.10105131901307106,0.09345130639041394,0.08642288642412857,0.07992306995340166,0.0739121010079217,0.06835321364144753,0.06321240705378701,0.05845823762572465,0.0540616265948847,0.04999568219618415,0.04623553517900168,0.042758186695007465,0.03954236762626328,0.03656840849317689],\"type\":\"scatter\"}],                        {\"template\":{\"data\":{\"histogram2dcontour\":[{\"type\":\"histogram2dcontour\",\"colorbar\":{\"outlinewidth\":0,\"ticks\":\"\"},\"colorscale\":[[0.0,\"#0d0887\"],[0.1111111111111111,\"#46039f\"],[0.2222222222222222,\"#7201a8\"],[0.3333333333333333,\"#9c179e\"],[0.4444444444444444,\"#bd3786\"],[0.5555555555555556,\"#d8576b\"],[0.6666666666666666,\"#ed7953\"],[0.7777777777777778,\"#fb9f3a\"],[0.8888888888888888,\"#fdca26\"],[1.0,\"#f0f921\"]]}],\"choropleth\":[{\"type\":\"choropleth\",\"colorbar\":{\"outlinewidth\":0,\"ticks\":\"\"}}],\"histogram2d\":[{\"type\":\"histogram2d\",\"colorbar\":{\"outlinewidth\":0,\"ticks\":\"\"},\"colorscale\":[[0.0,\"#0d0887\"],[0.1111111111111111,\"#46039f\"],[0.2222222222222222,\"#7201a8\"],[0.3333333333333333,\"#9c179e\"],[0.4444444444444444,\"#bd3786\"],[0.5555555555555556,\"#d8576b\"],[0.6666666666666666,\"#ed7953\"],[0.7777777777777778,\"#fb9f3a\"],[0.8888888888888888,\"#fdca26\"],[1.0,\"#f0f921\"]]}],\"heatmap\":[{\"type\":\"heatmap\",\"colorbar\":{\"outlinewidth\":0,\"ticks\":\"\"},\"colorscale\":[[0.0,\"#0d0887\"],[0.1111111111111111,\"#46039f\"],[0.2222222222222222,\"#7201a8\"],[0.3333333333333333,\"#9c179e\"],[0.4444444444444444,\"#bd3786\"],[0.5555555555555556,\"#d8576b\"],[0.6666666666666666,\"#ed7953\"],[0.7777777777777778,\"#fb9f3a\"],[0.8888888888888888,\"#fdca26\"],[1.0,\"#f0f921\"]]}],\"heatmapgl\":[{\"type\":\"heatmapgl\",\"colorbar\":{\"outlinewidth\":0,\"ticks\":\"\"},\"colorscale\":[[0.0,\"#0d0887\"],[0.1111111111111111,\"#46039f\"],[0.2222222222222222,\"#7201a8\"],[0.3333333333333333,\"#9c179e\"],[0.4444444444444444,\"#bd3786\"],[0.5555555555555556,\"#d8576b\"],[0.6666666666666666,\"#ed7953\"],[0.7777777777777778,\"#fb9f3a\"],[0.8888888888888888,\"#fdca26\"],[1.0,\"#f0f921\"]]}],\"contourcarpet\":[{\"type\":\"contourcarpet\",\"colorbar\":{\"outlinewidth\":0,\"ticks\":\"\"}}],\"contour\":[{\"type\":\"contour\",\"colorbar\":{\"outlinewidth\":0,\"ticks\":\"\"},\"colorscale\":[[0.0,\"#0d0887\"],[0.1111111111111111,\"#46039f\"],[0.2222222222222222,\"#7201a8\"],[0.3333333333333333,\"#9c179e\"],[0.4444444444444444,\"#bd3786\"],[0.5555555555555556,\"#d8576b\"],[0.6666666666666666,\"#ed7953\"],[0.7777777777777778,\"#fb9f3a\"],[0.8888888888888888,\"#fdca26\"],[1.0,\"#f0f921\"]]}],\"surface\":[{\"type\":\"surface\",\"colorbar\":{\"outlinewidth\":0,\"ticks\":\"\"},\"colorscale\":[[0.0,\"#0d0887\"],[0.1111111111111111,\"#46039f\"],[0.2222222222222222,\"#7201a8\"],[0.3333333333333333,\"#9c179e\"],[0.4444444444444444,\"#bd3786\"],[0.5555555555555556,\"#d8576b\"],[0.6666666666666666,\"#ed7953\"],[0.7777777777777778,\"#fb9f3a\"],[0.8888888888888888,\"#fdca26\"],[1.0,\"#f0f921\"]]}],\"mesh3d\":[{\"type\":\"mesh3d\",\"colorbar\":{\"outlinewidth\":0,\"ticks\":\"\"}}],\"scatter\":[{\"fillpattern\":{\"fillmode\":\"overlay\",\"size\":10,\"solidity\":0.2},\"type\":\"scatter\"}],\"parcoords\":[{\"type\":\"parcoords\",\"line\":{\"colorbar\":{\"outlinewidth\":0,\"ticks\":\"\"}}}],\"scatterpolargl\":[{\"type\":\"scatterpolargl\",\"marker\":{\"colorbar\":{\"outlinewidth\":0,\"ticks\":\"\"}}}],\"bar\":[{\"error_x\":{\"color\":\"#2a3f5f\"},\"error_y\":{\"color\":\"#2a3f5f\"},\"marker\":{\"line\":{\"color\":\"#E5ECF6\",\"width\":0.5},\"pattern\":{\"fillmode\":\"overlay\",\"size\":10,\"solidity\":0.2}},\"type\":\"bar\"}],\"scattergeo\":[{\"type\":\"scattergeo\",\"marker\":{\"colorbar\":{\"outlinewidth\":0,\"ticks\":\"\"}}}],\"scatterpolar\":[{\"type\":\"scatterpolar\",\"marker\":{\"colorbar\":{\"outlinewidth\":0,\"ticks\":\"\"}}}],\"histogram\":[{\"marker\":{\"pattern\":{\"fillmode\":\"overlay\",\"size\":10,\"solidity\":0.2}},\"type\":\"histogram\"}],\"scattergl\":[{\"type\":\"scattergl\",\"marker\":{\"colorbar\":{\"outlinewidth\":0,\"ticks\":\"\"}}}],\"scatter3d\":[{\"type\":\"scatter3d\",\"line\":{\"colorbar\":{\"outlinewidth\":0,\"ticks\":\"\"}},\"marker\":{\"colorbar\":{\"outlinewidth\":0,\"ticks\":\"\"}}}],\"scattermapbox\":[{\"type\":\"scattermapbox\",\"marker\":{\"colorbar\":{\"outlinewidth\":0,\"ticks\":\"\"}}}],\"scatterternary\":[{\"type\":\"scatterternary\",\"marker\":{\"colorbar\":{\"outlinewidth\":0,\"ticks\":\"\"}}}],\"scattercarpet\":[{\"type\":\"scattercarpet\",\"marker\":{\"colorbar\":{\"outlinewidth\":0,\"ticks\":\"\"}}}],\"carpet\":[{\"aaxis\":{\"endlinecolor\":\"#2a3f5f\",\"gridcolor\":\"white\",\"linecolor\":\"white\",\"minorgridcolor\":\"white\",\"startlinecolor\":\"#2a3f5f\"},\"baxis\":{\"endlinecolor\":\"#2a3f5f\",\"gridcolor\":\"white\",\"linecolor\":\"white\",\"minorgridcolor\":\"white\",\"startlinecolor\":\"#2a3f5f\"},\"type\":\"carpet\"}],\"table\":[{\"cells\":{\"fill\":{\"color\":\"#EBF0F8\"},\"line\":{\"color\":\"white\"}},\"header\":{\"fill\":{\"color\":\"#C8D4E3\"},\"line\":{\"color\":\"white\"}},\"type\":\"table\"}],\"barpolar\":[{\"marker\":{\"line\":{\"color\":\"#E5ECF6\",\"width\":0.5},\"pattern\":{\"fillmode\":\"overlay\",\"size\":10,\"solidity\":0.2}},\"type\":\"barpolar\"}],\"pie\":[{\"automargin\":true,\"type\":\"pie\"}]},\"layout\":{\"autotypenumbers\":\"strict\",\"colorway\":[\"#636efa\",\"#EF553B\",\"#00cc96\",\"#ab63fa\",\"#FFA15A\",\"#19d3f3\",\"#FF6692\",\"#B6E880\",\"#FF97FF\",\"#FECB52\"],\"font\":{\"color\":\"#2a3f5f\"},\"hovermode\":\"closest\",\"hoverlabel\":{\"align\":\"left\"},\"paper_bgcolor\":\"white\",\"plot_bgcolor\":\"#E5ECF6\",\"polar\":{\"bgcolor\":\"#E5ECF6\",\"angularaxis\":{\"gridcolor\":\"white\",\"linecolor\":\"white\",\"ticks\":\"\"},\"radialaxis\":{\"gridcolor\":\"white\",\"linecolor\":\"white\",\"ticks\":\"\"}},\"ternary\":{\"bgcolor\":\"#E5ECF6\",\"aaxis\":{\"gridcolor\":\"white\",\"linecolor\":\"white\",\"ticks\":\"\"},\"baxis\":{\"gridcolor\":\"white\",\"linecolor\":\"white\",\"ticks\":\"\"},\"caxis\":{\"gridcolor\":\"white\",\"linecolor\":\"white\",\"ticks\":\"\"}},\"coloraxis\":{\"colorbar\":{\"outlinewidth\":0,\"ticks\":\"\"}},\"colorscale\":{\"sequential\":[[0.0,\"#0d0887\"],[0.1111111111111111,\"#46039f\"],[0.2222222222222222,\"#7201a8\"],[0.3333333333333333,\"#9c179e\"],[0.4444444444444444,\"#bd3786\"],[0.5555555555555556,\"#d8576b\"],[0.6666666666666666,\"#ed7953\"],[0.7777777777777778,\"#fb9f3a\"],[0.8888888888888888,\"#fdca26\"],[1.0,\"#f0f921\"]],\"sequentialminus\":[[0.0,\"#0d0887\"],[0.1111111111111111,\"#46039f\"],[0.2222222222222222,\"#7201a8\"],[0.3333333333333333,\"#9c179e\"],[0.4444444444444444,\"#bd3786\"],[0.5555555555555556,\"#d8576b\"],[0.6666666666666666,\"#ed7953\"],[0.7777777777777778,\"#fb9f3a\"],[0.8888888888888888,\"#fdca26\"],[1.0,\"#f0f921\"]],\"diverging\":[[0,\"#8e0152\"],[0.1,\"#c51b7d\"],[0.2,\"#de77ae\"],[0.3,\"#f1b6da\"],[0.4,\"#fde0ef\"],[0.5,\"#f7f7f7\"],[0.6,\"#e6f5d0\"],[0.7,\"#b8e186\"],[0.8,\"#7fbc41\"],[0.9,\"#4d9221\"],[1,\"#276419\"]]},\"xaxis\":{\"gridcolor\":\"white\",\"linecolor\":\"white\",\"ticks\":\"\",\"title\":{\"standoff\":15},\"zerolinecolor\":\"white\",\"automargin\":true,\"zerolinewidth\":2},\"yaxis\":{\"gridcolor\":\"white\",\"linecolor\":\"white\",\"ticks\":\"\",\"title\":{\"standoff\":15},\"zerolinecolor\":\"white\",\"automargin\":true,\"zerolinewidth\":2},\"scene\":{\"xaxis\":{\"backgroundcolor\":\"#E5ECF6\",\"gridcolor\":\"white\",\"linecolor\":\"white\",\"showbackground\":true,\"ticks\":\"\",\"zerolinecolor\":\"white\",\"gridwidth\":2},\"yaxis\":{\"backgroundcolor\":\"#E5ECF6\",\"gridcolor\":\"white\",\"linecolor\":\"white\",\"showbackground\":true,\"ticks\":\"\",\"zerolinecolor\":\"white\",\"gridwidth\":2},\"zaxis\":{\"backgroundcolor\":\"#E5ECF6\",\"gridcolor\":\"white\",\"linecolor\":\"white\",\"showbackground\":true,\"ticks\":\"\",\"zerolinecolor\":\"white\",\"gridwidth\":2}},\"shapedefaults\":{\"line\":{\"color\":\"#2a3f5f\"}},\"annotationdefaults\":{\"arrowcolor\":\"#2a3f5f\",\"arrowhead\":0,\"arrowwidth\":1},\"geo\":{\"bgcolor\":\"white\",\"landcolor\":\"#E5ECF6\",\"subunitcolor\":\"white\",\"showland\":true,\"showlakes\":true,\"lakecolor\":\"white\"},\"title\":{\"x\":0.05},\"mapbox\":{\"style\":\"light\"}}},\"legend\":{\"yanchor\":\"top\",\"y\":0.99,\"xanchor\":\"right\",\"x\":1,\"bgcolor\":\"RGBA(255,255,255,0.4)\"},\"margin\":{\"l\":50,\"b\":10,\"t\":10,\"r\":40},\"width\":800,\"height\":400,\"xaxis\":{\"title\":{\"text\":\"Year\"}},\"yaxis\":{\"title\":{\"text\":\"CO\\u2082 intensity (kg\\u002fkWh)\"}}},                        {\"responsive\": true}                    ).then(function(){\n",
       "                            \n",
       "var gd = document.getElementById('6d391800-25c6-4c29-99d2-4747ced46f8b');\n",
       "var x = new MutationObserver(function (mutations, observer) {{\n",
       "        var display = window.getComputedStyle(gd).display;\n",
       "        if (!display || display === 'none') {{\n",
       "            console.log([gd, 'removed!']);\n",
       "            Plotly.purge(gd);\n",
       "            observer.disconnect();\n",
       "        }}\n",
       "}});\n",
       "\n",
       "// Listen for the removal of the full notebook cells\n",
       "var notebookContainer = gd.closest('#notebook-container');\n",
       "if (notebookContainer) {{\n",
       "    x.observe(notebookContainer, {childList: true});\n",
       "}}\n",
       "\n",
       "// Listen for the clearing of the current output cell\n",
       "var outputEl = gd.closest('.output');\n",
       "if (outputEl) {{\n",
       "    x.observe(outputEl, {childList: true});\n",
       "}}\n",
       "\n",
       "                        })                };                });            </script>        </div>"
      ]
     },
     "metadata": {},
     "output_type": "display_data"
    }
   ],
   "source": [
    "x_fit, y_fit_central, y_fit_electrification, fig = fit_co2(central_scenario = ELEC_CO2_INTENSITY, electrification_scenario = ELEC_CO2_INTENSITY_ELECTRIFICATION, returnplot = True)\n",
    "# Plot the data and the fit\n",
    "fig.show()"
   ]
  },
  {
   "cell_type": "code",
   "execution_count": 29,
   "metadata": {},
   "outputs": [],
   "source": [
    "# # Convert dictionary to arrays\n",
    "# years = np.array(list(ELEC_CO2_INTENSITY.keys()))\n",
    "# central_scenario = np.array(list(ELEC_CO2_INTENSITY.values()))\n",
    "# electrification_scenario = np.array(list(ELEC_CO2_INTENSITY_ELECTRIFICATION.values()))\n",
    "\n",
    "# # Exponential decay function\n",
    "# def exp_decay(x, a, b):\n",
    "#     return a * np.exp(b * x)\n",
    "\n",
    "# # Fit the central scenario data\n",
    "# popt_central, pcov_central = curve_fit(exp_decay, years - 2020, central_scenario, p0=(0.171, -0.1))\n",
    "# a_central, b_central = popt_central\n",
    "\n",
    "# # Fit the electrification scenario data\n",
    "# popt_electrification, pcov_electrification = curve_fit(exp_decay, years - 2020, electrification_scenario, p0=(0.171, -0.1))\n",
    "# a_electrification, b_electrification = popt_electrification\n",
    "\n",
    "# # Generate data for plotting\n",
    "# x_fit = np.linspace(2020, 2040, 21)\n",
    "# y_fit_central = exp_decay(x_fit - 2020, *popt_central)\n",
    "# y_fit_electrification = exp_decay(x_fit - 2020, *popt_electrification)\n",
    "# Plot the data and the fit\n",
    "# fig = plt.figure(figsize=(10, 6))\n",
    "# plt.plot(years, central_scenario, 'o', label='Central Scenario Data')\n",
    "# plt.plot(x_fit, y_fit_central, '-', label=f'Central Scenario Fit: a={a_central:.3f}, b={b_central:.3f}')\n",
    "# plt.plot(years, electrification_scenario, 'o', label='Electrification Scenario Data')\n",
    "# plt.plot(x_fit, y_fit_electrification, '-', label=f'Electrification Scenario Fit: a={a_electrification:.3f}, b={b_electrification:.3f}')\n",
    "# plt.xlabel('Year')\n",
    "# plt.ylabel('CO2 Intensity (kg/kWh)')\n",
    "# plt.title('CO2 Intensity Projections until 2040')\n",
    "# plt.legend()\n",
    "# plt.grid(True)\n",
    "# plt.show()\n"
   ]
  },
  {
   "cell_type": "code",
   "execution_count": 30,
   "metadata": {},
   "outputs": [],
   "source": [
    "#we modify solar panels, and we also calculate yearly co2 emissions based on the co2 intensity of electricity for each year\n",
    "df = dynamic_co2(df, x_fit, y_fit_central, start_year = 2025, solar = True)\n",
    "df = mod_solar(df, co2_flag=True)\n",
    "\n",
    "years = np.arange(2025, 2025 + len(y_fit_central[5:]))\n",
    "for year in range(len(years)):\n",
    "    df[f'solar_injection_emissions_{year + 2025}'] = (\n",
    "        df[f'modified_emissions_{year + 2025}'] - \n",
    "        df[f'emissions_{year + 2025}'] \n",
    "    )"
   ]
  },
  {
   "cell_type": "code",
   "execution_count": 31,
   "metadata": {},
   "outputs": [
    {
     "name": "stdout",
     "output_type": "stream",
     "text": [
      "Unnamed: 0\n",
      "epc_ind\n",
      "epc_label\n",
      "total_co2\n",
      "scenario_name\n",
      "gas_consumption\n",
      "oil_consumption\n",
      "total_floor_area\n",
      "heating_consumption\n",
      "electricity_injected\n",
      "total_investment_cost\n",
      "electricity_consumption\n",
      "domestic_hot_water_consumption\n",
      "total_subsidies\n",
      "total_oil_cost\n",
      "pv_production\n",
      "name\n",
      "building_type\n",
      "construction_year\n",
      "scale_kadaster\n",
      "heating_system\n",
      "tco\n",
      "dhw_system\n",
      "emissions_2025\n",
      "fossil_emissions_2025\n",
      "electricity_emissions_2025\n",
      "modified_emissions_2025\n",
      "emissions_2026\n",
      "fossil_emissions_2026\n",
      "electricity_emissions_2026\n",
      "modified_emissions_2026\n",
      "emissions_2027\n",
      "fossil_emissions_2027\n",
      "electricity_emissions_2027\n",
      "modified_emissions_2027\n",
      "emissions_2028\n",
      "fossil_emissions_2028\n",
      "electricity_emissions_2028\n",
      "modified_emissions_2028\n",
      "emissions_2029\n",
      "fossil_emissions_2029\n",
      "electricity_emissions_2029\n",
      "modified_emissions_2029\n",
      "emissions_2030\n",
      "fossil_emissions_2030\n",
      "electricity_emissions_2030\n",
      "modified_emissions_2030\n",
      "emissions_2031\n",
      "fossil_emissions_2031\n",
      "electricity_emissions_2031\n",
      "modified_emissions_2031\n",
      "emissions_2032\n",
      "fossil_emissions_2032\n",
      "electricity_emissions_2032\n",
      "modified_emissions_2032\n",
      "emissions_2033\n",
      "fossil_emissions_2033\n",
      "electricity_emissions_2033\n",
      "modified_emissions_2033\n",
      "emissions_2034\n",
      "fossil_emissions_2034\n",
      "electricity_emissions_2034\n",
      "modified_emissions_2034\n",
      "emissions_2035\n",
      "fossil_emissions_2035\n",
      "electricity_emissions_2035\n",
      "modified_emissions_2035\n",
      "emissions_2036\n",
      "fossil_emissions_2036\n",
      "electricity_emissions_2036\n",
      "modified_emissions_2036\n",
      "emissions_2037\n",
      "fossil_emissions_2037\n",
      "electricity_emissions_2037\n",
      "modified_emissions_2037\n",
      "emissions_2038\n",
      "fossil_emissions_2038\n",
      "electricity_emissions_2038\n",
      "modified_emissions_2038\n",
      "emissions_2039\n",
      "fossil_emissions_2039\n",
      "electricity_emissions_2039\n",
      "modified_emissions_2039\n",
      "emissions_2040\n",
      "fossil_emissions_2040\n",
      "electricity_emissions_2040\n",
      "modified_emissions_2040\n",
      "total_emissions\n",
      "modified_total_emissions\n",
      "total_co2_modified\n",
      "epc_ind_modified\n",
      "solar_injection_emissions_2025\n",
      "solar_injection_emissions_2026\n",
      "solar_injection_emissions_2027\n",
      "solar_injection_emissions_2028\n",
      "solar_injection_emissions_2029\n",
      "solar_injection_emissions_2030\n",
      "solar_injection_emissions_2031\n",
      "solar_injection_emissions_2032\n",
      "solar_injection_emissions_2033\n",
      "solar_injection_emissions_2034\n",
      "solar_injection_emissions_2035\n",
      "solar_injection_emissions_2036\n",
      "solar_injection_emissions_2037\n",
      "solar_injection_emissions_2038\n",
      "solar_injection_emissions_2039\n",
      "solar_injection_emissions_2040\n"
     ]
    }
   ],
   "source": [
    "for x in df.columns:\n",
    "    print(x)"
   ]
  },
  {
   "cell_type": "markdown",
   "metadata": {},
   "source": [
    "basic analyses"
   ]
  },
  {
   "cell_type": "code",
   "execution_count": 32,
   "metadata": {},
   "outputs": [
    {
     "data": {
      "application/vnd.plotly.v1+json": {
       "config": {
        "plotlyServerURL": "https://plot.ly"
       },
       "data": [
        {
         "mode": "lines+markers",
         "name": "Heat Pump + Gasboiler",
         "type": "scatter",
         "x": [
          2025,
          2026,
          2027,
          2028,
          2029,
          2030,
          2031,
          2032,
          2033,
          2034,
          2035,
          2036,
          2037,
          2038,
          2039,
          2040
         ],
         "y": [
          755.2195095158647,
          1504.9466973408596,
          2249.4346910696468,
          2988.924952268788,
          3723.6478141352804,
          4453.8229943757315,
          5179.6600844481945,
          5901.359016256053,
          6619.110507333131,
          7333.096485511317,
          8043.490494016301,
          8750.45807789345,
          9454.157152624259,
          10154.738355754176,
          10852.345382314781,
          11547.11530478716
         ]
        },
        {
         "mode": "lines+markers",
         "name": "modified Heat Pump + Gasboiler",
         "type": "scatter",
         "x": [
          2025,
          2026,
          2027,
          2028,
          2029,
          2030,
          2031,
          2032,
          2033,
          2034,
          2035,
          2036,
          2037,
          2038,
          2039,
          2040
         ],
         "y": [
          755.2195095158647,
          1504.9466973408596,
          2249.4346910696468,
          2988.924952268788,
          3723.6478141352804,
          4453.8229943757315,
          5179.6600844481945,
          5901.359016256053,
          6619.110507333131,
          7333.096485511317,
          8043.490494016301,
          8750.45807789345,
          9454.157152624259,
          10154.738355754176,
          10852.345382314781,
          11547.11530478716
         ]
        },
        {
         "mode": "lines+markers",
         "name": "standard Heat Pump + Gasboiler",
         "type": "scatter",
         "x": [
          2025,
          2026,
          2027,
          2028,
          2029,
          2030,
          2031,
          2032,
          2033,
          2034,
          2035,
          2036,
          2037,
          2038,
          2039,
          2040
         ],
         "y": [
          780.885,
          1561.77,
          2342.6549999999997,
          3123.54,
          3904.425,
          4685.3099999999995,
          5466.195,
          6247.08,
          7027.965,
          7808.85,
          8589.735,
          9370.619999999999,
          10151.505,
          10932.39,
          11713.275,
          12494.16
         ]
        },
        {
         "mode": "lines+markers",
         "name": "standard modified Heat Pump + Gasboiler",
         "type": "scatter",
         "x": [
          2025,
          2026,
          2027,
          2028,
          2029,
          2030,
          2031,
          2032,
          2033,
          2034,
          2035,
          2036,
          2037,
          2038,
          2039,
          2040
         ],
         "y": [
          780.885,
          1561.77,
          2342.6549999999997,
          3123.54,
          3904.425,
          4685.3099999999995,
          5466.195,
          6247.08,
          7027.965,
          7808.85,
          8589.735,
          9370.619999999999,
          10151.505,
          10932.39,
          11713.275,
          12494.16
         ]
        }
       ],
       "layout": {
        "legend": {
         "title": {
          "text": "Emission Categories"
         }
        },
        "template": {
         "data": {
          "bar": [
           {
            "error_x": {
             "color": "#2a3f5f"
            },
            "error_y": {
             "color": "#2a3f5f"
            },
            "marker": {
             "line": {
              "color": "#E5ECF6",
              "width": 0.5
             },
             "pattern": {
              "fillmode": "overlay",
              "size": 10,
              "solidity": 0.2
             }
            },
            "type": "bar"
           }
          ],
          "barpolar": [
           {
            "marker": {
             "line": {
              "color": "#E5ECF6",
              "width": 0.5
             },
             "pattern": {
              "fillmode": "overlay",
              "size": 10,
              "solidity": 0.2
             }
            },
            "type": "barpolar"
           }
          ],
          "carpet": [
           {
            "aaxis": {
             "endlinecolor": "#2a3f5f",
             "gridcolor": "white",
             "linecolor": "white",
             "minorgridcolor": "white",
             "startlinecolor": "#2a3f5f"
            },
            "baxis": {
             "endlinecolor": "#2a3f5f",
             "gridcolor": "white",
             "linecolor": "white",
             "minorgridcolor": "white",
             "startlinecolor": "#2a3f5f"
            },
            "type": "carpet"
           }
          ],
          "choropleth": [
           {
            "colorbar": {
             "outlinewidth": 0,
             "ticks": ""
            },
            "type": "choropleth"
           }
          ],
          "contour": [
           {
            "colorbar": {
             "outlinewidth": 0,
             "ticks": ""
            },
            "colorscale": [
             [
              0,
              "#0d0887"
             ],
             [
              0.1111111111111111,
              "#46039f"
             ],
             [
              0.2222222222222222,
              "#7201a8"
             ],
             [
              0.3333333333333333,
              "#9c179e"
             ],
             [
              0.4444444444444444,
              "#bd3786"
             ],
             [
              0.5555555555555556,
              "#d8576b"
             ],
             [
              0.6666666666666666,
              "#ed7953"
             ],
             [
              0.7777777777777778,
              "#fb9f3a"
             ],
             [
              0.8888888888888888,
              "#fdca26"
             ],
             [
              1,
              "#f0f921"
             ]
            ],
            "type": "contour"
           }
          ],
          "contourcarpet": [
           {
            "colorbar": {
             "outlinewidth": 0,
             "ticks": ""
            },
            "type": "contourcarpet"
           }
          ],
          "heatmap": [
           {
            "colorbar": {
             "outlinewidth": 0,
             "ticks": ""
            },
            "colorscale": [
             [
              0,
              "#0d0887"
             ],
             [
              0.1111111111111111,
              "#46039f"
             ],
             [
              0.2222222222222222,
              "#7201a8"
             ],
             [
              0.3333333333333333,
              "#9c179e"
             ],
             [
              0.4444444444444444,
              "#bd3786"
             ],
             [
              0.5555555555555556,
              "#d8576b"
             ],
             [
              0.6666666666666666,
              "#ed7953"
             ],
             [
              0.7777777777777778,
              "#fb9f3a"
             ],
             [
              0.8888888888888888,
              "#fdca26"
             ],
             [
              1,
              "#f0f921"
             ]
            ],
            "type": "heatmap"
           }
          ],
          "heatmapgl": [
           {
            "colorbar": {
             "outlinewidth": 0,
             "ticks": ""
            },
            "colorscale": [
             [
              0,
              "#0d0887"
             ],
             [
              0.1111111111111111,
              "#46039f"
             ],
             [
              0.2222222222222222,
              "#7201a8"
             ],
             [
              0.3333333333333333,
              "#9c179e"
             ],
             [
              0.4444444444444444,
              "#bd3786"
             ],
             [
              0.5555555555555556,
              "#d8576b"
             ],
             [
              0.6666666666666666,
              "#ed7953"
             ],
             [
              0.7777777777777778,
              "#fb9f3a"
             ],
             [
              0.8888888888888888,
              "#fdca26"
             ],
             [
              1,
              "#f0f921"
             ]
            ],
            "type": "heatmapgl"
           }
          ],
          "histogram": [
           {
            "marker": {
             "pattern": {
              "fillmode": "overlay",
              "size": 10,
              "solidity": 0.2
             }
            },
            "type": "histogram"
           }
          ],
          "histogram2d": [
           {
            "colorbar": {
             "outlinewidth": 0,
             "ticks": ""
            },
            "colorscale": [
             [
              0,
              "#0d0887"
             ],
             [
              0.1111111111111111,
              "#46039f"
             ],
             [
              0.2222222222222222,
              "#7201a8"
             ],
             [
              0.3333333333333333,
              "#9c179e"
             ],
             [
              0.4444444444444444,
              "#bd3786"
             ],
             [
              0.5555555555555556,
              "#d8576b"
             ],
             [
              0.6666666666666666,
              "#ed7953"
             ],
             [
              0.7777777777777778,
              "#fb9f3a"
             ],
             [
              0.8888888888888888,
              "#fdca26"
             ],
             [
              1,
              "#f0f921"
             ]
            ],
            "type": "histogram2d"
           }
          ],
          "histogram2dcontour": [
           {
            "colorbar": {
             "outlinewidth": 0,
             "ticks": ""
            },
            "colorscale": [
             [
              0,
              "#0d0887"
             ],
             [
              0.1111111111111111,
              "#46039f"
             ],
             [
              0.2222222222222222,
              "#7201a8"
             ],
             [
              0.3333333333333333,
              "#9c179e"
             ],
             [
              0.4444444444444444,
              "#bd3786"
             ],
             [
              0.5555555555555556,
              "#d8576b"
             ],
             [
              0.6666666666666666,
              "#ed7953"
             ],
             [
              0.7777777777777778,
              "#fb9f3a"
             ],
             [
              0.8888888888888888,
              "#fdca26"
             ],
             [
              1,
              "#f0f921"
             ]
            ],
            "type": "histogram2dcontour"
           }
          ],
          "mesh3d": [
           {
            "colorbar": {
             "outlinewidth": 0,
             "ticks": ""
            },
            "type": "mesh3d"
           }
          ],
          "parcoords": [
           {
            "line": {
             "colorbar": {
              "outlinewidth": 0,
              "ticks": ""
             }
            },
            "type": "parcoords"
           }
          ],
          "pie": [
           {
            "automargin": true,
            "type": "pie"
           }
          ],
          "scatter": [
           {
            "fillpattern": {
             "fillmode": "overlay",
             "size": 10,
             "solidity": 0.2
            },
            "type": "scatter"
           }
          ],
          "scatter3d": [
           {
            "line": {
             "colorbar": {
              "outlinewidth": 0,
              "ticks": ""
             }
            },
            "marker": {
             "colorbar": {
              "outlinewidth": 0,
              "ticks": ""
             }
            },
            "type": "scatter3d"
           }
          ],
          "scattercarpet": [
           {
            "marker": {
             "colorbar": {
              "outlinewidth": 0,
              "ticks": ""
             }
            },
            "type": "scattercarpet"
           }
          ],
          "scattergeo": [
           {
            "marker": {
             "colorbar": {
              "outlinewidth": 0,
              "ticks": ""
             }
            },
            "type": "scattergeo"
           }
          ],
          "scattergl": [
           {
            "marker": {
             "colorbar": {
              "outlinewidth": 0,
              "ticks": ""
             }
            },
            "type": "scattergl"
           }
          ],
          "scattermapbox": [
           {
            "marker": {
             "colorbar": {
              "outlinewidth": 0,
              "ticks": ""
             }
            },
            "type": "scattermapbox"
           }
          ],
          "scatterpolar": [
           {
            "marker": {
             "colorbar": {
              "outlinewidth": 0,
              "ticks": ""
             }
            },
            "type": "scatterpolar"
           }
          ],
          "scatterpolargl": [
           {
            "marker": {
             "colorbar": {
              "outlinewidth": 0,
              "ticks": ""
             }
            },
            "type": "scatterpolargl"
           }
          ],
          "scatterternary": [
           {
            "marker": {
             "colorbar": {
              "outlinewidth": 0,
              "ticks": ""
             }
            },
            "type": "scatterternary"
           }
          ],
          "surface": [
           {
            "colorbar": {
             "outlinewidth": 0,
             "ticks": ""
            },
            "colorscale": [
             [
              0,
              "#0d0887"
             ],
             [
              0.1111111111111111,
              "#46039f"
             ],
             [
              0.2222222222222222,
              "#7201a8"
             ],
             [
              0.3333333333333333,
              "#9c179e"
             ],
             [
              0.4444444444444444,
              "#bd3786"
             ],
             [
              0.5555555555555556,
              "#d8576b"
             ],
             [
              0.6666666666666666,
              "#ed7953"
             ],
             [
              0.7777777777777778,
              "#fb9f3a"
             ],
             [
              0.8888888888888888,
              "#fdca26"
             ],
             [
              1,
              "#f0f921"
             ]
            ],
            "type": "surface"
           }
          ],
          "table": [
           {
            "cells": {
             "fill": {
              "color": "#EBF0F8"
             },
             "line": {
              "color": "white"
             }
            },
            "header": {
             "fill": {
              "color": "#C8D4E3"
             },
             "line": {
              "color": "white"
             }
            },
            "type": "table"
           }
          ]
         },
         "layout": {
          "annotationdefaults": {
           "arrowcolor": "#2a3f5f",
           "arrowhead": 0,
           "arrowwidth": 1
          },
          "autotypenumbers": "strict",
          "coloraxis": {
           "colorbar": {
            "outlinewidth": 0,
            "ticks": ""
           }
          },
          "colorscale": {
           "diverging": [
            [
             0,
             "#8e0152"
            ],
            [
             0.1,
             "#c51b7d"
            ],
            [
             0.2,
             "#de77ae"
            ],
            [
             0.3,
             "#f1b6da"
            ],
            [
             0.4,
             "#fde0ef"
            ],
            [
             0.5,
             "#f7f7f7"
            ],
            [
             0.6,
             "#e6f5d0"
            ],
            [
             0.7,
             "#b8e186"
            ],
            [
             0.8,
             "#7fbc41"
            ],
            [
             0.9,
             "#4d9221"
            ],
            [
             1,
             "#276419"
            ]
           ],
           "sequential": [
            [
             0,
             "#0d0887"
            ],
            [
             0.1111111111111111,
             "#46039f"
            ],
            [
             0.2222222222222222,
             "#7201a8"
            ],
            [
             0.3333333333333333,
             "#9c179e"
            ],
            [
             0.4444444444444444,
             "#bd3786"
            ],
            [
             0.5555555555555556,
             "#d8576b"
            ],
            [
             0.6666666666666666,
             "#ed7953"
            ],
            [
             0.7777777777777778,
             "#fb9f3a"
            ],
            [
             0.8888888888888888,
             "#fdca26"
            ],
            [
             1,
             "#f0f921"
            ]
           ],
           "sequentialminus": [
            [
             0,
             "#0d0887"
            ],
            [
             0.1111111111111111,
             "#46039f"
            ],
            [
             0.2222222222222222,
             "#7201a8"
            ],
            [
             0.3333333333333333,
             "#9c179e"
            ],
            [
             0.4444444444444444,
             "#bd3786"
            ],
            [
             0.5555555555555556,
             "#d8576b"
            ],
            [
             0.6666666666666666,
             "#ed7953"
            ],
            [
             0.7777777777777778,
             "#fb9f3a"
            ],
            [
             0.8888888888888888,
             "#fdca26"
            ],
            [
             1,
             "#f0f921"
            ]
           ]
          },
          "colorway": [
           "#636efa",
           "#EF553B",
           "#00cc96",
           "#ab63fa",
           "#FFA15A",
           "#19d3f3",
           "#FF6692",
           "#B6E880",
           "#FF97FF",
           "#FECB52"
          ],
          "font": {
           "color": "#2a3f5f"
          },
          "geo": {
           "bgcolor": "white",
           "lakecolor": "white",
           "landcolor": "#E5ECF6",
           "showlakes": true,
           "showland": true,
           "subunitcolor": "white"
          },
          "hoverlabel": {
           "align": "left"
          },
          "hovermode": "closest",
          "mapbox": {
           "style": "light"
          },
          "paper_bgcolor": "white",
          "plot_bgcolor": "#E5ECF6",
          "polar": {
           "angularaxis": {
            "gridcolor": "white",
            "linecolor": "white",
            "ticks": ""
           },
           "bgcolor": "#E5ECF6",
           "radialaxis": {
            "gridcolor": "white",
            "linecolor": "white",
            "ticks": ""
           }
          },
          "scene": {
           "xaxis": {
            "backgroundcolor": "#E5ECF6",
            "gridcolor": "white",
            "gridwidth": 2,
            "linecolor": "white",
            "showbackground": true,
            "ticks": "",
            "zerolinecolor": "white"
           },
           "yaxis": {
            "backgroundcolor": "#E5ECF6",
            "gridcolor": "white",
            "gridwidth": 2,
            "linecolor": "white",
            "showbackground": true,
            "ticks": "",
            "zerolinecolor": "white"
           },
           "zaxis": {
            "backgroundcolor": "#E5ECF6",
            "gridcolor": "white",
            "gridwidth": 2,
            "linecolor": "white",
            "showbackground": true,
            "ticks": "",
            "zerolinecolor": "white"
           }
          },
          "shapedefaults": {
           "line": {
            "color": "#2a3f5f"
           }
          },
          "ternary": {
           "aaxis": {
            "gridcolor": "white",
            "linecolor": "white",
            "ticks": ""
           },
           "baxis": {
            "gridcolor": "white",
            "linecolor": "white",
            "ticks": ""
           },
           "bgcolor": "#E5ECF6",
           "caxis": {
            "gridcolor": "white",
            "linecolor": "white",
            "ticks": ""
           }
          },
          "title": {
           "x": 0.05
          },
          "xaxis": {
           "automargin": true,
           "gridcolor": "white",
           "linecolor": "white",
           "ticks": "",
           "title": {
            "standoff": 15
           },
           "zerolinecolor": "white",
           "zerolinewidth": 2
          },
          "yaxis": {
           "automargin": true,
           "gridcolor": "white",
           "linecolor": "white",
           "ticks": "",
           "title": {
            "standoff": 15
           },
           "zerolinecolor": "white",
           "zerolinewidth": 2
          }
         }
        },
        "title": {
         "text": "Yearly Cumulative Emissions"
        },
        "xaxis": {
         "title": {
          "text": "Year"
         }
        },
        "yaxis": {
         "title": {
          "text": "Cumulative Emissions (kg CO2)"
         }
        }
       }
      },
      "text/html": [
       "<div>                            <div id=\"819dbda9-622b-4686-b0d0-5122191faccc\" class=\"plotly-graph-div\" style=\"height:525px; width:100%;\"></div>            <script type=\"text/javascript\">                require([\"plotly\"], function(Plotly) {                    window.PLOTLYENV=window.PLOTLYENV || {};                                    if (document.getElementById(\"819dbda9-622b-4686-b0d0-5122191faccc\")) {                    Plotly.newPlot(                        \"819dbda9-622b-4686-b0d0-5122191faccc\",                        [{\"mode\":\"lines+markers\",\"name\":\"Heat Pump + Gasboiler\",\"x\":[2025,2026,2027,2028,2029,2030,2031,2032,2033,2034,2035,2036,2037,2038,2039,2040],\"y\":[755.2195095158647,1504.9466973408596,2249.4346910696468,2988.924952268788,3723.6478141352804,4453.8229943757315,5179.6600844481945,5901.359016256053,6619.110507333131,7333.096485511317,8043.490494016301,8750.45807789345,9454.157152624259,10154.738355754176,10852.345382314781,11547.11530478716],\"type\":\"scatter\"},{\"mode\":\"lines+markers\",\"name\":\"modified Heat Pump + Gasboiler\",\"x\":[2025,2026,2027,2028,2029,2030,2031,2032,2033,2034,2035,2036,2037,2038,2039,2040],\"y\":[755.2195095158647,1504.9466973408596,2249.4346910696468,2988.924952268788,3723.6478141352804,4453.8229943757315,5179.6600844481945,5901.359016256053,6619.110507333131,7333.096485511317,8043.490494016301,8750.45807789345,9454.157152624259,10154.738355754176,10852.345382314781,11547.11530478716],\"type\":\"scatter\"},{\"mode\":\"lines+markers\",\"name\":\"standard Heat Pump + Gasboiler\",\"x\":[2025,2026,2027,2028,2029,2030,2031,2032,2033,2034,2035,2036,2037,2038,2039,2040],\"y\":[780.885,1561.77,2342.6549999999997,3123.54,3904.425,4685.3099999999995,5466.195,6247.08,7027.965,7808.85,8589.735,9370.619999999999,10151.505,10932.39,11713.275,12494.16],\"type\":\"scatter\"},{\"mode\":\"lines+markers\",\"name\":\"standard modified Heat Pump + Gasboiler\",\"x\":[2025,2026,2027,2028,2029,2030,2031,2032,2033,2034,2035,2036,2037,2038,2039,2040],\"y\":[780.885,1561.77,2342.6549999999997,3123.54,3904.425,4685.3099999999995,5466.195,6247.08,7027.965,7808.85,8589.735,9370.619999999999,10151.505,10932.39,11713.275,12494.16],\"type\":\"scatter\"}],                        {\"template\":{\"data\":{\"histogram2dcontour\":[{\"type\":\"histogram2dcontour\",\"colorbar\":{\"outlinewidth\":0,\"ticks\":\"\"},\"colorscale\":[[0.0,\"#0d0887\"],[0.1111111111111111,\"#46039f\"],[0.2222222222222222,\"#7201a8\"],[0.3333333333333333,\"#9c179e\"],[0.4444444444444444,\"#bd3786\"],[0.5555555555555556,\"#d8576b\"],[0.6666666666666666,\"#ed7953\"],[0.7777777777777778,\"#fb9f3a\"],[0.8888888888888888,\"#fdca26\"],[1.0,\"#f0f921\"]]}],\"choropleth\":[{\"type\":\"choropleth\",\"colorbar\":{\"outlinewidth\":0,\"ticks\":\"\"}}],\"histogram2d\":[{\"type\":\"histogram2d\",\"colorbar\":{\"outlinewidth\":0,\"ticks\":\"\"},\"colorscale\":[[0.0,\"#0d0887\"],[0.1111111111111111,\"#46039f\"],[0.2222222222222222,\"#7201a8\"],[0.3333333333333333,\"#9c179e\"],[0.4444444444444444,\"#bd3786\"],[0.5555555555555556,\"#d8576b\"],[0.6666666666666666,\"#ed7953\"],[0.7777777777777778,\"#fb9f3a\"],[0.8888888888888888,\"#fdca26\"],[1.0,\"#f0f921\"]]}],\"heatmap\":[{\"type\":\"heatmap\",\"colorbar\":{\"outlinewidth\":0,\"ticks\":\"\"},\"colorscale\":[[0.0,\"#0d0887\"],[0.1111111111111111,\"#46039f\"],[0.2222222222222222,\"#7201a8\"],[0.3333333333333333,\"#9c179e\"],[0.4444444444444444,\"#bd3786\"],[0.5555555555555556,\"#d8576b\"],[0.6666666666666666,\"#ed7953\"],[0.7777777777777778,\"#fb9f3a\"],[0.8888888888888888,\"#fdca26\"],[1.0,\"#f0f921\"]]}],\"heatmapgl\":[{\"type\":\"heatmapgl\",\"colorbar\":{\"outlinewidth\":0,\"ticks\":\"\"},\"colorscale\":[[0.0,\"#0d0887\"],[0.1111111111111111,\"#46039f\"],[0.2222222222222222,\"#7201a8\"],[0.3333333333333333,\"#9c179e\"],[0.4444444444444444,\"#bd3786\"],[0.5555555555555556,\"#d8576b\"],[0.6666666666666666,\"#ed7953\"],[0.7777777777777778,\"#fb9f3a\"],[0.8888888888888888,\"#fdca26\"],[1.0,\"#f0f921\"]]}],\"contourcarpet\":[{\"type\":\"contourcarpet\",\"colorbar\":{\"outlinewidth\":0,\"ticks\":\"\"}}],\"contour\":[{\"type\":\"contour\",\"colorbar\":{\"outlinewidth\":0,\"ticks\":\"\"},\"colorscale\":[[0.0,\"#0d0887\"],[0.1111111111111111,\"#46039f\"],[0.2222222222222222,\"#7201a8\"],[0.3333333333333333,\"#9c179e\"],[0.4444444444444444,\"#bd3786\"],[0.5555555555555556,\"#d8576b\"],[0.6666666666666666,\"#ed7953\"],[0.7777777777777778,\"#fb9f3a\"],[0.8888888888888888,\"#fdca26\"],[1.0,\"#f0f921\"]]}],\"surface\":[{\"type\":\"surface\",\"colorbar\":{\"outlinewidth\":0,\"ticks\":\"\"},\"colorscale\":[[0.0,\"#0d0887\"],[0.1111111111111111,\"#46039f\"],[0.2222222222222222,\"#7201a8\"],[0.3333333333333333,\"#9c179e\"],[0.4444444444444444,\"#bd3786\"],[0.5555555555555556,\"#d8576b\"],[0.6666666666666666,\"#ed7953\"],[0.7777777777777778,\"#fb9f3a\"],[0.8888888888888888,\"#fdca26\"],[1.0,\"#f0f921\"]]}],\"mesh3d\":[{\"type\":\"mesh3d\",\"colorbar\":{\"outlinewidth\":0,\"ticks\":\"\"}}],\"scatter\":[{\"fillpattern\":{\"fillmode\":\"overlay\",\"size\":10,\"solidity\":0.2},\"type\":\"scatter\"}],\"parcoords\":[{\"type\":\"parcoords\",\"line\":{\"colorbar\":{\"outlinewidth\":0,\"ticks\":\"\"}}}],\"scatterpolargl\":[{\"type\":\"scatterpolargl\",\"marker\":{\"colorbar\":{\"outlinewidth\":0,\"ticks\":\"\"}}}],\"bar\":[{\"error_x\":{\"color\":\"#2a3f5f\"},\"error_y\":{\"color\":\"#2a3f5f\"},\"marker\":{\"line\":{\"color\":\"#E5ECF6\",\"width\":0.5},\"pattern\":{\"fillmode\":\"overlay\",\"size\":10,\"solidity\":0.2}},\"type\":\"bar\"}],\"scattergeo\":[{\"type\":\"scattergeo\",\"marker\":{\"colorbar\":{\"outlinewidth\":0,\"ticks\":\"\"}}}],\"scatterpolar\":[{\"type\":\"scatterpolar\",\"marker\":{\"colorbar\":{\"outlinewidth\":0,\"ticks\":\"\"}}}],\"histogram\":[{\"marker\":{\"pattern\":{\"fillmode\":\"overlay\",\"size\":10,\"solidity\":0.2}},\"type\":\"histogram\"}],\"scattergl\":[{\"type\":\"scattergl\",\"marker\":{\"colorbar\":{\"outlinewidth\":0,\"ticks\":\"\"}}}],\"scatter3d\":[{\"type\":\"scatter3d\",\"line\":{\"colorbar\":{\"outlinewidth\":0,\"ticks\":\"\"}},\"marker\":{\"colorbar\":{\"outlinewidth\":0,\"ticks\":\"\"}}}],\"scattermapbox\":[{\"type\":\"scattermapbox\",\"marker\":{\"colorbar\":{\"outlinewidth\":0,\"ticks\":\"\"}}}],\"scatterternary\":[{\"type\":\"scatterternary\",\"marker\":{\"colorbar\":{\"outlinewidth\":0,\"ticks\":\"\"}}}],\"scattercarpet\":[{\"type\":\"scattercarpet\",\"marker\":{\"colorbar\":{\"outlinewidth\":0,\"ticks\":\"\"}}}],\"carpet\":[{\"aaxis\":{\"endlinecolor\":\"#2a3f5f\",\"gridcolor\":\"white\",\"linecolor\":\"white\",\"minorgridcolor\":\"white\",\"startlinecolor\":\"#2a3f5f\"},\"baxis\":{\"endlinecolor\":\"#2a3f5f\",\"gridcolor\":\"white\",\"linecolor\":\"white\",\"minorgridcolor\":\"white\",\"startlinecolor\":\"#2a3f5f\"},\"type\":\"carpet\"}],\"table\":[{\"cells\":{\"fill\":{\"color\":\"#EBF0F8\"},\"line\":{\"color\":\"white\"}},\"header\":{\"fill\":{\"color\":\"#C8D4E3\"},\"line\":{\"color\":\"white\"}},\"type\":\"table\"}],\"barpolar\":[{\"marker\":{\"line\":{\"color\":\"#E5ECF6\",\"width\":0.5},\"pattern\":{\"fillmode\":\"overlay\",\"size\":10,\"solidity\":0.2}},\"type\":\"barpolar\"}],\"pie\":[{\"automargin\":true,\"type\":\"pie\"}]},\"layout\":{\"autotypenumbers\":\"strict\",\"colorway\":[\"#636efa\",\"#EF553B\",\"#00cc96\",\"#ab63fa\",\"#FFA15A\",\"#19d3f3\",\"#FF6692\",\"#B6E880\",\"#FF97FF\",\"#FECB52\"],\"font\":{\"color\":\"#2a3f5f\"},\"hovermode\":\"closest\",\"hoverlabel\":{\"align\":\"left\"},\"paper_bgcolor\":\"white\",\"plot_bgcolor\":\"#E5ECF6\",\"polar\":{\"bgcolor\":\"#E5ECF6\",\"angularaxis\":{\"gridcolor\":\"white\",\"linecolor\":\"white\",\"ticks\":\"\"},\"radialaxis\":{\"gridcolor\":\"white\",\"linecolor\":\"white\",\"ticks\":\"\"}},\"ternary\":{\"bgcolor\":\"#E5ECF6\",\"aaxis\":{\"gridcolor\":\"white\",\"linecolor\":\"white\",\"ticks\":\"\"},\"baxis\":{\"gridcolor\":\"white\",\"linecolor\":\"white\",\"ticks\":\"\"},\"caxis\":{\"gridcolor\":\"white\",\"linecolor\":\"white\",\"ticks\":\"\"}},\"coloraxis\":{\"colorbar\":{\"outlinewidth\":0,\"ticks\":\"\"}},\"colorscale\":{\"sequential\":[[0.0,\"#0d0887\"],[0.1111111111111111,\"#46039f\"],[0.2222222222222222,\"#7201a8\"],[0.3333333333333333,\"#9c179e\"],[0.4444444444444444,\"#bd3786\"],[0.5555555555555556,\"#d8576b\"],[0.6666666666666666,\"#ed7953\"],[0.7777777777777778,\"#fb9f3a\"],[0.8888888888888888,\"#fdca26\"],[1.0,\"#f0f921\"]],\"sequentialminus\":[[0.0,\"#0d0887\"],[0.1111111111111111,\"#46039f\"],[0.2222222222222222,\"#7201a8\"],[0.3333333333333333,\"#9c179e\"],[0.4444444444444444,\"#bd3786\"],[0.5555555555555556,\"#d8576b\"],[0.6666666666666666,\"#ed7953\"],[0.7777777777777778,\"#fb9f3a\"],[0.8888888888888888,\"#fdca26\"],[1.0,\"#f0f921\"]],\"diverging\":[[0,\"#8e0152\"],[0.1,\"#c51b7d\"],[0.2,\"#de77ae\"],[0.3,\"#f1b6da\"],[0.4,\"#fde0ef\"],[0.5,\"#f7f7f7\"],[0.6,\"#e6f5d0\"],[0.7,\"#b8e186\"],[0.8,\"#7fbc41\"],[0.9,\"#4d9221\"],[1,\"#276419\"]]},\"xaxis\":{\"gridcolor\":\"white\",\"linecolor\":\"white\",\"ticks\":\"\",\"title\":{\"standoff\":15},\"zerolinecolor\":\"white\",\"automargin\":true,\"zerolinewidth\":2},\"yaxis\":{\"gridcolor\":\"white\",\"linecolor\":\"white\",\"ticks\":\"\",\"title\":{\"standoff\":15},\"zerolinecolor\":\"white\",\"automargin\":true,\"zerolinewidth\":2},\"scene\":{\"xaxis\":{\"backgroundcolor\":\"#E5ECF6\",\"gridcolor\":\"white\",\"linecolor\":\"white\",\"showbackground\":true,\"ticks\":\"\",\"zerolinecolor\":\"white\",\"gridwidth\":2},\"yaxis\":{\"backgroundcolor\":\"#E5ECF6\",\"gridcolor\":\"white\",\"linecolor\":\"white\",\"showbackground\":true,\"ticks\":\"\",\"zerolinecolor\":\"white\",\"gridwidth\":2},\"zaxis\":{\"backgroundcolor\":\"#E5ECF6\",\"gridcolor\":\"white\",\"linecolor\":\"white\",\"showbackground\":true,\"ticks\":\"\",\"zerolinecolor\":\"white\",\"gridwidth\":2}},\"shapedefaults\":{\"line\":{\"color\":\"#2a3f5f\"}},\"annotationdefaults\":{\"arrowcolor\":\"#2a3f5f\",\"arrowhead\":0,\"arrowwidth\":1},\"geo\":{\"bgcolor\":\"white\",\"landcolor\":\"#E5ECF6\",\"subunitcolor\":\"white\",\"showland\":true,\"showlakes\":true,\"lakecolor\":\"white\"},\"title\":{\"x\":0.05},\"mapbox\":{\"style\":\"light\"}}},\"title\":{\"text\":\"Yearly Cumulative Emissions\"},\"xaxis\":{\"title\":{\"text\":\"Year\"}},\"yaxis\":{\"title\":{\"text\":\"Cumulative Emissions (kg CO2)\"}},\"legend\":{\"title\":{\"text\":\"Emission Categories\"}}},                        {\"responsive\": true}                    ).then(function(){\n",
       "                            \n",
       "var gd = document.getElementById('819dbda9-622b-4686-b0d0-5122191faccc');\n",
       "var x = new MutationObserver(function (mutations, observer) {{\n",
       "        var display = window.getComputedStyle(gd).display;\n",
       "        if (!display || display === 'none') {{\n",
       "            console.log([gd, 'removed!']);\n",
       "            Plotly.purge(gd);\n",
       "            observer.disconnect();\n",
       "        }}\n",
       "}});\n",
       "\n",
       "// Listen for the removal of the full notebook cells\n",
       "var notebookContainer = gd.closest('#notebook-container');\n",
       "if (notebookContainer) {{\n",
       "    x.observe(notebookContainer, {childList: true});\n",
       "}}\n",
       "\n",
       "// Listen for the clearing of the current output cell\n",
       "var outputEl = gd.closest('.output');\n",
       "if (outputEl) {{\n",
       "    x.observe(outputEl, {childList: true});\n",
       "}}\n",
       "\n",
       "                        })                };                });            </script>        </div>"
      ]
     },
     "metadata": {},
     "output_type": "display_data"
    }
   ],
   "source": [
    "testcase = df[df.epc_ind<=100].sort_values(by = 'tco', ascending = True).drop_duplicates(subset = 'name', keep = 'first')\n",
    "testcase = testcase[testcase.name == 'type_0']\n",
    "fig = go.Figure()\n",
    "for heating_system in testcase.heating_system.unique():\n",
    "    for dhw_system in testcase.dhw_system.unique():\n",
    "        tmp = testcase[(testcase.heating_system == heating_system) & (testcase.dhw_system == dhw_system)]\n",
    "        years = np.arange(2025, 2025 + len(y_fit_central[5:]))\n",
    "        total_co2_cumulative = tmp['total_co2'].values * np.array([1 for i in range(16)]).cumsum()\n",
    "        modified_total_co2_cumulative = tmp['total_co2_modified'].values * np.array([1 for i in range(16)]).cumsum()\n",
    "        new_emissions_cumulative = tmp[[f'emissions_{year + 2025}' for year in range(len(y_fit_central[5:]))]].cumsum(axis=1)\n",
    "        modified_new_emissions_cumulative = tmp[[f'modified_emissions_{year + 2025}' for year in range(len(y_fit_central[5:]))]].cumsum(axis=1)\n",
    "        #new_emissions_cumulative = tmp[[f'emissions_{year + 2025}' for year in range(len(y_fit_central[5:]))]]\n",
    "        # Create the Plotly scatter plot\n",
    "\n",
    "\n",
    "        # Add total_co2 cumulative emissions\n",
    "        # fig.add_trace(go.Scatter(\n",
    "        #     x=years,\n",
    "        #     y=total_co2_cumulative,\n",
    "        #     mode='lines+markers',\n",
    "        #     name='Total CO2 (Original)'\n",
    "        # ))\n",
    "        fig.add_trace(go.Scatter(\n",
    "            x=years,\n",
    "            y=new_emissions_cumulative.values[0],\n",
    "            mode='lines+markers',\n",
    "            name=f'{heating_system} + {dhw_system}'\n",
    "        ))\n",
    "        fig.add_trace(go.Scatter(\n",
    "            x=years,\n",
    "            y=modified_new_emissions_cumulative.values[0],\n",
    "            mode='lines+markers',\n",
    "            name=f'modified {heating_system} + {dhw_system}'\n",
    "        ))\n",
    "        fig.add_trace(go.Scatter(\n",
    "            x=years,\n",
    "            y=total_co2_cumulative,\n",
    "            mode='lines+markers',\n",
    "            name=f'standard {heating_system} + {dhw_system}'\n",
    "        ))\n",
    "        fig.add_trace(go.Scatter(\n",
    "            x=years,\n",
    "            y=modified_total_co2_cumulative,\n",
    "            mode='lines+markers',\n",
    "            name=f'standard modified {heating_system} + {dhw_system}'\n",
    "        ))\n",
    "        \n",
    "# # Add newly calculated cumulative emissions\n",
    "# tmp = testcase[testcase.heating_system == 'Heat Pump']\n",
    "# years = np.arange(2025, 2025 + len(y_fit_central[5:]))\n",
    "# #total_co2_cumulative = tmp['total_co2'].values * np.array([1 for i in range(16)]).cumsum()\n",
    "# new_emissions_cumulative = tmp[[f'emissions_{year + 2025}' for year in range(len(y_fit_central[5:]))]].cumsum(axis=1)\n",
    "# for i in range(new_emissions_cumulative.shape[0]):\n",
    "#     fig.add_trace(go.Scatter(\n",
    "#         x=years,\n",
    "#         y=new_emissions_cumulative.iloc[i],\n",
    "#         mode='lines+markers',\n",
    "#         name=f'{tmp.heating_system.values}'\n",
    "#     ))\n",
    "\n",
    "# Update layout\n",
    "fig.update_layout(\n",
    "    title='Yearly Cumulative Emissions',\n",
    "    xaxis_title='Year',\n",
    "    yaxis_title='Cumulative Emissions (kg CO2)',\n",
    "    legend_title='Emission Categories'\n",
    ")\n",
    "\n",
    "# Show the plot\n",
    "fig.show()"
   ]
  },
  {
   "cell_type": "code",
   "execution_count": 33,
   "metadata": {},
   "outputs": [
    {
     "data": {
      "application/vnd.plotly.v1+json": {
       "config": {
        "plotlyServerURL": "https://plot.ly"
       },
       "data": [
        {
         "fill": "tonexty",
         "name": "GESLOTEN - Modified CO2 Emissions",
         "type": "scatter",
         "x": [
          2025,
          2025,
          2025,
          2025,
          2025,
          2026,
          2026,
          2026,
          2026,
          2026,
          2027,
          2027,
          2027,
          2027,
          2027,
          2028,
          2028,
          2028,
          2028,
          2028,
          2029,
          2029,
          2029,
          2029,
          2029,
          2030,
          2030,
          2030,
          2030,
          2030,
          2031,
          2031,
          2031,
          2031,
          2031,
          2032,
          2032,
          2032,
          2032,
          2032,
          2033,
          2033,
          2033,
          2033,
          2033,
          2034,
          2034,
          2034,
          2034,
          2034,
          2035,
          2035,
          2035,
          2035,
          2035,
          2036,
          2036,
          2036,
          2036,
          2036,
          2037,
          2037,
          2037,
          2037,
          2037,
          2038,
          2038,
          2038,
          2038,
          2038,
          2039,
          2039,
          2039,
          2039,
          2039,
          2040,
          2040,
          2040,
          2040,
          2040
         ],
         "xaxis": "x",
         "y": [
          74666.67928503598,
          74666.67928503598,
          74666.67928503598,
          74666.67928503598,
          74666.67928503598,
          74123.89913493647,
          74123.89913493647,
          74123.89913493647,
          74123.89913493647,
          74123.89913493647,
          73606.13438662114,
          73606.13438662114,
          73606.13438662114,
          73606.13438662114,
          73606.13438662114,
          73112.23214176402,
          73112.23214176402,
          73112.23214176402,
          73112.23214176402,
          73112.23214176402,
          72641.09263628663,
          72641.09263628663,
          72641.09263628663,
          72641.09263628663,
          72641.09263628663,
          72191.66679153123,
          72191.66679153123,
          72191.66679153123,
          72191.66679153123,
          72191.66679153123,
          71762.9538782946,
          71762.9538782946,
          71762.9538782946,
          71762.9538782946,
          71762.9538782946,
          71353.99928852044,
          71353.99928852044,
          71353.99928852044,
          71353.99928852044,
          71353.99928852044,
          70963.89240968929,
          70963.89240968929,
          70963.89240968929,
          70963.89240968929,
          70963.89240968929,
          70591.76459717246,
          70591.76459717246,
          70591.76459717246,
          70591.76459717246,
          70591.76459717246,
          70236.78724003513,
          70236.78724003513,
          70236.78724003513,
          70236.78724003513,
          70236.78724003513,
          69898.16991598201,
          69898.16991598201,
          69898.16991598201,
          69898.16991598201,
          69898.16991598201,
          69575.15863133676,
          69575.15863133676,
          69575.15863133676,
          69575.15863133676,
          69575.15863133676,
          69267.03414213668,
          69267.03414213668,
          69267.03414213668,
          69267.03414213668,
          69267.03414213668,
          68973.11035260379,
          68973.11035260379,
          68973.11035260379,
          68973.11035260379,
          68973.11035260379,
          68692.73278742663,
          68692.73278742663,
          68692.73278742663,
          68692.73278742663,
          68692.73278742663
         ],
         "yaxis": "y"
        },
        {
         "fill": "tonexty",
         "name": "GESLOTEN - Solar CO2 Emissions",
         "type": "scatter",
         "x": [
          2025,
          2025,
          2025,
          2025,
          2025,
          2026,
          2026,
          2026,
          2026,
          2026,
          2027,
          2027,
          2027,
          2027,
          2027,
          2028,
          2028,
          2028,
          2028,
          2028,
          2029,
          2029,
          2029,
          2029,
          2029,
          2030,
          2030,
          2030,
          2030,
          2030,
          2031,
          2031,
          2031,
          2031,
          2031,
          2032,
          2032,
          2032,
          2032,
          2032,
          2033,
          2033,
          2033,
          2033,
          2033,
          2034,
          2034,
          2034,
          2034,
          2034,
          2035,
          2035,
          2035,
          2035,
          2035,
          2036,
          2036,
          2036,
          2036,
          2036,
          2037,
          2037,
          2037,
          2037,
          2037,
          2038,
          2038,
          2038,
          2038,
          2038,
          2039,
          2039,
          2039,
          2039,
          2039,
          2040,
          2040,
          2040,
          2040,
          2040
         ],
         "xaxis": "x",
         "y": [
          -18206.64896620063,
          -18206.64896620063,
          -18206.64896620063,
          -18206.64896620063,
          -18206.64896620063,
          -17367.549306883095,
          -17367.549306883095,
          -17367.549306883095,
          -17367.549306883095,
          -17367.549306883095,
          -16567.12168653187,
          -16567.12168653187,
          -16567.12168653187,
          -16567.12168653187,
          -16567.12168653187,
          -15803.583806010964,
          -15803.583806010964,
          -15803.583806010964,
          -15803.583806010964,
          -15803.583806010964,
          -15075.23550796679,
          -15075.23550796679,
          -15075.23550796679,
          -15075.23550796679,
          -15075.23550796679,
          -14380.45499111552,
          -14380.45499111552,
          -14380.45499111552,
          -14380.45499111552,
          -14380.45499111552,
          -13717.695199004575,
          -13717.695199004575,
          -13717.695199004575,
          -13717.695199004575,
          -13717.695199004575,
          -13085.480375207237,
          -13085.480375207237,
          -13085.480375207237,
          -13085.480375207237,
          -13085.480375207237,
          -12482.40277727989,
          -12482.40277727989,
          -12482.40277727989,
          -12482.40277727989,
          -12482.40277727989,
          -11907.119542164855,
          -11907.119542164855,
          -11907.119542164855,
          -11907.119542164855,
          -11907.119542164855,
          -11358.349696059082,
          -11358.349696059082,
          -11358.349696059082,
          -11358.349696059082,
          -11358.349696059082,
          -10834.871302090713,
          -10834.871302090713,
          -10834.871302090713,
          -10834.871302090713,
          -10834.871302090713,
          -10335.51873945212,
          -10335.51873945212,
          -10335.51873945212,
          -10335.51873945212,
          -10335.51873945212,
          -9859.180107931064,
          -9859.180107931064,
          -9859.180107931064,
          -9859.180107931064,
          -9859.180107931064,
          -9404.79475206063,
          -9404.79475206063,
          -9404.79475206063,
          -9404.79475206063,
          -9404.79475206063,
          -8971.350899374971,
          -8971.350899374971,
          -8971.350899374971,
          -8971.350899374971,
          -8971.350899374971
         ],
         "yaxis": "y"
        },
        {
         "fill": "tonexty",
         "name": "GESLOTEN - Net CO2 Emissions",
         "type": "scatter",
         "x": [
          2025,
          2025,
          2025,
          2025,
          2025,
          2026,
          2026,
          2026,
          2026,
          2026,
          2027,
          2027,
          2027,
          2027,
          2027,
          2028,
          2028,
          2028,
          2028,
          2028,
          2029,
          2029,
          2029,
          2029,
          2029,
          2030,
          2030,
          2030,
          2030,
          2030,
          2031,
          2031,
          2031,
          2031,
          2031,
          2032,
          2032,
          2032,
          2032,
          2032,
          2033,
          2033,
          2033,
          2033,
          2033,
          2034,
          2034,
          2034,
          2034,
          2034,
          2035,
          2035,
          2035,
          2035,
          2035,
          2036,
          2036,
          2036,
          2036,
          2036,
          2037,
          2037,
          2037,
          2037,
          2037,
          2038,
          2038,
          2038,
          2038,
          2038,
          2039,
          2039,
          2039,
          2039,
          2039,
          2040,
          2040,
          2040,
          2040,
          2040
         ],
         "xaxis": "x4",
         "y": [
          56460.030318835335,
          56460.030318835335,
          56460.030318835335,
          56460.030318835335,
          56460.030318835335,
          56756.349828053375,
          56756.349828053375,
          56756.349828053375,
          56756.349828053375,
          56756.349828053375,
          57039.01270008928,
          57039.01270008928,
          57039.01270008928,
          57039.01270008928,
          57039.01270008928,
          57308.64833575306,
          57308.64833575306,
          57308.64833575306,
          57308.64833575306,
          57308.64833575306,
          57565.85712831982,
          57565.85712831982,
          57565.85712831982,
          57565.85712831982,
          57565.85712831982,
          57811.21180041571,
          57811.21180041571,
          57811.21180041571,
          57811.21180041571,
          57811.21180041571,
          58045.25867929003,
          58045.25867929003,
          58045.25867929003,
          58045.25867929003,
          58045.25867929003,
          58268.5189133132,
          58268.5189133132,
          58268.5189133132,
          58268.5189133132,
          58268.5189133132,
          58481.4896324094,
          58481.4896324094,
          58481.4896324094,
          58481.4896324094,
          58481.4896324094,
          58684.64505500759,
          58684.64505500759,
          58684.64505500759,
          58684.64505500759,
          58684.64505500759,
          58878.43754397605,
          58878.43754397605,
          58878.43754397605,
          58878.43754397605,
          58878.43754397605,
          59063.29861389129,
          59063.29861389129,
          59063.29861389129,
          59063.29861389129,
          59063.29861389129,
          59239.63989188464,
          59239.63989188464,
          59239.63989188464,
          59239.63989188464,
          59239.63989188464,
          59407.85403420561,
          59407.85403420561,
          59407.85403420561,
          59407.85403420561,
          59407.85403420561,
          59568.31560054316,
          59568.31560054316,
          59568.31560054316,
          59568.31560054316,
          59568.31560054316,
          59721.38188805166,
          59721.38188805166,
          59721.38188805166,
          59721.38188805166,
          59721.38188805166
         ],
         "yaxis": "y4"
        },
        {
         "type": "histogram",
         "x": [
          6099,
          10849,
          5199,
          6599,
          6599,
          12199,
          12149,
          6599,
          15849,
          14599,
          6599,
          12399,
          17849,
          16599,
          16549,
          13199,
          11299,
          11299,
          18649,
          18299,
          17149,
          17499,
          19649,
          28099,
          30649,
          30899,
          30799,
          27999,
          32999,
          29599,
          34699,
          37049,
          38399,
          36099,
          38899,
          39899,
          34699,
          34599,
          43299,
          37699,
          42099,
          41099,
          42499,
          44099,
          48599
         ],
         "xaxis": "x7",
         "yaxis": "y7"
        },
        {
         "fill": "tonexty",
         "name": "HALF_OPEN - Modified CO2 Emissions",
         "type": "scatter",
         "x": [
          2025,
          2025,
          2025,
          2025,
          2025,
          2026,
          2026,
          2026,
          2026,
          2026,
          2027,
          2027,
          2027,
          2027,
          2027,
          2028,
          2028,
          2028,
          2028,
          2028,
          2029,
          2029,
          2029,
          2029,
          2029,
          2030,
          2030,
          2030,
          2030,
          2030,
          2031,
          2031,
          2031,
          2031,
          2031,
          2032,
          2032,
          2032,
          2032,
          2032,
          2033,
          2033,
          2033,
          2033,
          2033,
          2034,
          2034,
          2034,
          2034,
          2034,
          2035,
          2035,
          2035,
          2035,
          2035,
          2036,
          2036,
          2036,
          2036,
          2036,
          2037,
          2037,
          2037,
          2037,
          2037,
          2038,
          2038,
          2038,
          2038,
          2038,
          2039,
          2039,
          2039,
          2039,
          2039,
          2040,
          2040,
          2040,
          2040,
          2040
         ],
         "xaxis": "x2",
         "y": [
          88475.66448445406,
          88475.66448445406,
          88475.66448445406,
          88475.66448445406,
          88475.66448445406,
          88004.77084942539,
          88004.77084942539,
          88004.77084942539,
          88004.77084942539,
          88004.77084942539,
          87555.57954355466,
          87555.57954355466,
          87555.57954355466,
          87555.57954355466,
          87555.57954355466,
          87127.09035988247,
          87127.09035988247,
          87127.09035988247,
          87127.09035988247,
          87127.09035988247,
          86718.34918852756,
          86718.34918852756,
          86718.34918852756,
          86718.34918852756,
          86718.34918852756,
          86328.44589218574,
          86328.44589218574,
          86328.44589218574,
          86328.44589218574,
          86328.44589218574,
          85956.51227954215,
          85956.51227954215,
          85956.51227954215,
          85956.51227954215,
          85956.51227954215,
          85601.7201720837,
          85601.7201720837,
          85601.7201720837,
          85601.7201720837,
          85601.7201720837,
          85263.2795600075,
          85263.2795600075,
          85263.2795600075,
          85263.2795600075,
          85263.2795600075,
          84940.43684311889,
          84940.43684311889,
          84940.43684311889,
          84940.43684311889,
          84940.43684311889,
          84632.47315280222,
          84632.47315280222,
          84632.47315280222,
          84632.47315280222,
          84632.47315280222,
          84338.70275132784,
          84338.70275132784,
          84338.70275132784,
          84338.70275132784,
          84338.70275132784,
          84058.47150493096,
          84058.47150493096,
          84058.47150493096,
          84058.47150493096,
          84058.47150493096,
          83791.15542726268,
          83791.15542726268,
          83791.15542726268,
          83791.15542726268,
          83791.15542726268,
          83536.15928996995,
          83536.15928996995,
          83536.15928996995,
          83536.15928996995,
          83536.15928996995,
          83292.91529731003,
          83292.91529731003,
          83292.91529731003,
          83292.91529731003,
          83292.91529731003
         ],
         "yaxis": "y2"
        },
        {
         "fill": "tonexty",
         "name": "HALF_OPEN - Solar CO2 Emissions",
         "type": "scatter",
         "x": [
          2025,
          2025,
          2025,
          2025,
          2025,
          2026,
          2026,
          2026,
          2026,
          2026,
          2027,
          2027,
          2027,
          2027,
          2027,
          2028,
          2028,
          2028,
          2028,
          2028,
          2029,
          2029,
          2029,
          2029,
          2029,
          2030,
          2030,
          2030,
          2030,
          2030,
          2031,
          2031,
          2031,
          2031,
          2031,
          2032,
          2032,
          2032,
          2032,
          2032,
          2033,
          2033,
          2033,
          2033,
          2033,
          2034,
          2034,
          2034,
          2034,
          2034,
          2035,
          2035,
          2035,
          2035,
          2035,
          2036,
          2036,
          2036,
          2036,
          2036,
          2037,
          2037,
          2037,
          2037,
          2037,
          2038,
          2038,
          2038,
          2038,
          2038,
          2039,
          2039,
          2039,
          2039,
          2039,
          2040,
          2040,
          2040,
          2040,
          2040
         ],
         "xaxis": "x2",
         "y": [
          -26235.741483358055,
          -26235.741483358055,
          -26235.741483358055,
          -26235.741483358055,
          -26235.741483358055,
          -25026.600702893906,
          -25026.600702893906,
          -25026.600702893906,
          -25026.600702893906,
          -25026.600702893906,
          -23873.186246303965,
          -23873.186246303965,
          -23873.186246303965,
          -23873.186246303965,
          -23873.186246303965,
          -22772.929824417344,
          -22772.929824417344,
          -22772.929824417344,
          -22772.929824417344,
          -22772.929824417344,
          -21723.381514192613,
          -21723.381514192613,
          -21723.381514192613,
          -21723.381514192613,
          -21723.381514192613,
          -20722.20430351408,
          -20722.20430351408,
          -20722.20430351408,
          -20722.20430351408,
          -20722.20430351408,
          -19767.16888740503,
          -19767.16888740503,
          -19767.16888740503,
          -19767.16888740503,
          -19767.16888740503,
          -18856.148704070594,
          -18856.148704070594,
          -18856.148704070594,
          -18856.148704070594,
          -18856.148704070594,
          -17987.11519971737,
          -17987.11519971737,
          -17987.11519971737,
          -17987.11519971737,
          -17987.11519971737,
          -17158.133311605663,
          -17158.133311605663,
          -17158.133311605663,
          -17158.133311605663,
          -17158.133311605663,
          -16367.357159276868,
          -16367.357159276868,
          -16367.357159276868,
          -16367.357159276868,
          -16367.357159276868,
          -15613.025934361538,
          -15613.025934361538,
          -15613.025934361538,
          -15613.025934361538,
          -15613.025934361538,
          -14893.45997981606,
          -14893.45997981606,
          -14893.45997981606,
          -14893.45997981606,
          -14893.45997981606,
          -14207.05704985773,
          -14207.05704985773,
          -14207.05704985773,
          -14207.05704985773,
          -14207.05704985773,
          -13552.28874227015,
          -13552.28874227015,
          -13552.28874227015,
          -13552.28874227015,
          -13552.28874227015,
          -12927.697095134945,
          -12927.697095134945,
          -12927.697095134945,
          -12927.697095134945,
          -12927.697095134945
         ],
         "yaxis": "y2"
        },
        {
         "fill": "tonexty",
         "name": "HALF_OPEN - Net CO2 Emissions",
         "type": "scatter",
         "x": [
          2025,
          2025,
          2025,
          2025,
          2025,
          2026,
          2026,
          2026,
          2026,
          2026,
          2027,
          2027,
          2027,
          2027,
          2027,
          2028,
          2028,
          2028,
          2028,
          2028,
          2029,
          2029,
          2029,
          2029,
          2029,
          2030,
          2030,
          2030,
          2030,
          2030,
          2031,
          2031,
          2031,
          2031,
          2031,
          2032,
          2032,
          2032,
          2032,
          2032,
          2033,
          2033,
          2033,
          2033,
          2033,
          2034,
          2034,
          2034,
          2034,
          2034,
          2035,
          2035,
          2035,
          2035,
          2035,
          2036,
          2036,
          2036,
          2036,
          2036,
          2037,
          2037,
          2037,
          2037,
          2037,
          2038,
          2038,
          2038,
          2038,
          2038,
          2039,
          2039,
          2039,
          2039,
          2039,
          2040,
          2040,
          2040,
          2040,
          2040
         ],
         "xaxis": "x5",
         "y": [
          62239.92300109599,
          62239.92300109599,
          62239.92300109599,
          62239.92300109599,
          62239.92300109599,
          62978.170146531476,
          62978.170146531476,
          62978.170146531476,
          62978.170146531476,
          62978.170146531476,
          63682.39329725069,
          63682.39329725069,
          63682.39329725069,
          63682.39329725069,
          63682.39329725069,
          64354.160535465126,
          64354.160535465126,
          64354.160535465126,
          64354.160535465126,
          64354.160535465126,
          64994.96767433494,
          64994.96767433494,
          64994.96767433494,
          64994.96767433494,
          64994.96767433494,
          65606.24158867166,
          65606.24158867166,
          65606.24158867166,
          65606.24158867166,
          65606.24158867166,
          66189.34339213713,
          66189.34339213713,
          66189.34339213713,
          66189.34339213713,
          66189.34339213713,
          66745.57146801309,
          66745.57146801309,
          66745.57146801309,
          66745.57146801309,
          66745.57146801309,
          67276.16436029013,
          67276.16436029013,
          67276.16436029013,
          67276.16436029013,
          67276.16436029013,
          67782.30353151321,
          67782.30353151321,
          67782.30353151321,
          67782.30353151321,
          67782.30353151321,
          68265.11599352537,
          68265.11599352537,
          68265.11599352537,
          68265.11599352537,
          68265.11599352537,
          68725.6768169663,
          68725.6768169663,
          68725.6768169663,
          68725.6768169663,
          68725.6768169663,
          69165.01152511488,
          69165.01152511488,
          69165.01152511488,
          69165.01152511488,
          69165.01152511488,
          69584.09837740495,
          69584.09837740495,
          69584.09837740495,
          69584.09837740495,
          69584.09837740495,
          69983.87054769979,
          69983.87054769979,
          69983.87054769979,
          69983.87054769979,
          69983.87054769979,
          70365.21820217508,
          70365.21820217508,
          70365.21820217508,
          70365.21820217508,
          70365.21820217508
         ],
         "yaxis": "y5"
        },
        {
         "type": "histogram",
         "x": [
          6599,
          6599,
          12449,
          12449,
          6900,
          15699,
          12399,
          15699,
          12749,
          20399,
          20999,
          17299,
          14099,
          17299,
          19299,
          21899,
          22899,
          20499,
          18699,
          18699,
          31799,
          22999,
          34899,
          29199,
          39049,
          39949,
          42499,
          45949,
          48999,
          48699,
          46099,
          46399,
          48399,
          56499,
          54799,
          51749,
          55299,
          53599,
          53799,
          54999,
          56699,
          61249,
          61099,
          60499,
          77099
         ],
         "xaxis": "x8",
         "yaxis": "y8"
        },
        {
         "fill": "tonexty",
         "name": "OPEN - Modified CO2 Emissions",
         "type": "scatter",
         "x": [
          2025,
          2025,
          2025,
          2025,
          2025,
          2026,
          2026,
          2026,
          2026,
          2026,
          2027,
          2027,
          2027,
          2027,
          2027,
          2028,
          2028,
          2028,
          2028,
          2028,
          2029,
          2029,
          2029,
          2029,
          2029,
          2030,
          2030,
          2030,
          2030,
          2030,
          2031,
          2031,
          2031,
          2031,
          2031,
          2032,
          2032,
          2032,
          2032,
          2032,
          2033,
          2033,
          2033,
          2033,
          2033,
          2034,
          2034,
          2034,
          2034,
          2034,
          2035,
          2035,
          2035,
          2035,
          2035,
          2036,
          2036,
          2036,
          2036,
          2036,
          2037,
          2037,
          2037,
          2037,
          2037,
          2038,
          2038,
          2038,
          2038,
          2038,
          2039,
          2039,
          2039,
          2039,
          2039,
          2040,
          2040,
          2040,
          2040,
          2040
         ],
         "xaxis": "x3",
         "y": [
          110732.94725888447,
          110732.94725888447,
          110732.94725888447,
          110732.94725888447,
          110732.94725888447,
          110300.6619867217,
          110300.6619867217,
          110300.6619867217,
          110300.6619867217,
          110300.6619867217,
          109888.29967925571,
          109888.29967925571,
          109888.29967925571,
          109888.29967925571,
          109888.29967925571,
          109494.94213605757,
          109494.94213605757,
          109494.94213605757,
          109494.94213605757,
          109494.94213605757,
          109119.71347429718,
          109119.71347429718,
          109119.71347429718,
          109119.71347429718,
          109119.71347429718,
          108761.77817842936,
          108761.77817842936,
          108761.77817842936,
          108761.77817842936,
          108761.77817842936,
          108420.33923976475,
          108420.33923976475,
          108420.33923976475,
          108420.33923976475,
          108420.33923976475,
          108094.63638178381,
          108094.63638178381,
          108094.63638178381,
          108094.63638178381,
          108094.63638178381,
          107783.94436724133,
          107783.94436724133,
          107783.94436724133,
          107783.94436724133,
          107783.94436724133,
          107487.57138329252,
          107487.57138329252,
          107487.57138329252,
          107487.57138329252,
          107487.57138329252,
          107204.85750104464,
          107204.85750104464,
          107204.85750104464,
          107204.85750104464,
          107204.85750104464,
          106935.17320610405,
          106935.17320610405,
          106935.17320610405,
          106935.17320610405,
          106935.17320610405,
          106677.91799684685,
          106677.91799684685,
          106677.91799684685,
          106677.91799684685,
          106677.91799684685,
          106432.51904729157,
          106432.51904729157,
          106432.51904729157,
          106432.51904729157,
          106432.51904729157,
          106198.42993159704,
          106198.42993159704,
          106198.42993159704,
          106198.42993159704,
          106198.42993159704,
          105975.12940734481,
          105975.12940734481,
          105975.12940734481,
          105975.12940734481,
          105975.12940734481
         ],
         "yaxis": "y3"
        },
        {
         "fill": "tonexty",
         "name": "OPEN - Solar CO2 Emissions",
         "type": "scatter",
         "x": [
          2025,
          2025,
          2025,
          2025,
          2025,
          2026,
          2026,
          2026,
          2026,
          2026,
          2027,
          2027,
          2027,
          2027,
          2027,
          2028,
          2028,
          2028,
          2028,
          2028,
          2029,
          2029,
          2029,
          2029,
          2029,
          2030,
          2030,
          2030,
          2030,
          2030,
          2031,
          2031,
          2031,
          2031,
          2031,
          2032,
          2032,
          2032,
          2032,
          2032,
          2033,
          2033,
          2033,
          2033,
          2033,
          2034,
          2034,
          2034,
          2034,
          2034,
          2035,
          2035,
          2035,
          2035,
          2035,
          2036,
          2036,
          2036,
          2036,
          2036,
          2037,
          2037,
          2037,
          2037,
          2037,
          2038,
          2038,
          2038,
          2038,
          2038,
          2039,
          2039,
          2039,
          2039,
          2039,
          2040,
          2040,
          2040,
          2040,
          2040
         ],
         "xaxis": "x3",
         "y": [
          -38773.512893592095,
          -38773.512893592095,
          -38773.512893592095,
          -38773.512893592095,
          -38773.512893592095,
          -36986.537073936546,
          -36986.537073936546,
          -36986.537073936546,
          -36986.537073936546,
          -36986.537073936546,
          -35281.91857353647,
          -35281.91857353647,
          -35281.91857353647,
          -35281.91857353647,
          -35281.91857353647,
          -33655.861746160765,
          -33655.861746160765,
          -33655.861746160765,
          -33655.861746160765,
          -33655.861746160765,
          -32104.74587757517,
          -32104.74587757517,
          -32104.74587757517,
          -32104.74587757517,
          -32104.74587757517,
          -30625.11712335686,
          -30625.11712335686,
          -30625.11712335686,
          -30625.11712335686,
          -30625.11712335686,
          -29213.68081827547,
          -29213.68081827547,
          -29213.68081827547,
          -29213.68081827547,
          -29213.68081827547,
          -27867.294140115573,
          -27867.294140115573,
          -27867.294140115573,
          -27867.294140115573,
          -27867.294140115573,
          -26582.959111605818,
          -26582.959111605818,
          -26582.959111605818,
          -26582.959111605818,
          -26582.959111605818,
          -25357.815924871702,
          -25357.815924871702,
          -25357.815924871702,
          -25357.815924871702,
          -25357.815924871702,
          -24189.136573548065,
          -24189.136573548065,
          -24189.136573548065,
          -24189.136573548065,
          -24189.136573548065,
          -23074.31877837173,
          -23074.31877837173,
          -23074.31877837173,
          -23074.31877837173,
          -23074.31877837173,
          -22010.880192728677,
          -22010.880192728677,
          -22010.880192728677,
          -22010.880192728677,
          -22010.880192728677,
          -20996.45287525336,
          -20996.45287525336,
          -20996.45287525336,
          -20996.45287525336,
          -20996.45287525336,
          -20028.77801717219,
          -20028.77801717219,
          -20028.77801717219,
          -20028.77801717219,
          -20028.77801717219,
          -19105.700912650922,
          -19105.700912650922,
          -19105.700912650922,
          -19105.700912650922,
          -19105.700912650922
         ],
         "yaxis": "y3"
        },
        {
         "fill": "tonexty",
         "name": "OPEN - Net CO2 Emissions",
         "type": "scatter",
         "x": [
          2025,
          2025,
          2025,
          2025,
          2025,
          2026,
          2026,
          2026,
          2026,
          2026,
          2027,
          2027,
          2027,
          2027,
          2027,
          2028,
          2028,
          2028,
          2028,
          2028,
          2029,
          2029,
          2029,
          2029,
          2029,
          2030,
          2030,
          2030,
          2030,
          2030,
          2031,
          2031,
          2031,
          2031,
          2031,
          2032,
          2032,
          2032,
          2032,
          2032,
          2033,
          2033,
          2033,
          2033,
          2033,
          2034,
          2034,
          2034,
          2034,
          2034,
          2035,
          2035,
          2035,
          2035,
          2035,
          2036,
          2036,
          2036,
          2036,
          2036,
          2037,
          2037,
          2037,
          2037,
          2037,
          2038,
          2038,
          2038,
          2038,
          2038,
          2039,
          2039,
          2039,
          2039,
          2039,
          2040,
          2040,
          2040,
          2040,
          2040
         ],
         "xaxis": "x6",
         "y": [
          71959.43436529237,
          71959.43436529237,
          71959.43436529237,
          71959.43436529237,
          71959.43436529237,
          73314.12491278515,
          73314.12491278515,
          73314.12491278515,
          73314.12491278515,
          73314.12491278515,
          74606.38110571924,
          74606.38110571924,
          74606.38110571924,
          74606.38110571924,
          74606.38110571924,
          75839.0803898968,
          75839.0803898968,
          75839.0803898968,
          75839.0803898968,
          75839.0803898968,
          77014.96759672205,
          77014.96759672205,
          77014.96759672205,
          77014.96759672205,
          77014.96759672205,
          78136.6610550725,
          78136.6610550725,
          78136.6610550725,
          78136.6610550725,
          78136.6610550725,
          79206.6584214893,
          79206.6584214893,
          79206.6584214893,
          79206.6584214893,
          79206.6584214893,
          80227.34224166824,
          80227.34224166824,
          80227.34224166824,
          80227.34224166824,
          80227.34224166824,
          81200.98525563553,
          81200.98525563553,
          81200.98525563553,
          81200.98525563553,
          81200.98525563553,
          82129.75545842083,
          82129.75545842083,
          82129.75545842083,
          82129.75545842083,
          82129.75545842083,
          83015.72092749657,
          83015.72092749657,
          83015.72092749657,
          83015.72092749657,
          83015.72092749657,
          83860.85442773232,
          83860.85442773232,
          83860.85442773232,
          83860.85442773232,
          83860.85442773232,
          84667.03780411817,
          84667.03780411817,
          84667.03780411817,
          84667.03780411817,
          84667.03780411817,
          85436.0661720382,
          85436.0661720382,
          85436.0661720382,
          85436.0661720382,
          85436.0661720382,
          86169.65191442487,
          86169.65191442487,
          86169.65191442487,
          86169.65191442487,
          86169.65191442487,
          86869.42849469387,
          86869.42849469387,
          86869.42849469387,
          86869.42849469387,
          86869.42849469387
         ],
         "yaxis": "y6"
        },
        {
         "type": "histogram",
         "x": [
          12149,
          14299,
          14299,
          12750,
          17499,
          21699,
          16599,
          20099,
          15799,
          19099,
          25099,
          24899,
          20099,
          24699,
          21199,
          26949,
          24999,
          21199,
          32249,
          26799,
          45999,
          47499,
          46599,
          58999,
          48599,
          48599,
          61499,
          49499,
          57499,
          55999,
          56099,
          57599,
          57399,
          58149,
          65699,
          65899,
          64399,
          64499,
          67499,
          72599,
          79499,
          81199,
          85700,
          89999
         ],
         "xaxis": "x9",
         "yaxis": "y9"
        }
       ],
       "layout": {
        "annotations": [
         {
          "font": {
           "size": 16
          },
          "showarrow": false,
          "text": "GESLOTEN",
          "x": 0.14444444444444446,
          "xanchor": "center",
          "xref": "paper",
          "y": 1,
          "yanchor": "bottom",
          "yref": "paper"
         },
         {
          "font": {
           "size": 16
          },
          "showarrow": false,
          "text": "HALF_OPEN",
          "x": 0.5,
          "xanchor": "center",
          "xref": "paper",
          "y": 1,
          "yanchor": "bottom",
          "yref": "paper"
         },
         {
          "font": {
           "size": 16
          },
          "showarrow": false,
          "text": "OPEN",
          "x": 0.8555555555555556,
          "xanchor": "center",
          "xref": "paper",
          "y": 1,
          "yanchor": "bottom",
          "yref": "paper"
         }
        ],
        "height": 800,
        "showlegend": true,
        "template": {
         "data": {
          "bar": [
           {
            "error_x": {
             "color": "#2a3f5f"
            },
            "error_y": {
             "color": "#2a3f5f"
            },
            "marker": {
             "line": {
              "color": "#E5ECF6",
              "width": 0.5
             },
             "pattern": {
              "fillmode": "overlay",
              "size": 10,
              "solidity": 0.2
             }
            },
            "type": "bar"
           }
          ],
          "barpolar": [
           {
            "marker": {
             "line": {
              "color": "#E5ECF6",
              "width": 0.5
             },
             "pattern": {
              "fillmode": "overlay",
              "size": 10,
              "solidity": 0.2
             }
            },
            "type": "barpolar"
           }
          ],
          "carpet": [
           {
            "aaxis": {
             "endlinecolor": "#2a3f5f",
             "gridcolor": "white",
             "linecolor": "white",
             "minorgridcolor": "white",
             "startlinecolor": "#2a3f5f"
            },
            "baxis": {
             "endlinecolor": "#2a3f5f",
             "gridcolor": "white",
             "linecolor": "white",
             "minorgridcolor": "white",
             "startlinecolor": "#2a3f5f"
            },
            "type": "carpet"
           }
          ],
          "choropleth": [
           {
            "colorbar": {
             "outlinewidth": 0,
             "ticks": ""
            },
            "type": "choropleth"
           }
          ],
          "contour": [
           {
            "colorbar": {
             "outlinewidth": 0,
             "ticks": ""
            },
            "colorscale": [
             [
              0,
              "#0d0887"
             ],
             [
              0.1111111111111111,
              "#46039f"
             ],
             [
              0.2222222222222222,
              "#7201a8"
             ],
             [
              0.3333333333333333,
              "#9c179e"
             ],
             [
              0.4444444444444444,
              "#bd3786"
             ],
             [
              0.5555555555555556,
              "#d8576b"
             ],
             [
              0.6666666666666666,
              "#ed7953"
             ],
             [
              0.7777777777777778,
              "#fb9f3a"
             ],
             [
              0.8888888888888888,
              "#fdca26"
             ],
             [
              1,
              "#f0f921"
             ]
            ],
            "type": "contour"
           }
          ],
          "contourcarpet": [
           {
            "colorbar": {
             "outlinewidth": 0,
             "ticks": ""
            },
            "type": "contourcarpet"
           }
          ],
          "heatmap": [
           {
            "colorbar": {
             "outlinewidth": 0,
             "ticks": ""
            },
            "colorscale": [
             [
              0,
              "#0d0887"
             ],
             [
              0.1111111111111111,
              "#46039f"
             ],
             [
              0.2222222222222222,
              "#7201a8"
             ],
             [
              0.3333333333333333,
              "#9c179e"
             ],
             [
              0.4444444444444444,
              "#bd3786"
             ],
             [
              0.5555555555555556,
              "#d8576b"
             ],
             [
              0.6666666666666666,
              "#ed7953"
             ],
             [
              0.7777777777777778,
              "#fb9f3a"
             ],
             [
              0.8888888888888888,
              "#fdca26"
             ],
             [
              1,
              "#f0f921"
             ]
            ],
            "type": "heatmap"
           }
          ],
          "heatmapgl": [
           {
            "colorbar": {
             "outlinewidth": 0,
             "ticks": ""
            },
            "colorscale": [
             [
              0,
              "#0d0887"
             ],
             [
              0.1111111111111111,
              "#46039f"
             ],
             [
              0.2222222222222222,
              "#7201a8"
             ],
             [
              0.3333333333333333,
              "#9c179e"
             ],
             [
              0.4444444444444444,
              "#bd3786"
             ],
             [
              0.5555555555555556,
              "#d8576b"
             ],
             [
              0.6666666666666666,
              "#ed7953"
             ],
             [
              0.7777777777777778,
              "#fb9f3a"
             ],
             [
              0.8888888888888888,
              "#fdca26"
             ],
             [
              1,
              "#f0f921"
             ]
            ],
            "type": "heatmapgl"
           }
          ],
          "histogram": [
           {
            "marker": {
             "pattern": {
              "fillmode": "overlay",
              "size": 10,
              "solidity": 0.2
             }
            },
            "type": "histogram"
           }
          ],
          "histogram2d": [
           {
            "colorbar": {
             "outlinewidth": 0,
             "ticks": ""
            },
            "colorscale": [
             [
              0,
              "#0d0887"
             ],
             [
              0.1111111111111111,
              "#46039f"
             ],
             [
              0.2222222222222222,
              "#7201a8"
             ],
             [
              0.3333333333333333,
              "#9c179e"
             ],
             [
              0.4444444444444444,
              "#bd3786"
             ],
             [
              0.5555555555555556,
              "#d8576b"
             ],
             [
              0.6666666666666666,
              "#ed7953"
             ],
             [
              0.7777777777777778,
              "#fb9f3a"
             ],
             [
              0.8888888888888888,
              "#fdca26"
             ],
             [
              1,
              "#f0f921"
             ]
            ],
            "type": "histogram2d"
           }
          ],
          "histogram2dcontour": [
           {
            "colorbar": {
             "outlinewidth": 0,
             "ticks": ""
            },
            "colorscale": [
             [
              0,
              "#0d0887"
             ],
             [
              0.1111111111111111,
              "#46039f"
             ],
             [
              0.2222222222222222,
              "#7201a8"
             ],
             [
              0.3333333333333333,
              "#9c179e"
             ],
             [
              0.4444444444444444,
              "#bd3786"
             ],
             [
              0.5555555555555556,
              "#d8576b"
             ],
             [
              0.6666666666666666,
              "#ed7953"
             ],
             [
              0.7777777777777778,
              "#fb9f3a"
             ],
             [
              0.8888888888888888,
              "#fdca26"
             ],
             [
              1,
              "#f0f921"
             ]
            ],
            "type": "histogram2dcontour"
           }
          ],
          "mesh3d": [
           {
            "colorbar": {
             "outlinewidth": 0,
             "ticks": ""
            },
            "type": "mesh3d"
           }
          ],
          "parcoords": [
           {
            "line": {
             "colorbar": {
              "outlinewidth": 0,
              "ticks": ""
             }
            },
            "type": "parcoords"
           }
          ],
          "pie": [
           {
            "automargin": true,
            "type": "pie"
           }
          ],
          "scatter": [
           {
            "fillpattern": {
             "fillmode": "overlay",
             "size": 10,
             "solidity": 0.2
            },
            "type": "scatter"
           }
          ],
          "scatter3d": [
           {
            "line": {
             "colorbar": {
              "outlinewidth": 0,
              "ticks": ""
             }
            },
            "marker": {
             "colorbar": {
              "outlinewidth": 0,
              "ticks": ""
             }
            },
            "type": "scatter3d"
           }
          ],
          "scattercarpet": [
           {
            "marker": {
             "colorbar": {
              "outlinewidth": 0,
              "ticks": ""
             }
            },
            "type": "scattercarpet"
           }
          ],
          "scattergeo": [
           {
            "marker": {
             "colorbar": {
              "outlinewidth": 0,
              "ticks": ""
             }
            },
            "type": "scattergeo"
           }
          ],
          "scattergl": [
           {
            "marker": {
             "colorbar": {
              "outlinewidth": 0,
              "ticks": ""
             }
            },
            "type": "scattergl"
           }
          ],
          "scattermapbox": [
           {
            "marker": {
             "colorbar": {
              "outlinewidth": 0,
              "ticks": ""
             }
            },
            "type": "scattermapbox"
           }
          ],
          "scatterpolar": [
           {
            "marker": {
             "colorbar": {
              "outlinewidth": 0,
              "ticks": ""
             }
            },
            "type": "scatterpolar"
           }
          ],
          "scatterpolargl": [
           {
            "marker": {
             "colorbar": {
              "outlinewidth": 0,
              "ticks": ""
             }
            },
            "type": "scatterpolargl"
           }
          ],
          "scatterternary": [
           {
            "marker": {
             "colorbar": {
              "outlinewidth": 0,
              "ticks": ""
             }
            },
            "type": "scatterternary"
           }
          ],
          "surface": [
           {
            "colorbar": {
             "outlinewidth": 0,
             "ticks": ""
            },
            "colorscale": [
             [
              0,
              "#0d0887"
             ],
             [
              0.1111111111111111,
              "#46039f"
             ],
             [
              0.2222222222222222,
              "#7201a8"
             ],
             [
              0.3333333333333333,
              "#9c179e"
             ],
             [
              0.4444444444444444,
              "#bd3786"
             ],
             [
              0.5555555555555556,
              "#d8576b"
             ],
             [
              0.6666666666666666,
              "#ed7953"
             ],
             [
              0.7777777777777778,
              "#fb9f3a"
             ],
             [
              0.8888888888888888,
              "#fdca26"
             ],
             [
              1,
              "#f0f921"
             ]
            ],
            "type": "surface"
           }
          ],
          "table": [
           {
            "cells": {
             "fill": {
              "color": "#EBF0F8"
             },
             "line": {
              "color": "white"
             }
            },
            "header": {
             "fill": {
              "color": "#C8D4E3"
             },
             "line": {
              "color": "white"
             }
            },
            "type": "table"
           }
          ]
         },
         "layout": {
          "annotationdefaults": {
           "arrowcolor": "#2a3f5f",
           "arrowhead": 0,
           "arrowwidth": 1
          },
          "autotypenumbers": "strict",
          "coloraxis": {
           "colorbar": {
            "outlinewidth": 0,
            "ticks": ""
           }
          },
          "colorscale": {
           "diverging": [
            [
             0,
             "#8e0152"
            ],
            [
             0.1,
             "#c51b7d"
            ],
            [
             0.2,
             "#de77ae"
            ],
            [
             0.3,
             "#f1b6da"
            ],
            [
             0.4,
             "#fde0ef"
            ],
            [
             0.5,
             "#f7f7f7"
            ],
            [
             0.6,
             "#e6f5d0"
            ],
            [
             0.7,
             "#b8e186"
            ],
            [
             0.8,
             "#7fbc41"
            ],
            [
             0.9,
             "#4d9221"
            ],
            [
             1,
             "#276419"
            ]
           ],
           "sequential": [
            [
             0,
             "#0d0887"
            ],
            [
             0.1111111111111111,
             "#46039f"
            ],
            [
             0.2222222222222222,
             "#7201a8"
            ],
            [
             0.3333333333333333,
             "#9c179e"
            ],
            [
             0.4444444444444444,
             "#bd3786"
            ],
            [
             0.5555555555555556,
             "#d8576b"
            ],
            [
             0.6666666666666666,
             "#ed7953"
            ],
            [
             0.7777777777777778,
             "#fb9f3a"
            ],
            [
             0.8888888888888888,
             "#fdca26"
            ],
            [
             1,
             "#f0f921"
            ]
           ],
           "sequentialminus": [
            [
             0,
             "#0d0887"
            ],
            [
             0.1111111111111111,
             "#46039f"
            ],
            [
             0.2222222222222222,
             "#7201a8"
            ],
            [
             0.3333333333333333,
             "#9c179e"
            ],
            [
             0.4444444444444444,
             "#bd3786"
            ],
            [
             0.5555555555555556,
             "#d8576b"
            ],
            [
             0.6666666666666666,
             "#ed7953"
            ],
            [
             0.7777777777777778,
             "#fb9f3a"
            ],
            [
             0.8888888888888888,
             "#fdca26"
            ],
            [
             1,
             "#f0f921"
            ]
           ]
          },
          "colorway": [
           "#636efa",
           "#EF553B",
           "#00cc96",
           "#ab63fa",
           "#FFA15A",
           "#19d3f3",
           "#FF6692",
           "#B6E880",
           "#FF97FF",
           "#FECB52"
          ],
          "font": {
           "color": "#2a3f5f"
          },
          "geo": {
           "bgcolor": "white",
           "lakecolor": "white",
           "landcolor": "#E5ECF6",
           "showlakes": true,
           "showland": true,
           "subunitcolor": "white"
          },
          "hoverlabel": {
           "align": "left"
          },
          "hovermode": "closest",
          "mapbox": {
           "style": "light"
          },
          "paper_bgcolor": "white",
          "plot_bgcolor": "#E5ECF6",
          "polar": {
           "angularaxis": {
            "gridcolor": "white",
            "linecolor": "white",
            "ticks": ""
           },
           "bgcolor": "#E5ECF6",
           "radialaxis": {
            "gridcolor": "white",
            "linecolor": "white",
            "ticks": ""
           }
          },
          "scene": {
           "xaxis": {
            "backgroundcolor": "#E5ECF6",
            "gridcolor": "white",
            "gridwidth": 2,
            "linecolor": "white",
            "showbackground": true,
            "ticks": "",
            "zerolinecolor": "white"
           },
           "yaxis": {
            "backgroundcolor": "#E5ECF6",
            "gridcolor": "white",
            "gridwidth": 2,
            "linecolor": "white",
            "showbackground": true,
            "ticks": "",
            "zerolinecolor": "white"
           },
           "zaxis": {
            "backgroundcolor": "#E5ECF6",
            "gridcolor": "white",
            "gridwidth": 2,
            "linecolor": "white",
            "showbackground": true,
            "ticks": "",
            "zerolinecolor": "white"
           }
          },
          "shapedefaults": {
           "line": {
            "color": "#2a3f5f"
           }
          },
          "ternary": {
           "aaxis": {
            "gridcolor": "white",
            "linecolor": "white",
            "ticks": ""
           },
           "baxis": {
            "gridcolor": "white",
            "linecolor": "white",
            "ticks": ""
           },
           "bgcolor": "#E5ECF6",
           "caxis": {
            "gridcolor": "white",
            "linecolor": "white",
            "ticks": ""
           }
          },
          "title": {
           "x": 0.05
          },
          "xaxis": {
           "automargin": true,
           "gridcolor": "white",
           "linecolor": "white",
           "ticks": "",
           "title": {
            "standoff": 15
           },
           "zerolinecolor": "white",
           "zerolinewidth": 2
          },
          "yaxis": {
           "automargin": true,
           "gridcolor": "white",
           "linecolor": "white",
           "ticks": "",
           "title": {
            "standoff": 15
           },
           "zerolinecolor": "white",
           "zerolinewidth": 2
          }
         }
        },
        "title": {
         "text": "CO2 Emissions Over Years by Building Type with gasboilers and A labels"
        },
        "width": 1600,
        "xaxis": {
         "anchor": "y",
         "domain": [
          0,
          0.2888888888888889
         ],
         "title": {
          "text": "Year"
         }
        },
        "xaxis2": {
         "anchor": "y2",
         "domain": [
          0.35555555555555557,
          0.6444444444444445
         ],
         "title": {
          "text": "Year"
         }
        },
        "xaxis3": {
         "anchor": "y3",
         "domain": [
          0.7111111111111111,
          1
         ],
         "title": {
          "text": "Year"
         }
        },
        "xaxis4": {
         "anchor": "y4",
         "domain": [
          0,
          0.2888888888888889
         ]
        },
        "xaxis5": {
         "anchor": "y5",
         "domain": [
          0.35555555555555557,
          0.6444444444444445
         ]
        },
        "xaxis6": {
         "anchor": "y6",
         "domain": [
          0.7111111111111111,
          1
         ]
        },
        "xaxis7": {
         "anchor": "y7",
         "domain": [
          0,
          0.2888888888888889
         ],
         "title": {
          "text": "Investment cost [€]"
         }
        },
        "xaxis8": {
         "anchor": "y8",
         "domain": [
          0.35555555555555557,
          0.6444444444444445
         ],
         "title": {
          "text": "Investment cost [€]"
         }
        },
        "xaxis9": {
         "anchor": "y9",
         "domain": [
          0.7111111111111111,
          1
         ],
         "title": {
          "text": "Investment cost [€]"
         }
        },
        "yaxis": {
         "anchor": "x",
         "domain": [
          0.7777777777777778,
          1
         ],
         "range": [
          -45000,
          120000
         ],
         "title": {
          "text": "Gross CO2 Emissions (kg)"
         }
        },
        "yaxis2": {
         "anchor": "x2",
         "domain": [
          0.7777777777777778,
          1
         ],
         "matches": "y",
         "range": [
          -45000,
          120000
         ],
         "showticklabels": false
        },
        "yaxis3": {
         "anchor": "x3",
         "domain": [
          0.7777777777777778,
          1
         ],
         "matches": "y",
         "range": [
          -45000,
          120000
         ],
         "showticklabels": false
        },
        "yaxis4": {
         "anchor": "x4",
         "domain": [
          0.3888888888888889,
          0.6111111111111112
         ],
         "range": [
          -20000,
          100000
         ],
         "title": {
          "text": "Net CO2 Emissions (kg)"
         }
        },
        "yaxis5": {
         "anchor": "x5",
         "domain": [
          0.3888888888888889,
          0.6111111111111112
         ],
         "matches": "y4",
         "range": [
          -20000,
          100000
         ],
         "showticklabels": false
        },
        "yaxis6": {
         "anchor": "x6",
         "domain": [
          0.3888888888888889,
          0.6111111111111112
         ],
         "matches": "y4",
         "range": [
          -20000,
          100000
         ],
         "showticklabels": false
        },
        "yaxis7": {
         "anchor": "x7",
         "domain": [
          0,
          0.22222222222222224
         ],
         "range": [
          0,
          30
         ],
         "title": {
          "text": "Count"
         }
        },
        "yaxis8": {
         "anchor": "x8",
         "domain": [
          0,
          0.22222222222222224
         ],
         "matches": "y7",
         "range": [
          0,
          30
         ],
         "showticklabels": false
        },
        "yaxis9": {
         "anchor": "x9",
         "domain": [
          0,
          0.22222222222222224
         ],
         "matches": "y7",
         "range": [
          0,
          30
         ],
         "showticklabels": false
        }
       }
      },
      "text/html": [
       "<div>                            <div id=\"e0d5f956-bfcc-44c0-9639-f932adbbe374\" class=\"plotly-graph-div\" style=\"height:800px; width:1600px;\"></div>            <script type=\"text/javascript\">                require([\"plotly\"], function(Plotly) {                    window.PLOTLYENV=window.PLOTLYENV || {};                                    if (document.getElementById(\"e0d5f956-bfcc-44c0-9639-f932adbbe374\")) {                    Plotly.newPlot(                        \"e0d5f956-bfcc-44c0-9639-f932adbbe374\",                        [{\"fill\":\"tonexty\",\"name\":\"GESLOTEN - Modified CO2 Emissions\",\"x\":[2025,2025,2025,2025,2025,2026,2026,2026,2026,2026,2027,2027,2027,2027,2027,2028,2028,2028,2028,2028,2029,2029,2029,2029,2029,2030,2030,2030,2030,2030,2031,2031,2031,2031,2031,2032,2032,2032,2032,2032,2033,2033,2033,2033,2033,2034,2034,2034,2034,2034,2035,2035,2035,2035,2035,2036,2036,2036,2036,2036,2037,2037,2037,2037,2037,2038,2038,2038,2038,2038,2039,2039,2039,2039,2039,2040,2040,2040,2040,2040],\"y\":[74666.67928503598,74666.67928503598,74666.67928503598,74666.67928503598,74666.67928503598,74123.89913493647,74123.89913493647,74123.89913493647,74123.89913493647,74123.89913493647,73606.13438662114,73606.13438662114,73606.13438662114,73606.13438662114,73606.13438662114,73112.23214176402,73112.23214176402,73112.23214176402,73112.23214176402,73112.23214176402,72641.09263628663,72641.09263628663,72641.09263628663,72641.09263628663,72641.09263628663,72191.66679153123,72191.66679153123,72191.66679153123,72191.66679153123,72191.66679153123,71762.9538782946,71762.9538782946,71762.9538782946,71762.9538782946,71762.9538782946,71353.99928852044,71353.99928852044,71353.99928852044,71353.99928852044,71353.99928852044,70963.89240968929,70963.89240968929,70963.89240968929,70963.89240968929,70963.89240968929,70591.76459717246,70591.76459717246,70591.76459717246,70591.76459717246,70591.76459717246,70236.78724003513,70236.78724003513,70236.78724003513,70236.78724003513,70236.78724003513,69898.16991598201,69898.16991598201,69898.16991598201,69898.16991598201,69898.16991598201,69575.15863133676,69575.15863133676,69575.15863133676,69575.15863133676,69575.15863133676,69267.03414213668,69267.03414213668,69267.03414213668,69267.03414213668,69267.03414213668,68973.11035260379,68973.11035260379,68973.11035260379,68973.11035260379,68973.11035260379,68692.73278742663,68692.73278742663,68692.73278742663,68692.73278742663,68692.73278742663],\"type\":\"scatter\",\"xaxis\":\"x\",\"yaxis\":\"y\"},{\"fill\":\"tonexty\",\"name\":\"GESLOTEN - Solar CO2 Emissions\",\"x\":[2025,2025,2025,2025,2025,2026,2026,2026,2026,2026,2027,2027,2027,2027,2027,2028,2028,2028,2028,2028,2029,2029,2029,2029,2029,2030,2030,2030,2030,2030,2031,2031,2031,2031,2031,2032,2032,2032,2032,2032,2033,2033,2033,2033,2033,2034,2034,2034,2034,2034,2035,2035,2035,2035,2035,2036,2036,2036,2036,2036,2037,2037,2037,2037,2037,2038,2038,2038,2038,2038,2039,2039,2039,2039,2039,2040,2040,2040,2040,2040],\"y\":[-18206.64896620063,-18206.64896620063,-18206.64896620063,-18206.64896620063,-18206.64896620063,-17367.549306883095,-17367.549306883095,-17367.549306883095,-17367.549306883095,-17367.549306883095,-16567.12168653187,-16567.12168653187,-16567.12168653187,-16567.12168653187,-16567.12168653187,-15803.583806010964,-15803.583806010964,-15803.583806010964,-15803.583806010964,-15803.583806010964,-15075.23550796679,-15075.23550796679,-15075.23550796679,-15075.23550796679,-15075.23550796679,-14380.45499111552,-14380.45499111552,-14380.45499111552,-14380.45499111552,-14380.45499111552,-13717.695199004575,-13717.695199004575,-13717.695199004575,-13717.695199004575,-13717.695199004575,-13085.480375207237,-13085.480375207237,-13085.480375207237,-13085.480375207237,-13085.480375207237,-12482.40277727989,-12482.40277727989,-12482.40277727989,-12482.40277727989,-12482.40277727989,-11907.119542164855,-11907.119542164855,-11907.119542164855,-11907.119542164855,-11907.119542164855,-11358.349696059082,-11358.349696059082,-11358.349696059082,-11358.349696059082,-11358.349696059082,-10834.871302090713,-10834.871302090713,-10834.871302090713,-10834.871302090713,-10834.871302090713,-10335.51873945212,-10335.51873945212,-10335.51873945212,-10335.51873945212,-10335.51873945212,-9859.180107931064,-9859.180107931064,-9859.180107931064,-9859.180107931064,-9859.180107931064,-9404.79475206063,-9404.79475206063,-9404.79475206063,-9404.79475206063,-9404.79475206063,-8971.350899374971,-8971.350899374971,-8971.350899374971,-8971.350899374971,-8971.350899374971],\"type\":\"scatter\",\"xaxis\":\"x\",\"yaxis\":\"y\"},{\"fill\":\"tonexty\",\"name\":\"GESLOTEN - Net CO2 Emissions\",\"x\":[2025,2025,2025,2025,2025,2026,2026,2026,2026,2026,2027,2027,2027,2027,2027,2028,2028,2028,2028,2028,2029,2029,2029,2029,2029,2030,2030,2030,2030,2030,2031,2031,2031,2031,2031,2032,2032,2032,2032,2032,2033,2033,2033,2033,2033,2034,2034,2034,2034,2034,2035,2035,2035,2035,2035,2036,2036,2036,2036,2036,2037,2037,2037,2037,2037,2038,2038,2038,2038,2038,2039,2039,2039,2039,2039,2040,2040,2040,2040,2040],\"y\":[56460.030318835335,56460.030318835335,56460.030318835335,56460.030318835335,56460.030318835335,56756.349828053375,56756.349828053375,56756.349828053375,56756.349828053375,56756.349828053375,57039.01270008928,57039.01270008928,57039.01270008928,57039.01270008928,57039.01270008928,57308.64833575306,57308.64833575306,57308.64833575306,57308.64833575306,57308.64833575306,57565.85712831982,57565.85712831982,57565.85712831982,57565.85712831982,57565.85712831982,57811.21180041571,57811.21180041571,57811.21180041571,57811.21180041571,57811.21180041571,58045.25867929003,58045.25867929003,58045.25867929003,58045.25867929003,58045.25867929003,58268.5189133132,58268.5189133132,58268.5189133132,58268.5189133132,58268.5189133132,58481.4896324094,58481.4896324094,58481.4896324094,58481.4896324094,58481.4896324094,58684.64505500759,58684.64505500759,58684.64505500759,58684.64505500759,58684.64505500759,58878.43754397605,58878.43754397605,58878.43754397605,58878.43754397605,58878.43754397605,59063.29861389129,59063.29861389129,59063.29861389129,59063.29861389129,59063.29861389129,59239.63989188464,59239.63989188464,59239.63989188464,59239.63989188464,59239.63989188464,59407.85403420561,59407.85403420561,59407.85403420561,59407.85403420561,59407.85403420561,59568.31560054316,59568.31560054316,59568.31560054316,59568.31560054316,59568.31560054316,59721.38188805166,59721.38188805166,59721.38188805166,59721.38188805166,59721.38188805166],\"type\":\"scatter\",\"xaxis\":\"x4\",\"yaxis\":\"y4\"},{\"x\":[6099,10849,5199,6599,6599,12199,12149,6599,15849,14599,6599,12399,17849,16599,16549,13199,11299,11299,18649,18299,17149,17499,19649,28099,30649,30899,30799,27999,32999,29599,34699,37049,38399,36099,38899,39899,34699,34599,43299,37699,42099,41099,42499,44099,48599],\"type\":\"histogram\",\"xaxis\":\"x7\",\"yaxis\":\"y7\"},{\"fill\":\"tonexty\",\"name\":\"HALF_OPEN - Modified CO2 Emissions\",\"x\":[2025,2025,2025,2025,2025,2026,2026,2026,2026,2026,2027,2027,2027,2027,2027,2028,2028,2028,2028,2028,2029,2029,2029,2029,2029,2030,2030,2030,2030,2030,2031,2031,2031,2031,2031,2032,2032,2032,2032,2032,2033,2033,2033,2033,2033,2034,2034,2034,2034,2034,2035,2035,2035,2035,2035,2036,2036,2036,2036,2036,2037,2037,2037,2037,2037,2038,2038,2038,2038,2038,2039,2039,2039,2039,2039,2040,2040,2040,2040,2040],\"y\":[88475.66448445406,88475.66448445406,88475.66448445406,88475.66448445406,88475.66448445406,88004.77084942539,88004.77084942539,88004.77084942539,88004.77084942539,88004.77084942539,87555.57954355466,87555.57954355466,87555.57954355466,87555.57954355466,87555.57954355466,87127.09035988247,87127.09035988247,87127.09035988247,87127.09035988247,87127.09035988247,86718.34918852756,86718.34918852756,86718.34918852756,86718.34918852756,86718.34918852756,86328.44589218574,86328.44589218574,86328.44589218574,86328.44589218574,86328.44589218574,85956.51227954215,85956.51227954215,85956.51227954215,85956.51227954215,85956.51227954215,85601.7201720837,85601.7201720837,85601.7201720837,85601.7201720837,85601.7201720837,85263.2795600075,85263.2795600075,85263.2795600075,85263.2795600075,85263.2795600075,84940.43684311889,84940.43684311889,84940.43684311889,84940.43684311889,84940.43684311889,84632.47315280222,84632.47315280222,84632.47315280222,84632.47315280222,84632.47315280222,84338.70275132784,84338.70275132784,84338.70275132784,84338.70275132784,84338.70275132784,84058.47150493096,84058.47150493096,84058.47150493096,84058.47150493096,84058.47150493096,83791.15542726268,83791.15542726268,83791.15542726268,83791.15542726268,83791.15542726268,83536.15928996995,83536.15928996995,83536.15928996995,83536.15928996995,83536.15928996995,83292.91529731003,83292.91529731003,83292.91529731003,83292.91529731003,83292.91529731003],\"type\":\"scatter\",\"xaxis\":\"x2\",\"yaxis\":\"y2\"},{\"fill\":\"tonexty\",\"name\":\"HALF_OPEN - Solar CO2 Emissions\",\"x\":[2025,2025,2025,2025,2025,2026,2026,2026,2026,2026,2027,2027,2027,2027,2027,2028,2028,2028,2028,2028,2029,2029,2029,2029,2029,2030,2030,2030,2030,2030,2031,2031,2031,2031,2031,2032,2032,2032,2032,2032,2033,2033,2033,2033,2033,2034,2034,2034,2034,2034,2035,2035,2035,2035,2035,2036,2036,2036,2036,2036,2037,2037,2037,2037,2037,2038,2038,2038,2038,2038,2039,2039,2039,2039,2039,2040,2040,2040,2040,2040],\"y\":[-26235.741483358055,-26235.741483358055,-26235.741483358055,-26235.741483358055,-26235.741483358055,-25026.600702893906,-25026.600702893906,-25026.600702893906,-25026.600702893906,-25026.600702893906,-23873.186246303965,-23873.186246303965,-23873.186246303965,-23873.186246303965,-23873.186246303965,-22772.929824417344,-22772.929824417344,-22772.929824417344,-22772.929824417344,-22772.929824417344,-21723.381514192613,-21723.381514192613,-21723.381514192613,-21723.381514192613,-21723.381514192613,-20722.20430351408,-20722.20430351408,-20722.20430351408,-20722.20430351408,-20722.20430351408,-19767.16888740503,-19767.16888740503,-19767.16888740503,-19767.16888740503,-19767.16888740503,-18856.148704070594,-18856.148704070594,-18856.148704070594,-18856.148704070594,-18856.148704070594,-17987.11519971737,-17987.11519971737,-17987.11519971737,-17987.11519971737,-17987.11519971737,-17158.133311605663,-17158.133311605663,-17158.133311605663,-17158.133311605663,-17158.133311605663,-16367.357159276868,-16367.357159276868,-16367.357159276868,-16367.357159276868,-16367.357159276868,-15613.025934361538,-15613.025934361538,-15613.025934361538,-15613.025934361538,-15613.025934361538,-14893.45997981606,-14893.45997981606,-14893.45997981606,-14893.45997981606,-14893.45997981606,-14207.05704985773,-14207.05704985773,-14207.05704985773,-14207.05704985773,-14207.05704985773,-13552.28874227015,-13552.28874227015,-13552.28874227015,-13552.28874227015,-13552.28874227015,-12927.697095134945,-12927.697095134945,-12927.697095134945,-12927.697095134945,-12927.697095134945],\"type\":\"scatter\",\"xaxis\":\"x2\",\"yaxis\":\"y2\"},{\"fill\":\"tonexty\",\"name\":\"HALF_OPEN - Net CO2 Emissions\",\"x\":[2025,2025,2025,2025,2025,2026,2026,2026,2026,2026,2027,2027,2027,2027,2027,2028,2028,2028,2028,2028,2029,2029,2029,2029,2029,2030,2030,2030,2030,2030,2031,2031,2031,2031,2031,2032,2032,2032,2032,2032,2033,2033,2033,2033,2033,2034,2034,2034,2034,2034,2035,2035,2035,2035,2035,2036,2036,2036,2036,2036,2037,2037,2037,2037,2037,2038,2038,2038,2038,2038,2039,2039,2039,2039,2039,2040,2040,2040,2040,2040],\"y\":[62239.92300109599,62239.92300109599,62239.92300109599,62239.92300109599,62239.92300109599,62978.170146531476,62978.170146531476,62978.170146531476,62978.170146531476,62978.170146531476,63682.39329725069,63682.39329725069,63682.39329725069,63682.39329725069,63682.39329725069,64354.160535465126,64354.160535465126,64354.160535465126,64354.160535465126,64354.160535465126,64994.96767433494,64994.96767433494,64994.96767433494,64994.96767433494,64994.96767433494,65606.24158867166,65606.24158867166,65606.24158867166,65606.24158867166,65606.24158867166,66189.34339213713,66189.34339213713,66189.34339213713,66189.34339213713,66189.34339213713,66745.57146801309,66745.57146801309,66745.57146801309,66745.57146801309,66745.57146801309,67276.16436029013,67276.16436029013,67276.16436029013,67276.16436029013,67276.16436029013,67782.30353151321,67782.30353151321,67782.30353151321,67782.30353151321,67782.30353151321,68265.11599352537,68265.11599352537,68265.11599352537,68265.11599352537,68265.11599352537,68725.6768169663,68725.6768169663,68725.6768169663,68725.6768169663,68725.6768169663,69165.01152511488,69165.01152511488,69165.01152511488,69165.01152511488,69165.01152511488,69584.09837740495,69584.09837740495,69584.09837740495,69584.09837740495,69584.09837740495,69983.87054769979,69983.87054769979,69983.87054769979,69983.87054769979,69983.87054769979,70365.21820217508,70365.21820217508,70365.21820217508,70365.21820217508,70365.21820217508],\"type\":\"scatter\",\"xaxis\":\"x5\",\"yaxis\":\"y5\"},{\"x\":[6599,6599,12449,12449,6900,15699,12399,15699,12749,20399,20999,17299,14099,17299,19299,21899,22899,20499,18699,18699,31799,22999,34899,29199,39049,39949,42499,45949,48999,48699,46099,46399,48399,56499,54799,51749,55299,53599,53799,54999,56699,61249,61099,60499,77099],\"type\":\"histogram\",\"xaxis\":\"x8\",\"yaxis\":\"y8\"},{\"fill\":\"tonexty\",\"name\":\"OPEN - Modified CO2 Emissions\",\"x\":[2025,2025,2025,2025,2025,2026,2026,2026,2026,2026,2027,2027,2027,2027,2027,2028,2028,2028,2028,2028,2029,2029,2029,2029,2029,2030,2030,2030,2030,2030,2031,2031,2031,2031,2031,2032,2032,2032,2032,2032,2033,2033,2033,2033,2033,2034,2034,2034,2034,2034,2035,2035,2035,2035,2035,2036,2036,2036,2036,2036,2037,2037,2037,2037,2037,2038,2038,2038,2038,2038,2039,2039,2039,2039,2039,2040,2040,2040,2040,2040],\"y\":[110732.94725888447,110732.94725888447,110732.94725888447,110732.94725888447,110732.94725888447,110300.6619867217,110300.6619867217,110300.6619867217,110300.6619867217,110300.6619867217,109888.29967925571,109888.29967925571,109888.29967925571,109888.29967925571,109888.29967925571,109494.94213605757,109494.94213605757,109494.94213605757,109494.94213605757,109494.94213605757,109119.71347429718,109119.71347429718,109119.71347429718,109119.71347429718,109119.71347429718,108761.77817842936,108761.77817842936,108761.77817842936,108761.77817842936,108761.77817842936,108420.33923976475,108420.33923976475,108420.33923976475,108420.33923976475,108420.33923976475,108094.63638178381,108094.63638178381,108094.63638178381,108094.63638178381,108094.63638178381,107783.94436724133,107783.94436724133,107783.94436724133,107783.94436724133,107783.94436724133,107487.57138329252,107487.57138329252,107487.57138329252,107487.57138329252,107487.57138329252,107204.85750104464,107204.85750104464,107204.85750104464,107204.85750104464,107204.85750104464,106935.17320610405,106935.17320610405,106935.17320610405,106935.17320610405,106935.17320610405,106677.91799684685,106677.91799684685,106677.91799684685,106677.91799684685,106677.91799684685,106432.51904729157,106432.51904729157,106432.51904729157,106432.51904729157,106432.51904729157,106198.42993159704,106198.42993159704,106198.42993159704,106198.42993159704,106198.42993159704,105975.12940734481,105975.12940734481,105975.12940734481,105975.12940734481,105975.12940734481],\"type\":\"scatter\",\"xaxis\":\"x3\",\"yaxis\":\"y3\"},{\"fill\":\"tonexty\",\"name\":\"OPEN - Solar CO2 Emissions\",\"x\":[2025,2025,2025,2025,2025,2026,2026,2026,2026,2026,2027,2027,2027,2027,2027,2028,2028,2028,2028,2028,2029,2029,2029,2029,2029,2030,2030,2030,2030,2030,2031,2031,2031,2031,2031,2032,2032,2032,2032,2032,2033,2033,2033,2033,2033,2034,2034,2034,2034,2034,2035,2035,2035,2035,2035,2036,2036,2036,2036,2036,2037,2037,2037,2037,2037,2038,2038,2038,2038,2038,2039,2039,2039,2039,2039,2040,2040,2040,2040,2040],\"y\":[-38773.512893592095,-38773.512893592095,-38773.512893592095,-38773.512893592095,-38773.512893592095,-36986.537073936546,-36986.537073936546,-36986.537073936546,-36986.537073936546,-36986.537073936546,-35281.91857353647,-35281.91857353647,-35281.91857353647,-35281.91857353647,-35281.91857353647,-33655.861746160765,-33655.861746160765,-33655.861746160765,-33655.861746160765,-33655.861746160765,-32104.74587757517,-32104.74587757517,-32104.74587757517,-32104.74587757517,-32104.74587757517,-30625.11712335686,-30625.11712335686,-30625.11712335686,-30625.11712335686,-30625.11712335686,-29213.68081827547,-29213.68081827547,-29213.68081827547,-29213.68081827547,-29213.68081827547,-27867.294140115573,-27867.294140115573,-27867.294140115573,-27867.294140115573,-27867.294140115573,-26582.959111605818,-26582.959111605818,-26582.959111605818,-26582.959111605818,-26582.959111605818,-25357.815924871702,-25357.815924871702,-25357.815924871702,-25357.815924871702,-25357.815924871702,-24189.136573548065,-24189.136573548065,-24189.136573548065,-24189.136573548065,-24189.136573548065,-23074.31877837173,-23074.31877837173,-23074.31877837173,-23074.31877837173,-23074.31877837173,-22010.880192728677,-22010.880192728677,-22010.880192728677,-22010.880192728677,-22010.880192728677,-20996.45287525336,-20996.45287525336,-20996.45287525336,-20996.45287525336,-20996.45287525336,-20028.77801717219,-20028.77801717219,-20028.77801717219,-20028.77801717219,-20028.77801717219,-19105.700912650922,-19105.700912650922,-19105.700912650922,-19105.700912650922,-19105.700912650922],\"type\":\"scatter\",\"xaxis\":\"x3\",\"yaxis\":\"y3\"},{\"fill\":\"tonexty\",\"name\":\"OPEN - Net CO2 Emissions\",\"x\":[2025,2025,2025,2025,2025,2026,2026,2026,2026,2026,2027,2027,2027,2027,2027,2028,2028,2028,2028,2028,2029,2029,2029,2029,2029,2030,2030,2030,2030,2030,2031,2031,2031,2031,2031,2032,2032,2032,2032,2032,2033,2033,2033,2033,2033,2034,2034,2034,2034,2034,2035,2035,2035,2035,2035,2036,2036,2036,2036,2036,2037,2037,2037,2037,2037,2038,2038,2038,2038,2038,2039,2039,2039,2039,2039,2040,2040,2040,2040,2040],\"y\":[71959.43436529237,71959.43436529237,71959.43436529237,71959.43436529237,71959.43436529237,73314.12491278515,73314.12491278515,73314.12491278515,73314.12491278515,73314.12491278515,74606.38110571924,74606.38110571924,74606.38110571924,74606.38110571924,74606.38110571924,75839.0803898968,75839.0803898968,75839.0803898968,75839.0803898968,75839.0803898968,77014.96759672205,77014.96759672205,77014.96759672205,77014.96759672205,77014.96759672205,78136.6610550725,78136.6610550725,78136.6610550725,78136.6610550725,78136.6610550725,79206.6584214893,79206.6584214893,79206.6584214893,79206.6584214893,79206.6584214893,80227.34224166824,80227.34224166824,80227.34224166824,80227.34224166824,80227.34224166824,81200.98525563553,81200.98525563553,81200.98525563553,81200.98525563553,81200.98525563553,82129.75545842083,82129.75545842083,82129.75545842083,82129.75545842083,82129.75545842083,83015.72092749657,83015.72092749657,83015.72092749657,83015.72092749657,83015.72092749657,83860.85442773232,83860.85442773232,83860.85442773232,83860.85442773232,83860.85442773232,84667.03780411817,84667.03780411817,84667.03780411817,84667.03780411817,84667.03780411817,85436.0661720382,85436.0661720382,85436.0661720382,85436.0661720382,85436.0661720382,86169.65191442487,86169.65191442487,86169.65191442487,86169.65191442487,86169.65191442487,86869.42849469387,86869.42849469387,86869.42849469387,86869.42849469387,86869.42849469387],\"type\":\"scatter\",\"xaxis\":\"x6\",\"yaxis\":\"y6\"},{\"x\":[12149,14299,14299,12750,17499,21699,16599,20099,15799,19099,25099,24899,20099,24699,21199,26949,24999,21199,32249,26799,45999,47499,46599,58999,48599,48599,61499,49499,57499,55999,56099,57599,57399,58149,65699,65899,64399,64499,67499,72599,79499,81199,85700,89999],\"type\":\"histogram\",\"xaxis\":\"x9\",\"yaxis\":\"y9\"}],                        {\"template\":{\"data\":{\"histogram2dcontour\":[{\"type\":\"histogram2dcontour\",\"colorbar\":{\"outlinewidth\":0,\"ticks\":\"\"},\"colorscale\":[[0.0,\"#0d0887\"],[0.1111111111111111,\"#46039f\"],[0.2222222222222222,\"#7201a8\"],[0.3333333333333333,\"#9c179e\"],[0.4444444444444444,\"#bd3786\"],[0.5555555555555556,\"#d8576b\"],[0.6666666666666666,\"#ed7953\"],[0.7777777777777778,\"#fb9f3a\"],[0.8888888888888888,\"#fdca26\"],[1.0,\"#f0f921\"]]}],\"choropleth\":[{\"type\":\"choropleth\",\"colorbar\":{\"outlinewidth\":0,\"ticks\":\"\"}}],\"histogram2d\":[{\"type\":\"histogram2d\",\"colorbar\":{\"outlinewidth\":0,\"ticks\":\"\"},\"colorscale\":[[0.0,\"#0d0887\"],[0.1111111111111111,\"#46039f\"],[0.2222222222222222,\"#7201a8\"],[0.3333333333333333,\"#9c179e\"],[0.4444444444444444,\"#bd3786\"],[0.5555555555555556,\"#d8576b\"],[0.6666666666666666,\"#ed7953\"],[0.7777777777777778,\"#fb9f3a\"],[0.8888888888888888,\"#fdca26\"],[1.0,\"#f0f921\"]]}],\"heatmap\":[{\"type\":\"heatmap\",\"colorbar\":{\"outlinewidth\":0,\"ticks\":\"\"},\"colorscale\":[[0.0,\"#0d0887\"],[0.1111111111111111,\"#46039f\"],[0.2222222222222222,\"#7201a8\"],[0.3333333333333333,\"#9c179e\"],[0.4444444444444444,\"#bd3786\"],[0.5555555555555556,\"#d8576b\"],[0.6666666666666666,\"#ed7953\"],[0.7777777777777778,\"#fb9f3a\"],[0.8888888888888888,\"#fdca26\"],[1.0,\"#f0f921\"]]}],\"heatmapgl\":[{\"type\":\"heatmapgl\",\"colorbar\":{\"outlinewidth\":0,\"ticks\":\"\"},\"colorscale\":[[0.0,\"#0d0887\"],[0.1111111111111111,\"#46039f\"],[0.2222222222222222,\"#7201a8\"],[0.3333333333333333,\"#9c179e\"],[0.4444444444444444,\"#bd3786\"],[0.5555555555555556,\"#d8576b\"],[0.6666666666666666,\"#ed7953\"],[0.7777777777777778,\"#fb9f3a\"],[0.8888888888888888,\"#fdca26\"],[1.0,\"#f0f921\"]]}],\"contourcarpet\":[{\"type\":\"contourcarpet\",\"colorbar\":{\"outlinewidth\":0,\"ticks\":\"\"}}],\"contour\":[{\"type\":\"contour\",\"colorbar\":{\"outlinewidth\":0,\"ticks\":\"\"},\"colorscale\":[[0.0,\"#0d0887\"],[0.1111111111111111,\"#46039f\"],[0.2222222222222222,\"#7201a8\"],[0.3333333333333333,\"#9c179e\"],[0.4444444444444444,\"#bd3786\"],[0.5555555555555556,\"#d8576b\"],[0.6666666666666666,\"#ed7953\"],[0.7777777777777778,\"#fb9f3a\"],[0.8888888888888888,\"#fdca26\"],[1.0,\"#f0f921\"]]}],\"surface\":[{\"type\":\"surface\",\"colorbar\":{\"outlinewidth\":0,\"ticks\":\"\"},\"colorscale\":[[0.0,\"#0d0887\"],[0.1111111111111111,\"#46039f\"],[0.2222222222222222,\"#7201a8\"],[0.3333333333333333,\"#9c179e\"],[0.4444444444444444,\"#bd3786\"],[0.5555555555555556,\"#d8576b\"],[0.6666666666666666,\"#ed7953\"],[0.7777777777777778,\"#fb9f3a\"],[0.8888888888888888,\"#fdca26\"],[1.0,\"#f0f921\"]]}],\"mesh3d\":[{\"type\":\"mesh3d\",\"colorbar\":{\"outlinewidth\":0,\"ticks\":\"\"}}],\"scatter\":[{\"fillpattern\":{\"fillmode\":\"overlay\",\"size\":10,\"solidity\":0.2},\"type\":\"scatter\"}],\"parcoords\":[{\"type\":\"parcoords\",\"line\":{\"colorbar\":{\"outlinewidth\":0,\"ticks\":\"\"}}}],\"scatterpolargl\":[{\"type\":\"scatterpolargl\",\"marker\":{\"colorbar\":{\"outlinewidth\":0,\"ticks\":\"\"}}}],\"bar\":[{\"error_x\":{\"color\":\"#2a3f5f\"},\"error_y\":{\"color\":\"#2a3f5f\"},\"marker\":{\"line\":{\"color\":\"#E5ECF6\",\"width\":0.5},\"pattern\":{\"fillmode\":\"overlay\",\"size\":10,\"solidity\":0.2}},\"type\":\"bar\"}],\"scattergeo\":[{\"type\":\"scattergeo\",\"marker\":{\"colorbar\":{\"outlinewidth\":0,\"ticks\":\"\"}}}],\"scatterpolar\":[{\"type\":\"scatterpolar\",\"marker\":{\"colorbar\":{\"outlinewidth\":0,\"ticks\":\"\"}}}],\"histogram\":[{\"marker\":{\"pattern\":{\"fillmode\":\"overlay\",\"size\":10,\"solidity\":0.2}},\"type\":\"histogram\"}],\"scattergl\":[{\"type\":\"scattergl\",\"marker\":{\"colorbar\":{\"outlinewidth\":0,\"ticks\":\"\"}}}],\"scatter3d\":[{\"type\":\"scatter3d\",\"line\":{\"colorbar\":{\"outlinewidth\":0,\"ticks\":\"\"}},\"marker\":{\"colorbar\":{\"outlinewidth\":0,\"ticks\":\"\"}}}],\"scattermapbox\":[{\"type\":\"scattermapbox\",\"marker\":{\"colorbar\":{\"outlinewidth\":0,\"ticks\":\"\"}}}],\"scatterternary\":[{\"type\":\"scatterternary\",\"marker\":{\"colorbar\":{\"outlinewidth\":0,\"ticks\":\"\"}}}],\"scattercarpet\":[{\"type\":\"scattercarpet\",\"marker\":{\"colorbar\":{\"outlinewidth\":0,\"ticks\":\"\"}}}],\"carpet\":[{\"aaxis\":{\"endlinecolor\":\"#2a3f5f\",\"gridcolor\":\"white\",\"linecolor\":\"white\",\"minorgridcolor\":\"white\",\"startlinecolor\":\"#2a3f5f\"},\"baxis\":{\"endlinecolor\":\"#2a3f5f\",\"gridcolor\":\"white\",\"linecolor\":\"white\",\"minorgridcolor\":\"white\",\"startlinecolor\":\"#2a3f5f\"},\"type\":\"carpet\"}],\"table\":[{\"cells\":{\"fill\":{\"color\":\"#EBF0F8\"},\"line\":{\"color\":\"white\"}},\"header\":{\"fill\":{\"color\":\"#C8D4E3\"},\"line\":{\"color\":\"white\"}},\"type\":\"table\"}],\"barpolar\":[{\"marker\":{\"line\":{\"color\":\"#E5ECF6\",\"width\":0.5},\"pattern\":{\"fillmode\":\"overlay\",\"size\":10,\"solidity\":0.2}},\"type\":\"barpolar\"}],\"pie\":[{\"automargin\":true,\"type\":\"pie\"}]},\"layout\":{\"autotypenumbers\":\"strict\",\"colorway\":[\"#636efa\",\"#EF553B\",\"#00cc96\",\"#ab63fa\",\"#FFA15A\",\"#19d3f3\",\"#FF6692\",\"#B6E880\",\"#FF97FF\",\"#FECB52\"],\"font\":{\"color\":\"#2a3f5f\"},\"hovermode\":\"closest\",\"hoverlabel\":{\"align\":\"left\"},\"paper_bgcolor\":\"white\",\"plot_bgcolor\":\"#E5ECF6\",\"polar\":{\"bgcolor\":\"#E5ECF6\",\"angularaxis\":{\"gridcolor\":\"white\",\"linecolor\":\"white\",\"ticks\":\"\"},\"radialaxis\":{\"gridcolor\":\"white\",\"linecolor\":\"white\",\"ticks\":\"\"}},\"ternary\":{\"bgcolor\":\"#E5ECF6\",\"aaxis\":{\"gridcolor\":\"white\",\"linecolor\":\"white\",\"ticks\":\"\"},\"baxis\":{\"gridcolor\":\"white\",\"linecolor\":\"white\",\"ticks\":\"\"},\"caxis\":{\"gridcolor\":\"white\",\"linecolor\":\"white\",\"ticks\":\"\"}},\"coloraxis\":{\"colorbar\":{\"outlinewidth\":0,\"ticks\":\"\"}},\"colorscale\":{\"sequential\":[[0.0,\"#0d0887\"],[0.1111111111111111,\"#46039f\"],[0.2222222222222222,\"#7201a8\"],[0.3333333333333333,\"#9c179e\"],[0.4444444444444444,\"#bd3786\"],[0.5555555555555556,\"#d8576b\"],[0.6666666666666666,\"#ed7953\"],[0.7777777777777778,\"#fb9f3a\"],[0.8888888888888888,\"#fdca26\"],[1.0,\"#f0f921\"]],\"sequentialminus\":[[0.0,\"#0d0887\"],[0.1111111111111111,\"#46039f\"],[0.2222222222222222,\"#7201a8\"],[0.3333333333333333,\"#9c179e\"],[0.4444444444444444,\"#bd3786\"],[0.5555555555555556,\"#d8576b\"],[0.6666666666666666,\"#ed7953\"],[0.7777777777777778,\"#fb9f3a\"],[0.8888888888888888,\"#fdca26\"],[1.0,\"#f0f921\"]],\"diverging\":[[0,\"#8e0152\"],[0.1,\"#c51b7d\"],[0.2,\"#de77ae\"],[0.3,\"#f1b6da\"],[0.4,\"#fde0ef\"],[0.5,\"#f7f7f7\"],[0.6,\"#e6f5d0\"],[0.7,\"#b8e186\"],[0.8,\"#7fbc41\"],[0.9,\"#4d9221\"],[1,\"#276419\"]]},\"xaxis\":{\"gridcolor\":\"white\",\"linecolor\":\"white\",\"ticks\":\"\",\"title\":{\"standoff\":15},\"zerolinecolor\":\"white\",\"automargin\":true,\"zerolinewidth\":2},\"yaxis\":{\"gridcolor\":\"white\",\"linecolor\":\"white\",\"ticks\":\"\",\"title\":{\"standoff\":15},\"zerolinecolor\":\"white\",\"automargin\":true,\"zerolinewidth\":2},\"scene\":{\"xaxis\":{\"backgroundcolor\":\"#E5ECF6\",\"gridcolor\":\"white\",\"linecolor\":\"white\",\"showbackground\":true,\"ticks\":\"\",\"zerolinecolor\":\"white\",\"gridwidth\":2},\"yaxis\":{\"backgroundcolor\":\"#E5ECF6\",\"gridcolor\":\"white\",\"linecolor\":\"white\",\"showbackground\":true,\"ticks\":\"\",\"zerolinecolor\":\"white\",\"gridwidth\":2},\"zaxis\":{\"backgroundcolor\":\"#E5ECF6\",\"gridcolor\":\"white\",\"linecolor\":\"white\",\"showbackground\":true,\"ticks\":\"\",\"zerolinecolor\":\"white\",\"gridwidth\":2}},\"shapedefaults\":{\"line\":{\"color\":\"#2a3f5f\"}},\"annotationdefaults\":{\"arrowcolor\":\"#2a3f5f\",\"arrowhead\":0,\"arrowwidth\":1},\"geo\":{\"bgcolor\":\"white\",\"landcolor\":\"#E5ECF6\",\"subunitcolor\":\"white\",\"showland\":true,\"showlakes\":true,\"lakecolor\":\"white\"},\"title\":{\"x\":0.05},\"mapbox\":{\"style\":\"light\"}}},\"xaxis\":{\"anchor\":\"y\",\"domain\":[0.0,0.2888888888888889],\"title\":{\"text\":\"Year\"}},\"yaxis\":{\"anchor\":\"x\",\"domain\":[0.7777777777777778,1.0],\"title\":{\"text\":\"Gross CO2 Emissions (kg)\"},\"range\":[-45000,120000]},\"xaxis2\":{\"anchor\":\"y2\",\"domain\":[0.35555555555555557,0.6444444444444445],\"title\":{\"text\":\"Year\"}},\"yaxis2\":{\"anchor\":\"x2\",\"domain\":[0.7777777777777778,1.0],\"matches\":\"y\",\"showticklabels\":false,\"range\":[-45000,120000]},\"xaxis3\":{\"anchor\":\"y3\",\"domain\":[0.7111111111111111,1.0],\"title\":{\"text\":\"Year\"}},\"yaxis3\":{\"anchor\":\"x3\",\"domain\":[0.7777777777777778,1.0],\"matches\":\"y\",\"showticklabels\":false,\"range\":[-45000,120000]},\"xaxis4\":{\"anchor\":\"y4\",\"domain\":[0.0,0.2888888888888889]},\"yaxis4\":{\"anchor\":\"x4\",\"domain\":[0.3888888888888889,0.6111111111111112],\"title\":{\"text\":\"Net CO2 Emissions (kg)\"},\"range\":[-20000,100000]},\"xaxis5\":{\"anchor\":\"y5\",\"domain\":[0.35555555555555557,0.6444444444444445]},\"yaxis5\":{\"anchor\":\"x5\",\"domain\":[0.3888888888888889,0.6111111111111112],\"matches\":\"y4\",\"showticklabels\":false,\"range\":[-20000,100000]},\"xaxis6\":{\"anchor\":\"y6\",\"domain\":[0.7111111111111111,1.0]},\"yaxis6\":{\"anchor\":\"x6\",\"domain\":[0.3888888888888889,0.6111111111111112],\"matches\":\"y4\",\"showticklabels\":false,\"range\":[-20000,100000]},\"xaxis7\":{\"anchor\":\"y7\",\"domain\":[0.0,0.2888888888888889],\"title\":{\"text\":\"Investment cost [\\u20ac]\"}},\"yaxis7\":{\"anchor\":\"x7\",\"domain\":[0.0,0.22222222222222224],\"title\":{\"text\":\"Count\"},\"range\":[0,30]},\"xaxis8\":{\"anchor\":\"y8\",\"domain\":[0.35555555555555557,0.6444444444444445],\"title\":{\"text\":\"Investment cost [\\u20ac]\"}},\"yaxis8\":{\"anchor\":\"x8\",\"domain\":[0.0,0.22222222222222224],\"matches\":\"y7\",\"showticklabels\":false,\"range\":[0,30]},\"xaxis9\":{\"anchor\":\"y9\",\"domain\":[0.7111111111111111,1.0],\"title\":{\"text\":\"Investment cost [\\u20ac]\"}},\"yaxis9\":{\"anchor\":\"x9\",\"domain\":[0.0,0.22222222222222224],\"matches\":\"y7\",\"showticklabels\":false,\"range\":[0,30]},\"annotations\":[{\"font\":{\"size\":16},\"showarrow\":false,\"text\":\"GESLOTEN\",\"x\":0.14444444444444446,\"xanchor\":\"center\",\"xref\":\"paper\",\"y\":1.0,\"yanchor\":\"bottom\",\"yref\":\"paper\"},{\"font\":{\"size\":16},\"showarrow\":false,\"text\":\"HALF_OPEN\",\"x\":0.5,\"xanchor\":\"center\",\"xref\":\"paper\",\"y\":1.0,\"yanchor\":\"bottom\",\"yref\":\"paper\"},{\"font\":{\"size\":16},\"showarrow\":false,\"text\":\"OPEN\",\"x\":0.8555555555555556,\"xanchor\":\"center\",\"xref\":\"paper\",\"y\":1.0,\"yanchor\":\"bottom\",\"yref\":\"paper\"}],\"title\":{\"text\":\"CO2 Emissions Over Years by Building Type with gasboilers and A labels\"},\"showlegend\":true,\"height\":800,\"width\":1600},                        {\"responsive\": true}                    ).then(function(){\n",
       "                            \n",
       "var gd = document.getElementById('e0d5f956-bfcc-44c0-9639-f932adbbe374');\n",
       "var x = new MutationObserver(function (mutations, observer) {{\n",
       "        var display = window.getComputedStyle(gd).display;\n",
       "        if (!display || display === 'none') {{\n",
       "            console.log([gd, 'removed!']);\n",
       "            Plotly.purge(gd);\n",
       "            observer.disconnect();\n",
       "        }}\n",
       "}});\n",
       "\n",
       "// Listen for the removal of the full notebook cells\n",
       "var notebookContainer = gd.closest('#notebook-container');\n",
       "if (notebookContainer) {{\n",
       "    x.observe(notebookContainer, {childList: true});\n",
       "}}\n",
       "\n",
       "// Listen for the clearing of the current output cell\n",
       "var outputEl = gd.closest('.output');\n",
       "if (outputEl) {{\n",
       "    x.observe(outputEl, {childList: true});\n",
       "}}\n",
       "\n",
       "                        })                };                });            </script>        </div>"
      ]
     },
     "metadata": {},
     "output_type": "display_data"
    }
   ],
   "source": [
    "import pandas as pd\n",
    "import plotly.graph_objects as go\n",
    "from plotly.subplots import make_subplots\n",
    "\n",
    "\n",
    "# Filter the DataFrame\n",
    "testcase2 = df[(df['epc_ind'] <= 100) & (df['heating_system'] == 'Gasboiler')].sort_values(by='tco', ascending=True).drop_duplicates(subset=['name'], keep='first')\n",
    "\n",
    "# Extract the years from the columns\n",
    "years = sorted([int(col.split('_')[-1]) for col in testcase2.columns if 'emissions_' in col])\n",
    "\n",
    "# Initialize lists to store the data\n",
    "data = []\n",
    "\n",
    "# Collect data for each year and each building type\n",
    "for year in years:\n",
    "    for building_type, group in testcase2.groupby('building_type'):\n",
    "        modified_emissions = group[f'modified_emissions_{year}'].sum()\n",
    "        solar_emissions = group[f'solar_injection_emissions_{year}'].sum() * -1  # Make solar emissions negative\n",
    "        net_emissions = group[f'emissions_{year}'].sum()\n",
    "        # modified_emissions = group[f'modified_emissions_{year}'].mean()\n",
    "        # solar_emissions = group[f'solar_injection_emissions_{year}'].mean() * -1  # Make solar emissions negative\n",
    "        # net_emissions = group[f'emissions_{year}'].mean()\n",
    "        data.append([year, building_type, 'Modified CO2 Emissions', modified_emissions])\n",
    "        data.append([year, building_type, 'Solar CO2 Emissions', solar_emissions])\n",
    "        data.append([year, building_type, 'Net Emissions', net_emissions])\n",
    "\n",
    "# Create a DataFrame from the collected data\n",
    "emissions_df = pd.DataFrame(data, columns=['Year', 'Building Type', 'Emissions Type', 'Emissions'])\n",
    "\n",
    "# Get unique building types\n",
    "building_types = emissions_df['Building Type'].unique()\n",
    "\n",
    "# Create subplots\n",
    "fig = make_subplots(rows=3, cols=len(building_types), shared_yaxes=True, subplot_titles=building_types)\n",
    "\n",
    "# Add traces for each building type\n",
    "for i, building_type in enumerate(building_types, start=1):\n",
    "    subset = emissions_df[emissions_df['Building Type'] == building_type]\n",
    "\n",
    "    fig.add_trace(go.Scatter(\n",
    "        x=subset[subset['Emissions Type'] == 'Modified CO2 Emissions']['Year'],\n",
    "        y=subset[subset['Emissions Type'] == 'Modified CO2 Emissions']['Emissions'],\n",
    "        fill='tonexty',\n",
    "        name=f'{building_type} - Modified CO2 Emissions'\n",
    "    ), row=1, col=i)\n",
    "    fig.add_trace(go.Scatter(\n",
    "        x=subset[subset['Emissions Type'] == 'Solar CO2 Emissions']['Year'],\n",
    "        y=subset[subset['Emissions Type'] == 'Solar CO2 Emissions']['Emissions'],\n",
    "        fill='tonexty',\n",
    "        name=f'{building_type} - Solar CO2 Emissions'\n",
    "    ), row=1, col=i)\n",
    "    fig.add_trace(go.Scatter(\n",
    "        x=subset[subset['Emissions Type'] == 'Solar CO2 Emissions']['Year'],\n",
    "        y=subset[subset['Emissions Type'] == 'Net Emissions']['Emissions'],\n",
    "        fill='tonexty',\n",
    "        name=f'{building_type} - Net CO2 Emissions'\n",
    "    ), row=2, col=i)\n",
    "    fig.add_trace(go.Histogram(x = testcase2[testcase2.building_type == building_type].total_investment_cost), row = 3, col = i)\n",
    "\n",
    "\n",
    "# Update layout\n",
    "fig.update_layout(\n",
    "    title='CO2 Emissions Over Years by Building Type with gasboilers and A labels',\n",
    "    xaxis_title='Year',\n",
    "    yaxis_title='CO2 Emissions (kg)',\n",
    "    showlegend=True,\n",
    "    height = 800, width = 1600\n",
    ")\n",
    "\n",
    "# Update x-axes titles for each subplot\n",
    "for i in range(1, len(building_types) + 1):\n",
    "    fig.update_xaxes(title_text='Year', row=1, col=i)\n",
    "\n",
    "# Update y-axis title only for the first subplot\n",
    "fig.update_yaxes(title_text='Gross CO2 Emissions (kg)', row=1, col=1)\n",
    "fig.update_yaxes(title_text='Net CO2 Emissions (kg)', row=2, col=1)\n",
    "fig.update_yaxes(title_text='Count', row=3, col=1)\n",
    "fig.update_yaxes(range = [-45000, 120000], row = 1)\n",
    "fig.update_yaxes(range = [-20000, 100000], row = 2)\n",
    "fig.update_yaxes(range = [0, 30], row = 3)\n",
    "for i in range(len(building_types)+ 1):\n",
    "    fig.update_xaxes(title_text='Investment cost [€]', row=3, col=i)\n",
    "\n",
    "# Show the plot\n",
    "fig.show()\n",
    "fig2 = fig"
   ]
  },
  {
   "cell_type": "code",
   "execution_count": 34,
   "metadata": {},
   "outputs": [
    {
     "data": {
      "application/vnd.plotly.v1+json": {
       "config": {
        "plotlyServerURL": "https://plot.ly"
       },
       "data": [
        {
         "fill": "tonexty",
         "name": "GESLOTEN - Modified CO2 Emissions",
         "stackgroup": "1",
         "type": "scatter",
         "x": [
          2025,
          2025,
          2025,
          2025,
          2025,
          2026,
          2026,
          2026,
          2026,
          2026,
          2027,
          2027,
          2027,
          2027,
          2027,
          2028,
          2028,
          2028,
          2028,
          2028,
          2029,
          2029,
          2029,
          2029,
          2029,
          2030,
          2030,
          2030,
          2030,
          2030,
          2031,
          2031,
          2031,
          2031,
          2031,
          2032,
          2032,
          2032,
          2032,
          2032,
          2033,
          2033,
          2033,
          2033,
          2033,
          2034,
          2034,
          2034,
          2034,
          2034,
          2035,
          2035,
          2035,
          2035,
          2035,
          2036,
          2036,
          2036,
          2036,
          2036,
          2037,
          2037,
          2037,
          2037,
          2037,
          2038,
          2038,
          2038,
          2038,
          2038,
          2039,
          2039,
          2039,
          2039,
          2039,
          2040,
          2040,
          2040,
          2040,
          2040
         ],
         "xaxis": "x",
         "y": [
          26197.47152988897,
          26197.47152988897,
          26197.47152988897,
          26197.47152988897,
          26197.47152988897,
          24990.094517429447,
          24990.094517429447,
          24990.094517429447,
          24990.094517429447,
          24990.094517429447,
          23838.36254111597,
          23838.36254111597,
          23838.36254111597,
          23838.36254111597,
          23838.36254111597,
          22739.711058129073,
          22739.711058129073,
          22739.711058129073,
          22739.711058129073,
          22739.711058129073,
          21691.6937191186,
          21691.6937191186,
          21691.6937191186,
          21691.6937191186,
          21691.6937191186,
          20691.976920957535,
          20691.976920957535,
          20691.976920957535,
          20691.976920957535,
          20691.976920957535,
          19738.33461054586,
          19738.33461054586,
          19738.33461054586,
          19738.33461054586,
          19738.33461054586,
          18828.64332809452,
          18828.64332809452,
          18828.64332809452,
          18828.64332809452,
          18828.64332809452,
          17960.877478852002,
          17960.877478852002,
          17960.877478852002,
          17960.877478852002,
          17960.877478852002,
          17133.10482274561,
          17133.10482274561,
          17133.10482274561,
          17133.10482274561,
          17133.10482274561,
          16343.482171893924,
          16343.482171893924,
          16343.482171893924,
          16343.482171893924,
          16343.482171893924,
          15590.251286410434,
          15590.251286410434,
          15590.251286410434,
          15590.251286410434,
          15590.251286410434,
          14871.734959359414,
          14871.734959359414,
          14871.734959359414,
          14871.734959359414,
          14871.734959359414,
          14186.333282146588,
          14186.333282146588,
          14186.333282146588,
          14186.333282146588,
          14186.333282146588,
          13532.520082028725,
          13532.520082028725,
          13532.520082028725,
          13532.520082028725,
          13532.520082028725,
          12908.839523809691,
          12908.839523809691,
          12908.839523809691,
          12908.839523809691,
          12908.839523809691
         ],
         "yaxis": "y"
        },
        {
         "fill": "tonexty",
         "name": "GESLOTEN - Solar CO2 Emissions",
         "stackgroup": "2",
         "type": "scatter",
         "x": [
          2025,
          2025,
          2025,
          2025,
          2025,
          2026,
          2026,
          2026,
          2026,
          2026,
          2027,
          2027,
          2027,
          2027,
          2027,
          2028,
          2028,
          2028,
          2028,
          2028,
          2029,
          2029,
          2029,
          2029,
          2029,
          2030,
          2030,
          2030,
          2030,
          2030,
          2031,
          2031,
          2031,
          2031,
          2031,
          2032,
          2032,
          2032,
          2032,
          2032,
          2033,
          2033,
          2033,
          2033,
          2033,
          2034,
          2034,
          2034,
          2034,
          2034,
          2035,
          2035,
          2035,
          2035,
          2035,
          2036,
          2036,
          2036,
          2036,
          2036,
          2037,
          2037,
          2037,
          2037,
          2037,
          2038,
          2038,
          2038,
          2038,
          2038,
          2039,
          2039,
          2039,
          2039,
          2039,
          2040,
          2040,
          2040,
          2040,
          2040
         ],
         "xaxis": "x",
         "y": [
          -5371.019131356106,
          -5371.019131356106,
          -5371.019131356106,
          -5371.019131356106,
          -5371.019131356106,
          -5123.482073236544,
          -5123.482073236544,
          -5123.482073236544,
          -5123.482073236544,
          -5123.482073236544,
          -4887.35338914134,
          -4887.35338914134,
          -4887.35338914134,
          -4887.35338914134,
          -4887.35338914134,
          -4662.107295178301,
          -4662.107295178301,
          -4662.107295178301,
          -4662.107295178301,
          -4662.107295178301,
          -4447.242239541309,
          -4447.242239541309,
          -4447.242239541309,
          -4447.242239541309,
          -4447.242239541309,
          -4242.27978571308,
          -4242.27978571308,
          -4242.27978571308,
          -4242.27978571308,
          -4242.27978571308,
          -4046.76354713838,
          -4046.76354713838,
          -4046.76354713838,
          -4046.76354713838,
          -4046.76354713838,
          -3860.2581709955107,
          -3860.2581709955107,
          -3860.2581709955107,
          -3860.2581709955107,
          -3860.2581709955107,
          -3682.3483688032843,
          -3682.3483688032843,
          -3682.3483688032843,
          -3682.3483688032843,
          -3682.3483688032843,
          -3512.637991704928,
          -3512.637991704928,
          -3512.637991704928,
          -3512.637991704928,
          -3512.637991704928,
          -3350.749148369883,
          -3350.749148369883,
          -3350.749148369883,
          -3350.749148369883,
          -3350.749148369883,
          -3196.321363549335,
          -3196.321363549335,
          -3196.321363549335,
          -3196.321363549335,
          -3196.321363549335,
          -3049.0107754118576,
          -3049.0107754118576,
          -3049.0107754118576,
          -3049.0107754118576,
          -3049.0107754118576,
          -2908.4893698718756,
          -2908.4893698718756,
          -2908.4893698718756,
          -2908.4893698718756,
          -2908.4893698718756,
          -2774.444250206044,
          -2774.444250206044,
          -2774.444250206044,
          -2774.444250206044,
          -2774.444250206044,
          -2646.5769403312165,
          -2646.5769403312165,
          -2646.5769403312165,
          -2646.5769403312165,
          -2646.5769403312165
         ],
         "yaxis": "y"
        },
        {
         "fill": "tonexty",
         "name": "GESLOTEN - Net CO2 Emissions",
         "stackgroup": "3",
         "text": "Net Emissions",
         "type": "scatter",
         "x": [
          2025,
          2025,
          2025,
          2025,
          2025,
          2026,
          2026,
          2026,
          2026,
          2026,
          2027,
          2027,
          2027,
          2027,
          2027,
          2028,
          2028,
          2028,
          2028,
          2028,
          2029,
          2029,
          2029,
          2029,
          2029,
          2030,
          2030,
          2030,
          2030,
          2030,
          2031,
          2031,
          2031,
          2031,
          2031,
          2032,
          2032,
          2032,
          2032,
          2032,
          2033,
          2033,
          2033,
          2033,
          2033,
          2034,
          2034,
          2034,
          2034,
          2034,
          2035,
          2035,
          2035,
          2035,
          2035,
          2036,
          2036,
          2036,
          2036,
          2036,
          2037,
          2037,
          2037,
          2037,
          2037,
          2038,
          2038,
          2038,
          2038,
          2038,
          2039,
          2039,
          2039,
          2039,
          2039,
          2040,
          2040,
          2040,
          2040,
          2040
         ],
         "xaxis": "x4",
         "y": [
          20826.452398532867,
          20826.452398532867,
          20826.452398532867,
          20826.452398532867,
          20826.452398532867,
          19866.612444192902,
          19866.612444192902,
          19866.612444192902,
          19866.612444192902,
          19866.612444192902,
          18951.00915197463,
          18951.00915197463,
          18951.00915197463,
          18951.00915197463,
          18951.00915197463,
          18077.60376295077,
          18077.60376295077,
          18077.60376295077,
          18077.60376295077,
          18077.60376295077,
          17244.45147957729,
          17244.45147957729,
          17244.45147957729,
          17244.45147957729,
          17244.45147957729,
          16449.69713524445,
          16449.69713524445,
          16449.69713524445,
          16449.69713524445,
          16449.69713524445,
          15691.571063407484,
          15691.571063407484,
          15691.571063407484,
          15691.571063407484,
          15691.571063407484,
          14968.385157099008,
          14968.385157099008,
          14968.385157099008,
          14968.385157099008,
          14968.385157099008,
          14278.529110048721,
          14278.529110048721,
          14278.529110048721,
          14278.529110048721,
          14278.529110048721,
          13620.466831040678,
          13620.466831040678,
          13620.466831040678,
          13620.466831040678,
          13620.466831040678,
          12992.73302352404,
          12992.73302352404,
          12992.73302352404,
          12992.73302352404,
          12992.73302352404,
          12393.9299228611,
          12393.9299228611,
          12393.9299228611,
          12393.9299228611,
          12393.9299228611,
          11822.724183947556,
          11822.724183947556,
          11822.724183947556,
          11822.724183947556,
          11822.724183947556,
          11277.843912274713,
          11277.843912274713,
          11277.843912274713,
          11277.843912274713,
          11277.843912274713,
          10758.075831822682,
          10758.075831822682,
          10758.075831822682,
          10758.075831822682,
          10758.075831822682,
          10262.262583478476,
          10262.262583478476,
          10262.262583478476,
          10262.262583478476,
          10262.262583478476
         ],
         "yaxis": "y4"
        },
        {
         "type": "histogram",
         "x": [
          9299,
          9499,
          10099,
          10199,
          10299,
          17749,
          17749,
          10599,
          10599,
          10799,
          20049,
          12899,
          10999,
          11199,
          11299,
          11399,
          11599,
          24049,
          16699,
          14399,
          14399,
          24949,
          29249,
          26699,
          26099,
          25299,
          27349,
          27299,
          28549,
          30399,
          28499,
          28899,
          31699,
          37049,
          30649,
          32899,
          40149,
          34399,
          44749,
          34899,
          44649,
          37899,
          43299,
          43599,
          53749
         ],
         "xaxis": "x7",
         "yaxis": "y7"
        },
        {
         "fill": "tonexty",
         "name": "HALF_OPEN - Modified CO2 Emissions",
         "stackgroup": "1",
         "type": "scatter",
         "x": [
          2025,
          2025,
          2025,
          2025,
          2025,
          2026,
          2026,
          2026,
          2026,
          2026,
          2027,
          2027,
          2027,
          2027,
          2027,
          2028,
          2028,
          2028,
          2028,
          2028,
          2029,
          2029,
          2029,
          2029,
          2029,
          2030,
          2030,
          2030,
          2030,
          2030,
          2031,
          2031,
          2031,
          2031,
          2031,
          2032,
          2032,
          2032,
          2032,
          2032,
          2033,
          2033,
          2033,
          2033,
          2033,
          2034,
          2034,
          2034,
          2034,
          2034,
          2035,
          2035,
          2035,
          2035,
          2035,
          2036,
          2036,
          2036,
          2036,
          2036,
          2037,
          2037,
          2037,
          2037,
          2037,
          2038,
          2038,
          2038,
          2038,
          2038,
          2039,
          2039,
          2039,
          2039,
          2039,
          2040,
          2040,
          2040,
          2040,
          2040
         ],
         "xaxis": "x2",
         "y": [
          27614.72609347021,
          27614.72609347021,
          27614.72609347021,
          27614.72609347021,
          27614.72609347021,
          26342.031304868848,
          26342.031304868848,
          26342.031304868848,
          26342.031304868848,
          26342.031304868848,
          25127.991888022785,
          25127.991888022785,
          25127.991888022785,
          25127.991888022785,
          25127.991888022785,
          23969.90456115026,
          23969.90456115026,
          23969.90456115026,
          23969.90456115026,
          23969.90456115026,
          22865.190630076308,
          22865.190630076308,
          22865.190630076308,
          22865.190630076308,
          22865.190630076308,
          21811.390246296443,
          21811.390246296443,
          21811.390246296443,
          21811.390246296443,
          21811.390246296443,
          20806.1569296721,
          20806.1569296721,
          20806.1569296721,
          20806.1569296721,
          20806.1569296721,
          19847.25234356153,
          19847.25234356153,
          19847.25234356153,
          19847.25234356153,
          19847.25234356153,
          18932.541310752134,
          18932.541310752134,
          18932.541310752134,
          18932.541310752134,
          18932.541310752134,
          18059.987059096096,
          18059.987059096096,
          18059.987059096096,
          18059.987059096096,
          18059.987059096096,
          17227.646686263124,
          17227.646686263124,
          17227.646686263124,
          17227.646686263124,
          17227.646686263124,
          16433.6668335114,
          16433.6668335114,
          16433.6668335114,
          16433.6668335114,
          16433.6668335114,
          15676.279558843973,
          15676.279558843973,
          15676.279558843973,
          15676.279558843973,
          15676.279558843973,
          14953.798400361062,
          14953.798400361062,
          14953.798400361062,
          14953.798400361062,
          14953.798400361062,
          14264.614621042858,
          14264.614621042858,
          14264.614621042858,
          14264.614621042858,
          14264.614621042858,
          13607.193626601025,
          13607.193626601025,
          13607.193626601025,
          13607.193626601025,
          13607.193626601025
         ],
         "yaxis": "y2"
        },
        {
         "fill": "tonexty",
         "name": "HALF_OPEN - Solar CO2 Emissions",
         "stackgroup": "2",
         "type": "scatter",
         "x": [
          2025,
          2025,
          2025,
          2025,
          2025,
          2026,
          2026,
          2026,
          2026,
          2026,
          2027,
          2027,
          2027,
          2027,
          2027,
          2028,
          2028,
          2028,
          2028,
          2028,
          2029,
          2029,
          2029,
          2029,
          2029,
          2030,
          2030,
          2030,
          2030,
          2030,
          2031,
          2031,
          2031,
          2031,
          2031,
          2032,
          2032,
          2032,
          2032,
          2032,
          2033,
          2033,
          2033,
          2033,
          2033,
          2034,
          2034,
          2034,
          2034,
          2034,
          2035,
          2035,
          2035,
          2035,
          2035,
          2036,
          2036,
          2036,
          2036,
          2036,
          2037,
          2037,
          2037,
          2037,
          2037,
          2038,
          2038,
          2038,
          2038,
          2038,
          2039,
          2039,
          2039,
          2039,
          2039,
          2040,
          2040,
          2040,
          2040,
          2040
         ],
         "xaxis": "x2",
         "y": [
          -7974.220157403959,
          -7974.220157403959,
          -7974.220157403959,
          -7974.220157403959,
          -7974.220157403959,
          -7606.707968322797,
          -7606.707968322797,
          -7606.707968322797,
          -7606.707968322797,
          -7606.707968322797,
          -7256.133511892246,
          -7256.133511892246,
          -7256.133511892246,
          -7256.133511892246,
          -7256.133511892246,
          -6921.71616968422,
          -6921.71616968422,
          -6921.71616968422,
          -6921.71616968422,
          -6921.71616968422,
          -6602.711300053524,
          -6602.711300053524,
          -6602.711300053524,
          -6602.711300053524,
          -6602.711300053524,
          -6298.408580056441,
          -6298.408580056441,
          -6298.408580056441,
          -6298.408580056441,
          -6298.408580056441,
          -6008.1304237862105,
          -6008.1304237862105,
          -6008.1304237862105,
          -6008.1304237862105,
          -6008.1304237862105,
          -5731.23047360354,
          -5731.23047360354,
          -5731.23047360354,
          -5731.23047360354,
          -5731.23047360354,
          -5467.092160902577,
          -5467.092160902577,
          -5467.092160902577,
          -5467.092160902577,
          -5467.092160902577,
          -5215.127333207642,
          -5215.127333207642,
          -5215.127333207642,
          -5215.127333207642,
          -5215.127333207642,
          -4974.774944543707,
          -4974.774944543707,
          -4974.774944543707,
          -4974.774944543707,
          -4974.774944543707,
          -4745.49980616446,
          -4745.49980616446,
          -4745.49980616446,
          -4745.49980616446,
          -4745.49980616446,
          -4526.791394856249,
          -4526.791394856249,
          -4526.791394856249,
          -4526.791394856249,
          -4526.791394856249,
          -4318.162716164365,
          -4318.162716164365,
          -4318.162716164365,
          -4318.162716164365,
          -4318.162716164365,
          -4119.149220010419,
          -4119.149220010419,
          -4119.149220010419,
          -4119.149220010419,
          -4119.149220010419,
          -3929.307766286269,
          -3929.307766286269,
          -3929.307766286269,
          -3929.307766286269,
          -3929.307766286269
         ],
         "yaxis": "y2"
        },
        {
         "fill": "tonexty",
         "name": "HALF_OPEN - Net CO2 Emissions",
         "stackgroup": "3",
         "text": "Net Emissions",
         "type": "scatter",
         "x": [
          2025,
          2025,
          2025,
          2025,
          2025,
          2026,
          2026,
          2026,
          2026,
          2026,
          2027,
          2027,
          2027,
          2027,
          2027,
          2028,
          2028,
          2028,
          2028,
          2028,
          2029,
          2029,
          2029,
          2029,
          2029,
          2030,
          2030,
          2030,
          2030,
          2030,
          2031,
          2031,
          2031,
          2031,
          2031,
          2032,
          2032,
          2032,
          2032,
          2032,
          2033,
          2033,
          2033,
          2033,
          2033,
          2034,
          2034,
          2034,
          2034,
          2034,
          2035,
          2035,
          2035,
          2035,
          2035,
          2036,
          2036,
          2036,
          2036,
          2036,
          2037,
          2037,
          2037,
          2037,
          2037,
          2038,
          2038,
          2038,
          2038,
          2038,
          2039,
          2039,
          2039,
          2039,
          2039,
          2040,
          2040,
          2040,
          2040,
          2040
         ],
         "xaxis": "x5",
         "y": [
          19640.505936066245,
          19640.505936066245,
          19640.505936066245,
          19640.505936066245,
          19640.505936066245,
          18735.32333654605,
          18735.32333654605,
          18735.32333654605,
          18735.32333654605,
          18735.32333654605,
          17871.858376130534,
          17871.858376130534,
          17871.858376130534,
          17871.858376130534,
          17871.858376130534,
          17048.18839146604,
          17048.18839146604,
          17048.18839146604,
          17048.18839146604,
          17048.18839146604,
          16262.47933002279,
          16262.47933002279,
          16262.47933002279,
          16262.47933002279,
          16262.47933002279,
          15512.981666240008,
          15512.981666240008,
          15512.981666240008,
          15512.981666240008,
          15512.981666240008,
          14798.02650588589,
          14798.02650588589,
          14798.02650588589,
          14798.02650588589,
          14798.02650588589,
          14116.02186995799,
          14116.02186995799,
          14116.02186995799,
          14116.02186995799,
          14116.02186995799,
          13465.449149849557,
          13465.449149849557,
          13465.449149849557,
          13465.449149849557,
          13465.449149849557,
          12844.85972588846,
          12844.85972588846,
          12844.85972588846,
          12844.85972588846,
          12844.85972588846,
          12252.871741719415,
          12252.871741719415,
          12252.871741719415,
          12252.871741719415,
          12252.871741719415,
          11688.167027346944,
          11688.167027346944,
          11688.167027346944,
          11688.167027346944,
          11688.167027346944,
          11149.488163987724,
          11149.488163987724,
          11149.488163987724,
          11149.488163987724,
          11149.488163987724,
          10635.635684196699,
          10635.635684196699,
          10635.635684196699,
          10635.635684196699,
          10635.635684196699,
          10145.465401032438,
          10145.465401032438,
          10145.465401032438,
          10145.465401032438,
          10145.465401032438,
          9677.885860314756,
          9677.885860314756,
          9677.885860314756,
          9677.885860314756,
          9677.885860314756
         ],
         "yaxis": "y5"
        },
        {
         "type": "histogram",
         "x": [
          28249,
          9799,
          32649,
          10499,
          10699,
          11300,
          33449,
          29549,
          36849,
          11699,
          14399,
          11799,
          36849,
          23149,
          23249,
          23349,
          23349,
          32149,
          32049,
          27199,
          28100,
          27499,
          26049,
          26049,
          20999,
          29749,
          21999,
          30499,
          40449,
          32249,
          44499,
          41899,
          49549,
          48749,
          44599,
          44899,
          53499,
          54999,
          45399,
          55149,
          55549,
          55549,
          53749,
          57249,
          59199
         ],
         "xaxis": "x8",
         "yaxis": "y8"
        },
        {
         "fill": "tonexty",
         "name": "OPEN - Modified CO2 Emissions",
         "stackgroup": "1",
         "type": "scatter",
         "x": [
          2025,
          2025,
          2025,
          2025,
          2025,
          2026,
          2026,
          2026,
          2026,
          2026,
          2027,
          2027,
          2027,
          2027,
          2027,
          2028,
          2028,
          2028,
          2028,
          2028,
          2029,
          2029,
          2029,
          2029,
          2029,
          2030,
          2030,
          2030,
          2030,
          2030,
          2031,
          2031,
          2031,
          2031,
          2031,
          2032,
          2032,
          2032,
          2032,
          2032,
          2033,
          2033,
          2033,
          2033,
          2033,
          2034,
          2034,
          2034,
          2034,
          2034,
          2035,
          2035,
          2035,
          2035,
          2035,
          2036,
          2036,
          2036,
          2036,
          2036,
          2037,
          2037,
          2037,
          2037,
          2037,
          2038,
          2038,
          2038,
          2038,
          2038,
          2039,
          2039,
          2039,
          2039,
          2039,
          2040,
          2040,
          2040,
          2040,
          2040
         ],
         "xaxis": "x3",
         "y": [
          31197.328391938292,
          31197.328391938292,
          31197.328391938292,
          31197.328391938292,
          31197.328391938292,
          29759.520277227577,
          29759.520277227577,
          29759.520277227577,
          29759.520277227577,
          29759.520277227577,
          28387.977201264934,
          28387.977201264934,
          28387.977201264934,
          28387.977201264934,
          28387.977201264934,
          27079.645171438024,
          27079.645171438024,
          27079.645171438024,
          27079.645171438024,
          27079.645171438024,
          25831.61094614066,
          25831.61094614066,
          25831.61094614066,
          25831.61094614066,
          25831.61094614066,
          24641.09554790519,
          24641.09554790519,
          24641.09554790519,
          24641.09554790519,
          24641.09554790519,
          23505.448075498694,
          23505.448075498694,
          23505.448075498694,
          23505.448075498694,
          23505.448075498694,
          22422.139801204397,
          22422.139801204397,
          22422.139801204397,
          22422.139801204397,
          22422.139801204397,
          21388.75854014486,
          21388.75854014486,
          21388.75854014486,
          21388.75854014486,
          21388.75854014486,
          20403.003279109267,
          20403.003279109267,
          20403.003279109267,
          20403.003279109267,
          20403.003279109267,
          19462.67905292479,
          19462.67905292479,
          19462.67905292479,
          19462.67905292479,
          19462.67905292479,
          18565.69205696341,
          18565.69205696341,
          18565.69205696341,
          18565.69205696341,
          18565.69205696341,
          17710.044984901295,
          17710.044984901295,
          17710.044984901295,
          17710.044984901295,
          17710.044984901295,
          16893.83258134937,
          16893.83258134937,
          16893.83258134937,
          16893.83258134937,
          16893.83258134937,
          16115.237399452153,
          16115.237399452153,
          16115.237399452153,
          16115.237399452153,
          16115.237399452153,
          15372.525754008522,
          15372.525754008522,
          15372.525754008522,
          15372.525754008522,
          15372.525754008522
         ],
         "yaxis": "y3"
        },
        {
         "fill": "tonexty",
         "name": "OPEN - Solar CO2 Emissions",
         "stackgroup": "2",
         "type": "scatter",
         "x": [
          2025,
          2025,
          2025,
          2025,
          2025,
          2026,
          2026,
          2026,
          2026,
          2026,
          2027,
          2027,
          2027,
          2027,
          2027,
          2028,
          2028,
          2028,
          2028,
          2028,
          2029,
          2029,
          2029,
          2029,
          2029,
          2030,
          2030,
          2030,
          2030,
          2030,
          2031,
          2031,
          2031,
          2031,
          2031,
          2032,
          2032,
          2032,
          2032,
          2032,
          2033,
          2033,
          2033,
          2033,
          2033,
          2034,
          2034,
          2034,
          2034,
          2034,
          2035,
          2035,
          2035,
          2035,
          2035,
          2036,
          2036,
          2036,
          2036,
          2036,
          2037,
          2037,
          2037,
          2037,
          2037,
          2038,
          2038,
          2038,
          2038,
          2038,
          2039,
          2039,
          2039,
          2039,
          2039,
          2040,
          2040,
          2040,
          2040,
          2040
         ],
         "xaxis": "x3",
         "y": [
          -16048.476847589238,
          -16048.476847589238,
          -16048.476847589238,
          -16048.476847589238,
          -16048.476847589238,
          -15308.842031738357,
          -15308.842031738357,
          -15308.842031738357,
          -15308.842031738357,
          -15308.842031738357,
          -14603.295164919284,
          -14603.295164919284,
          -14603.295164919284,
          -14603.295164919284,
          -14603.295164919284,
          -13930.265217423446,
          -13930.265217423446,
          -13930.265217423446,
          -13930.265217423446,
          -13930.265217423446,
          -13288.253564436538,
          -13288.253564436538,
          -13288.253564436538,
          -13288.253564436538,
          -13288.253564436538,
          -12675.830649075053,
          -12675.830649075053,
          -12675.830649075053,
          -12675.830649075053,
          -12675.830649075053,
          -12091.632799215306,
          -12091.632799215306,
          -12091.632799215306,
          -12091.632799215306,
          -12091.632799215306,
          -11534.3591910269,
          -11534.3591910269,
          -11534.3591910269,
          -11534.3591910269,
          -11534.3591910269,
          -11002.768952449549,
          -11002.768952449549,
          -11002.768952449549,
          -11002.768952449549,
          -11002.768952449549,
          -10495.67840016344,
          -10495.67840016344,
          -10495.67840016344,
          -10495.67840016344,
          -10495.67840016344,
          -10011.958403900926,
          -10011.958403900926,
          -10011.958403900926,
          -10011.958403900926,
          -10011.958403900926,
          -9550.531872230516,
          -9550.531872230516,
          -9550.531872230516,
          -9550.531872230516,
          -9550.531872230516,
          -9110.371354214982,
          -9110.371354214982,
          -9110.371354214982,
          -9110.371354214982,
          -9110.371354214982,
          -8690.496751603076,
          -8690.496751603076,
          -8690.496751603076,
          -8690.496751603076,
          -8690.496751603076,
          -8289.973136460732,
          -8289.973136460732,
          -8289.973136460732,
          -8289.973136460732,
          -8289.973136460732,
          -7907.908669382291,
          -7907.908669382291,
          -7907.908669382291,
          -7907.908669382291,
          -7907.908669382291
         ],
         "yaxis": "y3"
        },
        {
         "fill": "tonexty",
         "name": "OPEN - Net CO2 Emissions",
         "stackgroup": "3",
         "text": "Net Emissions",
         "type": "scatter",
         "x": [
          2025,
          2025,
          2025,
          2025,
          2025,
          2026,
          2026,
          2026,
          2026,
          2026,
          2027,
          2027,
          2027,
          2027,
          2027,
          2028,
          2028,
          2028,
          2028,
          2028,
          2029,
          2029,
          2029,
          2029,
          2029,
          2030,
          2030,
          2030,
          2030,
          2030,
          2031,
          2031,
          2031,
          2031,
          2031,
          2032,
          2032,
          2032,
          2032,
          2032,
          2033,
          2033,
          2033,
          2033,
          2033,
          2034,
          2034,
          2034,
          2034,
          2034,
          2035,
          2035,
          2035,
          2035,
          2035,
          2036,
          2036,
          2036,
          2036,
          2036,
          2037,
          2037,
          2037,
          2037,
          2037,
          2038,
          2038,
          2038,
          2038,
          2038,
          2039,
          2039,
          2039,
          2039,
          2039,
          2040,
          2040,
          2040,
          2040,
          2040
         ],
         "xaxis": "x6",
         "y": [
          15148.851544349049,
          15148.851544349049,
          15148.851544349049,
          15148.851544349049,
          15148.851544349049,
          14450.678245489218,
          14450.678245489218,
          14450.678245489218,
          14450.678245489218,
          14450.678245489218,
          13784.682036345654,
          13784.682036345654,
          13784.682036345654,
          13784.682036345654,
          13784.682036345654,
          13149.379954014577,
          13149.379954014577,
          13149.379954014577,
          13149.379954014577,
          13149.379954014577,
          12543.357381704122,
          12543.357381704122,
          12543.357381704122,
          12543.357381704122,
          12543.357381704122,
          11965.264898830137,
          11965.264898830137,
          11965.264898830137,
          11965.264898830137,
          11965.264898830137,
          11413.81527628339,
          11413.81527628339,
          11413.81527628339,
          11413.81527628339,
          11413.81527628339,
          10887.780610177493,
          10887.780610177493,
          10887.780610177493,
          10887.780610177493,
          10887.780610177493,
          10385.989587695314,
          10385.989587695314,
          10385.989587695314,
          10385.989587695314,
          10385.989587695314,
          9907.324878945825,
          9907.324878945825,
          9907.324878945825,
          9907.324878945825,
          9907.324878945825,
          9450.72064902386,
          9450.72064902386,
          9450.72064902386,
          9450.72064902386,
          9450.72064902386,
          9015.16018473289,
          9015.16018473289,
          9015.16018473289,
          9015.16018473289,
          9015.16018473289,
          8599.673630686313,
          8599.673630686313,
          8599.673630686313,
          8599.673630686313,
          8599.673630686313,
          8203.335829746293,
          8203.335829746293,
          8203.335829746293,
          8203.335829746293,
          8203.335829746293,
          7825.264262991423,
          7825.264262991423,
          7825.264262991423,
          7825.264262991423,
          7825.264262991423,
          7464.617084626233,
          7464.617084626233,
          7464.617084626233,
          7464.617084626233,
          7464.617084626233
         ],
         "yaxis": "y6"
        },
        {
         "type": "histogram",
         "x": [
          29849,
          33649,
          31149,
          11199,
          34249,
          21949,
          12200,
          26499,
          28699,
          32049,
          30499,
          26149,
          29299,
          33449,
          31999,
          45049,
          46949,
          30999,
          45149,
          48149,
          34199,
          46549,
          48949,
          35799,
          27299,
          48849,
          56249,
          47749,
          47649,
          59649,
          47949,
          30299,
          53749,
          37749,
          57349,
          41999,
          63949,
          43899,
          65249,
          65649,
          73549,
          69649,
          75849,
          74249,
          73549
         ],
         "xaxis": "x9",
         "yaxis": "y9"
        }
       ],
       "layout": {
        "annotations": [
         {
          "font": {
           "size": 16
          },
          "showarrow": false,
          "text": "GESLOTEN",
          "x": 0.14444444444444446,
          "xanchor": "center",
          "xref": "paper",
          "y": 1,
          "yanchor": "bottom",
          "yref": "paper"
         },
         {
          "font": {
           "size": 16
          },
          "showarrow": false,
          "text": "HALF_OPEN",
          "x": 0.5,
          "xanchor": "center",
          "xref": "paper",
          "y": 1,
          "yanchor": "bottom",
          "yref": "paper"
         },
         {
          "font": {
           "size": 16
          },
          "showarrow": false,
          "text": "OPEN",
          "x": 0.8555555555555556,
          "xanchor": "center",
          "xref": "paper",
          "y": 1,
          "yanchor": "bottom",
          "yref": "paper"
         }
        ],
        "height": 800,
        "showlegend": true,
        "template": {
         "data": {
          "bar": [
           {
            "error_x": {
             "color": "#2a3f5f"
            },
            "error_y": {
             "color": "#2a3f5f"
            },
            "marker": {
             "line": {
              "color": "#E5ECF6",
              "width": 0.5
             },
             "pattern": {
              "fillmode": "overlay",
              "size": 10,
              "solidity": 0.2
             }
            },
            "type": "bar"
           }
          ],
          "barpolar": [
           {
            "marker": {
             "line": {
              "color": "#E5ECF6",
              "width": 0.5
             },
             "pattern": {
              "fillmode": "overlay",
              "size": 10,
              "solidity": 0.2
             }
            },
            "type": "barpolar"
           }
          ],
          "carpet": [
           {
            "aaxis": {
             "endlinecolor": "#2a3f5f",
             "gridcolor": "white",
             "linecolor": "white",
             "minorgridcolor": "white",
             "startlinecolor": "#2a3f5f"
            },
            "baxis": {
             "endlinecolor": "#2a3f5f",
             "gridcolor": "white",
             "linecolor": "white",
             "minorgridcolor": "white",
             "startlinecolor": "#2a3f5f"
            },
            "type": "carpet"
           }
          ],
          "choropleth": [
           {
            "colorbar": {
             "outlinewidth": 0,
             "ticks": ""
            },
            "type": "choropleth"
           }
          ],
          "contour": [
           {
            "colorbar": {
             "outlinewidth": 0,
             "ticks": ""
            },
            "colorscale": [
             [
              0,
              "#0d0887"
             ],
             [
              0.1111111111111111,
              "#46039f"
             ],
             [
              0.2222222222222222,
              "#7201a8"
             ],
             [
              0.3333333333333333,
              "#9c179e"
             ],
             [
              0.4444444444444444,
              "#bd3786"
             ],
             [
              0.5555555555555556,
              "#d8576b"
             ],
             [
              0.6666666666666666,
              "#ed7953"
             ],
             [
              0.7777777777777778,
              "#fb9f3a"
             ],
             [
              0.8888888888888888,
              "#fdca26"
             ],
             [
              1,
              "#f0f921"
             ]
            ],
            "type": "contour"
           }
          ],
          "contourcarpet": [
           {
            "colorbar": {
             "outlinewidth": 0,
             "ticks": ""
            },
            "type": "contourcarpet"
           }
          ],
          "heatmap": [
           {
            "colorbar": {
             "outlinewidth": 0,
             "ticks": ""
            },
            "colorscale": [
             [
              0,
              "#0d0887"
             ],
             [
              0.1111111111111111,
              "#46039f"
             ],
             [
              0.2222222222222222,
              "#7201a8"
             ],
             [
              0.3333333333333333,
              "#9c179e"
             ],
             [
              0.4444444444444444,
              "#bd3786"
             ],
             [
              0.5555555555555556,
              "#d8576b"
             ],
             [
              0.6666666666666666,
              "#ed7953"
             ],
             [
              0.7777777777777778,
              "#fb9f3a"
             ],
             [
              0.8888888888888888,
              "#fdca26"
             ],
             [
              1,
              "#f0f921"
             ]
            ],
            "type": "heatmap"
           }
          ],
          "heatmapgl": [
           {
            "colorbar": {
             "outlinewidth": 0,
             "ticks": ""
            },
            "colorscale": [
             [
              0,
              "#0d0887"
             ],
             [
              0.1111111111111111,
              "#46039f"
             ],
             [
              0.2222222222222222,
              "#7201a8"
             ],
             [
              0.3333333333333333,
              "#9c179e"
             ],
             [
              0.4444444444444444,
              "#bd3786"
             ],
             [
              0.5555555555555556,
              "#d8576b"
             ],
             [
              0.6666666666666666,
              "#ed7953"
             ],
             [
              0.7777777777777778,
              "#fb9f3a"
             ],
             [
              0.8888888888888888,
              "#fdca26"
             ],
             [
              1,
              "#f0f921"
             ]
            ],
            "type": "heatmapgl"
           }
          ],
          "histogram": [
           {
            "marker": {
             "pattern": {
              "fillmode": "overlay",
              "size": 10,
              "solidity": 0.2
             }
            },
            "type": "histogram"
           }
          ],
          "histogram2d": [
           {
            "colorbar": {
             "outlinewidth": 0,
             "ticks": ""
            },
            "colorscale": [
             [
              0,
              "#0d0887"
             ],
             [
              0.1111111111111111,
              "#46039f"
             ],
             [
              0.2222222222222222,
              "#7201a8"
             ],
             [
              0.3333333333333333,
              "#9c179e"
             ],
             [
              0.4444444444444444,
              "#bd3786"
             ],
             [
              0.5555555555555556,
              "#d8576b"
             ],
             [
              0.6666666666666666,
              "#ed7953"
             ],
             [
              0.7777777777777778,
              "#fb9f3a"
             ],
             [
              0.8888888888888888,
              "#fdca26"
             ],
             [
              1,
              "#f0f921"
             ]
            ],
            "type": "histogram2d"
           }
          ],
          "histogram2dcontour": [
           {
            "colorbar": {
             "outlinewidth": 0,
             "ticks": ""
            },
            "colorscale": [
             [
              0,
              "#0d0887"
             ],
             [
              0.1111111111111111,
              "#46039f"
             ],
             [
              0.2222222222222222,
              "#7201a8"
             ],
             [
              0.3333333333333333,
              "#9c179e"
             ],
             [
              0.4444444444444444,
              "#bd3786"
             ],
             [
              0.5555555555555556,
              "#d8576b"
             ],
             [
              0.6666666666666666,
              "#ed7953"
             ],
             [
              0.7777777777777778,
              "#fb9f3a"
             ],
             [
              0.8888888888888888,
              "#fdca26"
             ],
             [
              1,
              "#f0f921"
             ]
            ],
            "type": "histogram2dcontour"
           }
          ],
          "mesh3d": [
           {
            "colorbar": {
             "outlinewidth": 0,
             "ticks": ""
            },
            "type": "mesh3d"
           }
          ],
          "parcoords": [
           {
            "line": {
             "colorbar": {
              "outlinewidth": 0,
              "ticks": ""
             }
            },
            "type": "parcoords"
           }
          ],
          "pie": [
           {
            "automargin": true,
            "type": "pie"
           }
          ],
          "scatter": [
           {
            "fillpattern": {
             "fillmode": "overlay",
             "size": 10,
             "solidity": 0.2
            },
            "type": "scatter"
           }
          ],
          "scatter3d": [
           {
            "line": {
             "colorbar": {
              "outlinewidth": 0,
              "ticks": ""
             }
            },
            "marker": {
             "colorbar": {
              "outlinewidth": 0,
              "ticks": ""
             }
            },
            "type": "scatter3d"
           }
          ],
          "scattercarpet": [
           {
            "marker": {
             "colorbar": {
              "outlinewidth": 0,
              "ticks": ""
             }
            },
            "type": "scattercarpet"
           }
          ],
          "scattergeo": [
           {
            "marker": {
             "colorbar": {
              "outlinewidth": 0,
              "ticks": ""
             }
            },
            "type": "scattergeo"
           }
          ],
          "scattergl": [
           {
            "marker": {
             "colorbar": {
              "outlinewidth": 0,
              "ticks": ""
             }
            },
            "type": "scattergl"
           }
          ],
          "scattermapbox": [
           {
            "marker": {
             "colorbar": {
              "outlinewidth": 0,
              "ticks": ""
             }
            },
            "type": "scattermapbox"
           }
          ],
          "scatterpolar": [
           {
            "marker": {
             "colorbar": {
              "outlinewidth": 0,
              "ticks": ""
             }
            },
            "type": "scatterpolar"
           }
          ],
          "scatterpolargl": [
           {
            "marker": {
             "colorbar": {
              "outlinewidth": 0,
              "ticks": ""
             }
            },
            "type": "scatterpolargl"
           }
          ],
          "scatterternary": [
           {
            "marker": {
             "colorbar": {
              "outlinewidth": 0,
              "ticks": ""
             }
            },
            "type": "scatterternary"
           }
          ],
          "surface": [
           {
            "colorbar": {
             "outlinewidth": 0,
             "ticks": ""
            },
            "colorscale": [
             [
              0,
              "#0d0887"
             ],
             [
              0.1111111111111111,
              "#46039f"
             ],
             [
              0.2222222222222222,
              "#7201a8"
             ],
             [
              0.3333333333333333,
              "#9c179e"
             ],
             [
              0.4444444444444444,
              "#bd3786"
             ],
             [
              0.5555555555555556,
              "#d8576b"
             ],
             [
              0.6666666666666666,
              "#ed7953"
             ],
             [
              0.7777777777777778,
              "#fb9f3a"
             ],
             [
              0.8888888888888888,
              "#fdca26"
             ],
             [
              1,
              "#f0f921"
             ]
            ],
            "type": "surface"
           }
          ],
          "table": [
           {
            "cells": {
             "fill": {
              "color": "#EBF0F8"
             },
             "line": {
              "color": "white"
             }
            },
            "header": {
             "fill": {
              "color": "#C8D4E3"
             },
             "line": {
              "color": "white"
             }
            },
            "type": "table"
           }
          ]
         },
         "layout": {
          "annotationdefaults": {
           "arrowcolor": "#2a3f5f",
           "arrowhead": 0,
           "arrowwidth": 1
          },
          "autotypenumbers": "strict",
          "coloraxis": {
           "colorbar": {
            "outlinewidth": 0,
            "ticks": ""
           }
          },
          "colorscale": {
           "diverging": [
            [
             0,
             "#8e0152"
            ],
            [
             0.1,
             "#c51b7d"
            ],
            [
             0.2,
             "#de77ae"
            ],
            [
             0.3,
             "#f1b6da"
            ],
            [
             0.4,
             "#fde0ef"
            ],
            [
             0.5,
             "#f7f7f7"
            ],
            [
             0.6,
             "#e6f5d0"
            ],
            [
             0.7,
             "#b8e186"
            ],
            [
             0.8,
             "#7fbc41"
            ],
            [
             0.9,
             "#4d9221"
            ],
            [
             1,
             "#276419"
            ]
           ],
           "sequential": [
            [
             0,
             "#0d0887"
            ],
            [
             0.1111111111111111,
             "#46039f"
            ],
            [
             0.2222222222222222,
             "#7201a8"
            ],
            [
             0.3333333333333333,
             "#9c179e"
            ],
            [
             0.4444444444444444,
             "#bd3786"
            ],
            [
             0.5555555555555556,
             "#d8576b"
            ],
            [
             0.6666666666666666,
             "#ed7953"
            ],
            [
             0.7777777777777778,
             "#fb9f3a"
            ],
            [
             0.8888888888888888,
             "#fdca26"
            ],
            [
             1,
             "#f0f921"
            ]
           ],
           "sequentialminus": [
            [
             0,
             "#0d0887"
            ],
            [
             0.1111111111111111,
             "#46039f"
            ],
            [
             0.2222222222222222,
             "#7201a8"
            ],
            [
             0.3333333333333333,
             "#9c179e"
            ],
            [
             0.4444444444444444,
             "#bd3786"
            ],
            [
             0.5555555555555556,
             "#d8576b"
            ],
            [
             0.6666666666666666,
             "#ed7953"
            ],
            [
             0.7777777777777778,
             "#fb9f3a"
            ],
            [
             0.8888888888888888,
             "#fdca26"
            ],
            [
             1,
             "#f0f921"
            ]
           ]
          },
          "colorway": [
           "#636efa",
           "#EF553B",
           "#00cc96",
           "#ab63fa",
           "#FFA15A",
           "#19d3f3",
           "#FF6692",
           "#B6E880",
           "#FF97FF",
           "#FECB52"
          ],
          "font": {
           "color": "#2a3f5f"
          },
          "geo": {
           "bgcolor": "white",
           "lakecolor": "white",
           "landcolor": "#E5ECF6",
           "showlakes": true,
           "showland": true,
           "subunitcolor": "white"
          },
          "hoverlabel": {
           "align": "left"
          },
          "hovermode": "closest",
          "mapbox": {
           "style": "light"
          },
          "paper_bgcolor": "white",
          "plot_bgcolor": "#E5ECF6",
          "polar": {
           "angularaxis": {
            "gridcolor": "white",
            "linecolor": "white",
            "ticks": ""
           },
           "bgcolor": "#E5ECF6",
           "radialaxis": {
            "gridcolor": "white",
            "linecolor": "white",
            "ticks": ""
           }
          },
          "scene": {
           "xaxis": {
            "backgroundcolor": "#E5ECF6",
            "gridcolor": "white",
            "gridwidth": 2,
            "linecolor": "white",
            "showbackground": true,
            "ticks": "",
            "zerolinecolor": "white"
           },
           "yaxis": {
            "backgroundcolor": "#E5ECF6",
            "gridcolor": "white",
            "gridwidth": 2,
            "linecolor": "white",
            "showbackground": true,
            "ticks": "",
            "zerolinecolor": "white"
           },
           "zaxis": {
            "backgroundcolor": "#E5ECF6",
            "gridcolor": "white",
            "gridwidth": 2,
            "linecolor": "white",
            "showbackground": true,
            "ticks": "",
            "zerolinecolor": "white"
           }
          },
          "shapedefaults": {
           "line": {
            "color": "#2a3f5f"
           }
          },
          "ternary": {
           "aaxis": {
            "gridcolor": "white",
            "linecolor": "white",
            "ticks": ""
           },
           "baxis": {
            "gridcolor": "white",
            "linecolor": "white",
            "ticks": ""
           },
           "bgcolor": "#E5ECF6",
           "caxis": {
            "gridcolor": "white",
            "linecolor": "white",
            "ticks": ""
           }
          },
          "title": {
           "x": 0.05
          },
          "xaxis": {
           "automargin": true,
           "gridcolor": "white",
           "linecolor": "white",
           "ticks": "",
           "title": {
            "standoff": 15
           },
           "zerolinecolor": "white",
           "zerolinewidth": 2
          },
          "yaxis": {
           "automargin": true,
           "gridcolor": "white",
           "linecolor": "white",
           "ticks": "",
           "title": {
            "standoff": 15
           },
           "zerolinecolor": "white",
           "zerolinewidth": 2
          }
         }
        },
        "title": {
         "text": "CO2 Emissions Over Years by Building Type with heat pumps and A labels"
        },
        "width": 1600,
        "xaxis": {
         "anchor": "y",
         "domain": [
          0,
          0.2888888888888889
         ],
         "title": {
          "text": "Year"
         }
        },
        "xaxis2": {
         "anchor": "y2",
         "domain": [
          0.35555555555555557,
          0.6444444444444445
         ],
         "title": {
          "text": "Year"
         }
        },
        "xaxis3": {
         "anchor": "y3",
         "domain": [
          0.7111111111111111,
          1
         ],
         "title": {
          "text": "Year"
         }
        },
        "xaxis4": {
         "anchor": "y4",
         "domain": [
          0,
          0.2888888888888889
         ]
        },
        "xaxis5": {
         "anchor": "y5",
         "domain": [
          0.35555555555555557,
          0.6444444444444445
         ]
        },
        "xaxis6": {
         "anchor": "y6",
         "domain": [
          0.7111111111111111,
          1
         ]
        },
        "xaxis7": {
         "anchor": "y7",
         "domain": [
          0,
          0.2888888888888889
         ],
         "title": {
          "text": "Investment cost [€]"
         }
        },
        "xaxis8": {
         "anchor": "y8",
         "domain": [
          0.35555555555555557,
          0.6444444444444445
         ],
         "title": {
          "text": "Investment cost [€]"
         }
        },
        "xaxis9": {
         "anchor": "y9",
         "domain": [
          0.7111111111111111,
          1
         ],
         "title": {
          "text": "Investment cost [€]"
         }
        },
        "yaxis": {
         "anchor": "x",
         "domain": [
          0.7777777777777778,
          1
         ],
         "range": [
          -45000,
          120000
         ],
         "title": {
          "text": "Gross CO2 Emissions (kg)"
         }
        },
        "yaxis2": {
         "anchor": "x2",
         "domain": [
          0.7777777777777778,
          1
         ],
         "matches": "y",
         "range": [
          -45000,
          120000
         ],
         "showticklabels": false
        },
        "yaxis3": {
         "anchor": "x3",
         "domain": [
          0.7777777777777778,
          1
         ],
         "matches": "y",
         "range": [
          -45000,
          120000
         ],
         "showticklabels": false
        },
        "yaxis4": {
         "anchor": "x4",
         "domain": [
          0.3888888888888889,
          0.6111111111111112
         ],
         "range": [
          -20000,
          100000
         ],
         "title": {
          "text": "Net CO2 Emissions (kg)"
         }
        },
        "yaxis5": {
         "anchor": "x5",
         "domain": [
          0.3888888888888889,
          0.6111111111111112
         ],
         "matches": "y4",
         "range": [
          -20000,
          100000
         ],
         "showticklabels": false
        },
        "yaxis6": {
         "anchor": "x6",
         "domain": [
          0.3888888888888889,
          0.6111111111111112
         ],
         "matches": "y4",
         "range": [
          -20000,
          100000
         ],
         "showticklabels": false
        },
        "yaxis7": {
         "anchor": "x7",
         "domain": [
          0,
          0.22222222222222224
         ],
         "range": [
          0,
          30
         ],
         "title": {
          "text": "Count"
         }
        },
        "yaxis8": {
         "anchor": "x8",
         "domain": [
          0,
          0.22222222222222224
         ],
         "matches": "y7",
         "range": [
          0,
          30
         ],
         "showticklabels": false
        },
        "yaxis9": {
         "anchor": "x9",
         "domain": [
          0,
          0.22222222222222224
         ],
         "matches": "y7",
         "range": [
          0,
          30
         ],
         "showticklabels": false
        }
       }
      },
      "text/html": [
       "<div>                            <div id=\"87bd8a04-d7e3-4044-875f-ec1710530df1\" class=\"plotly-graph-div\" style=\"height:800px; width:1600px;\"></div>            <script type=\"text/javascript\">                require([\"plotly\"], function(Plotly) {                    window.PLOTLYENV=window.PLOTLYENV || {};                                    if (document.getElementById(\"87bd8a04-d7e3-4044-875f-ec1710530df1\")) {                    Plotly.newPlot(                        \"87bd8a04-d7e3-4044-875f-ec1710530df1\",                        [{\"fill\":\"tonexty\",\"name\":\"GESLOTEN - Modified CO2 Emissions\",\"stackgroup\":\"1\",\"x\":[2025,2025,2025,2025,2025,2026,2026,2026,2026,2026,2027,2027,2027,2027,2027,2028,2028,2028,2028,2028,2029,2029,2029,2029,2029,2030,2030,2030,2030,2030,2031,2031,2031,2031,2031,2032,2032,2032,2032,2032,2033,2033,2033,2033,2033,2034,2034,2034,2034,2034,2035,2035,2035,2035,2035,2036,2036,2036,2036,2036,2037,2037,2037,2037,2037,2038,2038,2038,2038,2038,2039,2039,2039,2039,2039,2040,2040,2040,2040,2040],\"y\":[26197.47152988897,26197.47152988897,26197.47152988897,26197.47152988897,26197.47152988897,24990.094517429447,24990.094517429447,24990.094517429447,24990.094517429447,24990.094517429447,23838.36254111597,23838.36254111597,23838.36254111597,23838.36254111597,23838.36254111597,22739.711058129073,22739.711058129073,22739.711058129073,22739.711058129073,22739.711058129073,21691.6937191186,21691.6937191186,21691.6937191186,21691.6937191186,21691.6937191186,20691.976920957535,20691.976920957535,20691.976920957535,20691.976920957535,20691.976920957535,19738.33461054586,19738.33461054586,19738.33461054586,19738.33461054586,19738.33461054586,18828.64332809452,18828.64332809452,18828.64332809452,18828.64332809452,18828.64332809452,17960.877478852002,17960.877478852002,17960.877478852002,17960.877478852002,17960.877478852002,17133.10482274561,17133.10482274561,17133.10482274561,17133.10482274561,17133.10482274561,16343.482171893924,16343.482171893924,16343.482171893924,16343.482171893924,16343.482171893924,15590.251286410434,15590.251286410434,15590.251286410434,15590.251286410434,15590.251286410434,14871.734959359414,14871.734959359414,14871.734959359414,14871.734959359414,14871.734959359414,14186.333282146588,14186.333282146588,14186.333282146588,14186.333282146588,14186.333282146588,13532.520082028725,13532.520082028725,13532.520082028725,13532.520082028725,13532.520082028725,12908.839523809691,12908.839523809691,12908.839523809691,12908.839523809691,12908.839523809691],\"type\":\"scatter\",\"xaxis\":\"x\",\"yaxis\":\"y\"},{\"fill\":\"tonexty\",\"name\":\"GESLOTEN - Solar CO2 Emissions\",\"stackgroup\":\"2\",\"x\":[2025,2025,2025,2025,2025,2026,2026,2026,2026,2026,2027,2027,2027,2027,2027,2028,2028,2028,2028,2028,2029,2029,2029,2029,2029,2030,2030,2030,2030,2030,2031,2031,2031,2031,2031,2032,2032,2032,2032,2032,2033,2033,2033,2033,2033,2034,2034,2034,2034,2034,2035,2035,2035,2035,2035,2036,2036,2036,2036,2036,2037,2037,2037,2037,2037,2038,2038,2038,2038,2038,2039,2039,2039,2039,2039,2040,2040,2040,2040,2040],\"y\":[-5371.019131356106,-5371.019131356106,-5371.019131356106,-5371.019131356106,-5371.019131356106,-5123.482073236544,-5123.482073236544,-5123.482073236544,-5123.482073236544,-5123.482073236544,-4887.35338914134,-4887.35338914134,-4887.35338914134,-4887.35338914134,-4887.35338914134,-4662.107295178301,-4662.107295178301,-4662.107295178301,-4662.107295178301,-4662.107295178301,-4447.242239541309,-4447.242239541309,-4447.242239541309,-4447.242239541309,-4447.242239541309,-4242.27978571308,-4242.27978571308,-4242.27978571308,-4242.27978571308,-4242.27978571308,-4046.76354713838,-4046.76354713838,-4046.76354713838,-4046.76354713838,-4046.76354713838,-3860.2581709955107,-3860.2581709955107,-3860.2581709955107,-3860.2581709955107,-3860.2581709955107,-3682.3483688032843,-3682.3483688032843,-3682.3483688032843,-3682.3483688032843,-3682.3483688032843,-3512.637991704928,-3512.637991704928,-3512.637991704928,-3512.637991704928,-3512.637991704928,-3350.749148369883,-3350.749148369883,-3350.749148369883,-3350.749148369883,-3350.749148369883,-3196.321363549335,-3196.321363549335,-3196.321363549335,-3196.321363549335,-3196.321363549335,-3049.0107754118576,-3049.0107754118576,-3049.0107754118576,-3049.0107754118576,-3049.0107754118576,-2908.4893698718756,-2908.4893698718756,-2908.4893698718756,-2908.4893698718756,-2908.4893698718756,-2774.444250206044,-2774.444250206044,-2774.444250206044,-2774.444250206044,-2774.444250206044,-2646.5769403312165,-2646.5769403312165,-2646.5769403312165,-2646.5769403312165,-2646.5769403312165],\"type\":\"scatter\",\"xaxis\":\"x\",\"yaxis\":\"y\"},{\"fill\":\"tonexty\",\"name\":\"GESLOTEN - Net CO2 Emissions\",\"stackgroup\":\"3\",\"text\":\"Net Emissions\",\"x\":[2025,2025,2025,2025,2025,2026,2026,2026,2026,2026,2027,2027,2027,2027,2027,2028,2028,2028,2028,2028,2029,2029,2029,2029,2029,2030,2030,2030,2030,2030,2031,2031,2031,2031,2031,2032,2032,2032,2032,2032,2033,2033,2033,2033,2033,2034,2034,2034,2034,2034,2035,2035,2035,2035,2035,2036,2036,2036,2036,2036,2037,2037,2037,2037,2037,2038,2038,2038,2038,2038,2039,2039,2039,2039,2039,2040,2040,2040,2040,2040],\"y\":[20826.452398532867,20826.452398532867,20826.452398532867,20826.452398532867,20826.452398532867,19866.612444192902,19866.612444192902,19866.612444192902,19866.612444192902,19866.612444192902,18951.00915197463,18951.00915197463,18951.00915197463,18951.00915197463,18951.00915197463,18077.60376295077,18077.60376295077,18077.60376295077,18077.60376295077,18077.60376295077,17244.45147957729,17244.45147957729,17244.45147957729,17244.45147957729,17244.45147957729,16449.69713524445,16449.69713524445,16449.69713524445,16449.69713524445,16449.69713524445,15691.571063407484,15691.571063407484,15691.571063407484,15691.571063407484,15691.571063407484,14968.385157099008,14968.385157099008,14968.385157099008,14968.385157099008,14968.385157099008,14278.529110048721,14278.529110048721,14278.529110048721,14278.529110048721,14278.529110048721,13620.466831040678,13620.466831040678,13620.466831040678,13620.466831040678,13620.466831040678,12992.73302352404,12992.73302352404,12992.73302352404,12992.73302352404,12992.73302352404,12393.9299228611,12393.9299228611,12393.9299228611,12393.9299228611,12393.9299228611,11822.724183947556,11822.724183947556,11822.724183947556,11822.724183947556,11822.724183947556,11277.843912274713,11277.843912274713,11277.843912274713,11277.843912274713,11277.843912274713,10758.075831822682,10758.075831822682,10758.075831822682,10758.075831822682,10758.075831822682,10262.262583478476,10262.262583478476,10262.262583478476,10262.262583478476,10262.262583478476],\"type\":\"scatter\",\"xaxis\":\"x4\",\"yaxis\":\"y4\"},{\"x\":[9299,9499,10099,10199,10299,17749,17749,10599,10599,10799,20049,12899,10999,11199,11299,11399,11599,24049,16699,14399,14399,24949,29249,26699,26099,25299,27349,27299,28549,30399,28499,28899,31699,37049,30649,32899,40149,34399,44749,34899,44649,37899,43299,43599,53749],\"type\":\"histogram\",\"xaxis\":\"x7\",\"yaxis\":\"y7\"},{\"fill\":\"tonexty\",\"name\":\"HALF_OPEN - Modified CO2 Emissions\",\"stackgroup\":\"1\",\"x\":[2025,2025,2025,2025,2025,2026,2026,2026,2026,2026,2027,2027,2027,2027,2027,2028,2028,2028,2028,2028,2029,2029,2029,2029,2029,2030,2030,2030,2030,2030,2031,2031,2031,2031,2031,2032,2032,2032,2032,2032,2033,2033,2033,2033,2033,2034,2034,2034,2034,2034,2035,2035,2035,2035,2035,2036,2036,2036,2036,2036,2037,2037,2037,2037,2037,2038,2038,2038,2038,2038,2039,2039,2039,2039,2039,2040,2040,2040,2040,2040],\"y\":[27614.72609347021,27614.72609347021,27614.72609347021,27614.72609347021,27614.72609347021,26342.031304868848,26342.031304868848,26342.031304868848,26342.031304868848,26342.031304868848,25127.991888022785,25127.991888022785,25127.991888022785,25127.991888022785,25127.991888022785,23969.90456115026,23969.90456115026,23969.90456115026,23969.90456115026,23969.90456115026,22865.190630076308,22865.190630076308,22865.190630076308,22865.190630076308,22865.190630076308,21811.390246296443,21811.390246296443,21811.390246296443,21811.390246296443,21811.390246296443,20806.1569296721,20806.1569296721,20806.1569296721,20806.1569296721,20806.1569296721,19847.25234356153,19847.25234356153,19847.25234356153,19847.25234356153,19847.25234356153,18932.541310752134,18932.541310752134,18932.541310752134,18932.541310752134,18932.541310752134,18059.987059096096,18059.987059096096,18059.987059096096,18059.987059096096,18059.987059096096,17227.646686263124,17227.646686263124,17227.646686263124,17227.646686263124,17227.646686263124,16433.6668335114,16433.6668335114,16433.6668335114,16433.6668335114,16433.6668335114,15676.279558843973,15676.279558843973,15676.279558843973,15676.279558843973,15676.279558843973,14953.798400361062,14953.798400361062,14953.798400361062,14953.798400361062,14953.798400361062,14264.614621042858,14264.614621042858,14264.614621042858,14264.614621042858,14264.614621042858,13607.193626601025,13607.193626601025,13607.193626601025,13607.193626601025,13607.193626601025],\"type\":\"scatter\",\"xaxis\":\"x2\",\"yaxis\":\"y2\"},{\"fill\":\"tonexty\",\"name\":\"HALF_OPEN - Solar CO2 Emissions\",\"stackgroup\":\"2\",\"x\":[2025,2025,2025,2025,2025,2026,2026,2026,2026,2026,2027,2027,2027,2027,2027,2028,2028,2028,2028,2028,2029,2029,2029,2029,2029,2030,2030,2030,2030,2030,2031,2031,2031,2031,2031,2032,2032,2032,2032,2032,2033,2033,2033,2033,2033,2034,2034,2034,2034,2034,2035,2035,2035,2035,2035,2036,2036,2036,2036,2036,2037,2037,2037,2037,2037,2038,2038,2038,2038,2038,2039,2039,2039,2039,2039,2040,2040,2040,2040,2040],\"y\":[-7974.220157403959,-7974.220157403959,-7974.220157403959,-7974.220157403959,-7974.220157403959,-7606.707968322797,-7606.707968322797,-7606.707968322797,-7606.707968322797,-7606.707968322797,-7256.133511892246,-7256.133511892246,-7256.133511892246,-7256.133511892246,-7256.133511892246,-6921.71616968422,-6921.71616968422,-6921.71616968422,-6921.71616968422,-6921.71616968422,-6602.711300053524,-6602.711300053524,-6602.711300053524,-6602.711300053524,-6602.711300053524,-6298.408580056441,-6298.408580056441,-6298.408580056441,-6298.408580056441,-6298.408580056441,-6008.1304237862105,-6008.1304237862105,-6008.1304237862105,-6008.1304237862105,-6008.1304237862105,-5731.23047360354,-5731.23047360354,-5731.23047360354,-5731.23047360354,-5731.23047360354,-5467.092160902577,-5467.092160902577,-5467.092160902577,-5467.092160902577,-5467.092160902577,-5215.127333207642,-5215.127333207642,-5215.127333207642,-5215.127333207642,-5215.127333207642,-4974.774944543707,-4974.774944543707,-4974.774944543707,-4974.774944543707,-4974.774944543707,-4745.49980616446,-4745.49980616446,-4745.49980616446,-4745.49980616446,-4745.49980616446,-4526.791394856249,-4526.791394856249,-4526.791394856249,-4526.791394856249,-4526.791394856249,-4318.162716164365,-4318.162716164365,-4318.162716164365,-4318.162716164365,-4318.162716164365,-4119.149220010419,-4119.149220010419,-4119.149220010419,-4119.149220010419,-4119.149220010419,-3929.307766286269,-3929.307766286269,-3929.307766286269,-3929.307766286269,-3929.307766286269],\"type\":\"scatter\",\"xaxis\":\"x2\",\"yaxis\":\"y2\"},{\"fill\":\"tonexty\",\"name\":\"HALF_OPEN - Net CO2 Emissions\",\"stackgroup\":\"3\",\"text\":\"Net Emissions\",\"x\":[2025,2025,2025,2025,2025,2026,2026,2026,2026,2026,2027,2027,2027,2027,2027,2028,2028,2028,2028,2028,2029,2029,2029,2029,2029,2030,2030,2030,2030,2030,2031,2031,2031,2031,2031,2032,2032,2032,2032,2032,2033,2033,2033,2033,2033,2034,2034,2034,2034,2034,2035,2035,2035,2035,2035,2036,2036,2036,2036,2036,2037,2037,2037,2037,2037,2038,2038,2038,2038,2038,2039,2039,2039,2039,2039,2040,2040,2040,2040,2040],\"y\":[19640.505936066245,19640.505936066245,19640.505936066245,19640.505936066245,19640.505936066245,18735.32333654605,18735.32333654605,18735.32333654605,18735.32333654605,18735.32333654605,17871.858376130534,17871.858376130534,17871.858376130534,17871.858376130534,17871.858376130534,17048.18839146604,17048.18839146604,17048.18839146604,17048.18839146604,17048.18839146604,16262.47933002279,16262.47933002279,16262.47933002279,16262.47933002279,16262.47933002279,15512.981666240008,15512.981666240008,15512.981666240008,15512.981666240008,15512.981666240008,14798.02650588589,14798.02650588589,14798.02650588589,14798.02650588589,14798.02650588589,14116.02186995799,14116.02186995799,14116.02186995799,14116.02186995799,14116.02186995799,13465.449149849557,13465.449149849557,13465.449149849557,13465.449149849557,13465.449149849557,12844.85972588846,12844.85972588846,12844.85972588846,12844.85972588846,12844.85972588846,12252.871741719415,12252.871741719415,12252.871741719415,12252.871741719415,12252.871741719415,11688.167027346944,11688.167027346944,11688.167027346944,11688.167027346944,11688.167027346944,11149.488163987724,11149.488163987724,11149.488163987724,11149.488163987724,11149.488163987724,10635.635684196699,10635.635684196699,10635.635684196699,10635.635684196699,10635.635684196699,10145.465401032438,10145.465401032438,10145.465401032438,10145.465401032438,10145.465401032438,9677.885860314756,9677.885860314756,9677.885860314756,9677.885860314756,9677.885860314756],\"type\":\"scatter\",\"xaxis\":\"x5\",\"yaxis\":\"y5\"},{\"x\":[28249,9799,32649,10499,10699,11300,33449,29549,36849,11699,14399,11799,36849,23149,23249,23349,23349,32149,32049,27199,28100,27499,26049,26049,20999,29749,21999,30499,40449,32249,44499,41899,49549,48749,44599,44899,53499,54999,45399,55149,55549,55549,53749,57249,59199],\"type\":\"histogram\",\"xaxis\":\"x8\",\"yaxis\":\"y8\"},{\"fill\":\"tonexty\",\"name\":\"OPEN - Modified CO2 Emissions\",\"stackgroup\":\"1\",\"x\":[2025,2025,2025,2025,2025,2026,2026,2026,2026,2026,2027,2027,2027,2027,2027,2028,2028,2028,2028,2028,2029,2029,2029,2029,2029,2030,2030,2030,2030,2030,2031,2031,2031,2031,2031,2032,2032,2032,2032,2032,2033,2033,2033,2033,2033,2034,2034,2034,2034,2034,2035,2035,2035,2035,2035,2036,2036,2036,2036,2036,2037,2037,2037,2037,2037,2038,2038,2038,2038,2038,2039,2039,2039,2039,2039,2040,2040,2040,2040,2040],\"y\":[31197.328391938292,31197.328391938292,31197.328391938292,31197.328391938292,31197.328391938292,29759.520277227577,29759.520277227577,29759.520277227577,29759.520277227577,29759.520277227577,28387.977201264934,28387.977201264934,28387.977201264934,28387.977201264934,28387.977201264934,27079.645171438024,27079.645171438024,27079.645171438024,27079.645171438024,27079.645171438024,25831.61094614066,25831.61094614066,25831.61094614066,25831.61094614066,25831.61094614066,24641.09554790519,24641.09554790519,24641.09554790519,24641.09554790519,24641.09554790519,23505.448075498694,23505.448075498694,23505.448075498694,23505.448075498694,23505.448075498694,22422.139801204397,22422.139801204397,22422.139801204397,22422.139801204397,22422.139801204397,21388.75854014486,21388.75854014486,21388.75854014486,21388.75854014486,21388.75854014486,20403.003279109267,20403.003279109267,20403.003279109267,20403.003279109267,20403.003279109267,19462.67905292479,19462.67905292479,19462.67905292479,19462.67905292479,19462.67905292479,18565.69205696341,18565.69205696341,18565.69205696341,18565.69205696341,18565.69205696341,17710.044984901295,17710.044984901295,17710.044984901295,17710.044984901295,17710.044984901295,16893.83258134937,16893.83258134937,16893.83258134937,16893.83258134937,16893.83258134937,16115.237399452153,16115.237399452153,16115.237399452153,16115.237399452153,16115.237399452153,15372.525754008522,15372.525754008522,15372.525754008522,15372.525754008522,15372.525754008522],\"type\":\"scatter\",\"xaxis\":\"x3\",\"yaxis\":\"y3\"},{\"fill\":\"tonexty\",\"name\":\"OPEN - Solar CO2 Emissions\",\"stackgroup\":\"2\",\"x\":[2025,2025,2025,2025,2025,2026,2026,2026,2026,2026,2027,2027,2027,2027,2027,2028,2028,2028,2028,2028,2029,2029,2029,2029,2029,2030,2030,2030,2030,2030,2031,2031,2031,2031,2031,2032,2032,2032,2032,2032,2033,2033,2033,2033,2033,2034,2034,2034,2034,2034,2035,2035,2035,2035,2035,2036,2036,2036,2036,2036,2037,2037,2037,2037,2037,2038,2038,2038,2038,2038,2039,2039,2039,2039,2039,2040,2040,2040,2040,2040],\"y\":[-16048.476847589238,-16048.476847589238,-16048.476847589238,-16048.476847589238,-16048.476847589238,-15308.842031738357,-15308.842031738357,-15308.842031738357,-15308.842031738357,-15308.842031738357,-14603.295164919284,-14603.295164919284,-14603.295164919284,-14603.295164919284,-14603.295164919284,-13930.265217423446,-13930.265217423446,-13930.265217423446,-13930.265217423446,-13930.265217423446,-13288.253564436538,-13288.253564436538,-13288.253564436538,-13288.253564436538,-13288.253564436538,-12675.830649075053,-12675.830649075053,-12675.830649075053,-12675.830649075053,-12675.830649075053,-12091.632799215306,-12091.632799215306,-12091.632799215306,-12091.632799215306,-12091.632799215306,-11534.3591910269,-11534.3591910269,-11534.3591910269,-11534.3591910269,-11534.3591910269,-11002.768952449549,-11002.768952449549,-11002.768952449549,-11002.768952449549,-11002.768952449549,-10495.67840016344,-10495.67840016344,-10495.67840016344,-10495.67840016344,-10495.67840016344,-10011.958403900926,-10011.958403900926,-10011.958403900926,-10011.958403900926,-10011.958403900926,-9550.531872230516,-9550.531872230516,-9550.531872230516,-9550.531872230516,-9550.531872230516,-9110.371354214982,-9110.371354214982,-9110.371354214982,-9110.371354214982,-9110.371354214982,-8690.496751603076,-8690.496751603076,-8690.496751603076,-8690.496751603076,-8690.496751603076,-8289.973136460732,-8289.973136460732,-8289.973136460732,-8289.973136460732,-8289.973136460732,-7907.908669382291,-7907.908669382291,-7907.908669382291,-7907.908669382291,-7907.908669382291],\"type\":\"scatter\",\"xaxis\":\"x3\",\"yaxis\":\"y3\"},{\"fill\":\"tonexty\",\"name\":\"OPEN - Net CO2 Emissions\",\"stackgroup\":\"3\",\"text\":\"Net Emissions\",\"x\":[2025,2025,2025,2025,2025,2026,2026,2026,2026,2026,2027,2027,2027,2027,2027,2028,2028,2028,2028,2028,2029,2029,2029,2029,2029,2030,2030,2030,2030,2030,2031,2031,2031,2031,2031,2032,2032,2032,2032,2032,2033,2033,2033,2033,2033,2034,2034,2034,2034,2034,2035,2035,2035,2035,2035,2036,2036,2036,2036,2036,2037,2037,2037,2037,2037,2038,2038,2038,2038,2038,2039,2039,2039,2039,2039,2040,2040,2040,2040,2040],\"y\":[15148.851544349049,15148.851544349049,15148.851544349049,15148.851544349049,15148.851544349049,14450.678245489218,14450.678245489218,14450.678245489218,14450.678245489218,14450.678245489218,13784.682036345654,13784.682036345654,13784.682036345654,13784.682036345654,13784.682036345654,13149.379954014577,13149.379954014577,13149.379954014577,13149.379954014577,13149.379954014577,12543.357381704122,12543.357381704122,12543.357381704122,12543.357381704122,12543.357381704122,11965.264898830137,11965.264898830137,11965.264898830137,11965.264898830137,11965.264898830137,11413.81527628339,11413.81527628339,11413.81527628339,11413.81527628339,11413.81527628339,10887.780610177493,10887.780610177493,10887.780610177493,10887.780610177493,10887.780610177493,10385.989587695314,10385.989587695314,10385.989587695314,10385.989587695314,10385.989587695314,9907.324878945825,9907.324878945825,9907.324878945825,9907.324878945825,9907.324878945825,9450.72064902386,9450.72064902386,9450.72064902386,9450.72064902386,9450.72064902386,9015.16018473289,9015.16018473289,9015.16018473289,9015.16018473289,9015.16018473289,8599.673630686313,8599.673630686313,8599.673630686313,8599.673630686313,8599.673630686313,8203.335829746293,8203.335829746293,8203.335829746293,8203.335829746293,8203.335829746293,7825.264262991423,7825.264262991423,7825.264262991423,7825.264262991423,7825.264262991423,7464.617084626233,7464.617084626233,7464.617084626233,7464.617084626233,7464.617084626233],\"type\":\"scatter\",\"xaxis\":\"x6\",\"yaxis\":\"y6\"},{\"x\":[29849,33649,31149,11199,34249,21949,12200,26499,28699,32049,30499,26149,29299,33449,31999,45049,46949,30999,45149,48149,34199,46549,48949,35799,27299,48849,56249,47749,47649,59649,47949,30299,53749,37749,57349,41999,63949,43899,65249,65649,73549,69649,75849,74249,73549],\"type\":\"histogram\",\"xaxis\":\"x9\",\"yaxis\":\"y9\"}],                        {\"template\":{\"data\":{\"histogram2dcontour\":[{\"type\":\"histogram2dcontour\",\"colorbar\":{\"outlinewidth\":0,\"ticks\":\"\"},\"colorscale\":[[0.0,\"#0d0887\"],[0.1111111111111111,\"#46039f\"],[0.2222222222222222,\"#7201a8\"],[0.3333333333333333,\"#9c179e\"],[0.4444444444444444,\"#bd3786\"],[0.5555555555555556,\"#d8576b\"],[0.6666666666666666,\"#ed7953\"],[0.7777777777777778,\"#fb9f3a\"],[0.8888888888888888,\"#fdca26\"],[1.0,\"#f0f921\"]]}],\"choropleth\":[{\"type\":\"choropleth\",\"colorbar\":{\"outlinewidth\":0,\"ticks\":\"\"}}],\"histogram2d\":[{\"type\":\"histogram2d\",\"colorbar\":{\"outlinewidth\":0,\"ticks\":\"\"},\"colorscale\":[[0.0,\"#0d0887\"],[0.1111111111111111,\"#46039f\"],[0.2222222222222222,\"#7201a8\"],[0.3333333333333333,\"#9c179e\"],[0.4444444444444444,\"#bd3786\"],[0.5555555555555556,\"#d8576b\"],[0.6666666666666666,\"#ed7953\"],[0.7777777777777778,\"#fb9f3a\"],[0.8888888888888888,\"#fdca26\"],[1.0,\"#f0f921\"]]}],\"heatmap\":[{\"type\":\"heatmap\",\"colorbar\":{\"outlinewidth\":0,\"ticks\":\"\"},\"colorscale\":[[0.0,\"#0d0887\"],[0.1111111111111111,\"#46039f\"],[0.2222222222222222,\"#7201a8\"],[0.3333333333333333,\"#9c179e\"],[0.4444444444444444,\"#bd3786\"],[0.5555555555555556,\"#d8576b\"],[0.6666666666666666,\"#ed7953\"],[0.7777777777777778,\"#fb9f3a\"],[0.8888888888888888,\"#fdca26\"],[1.0,\"#f0f921\"]]}],\"heatmapgl\":[{\"type\":\"heatmapgl\",\"colorbar\":{\"outlinewidth\":0,\"ticks\":\"\"},\"colorscale\":[[0.0,\"#0d0887\"],[0.1111111111111111,\"#46039f\"],[0.2222222222222222,\"#7201a8\"],[0.3333333333333333,\"#9c179e\"],[0.4444444444444444,\"#bd3786\"],[0.5555555555555556,\"#d8576b\"],[0.6666666666666666,\"#ed7953\"],[0.7777777777777778,\"#fb9f3a\"],[0.8888888888888888,\"#fdca26\"],[1.0,\"#f0f921\"]]}],\"contourcarpet\":[{\"type\":\"contourcarpet\",\"colorbar\":{\"outlinewidth\":0,\"ticks\":\"\"}}],\"contour\":[{\"type\":\"contour\",\"colorbar\":{\"outlinewidth\":0,\"ticks\":\"\"},\"colorscale\":[[0.0,\"#0d0887\"],[0.1111111111111111,\"#46039f\"],[0.2222222222222222,\"#7201a8\"],[0.3333333333333333,\"#9c179e\"],[0.4444444444444444,\"#bd3786\"],[0.5555555555555556,\"#d8576b\"],[0.6666666666666666,\"#ed7953\"],[0.7777777777777778,\"#fb9f3a\"],[0.8888888888888888,\"#fdca26\"],[1.0,\"#f0f921\"]]}],\"surface\":[{\"type\":\"surface\",\"colorbar\":{\"outlinewidth\":0,\"ticks\":\"\"},\"colorscale\":[[0.0,\"#0d0887\"],[0.1111111111111111,\"#46039f\"],[0.2222222222222222,\"#7201a8\"],[0.3333333333333333,\"#9c179e\"],[0.4444444444444444,\"#bd3786\"],[0.5555555555555556,\"#d8576b\"],[0.6666666666666666,\"#ed7953\"],[0.7777777777777778,\"#fb9f3a\"],[0.8888888888888888,\"#fdca26\"],[1.0,\"#f0f921\"]]}],\"mesh3d\":[{\"type\":\"mesh3d\",\"colorbar\":{\"outlinewidth\":0,\"ticks\":\"\"}}],\"scatter\":[{\"fillpattern\":{\"fillmode\":\"overlay\",\"size\":10,\"solidity\":0.2},\"type\":\"scatter\"}],\"parcoords\":[{\"type\":\"parcoords\",\"line\":{\"colorbar\":{\"outlinewidth\":0,\"ticks\":\"\"}}}],\"scatterpolargl\":[{\"type\":\"scatterpolargl\",\"marker\":{\"colorbar\":{\"outlinewidth\":0,\"ticks\":\"\"}}}],\"bar\":[{\"error_x\":{\"color\":\"#2a3f5f\"},\"error_y\":{\"color\":\"#2a3f5f\"},\"marker\":{\"line\":{\"color\":\"#E5ECF6\",\"width\":0.5},\"pattern\":{\"fillmode\":\"overlay\",\"size\":10,\"solidity\":0.2}},\"type\":\"bar\"}],\"scattergeo\":[{\"type\":\"scattergeo\",\"marker\":{\"colorbar\":{\"outlinewidth\":0,\"ticks\":\"\"}}}],\"scatterpolar\":[{\"type\":\"scatterpolar\",\"marker\":{\"colorbar\":{\"outlinewidth\":0,\"ticks\":\"\"}}}],\"histogram\":[{\"marker\":{\"pattern\":{\"fillmode\":\"overlay\",\"size\":10,\"solidity\":0.2}},\"type\":\"histogram\"}],\"scattergl\":[{\"type\":\"scattergl\",\"marker\":{\"colorbar\":{\"outlinewidth\":0,\"ticks\":\"\"}}}],\"scatter3d\":[{\"type\":\"scatter3d\",\"line\":{\"colorbar\":{\"outlinewidth\":0,\"ticks\":\"\"}},\"marker\":{\"colorbar\":{\"outlinewidth\":0,\"ticks\":\"\"}}}],\"scattermapbox\":[{\"type\":\"scattermapbox\",\"marker\":{\"colorbar\":{\"outlinewidth\":0,\"ticks\":\"\"}}}],\"scatterternary\":[{\"type\":\"scatterternary\",\"marker\":{\"colorbar\":{\"outlinewidth\":0,\"ticks\":\"\"}}}],\"scattercarpet\":[{\"type\":\"scattercarpet\",\"marker\":{\"colorbar\":{\"outlinewidth\":0,\"ticks\":\"\"}}}],\"carpet\":[{\"aaxis\":{\"endlinecolor\":\"#2a3f5f\",\"gridcolor\":\"white\",\"linecolor\":\"white\",\"minorgridcolor\":\"white\",\"startlinecolor\":\"#2a3f5f\"},\"baxis\":{\"endlinecolor\":\"#2a3f5f\",\"gridcolor\":\"white\",\"linecolor\":\"white\",\"minorgridcolor\":\"white\",\"startlinecolor\":\"#2a3f5f\"},\"type\":\"carpet\"}],\"table\":[{\"cells\":{\"fill\":{\"color\":\"#EBF0F8\"},\"line\":{\"color\":\"white\"}},\"header\":{\"fill\":{\"color\":\"#C8D4E3\"},\"line\":{\"color\":\"white\"}},\"type\":\"table\"}],\"barpolar\":[{\"marker\":{\"line\":{\"color\":\"#E5ECF6\",\"width\":0.5},\"pattern\":{\"fillmode\":\"overlay\",\"size\":10,\"solidity\":0.2}},\"type\":\"barpolar\"}],\"pie\":[{\"automargin\":true,\"type\":\"pie\"}]},\"layout\":{\"autotypenumbers\":\"strict\",\"colorway\":[\"#636efa\",\"#EF553B\",\"#00cc96\",\"#ab63fa\",\"#FFA15A\",\"#19d3f3\",\"#FF6692\",\"#B6E880\",\"#FF97FF\",\"#FECB52\"],\"font\":{\"color\":\"#2a3f5f\"},\"hovermode\":\"closest\",\"hoverlabel\":{\"align\":\"left\"},\"paper_bgcolor\":\"white\",\"plot_bgcolor\":\"#E5ECF6\",\"polar\":{\"bgcolor\":\"#E5ECF6\",\"angularaxis\":{\"gridcolor\":\"white\",\"linecolor\":\"white\",\"ticks\":\"\"},\"radialaxis\":{\"gridcolor\":\"white\",\"linecolor\":\"white\",\"ticks\":\"\"}},\"ternary\":{\"bgcolor\":\"#E5ECF6\",\"aaxis\":{\"gridcolor\":\"white\",\"linecolor\":\"white\",\"ticks\":\"\"},\"baxis\":{\"gridcolor\":\"white\",\"linecolor\":\"white\",\"ticks\":\"\"},\"caxis\":{\"gridcolor\":\"white\",\"linecolor\":\"white\",\"ticks\":\"\"}},\"coloraxis\":{\"colorbar\":{\"outlinewidth\":0,\"ticks\":\"\"}},\"colorscale\":{\"sequential\":[[0.0,\"#0d0887\"],[0.1111111111111111,\"#46039f\"],[0.2222222222222222,\"#7201a8\"],[0.3333333333333333,\"#9c179e\"],[0.4444444444444444,\"#bd3786\"],[0.5555555555555556,\"#d8576b\"],[0.6666666666666666,\"#ed7953\"],[0.7777777777777778,\"#fb9f3a\"],[0.8888888888888888,\"#fdca26\"],[1.0,\"#f0f921\"]],\"sequentialminus\":[[0.0,\"#0d0887\"],[0.1111111111111111,\"#46039f\"],[0.2222222222222222,\"#7201a8\"],[0.3333333333333333,\"#9c179e\"],[0.4444444444444444,\"#bd3786\"],[0.5555555555555556,\"#d8576b\"],[0.6666666666666666,\"#ed7953\"],[0.7777777777777778,\"#fb9f3a\"],[0.8888888888888888,\"#fdca26\"],[1.0,\"#f0f921\"]],\"diverging\":[[0,\"#8e0152\"],[0.1,\"#c51b7d\"],[0.2,\"#de77ae\"],[0.3,\"#f1b6da\"],[0.4,\"#fde0ef\"],[0.5,\"#f7f7f7\"],[0.6,\"#e6f5d0\"],[0.7,\"#b8e186\"],[0.8,\"#7fbc41\"],[0.9,\"#4d9221\"],[1,\"#276419\"]]},\"xaxis\":{\"gridcolor\":\"white\",\"linecolor\":\"white\",\"ticks\":\"\",\"title\":{\"standoff\":15},\"zerolinecolor\":\"white\",\"automargin\":true,\"zerolinewidth\":2},\"yaxis\":{\"gridcolor\":\"white\",\"linecolor\":\"white\",\"ticks\":\"\",\"title\":{\"standoff\":15},\"zerolinecolor\":\"white\",\"automargin\":true,\"zerolinewidth\":2},\"scene\":{\"xaxis\":{\"backgroundcolor\":\"#E5ECF6\",\"gridcolor\":\"white\",\"linecolor\":\"white\",\"showbackground\":true,\"ticks\":\"\",\"zerolinecolor\":\"white\",\"gridwidth\":2},\"yaxis\":{\"backgroundcolor\":\"#E5ECF6\",\"gridcolor\":\"white\",\"linecolor\":\"white\",\"showbackground\":true,\"ticks\":\"\",\"zerolinecolor\":\"white\",\"gridwidth\":2},\"zaxis\":{\"backgroundcolor\":\"#E5ECF6\",\"gridcolor\":\"white\",\"linecolor\":\"white\",\"showbackground\":true,\"ticks\":\"\",\"zerolinecolor\":\"white\",\"gridwidth\":2}},\"shapedefaults\":{\"line\":{\"color\":\"#2a3f5f\"}},\"annotationdefaults\":{\"arrowcolor\":\"#2a3f5f\",\"arrowhead\":0,\"arrowwidth\":1},\"geo\":{\"bgcolor\":\"white\",\"landcolor\":\"#E5ECF6\",\"subunitcolor\":\"white\",\"showland\":true,\"showlakes\":true,\"lakecolor\":\"white\"},\"title\":{\"x\":0.05},\"mapbox\":{\"style\":\"light\"}}},\"xaxis\":{\"anchor\":\"y\",\"domain\":[0.0,0.2888888888888889],\"title\":{\"text\":\"Year\"}},\"yaxis\":{\"anchor\":\"x\",\"domain\":[0.7777777777777778,1.0],\"title\":{\"text\":\"Gross CO2 Emissions (kg)\"},\"range\":[-45000,120000]},\"xaxis2\":{\"anchor\":\"y2\",\"domain\":[0.35555555555555557,0.6444444444444445],\"title\":{\"text\":\"Year\"}},\"yaxis2\":{\"anchor\":\"x2\",\"domain\":[0.7777777777777778,1.0],\"matches\":\"y\",\"showticklabels\":false,\"range\":[-45000,120000]},\"xaxis3\":{\"anchor\":\"y3\",\"domain\":[0.7111111111111111,1.0],\"title\":{\"text\":\"Year\"}},\"yaxis3\":{\"anchor\":\"x3\",\"domain\":[0.7777777777777778,1.0],\"matches\":\"y\",\"showticklabels\":false,\"range\":[-45000,120000]},\"xaxis4\":{\"anchor\":\"y4\",\"domain\":[0.0,0.2888888888888889]},\"yaxis4\":{\"anchor\":\"x4\",\"domain\":[0.3888888888888889,0.6111111111111112],\"title\":{\"text\":\"Net CO2 Emissions (kg)\"},\"range\":[-20000,100000]},\"xaxis5\":{\"anchor\":\"y5\",\"domain\":[0.35555555555555557,0.6444444444444445]},\"yaxis5\":{\"anchor\":\"x5\",\"domain\":[0.3888888888888889,0.6111111111111112],\"matches\":\"y4\",\"showticklabels\":false,\"range\":[-20000,100000]},\"xaxis6\":{\"anchor\":\"y6\",\"domain\":[0.7111111111111111,1.0]},\"yaxis6\":{\"anchor\":\"x6\",\"domain\":[0.3888888888888889,0.6111111111111112],\"matches\":\"y4\",\"showticklabels\":false,\"range\":[-20000,100000]},\"xaxis7\":{\"anchor\":\"y7\",\"domain\":[0.0,0.2888888888888889],\"title\":{\"text\":\"Investment cost [\\u20ac]\"}},\"yaxis7\":{\"anchor\":\"x7\",\"domain\":[0.0,0.22222222222222224],\"title\":{\"text\":\"Count\"},\"range\":[0,30]},\"xaxis8\":{\"anchor\":\"y8\",\"domain\":[0.35555555555555557,0.6444444444444445],\"title\":{\"text\":\"Investment cost [\\u20ac]\"}},\"yaxis8\":{\"anchor\":\"x8\",\"domain\":[0.0,0.22222222222222224],\"matches\":\"y7\",\"showticklabels\":false,\"range\":[0,30]},\"xaxis9\":{\"anchor\":\"y9\",\"domain\":[0.7111111111111111,1.0],\"title\":{\"text\":\"Investment cost [\\u20ac]\"}},\"yaxis9\":{\"anchor\":\"x9\",\"domain\":[0.0,0.22222222222222224],\"matches\":\"y7\",\"showticklabels\":false,\"range\":[0,30]},\"annotations\":[{\"font\":{\"size\":16},\"showarrow\":false,\"text\":\"GESLOTEN\",\"x\":0.14444444444444446,\"xanchor\":\"center\",\"xref\":\"paper\",\"y\":1.0,\"yanchor\":\"bottom\",\"yref\":\"paper\"},{\"font\":{\"size\":16},\"showarrow\":false,\"text\":\"HALF_OPEN\",\"x\":0.5,\"xanchor\":\"center\",\"xref\":\"paper\",\"y\":1.0,\"yanchor\":\"bottom\",\"yref\":\"paper\"},{\"font\":{\"size\":16},\"showarrow\":false,\"text\":\"OPEN\",\"x\":0.8555555555555556,\"xanchor\":\"center\",\"xref\":\"paper\",\"y\":1.0,\"yanchor\":\"bottom\",\"yref\":\"paper\"}],\"title\":{\"text\":\"CO2 Emissions Over Years by Building Type with heat pumps and A labels\"},\"showlegend\":true,\"height\":800,\"width\":1600},                        {\"responsive\": true}                    ).then(function(){\n",
       "                            \n",
       "var gd = document.getElementById('87bd8a04-d7e3-4044-875f-ec1710530df1');\n",
       "var x = new MutationObserver(function (mutations, observer) {{\n",
       "        var display = window.getComputedStyle(gd).display;\n",
       "        if (!display || display === 'none') {{\n",
       "            console.log([gd, 'removed!']);\n",
       "            Plotly.purge(gd);\n",
       "            observer.disconnect();\n",
       "        }}\n",
       "}});\n",
       "\n",
       "// Listen for the removal of the full notebook cells\n",
       "var notebookContainer = gd.closest('#notebook-container');\n",
       "if (notebookContainer) {{\n",
       "    x.observe(notebookContainer, {childList: true});\n",
       "}}\n",
       "\n",
       "// Listen for the clearing of the current output cell\n",
       "var outputEl = gd.closest('.output');\n",
       "if (outputEl) {{\n",
       "    x.observe(outputEl, {childList: true});\n",
       "}}\n",
       "\n",
       "                        })                };                });            </script>        </div>"
      ]
     },
     "metadata": {},
     "output_type": "display_data"
    }
   ],
   "source": [
    "import pandas as pd\n",
    "import plotly.graph_objects as go\n",
    "from plotly.subplots import make_subplots\n",
    "\n",
    "\n",
    "# Filter the DataFrame\n",
    "testcase2 = df[(df['epc_ind'] <= 100) & (df['heating_system'] == 'Heat Pump')& (df['dhw_system'] == 'HP Boiler')].sort_values(by='tco', ascending=True).drop_duplicates(subset=['name'], keep='first')\n",
    "\n",
    "# Extract the years from the columns\n",
    "years = sorted([int(col.split('_')[-1]) for col in testcase2.columns if 'emissions_' in col])\n",
    "\n",
    "# Initialize lists to store the data\n",
    "data = []\n",
    "\n",
    "# Collect data for each year and each building type\n",
    "for year in years:\n",
    "    for building_type, group in testcase2.groupby('building_type'):\n",
    "        modified_emissions = group[f'modified_emissions_{year}'].sum()\n",
    "        fossil_emissions = group[f'fossil_emissions_{year}'].sum()\n",
    "        electricity_emissions = group[f'electricity_emissions_{year}'].sum()\n",
    "        # electricity_emissions = (group[f'modified_emissions_{year}'] - group[f'gas_consumption'] *0.056 * 3.6- group[f'oil_consumption']*0.074*3.6).sum()\n",
    "        # fossil_emissions = electricity_emissions = (group[f'modified_emissions_{year}'] - group['elecricity_emissions']).sum()\n",
    "        solar_emissions = group[f'solar_injection_emissions_{year}'].sum() * -1  # Make solar emissions negative\n",
    "        net_emissions = group[f'emissions_{year}'].sum()\n",
    "        data.append([year, building_type, 'Modified CO2 Emissions', modified_emissions])\n",
    "        data.append([year, building_type, 'Solar CO2 Emissions', solar_emissions])\n",
    "        data.append([year, building_type, 'Net Emissions', net_emissions])\n",
    "        data.append([year, building_type, 'Fossil Emissions', fossil_emissions])\n",
    "        data.append([year, building_type, 'Electricity Emissions', electricity_emissions])\n",
    "\n",
    "# Create a DataFrame from the collected data\n",
    "emissions_df = pd.DataFrame(data, columns=['Year', 'Building Type', 'Emissions Type', 'Emissions'])\n",
    "\n",
    "# Get unique building types\n",
    "building_types = emissions_df['Building Type'].unique()\n",
    "\n",
    "# Create subplots\n",
    "fig = make_subplots(rows=3, cols=len(building_types), shared_yaxes=True, subplot_titles=building_types)\n",
    "\n",
    "# Add traces for each building type\n",
    "for i, building_type in enumerate(building_types, start=1):\n",
    "    subset = emissions_df[emissions_df['Building Type'] == building_type]\n",
    "\n",
    "    fig.add_trace(go.Scatter(\n",
    "        x=subset[subset['Emissions Type'] == 'Modified CO2 Emissions']['Year'],\n",
    "        y=subset[subset['Emissions Type'] == 'Modified CO2 Emissions']['Emissions'],\n",
    "        fill='tonexty',\n",
    "        stackgroup = '1',\n",
    "        name=f'{building_type} - Modified CO2 Emissions'\n",
    "    ), row=1, col=i)\n",
    "\n",
    "    fig.add_trace(go.Scatter(\n",
    "        x=subset[subset['Emissions Type'] == 'Solar CO2 Emissions']['Year'],\n",
    "        y=subset[subset['Emissions Type'] == 'Solar CO2 Emissions']['Emissions'],\n",
    "        fill='tonexty',\n",
    "        stackgroup = '2',\n",
    "        name=f'{building_type} - Solar CO2 Emissions'\n",
    "    ), row=1, col=i)\n",
    "    fig.add_trace(go.Scatter(\n",
    "        x=subset[subset['Emissions Type'] == 'Solar CO2 Emissions']['Year'],\n",
    "        y=subset[subset['Emissions Type'] == 'Net Emissions']['Emissions'],\n",
    "        fill='tonexty',\n",
    "        text = 'Net Emissions',\n",
    "        stackgroup = '3',\n",
    "        name=f'{building_type} - Net CO2 Emissions'\n",
    "    ), row=2, col=i)\n",
    "    \n",
    "    fig.add_trace(go.Histogram(x = testcase2[testcase2.building_type == building_type].total_investment_cost), row = 3, col = i)\n",
    "\n",
    "\n",
    "# Update layout\n",
    "fig.update_layout(\n",
    "    title='CO2 Emissions Over Years by Building Type with heat pumps and A labels',\n",
    "    xaxis_title='Year',\n",
    "    yaxis_title='CO2 Emissions (kg)',\n",
    "    showlegend=True,\n",
    "    height = 800, width = 1600\n",
    ")\n",
    "\n",
    "# Update x-axes titles for each subplot\n",
    "for i in range(1, len(building_types) + 1):\n",
    "    fig.update_xaxes(title_text='Year', row=1, col=i)\n",
    "\n",
    "# Update y-axis title only for the first subplot\n",
    "fig.update_yaxes(title_text='Gross CO2 Emissions (kg)', row=1, col=1)\n",
    "fig.update_yaxes(title_text='Net CO2 Emissions (kg)', row=2, col=1)\n",
    "fig.update_yaxes(title_text='Count', row=3, col=1)\n",
    "fig.update_yaxes(range = [-45000, 120000], row = 1)\n",
    "fig.update_yaxes(range = [-20000, 100000], row = 2)\n",
    "fig.update_yaxes(range = [0, 30], row = 3)\n",
    "for i in range(len(building_types)+ 1):\n",
    "    fig.update_xaxes(title_text='Investment cost [€]', row=3, col=i)\n",
    "# Show the plot\n",
    "fig.show()"
   ]
  },
  {
   "cell_type": "code",
   "execution_count": 35,
   "metadata": {},
   "outputs": [
    {
     "data": {
      "application/vnd.plotly.v1+json": {
       "config": {
        "plotlyServerURL": "https://plot.ly"
       },
       "data": [
        {
         "fill": "tonexty",
         "line": {
          "color": "grey"
         },
         "name": "Fossil fuel CO2 Emissions",
         "showlegend": false,
         "stackgroup": "1",
         "type": "scatter",
         "x": [
          2025,
          2025,
          2025,
          2025,
          2025,
          2026,
          2026,
          2026,
          2026,
          2026,
          2027,
          2027,
          2027,
          2027,
          2027,
          2028,
          2028,
          2028,
          2028,
          2028,
          2029,
          2029,
          2029,
          2029,
          2029,
          2030,
          2030,
          2030,
          2030,
          2030,
          2031,
          2031,
          2031,
          2031,
          2031,
          2032,
          2032,
          2032,
          2032,
          2032,
          2033,
          2033,
          2033,
          2033,
          2033,
          2034,
          2034,
          2034,
          2034,
          2034,
          2035,
          2035,
          2035,
          2035,
          2035,
          2036,
          2036,
          2036,
          2036,
          2036,
          2037,
          2037,
          2037,
          2037,
          2037,
          2038,
          2038,
          2038,
          2038,
          2038,
          2039,
          2039,
          2039,
          2039,
          2039,
          2040,
          2040,
          2040,
          2040,
          2040
         ],
         "xaxis": "x",
         "y": [
          0,
          0,
          0,
          0,
          0,
          0,
          0,
          0,
          0,
          0,
          0,
          0,
          0,
          0,
          0,
          0,
          0,
          0,
          0,
          0,
          0,
          0,
          0,
          0,
          0,
          0,
          0,
          0,
          0,
          0,
          0,
          0,
          0,
          0,
          0,
          0,
          0,
          0,
          0,
          0,
          0,
          0,
          0,
          0,
          0,
          0,
          0,
          0,
          0,
          0,
          0,
          0,
          0,
          0,
          0,
          0,
          0,
          0,
          0,
          0,
          0,
          0,
          0,
          0,
          0,
          0,
          0,
          0,
          0,
          0,
          0,
          0,
          0,
          0,
          0,
          0,
          0,
          0,
          0,
          0
         ],
         "yaxis": "y"
        },
        {
         "fill": "tonexty",
         "line": {
          "color": "red"
         },
         "name": "Electricity CO2 Emissions",
         "showlegend": false,
         "stackgroup": "1",
         "type": "scatter",
         "x": [
          2025,
          2025,
          2025,
          2025,
          2025,
          2026,
          2026,
          2026,
          2026,
          2026,
          2027,
          2027,
          2027,
          2027,
          2027,
          2028,
          2028,
          2028,
          2028,
          2028,
          2029,
          2029,
          2029,
          2029,
          2029,
          2030,
          2030,
          2030,
          2030,
          2030,
          2031,
          2031,
          2031,
          2031,
          2031,
          2032,
          2032,
          2032,
          2032,
          2032,
          2033,
          2033,
          2033,
          2033,
          2033,
          2034,
          2034,
          2034,
          2034,
          2034,
          2035,
          2035,
          2035,
          2035,
          2035,
          2036,
          2036,
          2036,
          2036,
          2036,
          2037,
          2037,
          2037,
          2037,
          2037,
          2038,
          2038,
          2038,
          2038,
          2038,
          2039,
          2039,
          2039,
          2039,
          2039,
          2040,
          2040,
          2040,
          2040,
          2040
         ],
         "xaxis": "x",
         "y": [
          26197.47152988897,
          26197.47152988897,
          26197.47152988897,
          26197.47152988897,
          26197.47152988897,
          24990.094517429447,
          24990.094517429447,
          24990.094517429447,
          24990.094517429447,
          24990.094517429447,
          23838.36254111597,
          23838.36254111597,
          23838.36254111597,
          23838.36254111597,
          23838.36254111597,
          22739.711058129073,
          22739.711058129073,
          22739.711058129073,
          22739.711058129073,
          22739.711058129073,
          21691.6937191186,
          21691.6937191186,
          21691.6937191186,
          21691.6937191186,
          21691.6937191186,
          20691.976920957535,
          20691.976920957535,
          20691.976920957535,
          20691.976920957535,
          20691.976920957535,
          19738.33461054586,
          19738.33461054586,
          19738.33461054586,
          19738.33461054586,
          19738.33461054586,
          18828.64332809452,
          18828.64332809452,
          18828.64332809452,
          18828.64332809452,
          18828.64332809452,
          17960.877478852002,
          17960.877478852002,
          17960.877478852002,
          17960.877478852002,
          17960.877478852002,
          17133.10482274561,
          17133.10482274561,
          17133.10482274561,
          17133.10482274561,
          17133.10482274561,
          16343.482171893924,
          16343.482171893924,
          16343.482171893924,
          16343.482171893924,
          16343.482171893924,
          15590.251286410434,
          15590.251286410434,
          15590.251286410434,
          15590.251286410434,
          15590.251286410434,
          14871.734959359414,
          14871.734959359414,
          14871.734959359414,
          14871.734959359414,
          14871.734959359414,
          14186.333282146588,
          14186.333282146588,
          14186.333282146588,
          14186.333282146588,
          14186.333282146588,
          13532.520082028725,
          13532.520082028725,
          13532.520082028725,
          13532.520082028725,
          13532.520082028725,
          12908.839523809691,
          12908.839523809691,
          12908.839523809691,
          12908.839523809691,
          12908.839523809691
         ],
         "yaxis": "y"
        },
        {
         "fill": "tonexty",
         "line": {
          "color": "yellow"
         },
         "name": "Solar CO2 Emissions",
         "showlegend": false,
         "type": "scatter",
         "x": [
          2025,
          2025,
          2025,
          2025,
          2025,
          2026,
          2026,
          2026,
          2026,
          2026,
          2027,
          2027,
          2027,
          2027,
          2027,
          2028,
          2028,
          2028,
          2028,
          2028,
          2029,
          2029,
          2029,
          2029,
          2029,
          2030,
          2030,
          2030,
          2030,
          2030,
          2031,
          2031,
          2031,
          2031,
          2031,
          2032,
          2032,
          2032,
          2032,
          2032,
          2033,
          2033,
          2033,
          2033,
          2033,
          2034,
          2034,
          2034,
          2034,
          2034,
          2035,
          2035,
          2035,
          2035,
          2035,
          2036,
          2036,
          2036,
          2036,
          2036,
          2037,
          2037,
          2037,
          2037,
          2037,
          2038,
          2038,
          2038,
          2038,
          2038,
          2039,
          2039,
          2039,
          2039,
          2039,
          2040,
          2040,
          2040,
          2040,
          2040
         ],
         "xaxis": "x",
         "y": [
          -5371.019131356106,
          -5371.019131356106,
          -5371.019131356106,
          -5371.019131356106,
          -5371.019131356106,
          -5123.482073236544,
          -5123.482073236544,
          -5123.482073236544,
          -5123.482073236544,
          -5123.482073236544,
          -4887.35338914134,
          -4887.35338914134,
          -4887.35338914134,
          -4887.35338914134,
          -4887.35338914134,
          -4662.107295178301,
          -4662.107295178301,
          -4662.107295178301,
          -4662.107295178301,
          -4662.107295178301,
          -4447.242239541309,
          -4447.242239541309,
          -4447.242239541309,
          -4447.242239541309,
          -4447.242239541309,
          -4242.27978571308,
          -4242.27978571308,
          -4242.27978571308,
          -4242.27978571308,
          -4242.27978571308,
          -4046.76354713838,
          -4046.76354713838,
          -4046.76354713838,
          -4046.76354713838,
          -4046.76354713838,
          -3860.2581709955107,
          -3860.2581709955107,
          -3860.2581709955107,
          -3860.2581709955107,
          -3860.2581709955107,
          -3682.3483688032843,
          -3682.3483688032843,
          -3682.3483688032843,
          -3682.3483688032843,
          -3682.3483688032843,
          -3512.637991704928,
          -3512.637991704928,
          -3512.637991704928,
          -3512.637991704928,
          -3512.637991704928,
          -3350.749148369883,
          -3350.749148369883,
          -3350.749148369883,
          -3350.749148369883,
          -3350.749148369883,
          -3196.321363549335,
          -3196.321363549335,
          -3196.321363549335,
          -3196.321363549335,
          -3196.321363549335,
          -3049.0107754118576,
          -3049.0107754118576,
          -3049.0107754118576,
          -3049.0107754118576,
          -3049.0107754118576,
          -2908.4893698718756,
          -2908.4893698718756,
          -2908.4893698718756,
          -2908.4893698718756,
          -2908.4893698718756,
          -2774.444250206044,
          -2774.444250206044,
          -2774.444250206044,
          -2774.444250206044,
          -2774.444250206044,
          -2646.5769403312165,
          -2646.5769403312165,
          -2646.5769403312165,
          -2646.5769403312165,
          -2646.5769403312165
         ],
         "yaxis": "y"
        },
        {
         "fill": "tonexty",
         "line": {
          "color": "blue"
         },
         "name": "Net CO2 Emissions",
         "showlegend": false,
         "text": "Net Emissions",
         "type": "scatter",
         "x": [
          2025,
          2025,
          2025,
          2025,
          2025,
          2026,
          2026,
          2026,
          2026,
          2026,
          2027,
          2027,
          2027,
          2027,
          2027,
          2028,
          2028,
          2028,
          2028,
          2028,
          2029,
          2029,
          2029,
          2029,
          2029,
          2030,
          2030,
          2030,
          2030,
          2030,
          2031,
          2031,
          2031,
          2031,
          2031,
          2032,
          2032,
          2032,
          2032,
          2032,
          2033,
          2033,
          2033,
          2033,
          2033,
          2034,
          2034,
          2034,
          2034,
          2034,
          2035,
          2035,
          2035,
          2035,
          2035,
          2036,
          2036,
          2036,
          2036,
          2036,
          2037,
          2037,
          2037,
          2037,
          2037,
          2038,
          2038,
          2038,
          2038,
          2038,
          2039,
          2039,
          2039,
          2039,
          2039,
          2040,
          2040,
          2040,
          2040,
          2040
         ],
         "xaxis": "x4",
         "y": [
          20826.452398532867,
          20826.452398532867,
          20826.452398532867,
          20826.452398532867,
          20826.452398532867,
          19866.612444192902,
          19866.612444192902,
          19866.612444192902,
          19866.612444192902,
          19866.612444192902,
          18951.00915197463,
          18951.00915197463,
          18951.00915197463,
          18951.00915197463,
          18951.00915197463,
          18077.60376295077,
          18077.60376295077,
          18077.60376295077,
          18077.60376295077,
          18077.60376295077,
          17244.45147957729,
          17244.45147957729,
          17244.45147957729,
          17244.45147957729,
          17244.45147957729,
          16449.69713524445,
          16449.69713524445,
          16449.69713524445,
          16449.69713524445,
          16449.69713524445,
          15691.571063407484,
          15691.571063407484,
          15691.571063407484,
          15691.571063407484,
          15691.571063407484,
          14968.385157099008,
          14968.385157099008,
          14968.385157099008,
          14968.385157099008,
          14968.385157099008,
          14278.529110048721,
          14278.529110048721,
          14278.529110048721,
          14278.529110048721,
          14278.529110048721,
          13620.466831040678,
          13620.466831040678,
          13620.466831040678,
          13620.466831040678,
          13620.466831040678,
          12992.73302352404,
          12992.73302352404,
          12992.73302352404,
          12992.73302352404,
          12992.73302352404,
          12393.9299228611,
          12393.9299228611,
          12393.9299228611,
          12393.9299228611,
          12393.9299228611,
          11822.724183947556,
          11822.724183947556,
          11822.724183947556,
          11822.724183947556,
          11822.724183947556,
          11277.843912274713,
          11277.843912274713,
          11277.843912274713,
          11277.843912274713,
          11277.843912274713,
          10758.075831822682,
          10758.075831822682,
          10758.075831822682,
          10758.075831822682,
          10758.075831822682,
          10262.262583478476,
          10262.262583478476,
          10262.262583478476,
          10262.262583478476,
          10262.262583478476
         ],
         "yaxis": "y4"
        },
        {
         "showlegend": false,
         "type": "histogram",
         "x": [
          9299,
          9499,
          10099,
          10199,
          10299,
          17749,
          17749,
          10599,
          10599,
          10799,
          20049,
          12899,
          10999,
          11199,
          11299,
          11399,
          11599,
          24049,
          16699,
          14399,
          14399,
          24949,
          29249,
          26699,
          26099,
          25299,
          27349,
          27299,
          28549,
          30399,
          28499,
          28899,
          31699,
          37049,
          30649,
          32899,
          40149,
          34399,
          44749,
          34899,
          44649,
          37899,
          43299,
          43599,
          53749
         ],
         "xaxis": "x7",
         "yaxis": "y7"
        },
        {
         "fill": "tonexty",
         "line": {
          "color": "grey"
         },
         "name": "Fossil fuel CO2 Emissions",
         "showlegend": false,
         "stackgroup": "1",
         "type": "scatter",
         "x": [
          2025,
          2025,
          2025,
          2025,
          2025,
          2026,
          2026,
          2026,
          2026,
          2026,
          2027,
          2027,
          2027,
          2027,
          2027,
          2028,
          2028,
          2028,
          2028,
          2028,
          2029,
          2029,
          2029,
          2029,
          2029,
          2030,
          2030,
          2030,
          2030,
          2030,
          2031,
          2031,
          2031,
          2031,
          2031,
          2032,
          2032,
          2032,
          2032,
          2032,
          2033,
          2033,
          2033,
          2033,
          2033,
          2034,
          2034,
          2034,
          2034,
          2034,
          2035,
          2035,
          2035,
          2035,
          2035,
          2036,
          2036,
          2036,
          2036,
          2036,
          2037,
          2037,
          2037,
          2037,
          2037,
          2038,
          2038,
          2038,
          2038,
          2038,
          2039,
          2039,
          2039,
          2039,
          2039,
          2040,
          2040,
          2040,
          2040,
          2040
         ],
         "xaxis": "x2",
         "y": [
          0,
          0,
          0,
          0,
          0,
          0,
          0,
          0,
          0,
          0,
          0,
          0,
          0,
          0,
          0,
          0,
          0,
          0,
          0,
          0,
          0,
          0,
          0,
          0,
          0,
          0,
          0,
          0,
          0,
          0,
          0,
          0,
          0,
          0,
          0,
          0,
          0,
          0,
          0,
          0,
          0,
          0,
          0,
          0,
          0,
          0,
          0,
          0,
          0,
          0,
          0,
          0,
          0,
          0,
          0,
          0,
          0,
          0,
          0,
          0,
          0,
          0,
          0,
          0,
          0,
          0,
          0,
          0,
          0,
          0,
          0,
          0,
          0,
          0,
          0,
          0,
          0,
          0,
          0,
          0
         ],
         "yaxis": "y2"
        },
        {
         "fill": "tonexty",
         "line": {
          "color": "red"
         },
         "name": "Electricity CO2 Emissions",
         "showlegend": false,
         "stackgroup": "1",
         "type": "scatter",
         "x": [
          2025,
          2025,
          2025,
          2025,
          2025,
          2026,
          2026,
          2026,
          2026,
          2026,
          2027,
          2027,
          2027,
          2027,
          2027,
          2028,
          2028,
          2028,
          2028,
          2028,
          2029,
          2029,
          2029,
          2029,
          2029,
          2030,
          2030,
          2030,
          2030,
          2030,
          2031,
          2031,
          2031,
          2031,
          2031,
          2032,
          2032,
          2032,
          2032,
          2032,
          2033,
          2033,
          2033,
          2033,
          2033,
          2034,
          2034,
          2034,
          2034,
          2034,
          2035,
          2035,
          2035,
          2035,
          2035,
          2036,
          2036,
          2036,
          2036,
          2036,
          2037,
          2037,
          2037,
          2037,
          2037,
          2038,
          2038,
          2038,
          2038,
          2038,
          2039,
          2039,
          2039,
          2039,
          2039,
          2040,
          2040,
          2040,
          2040,
          2040
         ],
         "xaxis": "x2",
         "y": [
          27614.72609347021,
          27614.72609347021,
          27614.72609347021,
          27614.72609347021,
          27614.72609347021,
          26342.031304868848,
          26342.031304868848,
          26342.031304868848,
          26342.031304868848,
          26342.031304868848,
          25127.991888022785,
          25127.991888022785,
          25127.991888022785,
          25127.991888022785,
          25127.991888022785,
          23969.90456115026,
          23969.90456115026,
          23969.90456115026,
          23969.90456115026,
          23969.90456115026,
          22865.190630076308,
          22865.190630076308,
          22865.190630076308,
          22865.190630076308,
          22865.190630076308,
          21811.390246296443,
          21811.390246296443,
          21811.390246296443,
          21811.390246296443,
          21811.390246296443,
          20806.1569296721,
          20806.1569296721,
          20806.1569296721,
          20806.1569296721,
          20806.1569296721,
          19847.25234356153,
          19847.25234356153,
          19847.25234356153,
          19847.25234356153,
          19847.25234356153,
          18932.541310752134,
          18932.541310752134,
          18932.541310752134,
          18932.541310752134,
          18932.541310752134,
          18059.987059096096,
          18059.987059096096,
          18059.987059096096,
          18059.987059096096,
          18059.987059096096,
          17227.646686263124,
          17227.646686263124,
          17227.646686263124,
          17227.646686263124,
          17227.646686263124,
          16433.6668335114,
          16433.6668335114,
          16433.6668335114,
          16433.6668335114,
          16433.6668335114,
          15676.279558843973,
          15676.279558843973,
          15676.279558843973,
          15676.279558843973,
          15676.279558843973,
          14953.798400361062,
          14953.798400361062,
          14953.798400361062,
          14953.798400361062,
          14953.798400361062,
          14264.614621042858,
          14264.614621042858,
          14264.614621042858,
          14264.614621042858,
          14264.614621042858,
          13607.193626601025,
          13607.193626601025,
          13607.193626601025,
          13607.193626601025,
          13607.193626601025
         ],
         "yaxis": "y2"
        },
        {
         "fill": "tonexty",
         "line": {
          "color": "yellow"
         },
         "name": "Solar CO2 Emissions",
         "showlegend": false,
         "type": "scatter",
         "x": [
          2025,
          2025,
          2025,
          2025,
          2025,
          2026,
          2026,
          2026,
          2026,
          2026,
          2027,
          2027,
          2027,
          2027,
          2027,
          2028,
          2028,
          2028,
          2028,
          2028,
          2029,
          2029,
          2029,
          2029,
          2029,
          2030,
          2030,
          2030,
          2030,
          2030,
          2031,
          2031,
          2031,
          2031,
          2031,
          2032,
          2032,
          2032,
          2032,
          2032,
          2033,
          2033,
          2033,
          2033,
          2033,
          2034,
          2034,
          2034,
          2034,
          2034,
          2035,
          2035,
          2035,
          2035,
          2035,
          2036,
          2036,
          2036,
          2036,
          2036,
          2037,
          2037,
          2037,
          2037,
          2037,
          2038,
          2038,
          2038,
          2038,
          2038,
          2039,
          2039,
          2039,
          2039,
          2039,
          2040,
          2040,
          2040,
          2040,
          2040
         ],
         "xaxis": "x2",
         "y": [
          -7974.220157403959,
          -7974.220157403959,
          -7974.220157403959,
          -7974.220157403959,
          -7974.220157403959,
          -7606.707968322797,
          -7606.707968322797,
          -7606.707968322797,
          -7606.707968322797,
          -7606.707968322797,
          -7256.133511892246,
          -7256.133511892246,
          -7256.133511892246,
          -7256.133511892246,
          -7256.133511892246,
          -6921.71616968422,
          -6921.71616968422,
          -6921.71616968422,
          -6921.71616968422,
          -6921.71616968422,
          -6602.711300053524,
          -6602.711300053524,
          -6602.711300053524,
          -6602.711300053524,
          -6602.711300053524,
          -6298.408580056441,
          -6298.408580056441,
          -6298.408580056441,
          -6298.408580056441,
          -6298.408580056441,
          -6008.1304237862105,
          -6008.1304237862105,
          -6008.1304237862105,
          -6008.1304237862105,
          -6008.1304237862105,
          -5731.23047360354,
          -5731.23047360354,
          -5731.23047360354,
          -5731.23047360354,
          -5731.23047360354,
          -5467.092160902577,
          -5467.092160902577,
          -5467.092160902577,
          -5467.092160902577,
          -5467.092160902577,
          -5215.127333207642,
          -5215.127333207642,
          -5215.127333207642,
          -5215.127333207642,
          -5215.127333207642,
          -4974.774944543707,
          -4974.774944543707,
          -4974.774944543707,
          -4974.774944543707,
          -4974.774944543707,
          -4745.49980616446,
          -4745.49980616446,
          -4745.49980616446,
          -4745.49980616446,
          -4745.49980616446,
          -4526.791394856249,
          -4526.791394856249,
          -4526.791394856249,
          -4526.791394856249,
          -4526.791394856249,
          -4318.162716164365,
          -4318.162716164365,
          -4318.162716164365,
          -4318.162716164365,
          -4318.162716164365,
          -4119.149220010419,
          -4119.149220010419,
          -4119.149220010419,
          -4119.149220010419,
          -4119.149220010419,
          -3929.307766286269,
          -3929.307766286269,
          -3929.307766286269,
          -3929.307766286269,
          -3929.307766286269
         ],
         "yaxis": "y2"
        },
        {
         "fill": "tonexty",
         "line": {
          "color": "blue"
         },
         "name": "Net CO2 Emissions",
         "showlegend": false,
         "text": "Net Emissions",
         "type": "scatter",
         "x": [
          2025,
          2025,
          2025,
          2025,
          2025,
          2026,
          2026,
          2026,
          2026,
          2026,
          2027,
          2027,
          2027,
          2027,
          2027,
          2028,
          2028,
          2028,
          2028,
          2028,
          2029,
          2029,
          2029,
          2029,
          2029,
          2030,
          2030,
          2030,
          2030,
          2030,
          2031,
          2031,
          2031,
          2031,
          2031,
          2032,
          2032,
          2032,
          2032,
          2032,
          2033,
          2033,
          2033,
          2033,
          2033,
          2034,
          2034,
          2034,
          2034,
          2034,
          2035,
          2035,
          2035,
          2035,
          2035,
          2036,
          2036,
          2036,
          2036,
          2036,
          2037,
          2037,
          2037,
          2037,
          2037,
          2038,
          2038,
          2038,
          2038,
          2038,
          2039,
          2039,
          2039,
          2039,
          2039,
          2040,
          2040,
          2040,
          2040,
          2040
         ],
         "xaxis": "x5",
         "y": [
          19640.505936066245,
          19640.505936066245,
          19640.505936066245,
          19640.505936066245,
          19640.505936066245,
          18735.32333654605,
          18735.32333654605,
          18735.32333654605,
          18735.32333654605,
          18735.32333654605,
          17871.858376130534,
          17871.858376130534,
          17871.858376130534,
          17871.858376130534,
          17871.858376130534,
          17048.18839146604,
          17048.18839146604,
          17048.18839146604,
          17048.18839146604,
          17048.18839146604,
          16262.47933002279,
          16262.47933002279,
          16262.47933002279,
          16262.47933002279,
          16262.47933002279,
          15512.981666240008,
          15512.981666240008,
          15512.981666240008,
          15512.981666240008,
          15512.981666240008,
          14798.02650588589,
          14798.02650588589,
          14798.02650588589,
          14798.02650588589,
          14798.02650588589,
          14116.02186995799,
          14116.02186995799,
          14116.02186995799,
          14116.02186995799,
          14116.02186995799,
          13465.449149849557,
          13465.449149849557,
          13465.449149849557,
          13465.449149849557,
          13465.449149849557,
          12844.85972588846,
          12844.85972588846,
          12844.85972588846,
          12844.85972588846,
          12844.85972588846,
          12252.871741719415,
          12252.871741719415,
          12252.871741719415,
          12252.871741719415,
          12252.871741719415,
          11688.167027346944,
          11688.167027346944,
          11688.167027346944,
          11688.167027346944,
          11688.167027346944,
          11149.488163987724,
          11149.488163987724,
          11149.488163987724,
          11149.488163987724,
          11149.488163987724,
          10635.635684196699,
          10635.635684196699,
          10635.635684196699,
          10635.635684196699,
          10635.635684196699,
          10145.465401032438,
          10145.465401032438,
          10145.465401032438,
          10145.465401032438,
          10145.465401032438,
          9677.885860314756,
          9677.885860314756,
          9677.885860314756,
          9677.885860314756,
          9677.885860314756
         ],
         "yaxis": "y5"
        },
        {
         "showlegend": false,
         "type": "histogram",
         "x": [
          28249,
          9799,
          32649,
          10499,
          10699,
          11300,
          33449,
          29549,
          36849,
          11699,
          14399,
          11799,
          36849,
          23149,
          23249,
          23349,
          23349,
          32149,
          32049,
          27199,
          28100,
          27499,
          26049,
          26049,
          20999,
          29749,
          21999,
          30499,
          40449,
          32249,
          44499,
          41899,
          49549,
          48749,
          44599,
          44899,
          53499,
          54999,
          45399,
          55149,
          55549,
          55549,
          53749,
          57249,
          59199
         ],
         "xaxis": "x8",
         "yaxis": "y8"
        },
        {
         "fill": "tonexty",
         "line": {
          "color": "grey"
         },
         "name": "Fossil fuel CO2 Emissions",
         "showlegend": true,
         "stackgroup": "1",
         "type": "scatter",
         "x": [
          2025,
          2025,
          2025,
          2025,
          2025,
          2026,
          2026,
          2026,
          2026,
          2026,
          2027,
          2027,
          2027,
          2027,
          2027,
          2028,
          2028,
          2028,
          2028,
          2028,
          2029,
          2029,
          2029,
          2029,
          2029,
          2030,
          2030,
          2030,
          2030,
          2030,
          2031,
          2031,
          2031,
          2031,
          2031,
          2032,
          2032,
          2032,
          2032,
          2032,
          2033,
          2033,
          2033,
          2033,
          2033,
          2034,
          2034,
          2034,
          2034,
          2034,
          2035,
          2035,
          2035,
          2035,
          2035,
          2036,
          2036,
          2036,
          2036,
          2036,
          2037,
          2037,
          2037,
          2037,
          2037,
          2038,
          2038,
          2038,
          2038,
          2038,
          2039,
          2039,
          2039,
          2039,
          2039,
          2040,
          2040,
          2040,
          2040,
          2040
         ],
         "xaxis": "x3",
         "y": [
          0,
          0,
          0,
          0,
          0,
          0,
          0,
          0,
          0,
          0,
          0,
          0,
          0,
          0,
          0,
          0,
          0,
          0,
          0,
          0,
          0,
          0,
          0,
          0,
          0,
          0,
          0,
          0,
          0,
          0,
          0,
          0,
          0,
          0,
          0,
          0,
          0,
          0,
          0,
          0,
          0,
          0,
          0,
          0,
          0,
          0,
          0,
          0,
          0,
          0,
          0,
          0,
          0,
          0,
          0,
          0,
          0,
          0,
          0,
          0,
          0,
          0,
          0,
          0,
          0,
          0,
          0,
          0,
          0,
          0,
          0,
          0,
          0,
          0,
          0,
          0,
          0,
          0,
          0,
          0
         ],
         "yaxis": "y3"
        },
        {
         "fill": "tonexty",
         "line": {
          "color": "red"
         },
         "name": "Electricity CO2 Emissions",
         "showlegend": true,
         "stackgroup": "1",
         "type": "scatter",
         "x": [
          2025,
          2025,
          2025,
          2025,
          2025,
          2026,
          2026,
          2026,
          2026,
          2026,
          2027,
          2027,
          2027,
          2027,
          2027,
          2028,
          2028,
          2028,
          2028,
          2028,
          2029,
          2029,
          2029,
          2029,
          2029,
          2030,
          2030,
          2030,
          2030,
          2030,
          2031,
          2031,
          2031,
          2031,
          2031,
          2032,
          2032,
          2032,
          2032,
          2032,
          2033,
          2033,
          2033,
          2033,
          2033,
          2034,
          2034,
          2034,
          2034,
          2034,
          2035,
          2035,
          2035,
          2035,
          2035,
          2036,
          2036,
          2036,
          2036,
          2036,
          2037,
          2037,
          2037,
          2037,
          2037,
          2038,
          2038,
          2038,
          2038,
          2038,
          2039,
          2039,
          2039,
          2039,
          2039,
          2040,
          2040,
          2040,
          2040,
          2040
         ],
         "xaxis": "x3",
         "y": [
          31197.328391938292,
          31197.328391938292,
          31197.328391938292,
          31197.328391938292,
          31197.328391938292,
          29759.520277227577,
          29759.520277227577,
          29759.520277227577,
          29759.520277227577,
          29759.520277227577,
          28387.977201264934,
          28387.977201264934,
          28387.977201264934,
          28387.977201264934,
          28387.977201264934,
          27079.645171438024,
          27079.645171438024,
          27079.645171438024,
          27079.645171438024,
          27079.645171438024,
          25831.61094614066,
          25831.61094614066,
          25831.61094614066,
          25831.61094614066,
          25831.61094614066,
          24641.09554790519,
          24641.09554790519,
          24641.09554790519,
          24641.09554790519,
          24641.09554790519,
          23505.448075498694,
          23505.448075498694,
          23505.448075498694,
          23505.448075498694,
          23505.448075498694,
          22422.139801204397,
          22422.139801204397,
          22422.139801204397,
          22422.139801204397,
          22422.139801204397,
          21388.75854014486,
          21388.75854014486,
          21388.75854014486,
          21388.75854014486,
          21388.75854014486,
          20403.003279109267,
          20403.003279109267,
          20403.003279109267,
          20403.003279109267,
          20403.003279109267,
          19462.67905292479,
          19462.67905292479,
          19462.67905292479,
          19462.67905292479,
          19462.67905292479,
          18565.69205696341,
          18565.69205696341,
          18565.69205696341,
          18565.69205696341,
          18565.69205696341,
          17710.044984901295,
          17710.044984901295,
          17710.044984901295,
          17710.044984901295,
          17710.044984901295,
          16893.83258134937,
          16893.83258134937,
          16893.83258134937,
          16893.83258134937,
          16893.83258134937,
          16115.237399452153,
          16115.237399452153,
          16115.237399452153,
          16115.237399452153,
          16115.237399452153,
          15372.525754008522,
          15372.525754008522,
          15372.525754008522,
          15372.525754008522,
          15372.525754008522
         ],
         "yaxis": "y3"
        },
        {
         "fill": "tonexty",
         "line": {
          "color": "yellow"
         },
         "name": "Solar CO2 Emissions",
         "showlegend": true,
         "type": "scatter",
         "x": [
          2025,
          2025,
          2025,
          2025,
          2025,
          2026,
          2026,
          2026,
          2026,
          2026,
          2027,
          2027,
          2027,
          2027,
          2027,
          2028,
          2028,
          2028,
          2028,
          2028,
          2029,
          2029,
          2029,
          2029,
          2029,
          2030,
          2030,
          2030,
          2030,
          2030,
          2031,
          2031,
          2031,
          2031,
          2031,
          2032,
          2032,
          2032,
          2032,
          2032,
          2033,
          2033,
          2033,
          2033,
          2033,
          2034,
          2034,
          2034,
          2034,
          2034,
          2035,
          2035,
          2035,
          2035,
          2035,
          2036,
          2036,
          2036,
          2036,
          2036,
          2037,
          2037,
          2037,
          2037,
          2037,
          2038,
          2038,
          2038,
          2038,
          2038,
          2039,
          2039,
          2039,
          2039,
          2039,
          2040,
          2040,
          2040,
          2040,
          2040
         ],
         "xaxis": "x3",
         "y": [
          -16048.476847589238,
          -16048.476847589238,
          -16048.476847589238,
          -16048.476847589238,
          -16048.476847589238,
          -15308.842031738357,
          -15308.842031738357,
          -15308.842031738357,
          -15308.842031738357,
          -15308.842031738357,
          -14603.295164919284,
          -14603.295164919284,
          -14603.295164919284,
          -14603.295164919284,
          -14603.295164919284,
          -13930.265217423446,
          -13930.265217423446,
          -13930.265217423446,
          -13930.265217423446,
          -13930.265217423446,
          -13288.253564436538,
          -13288.253564436538,
          -13288.253564436538,
          -13288.253564436538,
          -13288.253564436538,
          -12675.830649075053,
          -12675.830649075053,
          -12675.830649075053,
          -12675.830649075053,
          -12675.830649075053,
          -12091.632799215306,
          -12091.632799215306,
          -12091.632799215306,
          -12091.632799215306,
          -12091.632799215306,
          -11534.3591910269,
          -11534.3591910269,
          -11534.3591910269,
          -11534.3591910269,
          -11534.3591910269,
          -11002.768952449549,
          -11002.768952449549,
          -11002.768952449549,
          -11002.768952449549,
          -11002.768952449549,
          -10495.67840016344,
          -10495.67840016344,
          -10495.67840016344,
          -10495.67840016344,
          -10495.67840016344,
          -10011.958403900926,
          -10011.958403900926,
          -10011.958403900926,
          -10011.958403900926,
          -10011.958403900926,
          -9550.531872230516,
          -9550.531872230516,
          -9550.531872230516,
          -9550.531872230516,
          -9550.531872230516,
          -9110.371354214982,
          -9110.371354214982,
          -9110.371354214982,
          -9110.371354214982,
          -9110.371354214982,
          -8690.496751603076,
          -8690.496751603076,
          -8690.496751603076,
          -8690.496751603076,
          -8690.496751603076,
          -8289.973136460732,
          -8289.973136460732,
          -8289.973136460732,
          -8289.973136460732,
          -8289.973136460732,
          -7907.908669382291,
          -7907.908669382291,
          -7907.908669382291,
          -7907.908669382291,
          -7907.908669382291
         ],
         "yaxis": "y3"
        },
        {
         "fill": "tonexty",
         "line": {
          "color": "blue"
         },
         "name": "Net CO2 Emissions",
         "showlegend": true,
         "text": "Net Emissions",
         "type": "scatter",
         "x": [
          2025,
          2025,
          2025,
          2025,
          2025,
          2026,
          2026,
          2026,
          2026,
          2026,
          2027,
          2027,
          2027,
          2027,
          2027,
          2028,
          2028,
          2028,
          2028,
          2028,
          2029,
          2029,
          2029,
          2029,
          2029,
          2030,
          2030,
          2030,
          2030,
          2030,
          2031,
          2031,
          2031,
          2031,
          2031,
          2032,
          2032,
          2032,
          2032,
          2032,
          2033,
          2033,
          2033,
          2033,
          2033,
          2034,
          2034,
          2034,
          2034,
          2034,
          2035,
          2035,
          2035,
          2035,
          2035,
          2036,
          2036,
          2036,
          2036,
          2036,
          2037,
          2037,
          2037,
          2037,
          2037,
          2038,
          2038,
          2038,
          2038,
          2038,
          2039,
          2039,
          2039,
          2039,
          2039,
          2040,
          2040,
          2040,
          2040,
          2040
         ],
         "xaxis": "x6",
         "y": [
          15148.851544349049,
          15148.851544349049,
          15148.851544349049,
          15148.851544349049,
          15148.851544349049,
          14450.678245489218,
          14450.678245489218,
          14450.678245489218,
          14450.678245489218,
          14450.678245489218,
          13784.682036345654,
          13784.682036345654,
          13784.682036345654,
          13784.682036345654,
          13784.682036345654,
          13149.379954014577,
          13149.379954014577,
          13149.379954014577,
          13149.379954014577,
          13149.379954014577,
          12543.357381704122,
          12543.357381704122,
          12543.357381704122,
          12543.357381704122,
          12543.357381704122,
          11965.264898830137,
          11965.264898830137,
          11965.264898830137,
          11965.264898830137,
          11965.264898830137,
          11413.81527628339,
          11413.81527628339,
          11413.81527628339,
          11413.81527628339,
          11413.81527628339,
          10887.780610177493,
          10887.780610177493,
          10887.780610177493,
          10887.780610177493,
          10887.780610177493,
          10385.989587695314,
          10385.989587695314,
          10385.989587695314,
          10385.989587695314,
          10385.989587695314,
          9907.324878945825,
          9907.324878945825,
          9907.324878945825,
          9907.324878945825,
          9907.324878945825,
          9450.72064902386,
          9450.72064902386,
          9450.72064902386,
          9450.72064902386,
          9450.72064902386,
          9015.16018473289,
          9015.16018473289,
          9015.16018473289,
          9015.16018473289,
          9015.16018473289,
          8599.673630686313,
          8599.673630686313,
          8599.673630686313,
          8599.673630686313,
          8599.673630686313,
          8203.335829746293,
          8203.335829746293,
          8203.335829746293,
          8203.335829746293,
          8203.335829746293,
          7825.264262991423,
          7825.264262991423,
          7825.264262991423,
          7825.264262991423,
          7825.264262991423,
          7464.617084626233,
          7464.617084626233,
          7464.617084626233,
          7464.617084626233,
          7464.617084626233
         ],
         "yaxis": "y6"
        },
        {
         "showlegend": false,
         "type": "histogram",
         "x": [
          29849,
          33649,
          31149,
          11199,
          34249,
          21949,
          12200,
          26499,
          28699,
          32049,
          30499,
          26149,
          29299,
          33449,
          31999,
          45049,
          46949,
          30999,
          45149,
          48149,
          34199,
          46549,
          48949,
          35799,
          27299,
          48849,
          56249,
          47749,
          47649,
          59649,
          47949,
          30299,
          53749,
          37749,
          57349,
          41999,
          63949,
          43899,
          65249,
          65649,
          73549,
          69649,
          75849,
          74249,
          73549
         ],
         "xaxis": "x9",
         "yaxis": "y9"
        }
       ],
       "layout": {
        "annotations": [
         {
          "font": {
           "size": 16
          },
          "showarrow": false,
          "text": "GESLOTEN",
          "x": 0.14444444444444446,
          "xanchor": "center",
          "xref": "paper",
          "y": 1,
          "yanchor": "bottom",
          "yref": "paper"
         },
         {
          "font": {
           "size": 16
          },
          "showarrow": false,
          "text": "HALF_OPEN",
          "x": 0.5,
          "xanchor": "center",
          "xref": "paper",
          "y": 1,
          "yanchor": "bottom",
          "yref": "paper"
         },
         {
          "font": {
           "size": 16
          },
          "showarrow": false,
          "text": "OPEN",
          "x": 0.8555555555555556,
          "xanchor": "center",
          "xref": "paper",
          "y": 1,
          "yanchor": "bottom",
          "yref": "paper"
         }
        ],
        "height": 1000,
        "showlegend": true,
        "template": {
         "data": {
          "bar": [
           {
            "error_x": {
             "color": "#2a3f5f"
            },
            "error_y": {
             "color": "#2a3f5f"
            },
            "marker": {
             "line": {
              "color": "#E5ECF6",
              "width": 0.5
             },
             "pattern": {
              "fillmode": "overlay",
              "size": 10,
              "solidity": 0.2
             }
            },
            "type": "bar"
           }
          ],
          "barpolar": [
           {
            "marker": {
             "line": {
              "color": "#E5ECF6",
              "width": 0.5
             },
             "pattern": {
              "fillmode": "overlay",
              "size": 10,
              "solidity": 0.2
             }
            },
            "type": "barpolar"
           }
          ],
          "carpet": [
           {
            "aaxis": {
             "endlinecolor": "#2a3f5f",
             "gridcolor": "white",
             "linecolor": "white",
             "minorgridcolor": "white",
             "startlinecolor": "#2a3f5f"
            },
            "baxis": {
             "endlinecolor": "#2a3f5f",
             "gridcolor": "white",
             "linecolor": "white",
             "minorgridcolor": "white",
             "startlinecolor": "#2a3f5f"
            },
            "type": "carpet"
           }
          ],
          "choropleth": [
           {
            "colorbar": {
             "outlinewidth": 0,
             "ticks": ""
            },
            "type": "choropleth"
           }
          ],
          "contour": [
           {
            "colorbar": {
             "outlinewidth": 0,
             "ticks": ""
            },
            "colorscale": [
             [
              0,
              "#0d0887"
             ],
             [
              0.1111111111111111,
              "#46039f"
             ],
             [
              0.2222222222222222,
              "#7201a8"
             ],
             [
              0.3333333333333333,
              "#9c179e"
             ],
             [
              0.4444444444444444,
              "#bd3786"
             ],
             [
              0.5555555555555556,
              "#d8576b"
             ],
             [
              0.6666666666666666,
              "#ed7953"
             ],
             [
              0.7777777777777778,
              "#fb9f3a"
             ],
             [
              0.8888888888888888,
              "#fdca26"
             ],
             [
              1,
              "#f0f921"
             ]
            ],
            "type": "contour"
           }
          ],
          "contourcarpet": [
           {
            "colorbar": {
             "outlinewidth": 0,
             "ticks": ""
            },
            "type": "contourcarpet"
           }
          ],
          "heatmap": [
           {
            "colorbar": {
             "outlinewidth": 0,
             "ticks": ""
            },
            "colorscale": [
             [
              0,
              "#0d0887"
             ],
             [
              0.1111111111111111,
              "#46039f"
             ],
             [
              0.2222222222222222,
              "#7201a8"
             ],
             [
              0.3333333333333333,
              "#9c179e"
             ],
             [
              0.4444444444444444,
              "#bd3786"
             ],
             [
              0.5555555555555556,
              "#d8576b"
             ],
             [
              0.6666666666666666,
              "#ed7953"
             ],
             [
              0.7777777777777778,
              "#fb9f3a"
             ],
             [
              0.8888888888888888,
              "#fdca26"
             ],
             [
              1,
              "#f0f921"
             ]
            ],
            "type": "heatmap"
           }
          ],
          "heatmapgl": [
           {
            "colorbar": {
             "outlinewidth": 0,
             "ticks": ""
            },
            "colorscale": [
             [
              0,
              "#0d0887"
             ],
             [
              0.1111111111111111,
              "#46039f"
             ],
             [
              0.2222222222222222,
              "#7201a8"
             ],
             [
              0.3333333333333333,
              "#9c179e"
             ],
             [
              0.4444444444444444,
              "#bd3786"
             ],
             [
              0.5555555555555556,
              "#d8576b"
             ],
             [
              0.6666666666666666,
              "#ed7953"
             ],
             [
              0.7777777777777778,
              "#fb9f3a"
             ],
             [
              0.8888888888888888,
              "#fdca26"
             ],
             [
              1,
              "#f0f921"
             ]
            ],
            "type": "heatmapgl"
           }
          ],
          "histogram": [
           {
            "marker": {
             "pattern": {
              "fillmode": "overlay",
              "size": 10,
              "solidity": 0.2
             }
            },
            "type": "histogram"
           }
          ],
          "histogram2d": [
           {
            "colorbar": {
             "outlinewidth": 0,
             "ticks": ""
            },
            "colorscale": [
             [
              0,
              "#0d0887"
             ],
             [
              0.1111111111111111,
              "#46039f"
             ],
             [
              0.2222222222222222,
              "#7201a8"
             ],
             [
              0.3333333333333333,
              "#9c179e"
             ],
             [
              0.4444444444444444,
              "#bd3786"
             ],
             [
              0.5555555555555556,
              "#d8576b"
             ],
             [
              0.6666666666666666,
              "#ed7953"
             ],
             [
              0.7777777777777778,
              "#fb9f3a"
             ],
             [
              0.8888888888888888,
              "#fdca26"
             ],
             [
              1,
              "#f0f921"
             ]
            ],
            "type": "histogram2d"
           }
          ],
          "histogram2dcontour": [
           {
            "colorbar": {
             "outlinewidth": 0,
             "ticks": ""
            },
            "colorscale": [
             [
              0,
              "#0d0887"
             ],
             [
              0.1111111111111111,
              "#46039f"
             ],
             [
              0.2222222222222222,
              "#7201a8"
             ],
             [
              0.3333333333333333,
              "#9c179e"
             ],
             [
              0.4444444444444444,
              "#bd3786"
             ],
             [
              0.5555555555555556,
              "#d8576b"
             ],
             [
              0.6666666666666666,
              "#ed7953"
             ],
             [
              0.7777777777777778,
              "#fb9f3a"
             ],
             [
              0.8888888888888888,
              "#fdca26"
             ],
             [
              1,
              "#f0f921"
             ]
            ],
            "type": "histogram2dcontour"
           }
          ],
          "mesh3d": [
           {
            "colorbar": {
             "outlinewidth": 0,
             "ticks": ""
            },
            "type": "mesh3d"
           }
          ],
          "parcoords": [
           {
            "line": {
             "colorbar": {
              "outlinewidth": 0,
              "ticks": ""
             }
            },
            "type": "parcoords"
           }
          ],
          "pie": [
           {
            "automargin": true,
            "type": "pie"
           }
          ],
          "scatter": [
           {
            "fillpattern": {
             "fillmode": "overlay",
             "size": 10,
             "solidity": 0.2
            },
            "type": "scatter"
           }
          ],
          "scatter3d": [
           {
            "line": {
             "colorbar": {
              "outlinewidth": 0,
              "ticks": ""
             }
            },
            "marker": {
             "colorbar": {
              "outlinewidth": 0,
              "ticks": ""
             }
            },
            "type": "scatter3d"
           }
          ],
          "scattercarpet": [
           {
            "marker": {
             "colorbar": {
              "outlinewidth": 0,
              "ticks": ""
             }
            },
            "type": "scattercarpet"
           }
          ],
          "scattergeo": [
           {
            "marker": {
             "colorbar": {
              "outlinewidth": 0,
              "ticks": ""
             }
            },
            "type": "scattergeo"
           }
          ],
          "scattergl": [
           {
            "marker": {
             "colorbar": {
              "outlinewidth": 0,
              "ticks": ""
             }
            },
            "type": "scattergl"
           }
          ],
          "scattermapbox": [
           {
            "marker": {
             "colorbar": {
              "outlinewidth": 0,
              "ticks": ""
             }
            },
            "type": "scattermapbox"
           }
          ],
          "scatterpolar": [
           {
            "marker": {
             "colorbar": {
              "outlinewidth": 0,
              "ticks": ""
             }
            },
            "type": "scatterpolar"
           }
          ],
          "scatterpolargl": [
           {
            "marker": {
             "colorbar": {
              "outlinewidth": 0,
              "ticks": ""
             }
            },
            "type": "scatterpolargl"
           }
          ],
          "scatterternary": [
           {
            "marker": {
             "colorbar": {
              "outlinewidth": 0,
              "ticks": ""
             }
            },
            "type": "scatterternary"
           }
          ],
          "surface": [
           {
            "colorbar": {
             "outlinewidth": 0,
             "ticks": ""
            },
            "colorscale": [
             [
              0,
              "#0d0887"
             ],
             [
              0.1111111111111111,
              "#46039f"
             ],
             [
              0.2222222222222222,
              "#7201a8"
             ],
             [
              0.3333333333333333,
              "#9c179e"
             ],
             [
              0.4444444444444444,
              "#bd3786"
             ],
             [
              0.5555555555555556,
              "#d8576b"
             ],
             [
              0.6666666666666666,
              "#ed7953"
             ],
             [
              0.7777777777777778,
              "#fb9f3a"
             ],
             [
              0.8888888888888888,
              "#fdca26"
             ],
             [
              1,
              "#f0f921"
             ]
            ],
            "type": "surface"
           }
          ],
          "table": [
           {
            "cells": {
             "fill": {
              "color": "#EBF0F8"
             },
             "line": {
              "color": "white"
             }
            },
            "header": {
             "fill": {
              "color": "#C8D4E3"
             },
             "line": {
              "color": "white"
             }
            },
            "type": "table"
           }
          ]
         },
         "layout": {
          "annotationdefaults": {
           "arrowcolor": "#2a3f5f",
           "arrowhead": 0,
           "arrowwidth": 1
          },
          "autotypenumbers": "strict",
          "coloraxis": {
           "colorbar": {
            "outlinewidth": 0,
            "ticks": ""
           }
          },
          "colorscale": {
           "diverging": [
            [
             0,
             "#8e0152"
            ],
            [
             0.1,
             "#c51b7d"
            ],
            [
             0.2,
             "#de77ae"
            ],
            [
             0.3,
             "#f1b6da"
            ],
            [
             0.4,
             "#fde0ef"
            ],
            [
             0.5,
             "#f7f7f7"
            ],
            [
             0.6,
             "#e6f5d0"
            ],
            [
             0.7,
             "#b8e186"
            ],
            [
             0.8,
             "#7fbc41"
            ],
            [
             0.9,
             "#4d9221"
            ],
            [
             1,
             "#276419"
            ]
           ],
           "sequential": [
            [
             0,
             "#0d0887"
            ],
            [
             0.1111111111111111,
             "#46039f"
            ],
            [
             0.2222222222222222,
             "#7201a8"
            ],
            [
             0.3333333333333333,
             "#9c179e"
            ],
            [
             0.4444444444444444,
             "#bd3786"
            ],
            [
             0.5555555555555556,
             "#d8576b"
            ],
            [
             0.6666666666666666,
             "#ed7953"
            ],
            [
             0.7777777777777778,
             "#fb9f3a"
            ],
            [
             0.8888888888888888,
             "#fdca26"
            ],
            [
             1,
             "#f0f921"
            ]
           ],
           "sequentialminus": [
            [
             0,
             "#0d0887"
            ],
            [
             0.1111111111111111,
             "#46039f"
            ],
            [
             0.2222222222222222,
             "#7201a8"
            ],
            [
             0.3333333333333333,
             "#9c179e"
            ],
            [
             0.4444444444444444,
             "#bd3786"
            ],
            [
             0.5555555555555556,
             "#d8576b"
            ],
            [
             0.6666666666666666,
             "#ed7953"
            ],
            [
             0.7777777777777778,
             "#fb9f3a"
            ],
            [
             0.8888888888888888,
             "#fdca26"
            ],
            [
             1,
             "#f0f921"
            ]
           ]
          },
          "colorway": [
           "#636efa",
           "#EF553B",
           "#00cc96",
           "#ab63fa",
           "#FFA15A",
           "#19d3f3",
           "#FF6692",
           "#B6E880",
           "#FF97FF",
           "#FECB52"
          ],
          "font": {
           "color": "#2a3f5f"
          },
          "geo": {
           "bgcolor": "white",
           "lakecolor": "white",
           "landcolor": "#E5ECF6",
           "showlakes": true,
           "showland": true,
           "subunitcolor": "white"
          },
          "hoverlabel": {
           "align": "left"
          },
          "hovermode": "closest",
          "mapbox": {
           "style": "light"
          },
          "paper_bgcolor": "white",
          "plot_bgcolor": "#E5ECF6",
          "polar": {
           "angularaxis": {
            "gridcolor": "white",
            "linecolor": "white",
            "ticks": ""
           },
           "bgcolor": "#E5ECF6",
           "radialaxis": {
            "gridcolor": "white",
            "linecolor": "white",
            "ticks": ""
           }
          },
          "scene": {
           "xaxis": {
            "backgroundcolor": "#E5ECF6",
            "gridcolor": "white",
            "gridwidth": 2,
            "linecolor": "white",
            "showbackground": true,
            "ticks": "",
            "zerolinecolor": "white"
           },
           "yaxis": {
            "backgroundcolor": "#E5ECF6",
            "gridcolor": "white",
            "gridwidth": 2,
            "linecolor": "white",
            "showbackground": true,
            "ticks": "",
            "zerolinecolor": "white"
           },
           "zaxis": {
            "backgroundcolor": "#E5ECF6",
            "gridcolor": "white",
            "gridwidth": 2,
            "linecolor": "white",
            "showbackground": true,
            "ticks": "",
            "zerolinecolor": "white"
           }
          },
          "shapedefaults": {
           "line": {
            "color": "#2a3f5f"
           }
          },
          "ternary": {
           "aaxis": {
            "gridcolor": "white",
            "linecolor": "white",
            "ticks": ""
           },
           "baxis": {
            "gridcolor": "white",
            "linecolor": "white",
            "ticks": ""
           },
           "bgcolor": "#E5ECF6",
           "caxis": {
            "gridcolor": "white",
            "linecolor": "white",
            "ticks": ""
           }
          },
          "title": {
           "x": 0.05
          },
          "xaxis": {
           "automargin": true,
           "gridcolor": "white",
           "linecolor": "white",
           "ticks": "",
           "title": {
            "standoff": 15
           },
           "zerolinecolor": "white",
           "zerolinewidth": 2
          },
          "yaxis": {
           "automargin": true,
           "gridcolor": "white",
           "linecolor": "white",
           "ticks": "",
           "title": {
            "standoff": 15
           },
           "zerolinecolor": "white",
           "zerolinewidth": 2
          }
         }
        },
        "title": {
         "text": "CO2 Emissions Over Years by Building Type with heat pumps and A labels"
        },
        "width": 1800,
        "xaxis": {
         "anchor": "y",
         "domain": [
          0,
          0.2888888888888889
         ],
         "title": {
          "text": "Year"
         }
        },
        "xaxis2": {
         "anchor": "y2",
         "domain": [
          0.35555555555555557,
          0.6444444444444445
         ],
         "title": {
          "text": "Year"
         }
        },
        "xaxis3": {
         "anchor": "y3",
         "domain": [
          0.7111111111111111,
          1
         ],
         "title": {
          "text": "Year"
         }
        },
        "xaxis4": {
         "anchor": "y4",
         "domain": [
          0,
          0.2888888888888889
         ]
        },
        "xaxis5": {
         "anchor": "y5",
         "domain": [
          0.35555555555555557,
          0.6444444444444445
         ]
        },
        "xaxis6": {
         "anchor": "y6",
         "domain": [
          0.7111111111111111,
          1
         ]
        },
        "xaxis7": {
         "anchor": "y7",
         "domain": [
          0,
          0.2888888888888889
         ],
         "title": {
          "text": "Investment cost [€]"
         }
        },
        "xaxis8": {
         "anchor": "y8",
         "domain": [
          0.35555555555555557,
          0.6444444444444445
         ],
         "title": {
          "text": "Investment cost [€]"
         }
        },
        "xaxis9": {
         "anchor": "y9",
         "domain": [
          0.7111111111111111,
          1
         ],
         "title": {
          "text": "Investment cost [€]"
         }
        },
        "yaxis": {
         "anchor": "x",
         "domain": [
          0.7777777777777778,
          1
         ],
         "range": [
          -45000,
          120000
         ],
         "title": {
          "text": "Gross CO2 Emissions (kg)"
         }
        },
        "yaxis2": {
         "anchor": "x2",
         "domain": [
          0.7777777777777778,
          1
         ],
         "matches": "y",
         "range": [
          -45000,
          120000
         ],
         "showticklabels": false
        },
        "yaxis3": {
         "anchor": "x3",
         "domain": [
          0.7777777777777778,
          1
         ],
         "matches": "y",
         "range": [
          -45000,
          120000
         ],
         "showticklabels": false
        },
        "yaxis4": {
         "anchor": "x4",
         "domain": [
          0.3888888888888889,
          0.6111111111111112
         ],
         "range": [
          -20000,
          100000
         ],
         "title": {
          "text": "Net CO2 Emissions (kg)"
         }
        },
        "yaxis5": {
         "anchor": "x5",
         "domain": [
          0.3888888888888889,
          0.6111111111111112
         ],
         "matches": "y4",
         "range": [
          -20000,
          100000
         ],
         "showticklabels": false
        },
        "yaxis6": {
         "anchor": "x6",
         "domain": [
          0.3888888888888889,
          0.6111111111111112
         ],
         "matches": "y4",
         "range": [
          -20000,
          100000
         ],
         "showticklabels": false
        },
        "yaxis7": {
         "anchor": "x7",
         "domain": [
          0,
          0.22222222222222224
         ],
         "range": [
          0,
          30
         ],
         "title": {
          "text": "Count"
         }
        },
        "yaxis8": {
         "anchor": "x8",
         "domain": [
          0,
          0.22222222222222224
         ],
         "matches": "y7",
         "range": [
          0,
          30
         ],
         "showticklabels": false
        },
        "yaxis9": {
         "anchor": "x9",
         "domain": [
          0,
          0.22222222222222224
         ],
         "matches": "y7",
         "range": [
          0,
          30
         ],
         "showticklabels": false
        }
       }
      },
      "text/html": [
       "<div>                            <div id=\"17ebb3a7-0a67-47a7-bce0-06a51a9c9c45\" class=\"plotly-graph-div\" style=\"height:1000px; width:1800px;\"></div>            <script type=\"text/javascript\">                require([\"plotly\"], function(Plotly) {                    window.PLOTLYENV=window.PLOTLYENV || {};                                    if (document.getElementById(\"17ebb3a7-0a67-47a7-bce0-06a51a9c9c45\")) {                    Plotly.newPlot(                        \"17ebb3a7-0a67-47a7-bce0-06a51a9c9c45\",                        [{\"fill\":\"tonexty\",\"line\":{\"color\":\"grey\"},\"name\":\"Fossil fuel CO2 Emissions\",\"showlegend\":false,\"stackgroup\":\"1\",\"x\":[2025,2025,2025,2025,2025,2026,2026,2026,2026,2026,2027,2027,2027,2027,2027,2028,2028,2028,2028,2028,2029,2029,2029,2029,2029,2030,2030,2030,2030,2030,2031,2031,2031,2031,2031,2032,2032,2032,2032,2032,2033,2033,2033,2033,2033,2034,2034,2034,2034,2034,2035,2035,2035,2035,2035,2036,2036,2036,2036,2036,2037,2037,2037,2037,2037,2038,2038,2038,2038,2038,2039,2039,2039,2039,2039,2040,2040,2040,2040,2040],\"y\":[0.0,0.0,0.0,0.0,0.0,0.0,0.0,0.0,0.0,0.0,0.0,0.0,0.0,0.0,0.0,0.0,0.0,0.0,0.0,0.0,0.0,0.0,0.0,0.0,0.0,0.0,0.0,0.0,0.0,0.0,0.0,0.0,0.0,0.0,0.0,0.0,0.0,0.0,0.0,0.0,0.0,0.0,0.0,0.0,0.0,0.0,0.0,0.0,0.0,0.0,0.0,0.0,0.0,0.0,0.0,0.0,0.0,0.0,0.0,0.0,0.0,0.0,0.0,0.0,0.0,0.0,0.0,0.0,0.0,0.0,0.0,0.0,0.0,0.0,0.0,0.0,0.0,0.0,0.0,0.0],\"type\":\"scatter\",\"xaxis\":\"x\",\"yaxis\":\"y\"},{\"fill\":\"tonexty\",\"line\":{\"color\":\"red\"},\"name\":\"Electricity CO2 Emissions\",\"showlegend\":false,\"stackgroup\":\"1\",\"x\":[2025,2025,2025,2025,2025,2026,2026,2026,2026,2026,2027,2027,2027,2027,2027,2028,2028,2028,2028,2028,2029,2029,2029,2029,2029,2030,2030,2030,2030,2030,2031,2031,2031,2031,2031,2032,2032,2032,2032,2032,2033,2033,2033,2033,2033,2034,2034,2034,2034,2034,2035,2035,2035,2035,2035,2036,2036,2036,2036,2036,2037,2037,2037,2037,2037,2038,2038,2038,2038,2038,2039,2039,2039,2039,2039,2040,2040,2040,2040,2040],\"y\":[26197.47152988897,26197.47152988897,26197.47152988897,26197.47152988897,26197.47152988897,24990.094517429447,24990.094517429447,24990.094517429447,24990.094517429447,24990.094517429447,23838.36254111597,23838.36254111597,23838.36254111597,23838.36254111597,23838.36254111597,22739.711058129073,22739.711058129073,22739.711058129073,22739.711058129073,22739.711058129073,21691.6937191186,21691.6937191186,21691.6937191186,21691.6937191186,21691.6937191186,20691.976920957535,20691.976920957535,20691.976920957535,20691.976920957535,20691.976920957535,19738.33461054586,19738.33461054586,19738.33461054586,19738.33461054586,19738.33461054586,18828.64332809452,18828.64332809452,18828.64332809452,18828.64332809452,18828.64332809452,17960.877478852002,17960.877478852002,17960.877478852002,17960.877478852002,17960.877478852002,17133.10482274561,17133.10482274561,17133.10482274561,17133.10482274561,17133.10482274561,16343.482171893924,16343.482171893924,16343.482171893924,16343.482171893924,16343.482171893924,15590.251286410434,15590.251286410434,15590.251286410434,15590.251286410434,15590.251286410434,14871.734959359414,14871.734959359414,14871.734959359414,14871.734959359414,14871.734959359414,14186.333282146588,14186.333282146588,14186.333282146588,14186.333282146588,14186.333282146588,13532.520082028725,13532.520082028725,13532.520082028725,13532.520082028725,13532.520082028725,12908.839523809691,12908.839523809691,12908.839523809691,12908.839523809691,12908.839523809691],\"type\":\"scatter\",\"xaxis\":\"x\",\"yaxis\":\"y\"},{\"fill\":\"tonexty\",\"line\":{\"color\":\"yellow\"},\"name\":\"Solar CO2 Emissions\",\"showlegend\":false,\"x\":[2025,2025,2025,2025,2025,2026,2026,2026,2026,2026,2027,2027,2027,2027,2027,2028,2028,2028,2028,2028,2029,2029,2029,2029,2029,2030,2030,2030,2030,2030,2031,2031,2031,2031,2031,2032,2032,2032,2032,2032,2033,2033,2033,2033,2033,2034,2034,2034,2034,2034,2035,2035,2035,2035,2035,2036,2036,2036,2036,2036,2037,2037,2037,2037,2037,2038,2038,2038,2038,2038,2039,2039,2039,2039,2039,2040,2040,2040,2040,2040],\"y\":[-5371.019131356106,-5371.019131356106,-5371.019131356106,-5371.019131356106,-5371.019131356106,-5123.482073236544,-5123.482073236544,-5123.482073236544,-5123.482073236544,-5123.482073236544,-4887.35338914134,-4887.35338914134,-4887.35338914134,-4887.35338914134,-4887.35338914134,-4662.107295178301,-4662.107295178301,-4662.107295178301,-4662.107295178301,-4662.107295178301,-4447.242239541309,-4447.242239541309,-4447.242239541309,-4447.242239541309,-4447.242239541309,-4242.27978571308,-4242.27978571308,-4242.27978571308,-4242.27978571308,-4242.27978571308,-4046.76354713838,-4046.76354713838,-4046.76354713838,-4046.76354713838,-4046.76354713838,-3860.2581709955107,-3860.2581709955107,-3860.2581709955107,-3860.2581709955107,-3860.2581709955107,-3682.3483688032843,-3682.3483688032843,-3682.3483688032843,-3682.3483688032843,-3682.3483688032843,-3512.637991704928,-3512.637991704928,-3512.637991704928,-3512.637991704928,-3512.637991704928,-3350.749148369883,-3350.749148369883,-3350.749148369883,-3350.749148369883,-3350.749148369883,-3196.321363549335,-3196.321363549335,-3196.321363549335,-3196.321363549335,-3196.321363549335,-3049.0107754118576,-3049.0107754118576,-3049.0107754118576,-3049.0107754118576,-3049.0107754118576,-2908.4893698718756,-2908.4893698718756,-2908.4893698718756,-2908.4893698718756,-2908.4893698718756,-2774.444250206044,-2774.444250206044,-2774.444250206044,-2774.444250206044,-2774.444250206044,-2646.5769403312165,-2646.5769403312165,-2646.5769403312165,-2646.5769403312165,-2646.5769403312165],\"type\":\"scatter\",\"xaxis\":\"x\",\"yaxis\":\"y\"},{\"fill\":\"tonexty\",\"line\":{\"color\":\"blue\"},\"name\":\"Net CO2 Emissions\",\"showlegend\":false,\"text\":\"Net Emissions\",\"x\":[2025,2025,2025,2025,2025,2026,2026,2026,2026,2026,2027,2027,2027,2027,2027,2028,2028,2028,2028,2028,2029,2029,2029,2029,2029,2030,2030,2030,2030,2030,2031,2031,2031,2031,2031,2032,2032,2032,2032,2032,2033,2033,2033,2033,2033,2034,2034,2034,2034,2034,2035,2035,2035,2035,2035,2036,2036,2036,2036,2036,2037,2037,2037,2037,2037,2038,2038,2038,2038,2038,2039,2039,2039,2039,2039,2040,2040,2040,2040,2040],\"y\":[20826.452398532867,20826.452398532867,20826.452398532867,20826.452398532867,20826.452398532867,19866.612444192902,19866.612444192902,19866.612444192902,19866.612444192902,19866.612444192902,18951.00915197463,18951.00915197463,18951.00915197463,18951.00915197463,18951.00915197463,18077.60376295077,18077.60376295077,18077.60376295077,18077.60376295077,18077.60376295077,17244.45147957729,17244.45147957729,17244.45147957729,17244.45147957729,17244.45147957729,16449.69713524445,16449.69713524445,16449.69713524445,16449.69713524445,16449.69713524445,15691.571063407484,15691.571063407484,15691.571063407484,15691.571063407484,15691.571063407484,14968.385157099008,14968.385157099008,14968.385157099008,14968.385157099008,14968.385157099008,14278.529110048721,14278.529110048721,14278.529110048721,14278.529110048721,14278.529110048721,13620.466831040678,13620.466831040678,13620.466831040678,13620.466831040678,13620.466831040678,12992.73302352404,12992.73302352404,12992.73302352404,12992.73302352404,12992.73302352404,12393.9299228611,12393.9299228611,12393.9299228611,12393.9299228611,12393.9299228611,11822.724183947556,11822.724183947556,11822.724183947556,11822.724183947556,11822.724183947556,11277.843912274713,11277.843912274713,11277.843912274713,11277.843912274713,11277.843912274713,10758.075831822682,10758.075831822682,10758.075831822682,10758.075831822682,10758.075831822682,10262.262583478476,10262.262583478476,10262.262583478476,10262.262583478476,10262.262583478476],\"type\":\"scatter\",\"xaxis\":\"x4\",\"yaxis\":\"y4\"},{\"showlegend\":false,\"x\":[9299,9499,10099,10199,10299,17749,17749,10599,10599,10799,20049,12899,10999,11199,11299,11399,11599,24049,16699,14399,14399,24949,29249,26699,26099,25299,27349,27299,28549,30399,28499,28899,31699,37049,30649,32899,40149,34399,44749,34899,44649,37899,43299,43599,53749],\"type\":\"histogram\",\"xaxis\":\"x7\",\"yaxis\":\"y7\"},{\"fill\":\"tonexty\",\"line\":{\"color\":\"grey\"},\"name\":\"Fossil fuel CO2 Emissions\",\"showlegend\":false,\"stackgroup\":\"1\",\"x\":[2025,2025,2025,2025,2025,2026,2026,2026,2026,2026,2027,2027,2027,2027,2027,2028,2028,2028,2028,2028,2029,2029,2029,2029,2029,2030,2030,2030,2030,2030,2031,2031,2031,2031,2031,2032,2032,2032,2032,2032,2033,2033,2033,2033,2033,2034,2034,2034,2034,2034,2035,2035,2035,2035,2035,2036,2036,2036,2036,2036,2037,2037,2037,2037,2037,2038,2038,2038,2038,2038,2039,2039,2039,2039,2039,2040,2040,2040,2040,2040],\"y\":[0.0,0.0,0.0,0.0,0.0,0.0,0.0,0.0,0.0,0.0,0.0,0.0,0.0,0.0,0.0,0.0,0.0,0.0,0.0,0.0,0.0,0.0,0.0,0.0,0.0,0.0,0.0,0.0,0.0,0.0,0.0,0.0,0.0,0.0,0.0,0.0,0.0,0.0,0.0,0.0,0.0,0.0,0.0,0.0,0.0,0.0,0.0,0.0,0.0,0.0,0.0,0.0,0.0,0.0,0.0,0.0,0.0,0.0,0.0,0.0,0.0,0.0,0.0,0.0,0.0,0.0,0.0,0.0,0.0,0.0,0.0,0.0,0.0,0.0,0.0,0.0,0.0,0.0,0.0,0.0],\"type\":\"scatter\",\"xaxis\":\"x2\",\"yaxis\":\"y2\"},{\"fill\":\"tonexty\",\"line\":{\"color\":\"red\"},\"name\":\"Electricity CO2 Emissions\",\"showlegend\":false,\"stackgroup\":\"1\",\"x\":[2025,2025,2025,2025,2025,2026,2026,2026,2026,2026,2027,2027,2027,2027,2027,2028,2028,2028,2028,2028,2029,2029,2029,2029,2029,2030,2030,2030,2030,2030,2031,2031,2031,2031,2031,2032,2032,2032,2032,2032,2033,2033,2033,2033,2033,2034,2034,2034,2034,2034,2035,2035,2035,2035,2035,2036,2036,2036,2036,2036,2037,2037,2037,2037,2037,2038,2038,2038,2038,2038,2039,2039,2039,2039,2039,2040,2040,2040,2040,2040],\"y\":[27614.72609347021,27614.72609347021,27614.72609347021,27614.72609347021,27614.72609347021,26342.031304868848,26342.031304868848,26342.031304868848,26342.031304868848,26342.031304868848,25127.991888022785,25127.991888022785,25127.991888022785,25127.991888022785,25127.991888022785,23969.90456115026,23969.90456115026,23969.90456115026,23969.90456115026,23969.90456115026,22865.190630076308,22865.190630076308,22865.190630076308,22865.190630076308,22865.190630076308,21811.390246296443,21811.390246296443,21811.390246296443,21811.390246296443,21811.390246296443,20806.1569296721,20806.1569296721,20806.1569296721,20806.1569296721,20806.1569296721,19847.25234356153,19847.25234356153,19847.25234356153,19847.25234356153,19847.25234356153,18932.541310752134,18932.541310752134,18932.541310752134,18932.541310752134,18932.541310752134,18059.987059096096,18059.987059096096,18059.987059096096,18059.987059096096,18059.987059096096,17227.646686263124,17227.646686263124,17227.646686263124,17227.646686263124,17227.646686263124,16433.6668335114,16433.6668335114,16433.6668335114,16433.6668335114,16433.6668335114,15676.279558843973,15676.279558843973,15676.279558843973,15676.279558843973,15676.279558843973,14953.798400361062,14953.798400361062,14953.798400361062,14953.798400361062,14953.798400361062,14264.614621042858,14264.614621042858,14264.614621042858,14264.614621042858,14264.614621042858,13607.193626601025,13607.193626601025,13607.193626601025,13607.193626601025,13607.193626601025],\"type\":\"scatter\",\"xaxis\":\"x2\",\"yaxis\":\"y2\"},{\"fill\":\"tonexty\",\"line\":{\"color\":\"yellow\"},\"name\":\"Solar CO2 Emissions\",\"showlegend\":false,\"x\":[2025,2025,2025,2025,2025,2026,2026,2026,2026,2026,2027,2027,2027,2027,2027,2028,2028,2028,2028,2028,2029,2029,2029,2029,2029,2030,2030,2030,2030,2030,2031,2031,2031,2031,2031,2032,2032,2032,2032,2032,2033,2033,2033,2033,2033,2034,2034,2034,2034,2034,2035,2035,2035,2035,2035,2036,2036,2036,2036,2036,2037,2037,2037,2037,2037,2038,2038,2038,2038,2038,2039,2039,2039,2039,2039,2040,2040,2040,2040,2040],\"y\":[-7974.220157403959,-7974.220157403959,-7974.220157403959,-7974.220157403959,-7974.220157403959,-7606.707968322797,-7606.707968322797,-7606.707968322797,-7606.707968322797,-7606.707968322797,-7256.133511892246,-7256.133511892246,-7256.133511892246,-7256.133511892246,-7256.133511892246,-6921.71616968422,-6921.71616968422,-6921.71616968422,-6921.71616968422,-6921.71616968422,-6602.711300053524,-6602.711300053524,-6602.711300053524,-6602.711300053524,-6602.711300053524,-6298.408580056441,-6298.408580056441,-6298.408580056441,-6298.408580056441,-6298.408580056441,-6008.1304237862105,-6008.1304237862105,-6008.1304237862105,-6008.1304237862105,-6008.1304237862105,-5731.23047360354,-5731.23047360354,-5731.23047360354,-5731.23047360354,-5731.23047360354,-5467.092160902577,-5467.092160902577,-5467.092160902577,-5467.092160902577,-5467.092160902577,-5215.127333207642,-5215.127333207642,-5215.127333207642,-5215.127333207642,-5215.127333207642,-4974.774944543707,-4974.774944543707,-4974.774944543707,-4974.774944543707,-4974.774944543707,-4745.49980616446,-4745.49980616446,-4745.49980616446,-4745.49980616446,-4745.49980616446,-4526.791394856249,-4526.791394856249,-4526.791394856249,-4526.791394856249,-4526.791394856249,-4318.162716164365,-4318.162716164365,-4318.162716164365,-4318.162716164365,-4318.162716164365,-4119.149220010419,-4119.149220010419,-4119.149220010419,-4119.149220010419,-4119.149220010419,-3929.307766286269,-3929.307766286269,-3929.307766286269,-3929.307766286269,-3929.307766286269],\"type\":\"scatter\",\"xaxis\":\"x2\",\"yaxis\":\"y2\"},{\"fill\":\"tonexty\",\"line\":{\"color\":\"blue\"},\"name\":\"Net CO2 Emissions\",\"showlegend\":false,\"text\":\"Net Emissions\",\"x\":[2025,2025,2025,2025,2025,2026,2026,2026,2026,2026,2027,2027,2027,2027,2027,2028,2028,2028,2028,2028,2029,2029,2029,2029,2029,2030,2030,2030,2030,2030,2031,2031,2031,2031,2031,2032,2032,2032,2032,2032,2033,2033,2033,2033,2033,2034,2034,2034,2034,2034,2035,2035,2035,2035,2035,2036,2036,2036,2036,2036,2037,2037,2037,2037,2037,2038,2038,2038,2038,2038,2039,2039,2039,2039,2039,2040,2040,2040,2040,2040],\"y\":[19640.505936066245,19640.505936066245,19640.505936066245,19640.505936066245,19640.505936066245,18735.32333654605,18735.32333654605,18735.32333654605,18735.32333654605,18735.32333654605,17871.858376130534,17871.858376130534,17871.858376130534,17871.858376130534,17871.858376130534,17048.18839146604,17048.18839146604,17048.18839146604,17048.18839146604,17048.18839146604,16262.47933002279,16262.47933002279,16262.47933002279,16262.47933002279,16262.47933002279,15512.981666240008,15512.981666240008,15512.981666240008,15512.981666240008,15512.981666240008,14798.02650588589,14798.02650588589,14798.02650588589,14798.02650588589,14798.02650588589,14116.02186995799,14116.02186995799,14116.02186995799,14116.02186995799,14116.02186995799,13465.449149849557,13465.449149849557,13465.449149849557,13465.449149849557,13465.449149849557,12844.85972588846,12844.85972588846,12844.85972588846,12844.85972588846,12844.85972588846,12252.871741719415,12252.871741719415,12252.871741719415,12252.871741719415,12252.871741719415,11688.167027346944,11688.167027346944,11688.167027346944,11688.167027346944,11688.167027346944,11149.488163987724,11149.488163987724,11149.488163987724,11149.488163987724,11149.488163987724,10635.635684196699,10635.635684196699,10635.635684196699,10635.635684196699,10635.635684196699,10145.465401032438,10145.465401032438,10145.465401032438,10145.465401032438,10145.465401032438,9677.885860314756,9677.885860314756,9677.885860314756,9677.885860314756,9677.885860314756],\"type\":\"scatter\",\"xaxis\":\"x5\",\"yaxis\":\"y5\"},{\"showlegend\":false,\"x\":[28249,9799,32649,10499,10699,11300,33449,29549,36849,11699,14399,11799,36849,23149,23249,23349,23349,32149,32049,27199,28100,27499,26049,26049,20999,29749,21999,30499,40449,32249,44499,41899,49549,48749,44599,44899,53499,54999,45399,55149,55549,55549,53749,57249,59199],\"type\":\"histogram\",\"xaxis\":\"x8\",\"yaxis\":\"y8\"},{\"fill\":\"tonexty\",\"line\":{\"color\":\"grey\"},\"name\":\"Fossil fuel CO2 Emissions\",\"showlegend\":true,\"stackgroup\":\"1\",\"x\":[2025,2025,2025,2025,2025,2026,2026,2026,2026,2026,2027,2027,2027,2027,2027,2028,2028,2028,2028,2028,2029,2029,2029,2029,2029,2030,2030,2030,2030,2030,2031,2031,2031,2031,2031,2032,2032,2032,2032,2032,2033,2033,2033,2033,2033,2034,2034,2034,2034,2034,2035,2035,2035,2035,2035,2036,2036,2036,2036,2036,2037,2037,2037,2037,2037,2038,2038,2038,2038,2038,2039,2039,2039,2039,2039,2040,2040,2040,2040,2040],\"y\":[0.0,0.0,0.0,0.0,0.0,0.0,0.0,0.0,0.0,0.0,0.0,0.0,0.0,0.0,0.0,0.0,0.0,0.0,0.0,0.0,0.0,0.0,0.0,0.0,0.0,0.0,0.0,0.0,0.0,0.0,0.0,0.0,0.0,0.0,0.0,0.0,0.0,0.0,0.0,0.0,0.0,0.0,0.0,0.0,0.0,0.0,0.0,0.0,0.0,0.0,0.0,0.0,0.0,0.0,0.0,0.0,0.0,0.0,0.0,0.0,0.0,0.0,0.0,0.0,0.0,0.0,0.0,0.0,0.0,0.0,0.0,0.0,0.0,0.0,0.0,0.0,0.0,0.0,0.0,0.0],\"type\":\"scatter\",\"xaxis\":\"x3\",\"yaxis\":\"y3\"},{\"fill\":\"tonexty\",\"line\":{\"color\":\"red\"},\"name\":\"Electricity CO2 Emissions\",\"showlegend\":true,\"stackgroup\":\"1\",\"x\":[2025,2025,2025,2025,2025,2026,2026,2026,2026,2026,2027,2027,2027,2027,2027,2028,2028,2028,2028,2028,2029,2029,2029,2029,2029,2030,2030,2030,2030,2030,2031,2031,2031,2031,2031,2032,2032,2032,2032,2032,2033,2033,2033,2033,2033,2034,2034,2034,2034,2034,2035,2035,2035,2035,2035,2036,2036,2036,2036,2036,2037,2037,2037,2037,2037,2038,2038,2038,2038,2038,2039,2039,2039,2039,2039,2040,2040,2040,2040,2040],\"y\":[31197.328391938292,31197.328391938292,31197.328391938292,31197.328391938292,31197.328391938292,29759.520277227577,29759.520277227577,29759.520277227577,29759.520277227577,29759.520277227577,28387.977201264934,28387.977201264934,28387.977201264934,28387.977201264934,28387.977201264934,27079.645171438024,27079.645171438024,27079.645171438024,27079.645171438024,27079.645171438024,25831.61094614066,25831.61094614066,25831.61094614066,25831.61094614066,25831.61094614066,24641.09554790519,24641.09554790519,24641.09554790519,24641.09554790519,24641.09554790519,23505.448075498694,23505.448075498694,23505.448075498694,23505.448075498694,23505.448075498694,22422.139801204397,22422.139801204397,22422.139801204397,22422.139801204397,22422.139801204397,21388.75854014486,21388.75854014486,21388.75854014486,21388.75854014486,21388.75854014486,20403.003279109267,20403.003279109267,20403.003279109267,20403.003279109267,20403.003279109267,19462.67905292479,19462.67905292479,19462.67905292479,19462.67905292479,19462.67905292479,18565.69205696341,18565.69205696341,18565.69205696341,18565.69205696341,18565.69205696341,17710.044984901295,17710.044984901295,17710.044984901295,17710.044984901295,17710.044984901295,16893.83258134937,16893.83258134937,16893.83258134937,16893.83258134937,16893.83258134937,16115.237399452153,16115.237399452153,16115.237399452153,16115.237399452153,16115.237399452153,15372.525754008522,15372.525754008522,15372.525754008522,15372.525754008522,15372.525754008522],\"type\":\"scatter\",\"xaxis\":\"x3\",\"yaxis\":\"y3\"},{\"fill\":\"tonexty\",\"line\":{\"color\":\"yellow\"},\"name\":\"Solar CO2 Emissions\",\"showlegend\":true,\"x\":[2025,2025,2025,2025,2025,2026,2026,2026,2026,2026,2027,2027,2027,2027,2027,2028,2028,2028,2028,2028,2029,2029,2029,2029,2029,2030,2030,2030,2030,2030,2031,2031,2031,2031,2031,2032,2032,2032,2032,2032,2033,2033,2033,2033,2033,2034,2034,2034,2034,2034,2035,2035,2035,2035,2035,2036,2036,2036,2036,2036,2037,2037,2037,2037,2037,2038,2038,2038,2038,2038,2039,2039,2039,2039,2039,2040,2040,2040,2040,2040],\"y\":[-16048.476847589238,-16048.476847589238,-16048.476847589238,-16048.476847589238,-16048.476847589238,-15308.842031738357,-15308.842031738357,-15308.842031738357,-15308.842031738357,-15308.842031738357,-14603.295164919284,-14603.295164919284,-14603.295164919284,-14603.295164919284,-14603.295164919284,-13930.265217423446,-13930.265217423446,-13930.265217423446,-13930.265217423446,-13930.265217423446,-13288.253564436538,-13288.253564436538,-13288.253564436538,-13288.253564436538,-13288.253564436538,-12675.830649075053,-12675.830649075053,-12675.830649075053,-12675.830649075053,-12675.830649075053,-12091.632799215306,-12091.632799215306,-12091.632799215306,-12091.632799215306,-12091.632799215306,-11534.3591910269,-11534.3591910269,-11534.3591910269,-11534.3591910269,-11534.3591910269,-11002.768952449549,-11002.768952449549,-11002.768952449549,-11002.768952449549,-11002.768952449549,-10495.67840016344,-10495.67840016344,-10495.67840016344,-10495.67840016344,-10495.67840016344,-10011.958403900926,-10011.958403900926,-10011.958403900926,-10011.958403900926,-10011.958403900926,-9550.531872230516,-9550.531872230516,-9550.531872230516,-9550.531872230516,-9550.531872230516,-9110.371354214982,-9110.371354214982,-9110.371354214982,-9110.371354214982,-9110.371354214982,-8690.496751603076,-8690.496751603076,-8690.496751603076,-8690.496751603076,-8690.496751603076,-8289.973136460732,-8289.973136460732,-8289.973136460732,-8289.973136460732,-8289.973136460732,-7907.908669382291,-7907.908669382291,-7907.908669382291,-7907.908669382291,-7907.908669382291],\"type\":\"scatter\",\"xaxis\":\"x3\",\"yaxis\":\"y3\"},{\"fill\":\"tonexty\",\"line\":{\"color\":\"blue\"},\"name\":\"Net CO2 Emissions\",\"showlegend\":true,\"text\":\"Net Emissions\",\"x\":[2025,2025,2025,2025,2025,2026,2026,2026,2026,2026,2027,2027,2027,2027,2027,2028,2028,2028,2028,2028,2029,2029,2029,2029,2029,2030,2030,2030,2030,2030,2031,2031,2031,2031,2031,2032,2032,2032,2032,2032,2033,2033,2033,2033,2033,2034,2034,2034,2034,2034,2035,2035,2035,2035,2035,2036,2036,2036,2036,2036,2037,2037,2037,2037,2037,2038,2038,2038,2038,2038,2039,2039,2039,2039,2039,2040,2040,2040,2040,2040],\"y\":[15148.851544349049,15148.851544349049,15148.851544349049,15148.851544349049,15148.851544349049,14450.678245489218,14450.678245489218,14450.678245489218,14450.678245489218,14450.678245489218,13784.682036345654,13784.682036345654,13784.682036345654,13784.682036345654,13784.682036345654,13149.379954014577,13149.379954014577,13149.379954014577,13149.379954014577,13149.379954014577,12543.357381704122,12543.357381704122,12543.357381704122,12543.357381704122,12543.357381704122,11965.264898830137,11965.264898830137,11965.264898830137,11965.264898830137,11965.264898830137,11413.81527628339,11413.81527628339,11413.81527628339,11413.81527628339,11413.81527628339,10887.780610177493,10887.780610177493,10887.780610177493,10887.780610177493,10887.780610177493,10385.989587695314,10385.989587695314,10385.989587695314,10385.989587695314,10385.989587695314,9907.324878945825,9907.324878945825,9907.324878945825,9907.324878945825,9907.324878945825,9450.72064902386,9450.72064902386,9450.72064902386,9450.72064902386,9450.72064902386,9015.16018473289,9015.16018473289,9015.16018473289,9015.16018473289,9015.16018473289,8599.673630686313,8599.673630686313,8599.673630686313,8599.673630686313,8599.673630686313,8203.335829746293,8203.335829746293,8203.335829746293,8203.335829746293,8203.335829746293,7825.264262991423,7825.264262991423,7825.264262991423,7825.264262991423,7825.264262991423,7464.617084626233,7464.617084626233,7464.617084626233,7464.617084626233,7464.617084626233],\"type\":\"scatter\",\"xaxis\":\"x6\",\"yaxis\":\"y6\"},{\"showlegend\":false,\"x\":[29849,33649,31149,11199,34249,21949,12200,26499,28699,32049,30499,26149,29299,33449,31999,45049,46949,30999,45149,48149,34199,46549,48949,35799,27299,48849,56249,47749,47649,59649,47949,30299,53749,37749,57349,41999,63949,43899,65249,65649,73549,69649,75849,74249,73549],\"type\":\"histogram\",\"xaxis\":\"x9\",\"yaxis\":\"y9\"}],                        {\"template\":{\"data\":{\"histogram2dcontour\":[{\"type\":\"histogram2dcontour\",\"colorbar\":{\"outlinewidth\":0,\"ticks\":\"\"},\"colorscale\":[[0.0,\"#0d0887\"],[0.1111111111111111,\"#46039f\"],[0.2222222222222222,\"#7201a8\"],[0.3333333333333333,\"#9c179e\"],[0.4444444444444444,\"#bd3786\"],[0.5555555555555556,\"#d8576b\"],[0.6666666666666666,\"#ed7953\"],[0.7777777777777778,\"#fb9f3a\"],[0.8888888888888888,\"#fdca26\"],[1.0,\"#f0f921\"]]}],\"choropleth\":[{\"type\":\"choropleth\",\"colorbar\":{\"outlinewidth\":0,\"ticks\":\"\"}}],\"histogram2d\":[{\"type\":\"histogram2d\",\"colorbar\":{\"outlinewidth\":0,\"ticks\":\"\"},\"colorscale\":[[0.0,\"#0d0887\"],[0.1111111111111111,\"#46039f\"],[0.2222222222222222,\"#7201a8\"],[0.3333333333333333,\"#9c179e\"],[0.4444444444444444,\"#bd3786\"],[0.5555555555555556,\"#d8576b\"],[0.6666666666666666,\"#ed7953\"],[0.7777777777777778,\"#fb9f3a\"],[0.8888888888888888,\"#fdca26\"],[1.0,\"#f0f921\"]]}],\"heatmap\":[{\"type\":\"heatmap\",\"colorbar\":{\"outlinewidth\":0,\"ticks\":\"\"},\"colorscale\":[[0.0,\"#0d0887\"],[0.1111111111111111,\"#46039f\"],[0.2222222222222222,\"#7201a8\"],[0.3333333333333333,\"#9c179e\"],[0.4444444444444444,\"#bd3786\"],[0.5555555555555556,\"#d8576b\"],[0.6666666666666666,\"#ed7953\"],[0.7777777777777778,\"#fb9f3a\"],[0.8888888888888888,\"#fdca26\"],[1.0,\"#f0f921\"]]}],\"heatmapgl\":[{\"type\":\"heatmapgl\",\"colorbar\":{\"outlinewidth\":0,\"ticks\":\"\"},\"colorscale\":[[0.0,\"#0d0887\"],[0.1111111111111111,\"#46039f\"],[0.2222222222222222,\"#7201a8\"],[0.3333333333333333,\"#9c179e\"],[0.4444444444444444,\"#bd3786\"],[0.5555555555555556,\"#d8576b\"],[0.6666666666666666,\"#ed7953\"],[0.7777777777777778,\"#fb9f3a\"],[0.8888888888888888,\"#fdca26\"],[1.0,\"#f0f921\"]]}],\"contourcarpet\":[{\"type\":\"contourcarpet\",\"colorbar\":{\"outlinewidth\":0,\"ticks\":\"\"}}],\"contour\":[{\"type\":\"contour\",\"colorbar\":{\"outlinewidth\":0,\"ticks\":\"\"},\"colorscale\":[[0.0,\"#0d0887\"],[0.1111111111111111,\"#46039f\"],[0.2222222222222222,\"#7201a8\"],[0.3333333333333333,\"#9c179e\"],[0.4444444444444444,\"#bd3786\"],[0.5555555555555556,\"#d8576b\"],[0.6666666666666666,\"#ed7953\"],[0.7777777777777778,\"#fb9f3a\"],[0.8888888888888888,\"#fdca26\"],[1.0,\"#f0f921\"]]}],\"surface\":[{\"type\":\"surface\",\"colorbar\":{\"outlinewidth\":0,\"ticks\":\"\"},\"colorscale\":[[0.0,\"#0d0887\"],[0.1111111111111111,\"#46039f\"],[0.2222222222222222,\"#7201a8\"],[0.3333333333333333,\"#9c179e\"],[0.4444444444444444,\"#bd3786\"],[0.5555555555555556,\"#d8576b\"],[0.6666666666666666,\"#ed7953\"],[0.7777777777777778,\"#fb9f3a\"],[0.8888888888888888,\"#fdca26\"],[1.0,\"#f0f921\"]]}],\"mesh3d\":[{\"type\":\"mesh3d\",\"colorbar\":{\"outlinewidth\":0,\"ticks\":\"\"}}],\"scatter\":[{\"fillpattern\":{\"fillmode\":\"overlay\",\"size\":10,\"solidity\":0.2},\"type\":\"scatter\"}],\"parcoords\":[{\"type\":\"parcoords\",\"line\":{\"colorbar\":{\"outlinewidth\":0,\"ticks\":\"\"}}}],\"scatterpolargl\":[{\"type\":\"scatterpolargl\",\"marker\":{\"colorbar\":{\"outlinewidth\":0,\"ticks\":\"\"}}}],\"bar\":[{\"error_x\":{\"color\":\"#2a3f5f\"},\"error_y\":{\"color\":\"#2a3f5f\"},\"marker\":{\"line\":{\"color\":\"#E5ECF6\",\"width\":0.5},\"pattern\":{\"fillmode\":\"overlay\",\"size\":10,\"solidity\":0.2}},\"type\":\"bar\"}],\"scattergeo\":[{\"type\":\"scattergeo\",\"marker\":{\"colorbar\":{\"outlinewidth\":0,\"ticks\":\"\"}}}],\"scatterpolar\":[{\"type\":\"scatterpolar\",\"marker\":{\"colorbar\":{\"outlinewidth\":0,\"ticks\":\"\"}}}],\"histogram\":[{\"marker\":{\"pattern\":{\"fillmode\":\"overlay\",\"size\":10,\"solidity\":0.2}},\"type\":\"histogram\"}],\"scattergl\":[{\"type\":\"scattergl\",\"marker\":{\"colorbar\":{\"outlinewidth\":0,\"ticks\":\"\"}}}],\"scatter3d\":[{\"type\":\"scatter3d\",\"line\":{\"colorbar\":{\"outlinewidth\":0,\"ticks\":\"\"}},\"marker\":{\"colorbar\":{\"outlinewidth\":0,\"ticks\":\"\"}}}],\"scattermapbox\":[{\"type\":\"scattermapbox\",\"marker\":{\"colorbar\":{\"outlinewidth\":0,\"ticks\":\"\"}}}],\"scatterternary\":[{\"type\":\"scatterternary\",\"marker\":{\"colorbar\":{\"outlinewidth\":0,\"ticks\":\"\"}}}],\"scattercarpet\":[{\"type\":\"scattercarpet\",\"marker\":{\"colorbar\":{\"outlinewidth\":0,\"ticks\":\"\"}}}],\"carpet\":[{\"aaxis\":{\"endlinecolor\":\"#2a3f5f\",\"gridcolor\":\"white\",\"linecolor\":\"white\",\"minorgridcolor\":\"white\",\"startlinecolor\":\"#2a3f5f\"},\"baxis\":{\"endlinecolor\":\"#2a3f5f\",\"gridcolor\":\"white\",\"linecolor\":\"white\",\"minorgridcolor\":\"white\",\"startlinecolor\":\"#2a3f5f\"},\"type\":\"carpet\"}],\"table\":[{\"cells\":{\"fill\":{\"color\":\"#EBF0F8\"},\"line\":{\"color\":\"white\"}},\"header\":{\"fill\":{\"color\":\"#C8D4E3\"},\"line\":{\"color\":\"white\"}},\"type\":\"table\"}],\"barpolar\":[{\"marker\":{\"line\":{\"color\":\"#E5ECF6\",\"width\":0.5},\"pattern\":{\"fillmode\":\"overlay\",\"size\":10,\"solidity\":0.2}},\"type\":\"barpolar\"}],\"pie\":[{\"automargin\":true,\"type\":\"pie\"}]},\"layout\":{\"autotypenumbers\":\"strict\",\"colorway\":[\"#636efa\",\"#EF553B\",\"#00cc96\",\"#ab63fa\",\"#FFA15A\",\"#19d3f3\",\"#FF6692\",\"#B6E880\",\"#FF97FF\",\"#FECB52\"],\"font\":{\"color\":\"#2a3f5f\"},\"hovermode\":\"closest\",\"hoverlabel\":{\"align\":\"left\"},\"paper_bgcolor\":\"white\",\"plot_bgcolor\":\"#E5ECF6\",\"polar\":{\"bgcolor\":\"#E5ECF6\",\"angularaxis\":{\"gridcolor\":\"white\",\"linecolor\":\"white\",\"ticks\":\"\"},\"radialaxis\":{\"gridcolor\":\"white\",\"linecolor\":\"white\",\"ticks\":\"\"}},\"ternary\":{\"bgcolor\":\"#E5ECF6\",\"aaxis\":{\"gridcolor\":\"white\",\"linecolor\":\"white\",\"ticks\":\"\"},\"baxis\":{\"gridcolor\":\"white\",\"linecolor\":\"white\",\"ticks\":\"\"},\"caxis\":{\"gridcolor\":\"white\",\"linecolor\":\"white\",\"ticks\":\"\"}},\"coloraxis\":{\"colorbar\":{\"outlinewidth\":0,\"ticks\":\"\"}},\"colorscale\":{\"sequential\":[[0.0,\"#0d0887\"],[0.1111111111111111,\"#46039f\"],[0.2222222222222222,\"#7201a8\"],[0.3333333333333333,\"#9c179e\"],[0.4444444444444444,\"#bd3786\"],[0.5555555555555556,\"#d8576b\"],[0.6666666666666666,\"#ed7953\"],[0.7777777777777778,\"#fb9f3a\"],[0.8888888888888888,\"#fdca26\"],[1.0,\"#f0f921\"]],\"sequentialminus\":[[0.0,\"#0d0887\"],[0.1111111111111111,\"#46039f\"],[0.2222222222222222,\"#7201a8\"],[0.3333333333333333,\"#9c179e\"],[0.4444444444444444,\"#bd3786\"],[0.5555555555555556,\"#d8576b\"],[0.6666666666666666,\"#ed7953\"],[0.7777777777777778,\"#fb9f3a\"],[0.8888888888888888,\"#fdca26\"],[1.0,\"#f0f921\"]],\"diverging\":[[0,\"#8e0152\"],[0.1,\"#c51b7d\"],[0.2,\"#de77ae\"],[0.3,\"#f1b6da\"],[0.4,\"#fde0ef\"],[0.5,\"#f7f7f7\"],[0.6,\"#e6f5d0\"],[0.7,\"#b8e186\"],[0.8,\"#7fbc41\"],[0.9,\"#4d9221\"],[1,\"#276419\"]]},\"xaxis\":{\"gridcolor\":\"white\",\"linecolor\":\"white\",\"ticks\":\"\",\"title\":{\"standoff\":15},\"zerolinecolor\":\"white\",\"automargin\":true,\"zerolinewidth\":2},\"yaxis\":{\"gridcolor\":\"white\",\"linecolor\":\"white\",\"ticks\":\"\",\"title\":{\"standoff\":15},\"zerolinecolor\":\"white\",\"automargin\":true,\"zerolinewidth\":2},\"scene\":{\"xaxis\":{\"backgroundcolor\":\"#E5ECF6\",\"gridcolor\":\"white\",\"linecolor\":\"white\",\"showbackground\":true,\"ticks\":\"\",\"zerolinecolor\":\"white\",\"gridwidth\":2},\"yaxis\":{\"backgroundcolor\":\"#E5ECF6\",\"gridcolor\":\"white\",\"linecolor\":\"white\",\"showbackground\":true,\"ticks\":\"\",\"zerolinecolor\":\"white\",\"gridwidth\":2},\"zaxis\":{\"backgroundcolor\":\"#E5ECF6\",\"gridcolor\":\"white\",\"linecolor\":\"white\",\"showbackground\":true,\"ticks\":\"\",\"zerolinecolor\":\"white\",\"gridwidth\":2}},\"shapedefaults\":{\"line\":{\"color\":\"#2a3f5f\"}},\"annotationdefaults\":{\"arrowcolor\":\"#2a3f5f\",\"arrowhead\":0,\"arrowwidth\":1},\"geo\":{\"bgcolor\":\"white\",\"landcolor\":\"#E5ECF6\",\"subunitcolor\":\"white\",\"showland\":true,\"showlakes\":true,\"lakecolor\":\"white\"},\"title\":{\"x\":0.05},\"mapbox\":{\"style\":\"light\"}}},\"xaxis\":{\"anchor\":\"y\",\"domain\":[0.0,0.2888888888888889],\"title\":{\"text\":\"Year\"}},\"yaxis\":{\"anchor\":\"x\",\"domain\":[0.7777777777777778,1.0],\"title\":{\"text\":\"Gross CO2 Emissions (kg)\"},\"range\":[-45000,120000]},\"xaxis2\":{\"anchor\":\"y2\",\"domain\":[0.35555555555555557,0.6444444444444445],\"title\":{\"text\":\"Year\"}},\"yaxis2\":{\"anchor\":\"x2\",\"domain\":[0.7777777777777778,1.0],\"matches\":\"y\",\"showticklabels\":false,\"range\":[-45000,120000]},\"xaxis3\":{\"anchor\":\"y3\",\"domain\":[0.7111111111111111,1.0],\"title\":{\"text\":\"Year\"}},\"yaxis3\":{\"anchor\":\"x3\",\"domain\":[0.7777777777777778,1.0],\"matches\":\"y\",\"showticklabels\":false,\"range\":[-45000,120000]},\"xaxis4\":{\"anchor\":\"y4\",\"domain\":[0.0,0.2888888888888889]},\"yaxis4\":{\"anchor\":\"x4\",\"domain\":[0.3888888888888889,0.6111111111111112],\"title\":{\"text\":\"Net CO2 Emissions (kg)\"},\"range\":[-20000,100000]},\"xaxis5\":{\"anchor\":\"y5\",\"domain\":[0.35555555555555557,0.6444444444444445]},\"yaxis5\":{\"anchor\":\"x5\",\"domain\":[0.3888888888888889,0.6111111111111112],\"matches\":\"y4\",\"showticklabels\":false,\"range\":[-20000,100000]},\"xaxis6\":{\"anchor\":\"y6\",\"domain\":[0.7111111111111111,1.0]},\"yaxis6\":{\"anchor\":\"x6\",\"domain\":[0.3888888888888889,0.6111111111111112],\"matches\":\"y4\",\"showticklabels\":false,\"range\":[-20000,100000]},\"xaxis7\":{\"anchor\":\"y7\",\"domain\":[0.0,0.2888888888888889],\"title\":{\"text\":\"Investment cost [\\u20ac]\"}},\"yaxis7\":{\"anchor\":\"x7\",\"domain\":[0.0,0.22222222222222224],\"title\":{\"text\":\"Count\"},\"range\":[0,30]},\"xaxis8\":{\"anchor\":\"y8\",\"domain\":[0.35555555555555557,0.6444444444444445],\"title\":{\"text\":\"Investment cost [\\u20ac]\"}},\"yaxis8\":{\"anchor\":\"x8\",\"domain\":[0.0,0.22222222222222224],\"matches\":\"y7\",\"showticklabels\":false,\"range\":[0,30]},\"xaxis9\":{\"anchor\":\"y9\",\"domain\":[0.7111111111111111,1.0],\"title\":{\"text\":\"Investment cost [\\u20ac]\"}},\"yaxis9\":{\"anchor\":\"x9\",\"domain\":[0.0,0.22222222222222224],\"matches\":\"y7\",\"showticklabels\":false,\"range\":[0,30]},\"annotations\":[{\"font\":{\"size\":16},\"showarrow\":false,\"text\":\"GESLOTEN\",\"x\":0.14444444444444446,\"xanchor\":\"center\",\"xref\":\"paper\",\"y\":1.0,\"yanchor\":\"bottom\",\"yref\":\"paper\"},{\"font\":{\"size\":16},\"showarrow\":false,\"text\":\"HALF_OPEN\",\"x\":0.5,\"xanchor\":\"center\",\"xref\":\"paper\",\"y\":1.0,\"yanchor\":\"bottom\",\"yref\":\"paper\"},{\"font\":{\"size\":16},\"showarrow\":false,\"text\":\"OPEN\",\"x\":0.8555555555555556,\"xanchor\":\"center\",\"xref\":\"paper\",\"y\":1.0,\"yanchor\":\"bottom\",\"yref\":\"paper\"}],\"title\":{\"text\":\"CO2 Emissions Over Years by Building Type with heat pumps and A labels\"},\"showlegend\":true,\"height\":1000,\"width\":1800},                        {\"responsive\": true}                    ).then(function(){\n",
       "                            \n",
       "var gd = document.getElementById('17ebb3a7-0a67-47a7-bce0-06a51a9c9c45');\n",
       "var x = new MutationObserver(function (mutations, observer) {{\n",
       "        var display = window.getComputedStyle(gd).display;\n",
       "        if (!display || display === 'none') {{\n",
       "            console.log([gd, 'removed!']);\n",
       "            Plotly.purge(gd);\n",
       "            observer.disconnect();\n",
       "        }}\n",
       "}});\n",
       "\n",
       "// Listen for the removal of the full notebook cells\n",
       "var notebookContainer = gd.closest('#notebook-container');\n",
       "if (notebookContainer) {{\n",
       "    x.observe(notebookContainer, {childList: true});\n",
       "}}\n",
       "\n",
       "// Listen for the clearing of the current output cell\n",
       "var outputEl = gd.closest('.output');\n",
       "if (outputEl) {{\n",
       "    x.observe(outputEl, {childList: true});\n",
       "}}\n",
       "\n",
       "                        })                };                });            </script>        </div>"
      ]
     },
     "metadata": {},
     "output_type": "display_data"
    }
   ],
   "source": [
    "import pandas as pd\n",
    "import plotly.graph_objects as go\n",
    "from plotly.subplots import make_subplots\n",
    "\n",
    "\n",
    "# Filter the DataFrame\n",
    "testcase2 = df[(df['epc_ind'] <= 100) & (df['heating_system'] == 'Heat Pump')& (df['dhw_system'] == 'HP Boiler')].sort_values(by='tco', ascending=True).drop_duplicates(subset=['name'], keep='first')\n",
    "\n",
    "# Extract the years from the columns\n",
    "years = sorted([int(col.split('_')[-1]) for col in testcase2.columns if 'emissions_' in col])\n",
    "\n",
    "# Initialize lists to store the data\n",
    "data = []\n",
    "\n",
    "# Collect data for each year and each building type\n",
    "for year in years:\n",
    "    for building_type, group in testcase2.groupby('building_type'):\n",
    "        modified_emissions = group[f'modified_emissions_{year}'].sum()\n",
    "        fossil_emissions = group[f'fossil_emissions_{year}'].sum()\n",
    "        electricity_emissions = group[f'electricity_emissions_{year}'].sum()\n",
    "        solar_emissions = group[f'solar_injection_emissions_{year}'].sum() * -1  # Make solar emissions negative\n",
    "        net_emissions = group[f'emissions_{year}'].sum()\n",
    "        data.append([year, building_type, 'Modified CO2 Emissions', modified_emissions])\n",
    "        data.append([year, building_type, 'Solar CO2 Emissions', solar_emissions])\n",
    "        data.append([year, building_type, 'Net Emissions', net_emissions])\n",
    "        data.append([year, building_type, 'Fossil Emissions', fossil_emissions])\n",
    "        data.append([year, building_type, 'Electricity Emissions', electricity_emissions])\n",
    "\n",
    "# Create a DataFrame from the collected data\n",
    "emissions_df = pd.DataFrame(data, columns=['Year', 'Building Type', 'Emissions Type', 'Emissions'])\n",
    "\n",
    "# Get unique building types\n",
    "building_types = emissions_df['Building Type'].unique()\n",
    "\n",
    "# Create subplots\n",
    "fig = make_subplots(rows=3, cols=len(building_types), shared_yaxes=True, subplot_titles=building_types)\n",
    "\n",
    "# Add traces for each building type\n",
    "for i, building_type in enumerate(building_types, start=1):\n",
    "    subset = emissions_df[emissions_df['Building Type'] == building_type]\n",
    "    fig.add_trace(go.Scatter(\n",
    "        x=subset[subset['Emissions Type'] == 'Fossil Emissions']['Year'],\n",
    "        y=subset[subset['Emissions Type'] == 'Fossil Emissions']['Emissions'],\n",
    "        fill='tonexty',\n",
    "        name=f'Fossil fuel CO2 Emissions',\n",
    "        stackgroup = '1',\n",
    "        line=dict(color=\"grey\"),\n",
    "        showlegend = True if building_type == 'OPEN' else False \n",
    "    ), row=1, col=i)\n",
    "    fig.add_trace(go.Scatter(\n",
    "        x=subset[subset['Emissions Type'] == 'Electricity Emissions']['Year'],\n",
    "        y=subset[subset['Emissions Type'] == 'Electricity Emissions']['Emissions'],\n",
    "        fill='tonexty',\n",
    "        stackgroup = '1',\n",
    "        name=f'Electricity CO2 Emissions', \n",
    "        line=dict(color=\"red\"),\n",
    "        showlegend = True if building_type == 'OPEN' else False \n",
    "    ), row=1, col=i)\n",
    "\n",
    "    # fig.add_trace(go.Scatter(\n",
    "    #     x=subset[subset['Emissions Type'] == 'Modified CO2 Emissions']['Year'],\n",
    "    #     y=subset[subset['Emissions Type'] == 'Modified CO2 Emissions']['Emissions'],\n",
    "    #     fill='tonexty',\n",
    "    #     name=f'{building_type} - Modified CO2 Emissions'\n",
    "    # ), row=1, col=i)\n",
    "    fig.add_trace(go.Scatter(\n",
    "        x=subset[subset['Emissions Type'] == 'Solar CO2 Emissions']['Year'],\n",
    "        y=subset[subset['Emissions Type'] == 'Solar CO2 Emissions']['Emissions'],\n",
    "        fill='tonexty',\n",
    "        name=f'Solar CO2 Emissions', \n",
    "        line=dict(color=\"yellow\"),\n",
    "        showlegend = True if building_type == 'OPEN' else False \n",
    "    ), row=1, col=i)\n",
    "    fig.add_trace(go.Scatter(\n",
    "        x=subset[subset['Emissions Type'] == 'Net Emissions']['Year'],\n",
    "        y=subset[subset['Emissions Type'] == 'Net Emissions']['Emissions'],\n",
    "        fill='tonexty',\n",
    "        text = 'Net Emissions',\n",
    "        name=f'Net CO2 Emissions', \n",
    "        line=dict(color=\"blue\"),\n",
    "        showlegend = True if building_type == 'OPEN' else False \n",
    "    ), row=2, col=i)\n",
    "    \n",
    "    fig.add_trace(go.Histogram(x = testcase2[testcase2.building_type == building_type].total_investment_cost, showlegend = False), row = 3, col = i)\n",
    "\n",
    "\n",
    "# Update layout\n",
    "fig.update_layout(\n",
    "    title='CO2 Emissions Over Years by Building Type with heat pumps and A labels',\n",
    "    xaxis_title='Year',\n",
    "    yaxis_title='CO2 Emissions (kg)',\n",
    "    showlegend=True,\n",
    "    height = 1000, width = 1800,\n",
    "\n",
    ")\n",
    "\n",
    "# Update x-axes titles for each subplot\n",
    "for i in range(1, len(building_types) + 1):\n",
    "    fig.update_xaxes(title_text='Year', row=1, col=i)\n",
    "\n",
    "# Update y-axis title only for the first subplot\n",
    "fig.update_yaxes(title_text='Gross CO2 Emissions (kg)', row=1, col=1)\n",
    "fig.update_yaxes(title_text='Net CO2 Emissions (kg)', row=2, col=1)\n",
    "fig.update_yaxes(title_text='Count', row=3, col=1)\n",
    "fig.update_yaxes(range = [-45000, 120000], row = 1)\n",
    "fig.update_yaxes(range = [-20000, 100000], row = 2)\n",
    "fig.update_yaxes(range = [0, 30], row = 3)\n",
    "for i in range(len(building_types)+ 1):\n",
    "    fig.update_xaxes(title_text='Investment cost [€]', row=3, col=i)\n",
    "# Show the plot\n",
    "fig.show()"
   ]
  },
  {
   "cell_type": "code",
   "execution_count": 36,
   "metadata": {},
   "outputs": [
    {
     "data": {
      "text/html": [
       "<div>\n",
       "<style scoped>\n",
       "    .dataframe tbody tr th:only-of-type {\n",
       "        vertical-align: middle;\n",
       "    }\n",
       "\n",
       "    .dataframe tbody tr th {\n",
       "        vertical-align: top;\n",
       "    }\n",
       "\n",
       "    .dataframe thead th {\n",
       "        text-align: right;\n",
       "    }\n",
       "</style>\n",
       "<table border=\"1\" class=\"dataframe\">\n",
       "  <thead>\n",
       "    <tr style=\"text-align: right;\">\n",
       "      <th></th>\n",
       "      <th>heating_consumption</th>\n",
       "      <th>domestic_hot_water_consumption</th>\n",
       "      <th>electricity_consumption</th>\n",
       "      <th>gas_consumption</th>\n",
       "      <th>oil_consumption</th>\n",
       "      <th>scenario_name</th>\n",
       "    </tr>\n",
       "  </thead>\n",
       "  <tbody>\n",
       "  </tbody>\n",
       "</table>\n",
       "</div>"
      ],
      "text/plain": [
       "Empty DataFrame\n",
       "Columns: [heating_consumption, domestic_hot_water_consumption, electricity_consumption, gas_consumption, oil_consumption, scenario_name]\n",
       "Index: []"
      ]
     },
     "execution_count": 36,
     "metadata": {},
     "output_type": "execute_result"
    }
   ],
   "source": [
    "testcase2[testcase2.oil_consumption > 0][['heating_consumption', 'domestic_hot_water_consumption', 'electricity_consumption', 'gas_consumption', 'oil_consumption', 'scenario_name']]"
   ]
  },
  {
   "cell_type": "code",
   "execution_count": 37,
   "metadata": {},
   "outputs": [
    {
     "data": {
      "application/vnd.plotly.v1+json": {
       "config": {
        "plotlyServerURL": "https://plot.ly"
       },
       "data": [
        {
         "fill": "tonexty",
         "line": {
          "color": "grey"
         },
         "name": "Fossil fuel CO2 Emissions",
         "showlegend": false,
         "stackgroup": "1",
         "type": "scatter",
         "x": [
          2025,
          2025,
          2025,
          2025,
          2025,
          2026,
          2026,
          2026,
          2026,
          2026,
          2027,
          2027,
          2027,
          2027,
          2027,
          2028,
          2028,
          2028,
          2028,
          2028,
          2029,
          2029,
          2029,
          2029,
          2029,
          2030,
          2030,
          2030,
          2030,
          2030,
          2031,
          2031,
          2031,
          2031,
          2031,
          2032,
          2032,
          2032,
          2032,
          2032,
          2033,
          2033,
          2033,
          2033,
          2033,
          2034,
          2034,
          2034,
          2034,
          2034,
          2035,
          2035,
          2035,
          2035,
          2035,
          2036,
          2036,
          2036,
          2036,
          2036,
          2037,
          2037,
          2037,
          2037,
          2037,
          2038,
          2038,
          2038,
          2038,
          2038,
          2039,
          2039,
          2039,
          2039,
          2039,
          2040,
          2040,
          2040,
          2040,
          2040
         ],
         "xaxis": "x",
         "y": [
          75625.80480000001,
          75625.80480000001,
          75625.80480000001,
          75625.80480000001,
          75625.80480000001,
          75625.80480000001,
          75625.80480000001,
          75625.80480000001,
          75625.80480000001,
          75625.80480000001,
          75625.80480000001,
          75625.80480000001,
          75625.80480000001,
          75625.80480000001,
          75625.80480000001,
          75625.80480000001,
          75625.80480000001,
          75625.80480000001,
          75625.80480000001,
          75625.80480000001,
          75625.80480000001,
          75625.80480000001,
          75625.80480000001,
          75625.80480000001,
          75625.80480000001,
          75625.80480000001,
          75625.80480000001,
          75625.80480000001,
          75625.80480000001,
          75625.80480000001,
          75625.80480000001,
          75625.80480000001,
          75625.80480000001,
          75625.80480000001,
          75625.80480000001,
          75625.80480000001,
          75625.80480000001,
          75625.80480000001,
          75625.80480000001,
          75625.80480000001,
          75625.80480000001,
          75625.80480000001,
          75625.80480000001,
          75625.80480000001,
          75625.80480000001,
          75625.80480000001,
          75625.80480000001,
          75625.80480000001,
          75625.80480000001,
          75625.80480000001,
          75625.80480000001,
          75625.80480000001,
          75625.80480000001,
          75625.80480000001,
          75625.80480000001,
          75625.80480000001,
          75625.80480000001,
          75625.80480000001,
          75625.80480000001,
          75625.80480000001,
          75625.80480000001,
          75625.80480000001,
          75625.80480000001,
          75625.80480000001,
          75625.80480000001,
          75625.80480000001,
          75625.80480000001,
          75625.80480000001,
          75625.80480000001,
          75625.80480000001,
          75625.80480000001,
          75625.80480000001,
          75625.80480000001,
          75625.80480000001,
          75625.80480000001,
          75625.80480000001,
          75625.80480000001,
          75625.80480000001,
          75625.80480000001,
          75625.80480000001
         ],
         "yaxis": "y"
        },
        {
         "fill": "tonexty",
         "line": {
          "color": "red"
         },
         "name": "Electricity CO2 Emissions",
         "showlegend": false,
         "stackgroup": "1",
         "type": "scatter",
         "x": [
          2025,
          2025,
          2025,
          2025,
          2025,
          2026,
          2026,
          2026,
          2026,
          2026,
          2027,
          2027,
          2027,
          2027,
          2027,
          2028,
          2028,
          2028,
          2028,
          2028,
          2029,
          2029,
          2029,
          2029,
          2029,
          2030,
          2030,
          2030,
          2030,
          2030,
          2031,
          2031,
          2031,
          2031,
          2031,
          2032,
          2032,
          2032,
          2032,
          2032,
          2033,
          2033,
          2033,
          2033,
          2033,
          2034,
          2034,
          2034,
          2034,
          2034,
          2035,
          2035,
          2035,
          2035,
          2035,
          2036,
          2036,
          2036,
          2036,
          2036,
          2037,
          2037,
          2037,
          2037,
          2037,
          2038,
          2038,
          2038,
          2038,
          2038,
          2039,
          2039,
          2039,
          2039,
          2039,
          2040,
          2040,
          2040,
          2040,
          2040
         ],
         "xaxis": "x",
         "y": [
          8907.190971571254,
          8907.190971571254,
          8907.190971571254,
          8907.190971571254,
          8907.190971571254,
          8496.680452936185,
          8496.680452936185,
          8496.680452936185,
          8496.680452936185,
          8496.680452936185,
          8105.089354177471,
          8105.089354177471,
          8105.089354177471,
          8105.089354177471,
          8105.089354177471,
          7731.545725778087,
          7731.545725778087,
          7731.545725778087,
          7731.545725778087,
          7731.545725778087,
          7375.217804229099,
          7375.217804229099,
          7375.217804229099,
          7375.217804229099,
          7375.217804229099,
          7035.312159955415,
          7035.312159955415,
          7035.312159955415,
          7035.312159955415,
          7035.312159955415,
          6711.071930599084,
          6711.071930599084,
          6711.071930599084,
          6711.071930599084,
          6711.071930599084,
          6401.775135726222,
          6401.775135726222,
          6401.775135726222,
          6401.775135726222,
          6401.775135726222,
          6106.7330692049445,
          6106.7330692049445,
          6106.7330692049445,
          6106.7330692049445,
          6106.7330692049445,
          5825.288765674645,
          5825.288765674645,
          5825.288765674645,
          5825.288765674645,
          5825.288765674645,
          5556.815537691941,
          5556.815537691941,
          5556.815537691941,
          5556.815537691941,
          5556.815537691941,
          5300.715580295952,
          5300.715580295952,
          5300.715580295952,
          5300.715580295952,
          5300.715580295952,
          5056.4186398857455,
          5056.4186398857455,
          5056.4186398857455,
          5056.4186398857455,
          5056.4186398857455,
          4823.380744445927,
          4823.380744445927,
          4823.380744445927,
          4823.380744445927,
          4823.380744445927,
          4601.082992293028,
          4601.082992293028,
          4601.082992293028,
          4601.082992293028,
          4601.082992293028,
          4389.0303966455795,
          4389.0303966455795,
          4389.0303966455795,
          4389.0303966455795,
          4389.0303966455795
         ],
         "yaxis": "y"
        },
        {
         "fill": "tonexty",
         "line": {
          "color": "yellow"
         },
         "name": "Solar CO2 Emissions",
         "showlegend": false,
         "type": "scatter",
         "x": [
          2025,
          2025,
          2025,
          2025,
          2025,
          2026,
          2026,
          2026,
          2026,
          2026,
          2027,
          2027,
          2027,
          2027,
          2027,
          2028,
          2028,
          2028,
          2028,
          2028,
          2029,
          2029,
          2029,
          2029,
          2029,
          2030,
          2030,
          2030,
          2030,
          2030,
          2031,
          2031,
          2031,
          2031,
          2031,
          2032,
          2032,
          2032,
          2032,
          2032,
          2033,
          2033,
          2033,
          2033,
          2033,
          2034,
          2034,
          2034,
          2034,
          2034,
          2035,
          2035,
          2035,
          2035,
          2035,
          2036,
          2036,
          2036,
          2036,
          2036,
          2037,
          2037,
          2037,
          2037,
          2037,
          2038,
          2038,
          2038,
          2038,
          2038,
          2039,
          2039,
          2039,
          2039,
          2039,
          2040,
          2040,
          2040,
          2040,
          2040
         ],
         "xaxis": "x",
         "y": [
          -21703.284567721614,
          -21703.284567721614,
          -21703.284567721614,
          -21703.284567721614,
          -21703.284567721614,
          -20703.03357586393,
          -20703.03357586393,
          -20703.03357586393,
          -20703.03357586393,
          -20703.03357586393,
          -19748.88169142894,
          -19748.88169142894,
          -19748.88169142894,
          -19748.88169142894,
          -19748.88169142894,
          -18838.70431996735,
          -18838.70431996735,
          -18838.70431996735,
          -18838.70431996735,
          -18838.70431996735,
          -17970.474784361217,
          -17970.474784361217,
          -17970.474784361217,
          -17970.474784361217,
          -17970.474784361217,
          -17142.259812054945,
          -17142.259812054945,
          -17142.259812054945,
          -17142.259812054945,
          -17142.259812054945,
          -16352.215230268866,
          -16352.215230268866,
          -16352.215230268866,
          -16352.215230268866,
          -16352.215230268866,
          -15598.58185960972,
          -15598.58185960972,
          -15598.58185960972,
          -15598.58185960972,
          -15598.58185960972,
          -14879.68159693461,
          -14879.68159693461,
          -14879.68159693461,
          -14879.68159693461,
          -14879.68159693461,
          -14193.913678746056,
          -14193.913678746056,
          -14193.913678746056,
          -14193.913678746056,
          -14193.913678746056,
          -13539.751116798023,
          -13539.751116798023,
          -13539.751116798023,
          -13539.751116798023,
          -13539.751116798023,
          -12915.737297976084,
          -12915.737297976084,
          -12915.737297976084,
          -12915.737297976084,
          -12915.737297976084,
          -12320.482740880725,
          -12320.482740880725,
          -12320.482740880725,
          -12320.482740880725,
          -12320.482740880725,
          -11752.662001891767,
          -11752.662001891767,
          -11752.662001891767,
          -11752.662001891767,
          -11752.662001891767,
          -11211.010723824675,
          -11211.010723824675,
          -11211.010723824675,
          -11211.010723824675,
          -11211.010723824675,
          -10694.322820606998,
          -10694.322820606998,
          -10694.322820606998,
          -10694.322820606998,
          -10694.322820606998
         ],
         "yaxis": "y"
        },
        {
         "fill": "tonexty",
         "line": {
          "color": "blue"
         },
         "name": "Net CO2 Emissions",
         "showlegend": false,
         "text": "Net Emissions",
         "type": "scatter",
         "x": [
          2025,
          2025,
          2025,
          2025,
          2025,
          2026,
          2026,
          2026,
          2026,
          2026,
          2027,
          2027,
          2027,
          2027,
          2027,
          2028,
          2028,
          2028,
          2028,
          2028,
          2029,
          2029,
          2029,
          2029,
          2029,
          2030,
          2030,
          2030,
          2030,
          2030,
          2031,
          2031,
          2031,
          2031,
          2031,
          2032,
          2032,
          2032,
          2032,
          2032,
          2033,
          2033,
          2033,
          2033,
          2033,
          2034,
          2034,
          2034,
          2034,
          2034,
          2035,
          2035,
          2035,
          2035,
          2035,
          2036,
          2036,
          2036,
          2036,
          2036,
          2037,
          2037,
          2037,
          2037,
          2037,
          2038,
          2038,
          2038,
          2038,
          2038,
          2039,
          2039,
          2039,
          2039,
          2039,
          2040,
          2040,
          2040,
          2040,
          2040
         ],
         "xaxis": "x4",
         "y": [
          62829.71120384964,
          62829.71120384964,
          62829.71120384964,
          62829.71120384964,
          62829.71120384964,
          63419.45167707225,
          63419.45167707225,
          63419.45167707225,
          63419.45167707225,
          63419.45167707225,
          63982.012462748535,
          63982.012462748535,
          63982.012462748535,
          63982.012462748535,
          63982.012462748535,
          64518.64620581074,
          64518.64620581074,
          64518.64620581074,
          64518.64620581074,
          64518.64620581074,
          65030.54781986789,
          65030.54781986789,
          65030.54781986789,
          65030.54781986789,
          65030.54781986789,
          65518.85714790047,
          65518.85714790047,
          65518.85714790047,
          65518.85714790047,
          65518.85714790047,
          65984.66150033021,
          65984.66150033021,
          65984.66150033021,
          65984.66150033021,
          65984.66150033021,
          66428.99807611649,
          66428.99807611649,
          66428.99807611649,
          66428.99807611649,
          66428.99807611649,
          66852.85627227034,
          66852.85627227034,
          66852.85627227034,
          66852.85627227034,
          66852.85627227034,
          67257.17988692858,
          67257.17988692858,
          67257.17988692858,
          67257.17988692858,
          67257.17988692858,
          67642.86922089392,
          67642.86922089392,
          67642.86922089392,
          67642.86922089392,
          67642.86922089392,
          68010.78308231986,
          68010.78308231986,
          68010.78308231986,
          68010.78308231986,
          68010.78308231986,
          68361.74069900501,
          68361.74069900501,
          68361.74069900501,
          68361.74069900501,
          68361.74069900501,
          68696.52354255416,
          68696.52354255416,
          68696.52354255416,
          68696.52354255416,
          68696.52354255416,
          69015.87706846835,
          69015.87706846835,
          69015.87706846835,
          69015.87706846835,
          69015.87706846835,
          69320.51237603859,
          69320.51237603859,
          69320.51237603859,
          69320.51237603859,
          69320.51237603859
         ],
         "yaxis": "y4"
        },
        {
         "showlegend": false,
         "type": "histogram",
         "x": [
          10849,
          10849,
          5199,
          11049,
          11049,
          12199,
          11499,
          14899,
          11049,
          14599,
          12399,
          16899,
          12599,
          16599,
          15899,
          15899,
          13499,
          17999,
          18299,
          17599,
          16999,
          17499,
          19599,
          28099,
          30649,
          30899,
          30799,
          32999,
          33199,
          34799,
          34699,
          36399,
          38399,
          36099,
          38899,
          39899,
          43299,
          40699,
          41199,
          43499,
          42099,
          41099,
          42499,
          44099,
          48599
         ],
         "xaxis": "x7",
         "yaxis": "y7"
        },
        {
         "fill": "tonexty",
         "line": {
          "color": "grey"
         },
         "name": "Fossil fuel CO2 Emissions",
         "showlegend": false,
         "stackgroup": "1",
         "type": "scatter",
         "x": [
          2025,
          2025,
          2025,
          2025,
          2025,
          2026,
          2026,
          2026,
          2026,
          2026,
          2027,
          2027,
          2027,
          2027,
          2027,
          2028,
          2028,
          2028,
          2028,
          2028,
          2029,
          2029,
          2029,
          2029,
          2029,
          2030,
          2030,
          2030,
          2030,
          2030,
          2031,
          2031,
          2031,
          2031,
          2031,
          2032,
          2032,
          2032,
          2032,
          2032,
          2033,
          2033,
          2033,
          2033,
          2033,
          2034,
          2034,
          2034,
          2034,
          2034,
          2035,
          2035,
          2035,
          2035,
          2035,
          2036,
          2036,
          2036,
          2036,
          2036,
          2037,
          2037,
          2037,
          2037,
          2037,
          2038,
          2038,
          2038,
          2038,
          2038,
          2039,
          2039,
          2039,
          2039,
          2039,
          2040,
          2040,
          2040,
          2040,
          2040
         ],
         "xaxis": "x2",
         "y": [
          85231.02960000001,
          85231.02960000001,
          85231.02960000001,
          85231.02960000001,
          85231.02960000001,
          85231.02960000001,
          85231.02960000001,
          85231.02960000001,
          85231.02960000001,
          85231.02960000001,
          85231.02960000001,
          85231.02960000001,
          85231.02960000001,
          85231.02960000001,
          85231.02960000001,
          85231.02960000001,
          85231.02960000001,
          85231.02960000001,
          85231.02960000001,
          85231.02960000001,
          85231.02960000001,
          85231.02960000001,
          85231.02960000001,
          85231.02960000001,
          85231.02960000001,
          85231.02960000001,
          85231.02960000001,
          85231.02960000001,
          85231.02960000001,
          85231.02960000001,
          85231.02960000001,
          85231.02960000001,
          85231.02960000001,
          85231.02960000001,
          85231.02960000001,
          85231.02960000001,
          85231.02960000001,
          85231.02960000001,
          85231.02960000001,
          85231.02960000001,
          85231.02960000001,
          85231.02960000001,
          85231.02960000001,
          85231.02960000001,
          85231.02960000001,
          85231.02960000001,
          85231.02960000001,
          85231.02960000001,
          85231.02960000001,
          85231.02960000001,
          85231.02960000001,
          85231.02960000001,
          85231.02960000001,
          85231.02960000001,
          85231.02960000001,
          85231.02960000001,
          85231.02960000001,
          85231.02960000001,
          85231.02960000001,
          85231.02960000001,
          85231.02960000001,
          85231.02960000001,
          85231.02960000001,
          85231.02960000001,
          85231.02960000001,
          85231.02960000001,
          85231.02960000001,
          85231.02960000001,
          85231.02960000001,
          85231.02960000001,
          85231.02960000001,
          85231.02960000001,
          85231.02960000001,
          85231.02960000001,
          85231.02960000001,
          85231.02960000001,
          85231.02960000001,
          85231.02960000001,
          85231.02960000001,
          85231.02960000001
         ],
         "yaxis": "y2"
        },
        {
         "fill": "tonexty",
         "line": {
          "color": "red"
         },
         "name": "Electricity CO2 Emissions",
         "showlegend": false,
         "stackgroup": "1",
         "type": "scatter",
         "x": [
          2025,
          2025,
          2025,
          2025,
          2025,
          2026,
          2026,
          2026,
          2026,
          2026,
          2027,
          2027,
          2027,
          2027,
          2027,
          2028,
          2028,
          2028,
          2028,
          2028,
          2029,
          2029,
          2029,
          2029,
          2029,
          2030,
          2030,
          2030,
          2030,
          2030,
          2031,
          2031,
          2031,
          2031,
          2031,
          2032,
          2032,
          2032,
          2032,
          2032,
          2033,
          2033,
          2033,
          2033,
          2033,
          2034,
          2034,
          2034,
          2034,
          2034,
          2035,
          2035,
          2035,
          2035,
          2035,
          2036,
          2036,
          2036,
          2036,
          2036,
          2037,
          2037,
          2037,
          2037,
          2037,
          2038,
          2038,
          2038,
          2038,
          2038,
          2039,
          2039,
          2039,
          2039,
          2039,
          2040,
          2040,
          2040,
          2040,
          2040
         ],
         "xaxis": "x2",
         "y": [
          9018.342674661611,
          9018.342674661611,
          9018.342674661611,
          9018.342674661611,
          9018.342674661611,
          8602.7094474837,
          8602.7094474837,
          8602.7094474837,
          8602.7094474837,
          8602.7094474837,
          8206.231733216127,
          8206.231733216127,
          8206.231733216127,
          8206.231733216127,
          8206.231733216127,
          7828.0267013947605,
          7828.0267013947605,
          7828.0267013947605,
          7828.0267013947605,
          7828.0267013947605,
          7467.252209039641,
          7467.252209039641,
          7467.252209039641,
          7467.252209039641,
          7467.252209039641,
          7123.104925468941,
          7123.104925468941,
          7123.104925468941,
          7123.104925468941,
          7123.104925468941,
          6794.81854353562,
          6794.81854353562,
          6794.81854353562,
          6794.81854353562,
          6794.81854353562,
          6481.662073303801,
          6481.662073303801,
          6481.662073303801,
          6481.662073303801,
          6481.662073303801,
          6182.938214365383,
          6182.938214365383,
          6182.938214365383,
          6182.938214365383,
          6182.938214365383,
          5897.981803172598,
          5897.981803172598,
          5897.981803172598,
          5897.981803172598,
          5897.981803172598,
          5626.158331929176,
          5626.158331929176,
          5626.158331929176,
          5626.158331929176,
          5626.158331929176,
          5366.862535742172,
          5366.862535742172,
          5366.862535742172,
          5366.862535742172,
          5366.862535742172,
          5119.517044888506,
          5119.517044888506,
          5119.517044888506,
          5119.517044888506,
          5119.517044888506,
          4883.5710991952,
          4883.5710991952,
          4883.5710991952,
          4883.5710991952,
          4883.5710991952,
          4658.499321670685,
          4658.499321670685,
          4658.499321670685,
          4658.499321670685,
          4658.499321670685,
          4443.800548656414,
          4443.800548656414,
          4443.800548656414,
          4443.800548656414,
          4443.800548656414
         ],
         "yaxis": "y2"
        },
        {
         "fill": "tonexty",
         "line": {
          "color": "yellow"
         },
         "name": "Solar CO2 Emissions",
         "showlegend": false,
         "type": "scatter",
         "x": [
          2025,
          2025,
          2025,
          2025,
          2025,
          2026,
          2026,
          2026,
          2026,
          2026,
          2027,
          2027,
          2027,
          2027,
          2027,
          2028,
          2028,
          2028,
          2028,
          2028,
          2029,
          2029,
          2029,
          2029,
          2029,
          2030,
          2030,
          2030,
          2030,
          2030,
          2031,
          2031,
          2031,
          2031,
          2031,
          2032,
          2032,
          2032,
          2032,
          2032,
          2033,
          2033,
          2033,
          2033,
          2033,
          2034,
          2034,
          2034,
          2034,
          2034,
          2035,
          2035,
          2035,
          2035,
          2035,
          2036,
          2036,
          2036,
          2036,
          2036,
          2037,
          2037,
          2037,
          2037,
          2037,
          2038,
          2038,
          2038,
          2038,
          2038,
          2039,
          2039,
          2039,
          2039,
          2039,
          2040,
          2040,
          2040,
          2040,
          2040
         ],
         "xaxis": "x2",
         "y": [
          -28440.48475858073,
          -28440.48475858073,
          -28440.48475858073,
          -28440.48475858073,
          -28440.48475858073,
          -27129.73278461488,
          -27129.73278461488,
          -27129.73278461488,
          -27129.73278461488,
          -27129.73278461488,
          -25879.39014445047,
          -25879.39014445047,
          -25879.39014445047,
          -25879.39014445047,
          -25879.39014445047,
          -24686.672720510076,
          -24686.672720510076,
          -24686.672720510076,
          -24686.672720510076,
          -24686.672720510076,
          -23548.924708346025,
          -23548.924708346025,
          -23548.924708346025,
          -23548.924708346025,
          -23548.924708346025,
          -22463.61270300389,
          -22463.61270300389,
          -22463.61270300389,
          -22463.61270300389,
          -22463.61270300389,
          -21428.320057931,
          -21428.320057931,
          -21428.320057931,
          -21428.320057931,
          -21428.320057931,
          -20440.74150386888,
          -20440.74150386888,
          -20440.74150386888,
          -20440.74150386888,
          -20440.74150386888,
          -19498.67801574785,
          -19498.67801574785,
          -19498.67801574785,
          -19498.67801574785,
          -19498.67801574785,
          -18600.03191615369,
          -18600.03191615369,
          -18600.03191615369,
          -18600.03191615369,
          -18600.03191615369,
          -17742.802204463544,
          -17742.802204463544,
          -17742.802204463544,
          -17742.802204463544,
          -17742.802204463544,
          -16925.080101250467,
          -16925.080101250467,
          -16925.080101250467,
          -16925.080101250467,
          -16925.080101250467,
          -16145.044798035367,
          -16145.044798035367,
          -16145.044798035367,
          -16145.044798035367,
          -16145.044798035367,
          -15400.95940292244,
          -15400.95940292244,
          -15400.95940292244,
          -15400.95940292244,
          -15400.95940292244,
          -14691.167073090306,
          -14691.167073090306,
          -14691.167073090306,
          -14691.167073090306,
          -14691.167073090306,
          -14014.087325527102,
          -14014.087325527102,
          -14014.087325527102,
          -14014.087325527102,
          -14014.087325527102
         ],
         "yaxis": "y2"
        },
        {
         "fill": "tonexty",
         "line": {
          "color": "blue"
         },
         "name": "Net CO2 Emissions",
         "showlegend": false,
         "text": "Net Emissions",
         "type": "scatter",
         "x": [
          2025,
          2025,
          2025,
          2025,
          2025,
          2026,
          2026,
          2026,
          2026,
          2026,
          2027,
          2027,
          2027,
          2027,
          2027,
          2028,
          2028,
          2028,
          2028,
          2028,
          2029,
          2029,
          2029,
          2029,
          2029,
          2030,
          2030,
          2030,
          2030,
          2030,
          2031,
          2031,
          2031,
          2031,
          2031,
          2032,
          2032,
          2032,
          2032,
          2032,
          2033,
          2033,
          2033,
          2033,
          2033,
          2034,
          2034,
          2034,
          2034,
          2034,
          2035,
          2035,
          2035,
          2035,
          2035,
          2036,
          2036,
          2036,
          2036,
          2036,
          2037,
          2037,
          2037,
          2037,
          2037,
          2038,
          2038,
          2038,
          2038,
          2038,
          2039,
          2039,
          2039,
          2039,
          2039,
          2040,
          2040,
          2040,
          2040,
          2040
         ],
         "xaxis": "x5",
         "y": [
          65808.88751608088,
          65808.88751608088,
          65808.88751608088,
          65808.88751608088,
          65808.88751608088,
          66704.00626286883,
          66704.00626286883,
          66704.00626286883,
          66704.00626286883,
          66704.00626286883,
          67557.87118876565,
          67557.87118876565,
          67557.87118876565,
          67557.87118876565,
          67557.87118876565,
          68372.38358088468,
          68372.38358088468,
          68372.38358088468,
          68372.38358088468,
          68372.38358088468,
          69149.35710069364,
          69149.35710069364,
          69149.35710069364,
          69149.35710069364,
          69149.35710069364,
          69890.52182246505,
          69890.52182246505,
          69890.52182246505,
          69890.52182246505,
          69890.52182246505,
          70597.52808560463,
          70597.52808560463,
          70597.52808560463,
          70597.52808560463,
          70597.52808560463,
          71271.95016943492,
          71271.95016943492,
          71271.95016943492,
          71271.95016943492,
          71271.95016943492,
          71915.28979861754,
          71915.28979861754,
          71915.28979861754,
          71915.28979861754,
          71915.28979861754,
          72528.9794870189,
          72528.9794870189,
          72528.9794870189,
          72528.9794870189,
          72528.9794870189,
          73114.38572746565,
          73114.38572746565,
          73114.38572746565,
          73114.38572746565,
          73114.38572746565,
          73672.81203449168,
          73672.81203449168,
          73672.81203449168,
          73672.81203449168,
          73672.81203449168,
          74205.50184685315,
          74205.50184685315,
          74205.50184685315,
          74205.50184685315,
          74205.50184685315,
          74713.64129627276,
          74713.64129627276,
          74713.64129627276,
          74713.64129627276,
          74713.64129627276,
          75198.36184858037,
          75198.36184858037,
          75198.36184858037,
          75198.36184858037,
          75198.36184858037,
          75660.74282312932,
          75660.74282312932,
          75660.74282312932,
          75660.74282312932,
          75660.74282312932
         ],
         "yaxis": "y5"
        },
        {
         "showlegend": false,
         "type": "histogram",
         "x": [
          11799,
          11799,
          11049,
          12599,
          11050,
          15699,
          12399,
          15699,
          20399,
          14099,
          20999,
          17299,
          14099,
          17299,
          19299,
          21899,
          22899,
          20499,
          18699,
          18699,
          31799,
          22999,
          34899,
          29199,
          38099,
          38999,
          42499,
          48999,
          45899,
          48699,
          46099,
          46399,
          48399,
          56499,
          54799,
          55299,
          53399,
          53599,
          53799,
          54999,
          56699,
          60599,
          61099,
          65699,
          77099
         ],
         "xaxis": "x8",
         "yaxis": "y8"
        },
        {
         "fill": "tonexty",
         "line": {
          "color": "grey"
         },
         "name": "Fossil fuel CO2 Emissions",
         "showlegend": true,
         "stackgroup": "1",
         "type": "scatter",
         "x": [
          2025,
          2025,
          2025,
          2025,
          2025,
          2026,
          2026,
          2026,
          2026,
          2026,
          2027,
          2027,
          2027,
          2027,
          2027,
          2028,
          2028,
          2028,
          2028,
          2028,
          2029,
          2029,
          2029,
          2029,
          2029,
          2030,
          2030,
          2030,
          2030,
          2030,
          2031,
          2031,
          2031,
          2031,
          2031,
          2032,
          2032,
          2032,
          2032,
          2032,
          2033,
          2033,
          2033,
          2033,
          2033,
          2034,
          2034,
          2034,
          2034,
          2034,
          2035,
          2035,
          2035,
          2035,
          2035,
          2036,
          2036,
          2036,
          2036,
          2036,
          2037,
          2037,
          2037,
          2037,
          2037,
          2038,
          2038,
          2038,
          2038,
          2038,
          2039,
          2039,
          2039,
          2039,
          2039,
          2040,
          2040,
          2040,
          2040,
          2040
         ],
         "xaxis": "x3",
         "y": [
          102625.5888,
          102625.5888,
          102625.5888,
          102625.5888,
          102625.5888,
          102625.5888,
          102625.5888,
          102625.5888,
          102625.5888,
          102625.5888,
          102625.5888,
          102625.5888,
          102625.5888,
          102625.5888,
          102625.5888,
          102625.5888,
          102625.5888,
          102625.5888,
          102625.5888,
          102625.5888,
          102625.5888,
          102625.5888,
          102625.5888,
          102625.5888,
          102625.5888,
          102625.5888,
          102625.5888,
          102625.5888,
          102625.5888,
          102625.5888,
          102625.5888,
          102625.5888,
          102625.5888,
          102625.5888,
          102625.5888,
          102625.5888,
          102625.5888,
          102625.5888,
          102625.5888,
          102625.5888,
          102625.5888,
          102625.5888,
          102625.5888,
          102625.5888,
          102625.5888,
          102625.5888,
          102625.5888,
          102625.5888,
          102625.5888,
          102625.5888,
          102625.5888,
          102625.5888,
          102625.5888,
          102625.5888,
          102625.5888,
          102625.5888,
          102625.5888,
          102625.5888,
          102625.5888,
          102625.5888,
          102625.5888,
          102625.5888,
          102625.5888,
          102625.5888,
          102625.5888,
          102625.5888,
          102625.5888,
          102625.5888,
          102625.5888,
          102625.5888,
          102625.5888,
          102625.5888,
          102625.5888,
          102625.5888,
          102625.5888,
          102625.5888,
          102625.5888,
          102625.5888,
          102625.5888,
          102625.5888
         ],
         "yaxis": "y3"
        },
        {
         "fill": "tonexty",
         "line": {
          "color": "red"
         },
         "name": "Electricity CO2 Emissions",
         "showlegend": true,
         "stackgroup": "1",
         "type": "scatter",
         "x": [
          2025,
          2025,
          2025,
          2025,
          2025,
          2026,
          2026,
          2026,
          2026,
          2026,
          2027,
          2027,
          2027,
          2027,
          2027,
          2028,
          2028,
          2028,
          2028,
          2028,
          2029,
          2029,
          2029,
          2029,
          2029,
          2030,
          2030,
          2030,
          2030,
          2030,
          2031,
          2031,
          2031,
          2031,
          2031,
          2032,
          2032,
          2032,
          2032,
          2032,
          2033,
          2033,
          2033,
          2033,
          2033,
          2034,
          2034,
          2034,
          2034,
          2034,
          2035,
          2035,
          2035,
          2035,
          2035,
          2036,
          2036,
          2036,
          2036,
          2036,
          2037,
          2037,
          2037,
          2037,
          2037,
          2038,
          2038,
          2038,
          2038,
          2038,
          2039,
          2039,
          2039,
          2039,
          2039,
          2040,
          2040,
          2040,
          2040,
          2040
         ],
         "xaxis": "x3",
         "y": [
          9264.986896835531,
          9264.986896835531,
          9264.986896835531,
          9264.986896835531,
          9264.986896835531,
          8837.986444245467,
          8837.986444245467,
          8837.986444245467,
          8837.986444245467,
          8837.986444245467,
          8430.665392019628,
          8430.665392019628,
          8430.665392019628,
          8430.665392019628,
          8430.665392019628,
          8042.116765009984,
          8042.116765009984,
          8042.116765009984,
          8042.116765009984,
          8042.116765009984,
          7671.475388321768,
          7671.475388321768,
          7671.475388321768,
          7671.475388321768,
          7671.475388321768,
          7317.915960842624,
          7317.915960842624,
          7317.915960842624,
          7317.915960842624,
          7317.915960842624,
          6980.651217558085,
          6980.651217558085,
          6980.651217558085,
          6980.651217558085,
          6980.651217558085,
          6658.930176561386,
          6658.930176561386,
          6658.930176561386,
          6658.930176561386,
          6658.930176561386,
          6352.036466854306,
          6352.036466854306,
          6352.036466854306,
          6352.036466854306,
          6352.036466854306,
          6059.2867332155265,
          6059.2867332155265,
          6059.2867332155265,
          6059.2867332155265,
          6059.2867332155265,
          5780.02911458471,
          5780.02911458471,
          5780.02911458471,
          5780.02911458471,
          5780.02911458471,
          5513.6417925741,
          5513.6417925741,
          5513.6417925741,
          5513.6417925741,
          5513.6417925741,
          5259.531606875644,
          5259.531606875644,
          5259.531606875644,
          5259.531606875644,
          5259.531606875644,
          5017.132734480615,
          5017.132734480615,
          5017.132734480615,
          5017.132734480615,
          5017.132734480615,
          4785.905429770733,
          4785.905429770733,
          4785.905429770733,
          4785.905429770733,
          4785.905429770733,
          4565.334822675396,
          4565.334822675396,
          4565.334822675396,
          4565.334822675396,
          4565.334822675396
         ],
         "yaxis": "y3"
        },
        {
         "fill": "tonexty",
         "line": {
          "color": "yellow"
         },
         "name": "Solar CO2 Emissions",
         "showlegend": true,
         "type": "scatter",
         "x": [
          2025,
          2025,
          2025,
          2025,
          2025,
          2026,
          2026,
          2026,
          2026,
          2026,
          2027,
          2027,
          2027,
          2027,
          2027,
          2028,
          2028,
          2028,
          2028,
          2028,
          2029,
          2029,
          2029,
          2029,
          2029,
          2030,
          2030,
          2030,
          2030,
          2030,
          2031,
          2031,
          2031,
          2031,
          2031,
          2032,
          2032,
          2032,
          2032,
          2032,
          2033,
          2033,
          2033,
          2033,
          2033,
          2034,
          2034,
          2034,
          2034,
          2034,
          2035,
          2035,
          2035,
          2035,
          2035,
          2036,
          2036,
          2036,
          2036,
          2036,
          2037,
          2037,
          2037,
          2037,
          2037,
          2038,
          2038,
          2038,
          2038,
          2038,
          2039,
          2039,
          2039,
          2039,
          2039,
          2040,
          2040,
          2040,
          2040,
          2040
         ],
         "xaxis": "x3",
         "y": [
          -39810.31909621595,
          -39810.31909621595,
          -39810.31909621595,
          -39810.31909621595,
          -39810.31909621595,
          -37975.559429405715,
          -37975.559429405715,
          -37975.559429405715,
          -37975.559429405715,
          -37975.559429405715,
          -36225.359321809716,
          -36225.359321809716,
          -36225.359321809716,
          -36225.359321809716,
          -36225.359321809716,
          -34555.821631375016,
          -34555.821631375016,
          -34555.821631375016,
          -34555.821631375016,
          -34555.821631375016,
          -32963.22882573831,
          -32963.22882573831,
          -32963.22882573831,
          -32963.22882573831,
          -32963.22882573831,
          -31444.03470445708,
          -31444.03470445708,
          -31444.03470445708,
          -31444.03470445708,
          -31444.03470445708,
          -29994.85650274298,
          -29994.85650274298,
          -29994.85650274298,
          -29994.85650274298,
          -29994.85650274298,
          -28612.467359114526,
          -28612.467359114526,
          -28612.467359114526,
          -28612.467359114526,
          -28612.467359114526,
          -27293.789130197303,
          -27293.789130197303,
          -27293.789130197303,
          -27293.789130197303,
          -27293.789130197303,
          -26035.885536672235,
          -26035.885536672235,
          -26035.885536672235,
          -26035.885536672235,
          -26035.885536672235,
          -24835.95562511032,
          -24835.95562511032,
          -24835.95562511032,
          -24835.95562511032,
          -24835.95562511032,
          -23691.327531135255,
          -23691.327531135255,
          -23691.327531135255,
          -23691.327531135255,
          -23691.327531135255,
          -22599.452530026574,
          -22599.452530026574,
          -22599.452530026574,
          -22599.452530026574,
          -22599.452530026574,
          -21557.899361515887,
          -21557.899361515887,
          -21557.899361515887,
          -21557.899361515887,
          -21557.899361515887,
          -20564.348816139245,
          -20564.348816139245,
          -20564.348816139245,
          -20564.348816139245,
          -20564.348816139245,
          -19616.58857109124,
          -19616.58857109124,
          -19616.58857109124,
          -19616.58857109124,
          -19616.58857109124
         ],
         "yaxis": "y3"
        },
        {
         "fill": "tonexty",
         "line": {
          "color": "blue"
         },
         "name": "Net CO2 Emissions",
         "showlegend": true,
         "text": "Net Emissions",
         "type": "scatter",
         "x": [
          2025,
          2025,
          2025,
          2025,
          2025,
          2026,
          2026,
          2026,
          2026,
          2026,
          2027,
          2027,
          2027,
          2027,
          2027,
          2028,
          2028,
          2028,
          2028,
          2028,
          2029,
          2029,
          2029,
          2029,
          2029,
          2030,
          2030,
          2030,
          2030,
          2030,
          2031,
          2031,
          2031,
          2031,
          2031,
          2032,
          2032,
          2032,
          2032,
          2032,
          2033,
          2033,
          2033,
          2033,
          2033,
          2034,
          2034,
          2034,
          2034,
          2034,
          2035,
          2035,
          2035,
          2035,
          2035,
          2036,
          2036,
          2036,
          2036,
          2036,
          2037,
          2037,
          2037,
          2037,
          2037,
          2038,
          2038,
          2038,
          2038,
          2038,
          2039,
          2039,
          2039,
          2039,
          2039,
          2040,
          2040,
          2040,
          2040,
          2040
         ],
         "xaxis": "x6",
         "y": [
          72080.25660061958,
          72080.25660061958,
          72080.25660061958,
          72080.25660061958,
          72080.25660061958,
          73488.01581483975,
          73488.01581483975,
          73488.01581483975,
          73488.01581483975,
          73488.01581483975,
          74830.89487020992,
          74830.89487020992,
          74830.89487020992,
          74830.89487020992,
          74830.89487020992,
          76111.88393363496,
          76111.88393363496,
          76111.88393363496,
          76111.88393363496,
          76111.88393363496,
          77333.83536258347,
          77333.83536258347,
          77333.83536258347,
          77333.83536258347,
          77333.83536258347,
          78499.47005638554,
          78499.47005638554,
          78499.47005638554,
          78499.47005638554,
          78499.47005638554,
          79611.3835148151,
          79611.3835148151,
          79611.3835148151,
          79611.3835148151,
          79611.3835148151,
          80672.05161744686,
          80672.05161744686,
          80672.05161744686,
          80672.05161744686,
          80672.05161744686,
          81683.836136657,
          81683.836136657,
          81683.836136657,
          81683.836136657,
          81683.836136657,
          82648.98999654329,
          82648.98999654329,
          82648.98999654329,
          82648.98999654329,
          82648.98999654329,
          83569.66228947439,
          83569.66228947439,
          83569.66228947439,
          83569.66228947439,
          83569.66228947439,
          84447.90306143885,
          84447.90306143885,
          84447.90306143885,
          84447.90306143885,
          84447.90306143885,
          85285.66787684907,
          85285.66787684907,
          85285.66787684907,
          85285.66787684907,
          85285.66787684907,
          86084.82217296472,
          86084.82217296472,
          86084.82217296472,
          86084.82217296472,
          86084.82217296472,
          86847.14541363149,
          86847.14541363149,
          86847.14541363149,
          86847.14541363149,
          86847.14541363149,
          87574.33505158414,
          87574.33505158414,
          87574.33505158414,
          87574.33505158414,
          87574.33505158414
         ],
         "yaxis": "y6"
        },
        {
         "showlegend": false,
         "type": "histogram",
         "x": [
          12399,
          14299,
          14299,
          17499,
          21699,
          16600,
          16599,
          20099,
          15799,
          19099,
          25099,
          24899,
          20099,
          24699,
          21199,
          26949,
          24999,
          21199,
          32249,
          26799,
          45999,
          47499,
          46599,
          58999,
          48599,
          48599,
          61499,
          49499,
          57499,
          55999,
          56099,
          57599,
          57399,
          58149,
          65699,
          65899,
          64399,
          64499,
          67499,
          72599,
          79499,
          81199,
          85700,
          89999
         ],
         "xaxis": "x9",
         "yaxis": "y9"
        }
       ],
       "layout": {
        "annotations": [
         {
          "font": {
           "size": 16
          },
          "showarrow": false,
          "text": "GESLOTEN",
          "x": 0.14444444444444446,
          "xanchor": "center",
          "xref": "paper",
          "y": 1,
          "yanchor": "bottom",
          "yref": "paper"
         },
         {
          "font": {
           "size": 16
          },
          "showarrow": false,
          "text": "HALF_OPEN",
          "x": 0.5,
          "xanchor": "center",
          "xref": "paper",
          "y": 1,
          "yanchor": "bottom",
          "yref": "paper"
         },
         {
          "font": {
           "size": 16
          },
          "showarrow": false,
          "text": "OPEN",
          "x": 0.8555555555555556,
          "xanchor": "center",
          "xref": "paper",
          "y": 1,
          "yanchor": "bottom",
          "yref": "paper"
         }
        ],
        "height": 1000,
        "showlegend": true,
        "template": {
         "data": {
          "bar": [
           {
            "error_x": {
             "color": "#2a3f5f"
            },
            "error_y": {
             "color": "#2a3f5f"
            },
            "marker": {
             "line": {
              "color": "#E5ECF6",
              "width": 0.5
             },
             "pattern": {
              "fillmode": "overlay",
              "size": 10,
              "solidity": 0.2
             }
            },
            "type": "bar"
           }
          ],
          "barpolar": [
           {
            "marker": {
             "line": {
              "color": "#E5ECF6",
              "width": 0.5
             },
             "pattern": {
              "fillmode": "overlay",
              "size": 10,
              "solidity": 0.2
             }
            },
            "type": "barpolar"
           }
          ],
          "carpet": [
           {
            "aaxis": {
             "endlinecolor": "#2a3f5f",
             "gridcolor": "white",
             "linecolor": "white",
             "minorgridcolor": "white",
             "startlinecolor": "#2a3f5f"
            },
            "baxis": {
             "endlinecolor": "#2a3f5f",
             "gridcolor": "white",
             "linecolor": "white",
             "minorgridcolor": "white",
             "startlinecolor": "#2a3f5f"
            },
            "type": "carpet"
           }
          ],
          "choropleth": [
           {
            "colorbar": {
             "outlinewidth": 0,
             "ticks": ""
            },
            "type": "choropleth"
           }
          ],
          "contour": [
           {
            "colorbar": {
             "outlinewidth": 0,
             "ticks": ""
            },
            "colorscale": [
             [
              0,
              "#0d0887"
             ],
             [
              0.1111111111111111,
              "#46039f"
             ],
             [
              0.2222222222222222,
              "#7201a8"
             ],
             [
              0.3333333333333333,
              "#9c179e"
             ],
             [
              0.4444444444444444,
              "#bd3786"
             ],
             [
              0.5555555555555556,
              "#d8576b"
             ],
             [
              0.6666666666666666,
              "#ed7953"
             ],
             [
              0.7777777777777778,
              "#fb9f3a"
             ],
             [
              0.8888888888888888,
              "#fdca26"
             ],
             [
              1,
              "#f0f921"
             ]
            ],
            "type": "contour"
           }
          ],
          "contourcarpet": [
           {
            "colorbar": {
             "outlinewidth": 0,
             "ticks": ""
            },
            "type": "contourcarpet"
           }
          ],
          "heatmap": [
           {
            "colorbar": {
             "outlinewidth": 0,
             "ticks": ""
            },
            "colorscale": [
             [
              0,
              "#0d0887"
             ],
             [
              0.1111111111111111,
              "#46039f"
             ],
             [
              0.2222222222222222,
              "#7201a8"
             ],
             [
              0.3333333333333333,
              "#9c179e"
             ],
             [
              0.4444444444444444,
              "#bd3786"
             ],
             [
              0.5555555555555556,
              "#d8576b"
             ],
             [
              0.6666666666666666,
              "#ed7953"
             ],
             [
              0.7777777777777778,
              "#fb9f3a"
             ],
             [
              0.8888888888888888,
              "#fdca26"
             ],
             [
              1,
              "#f0f921"
             ]
            ],
            "type": "heatmap"
           }
          ],
          "heatmapgl": [
           {
            "colorbar": {
             "outlinewidth": 0,
             "ticks": ""
            },
            "colorscale": [
             [
              0,
              "#0d0887"
             ],
             [
              0.1111111111111111,
              "#46039f"
             ],
             [
              0.2222222222222222,
              "#7201a8"
             ],
             [
              0.3333333333333333,
              "#9c179e"
             ],
             [
              0.4444444444444444,
              "#bd3786"
             ],
             [
              0.5555555555555556,
              "#d8576b"
             ],
             [
              0.6666666666666666,
              "#ed7953"
             ],
             [
              0.7777777777777778,
              "#fb9f3a"
             ],
             [
              0.8888888888888888,
              "#fdca26"
             ],
             [
              1,
              "#f0f921"
             ]
            ],
            "type": "heatmapgl"
           }
          ],
          "histogram": [
           {
            "marker": {
             "pattern": {
              "fillmode": "overlay",
              "size": 10,
              "solidity": 0.2
             }
            },
            "type": "histogram"
           }
          ],
          "histogram2d": [
           {
            "colorbar": {
             "outlinewidth": 0,
             "ticks": ""
            },
            "colorscale": [
             [
              0,
              "#0d0887"
             ],
             [
              0.1111111111111111,
              "#46039f"
             ],
             [
              0.2222222222222222,
              "#7201a8"
             ],
             [
              0.3333333333333333,
              "#9c179e"
             ],
             [
              0.4444444444444444,
              "#bd3786"
             ],
             [
              0.5555555555555556,
              "#d8576b"
             ],
             [
              0.6666666666666666,
              "#ed7953"
             ],
             [
              0.7777777777777778,
              "#fb9f3a"
             ],
             [
              0.8888888888888888,
              "#fdca26"
             ],
             [
              1,
              "#f0f921"
             ]
            ],
            "type": "histogram2d"
           }
          ],
          "histogram2dcontour": [
           {
            "colorbar": {
             "outlinewidth": 0,
             "ticks": ""
            },
            "colorscale": [
             [
              0,
              "#0d0887"
             ],
             [
              0.1111111111111111,
              "#46039f"
             ],
             [
              0.2222222222222222,
              "#7201a8"
             ],
             [
              0.3333333333333333,
              "#9c179e"
             ],
             [
              0.4444444444444444,
              "#bd3786"
             ],
             [
              0.5555555555555556,
              "#d8576b"
             ],
             [
              0.6666666666666666,
              "#ed7953"
             ],
             [
              0.7777777777777778,
              "#fb9f3a"
             ],
             [
              0.8888888888888888,
              "#fdca26"
             ],
             [
              1,
              "#f0f921"
             ]
            ],
            "type": "histogram2dcontour"
           }
          ],
          "mesh3d": [
           {
            "colorbar": {
             "outlinewidth": 0,
             "ticks": ""
            },
            "type": "mesh3d"
           }
          ],
          "parcoords": [
           {
            "line": {
             "colorbar": {
              "outlinewidth": 0,
              "ticks": ""
             }
            },
            "type": "parcoords"
           }
          ],
          "pie": [
           {
            "automargin": true,
            "type": "pie"
           }
          ],
          "scatter": [
           {
            "fillpattern": {
             "fillmode": "overlay",
             "size": 10,
             "solidity": 0.2
            },
            "type": "scatter"
           }
          ],
          "scatter3d": [
           {
            "line": {
             "colorbar": {
              "outlinewidth": 0,
              "ticks": ""
             }
            },
            "marker": {
             "colorbar": {
              "outlinewidth": 0,
              "ticks": ""
             }
            },
            "type": "scatter3d"
           }
          ],
          "scattercarpet": [
           {
            "marker": {
             "colorbar": {
              "outlinewidth": 0,
              "ticks": ""
             }
            },
            "type": "scattercarpet"
           }
          ],
          "scattergeo": [
           {
            "marker": {
             "colorbar": {
              "outlinewidth": 0,
              "ticks": ""
             }
            },
            "type": "scattergeo"
           }
          ],
          "scattergl": [
           {
            "marker": {
             "colorbar": {
              "outlinewidth": 0,
              "ticks": ""
             }
            },
            "type": "scattergl"
           }
          ],
          "scattermapbox": [
           {
            "marker": {
             "colorbar": {
              "outlinewidth": 0,
              "ticks": ""
             }
            },
            "type": "scattermapbox"
           }
          ],
          "scatterpolar": [
           {
            "marker": {
             "colorbar": {
              "outlinewidth": 0,
              "ticks": ""
             }
            },
            "type": "scatterpolar"
           }
          ],
          "scatterpolargl": [
           {
            "marker": {
             "colorbar": {
              "outlinewidth": 0,
              "ticks": ""
             }
            },
            "type": "scatterpolargl"
           }
          ],
          "scatterternary": [
           {
            "marker": {
             "colorbar": {
              "outlinewidth": 0,
              "ticks": ""
             }
            },
            "type": "scatterternary"
           }
          ],
          "surface": [
           {
            "colorbar": {
             "outlinewidth": 0,
             "ticks": ""
            },
            "colorscale": [
             [
              0,
              "#0d0887"
             ],
             [
              0.1111111111111111,
              "#46039f"
             ],
             [
              0.2222222222222222,
              "#7201a8"
             ],
             [
              0.3333333333333333,
              "#9c179e"
             ],
             [
              0.4444444444444444,
              "#bd3786"
             ],
             [
              0.5555555555555556,
              "#d8576b"
             ],
             [
              0.6666666666666666,
              "#ed7953"
             ],
             [
              0.7777777777777778,
              "#fb9f3a"
             ],
             [
              0.8888888888888888,
              "#fdca26"
             ],
             [
              1,
              "#f0f921"
             ]
            ],
            "type": "surface"
           }
          ],
          "table": [
           {
            "cells": {
             "fill": {
              "color": "#EBF0F8"
             },
             "line": {
              "color": "white"
             }
            },
            "header": {
             "fill": {
              "color": "#C8D4E3"
             },
             "line": {
              "color": "white"
             }
            },
            "type": "table"
           }
          ]
         },
         "layout": {
          "annotationdefaults": {
           "arrowcolor": "#2a3f5f",
           "arrowhead": 0,
           "arrowwidth": 1
          },
          "autotypenumbers": "strict",
          "coloraxis": {
           "colorbar": {
            "outlinewidth": 0,
            "ticks": ""
           }
          },
          "colorscale": {
           "diverging": [
            [
             0,
             "#8e0152"
            ],
            [
             0.1,
             "#c51b7d"
            ],
            [
             0.2,
             "#de77ae"
            ],
            [
             0.3,
             "#f1b6da"
            ],
            [
             0.4,
             "#fde0ef"
            ],
            [
             0.5,
             "#f7f7f7"
            ],
            [
             0.6,
             "#e6f5d0"
            ],
            [
             0.7,
             "#b8e186"
            ],
            [
             0.8,
             "#7fbc41"
            ],
            [
             0.9,
             "#4d9221"
            ],
            [
             1,
             "#276419"
            ]
           ],
           "sequential": [
            [
             0,
             "#0d0887"
            ],
            [
             0.1111111111111111,
             "#46039f"
            ],
            [
             0.2222222222222222,
             "#7201a8"
            ],
            [
             0.3333333333333333,
             "#9c179e"
            ],
            [
             0.4444444444444444,
             "#bd3786"
            ],
            [
             0.5555555555555556,
             "#d8576b"
            ],
            [
             0.6666666666666666,
             "#ed7953"
            ],
            [
             0.7777777777777778,
             "#fb9f3a"
            ],
            [
             0.8888888888888888,
             "#fdca26"
            ],
            [
             1,
             "#f0f921"
            ]
           ],
           "sequentialminus": [
            [
             0,
             "#0d0887"
            ],
            [
             0.1111111111111111,
             "#46039f"
            ],
            [
             0.2222222222222222,
             "#7201a8"
            ],
            [
             0.3333333333333333,
             "#9c179e"
            ],
            [
             0.4444444444444444,
             "#bd3786"
            ],
            [
             0.5555555555555556,
             "#d8576b"
            ],
            [
             0.6666666666666666,
             "#ed7953"
            ],
            [
             0.7777777777777778,
             "#fb9f3a"
            ],
            [
             0.8888888888888888,
             "#fdca26"
            ],
            [
             1,
             "#f0f921"
            ]
           ]
          },
          "colorway": [
           "#636efa",
           "#EF553B",
           "#00cc96",
           "#ab63fa",
           "#FFA15A",
           "#19d3f3",
           "#FF6692",
           "#B6E880",
           "#FF97FF",
           "#FECB52"
          ],
          "font": {
           "color": "#2a3f5f"
          },
          "geo": {
           "bgcolor": "white",
           "lakecolor": "white",
           "landcolor": "#E5ECF6",
           "showlakes": true,
           "showland": true,
           "subunitcolor": "white"
          },
          "hoverlabel": {
           "align": "left"
          },
          "hovermode": "closest",
          "mapbox": {
           "style": "light"
          },
          "paper_bgcolor": "white",
          "plot_bgcolor": "#E5ECF6",
          "polar": {
           "angularaxis": {
            "gridcolor": "white",
            "linecolor": "white",
            "ticks": ""
           },
           "bgcolor": "#E5ECF6",
           "radialaxis": {
            "gridcolor": "white",
            "linecolor": "white",
            "ticks": ""
           }
          },
          "scene": {
           "xaxis": {
            "backgroundcolor": "#E5ECF6",
            "gridcolor": "white",
            "gridwidth": 2,
            "linecolor": "white",
            "showbackground": true,
            "ticks": "",
            "zerolinecolor": "white"
           },
           "yaxis": {
            "backgroundcolor": "#E5ECF6",
            "gridcolor": "white",
            "gridwidth": 2,
            "linecolor": "white",
            "showbackground": true,
            "ticks": "",
            "zerolinecolor": "white"
           },
           "zaxis": {
            "backgroundcolor": "#E5ECF6",
            "gridcolor": "white",
            "gridwidth": 2,
            "linecolor": "white",
            "showbackground": true,
            "ticks": "",
            "zerolinecolor": "white"
           }
          },
          "shapedefaults": {
           "line": {
            "color": "#2a3f5f"
           }
          },
          "ternary": {
           "aaxis": {
            "gridcolor": "white",
            "linecolor": "white",
            "ticks": ""
           },
           "baxis": {
            "gridcolor": "white",
            "linecolor": "white",
            "ticks": ""
           },
           "bgcolor": "#E5ECF6",
           "caxis": {
            "gridcolor": "white",
            "linecolor": "white",
            "ticks": ""
           }
          },
          "title": {
           "x": 0.05
          },
          "xaxis": {
           "automargin": true,
           "gridcolor": "white",
           "linecolor": "white",
           "ticks": "",
           "title": {
            "standoff": 15
           },
           "zerolinecolor": "white",
           "zerolinewidth": 2
          },
          "yaxis": {
           "automargin": true,
           "gridcolor": "white",
           "linecolor": "white",
           "ticks": "",
           "title": {
            "standoff": 15
           },
           "zerolinecolor": "white",
           "zerolinewidth": 2
          }
         }
        },
        "title": {
         "text": "CO2 Emissions Over Years by Building Type with gas boilers and A labels"
        },
        "width": 1800,
        "xaxis": {
         "anchor": "y",
         "domain": [
          0,
          0.2888888888888889
         ],
         "title": {
          "text": "Year"
         }
        },
        "xaxis2": {
         "anchor": "y2",
         "domain": [
          0.35555555555555557,
          0.6444444444444445
         ],
         "title": {
          "text": "Year"
         }
        },
        "xaxis3": {
         "anchor": "y3",
         "domain": [
          0.7111111111111111,
          1
         ],
         "title": {
          "text": "Year"
         }
        },
        "xaxis4": {
         "anchor": "y4",
         "domain": [
          0,
          0.2888888888888889
         ]
        },
        "xaxis5": {
         "anchor": "y5",
         "domain": [
          0.35555555555555557,
          0.6444444444444445
         ]
        },
        "xaxis6": {
         "anchor": "y6",
         "domain": [
          0.7111111111111111,
          1
         ]
        },
        "xaxis7": {
         "anchor": "y7",
         "domain": [
          0,
          0.2888888888888889
         ],
         "title": {
          "text": "Investment cost [€]"
         }
        },
        "xaxis8": {
         "anchor": "y8",
         "domain": [
          0.35555555555555557,
          0.6444444444444445
         ],
         "title": {
          "text": "Investment cost [€]"
         }
        },
        "xaxis9": {
         "anchor": "y9",
         "domain": [
          0.7111111111111111,
          1
         ],
         "title": {
          "text": "Investment cost [€]"
         }
        },
        "yaxis": {
         "anchor": "x",
         "domain": [
          0.7777777777777778,
          1
         ],
         "range": [
          -45000,
          120000
         ],
         "title": {
          "text": "Gross CO2 Emissions (kg)"
         }
        },
        "yaxis2": {
         "anchor": "x2",
         "domain": [
          0.7777777777777778,
          1
         ],
         "matches": "y",
         "range": [
          -45000,
          120000
         ],
         "showticklabels": false
        },
        "yaxis3": {
         "anchor": "x3",
         "domain": [
          0.7777777777777778,
          1
         ],
         "matches": "y",
         "range": [
          -45000,
          120000
         ],
         "showticklabels": false
        },
        "yaxis4": {
         "anchor": "x4",
         "domain": [
          0.3888888888888889,
          0.6111111111111112
         ],
         "range": [
          -20000,
          100000
         ],
         "title": {
          "text": "Net CO2 Emissions (kg)"
         }
        },
        "yaxis5": {
         "anchor": "x5",
         "domain": [
          0.3888888888888889,
          0.6111111111111112
         ],
         "matches": "y4",
         "range": [
          -20000,
          100000
         ],
         "showticklabels": false
        },
        "yaxis6": {
         "anchor": "x6",
         "domain": [
          0.3888888888888889,
          0.6111111111111112
         ],
         "matches": "y4",
         "range": [
          -20000,
          100000
         ],
         "showticklabels": false
        },
        "yaxis7": {
         "anchor": "x7",
         "domain": [
          0,
          0.22222222222222224
         ],
         "range": [
          0,
          30
         ],
         "title": {
          "text": "Count"
         }
        },
        "yaxis8": {
         "anchor": "x8",
         "domain": [
          0,
          0.22222222222222224
         ],
         "matches": "y7",
         "range": [
          0,
          30
         ],
         "showticklabels": false
        },
        "yaxis9": {
         "anchor": "x9",
         "domain": [
          0,
          0.22222222222222224
         ],
         "matches": "y7",
         "range": [
          0,
          30
         ],
         "showticklabels": false
        }
       }
      },
      "text/html": [
       "<div>                            <div id=\"e14835b7-7174-4bfa-83ba-8dc760f30bfd\" class=\"plotly-graph-div\" style=\"height:1000px; width:1800px;\"></div>            <script type=\"text/javascript\">                require([\"plotly\"], function(Plotly) {                    window.PLOTLYENV=window.PLOTLYENV || {};                                    if (document.getElementById(\"e14835b7-7174-4bfa-83ba-8dc760f30bfd\")) {                    Plotly.newPlot(                        \"e14835b7-7174-4bfa-83ba-8dc760f30bfd\",                        [{\"fill\":\"tonexty\",\"line\":{\"color\":\"grey\"},\"name\":\"Fossil fuel CO2 Emissions\",\"showlegend\":false,\"stackgroup\":\"1\",\"x\":[2025,2025,2025,2025,2025,2026,2026,2026,2026,2026,2027,2027,2027,2027,2027,2028,2028,2028,2028,2028,2029,2029,2029,2029,2029,2030,2030,2030,2030,2030,2031,2031,2031,2031,2031,2032,2032,2032,2032,2032,2033,2033,2033,2033,2033,2034,2034,2034,2034,2034,2035,2035,2035,2035,2035,2036,2036,2036,2036,2036,2037,2037,2037,2037,2037,2038,2038,2038,2038,2038,2039,2039,2039,2039,2039,2040,2040,2040,2040,2040],\"y\":[75625.80480000001,75625.80480000001,75625.80480000001,75625.80480000001,75625.80480000001,75625.80480000001,75625.80480000001,75625.80480000001,75625.80480000001,75625.80480000001,75625.80480000001,75625.80480000001,75625.80480000001,75625.80480000001,75625.80480000001,75625.80480000001,75625.80480000001,75625.80480000001,75625.80480000001,75625.80480000001,75625.80480000001,75625.80480000001,75625.80480000001,75625.80480000001,75625.80480000001,75625.80480000001,75625.80480000001,75625.80480000001,75625.80480000001,75625.80480000001,75625.80480000001,75625.80480000001,75625.80480000001,75625.80480000001,75625.80480000001,75625.80480000001,75625.80480000001,75625.80480000001,75625.80480000001,75625.80480000001,75625.80480000001,75625.80480000001,75625.80480000001,75625.80480000001,75625.80480000001,75625.80480000001,75625.80480000001,75625.80480000001,75625.80480000001,75625.80480000001,75625.80480000001,75625.80480000001,75625.80480000001,75625.80480000001,75625.80480000001,75625.80480000001,75625.80480000001,75625.80480000001,75625.80480000001,75625.80480000001,75625.80480000001,75625.80480000001,75625.80480000001,75625.80480000001,75625.80480000001,75625.80480000001,75625.80480000001,75625.80480000001,75625.80480000001,75625.80480000001,75625.80480000001,75625.80480000001,75625.80480000001,75625.80480000001,75625.80480000001,75625.80480000001,75625.80480000001,75625.80480000001,75625.80480000001,75625.80480000001],\"type\":\"scatter\",\"xaxis\":\"x\",\"yaxis\":\"y\"},{\"fill\":\"tonexty\",\"line\":{\"color\":\"red\"},\"name\":\"Electricity CO2 Emissions\",\"showlegend\":false,\"stackgroup\":\"1\",\"x\":[2025,2025,2025,2025,2025,2026,2026,2026,2026,2026,2027,2027,2027,2027,2027,2028,2028,2028,2028,2028,2029,2029,2029,2029,2029,2030,2030,2030,2030,2030,2031,2031,2031,2031,2031,2032,2032,2032,2032,2032,2033,2033,2033,2033,2033,2034,2034,2034,2034,2034,2035,2035,2035,2035,2035,2036,2036,2036,2036,2036,2037,2037,2037,2037,2037,2038,2038,2038,2038,2038,2039,2039,2039,2039,2039,2040,2040,2040,2040,2040],\"y\":[8907.190971571254,8907.190971571254,8907.190971571254,8907.190971571254,8907.190971571254,8496.680452936185,8496.680452936185,8496.680452936185,8496.680452936185,8496.680452936185,8105.089354177471,8105.089354177471,8105.089354177471,8105.089354177471,8105.089354177471,7731.545725778087,7731.545725778087,7731.545725778087,7731.545725778087,7731.545725778087,7375.217804229099,7375.217804229099,7375.217804229099,7375.217804229099,7375.217804229099,7035.312159955415,7035.312159955415,7035.312159955415,7035.312159955415,7035.312159955415,6711.071930599084,6711.071930599084,6711.071930599084,6711.071930599084,6711.071930599084,6401.775135726222,6401.775135726222,6401.775135726222,6401.775135726222,6401.775135726222,6106.7330692049445,6106.7330692049445,6106.7330692049445,6106.7330692049445,6106.7330692049445,5825.288765674645,5825.288765674645,5825.288765674645,5825.288765674645,5825.288765674645,5556.815537691941,5556.815537691941,5556.815537691941,5556.815537691941,5556.815537691941,5300.715580295952,5300.715580295952,5300.715580295952,5300.715580295952,5300.715580295952,5056.4186398857455,5056.4186398857455,5056.4186398857455,5056.4186398857455,5056.4186398857455,4823.380744445927,4823.380744445927,4823.380744445927,4823.380744445927,4823.380744445927,4601.082992293028,4601.082992293028,4601.082992293028,4601.082992293028,4601.082992293028,4389.0303966455795,4389.0303966455795,4389.0303966455795,4389.0303966455795,4389.0303966455795],\"type\":\"scatter\",\"xaxis\":\"x\",\"yaxis\":\"y\"},{\"fill\":\"tonexty\",\"line\":{\"color\":\"yellow\"},\"name\":\"Solar CO2 Emissions\",\"showlegend\":false,\"x\":[2025,2025,2025,2025,2025,2026,2026,2026,2026,2026,2027,2027,2027,2027,2027,2028,2028,2028,2028,2028,2029,2029,2029,2029,2029,2030,2030,2030,2030,2030,2031,2031,2031,2031,2031,2032,2032,2032,2032,2032,2033,2033,2033,2033,2033,2034,2034,2034,2034,2034,2035,2035,2035,2035,2035,2036,2036,2036,2036,2036,2037,2037,2037,2037,2037,2038,2038,2038,2038,2038,2039,2039,2039,2039,2039,2040,2040,2040,2040,2040],\"y\":[-21703.284567721614,-21703.284567721614,-21703.284567721614,-21703.284567721614,-21703.284567721614,-20703.03357586393,-20703.03357586393,-20703.03357586393,-20703.03357586393,-20703.03357586393,-19748.88169142894,-19748.88169142894,-19748.88169142894,-19748.88169142894,-19748.88169142894,-18838.70431996735,-18838.70431996735,-18838.70431996735,-18838.70431996735,-18838.70431996735,-17970.474784361217,-17970.474784361217,-17970.474784361217,-17970.474784361217,-17970.474784361217,-17142.259812054945,-17142.259812054945,-17142.259812054945,-17142.259812054945,-17142.259812054945,-16352.215230268866,-16352.215230268866,-16352.215230268866,-16352.215230268866,-16352.215230268866,-15598.58185960972,-15598.58185960972,-15598.58185960972,-15598.58185960972,-15598.58185960972,-14879.68159693461,-14879.68159693461,-14879.68159693461,-14879.68159693461,-14879.68159693461,-14193.913678746056,-14193.913678746056,-14193.913678746056,-14193.913678746056,-14193.913678746056,-13539.751116798023,-13539.751116798023,-13539.751116798023,-13539.751116798023,-13539.751116798023,-12915.737297976084,-12915.737297976084,-12915.737297976084,-12915.737297976084,-12915.737297976084,-12320.482740880725,-12320.482740880725,-12320.482740880725,-12320.482740880725,-12320.482740880725,-11752.662001891767,-11752.662001891767,-11752.662001891767,-11752.662001891767,-11752.662001891767,-11211.010723824675,-11211.010723824675,-11211.010723824675,-11211.010723824675,-11211.010723824675,-10694.322820606998,-10694.322820606998,-10694.322820606998,-10694.322820606998,-10694.322820606998],\"type\":\"scatter\",\"xaxis\":\"x\",\"yaxis\":\"y\"},{\"fill\":\"tonexty\",\"line\":{\"color\":\"blue\"},\"name\":\"Net CO2 Emissions\",\"showlegend\":false,\"text\":\"Net Emissions\",\"x\":[2025,2025,2025,2025,2025,2026,2026,2026,2026,2026,2027,2027,2027,2027,2027,2028,2028,2028,2028,2028,2029,2029,2029,2029,2029,2030,2030,2030,2030,2030,2031,2031,2031,2031,2031,2032,2032,2032,2032,2032,2033,2033,2033,2033,2033,2034,2034,2034,2034,2034,2035,2035,2035,2035,2035,2036,2036,2036,2036,2036,2037,2037,2037,2037,2037,2038,2038,2038,2038,2038,2039,2039,2039,2039,2039,2040,2040,2040,2040,2040],\"y\":[62829.71120384964,62829.71120384964,62829.71120384964,62829.71120384964,62829.71120384964,63419.45167707225,63419.45167707225,63419.45167707225,63419.45167707225,63419.45167707225,63982.012462748535,63982.012462748535,63982.012462748535,63982.012462748535,63982.012462748535,64518.64620581074,64518.64620581074,64518.64620581074,64518.64620581074,64518.64620581074,65030.54781986789,65030.54781986789,65030.54781986789,65030.54781986789,65030.54781986789,65518.85714790047,65518.85714790047,65518.85714790047,65518.85714790047,65518.85714790047,65984.66150033021,65984.66150033021,65984.66150033021,65984.66150033021,65984.66150033021,66428.99807611649,66428.99807611649,66428.99807611649,66428.99807611649,66428.99807611649,66852.85627227034,66852.85627227034,66852.85627227034,66852.85627227034,66852.85627227034,67257.17988692858,67257.17988692858,67257.17988692858,67257.17988692858,67257.17988692858,67642.86922089392,67642.86922089392,67642.86922089392,67642.86922089392,67642.86922089392,68010.78308231986,68010.78308231986,68010.78308231986,68010.78308231986,68010.78308231986,68361.74069900501,68361.74069900501,68361.74069900501,68361.74069900501,68361.74069900501,68696.52354255416,68696.52354255416,68696.52354255416,68696.52354255416,68696.52354255416,69015.87706846835,69015.87706846835,69015.87706846835,69015.87706846835,69015.87706846835,69320.51237603859,69320.51237603859,69320.51237603859,69320.51237603859,69320.51237603859],\"type\":\"scatter\",\"xaxis\":\"x4\",\"yaxis\":\"y4\"},{\"showlegend\":false,\"x\":[10849,10849,5199,11049,11049,12199,11499,14899,11049,14599,12399,16899,12599,16599,15899,15899,13499,17999,18299,17599,16999,17499,19599,28099,30649,30899,30799,32999,33199,34799,34699,36399,38399,36099,38899,39899,43299,40699,41199,43499,42099,41099,42499,44099,48599],\"type\":\"histogram\",\"xaxis\":\"x7\",\"yaxis\":\"y7\"},{\"fill\":\"tonexty\",\"line\":{\"color\":\"grey\"},\"name\":\"Fossil fuel CO2 Emissions\",\"showlegend\":false,\"stackgroup\":\"1\",\"x\":[2025,2025,2025,2025,2025,2026,2026,2026,2026,2026,2027,2027,2027,2027,2027,2028,2028,2028,2028,2028,2029,2029,2029,2029,2029,2030,2030,2030,2030,2030,2031,2031,2031,2031,2031,2032,2032,2032,2032,2032,2033,2033,2033,2033,2033,2034,2034,2034,2034,2034,2035,2035,2035,2035,2035,2036,2036,2036,2036,2036,2037,2037,2037,2037,2037,2038,2038,2038,2038,2038,2039,2039,2039,2039,2039,2040,2040,2040,2040,2040],\"y\":[85231.02960000001,85231.02960000001,85231.02960000001,85231.02960000001,85231.02960000001,85231.02960000001,85231.02960000001,85231.02960000001,85231.02960000001,85231.02960000001,85231.02960000001,85231.02960000001,85231.02960000001,85231.02960000001,85231.02960000001,85231.02960000001,85231.02960000001,85231.02960000001,85231.02960000001,85231.02960000001,85231.02960000001,85231.02960000001,85231.02960000001,85231.02960000001,85231.02960000001,85231.02960000001,85231.02960000001,85231.02960000001,85231.02960000001,85231.02960000001,85231.02960000001,85231.02960000001,85231.02960000001,85231.02960000001,85231.02960000001,85231.02960000001,85231.02960000001,85231.02960000001,85231.02960000001,85231.02960000001,85231.02960000001,85231.02960000001,85231.02960000001,85231.02960000001,85231.02960000001,85231.02960000001,85231.02960000001,85231.02960000001,85231.02960000001,85231.02960000001,85231.02960000001,85231.02960000001,85231.02960000001,85231.02960000001,85231.02960000001,85231.02960000001,85231.02960000001,85231.02960000001,85231.02960000001,85231.02960000001,85231.02960000001,85231.02960000001,85231.02960000001,85231.02960000001,85231.02960000001,85231.02960000001,85231.02960000001,85231.02960000001,85231.02960000001,85231.02960000001,85231.02960000001,85231.02960000001,85231.02960000001,85231.02960000001,85231.02960000001,85231.02960000001,85231.02960000001,85231.02960000001,85231.02960000001,85231.02960000001],\"type\":\"scatter\",\"xaxis\":\"x2\",\"yaxis\":\"y2\"},{\"fill\":\"tonexty\",\"line\":{\"color\":\"red\"},\"name\":\"Electricity CO2 Emissions\",\"showlegend\":false,\"stackgroup\":\"1\",\"x\":[2025,2025,2025,2025,2025,2026,2026,2026,2026,2026,2027,2027,2027,2027,2027,2028,2028,2028,2028,2028,2029,2029,2029,2029,2029,2030,2030,2030,2030,2030,2031,2031,2031,2031,2031,2032,2032,2032,2032,2032,2033,2033,2033,2033,2033,2034,2034,2034,2034,2034,2035,2035,2035,2035,2035,2036,2036,2036,2036,2036,2037,2037,2037,2037,2037,2038,2038,2038,2038,2038,2039,2039,2039,2039,2039,2040,2040,2040,2040,2040],\"y\":[9018.342674661611,9018.342674661611,9018.342674661611,9018.342674661611,9018.342674661611,8602.7094474837,8602.7094474837,8602.7094474837,8602.7094474837,8602.7094474837,8206.231733216127,8206.231733216127,8206.231733216127,8206.231733216127,8206.231733216127,7828.0267013947605,7828.0267013947605,7828.0267013947605,7828.0267013947605,7828.0267013947605,7467.252209039641,7467.252209039641,7467.252209039641,7467.252209039641,7467.252209039641,7123.104925468941,7123.104925468941,7123.104925468941,7123.104925468941,7123.104925468941,6794.81854353562,6794.81854353562,6794.81854353562,6794.81854353562,6794.81854353562,6481.662073303801,6481.662073303801,6481.662073303801,6481.662073303801,6481.662073303801,6182.938214365383,6182.938214365383,6182.938214365383,6182.938214365383,6182.938214365383,5897.981803172598,5897.981803172598,5897.981803172598,5897.981803172598,5897.981803172598,5626.158331929176,5626.158331929176,5626.158331929176,5626.158331929176,5626.158331929176,5366.862535742172,5366.862535742172,5366.862535742172,5366.862535742172,5366.862535742172,5119.517044888506,5119.517044888506,5119.517044888506,5119.517044888506,5119.517044888506,4883.5710991952,4883.5710991952,4883.5710991952,4883.5710991952,4883.5710991952,4658.499321670685,4658.499321670685,4658.499321670685,4658.499321670685,4658.499321670685,4443.800548656414,4443.800548656414,4443.800548656414,4443.800548656414,4443.800548656414],\"type\":\"scatter\",\"xaxis\":\"x2\",\"yaxis\":\"y2\"},{\"fill\":\"tonexty\",\"line\":{\"color\":\"yellow\"},\"name\":\"Solar CO2 Emissions\",\"showlegend\":false,\"x\":[2025,2025,2025,2025,2025,2026,2026,2026,2026,2026,2027,2027,2027,2027,2027,2028,2028,2028,2028,2028,2029,2029,2029,2029,2029,2030,2030,2030,2030,2030,2031,2031,2031,2031,2031,2032,2032,2032,2032,2032,2033,2033,2033,2033,2033,2034,2034,2034,2034,2034,2035,2035,2035,2035,2035,2036,2036,2036,2036,2036,2037,2037,2037,2037,2037,2038,2038,2038,2038,2038,2039,2039,2039,2039,2039,2040,2040,2040,2040,2040],\"y\":[-28440.48475858073,-28440.48475858073,-28440.48475858073,-28440.48475858073,-28440.48475858073,-27129.73278461488,-27129.73278461488,-27129.73278461488,-27129.73278461488,-27129.73278461488,-25879.39014445047,-25879.39014445047,-25879.39014445047,-25879.39014445047,-25879.39014445047,-24686.672720510076,-24686.672720510076,-24686.672720510076,-24686.672720510076,-24686.672720510076,-23548.924708346025,-23548.924708346025,-23548.924708346025,-23548.924708346025,-23548.924708346025,-22463.61270300389,-22463.61270300389,-22463.61270300389,-22463.61270300389,-22463.61270300389,-21428.320057931,-21428.320057931,-21428.320057931,-21428.320057931,-21428.320057931,-20440.74150386888,-20440.74150386888,-20440.74150386888,-20440.74150386888,-20440.74150386888,-19498.67801574785,-19498.67801574785,-19498.67801574785,-19498.67801574785,-19498.67801574785,-18600.03191615369,-18600.03191615369,-18600.03191615369,-18600.03191615369,-18600.03191615369,-17742.802204463544,-17742.802204463544,-17742.802204463544,-17742.802204463544,-17742.802204463544,-16925.080101250467,-16925.080101250467,-16925.080101250467,-16925.080101250467,-16925.080101250467,-16145.044798035367,-16145.044798035367,-16145.044798035367,-16145.044798035367,-16145.044798035367,-15400.95940292244,-15400.95940292244,-15400.95940292244,-15400.95940292244,-15400.95940292244,-14691.167073090306,-14691.167073090306,-14691.167073090306,-14691.167073090306,-14691.167073090306,-14014.087325527102,-14014.087325527102,-14014.087325527102,-14014.087325527102,-14014.087325527102],\"type\":\"scatter\",\"xaxis\":\"x2\",\"yaxis\":\"y2\"},{\"fill\":\"tonexty\",\"line\":{\"color\":\"blue\"},\"name\":\"Net CO2 Emissions\",\"showlegend\":false,\"text\":\"Net Emissions\",\"x\":[2025,2025,2025,2025,2025,2026,2026,2026,2026,2026,2027,2027,2027,2027,2027,2028,2028,2028,2028,2028,2029,2029,2029,2029,2029,2030,2030,2030,2030,2030,2031,2031,2031,2031,2031,2032,2032,2032,2032,2032,2033,2033,2033,2033,2033,2034,2034,2034,2034,2034,2035,2035,2035,2035,2035,2036,2036,2036,2036,2036,2037,2037,2037,2037,2037,2038,2038,2038,2038,2038,2039,2039,2039,2039,2039,2040,2040,2040,2040,2040],\"y\":[65808.88751608088,65808.88751608088,65808.88751608088,65808.88751608088,65808.88751608088,66704.00626286883,66704.00626286883,66704.00626286883,66704.00626286883,66704.00626286883,67557.87118876565,67557.87118876565,67557.87118876565,67557.87118876565,67557.87118876565,68372.38358088468,68372.38358088468,68372.38358088468,68372.38358088468,68372.38358088468,69149.35710069364,69149.35710069364,69149.35710069364,69149.35710069364,69149.35710069364,69890.52182246505,69890.52182246505,69890.52182246505,69890.52182246505,69890.52182246505,70597.52808560463,70597.52808560463,70597.52808560463,70597.52808560463,70597.52808560463,71271.95016943492,71271.95016943492,71271.95016943492,71271.95016943492,71271.95016943492,71915.28979861754,71915.28979861754,71915.28979861754,71915.28979861754,71915.28979861754,72528.9794870189,72528.9794870189,72528.9794870189,72528.9794870189,72528.9794870189,73114.38572746565,73114.38572746565,73114.38572746565,73114.38572746565,73114.38572746565,73672.81203449168,73672.81203449168,73672.81203449168,73672.81203449168,73672.81203449168,74205.50184685315,74205.50184685315,74205.50184685315,74205.50184685315,74205.50184685315,74713.64129627276,74713.64129627276,74713.64129627276,74713.64129627276,74713.64129627276,75198.36184858037,75198.36184858037,75198.36184858037,75198.36184858037,75198.36184858037,75660.74282312932,75660.74282312932,75660.74282312932,75660.74282312932,75660.74282312932],\"type\":\"scatter\",\"xaxis\":\"x5\",\"yaxis\":\"y5\"},{\"showlegend\":false,\"x\":[11799,11799,11049,12599,11050,15699,12399,15699,20399,14099,20999,17299,14099,17299,19299,21899,22899,20499,18699,18699,31799,22999,34899,29199,38099,38999,42499,48999,45899,48699,46099,46399,48399,56499,54799,55299,53399,53599,53799,54999,56699,60599,61099,65699,77099],\"type\":\"histogram\",\"xaxis\":\"x8\",\"yaxis\":\"y8\"},{\"fill\":\"tonexty\",\"line\":{\"color\":\"grey\"},\"name\":\"Fossil fuel CO2 Emissions\",\"showlegend\":true,\"stackgroup\":\"1\",\"x\":[2025,2025,2025,2025,2025,2026,2026,2026,2026,2026,2027,2027,2027,2027,2027,2028,2028,2028,2028,2028,2029,2029,2029,2029,2029,2030,2030,2030,2030,2030,2031,2031,2031,2031,2031,2032,2032,2032,2032,2032,2033,2033,2033,2033,2033,2034,2034,2034,2034,2034,2035,2035,2035,2035,2035,2036,2036,2036,2036,2036,2037,2037,2037,2037,2037,2038,2038,2038,2038,2038,2039,2039,2039,2039,2039,2040,2040,2040,2040,2040],\"y\":[102625.5888,102625.5888,102625.5888,102625.5888,102625.5888,102625.5888,102625.5888,102625.5888,102625.5888,102625.5888,102625.5888,102625.5888,102625.5888,102625.5888,102625.5888,102625.5888,102625.5888,102625.5888,102625.5888,102625.5888,102625.5888,102625.5888,102625.5888,102625.5888,102625.5888,102625.5888,102625.5888,102625.5888,102625.5888,102625.5888,102625.5888,102625.5888,102625.5888,102625.5888,102625.5888,102625.5888,102625.5888,102625.5888,102625.5888,102625.5888,102625.5888,102625.5888,102625.5888,102625.5888,102625.5888,102625.5888,102625.5888,102625.5888,102625.5888,102625.5888,102625.5888,102625.5888,102625.5888,102625.5888,102625.5888,102625.5888,102625.5888,102625.5888,102625.5888,102625.5888,102625.5888,102625.5888,102625.5888,102625.5888,102625.5888,102625.5888,102625.5888,102625.5888,102625.5888,102625.5888,102625.5888,102625.5888,102625.5888,102625.5888,102625.5888,102625.5888,102625.5888,102625.5888,102625.5888,102625.5888],\"type\":\"scatter\",\"xaxis\":\"x3\",\"yaxis\":\"y3\"},{\"fill\":\"tonexty\",\"line\":{\"color\":\"red\"},\"name\":\"Electricity CO2 Emissions\",\"showlegend\":true,\"stackgroup\":\"1\",\"x\":[2025,2025,2025,2025,2025,2026,2026,2026,2026,2026,2027,2027,2027,2027,2027,2028,2028,2028,2028,2028,2029,2029,2029,2029,2029,2030,2030,2030,2030,2030,2031,2031,2031,2031,2031,2032,2032,2032,2032,2032,2033,2033,2033,2033,2033,2034,2034,2034,2034,2034,2035,2035,2035,2035,2035,2036,2036,2036,2036,2036,2037,2037,2037,2037,2037,2038,2038,2038,2038,2038,2039,2039,2039,2039,2039,2040,2040,2040,2040,2040],\"y\":[9264.986896835531,9264.986896835531,9264.986896835531,9264.986896835531,9264.986896835531,8837.986444245467,8837.986444245467,8837.986444245467,8837.986444245467,8837.986444245467,8430.665392019628,8430.665392019628,8430.665392019628,8430.665392019628,8430.665392019628,8042.116765009984,8042.116765009984,8042.116765009984,8042.116765009984,8042.116765009984,7671.475388321768,7671.475388321768,7671.475388321768,7671.475388321768,7671.475388321768,7317.915960842624,7317.915960842624,7317.915960842624,7317.915960842624,7317.915960842624,6980.651217558085,6980.651217558085,6980.651217558085,6980.651217558085,6980.651217558085,6658.930176561386,6658.930176561386,6658.930176561386,6658.930176561386,6658.930176561386,6352.036466854306,6352.036466854306,6352.036466854306,6352.036466854306,6352.036466854306,6059.2867332155265,6059.2867332155265,6059.2867332155265,6059.2867332155265,6059.2867332155265,5780.02911458471,5780.02911458471,5780.02911458471,5780.02911458471,5780.02911458471,5513.6417925741,5513.6417925741,5513.6417925741,5513.6417925741,5513.6417925741,5259.531606875644,5259.531606875644,5259.531606875644,5259.531606875644,5259.531606875644,5017.132734480615,5017.132734480615,5017.132734480615,5017.132734480615,5017.132734480615,4785.905429770733,4785.905429770733,4785.905429770733,4785.905429770733,4785.905429770733,4565.334822675396,4565.334822675396,4565.334822675396,4565.334822675396,4565.334822675396],\"type\":\"scatter\",\"xaxis\":\"x3\",\"yaxis\":\"y3\"},{\"fill\":\"tonexty\",\"line\":{\"color\":\"yellow\"},\"name\":\"Solar CO2 Emissions\",\"showlegend\":true,\"x\":[2025,2025,2025,2025,2025,2026,2026,2026,2026,2026,2027,2027,2027,2027,2027,2028,2028,2028,2028,2028,2029,2029,2029,2029,2029,2030,2030,2030,2030,2030,2031,2031,2031,2031,2031,2032,2032,2032,2032,2032,2033,2033,2033,2033,2033,2034,2034,2034,2034,2034,2035,2035,2035,2035,2035,2036,2036,2036,2036,2036,2037,2037,2037,2037,2037,2038,2038,2038,2038,2038,2039,2039,2039,2039,2039,2040,2040,2040,2040,2040],\"y\":[-39810.31909621595,-39810.31909621595,-39810.31909621595,-39810.31909621595,-39810.31909621595,-37975.559429405715,-37975.559429405715,-37975.559429405715,-37975.559429405715,-37975.559429405715,-36225.359321809716,-36225.359321809716,-36225.359321809716,-36225.359321809716,-36225.359321809716,-34555.821631375016,-34555.821631375016,-34555.821631375016,-34555.821631375016,-34555.821631375016,-32963.22882573831,-32963.22882573831,-32963.22882573831,-32963.22882573831,-32963.22882573831,-31444.03470445708,-31444.03470445708,-31444.03470445708,-31444.03470445708,-31444.03470445708,-29994.85650274298,-29994.85650274298,-29994.85650274298,-29994.85650274298,-29994.85650274298,-28612.467359114526,-28612.467359114526,-28612.467359114526,-28612.467359114526,-28612.467359114526,-27293.789130197303,-27293.789130197303,-27293.789130197303,-27293.789130197303,-27293.789130197303,-26035.885536672235,-26035.885536672235,-26035.885536672235,-26035.885536672235,-26035.885536672235,-24835.95562511032,-24835.95562511032,-24835.95562511032,-24835.95562511032,-24835.95562511032,-23691.327531135255,-23691.327531135255,-23691.327531135255,-23691.327531135255,-23691.327531135255,-22599.452530026574,-22599.452530026574,-22599.452530026574,-22599.452530026574,-22599.452530026574,-21557.899361515887,-21557.899361515887,-21557.899361515887,-21557.899361515887,-21557.899361515887,-20564.348816139245,-20564.348816139245,-20564.348816139245,-20564.348816139245,-20564.348816139245,-19616.58857109124,-19616.58857109124,-19616.58857109124,-19616.58857109124,-19616.58857109124],\"type\":\"scatter\",\"xaxis\":\"x3\",\"yaxis\":\"y3\"},{\"fill\":\"tonexty\",\"line\":{\"color\":\"blue\"},\"name\":\"Net CO2 Emissions\",\"showlegend\":true,\"text\":\"Net Emissions\",\"x\":[2025,2025,2025,2025,2025,2026,2026,2026,2026,2026,2027,2027,2027,2027,2027,2028,2028,2028,2028,2028,2029,2029,2029,2029,2029,2030,2030,2030,2030,2030,2031,2031,2031,2031,2031,2032,2032,2032,2032,2032,2033,2033,2033,2033,2033,2034,2034,2034,2034,2034,2035,2035,2035,2035,2035,2036,2036,2036,2036,2036,2037,2037,2037,2037,2037,2038,2038,2038,2038,2038,2039,2039,2039,2039,2039,2040,2040,2040,2040,2040],\"y\":[72080.25660061958,72080.25660061958,72080.25660061958,72080.25660061958,72080.25660061958,73488.01581483975,73488.01581483975,73488.01581483975,73488.01581483975,73488.01581483975,74830.89487020992,74830.89487020992,74830.89487020992,74830.89487020992,74830.89487020992,76111.88393363496,76111.88393363496,76111.88393363496,76111.88393363496,76111.88393363496,77333.83536258347,77333.83536258347,77333.83536258347,77333.83536258347,77333.83536258347,78499.47005638554,78499.47005638554,78499.47005638554,78499.47005638554,78499.47005638554,79611.3835148151,79611.3835148151,79611.3835148151,79611.3835148151,79611.3835148151,80672.05161744686,80672.05161744686,80672.05161744686,80672.05161744686,80672.05161744686,81683.836136657,81683.836136657,81683.836136657,81683.836136657,81683.836136657,82648.98999654329,82648.98999654329,82648.98999654329,82648.98999654329,82648.98999654329,83569.66228947439,83569.66228947439,83569.66228947439,83569.66228947439,83569.66228947439,84447.90306143885,84447.90306143885,84447.90306143885,84447.90306143885,84447.90306143885,85285.66787684907,85285.66787684907,85285.66787684907,85285.66787684907,85285.66787684907,86084.82217296472,86084.82217296472,86084.82217296472,86084.82217296472,86084.82217296472,86847.14541363149,86847.14541363149,86847.14541363149,86847.14541363149,86847.14541363149,87574.33505158414,87574.33505158414,87574.33505158414,87574.33505158414,87574.33505158414],\"type\":\"scatter\",\"xaxis\":\"x6\",\"yaxis\":\"y6\"},{\"showlegend\":false,\"x\":[12399,14299,14299,17499,21699,16600,16599,20099,15799,19099,25099,24899,20099,24699,21199,26949,24999,21199,32249,26799,45999,47499,46599,58999,48599,48599,61499,49499,57499,55999,56099,57599,57399,58149,65699,65899,64399,64499,67499,72599,79499,81199,85700,89999],\"type\":\"histogram\",\"xaxis\":\"x9\",\"yaxis\":\"y9\"}],                        {\"template\":{\"data\":{\"histogram2dcontour\":[{\"type\":\"histogram2dcontour\",\"colorbar\":{\"outlinewidth\":0,\"ticks\":\"\"},\"colorscale\":[[0.0,\"#0d0887\"],[0.1111111111111111,\"#46039f\"],[0.2222222222222222,\"#7201a8\"],[0.3333333333333333,\"#9c179e\"],[0.4444444444444444,\"#bd3786\"],[0.5555555555555556,\"#d8576b\"],[0.6666666666666666,\"#ed7953\"],[0.7777777777777778,\"#fb9f3a\"],[0.8888888888888888,\"#fdca26\"],[1.0,\"#f0f921\"]]}],\"choropleth\":[{\"type\":\"choropleth\",\"colorbar\":{\"outlinewidth\":0,\"ticks\":\"\"}}],\"histogram2d\":[{\"type\":\"histogram2d\",\"colorbar\":{\"outlinewidth\":0,\"ticks\":\"\"},\"colorscale\":[[0.0,\"#0d0887\"],[0.1111111111111111,\"#46039f\"],[0.2222222222222222,\"#7201a8\"],[0.3333333333333333,\"#9c179e\"],[0.4444444444444444,\"#bd3786\"],[0.5555555555555556,\"#d8576b\"],[0.6666666666666666,\"#ed7953\"],[0.7777777777777778,\"#fb9f3a\"],[0.8888888888888888,\"#fdca26\"],[1.0,\"#f0f921\"]]}],\"heatmap\":[{\"type\":\"heatmap\",\"colorbar\":{\"outlinewidth\":0,\"ticks\":\"\"},\"colorscale\":[[0.0,\"#0d0887\"],[0.1111111111111111,\"#46039f\"],[0.2222222222222222,\"#7201a8\"],[0.3333333333333333,\"#9c179e\"],[0.4444444444444444,\"#bd3786\"],[0.5555555555555556,\"#d8576b\"],[0.6666666666666666,\"#ed7953\"],[0.7777777777777778,\"#fb9f3a\"],[0.8888888888888888,\"#fdca26\"],[1.0,\"#f0f921\"]]}],\"heatmapgl\":[{\"type\":\"heatmapgl\",\"colorbar\":{\"outlinewidth\":0,\"ticks\":\"\"},\"colorscale\":[[0.0,\"#0d0887\"],[0.1111111111111111,\"#46039f\"],[0.2222222222222222,\"#7201a8\"],[0.3333333333333333,\"#9c179e\"],[0.4444444444444444,\"#bd3786\"],[0.5555555555555556,\"#d8576b\"],[0.6666666666666666,\"#ed7953\"],[0.7777777777777778,\"#fb9f3a\"],[0.8888888888888888,\"#fdca26\"],[1.0,\"#f0f921\"]]}],\"contourcarpet\":[{\"type\":\"contourcarpet\",\"colorbar\":{\"outlinewidth\":0,\"ticks\":\"\"}}],\"contour\":[{\"type\":\"contour\",\"colorbar\":{\"outlinewidth\":0,\"ticks\":\"\"},\"colorscale\":[[0.0,\"#0d0887\"],[0.1111111111111111,\"#46039f\"],[0.2222222222222222,\"#7201a8\"],[0.3333333333333333,\"#9c179e\"],[0.4444444444444444,\"#bd3786\"],[0.5555555555555556,\"#d8576b\"],[0.6666666666666666,\"#ed7953\"],[0.7777777777777778,\"#fb9f3a\"],[0.8888888888888888,\"#fdca26\"],[1.0,\"#f0f921\"]]}],\"surface\":[{\"type\":\"surface\",\"colorbar\":{\"outlinewidth\":0,\"ticks\":\"\"},\"colorscale\":[[0.0,\"#0d0887\"],[0.1111111111111111,\"#46039f\"],[0.2222222222222222,\"#7201a8\"],[0.3333333333333333,\"#9c179e\"],[0.4444444444444444,\"#bd3786\"],[0.5555555555555556,\"#d8576b\"],[0.6666666666666666,\"#ed7953\"],[0.7777777777777778,\"#fb9f3a\"],[0.8888888888888888,\"#fdca26\"],[1.0,\"#f0f921\"]]}],\"mesh3d\":[{\"type\":\"mesh3d\",\"colorbar\":{\"outlinewidth\":0,\"ticks\":\"\"}}],\"scatter\":[{\"fillpattern\":{\"fillmode\":\"overlay\",\"size\":10,\"solidity\":0.2},\"type\":\"scatter\"}],\"parcoords\":[{\"type\":\"parcoords\",\"line\":{\"colorbar\":{\"outlinewidth\":0,\"ticks\":\"\"}}}],\"scatterpolargl\":[{\"type\":\"scatterpolargl\",\"marker\":{\"colorbar\":{\"outlinewidth\":0,\"ticks\":\"\"}}}],\"bar\":[{\"error_x\":{\"color\":\"#2a3f5f\"},\"error_y\":{\"color\":\"#2a3f5f\"},\"marker\":{\"line\":{\"color\":\"#E5ECF6\",\"width\":0.5},\"pattern\":{\"fillmode\":\"overlay\",\"size\":10,\"solidity\":0.2}},\"type\":\"bar\"}],\"scattergeo\":[{\"type\":\"scattergeo\",\"marker\":{\"colorbar\":{\"outlinewidth\":0,\"ticks\":\"\"}}}],\"scatterpolar\":[{\"type\":\"scatterpolar\",\"marker\":{\"colorbar\":{\"outlinewidth\":0,\"ticks\":\"\"}}}],\"histogram\":[{\"marker\":{\"pattern\":{\"fillmode\":\"overlay\",\"size\":10,\"solidity\":0.2}},\"type\":\"histogram\"}],\"scattergl\":[{\"type\":\"scattergl\",\"marker\":{\"colorbar\":{\"outlinewidth\":0,\"ticks\":\"\"}}}],\"scatter3d\":[{\"type\":\"scatter3d\",\"line\":{\"colorbar\":{\"outlinewidth\":0,\"ticks\":\"\"}},\"marker\":{\"colorbar\":{\"outlinewidth\":0,\"ticks\":\"\"}}}],\"scattermapbox\":[{\"type\":\"scattermapbox\",\"marker\":{\"colorbar\":{\"outlinewidth\":0,\"ticks\":\"\"}}}],\"scatterternary\":[{\"type\":\"scatterternary\",\"marker\":{\"colorbar\":{\"outlinewidth\":0,\"ticks\":\"\"}}}],\"scattercarpet\":[{\"type\":\"scattercarpet\",\"marker\":{\"colorbar\":{\"outlinewidth\":0,\"ticks\":\"\"}}}],\"carpet\":[{\"aaxis\":{\"endlinecolor\":\"#2a3f5f\",\"gridcolor\":\"white\",\"linecolor\":\"white\",\"minorgridcolor\":\"white\",\"startlinecolor\":\"#2a3f5f\"},\"baxis\":{\"endlinecolor\":\"#2a3f5f\",\"gridcolor\":\"white\",\"linecolor\":\"white\",\"minorgridcolor\":\"white\",\"startlinecolor\":\"#2a3f5f\"},\"type\":\"carpet\"}],\"table\":[{\"cells\":{\"fill\":{\"color\":\"#EBF0F8\"},\"line\":{\"color\":\"white\"}},\"header\":{\"fill\":{\"color\":\"#C8D4E3\"},\"line\":{\"color\":\"white\"}},\"type\":\"table\"}],\"barpolar\":[{\"marker\":{\"line\":{\"color\":\"#E5ECF6\",\"width\":0.5},\"pattern\":{\"fillmode\":\"overlay\",\"size\":10,\"solidity\":0.2}},\"type\":\"barpolar\"}],\"pie\":[{\"automargin\":true,\"type\":\"pie\"}]},\"layout\":{\"autotypenumbers\":\"strict\",\"colorway\":[\"#636efa\",\"#EF553B\",\"#00cc96\",\"#ab63fa\",\"#FFA15A\",\"#19d3f3\",\"#FF6692\",\"#B6E880\",\"#FF97FF\",\"#FECB52\"],\"font\":{\"color\":\"#2a3f5f\"},\"hovermode\":\"closest\",\"hoverlabel\":{\"align\":\"left\"},\"paper_bgcolor\":\"white\",\"plot_bgcolor\":\"#E5ECF6\",\"polar\":{\"bgcolor\":\"#E5ECF6\",\"angularaxis\":{\"gridcolor\":\"white\",\"linecolor\":\"white\",\"ticks\":\"\"},\"radialaxis\":{\"gridcolor\":\"white\",\"linecolor\":\"white\",\"ticks\":\"\"}},\"ternary\":{\"bgcolor\":\"#E5ECF6\",\"aaxis\":{\"gridcolor\":\"white\",\"linecolor\":\"white\",\"ticks\":\"\"},\"baxis\":{\"gridcolor\":\"white\",\"linecolor\":\"white\",\"ticks\":\"\"},\"caxis\":{\"gridcolor\":\"white\",\"linecolor\":\"white\",\"ticks\":\"\"}},\"coloraxis\":{\"colorbar\":{\"outlinewidth\":0,\"ticks\":\"\"}},\"colorscale\":{\"sequential\":[[0.0,\"#0d0887\"],[0.1111111111111111,\"#46039f\"],[0.2222222222222222,\"#7201a8\"],[0.3333333333333333,\"#9c179e\"],[0.4444444444444444,\"#bd3786\"],[0.5555555555555556,\"#d8576b\"],[0.6666666666666666,\"#ed7953\"],[0.7777777777777778,\"#fb9f3a\"],[0.8888888888888888,\"#fdca26\"],[1.0,\"#f0f921\"]],\"sequentialminus\":[[0.0,\"#0d0887\"],[0.1111111111111111,\"#46039f\"],[0.2222222222222222,\"#7201a8\"],[0.3333333333333333,\"#9c179e\"],[0.4444444444444444,\"#bd3786\"],[0.5555555555555556,\"#d8576b\"],[0.6666666666666666,\"#ed7953\"],[0.7777777777777778,\"#fb9f3a\"],[0.8888888888888888,\"#fdca26\"],[1.0,\"#f0f921\"]],\"diverging\":[[0,\"#8e0152\"],[0.1,\"#c51b7d\"],[0.2,\"#de77ae\"],[0.3,\"#f1b6da\"],[0.4,\"#fde0ef\"],[0.5,\"#f7f7f7\"],[0.6,\"#e6f5d0\"],[0.7,\"#b8e186\"],[0.8,\"#7fbc41\"],[0.9,\"#4d9221\"],[1,\"#276419\"]]},\"xaxis\":{\"gridcolor\":\"white\",\"linecolor\":\"white\",\"ticks\":\"\",\"title\":{\"standoff\":15},\"zerolinecolor\":\"white\",\"automargin\":true,\"zerolinewidth\":2},\"yaxis\":{\"gridcolor\":\"white\",\"linecolor\":\"white\",\"ticks\":\"\",\"title\":{\"standoff\":15},\"zerolinecolor\":\"white\",\"automargin\":true,\"zerolinewidth\":2},\"scene\":{\"xaxis\":{\"backgroundcolor\":\"#E5ECF6\",\"gridcolor\":\"white\",\"linecolor\":\"white\",\"showbackground\":true,\"ticks\":\"\",\"zerolinecolor\":\"white\",\"gridwidth\":2},\"yaxis\":{\"backgroundcolor\":\"#E5ECF6\",\"gridcolor\":\"white\",\"linecolor\":\"white\",\"showbackground\":true,\"ticks\":\"\",\"zerolinecolor\":\"white\",\"gridwidth\":2},\"zaxis\":{\"backgroundcolor\":\"#E5ECF6\",\"gridcolor\":\"white\",\"linecolor\":\"white\",\"showbackground\":true,\"ticks\":\"\",\"zerolinecolor\":\"white\",\"gridwidth\":2}},\"shapedefaults\":{\"line\":{\"color\":\"#2a3f5f\"}},\"annotationdefaults\":{\"arrowcolor\":\"#2a3f5f\",\"arrowhead\":0,\"arrowwidth\":1},\"geo\":{\"bgcolor\":\"white\",\"landcolor\":\"#E5ECF6\",\"subunitcolor\":\"white\",\"showland\":true,\"showlakes\":true,\"lakecolor\":\"white\"},\"title\":{\"x\":0.05},\"mapbox\":{\"style\":\"light\"}}},\"xaxis\":{\"anchor\":\"y\",\"domain\":[0.0,0.2888888888888889],\"title\":{\"text\":\"Year\"}},\"yaxis\":{\"anchor\":\"x\",\"domain\":[0.7777777777777778,1.0],\"title\":{\"text\":\"Gross CO2 Emissions (kg)\"},\"range\":[-45000,120000]},\"xaxis2\":{\"anchor\":\"y2\",\"domain\":[0.35555555555555557,0.6444444444444445],\"title\":{\"text\":\"Year\"}},\"yaxis2\":{\"anchor\":\"x2\",\"domain\":[0.7777777777777778,1.0],\"matches\":\"y\",\"showticklabels\":false,\"range\":[-45000,120000]},\"xaxis3\":{\"anchor\":\"y3\",\"domain\":[0.7111111111111111,1.0],\"title\":{\"text\":\"Year\"}},\"yaxis3\":{\"anchor\":\"x3\",\"domain\":[0.7777777777777778,1.0],\"matches\":\"y\",\"showticklabels\":false,\"range\":[-45000,120000]},\"xaxis4\":{\"anchor\":\"y4\",\"domain\":[0.0,0.2888888888888889]},\"yaxis4\":{\"anchor\":\"x4\",\"domain\":[0.3888888888888889,0.6111111111111112],\"title\":{\"text\":\"Net CO2 Emissions (kg)\"},\"range\":[-20000,100000]},\"xaxis5\":{\"anchor\":\"y5\",\"domain\":[0.35555555555555557,0.6444444444444445]},\"yaxis5\":{\"anchor\":\"x5\",\"domain\":[0.3888888888888889,0.6111111111111112],\"matches\":\"y4\",\"showticklabels\":false,\"range\":[-20000,100000]},\"xaxis6\":{\"anchor\":\"y6\",\"domain\":[0.7111111111111111,1.0]},\"yaxis6\":{\"anchor\":\"x6\",\"domain\":[0.3888888888888889,0.6111111111111112],\"matches\":\"y4\",\"showticklabels\":false,\"range\":[-20000,100000]},\"xaxis7\":{\"anchor\":\"y7\",\"domain\":[0.0,0.2888888888888889],\"title\":{\"text\":\"Investment cost [\\u20ac]\"}},\"yaxis7\":{\"anchor\":\"x7\",\"domain\":[0.0,0.22222222222222224],\"title\":{\"text\":\"Count\"},\"range\":[0,30]},\"xaxis8\":{\"anchor\":\"y8\",\"domain\":[0.35555555555555557,0.6444444444444445],\"title\":{\"text\":\"Investment cost [\\u20ac]\"}},\"yaxis8\":{\"anchor\":\"x8\",\"domain\":[0.0,0.22222222222222224],\"matches\":\"y7\",\"showticklabels\":false,\"range\":[0,30]},\"xaxis9\":{\"anchor\":\"y9\",\"domain\":[0.7111111111111111,1.0],\"title\":{\"text\":\"Investment cost [\\u20ac]\"}},\"yaxis9\":{\"anchor\":\"x9\",\"domain\":[0.0,0.22222222222222224],\"matches\":\"y7\",\"showticklabels\":false,\"range\":[0,30]},\"annotations\":[{\"font\":{\"size\":16},\"showarrow\":false,\"text\":\"GESLOTEN\",\"x\":0.14444444444444446,\"xanchor\":\"center\",\"xref\":\"paper\",\"y\":1.0,\"yanchor\":\"bottom\",\"yref\":\"paper\"},{\"font\":{\"size\":16},\"showarrow\":false,\"text\":\"HALF_OPEN\",\"x\":0.5,\"xanchor\":\"center\",\"xref\":\"paper\",\"y\":1.0,\"yanchor\":\"bottom\",\"yref\":\"paper\"},{\"font\":{\"size\":16},\"showarrow\":false,\"text\":\"OPEN\",\"x\":0.8555555555555556,\"xanchor\":\"center\",\"xref\":\"paper\",\"y\":1.0,\"yanchor\":\"bottom\",\"yref\":\"paper\"}],\"title\":{\"text\":\"CO2 Emissions Over Years by Building Type with gas boilers and A labels\"},\"showlegend\":true,\"height\":1000,\"width\":1800},                        {\"responsive\": true}                    ).then(function(){\n",
       "                            \n",
       "var gd = document.getElementById('e14835b7-7174-4bfa-83ba-8dc760f30bfd');\n",
       "var x = new MutationObserver(function (mutations, observer) {{\n",
       "        var display = window.getComputedStyle(gd).display;\n",
       "        if (!display || display === 'none') {{\n",
       "            console.log([gd, 'removed!']);\n",
       "            Plotly.purge(gd);\n",
       "            observer.disconnect();\n",
       "        }}\n",
       "}});\n",
       "\n",
       "// Listen for the removal of the full notebook cells\n",
       "var notebookContainer = gd.closest('#notebook-container');\n",
       "if (notebookContainer) {{\n",
       "    x.observe(notebookContainer, {childList: true});\n",
       "}}\n",
       "\n",
       "// Listen for the clearing of the current output cell\n",
       "var outputEl = gd.closest('.output');\n",
       "if (outputEl) {{\n",
       "    x.observe(outputEl, {childList: true});\n",
       "}}\n",
       "\n",
       "                        })                };                });            </script>        </div>"
      ]
     },
     "metadata": {},
     "output_type": "display_data"
    }
   ],
   "source": [
    "import pandas as pd\n",
    "import plotly.graph_objects as go\n",
    "from plotly.subplots import make_subplots\n",
    "\n",
    "\n",
    "# Filter the DataFrame\n",
    "testcase2 = df[(df['epc_ind'] <= 100) & (df['heating_system'] == 'Gasboiler')& (df['dhw_system'] == 'Gasboiler')].sort_values(by='tco', ascending=True).drop_duplicates(subset=['name'], keep='first')\n",
    "\n",
    "# Extract the years from the columns\n",
    "years = sorted([int(col.split('_')[-1]) for col in testcase2.columns if 'emissions_' in col])\n",
    "\n",
    "# Initialize lists to store the data\n",
    "data = []\n",
    "\n",
    "# Collect data for each year and each building type\n",
    "for year in years:\n",
    "    for building_type, group in testcase2.groupby('building_type'):\n",
    "        modified_emissions = group[f'modified_emissions_{year}'].sum()\n",
    "        fossil_emissions = group[f'fossil_emissions_{year}'].sum()\n",
    "        electricity_emissions = group[f'electricity_emissions_{year}'].sum()\n",
    "        solar_emissions = group[f'solar_injection_emissions_{year}'].sum() * -1  # Make solar emissions negative\n",
    "        net_emissions = group[f'emissions_{year}'].sum()\n",
    "        data.append([year, building_type, 'Modified CO2 Emissions', modified_emissions])\n",
    "        data.append([year, building_type, 'Solar CO2 Emissions', solar_emissions])\n",
    "        data.append([year, building_type, 'Net Emissions', net_emissions])\n",
    "        data.append([year, building_type, 'Fossil Emissions', fossil_emissions])\n",
    "        data.append([year, building_type, 'Electricity Emissions', electricity_emissions])\n",
    "\n",
    "# Create a DataFrame from the collected data\n",
    "emissions_df = pd.DataFrame(data, columns=['Year', 'Building Type', 'Emissions Type', 'Emissions'])\n",
    "\n",
    "# Get unique building types\n",
    "building_types = emissions_df['Building Type'].unique()\n",
    "\n",
    "# Create subplots\n",
    "fig = make_subplots(rows=3, cols=len(building_types), shared_yaxes=True, subplot_titles=building_types)\n",
    "\n",
    "# Add traces for each building type\n",
    "for i, building_type in enumerate(building_types, start=1):\n",
    "    subset = emissions_df[emissions_df['Building Type'] == building_type]\n",
    "    fig.add_trace(go.Scatter(\n",
    "        x=subset[subset['Emissions Type'] == 'Fossil Emissions']['Year'],\n",
    "        y=subset[subset['Emissions Type'] == 'Fossil Emissions']['Emissions'],\n",
    "        fill='tonexty',\n",
    "        name=f'Fossil fuel CO2 Emissions',\n",
    "        stackgroup = '1',\n",
    "        line=dict(color=\"grey\"),\n",
    "        showlegend = True if building_type == 'OPEN' else False \n",
    "    ), row=1, col=i)\n",
    "    fig.add_trace(go.Scatter(\n",
    "        x=subset[subset['Emissions Type'] == 'Electricity Emissions']['Year'],\n",
    "        y=subset[subset['Emissions Type'] == 'Electricity Emissions']['Emissions'],\n",
    "        fill='tonexty',\n",
    "        stackgroup = '1',\n",
    "        name=f'Electricity CO2 Emissions', \n",
    "        line=dict(color=\"red\"),\n",
    "        showlegend = True if building_type == 'OPEN' else False \n",
    "    ), row=1, col=i)\n",
    "\n",
    "    # fig.add_trace(go.Scatter(\n",
    "    #     x=subset[subset['Emissions Type'] == 'Modified CO2 Emissions']['Year'],\n",
    "    #     y=subset[subset['Emissions Type'] == 'Modified CO2 Emissions']['Emissions'],\n",
    "    #     fill='tonexty',\n",
    "    #     name=f'{building_type} - Modified CO2 Emissions'\n",
    "    # ), row=1, col=i)\n",
    "    fig.add_trace(go.Scatter(\n",
    "        x=subset[subset['Emissions Type'] == 'Solar CO2 Emissions']['Year'],\n",
    "        y=subset[subset['Emissions Type'] == 'Solar CO2 Emissions']['Emissions'],\n",
    "        fill='tonexty',\n",
    "        name=f'Solar CO2 Emissions', \n",
    "        line=dict(color=\"yellow\"),\n",
    "        showlegend = True if building_type == 'OPEN' else False \n",
    "    ), row=1, col=i)\n",
    "    fig.add_trace(go.Scatter(\n",
    "        x=subset[subset['Emissions Type'] == 'Net Emissions']['Year'],\n",
    "        y=subset[subset['Emissions Type'] == 'Net Emissions']['Emissions'],\n",
    "        fill='tonexty',\n",
    "        text = 'Net Emissions',\n",
    "        name=f'Net CO2 Emissions', \n",
    "        line=dict(color=\"blue\"),\n",
    "        showlegend = True if building_type == 'OPEN' else False \n",
    "    ), row=2, col=i)\n",
    "    \n",
    "    fig.add_trace(go.Histogram(x = testcase2[testcase2.building_type == building_type].total_investment_cost, showlegend = False), row = 3, col = i)\n",
    "\n",
    "\n",
    "# Update layout\n",
    "fig.update_layout(\n",
    "    title='CO2 Emissions Over Years by Building Type with gas boilers and A labels',\n",
    "    xaxis_title='Year',\n",
    "    yaxis_title='CO2 Emissions (kg)',\n",
    "    showlegend=True,\n",
    "    height = 1000, width = 1800,\n",
    "\n",
    ")\n",
    "\n",
    "# Update x-axes titles for each subplot\n",
    "for i in range(1, len(building_types) + 1):\n",
    "    fig.update_xaxes(title_text='Year', row=1, col=i)\n",
    "\n",
    "# Update y-axis title only for the first subplot\n",
    "fig.update_yaxes(title_text='Gross CO2 Emissions (kg)', row=1, col=1)\n",
    "fig.update_yaxes(title_text='Net CO2 Emissions (kg)', row=2, col=1)\n",
    "fig.update_yaxes(title_text='Count', row=3, col=1)\n",
    "fig.update_yaxes(range = [-45000, 120000], row = 1)\n",
    "fig.update_yaxes(range = [-20000, 100000], row = 2)\n",
    "fig.update_yaxes(range = [0, 30], row = 3)\n",
    "for i in range(len(building_types)+ 1):\n",
    "    fig.update_xaxes(title_text='Investment cost [€]', row=3, col=i)\n",
    "# Show the plot\n",
    "fig.show()"
   ]
  },
  {
   "cell_type": "code",
   "execution_count": 38,
   "metadata": {},
   "outputs": [
    {
     "data": {
      "application/vnd.plotly.v1+json": {
       "config": {
        "plotlyServerURL": "https://plot.ly"
       },
       "data": [
        {
         "fill": "tonexty",
         "name": "GESLOTEN - Modified CO2 Emissions",
         "type": "scatter",
         "x": [
          2025,
          2025,
          2025,
          2025,
          2025,
          2026,
          2026,
          2026,
          2026,
          2026,
          2027,
          2027,
          2027,
          2027,
          2027,
          2028,
          2028,
          2028,
          2028,
          2028,
          2029,
          2029,
          2029,
          2029,
          2029,
          2030,
          2030,
          2030,
          2030,
          2030,
          2031,
          2031,
          2031,
          2031,
          2031,
          2032,
          2032,
          2032,
          2032,
          2032,
          2033,
          2033,
          2033,
          2033,
          2033,
          2034,
          2034,
          2034,
          2034,
          2034,
          2035,
          2035,
          2035,
          2035,
          2035,
          2036,
          2036,
          2036,
          2036,
          2036,
          2037,
          2037,
          2037,
          2037,
          2037,
          2038,
          2038,
          2038,
          2038,
          2038,
          2039,
          2039,
          2039,
          2039,
          2039,
          2040,
          2040,
          2040,
          2040,
          2040
         ],
         "xaxis": "x",
         "y": [
          20807.458120156665,
          20807.458120156665,
          20807.458120156665,
          20807.458120156665,
          20807.458120156665,
          19848.49356537782,
          19848.49356537782,
          19848.49356537782,
          19848.49356537782,
          19848.49356537782,
          18933.725327708526,
          18933.725327708526,
          18933.725327708526,
          18933.725327708526,
          18933.725327708526,
          18061.116507623865,
          18061.116507623865,
          18061.116507623865,
          18061.116507623865,
          18061.116507623865,
          17228.72408128688,
          17228.72408128688,
          17228.72408128688,
          17228.72408128688,
          17228.72408128688,
          16434.6945740491,
          16434.6945740491,
          16434.6945740491,
          16434.6945740491,
          16434.6945740491,
          15677.259933348707,
          15677.259933348707,
          15677.259933348707,
          15677.259933348707,
          15677.259933348707,
          14954.733591816761,
          14954.733591816761,
          14954.733591816761,
          14954.733591816761,
          14954.733591816761,
          14265.5067118251,
          14265.5067118251,
          14265.5067118251,
          14265.5067118251,
          14265.5067118251,
          13608.044603113813,
          13608.044603113813,
          13608.044603113813,
          13608.044603113813,
          13608.044603113813,
          12980.883305521476,
          12980.883305521476,
          12980.883305521476,
          12980.883305521476,
          12980.883305521476,
          12382.626329208899,
          12382.626329208899,
          12382.626329208899,
          12382.626329208899,
          12382.626329208899,
          11811.941545117972,
          11811.941545117972,
          11811.941545117972,
          11811.941545117972,
          11811.941545117972,
          11267.558218741606,
          11267.558218741606,
          11267.558218741606,
          11267.558218741606,
          11267.558218741606,
          10748.26418059992,
          10748.26418059992,
          10748.26418059992,
          10748.26418059992,
          10748.26418059992,
          10252.903127122194,
          10252.903127122194,
          10252.903127122194,
          10252.903127122194,
          10252.903127122194
         ],
         "yaxis": "y"
        },
        {
         "fill": "tonexty",
         "name": "GESLOTEN - Solar CO2 Emissions",
         "type": "scatter",
         "x": [
          2025,
          2025,
          2025,
          2025,
          2025,
          2026,
          2026,
          2026,
          2026,
          2026,
          2027,
          2027,
          2027,
          2027,
          2027,
          2028,
          2028,
          2028,
          2028,
          2028,
          2029,
          2029,
          2029,
          2029,
          2029,
          2030,
          2030,
          2030,
          2030,
          2030,
          2031,
          2031,
          2031,
          2031,
          2031,
          2032,
          2032,
          2032,
          2032,
          2032,
          2033,
          2033,
          2033,
          2033,
          2033,
          2034,
          2034,
          2034,
          2034,
          2034,
          2035,
          2035,
          2035,
          2035,
          2035,
          2036,
          2036,
          2036,
          2036,
          2036,
          2037,
          2037,
          2037,
          2037,
          2037,
          2038,
          2038,
          2038,
          2038,
          2038,
          2039,
          2039,
          2039,
          2039,
          2039,
          2040,
          2040,
          2040,
          2040,
          2040
         ],
         "xaxis": "x",
         "y": [
          -23799.830805379108,
          -23799.830805379108,
          -23799.830805379108,
          -23799.830805379108,
          -23799.830805379108,
          -22702.95515529752,
          -22702.95515529752,
          -22702.95515529752,
          -22702.95515529752,
          -22702.95515529752,
          -21656.631805422632,
          -21656.631805422632,
          -21656.631805422632,
          -21656.631805422632,
          -21656.631805422632,
          -20658.53092460538,
          -20658.53092460538,
          -20658.53092460538,
          -20658.53092460538,
          -20658.53092460538,
          -19706.430057882593,
          -19706.430057882593,
          -19706.430057882593,
          -19706.430057882593,
          -19706.430057882593,
          -18798.209177772722,
          -18798.209177772722,
          -18798.209177772722,
          -18798.209177772722,
          -18798.209177772722,
          -17931.845963645217,
          -17931.845963645217,
          -17931.845963645217,
          -17931.845963645217,
          -17931.845963645217,
          -17105.41129865211,
          -17105.41129865211,
          -17105.41129865211,
          -17105.41129865211,
          -17105.41129865211,
          -16317.064974194991,
          -16317.064974194991,
          -16317.064974194991,
          -16317.064974194991,
          -16317.064974194991,
          -15565.051592362528,
          -15565.051592362528,
          -15565.051592362528,
          -15565.051592362528,
          -15565.051592362528,
          -14847.696657214532,
          -14847.696657214532,
          -14847.696657214532,
          -14847.696657214532,
          -14847.696657214532,
          -14163.402846209141,
          -14163.402846209141,
          -14163.402846209141,
          -14163.402846209141,
          -14163.402846209141,
          -13510.646453470757,
          -13510.646453470757,
          -13510.646453470757,
          -13510.646453470757,
          -13510.646453470757,
          -12887.973996979019,
          -12887.973996979019,
          -12887.973996979019,
          -12887.973996979019,
          -12887.973996979019,
          -12293.998982124047,
          -12293.998982124047,
          -12293.998982124047,
          -12293.998982124047,
          -12293.998982124047,
          -11727.398814421513,
          -11727.398814421513,
          -11727.398814421513,
          -11727.398814421513,
          -11727.398814421513
         ],
         "yaxis": "y"
        },
        {
         "fill": "tonexty",
         "name": "HALF_OPEN - Modified CO2 Emissions",
         "type": "scatter",
         "x": [
          2025,
          2025,
          2025,
          2025,
          2025,
          2026,
          2026,
          2026,
          2026,
          2026,
          2027,
          2027,
          2027,
          2027,
          2027,
          2028,
          2028,
          2028,
          2028,
          2028,
          2029,
          2029,
          2029,
          2029,
          2029,
          2030,
          2030,
          2030,
          2030,
          2030,
          2031,
          2031,
          2031,
          2031,
          2031,
          2032,
          2032,
          2032,
          2032,
          2032,
          2033,
          2033,
          2033,
          2033,
          2033,
          2034,
          2034,
          2034,
          2034,
          2034,
          2035,
          2035,
          2035,
          2035,
          2035,
          2036,
          2036,
          2036,
          2036,
          2036,
          2037,
          2037,
          2037,
          2037,
          2037,
          2038,
          2038,
          2038,
          2038,
          2038,
          2039,
          2039,
          2039,
          2039,
          2039,
          2040,
          2040,
          2040,
          2040,
          2040
         ],
         "xaxis": "x2",
         "y": [
          21471.413673173625,
          21471.413673173625,
          21471.413673173625,
          21471.413673173625,
          21471.413673173625,
          20481.849040402794,
          20481.849040402794,
          20481.849040402794,
          20481.849040402794,
          20481.849040402794,
          19537.891007054623,
          19537.891007054623,
          19537.891007054623,
          19537.891007054623,
          19537.891007054623,
          18637.437677161943,
          18637.437677161943,
          18637.437677161943,
          18637.437677161943,
          18637.437677161943,
          17778.484025971626,
          17778.484025971626,
          17778.484025971626,
          17778.484025971626,
          17778.484025971626,
          16959.117435388758,
          16959.117435388758,
          16959.117435388758,
          16959.117435388758,
          16959.117435388758,
          16177.513435181005,
          16177.513435181005,
          16177.513435181005,
          16177.513435181005,
          16177.513435181005,
          15431.931640460549,
          15431.931640460549,
          15431.931640460549,
          15431.931640460549,
          15431.931640460549,
          14720.711876397394,
          14720.711876397394,
          14720.711876397394,
          14720.711876397394,
          14720.711876397394,
          14042.270481535134,
          14042.270481535134,
          14042.270481535134,
          14042.270481535134,
          14042.270481535134,
          13395.09678147782,
          13395.09678147782,
          13395.09678147782,
          13395.09678147782,
          13395.09678147782,
          12777.749725095868,
          12777.749725095868,
          12777.749725095868,
          12777.749725095868,
          12777.749725095868,
          12188.85467576104,
          12188.85467576104,
          12188.85467576104,
          12188.85467576104,
          12188.85467576104,
          11627.100350465435,
          11627.100350465435,
          11627.100350465435,
          11627.100350465435,
          11627.100350465435,
          11091.235900008998,
          11091.235900008998,
          11091.235900008998,
          11091.235900008998,
          11091.235900008998,
          10580.068123754008,
          10580.068123754008,
          10580.068123754008,
          10580.068123754008,
          10580.068123754008
         ],
         "yaxis": "y2"
        },
        {
         "fill": "tonexty",
         "name": "HALF_OPEN - Solar CO2 Emissions",
         "type": "scatter",
         "x": [
          2025,
          2025,
          2025,
          2025,
          2025,
          2026,
          2026,
          2026,
          2026,
          2026,
          2027,
          2027,
          2027,
          2027,
          2027,
          2028,
          2028,
          2028,
          2028,
          2028,
          2029,
          2029,
          2029,
          2029,
          2029,
          2030,
          2030,
          2030,
          2030,
          2030,
          2031,
          2031,
          2031,
          2031,
          2031,
          2032,
          2032,
          2032,
          2032,
          2032,
          2033,
          2033,
          2033,
          2033,
          2033,
          2034,
          2034,
          2034,
          2034,
          2034,
          2035,
          2035,
          2035,
          2035,
          2035,
          2036,
          2036,
          2036,
          2036,
          2036,
          2037,
          2037,
          2037,
          2037,
          2037,
          2038,
          2038,
          2038,
          2038,
          2038,
          2039,
          2039,
          2039,
          2039,
          2039,
          2040,
          2040,
          2040,
          2040,
          2040
         ],
         "xaxis": "x2",
         "y": [
          -29035.779512726684,
          -29035.779512726684,
          -29035.779512726684,
          -29035.779512726684,
          -29035.779512726684,
          -27697.591868071264,
          -27697.591868071264,
          -27697.591868071264,
          -27697.591868071264,
          -27697.591868071264,
          -26421.07799978281,
          -26421.07799978281,
          -26421.07799978281,
          -26421.07799978281,
          -26421.07799978281,
          -25203.395515236836,
          -25203.395515236836,
          -25203.395515236836,
          -25203.395515236836,
          -25203.395515236836,
          -24041.833020692095,
          -24041.833020692095,
          -24041.833020692095,
          -24041.833020692095,
          -24041.833020692095,
          -22933.80408387444,
          -22933.80408387444,
          -22933.80408387444,
          -22933.80408387444,
          -22933.80408387444,
          -21876.84147481009,
          -21876.84147481009,
          -21876.84147481009,
          -21876.84147481009,
          -21876.84147481009,
          -20868.591672085,
          -20868.591672085,
          -20868.591672085,
          -20868.591672085,
          -20868.591672085,
          -19906.80962229698,
          -19906.80962229698,
          -19906.80962229698,
          -19906.80962229698,
          -19906.80962229698,
          -18989.35374103197,
          -18989.35374103197,
          -18989.35374103197,
          -18989.35374103197,
          -18989.35374103197,
          -18114.18114423284,
          -18114.18114423284,
          -18114.18114423284,
          -18114.18114423284,
          -18114.18114423284,
          -17279.343099342816,
          -17279.343099342816,
          -17279.343099342816,
          -17279.343099342816,
          -17279.343099342816,
          -16482.980686094455,
          -16482.980686094455,
          -16482.980686094455,
          -16482.980686094455,
          -16482.980686094455,
          -15723.320657282158,
          -15723.320657282158,
          -15723.320657282158,
          -15723.320657282158,
          -15723.320657282158,
          -14998.67149030154,
          -14998.67149030154,
          -14998.67149030154,
          -14998.67149030154,
          -14998.67149030154,
          -14307.419620663613,
          -14307.419620663613,
          -14307.419620663613,
          -14307.419620663613,
          -14307.419620663613
         ],
         "yaxis": "y2"
        },
        {
         "fill": "tonexty",
         "name": "OPEN - Modified CO2 Emissions",
         "type": "scatter",
         "x": [
          2025,
          2025,
          2025,
          2025,
          2025,
          2026,
          2026,
          2026,
          2026,
          2026,
          2027,
          2027,
          2027,
          2027,
          2027,
          2028,
          2028,
          2028,
          2028,
          2028,
          2029,
          2029,
          2029,
          2029,
          2029,
          2030,
          2030,
          2030,
          2030,
          2030,
          2031,
          2031,
          2031,
          2031,
          2031,
          2032,
          2032,
          2032,
          2032,
          2032,
          2033,
          2033,
          2033,
          2033,
          2033,
          2034,
          2034,
          2034,
          2034,
          2034,
          2035,
          2035,
          2035,
          2035,
          2035,
          2036,
          2036,
          2036,
          2036,
          2036,
          2037,
          2037,
          2037,
          2037,
          2037,
          2038,
          2038,
          2038,
          2038,
          2038,
          2039,
          2039,
          2039,
          2039,
          2039,
          2040,
          2040,
          2040,
          2040,
          2040
         ],
         "xaxis": "x3",
         "y": [
          22743.608229304024,
          22743.608229304024,
          22743.608229304024,
          22743.608229304024,
          22743.608229304024,
          21695.411279261825,
          21695.411279261825,
          21695.411279261825,
          21695.411279261825,
          21695.411279261825,
          20695.5231478996,
          20695.5231478996,
          20695.5231478996,
          20695.5231478996,
          20695.5231478996,
          19741.717400612517,
          19741.717400612517,
          19741.717400612517,
          19741.717400612517,
          19741.717400612517,
          18831.870213689246,
          18831.870213689246,
          18831.870213689246,
          18831.870213689246,
          18831.870213689246,
          17963.95564522838,
          17963.95564522838,
          17963.95564522838,
          17963.95564522838,
          17963.95564522838,
          17136.04112400652,
          17136.04112400652,
          17136.04112400652,
          17136.04112400652,
          17136.04112400652,
          16346.283146253532,
          16346.283146253532,
          16346.283146253532,
          16346.283146253532,
          16346.283146253532,
          15592.923170752696,
          15592.923170752696,
          15592.923170752696,
          15592.923170752696,
          15592.923170752696,
          14874.28370312564,
          14874.28370312564,
          14874.28370312564,
          14874.28370312564,
          14874.28370312564,
          14188.76456058298,
          14188.76456058298,
          14188.76456058298,
          14188.76456058298,
          14188.76456058298,
          13534.839308823357,
          13534.839308823357,
          13534.839308823357,
          13534.839308823357,
          13534.839308823357,
          12911.051863147064,
          12911.051863147064,
          12911.051863147064,
          12911.051863147064,
          12911.051863147064,
          12316.013246215982,
          12316.013246215982,
          12316.013246215982,
          12316.013246215982,
          12316.013246215982,
          11748.398495240388,
          11748.398495240388,
          11748.398495240388,
          11748.398495240388,
          11748.398495240388,
          11206.943711705886,
          11206.943711705886,
          11206.943711705886,
          11206.943711705886,
          11206.943711705886
         ],
         "yaxis": "y3"
        },
        {
         "fill": "tonexty",
         "name": "OPEN - Solar CO2 Emissions",
         "type": "scatter",
         "x": [
          2025,
          2025,
          2025,
          2025,
          2025,
          2026,
          2026,
          2026,
          2026,
          2026,
          2027,
          2027,
          2027,
          2027,
          2027,
          2028,
          2028,
          2028,
          2028,
          2028,
          2029,
          2029,
          2029,
          2029,
          2029,
          2030,
          2030,
          2030,
          2030,
          2030,
          2031,
          2031,
          2031,
          2031,
          2031,
          2032,
          2032,
          2032,
          2032,
          2032,
          2033,
          2033,
          2033,
          2033,
          2033,
          2034,
          2034,
          2034,
          2034,
          2034,
          2035,
          2035,
          2035,
          2035,
          2035,
          2036,
          2036,
          2036,
          2036,
          2036,
          2037,
          2037,
          2037,
          2037,
          2037,
          2038,
          2038,
          2038,
          2038,
          2038,
          2039,
          2039,
          2039,
          2039,
          2039,
          2040,
          2040,
          2040,
          2040,
          2040
         ],
         "xaxis": "x3",
         "y": [
          -39556.9213528416,
          -39556.9213528416,
          -39556.9213528416,
          -39556.9213528416,
          -39556.9213528416,
          -37733.84016462081,
          -37733.84016462081,
          -37733.84016462081,
          -37733.84016462081,
          -37733.84016462081,
          -35994.78030326716,
          -35994.78030326716,
          -35994.78030326716,
          -35994.78030326716,
          -35994.78030326716,
          -34335.86943253246,
          -34335.86943253246,
          -34335.86943253246,
          -34335.86943253246,
          -34335.86943253246,
          -32753.41368261959,
          -32753.41368261959,
          -32753.41368261959,
          -32753.41368261959,
          -32753.41368261959,
          -31243.88942510283,
          -31243.88942510283,
          -31243.88942510283,
          -31243.88942510283,
          -31243.88942510283,
          -29803.935426921827,
          -29803.935426921827,
          -29803.935426921827,
          -29803.935426921827,
          -29803.935426921827,
          -28430.345365978803,
          -28430.345365978803,
          -28430.345365978803,
          -28430.345365978803,
          -28430.345365978803,
          -27120.060691673316,
          -27120.060691673316,
          -27120.060691673316,
          -27120.060691673316,
          -27120.060691673316,
          -25870.16381447754,
          -25870.16381447754,
          -25870.16381447754,
          -25870.16381447754,
          -25870.16381447754,
          -24677.871609387206,
          -24677.871609387206,
          -24677.871609387206,
          -24677.871609387206,
          -24677.871609387206,
          -23540.529218782543,
          -23540.529218782543,
          -23540.529218782543,
          -23540.529218782543,
          -23540.529218782543,
          -22455.60414090002,
          -22455.60414090002,
          -22455.60414090002,
          -22455.60414090002,
          -22455.60414090002,
          -21420.680590752036,
          -21420.680590752036,
          -21420.680590752036,
          -21420.680590752036,
          -21420.680590752036,
          -20433.454120937782,
          -20433.454120937782,
          -20433.454120937782,
          -20433.454120937782,
          -20433.454120937782,
          -19491.726490367804,
          -19491.726490367804,
          -19491.726490367804,
          -19491.726490367804,
          -19491.726490367804
         ],
         "yaxis": "y3"
        }
       ],
       "layout": {
        "annotations": [
         {
          "font": {
           "size": 16
          },
          "showarrow": false,
          "text": "GESLOTEN",
          "x": 0.14444444444444446,
          "xanchor": "center",
          "xref": "paper",
          "y": 1,
          "yanchor": "bottom",
          "yref": "paper"
         },
         {
          "font": {
           "size": 16
          },
          "showarrow": false,
          "text": "HALF_OPEN",
          "x": 0.5,
          "xanchor": "center",
          "xref": "paper",
          "y": 1,
          "yanchor": "bottom",
          "yref": "paper"
         },
         {
          "font": {
           "size": 16
          },
          "showarrow": false,
          "text": "OPEN",
          "x": 0.8555555555555556,
          "xanchor": "center",
          "xref": "paper",
          "y": 1,
          "yanchor": "bottom",
          "yref": "paper"
         }
        ],
        "showlegend": true,
        "template": {
         "data": {
          "bar": [
           {
            "error_x": {
             "color": "#2a3f5f"
            },
            "error_y": {
             "color": "#2a3f5f"
            },
            "marker": {
             "line": {
              "color": "#E5ECF6",
              "width": 0.5
             },
             "pattern": {
              "fillmode": "overlay",
              "size": 10,
              "solidity": 0.2
             }
            },
            "type": "bar"
           }
          ],
          "barpolar": [
           {
            "marker": {
             "line": {
              "color": "#E5ECF6",
              "width": 0.5
             },
             "pattern": {
              "fillmode": "overlay",
              "size": 10,
              "solidity": 0.2
             }
            },
            "type": "barpolar"
           }
          ],
          "carpet": [
           {
            "aaxis": {
             "endlinecolor": "#2a3f5f",
             "gridcolor": "white",
             "linecolor": "white",
             "minorgridcolor": "white",
             "startlinecolor": "#2a3f5f"
            },
            "baxis": {
             "endlinecolor": "#2a3f5f",
             "gridcolor": "white",
             "linecolor": "white",
             "minorgridcolor": "white",
             "startlinecolor": "#2a3f5f"
            },
            "type": "carpet"
           }
          ],
          "choropleth": [
           {
            "colorbar": {
             "outlinewidth": 0,
             "ticks": ""
            },
            "type": "choropleth"
           }
          ],
          "contour": [
           {
            "colorbar": {
             "outlinewidth": 0,
             "ticks": ""
            },
            "colorscale": [
             [
              0,
              "#0d0887"
             ],
             [
              0.1111111111111111,
              "#46039f"
             ],
             [
              0.2222222222222222,
              "#7201a8"
             ],
             [
              0.3333333333333333,
              "#9c179e"
             ],
             [
              0.4444444444444444,
              "#bd3786"
             ],
             [
              0.5555555555555556,
              "#d8576b"
             ],
             [
              0.6666666666666666,
              "#ed7953"
             ],
             [
              0.7777777777777778,
              "#fb9f3a"
             ],
             [
              0.8888888888888888,
              "#fdca26"
             ],
             [
              1,
              "#f0f921"
             ]
            ],
            "type": "contour"
           }
          ],
          "contourcarpet": [
           {
            "colorbar": {
             "outlinewidth": 0,
             "ticks": ""
            },
            "type": "contourcarpet"
           }
          ],
          "heatmap": [
           {
            "colorbar": {
             "outlinewidth": 0,
             "ticks": ""
            },
            "colorscale": [
             [
              0,
              "#0d0887"
             ],
             [
              0.1111111111111111,
              "#46039f"
             ],
             [
              0.2222222222222222,
              "#7201a8"
             ],
             [
              0.3333333333333333,
              "#9c179e"
             ],
             [
              0.4444444444444444,
              "#bd3786"
             ],
             [
              0.5555555555555556,
              "#d8576b"
             ],
             [
              0.6666666666666666,
              "#ed7953"
             ],
             [
              0.7777777777777778,
              "#fb9f3a"
             ],
             [
              0.8888888888888888,
              "#fdca26"
             ],
             [
              1,
              "#f0f921"
             ]
            ],
            "type": "heatmap"
           }
          ],
          "heatmapgl": [
           {
            "colorbar": {
             "outlinewidth": 0,
             "ticks": ""
            },
            "colorscale": [
             [
              0,
              "#0d0887"
             ],
             [
              0.1111111111111111,
              "#46039f"
             ],
             [
              0.2222222222222222,
              "#7201a8"
             ],
             [
              0.3333333333333333,
              "#9c179e"
             ],
             [
              0.4444444444444444,
              "#bd3786"
             ],
             [
              0.5555555555555556,
              "#d8576b"
             ],
             [
              0.6666666666666666,
              "#ed7953"
             ],
             [
              0.7777777777777778,
              "#fb9f3a"
             ],
             [
              0.8888888888888888,
              "#fdca26"
             ],
             [
              1,
              "#f0f921"
             ]
            ],
            "type": "heatmapgl"
           }
          ],
          "histogram": [
           {
            "marker": {
             "pattern": {
              "fillmode": "overlay",
              "size": 10,
              "solidity": 0.2
             }
            },
            "type": "histogram"
           }
          ],
          "histogram2d": [
           {
            "colorbar": {
             "outlinewidth": 0,
             "ticks": ""
            },
            "colorscale": [
             [
              0,
              "#0d0887"
             ],
             [
              0.1111111111111111,
              "#46039f"
             ],
             [
              0.2222222222222222,
              "#7201a8"
             ],
             [
              0.3333333333333333,
              "#9c179e"
             ],
             [
              0.4444444444444444,
              "#bd3786"
             ],
             [
              0.5555555555555556,
              "#d8576b"
             ],
             [
              0.6666666666666666,
              "#ed7953"
             ],
             [
              0.7777777777777778,
              "#fb9f3a"
             ],
             [
              0.8888888888888888,
              "#fdca26"
             ],
             [
              1,
              "#f0f921"
             ]
            ],
            "type": "histogram2d"
           }
          ],
          "histogram2dcontour": [
           {
            "colorbar": {
             "outlinewidth": 0,
             "ticks": ""
            },
            "colorscale": [
             [
              0,
              "#0d0887"
             ],
             [
              0.1111111111111111,
              "#46039f"
             ],
             [
              0.2222222222222222,
              "#7201a8"
             ],
             [
              0.3333333333333333,
              "#9c179e"
             ],
             [
              0.4444444444444444,
              "#bd3786"
             ],
             [
              0.5555555555555556,
              "#d8576b"
             ],
             [
              0.6666666666666666,
              "#ed7953"
             ],
             [
              0.7777777777777778,
              "#fb9f3a"
             ],
             [
              0.8888888888888888,
              "#fdca26"
             ],
             [
              1,
              "#f0f921"
             ]
            ],
            "type": "histogram2dcontour"
           }
          ],
          "mesh3d": [
           {
            "colorbar": {
             "outlinewidth": 0,
             "ticks": ""
            },
            "type": "mesh3d"
           }
          ],
          "parcoords": [
           {
            "line": {
             "colorbar": {
              "outlinewidth": 0,
              "ticks": ""
             }
            },
            "type": "parcoords"
           }
          ],
          "pie": [
           {
            "automargin": true,
            "type": "pie"
           }
          ],
          "scatter": [
           {
            "fillpattern": {
             "fillmode": "overlay",
             "size": 10,
             "solidity": 0.2
            },
            "type": "scatter"
           }
          ],
          "scatter3d": [
           {
            "line": {
             "colorbar": {
              "outlinewidth": 0,
              "ticks": ""
             }
            },
            "marker": {
             "colorbar": {
              "outlinewidth": 0,
              "ticks": ""
             }
            },
            "type": "scatter3d"
           }
          ],
          "scattercarpet": [
           {
            "marker": {
             "colorbar": {
              "outlinewidth": 0,
              "ticks": ""
             }
            },
            "type": "scattercarpet"
           }
          ],
          "scattergeo": [
           {
            "marker": {
             "colorbar": {
              "outlinewidth": 0,
              "ticks": ""
             }
            },
            "type": "scattergeo"
           }
          ],
          "scattergl": [
           {
            "marker": {
             "colorbar": {
              "outlinewidth": 0,
              "ticks": ""
             }
            },
            "type": "scattergl"
           }
          ],
          "scattermapbox": [
           {
            "marker": {
             "colorbar": {
              "outlinewidth": 0,
              "ticks": ""
             }
            },
            "type": "scattermapbox"
           }
          ],
          "scatterpolar": [
           {
            "marker": {
             "colorbar": {
              "outlinewidth": 0,
              "ticks": ""
             }
            },
            "type": "scatterpolar"
           }
          ],
          "scatterpolargl": [
           {
            "marker": {
             "colorbar": {
              "outlinewidth": 0,
              "ticks": ""
             }
            },
            "type": "scatterpolargl"
           }
          ],
          "scatterternary": [
           {
            "marker": {
             "colorbar": {
              "outlinewidth": 0,
              "ticks": ""
             }
            },
            "type": "scatterternary"
           }
          ],
          "surface": [
           {
            "colorbar": {
             "outlinewidth": 0,
             "ticks": ""
            },
            "colorscale": [
             [
              0,
              "#0d0887"
             ],
             [
              0.1111111111111111,
              "#46039f"
             ],
             [
              0.2222222222222222,
              "#7201a8"
             ],
             [
              0.3333333333333333,
              "#9c179e"
             ],
             [
              0.4444444444444444,
              "#bd3786"
             ],
             [
              0.5555555555555556,
              "#d8576b"
             ],
             [
              0.6666666666666666,
              "#ed7953"
             ],
             [
              0.7777777777777778,
              "#fb9f3a"
             ],
             [
              0.8888888888888888,
              "#fdca26"
             ],
             [
              1,
              "#f0f921"
             ]
            ],
            "type": "surface"
           }
          ],
          "table": [
           {
            "cells": {
             "fill": {
              "color": "#EBF0F8"
             },
             "line": {
              "color": "white"
             }
            },
            "header": {
             "fill": {
              "color": "#C8D4E3"
             },
             "line": {
              "color": "white"
             }
            },
            "type": "table"
           }
          ]
         },
         "layout": {
          "annotationdefaults": {
           "arrowcolor": "#2a3f5f",
           "arrowhead": 0,
           "arrowwidth": 1
          },
          "autotypenumbers": "strict",
          "coloraxis": {
           "colorbar": {
            "outlinewidth": 0,
            "ticks": ""
           }
          },
          "colorscale": {
           "diverging": [
            [
             0,
             "#8e0152"
            ],
            [
             0.1,
             "#c51b7d"
            ],
            [
             0.2,
             "#de77ae"
            ],
            [
             0.3,
             "#f1b6da"
            ],
            [
             0.4,
             "#fde0ef"
            ],
            [
             0.5,
             "#f7f7f7"
            ],
            [
             0.6,
             "#e6f5d0"
            ],
            [
             0.7,
             "#b8e186"
            ],
            [
             0.8,
             "#7fbc41"
            ],
            [
             0.9,
             "#4d9221"
            ],
            [
             1,
             "#276419"
            ]
           ],
           "sequential": [
            [
             0,
             "#0d0887"
            ],
            [
             0.1111111111111111,
             "#46039f"
            ],
            [
             0.2222222222222222,
             "#7201a8"
            ],
            [
             0.3333333333333333,
             "#9c179e"
            ],
            [
             0.4444444444444444,
             "#bd3786"
            ],
            [
             0.5555555555555556,
             "#d8576b"
            ],
            [
             0.6666666666666666,
             "#ed7953"
            ],
            [
             0.7777777777777778,
             "#fb9f3a"
            ],
            [
             0.8888888888888888,
             "#fdca26"
            ],
            [
             1,
             "#f0f921"
            ]
           ],
           "sequentialminus": [
            [
             0,
             "#0d0887"
            ],
            [
             0.1111111111111111,
             "#46039f"
            ],
            [
             0.2222222222222222,
             "#7201a8"
            ],
            [
             0.3333333333333333,
             "#9c179e"
            ],
            [
             0.4444444444444444,
             "#bd3786"
            ],
            [
             0.5555555555555556,
             "#d8576b"
            ],
            [
             0.6666666666666666,
             "#ed7953"
            ],
            [
             0.7777777777777778,
             "#fb9f3a"
            ],
            [
             0.8888888888888888,
             "#fdca26"
            ],
            [
             1,
             "#f0f921"
            ]
           ]
          },
          "colorway": [
           "#636efa",
           "#EF553B",
           "#00cc96",
           "#ab63fa",
           "#FFA15A",
           "#19d3f3",
           "#FF6692",
           "#B6E880",
           "#FF97FF",
           "#FECB52"
          ],
          "font": {
           "color": "#2a3f5f"
          },
          "geo": {
           "bgcolor": "white",
           "lakecolor": "white",
           "landcolor": "#E5ECF6",
           "showlakes": true,
           "showland": true,
           "subunitcolor": "white"
          },
          "hoverlabel": {
           "align": "left"
          },
          "hovermode": "closest",
          "mapbox": {
           "style": "light"
          },
          "paper_bgcolor": "white",
          "plot_bgcolor": "#E5ECF6",
          "polar": {
           "angularaxis": {
            "gridcolor": "white",
            "linecolor": "white",
            "ticks": ""
           },
           "bgcolor": "#E5ECF6",
           "radialaxis": {
            "gridcolor": "white",
            "linecolor": "white",
            "ticks": ""
           }
          },
          "scene": {
           "xaxis": {
            "backgroundcolor": "#E5ECF6",
            "gridcolor": "white",
            "gridwidth": 2,
            "linecolor": "white",
            "showbackground": true,
            "ticks": "",
            "zerolinecolor": "white"
           },
           "yaxis": {
            "backgroundcolor": "#E5ECF6",
            "gridcolor": "white",
            "gridwidth": 2,
            "linecolor": "white",
            "showbackground": true,
            "ticks": "",
            "zerolinecolor": "white"
           },
           "zaxis": {
            "backgroundcolor": "#E5ECF6",
            "gridcolor": "white",
            "gridwidth": 2,
            "linecolor": "white",
            "showbackground": true,
            "ticks": "",
            "zerolinecolor": "white"
           }
          },
          "shapedefaults": {
           "line": {
            "color": "#2a3f5f"
           }
          },
          "ternary": {
           "aaxis": {
            "gridcolor": "white",
            "linecolor": "white",
            "ticks": ""
           },
           "baxis": {
            "gridcolor": "white",
            "linecolor": "white",
            "ticks": ""
           },
           "bgcolor": "#E5ECF6",
           "caxis": {
            "gridcolor": "white",
            "linecolor": "white",
            "ticks": ""
           }
          },
          "title": {
           "x": 0.05
          },
          "xaxis": {
           "automargin": true,
           "gridcolor": "white",
           "linecolor": "white",
           "ticks": "",
           "title": {
            "standoff": 15
           },
           "zerolinecolor": "white",
           "zerolinewidth": 2
          },
          "yaxis": {
           "automargin": true,
           "gridcolor": "white",
           "linecolor": "white",
           "ticks": "",
           "title": {
            "standoff": 15
           },
           "zerolinecolor": "white",
           "zerolinewidth": 2
          }
         }
        },
        "title": {
         "text": "CO2 Emissions Over Years by Building Type with heat pump and A labels"
        },
        "xaxis": {
         "anchor": "y",
         "domain": [
          0,
          0.2888888888888889
         ],
         "title": {
          "text": "Year"
         }
        },
        "xaxis2": {
         "anchor": "y2",
         "domain": [
          0.35555555555555557,
          0.6444444444444445
         ],
         "title": {
          "text": "Year"
         }
        },
        "xaxis3": {
         "anchor": "y3",
         "domain": [
          0.7111111111111111,
          1
         ],
         "title": {
          "text": "Year"
         }
        },
        "yaxis": {
         "anchor": "x",
         "domain": [
          0,
          1
         ],
         "title": {
          "text": "CO2 Emissions (kg)"
         }
        },
        "yaxis2": {
         "anchor": "x2",
         "domain": [
          0,
          1
         ],
         "matches": "y",
         "showticklabels": false
        },
        "yaxis3": {
         "anchor": "x3",
         "domain": [
          0,
          1
         ],
         "matches": "y",
         "showticklabels": false
        }
       }
      },
      "text/html": [
       "<div>                            <div id=\"ecb8c13d-c56c-4667-be7c-d888da866ba5\" class=\"plotly-graph-div\" style=\"height:525px; width:100%;\"></div>            <script type=\"text/javascript\">                require([\"plotly\"], function(Plotly) {                    window.PLOTLYENV=window.PLOTLYENV || {};                                    if (document.getElementById(\"ecb8c13d-c56c-4667-be7c-d888da866ba5\")) {                    Plotly.newPlot(                        \"ecb8c13d-c56c-4667-be7c-d888da866ba5\",                        [{\"fill\":\"tonexty\",\"name\":\"GESLOTEN - Modified CO2 Emissions\",\"x\":[2025,2025,2025,2025,2025,2026,2026,2026,2026,2026,2027,2027,2027,2027,2027,2028,2028,2028,2028,2028,2029,2029,2029,2029,2029,2030,2030,2030,2030,2030,2031,2031,2031,2031,2031,2032,2032,2032,2032,2032,2033,2033,2033,2033,2033,2034,2034,2034,2034,2034,2035,2035,2035,2035,2035,2036,2036,2036,2036,2036,2037,2037,2037,2037,2037,2038,2038,2038,2038,2038,2039,2039,2039,2039,2039,2040,2040,2040,2040,2040],\"y\":[20807.458120156665,20807.458120156665,20807.458120156665,20807.458120156665,20807.458120156665,19848.49356537782,19848.49356537782,19848.49356537782,19848.49356537782,19848.49356537782,18933.725327708526,18933.725327708526,18933.725327708526,18933.725327708526,18933.725327708526,18061.116507623865,18061.116507623865,18061.116507623865,18061.116507623865,18061.116507623865,17228.72408128688,17228.72408128688,17228.72408128688,17228.72408128688,17228.72408128688,16434.6945740491,16434.6945740491,16434.6945740491,16434.6945740491,16434.6945740491,15677.259933348707,15677.259933348707,15677.259933348707,15677.259933348707,15677.259933348707,14954.733591816761,14954.733591816761,14954.733591816761,14954.733591816761,14954.733591816761,14265.5067118251,14265.5067118251,14265.5067118251,14265.5067118251,14265.5067118251,13608.044603113813,13608.044603113813,13608.044603113813,13608.044603113813,13608.044603113813,12980.883305521476,12980.883305521476,12980.883305521476,12980.883305521476,12980.883305521476,12382.626329208899,12382.626329208899,12382.626329208899,12382.626329208899,12382.626329208899,11811.941545117972,11811.941545117972,11811.941545117972,11811.941545117972,11811.941545117972,11267.558218741606,11267.558218741606,11267.558218741606,11267.558218741606,11267.558218741606,10748.26418059992,10748.26418059992,10748.26418059992,10748.26418059992,10748.26418059992,10252.903127122194,10252.903127122194,10252.903127122194,10252.903127122194,10252.903127122194],\"type\":\"scatter\",\"xaxis\":\"x\",\"yaxis\":\"y\"},{\"fill\":\"tonexty\",\"name\":\"GESLOTEN - Solar CO2 Emissions\",\"x\":[2025,2025,2025,2025,2025,2026,2026,2026,2026,2026,2027,2027,2027,2027,2027,2028,2028,2028,2028,2028,2029,2029,2029,2029,2029,2030,2030,2030,2030,2030,2031,2031,2031,2031,2031,2032,2032,2032,2032,2032,2033,2033,2033,2033,2033,2034,2034,2034,2034,2034,2035,2035,2035,2035,2035,2036,2036,2036,2036,2036,2037,2037,2037,2037,2037,2038,2038,2038,2038,2038,2039,2039,2039,2039,2039,2040,2040,2040,2040,2040],\"y\":[-23799.830805379108,-23799.830805379108,-23799.830805379108,-23799.830805379108,-23799.830805379108,-22702.95515529752,-22702.95515529752,-22702.95515529752,-22702.95515529752,-22702.95515529752,-21656.631805422632,-21656.631805422632,-21656.631805422632,-21656.631805422632,-21656.631805422632,-20658.53092460538,-20658.53092460538,-20658.53092460538,-20658.53092460538,-20658.53092460538,-19706.430057882593,-19706.430057882593,-19706.430057882593,-19706.430057882593,-19706.430057882593,-18798.209177772722,-18798.209177772722,-18798.209177772722,-18798.209177772722,-18798.209177772722,-17931.845963645217,-17931.845963645217,-17931.845963645217,-17931.845963645217,-17931.845963645217,-17105.41129865211,-17105.41129865211,-17105.41129865211,-17105.41129865211,-17105.41129865211,-16317.064974194991,-16317.064974194991,-16317.064974194991,-16317.064974194991,-16317.064974194991,-15565.051592362528,-15565.051592362528,-15565.051592362528,-15565.051592362528,-15565.051592362528,-14847.696657214532,-14847.696657214532,-14847.696657214532,-14847.696657214532,-14847.696657214532,-14163.402846209141,-14163.402846209141,-14163.402846209141,-14163.402846209141,-14163.402846209141,-13510.646453470757,-13510.646453470757,-13510.646453470757,-13510.646453470757,-13510.646453470757,-12887.973996979019,-12887.973996979019,-12887.973996979019,-12887.973996979019,-12887.973996979019,-12293.998982124047,-12293.998982124047,-12293.998982124047,-12293.998982124047,-12293.998982124047,-11727.398814421513,-11727.398814421513,-11727.398814421513,-11727.398814421513,-11727.398814421513],\"type\":\"scatter\",\"xaxis\":\"x\",\"yaxis\":\"y\"},{\"fill\":\"tonexty\",\"name\":\"HALF_OPEN - Modified CO2 Emissions\",\"x\":[2025,2025,2025,2025,2025,2026,2026,2026,2026,2026,2027,2027,2027,2027,2027,2028,2028,2028,2028,2028,2029,2029,2029,2029,2029,2030,2030,2030,2030,2030,2031,2031,2031,2031,2031,2032,2032,2032,2032,2032,2033,2033,2033,2033,2033,2034,2034,2034,2034,2034,2035,2035,2035,2035,2035,2036,2036,2036,2036,2036,2037,2037,2037,2037,2037,2038,2038,2038,2038,2038,2039,2039,2039,2039,2039,2040,2040,2040,2040,2040],\"y\":[21471.413673173625,21471.413673173625,21471.413673173625,21471.413673173625,21471.413673173625,20481.849040402794,20481.849040402794,20481.849040402794,20481.849040402794,20481.849040402794,19537.891007054623,19537.891007054623,19537.891007054623,19537.891007054623,19537.891007054623,18637.437677161943,18637.437677161943,18637.437677161943,18637.437677161943,18637.437677161943,17778.484025971626,17778.484025971626,17778.484025971626,17778.484025971626,17778.484025971626,16959.117435388758,16959.117435388758,16959.117435388758,16959.117435388758,16959.117435388758,16177.513435181005,16177.513435181005,16177.513435181005,16177.513435181005,16177.513435181005,15431.931640460549,15431.931640460549,15431.931640460549,15431.931640460549,15431.931640460549,14720.711876397394,14720.711876397394,14720.711876397394,14720.711876397394,14720.711876397394,14042.270481535134,14042.270481535134,14042.270481535134,14042.270481535134,14042.270481535134,13395.09678147782,13395.09678147782,13395.09678147782,13395.09678147782,13395.09678147782,12777.749725095868,12777.749725095868,12777.749725095868,12777.749725095868,12777.749725095868,12188.85467576104,12188.85467576104,12188.85467576104,12188.85467576104,12188.85467576104,11627.100350465435,11627.100350465435,11627.100350465435,11627.100350465435,11627.100350465435,11091.235900008998,11091.235900008998,11091.235900008998,11091.235900008998,11091.235900008998,10580.068123754008,10580.068123754008,10580.068123754008,10580.068123754008,10580.068123754008],\"type\":\"scatter\",\"xaxis\":\"x2\",\"yaxis\":\"y2\"},{\"fill\":\"tonexty\",\"name\":\"HALF_OPEN - Solar CO2 Emissions\",\"x\":[2025,2025,2025,2025,2025,2026,2026,2026,2026,2026,2027,2027,2027,2027,2027,2028,2028,2028,2028,2028,2029,2029,2029,2029,2029,2030,2030,2030,2030,2030,2031,2031,2031,2031,2031,2032,2032,2032,2032,2032,2033,2033,2033,2033,2033,2034,2034,2034,2034,2034,2035,2035,2035,2035,2035,2036,2036,2036,2036,2036,2037,2037,2037,2037,2037,2038,2038,2038,2038,2038,2039,2039,2039,2039,2039,2040,2040,2040,2040,2040],\"y\":[-29035.779512726684,-29035.779512726684,-29035.779512726684,-29035.779512726684,-29035.779512726684,-27697.591868071264,-27697.591868071264,-27697.591868071264,-27697.591868071264,-27697.591868071264,-26421.07799978281,-26421.07799978281,-26421.07799978281,-26421.07799978281,-26421.07799978281,-25203.395515236836,-25203.395515236836,-25203.395515236836,-25203.395515236836,-25203.395515236836,-24041.833020692095,-24041.833020692095,-24041.833020692095,-24041.833020692095,-24041.833020692095,-22933.80408387444,-22933.80408387444,-22933.80408387444,-22933.80408387444,-22933.80408387444,-21876.84147481009,-21876.84147481009,-21876.84147481009,-21876.84147481009,-21876.84147481009,-20868.591672085,-20868.591672085,-20868.591672085,-20868.591672085,-20868.591672085,-19906.80962229698,-19906.80962229698,-19906.80962229698,-19906.80962229698,-19906.80962229698,-18989.35374103197,-18989.35374103197,-18989.35374103197,-18989.35374103197,-18989.35374103197,-18114.18114423284,-18114.18114423284,-18114.18114423284,-18114.18114423284,-18114.18114423284,-17279.343099342816,-17279.343099342816,-17279.343099342816,-17279.343099342816,-17279.343099342816,-16482.980686094455,-16482.980686094455,-16482.980686094455,-16482.980686094455,-16482.980686094455,-15723.320657282158,-15723.320657282158,-15723.320657282158,-15723.320657282158,-15723.320657282158,-14998.67149030154,-14998.67149030154,-14998.67149030154,-14998.67149030154,-14998.67149030154,-14307.419620663613,-14307.419620663613,-14307.419620663613,-14307.419620663613,-14307.419620663613],\"type\":\"scatter\",\"xaxis\":\"x2\",\"yaxis\":\"y2\"},{\"fill\":\"tonexty\",\"name\":\"OPEN - Modified CO2 Emissions\",\"x\":[2025,2025,2025,2025,2025,2026,2026,2026,2026,2026,2027,2027,2027,2027,2027,2028,2028,2028,2028,2028,2029,2029,2029,2029,2029,2030,2030,2030,2030,2030,2031,2031,2031,2031,2031,2032,2032,2032,2032,2032,2033,2033,2033,2033,2033,2034,2034,2034,2034,2034,2035,2035,2035,2035,2035,2036,2036,2036,2036,2036,2037,2037,2037,2037,2037,2038,2038,2038,2038,2038,2039,2039,2039,2039,2039,2040,2040,2040,2040,2040],\"y\":[22743.608229304024,22743.608229304024,22743.608229304024,22743.608229304024,22743.608229304024,21695.411279261825,21695.411279261825,21695.411279261825,21695.411279261825,21695.411279261825,20695.5231478996,20695.5231478996,20695.5231478996,20695.5231478996,20695.5231478996,19741.717400612517,19741.717400612517,19741.717400612517,19741.717400612517,19741.717400612517,18831.870213689246,18831.870213689246,18831.870213689246,18831.870213689246,18831.870213689246,17963.95564522838,17963.95564522838,17963.95564522838,17963.95564522838,17963.95564522838,17136.04112400652,17136.04112400652,17136.04112400652,17136.04112400652,17136.04112400652,16346.283146253532,16346.283146253532,16346.283146253532,16346.283146253532,16346.283146253532,15592.923170752696,15592.923170752696,15592.923170752696,15592.923170752696,15592.923170752696,14874.28370312564,14874.28370312564,14874.28370312564,14874.28370312564,14874.28370312564,14188.76456058298,14188.76456058298,14188.76456058298,14188.76456058298,14188.76456058298,13534.839308823357,13534.839308823357,13534.839308823357,13534.839308823357,13534.839308823357,12911.051863147064,12911.051863147064,12911.051863147064,12911.051863147064,12911.051863147064,12316.013246215982,12316.013246215982,12316.013246215982,12316.013246215982,12316.013246215982,11748.398495240388,11748.398495240388,11748.398495240388,11748.398495240388,11748.398495240388,11206.943711705886,11206.943711705886,11206.943711705886,11206.943711705886,11206.943711705886],\"type\":\"scatter\",\"xaxis\":\"x3\",\"yaxis\":\"y3\"},{\"fill\":\"tonexty\",\"name\":\"OPEN - Solar CO2 Emissions\",\"x\":[2025,2025,2025,2025,2025,2026,2026,2026,2026,2026,2027,2027,2027,2027,2027,2028,2028,2028,2028,2028,2029,2029,2029,2029,2029,2030,2030,2030,2030,2030,2031,2031,2031,2031,2031,2032,2032,2032,2032,2032,2033,2033,2033,2033,2033,2034,2034,2034,2034,2034,2035,2035,2035,2035,2035,2036,2036,2036,2036,2036,2037,2037,2037,2037,2037,2038,2038,2038,2038,2038,2039,2039,2039,2039,2039,2040,2040,2040,2040,2040],\"y\":[-39556.9213528416,-39556.9213528416,-39556.9213528416,-39556.9213528416,-39556.9213528416,-37733.84016462081,-37733.84016462081,-37733.84016462081,-37733.84016462081,-37733.84016462081,-35994.78030326716,-35994.78030326716,-35994.78030326716,-35994.78030326716,-35994.78030326716,-34335.86943253246,-34335.86943253246,-34335.86943253246,-34335.86943253246,-34335.86943253246,-32753.41368261959,-32753.41368261959,-32753.41368261959,-32753.41368261959,-32753.41368261959,-31243.88942510283,-31243.88942510283,-31243.88942510283,-31243.88942510283,-31243.88942510283,-29803.935426921827,-29803.935426921827,-29803.935426921827,-29803.935426921827,-29803.935426921827,-28430.345365978803,-28430.345365978803,-28430.345365978803,-28430.345365978803,-28430.345365978803,-27120.060691673316,-27120.060691673316,-27120.060691673316,-27120.060691673316,-27120.060691673316,-25870.16381447754,-25870.16381447754,-25870.16381447754,-25870.16381447754,-25870.16381447754,-24677.871609387206,-24677.871609387206,-24677.871609387206,-24677.871609387206,-24677.871609387206,-23540.529218782543,-23540.529218782543,-23540.529218782543,-23540.529218782543,-23540.529218782543,-22455.60414090002,-22455.60414090002,-22455.60414090002,-22455.60414090002,-22455.60414090002,-21420.680590752036,-21420.680590752036,-21420.680590752036,-21420.680590752036,-21420.680590752036,-20433.454120937782,-20433.454120937782,-20433.454120937782,-20433.454120937782,-20433.454120937782,-19491.726490367804,-19491.726490367804,-19491.726490367804,-19491.726490367804,-19491.726490367804],\"type\":\"scatter\",\"xaxis\":\"x3\",\"yaxis\":\"y3\"}],                        {\"template\":{\"data\":{\"histogram2dcontour\":[{\"type\":\"histogram2dcontour\",\"colorbar\":{\"outlinewidth\":0,\"ticks\":\"\"},\"colorscale\":[[0.0,\"#0d0887\"],[0.1111111111111111,\"#46039f\"],[0.2222222222222222,\"#7201a8\"],[0.3333333333333333,\"#9c179e\"],[0.4444444444444444,\"#bd3786\"],[0.5555555555555556,\"#d8576b\"],[0.6666666666666666,\"#ed7953\"],[0.7777777777777778,\"#fb9f3a\"],[0.8888888888888888,\"#fdca26\"],[1.0,\"#f0f921\"]]}],\"choropleth\":[{\"type\":\"choropleth\",\"colorbar\":{\"outlinewidth\":0,\"ticks\":\"\"}}],\"histogram2d\":[{\"type\":\"histogram2d\",\"colorbar\":{\"outlinewidth\":0,\"ticks\":\"\"},\"colorscale\":[[0.0,\"#0d0887\"],[0.1111111111111111,\"#46039f\"],[0.2222222222222222,\"#7201a8\"],[0.3333333333333333,\"#9c179e\"],[0.4444444444444444,\"#bd3786\"],[0.5555555555555556,\"#d8576b\"],[0.6666666666666666,\"#ed7953\"],[0.7777777777777778,\"#fb9f3a\"],[0.8888888888888888,\"#fdca26\"],[1.0,\"#f0f921\"]]}],\"heatmap\":[{\"type\":\"heatmap\",\"colorbar\":{\"outlinewidth\":0,\"ticks\":\"\"},\"colorscale\":[[0.0,\"#0d0887\"],[0.1111111111111111,\"#46039f\"],[0.2222222222222222,\"#7201a8\"],[0.3333333333333333,\"#9c179e\"],[0.4444444444444444,\"#bd3786\"],[0.5555555555555556,\"#d8576b\"],[0.6666666666666666,\"#ed7953\"],[0.7777777777777778,\"#fb9f3a\"],[0.8888888888888888,\"#fdca26\"],[1.0,\"#f0f921\"]]}],\"heatmapgl\":[{\"type\":\"heatmapgl\",\"colorbar\":{\"outlinewidth\":0,\"ticks\":\"\"},\"colorscale\":[[0.0,\"#0d0887\"],[0.1111111111111111,\"#46039f\"],[0.2222222222222222,\"#7201a8\"],[0.3333333333333333,\"#9c179e\"],[0.4444444444444444,\"#bd3786\"],[0.5555555555555556,\"#d8576b\"],[0.6666666666666666,\"#ed7953\"],[0.7777777777777778,\"#fb9f3a\"],[0.8888888888888888,\"#fdca26\"],[1.0,\"#f0f921\"]]}],\"contourcarpet\":[{\"type\":\"contourcarpet\",\"colorbar\":{\"outlinewidth\":0,\"ticks\":\"\"}}],\"contour\":[{\"type\":\"contour\",\"colorbar\":{\"outlinewidth\":0,\"ticks\":\"\"},\"colorscale\":[[0.0,\"#0d0887\"],[0.1111111111111111,\"#46039f\"],[0.2222222222222222,\"#7201a8\"],[0.3333333333333333,\"#9c179e\"],[0.4444444444444444,\"#bd3786\"],[0.5555555555555556,\"#d8576b\"],[0.6666666666666666,\"#ed7953\"],[0.7777777777777778,\"#fb9f3a\"],[0.8888888888888888,\"#fdca26\"],[1.0,\"#f0f921\"]]}],\"surface\":[{\"type\":\"surface\",\"colorbar\":{\"outlinewidth\":0,\"ticks\":\"\"},\"colorscale\":[[0.0,\"#0d0887\"],[0.1111111111111111,\"#46039f\"],[0.2222222222222222,\"#7201a8\"],[0.3333333333333333,\"#9c179e\"],[0.4444444444444444,\"#bd3786\"],[0.5555555555555556,\"#d8576b\"],[0.6666666666666666,\"#ed7953\"],[0.7777777777777778,\"#fb9f3a\"],[0.8888888888888888,\"#fdca26\"],[1.0,\"#f0f921\"]]}],\"mesh3d\":[{\"type\":\"mesh3d\",\"colorbar\":{\"outlinewidth\":0,\"ticks\":\"\"}}],\"scatter\":[{\"fillpattern\":{\"fillmode\":\"overlay\",\"size\":10,\"solidity\":0.2},\"type\":\"scatter\"}],\"parcoords\":[{\"type\":\"parcoords\",\"line\":{\"colorbar\":{\"outlinewidth\":0,\"ticks\":\"\"}}}],\"scatterpolargl\":[{\"type\":\"scatterpolargl\",\"marker\":{\"colorbar\":{\"outlinewidth\":0,\"ticks\":\"\"}}}],\"bar\":[{\"error_x\":{\"color\":\"#2a3f5f\"},\"error_y\":{\"color\":\"#2a3f5f\"},\"marker\":{\"line\":{\"color\":\"#E5ECF6\",\"width\":0.5},\"pattern\":{\"fillmode\":\"overlay\",\"size\":10,\"solidity\":0.2}},\"type\":\"bar\"}],\"scattergeo\":[{\"type\":\"scattergeo\",\"marker\":{\"colorbar\":{\"outlinewidth\":0,\"ticks\":\"\"}}}],\"scatterpolar\":[{\"type\":\"scatterpolar\",\"marker\":{\"colorbar\":{\"outlinewidth\":0,\"ticks\":\"\"}}}],\"histogram\":[{\"marker\":{\"pattern\":{\"fillmode\":\"overlay\",\"size\":10,\"solidity\":0.2}},\"type\":\"histogram\"}],\"scattergl\":[{\"type\":\"scattergl\",\"marker\":{\"colorbar\":{\"outlinewidth\":0,\"ticks\":\"\"}}}],\"scatter3d\":[{\"type\":\"scatter3d\",\"line\":{\"colorbar\":{\"outlinewidth\":0,\"ticks\":\"\"}},\"marker\":{\"colorbar\":{\"outlinewidth\":0,\"ticks\":\"\"}}}],\"scattermapbox\":[{\"type\":\"scattermapbox\",\"marker\":{\"colorbar\":{\"outlinewidth\":0,\"ticks\":\"\"}}}],\"scatterternary\":[{\"type\":\"scatterternary\",\"marker\":{\"colorbar\":{\"outlinewidth\":0,\"ticks\":\"\"}}}],\"scattercarpet\":[{\"type\":\"scattercarpet\",\"marker\":{\"colorbar\":{\"outlinewidth\":0,\"ticks\":\"\"}}}],\"carpet\":[{\"aaxis\":{\"endlinecolor\":\"#2a3f5f\",\"gridcolor\":\"white\",\"linecolor\":\"white\",\"minorgridcolor\":\"white\",\"startlinecolor\":\"#2a3f5f\"},\"baxis\":{\"endlinecolor\":\"#2a3f5f\",\"gridcolor\":\"white\",\"linecolor\":\"white\",\"minorgridcolor\":\"white\",\"startlinecolor\":\"#2a3f5f\"},\"type\":\"carpet\"}],\"table\":[{\"cells\":{\"fill\":{\"color\":\"#EBF0F8\"},\"line\":{\"color\":\"white\"}},\"header\":{\"fill\":{\"color\":\"#C8D4E3\"},\"line\":{\"color\":\"white\"}},\"type\":\"table\"}],\"barpolar\":[{\"marker\":{\"line\":{\"color\":\"#E5ECF6\",\"width\":0.5},\"pattern\":{\"fillmode\":\"overlay\",\"size\":10,\"solidity\":0.2}},\"type\":\"barpolar\"}],\"pie\":[{\"automargin\":true,\"type\":\"pie\"}]},\"layout\":{\"autotypenumbers\":\"strict\",\"colorway\":[\"#636efa\",\"#EF553B\",\"#00cc96\",\"#ab63fa\",\"#FFA15A\",\"#19d3f3\",\"#FF6692\",\"#B6E880\",\"#FF97FF\",\"#FECB52\"],\"font\":{\"color\":\"#2a3f5f\"},\"hovermode\":\"closest\",\"hoverlabel\":{\"align\":\"left\"},\"paper_bgcolor\":\"white\",\"plot_bgcolor\":\"#E5ECF6\",\"polar\":{\"bgcolor\":\"#E5ECF6\",\"angularaxis\":{\"gridcolor\":\"white\",\"linecolor\":\"white\",\"ticks\":\"\"},\"radialaxis\":{\"gridcolor\":\"white\",\"linecolor\":\"white\",\"ticks\":\"\"}},\"ternary\":{\"bgcolor\":\"#E5ECF6\",\"aaxis\":{\"gridcolor\":\"white\",\"linecolor\":\"white\",\"ticks\":\"\"},\"baxis\":{\"gridcolor\":\"white\",\"linecolor\":\"white\",\"ticks\":\"\"},\"caxis\":{\"gridcolor\":\"white\",\"linecolor\":\"white\",\"ticks\":\"\"}},\"coloraxis\":{\"colorbar\":{\"outlinewidth\":0,\"ticks\":\"\"}},\"colorscale\":{\"sequential\":[[0.0,\"#0d0887\"],[0.1111111111111111,\"#46039f\"],[0.2222222222222222,\"#7201a8\"],[0.3333333333333333,\"#9c179e\"],[0.4444444444444444,\"#bd3786\"],[0.5555555555555556,\"#d8576b\"],[0.6666666666666666,\"#ed7953\"],[0.7777777777777778,\"#fb9f3a\"],[0.8888888888888888,\"#fdca26\"],[1.0,\"#f0f921\"]],\"sequentialminus\":[[0.0,\"#0d0887\"],[0.1111111111111111,\"#46039f\"],[0.2222222222222222,\"#7201a8\"],[0.3333333333333333,\"#9c179e\"],[0.4444444444444444,\"#bd3786\"],[0.5555555555555556,\"#d8576b\"],[0.6666666666666666,\"#ed7953\"],[0.7777777777777778,\"#fb9f3a\"],[0.8888888888888888,\"#fdca26\"],[1.0,\"#f0f921\"]],\"diverging\":[[0,\"#8e0152\"],[0.1,\"#c51b7d\"],[0.2,\"#de77ae\"],[0.3,\"#f1b6da\"],[0.4,\"#fde0ef\"],[0.5,\"#f7f7f7\"],[0.6,\"#e6f5d0\"],[0.7,\"#b8e186\"],[0.8,\"#7fbc41\"],[0.9,\"#4d9221\"],[1,\"#276419\"]]},\"xaxis\":{\"gridcolor\":\"white\",\"linecolor\":\"white\",\"ticks\":\"\",\"title\":{\"standoff\":15},\"zerolinecolor\":\"white\",\"automargin\":true,\"zerolinewidth\":2},\"yaxis\":{\"gridcolor\":\"white\",\"linecolor\":\"white\",\"ticks\":\"\",\"title\":{\"standoff\":15},\"zerolinecolor\":\"white\",\"automargin\":true,\"zerolinewidth\":2},\"scene\":{\"xaxis\":{\"backgroundcolor\":\"#E5ECF6\",\"gridcolor\":\"white\",\"linecolor\":\"white\",\"showbackground\":true,\"ticks\":\"\",\"zerolinecolor\":\"white\",\"gridwidth\":2},\"yaxis\":{\"backgroundcolor\":\"#E5ECF6\",\"gridcolor\":\"white\",\"linecolor\":\"white\",\"showbackground\":true,\"ticks\":\"\",\"zerolinecolor\":\"white\",\"gridwidth\":2},\"zaxis\":{\"backgroundcolor\":\"#E5ECF6\",\"gridcolor\":\"white\",\"linecolor\":\"white\",\"showbackground\":true,\"ticks\":\"\",\"zerolinecolor\":\"white\",\"gridwidth\":2}},\"shapedefaults\":{\"line\":{\"color\":\"#2a3f5f\"}},\"annotationdefaults\":{\"arrowcolor\":\"#2a3f5f\",\"arrowhead\":0,\"arrowwidth\":1},\"geo\":{\"bgcolor\":\"white\",\"landcolor\":\"#E5ECF6\",\"subunitcolor\":\"white\",\"showland\":true,\"showlakes\":true,\"lakecolor\":\"white\"},\"title\":{\"x\":0.05},\"mapbox\":{\"style\":\"light\"}}},\"xaxis\":{\"anchor\":\"y\",\"domain\":[0.0,0.2888888888888889],\"title\":{\"text\":\"Year\"}},\"yaxis\":{\"anchor\":\"x\",\"domain\":[0.0,1.0],\"title\":{\"text\":\"CO2 Emissions (kg)\"}},\"xaxis2\":{\"anchor\":\"y2\",\"domain\":[0.35555555555555557,0.6444444444444445],\"title\":{\"text\":\"Year\"}},\"yaxis2\":{\"anchor\":\"x2\",\"domain\":[0.0,1.0],\"matches\":\"y\",\"showticklabels\":false},\"xaxis3\":{\"anchor\":\"y3\",\"domain\":[0.7111111111111111,1.0],\"title\":{\"text\":\"Year\"}},\"yaxis3\":{\"anchor\":\"x3\",\"domain\":[0.0,1.0],\"matches\":\"y\",\"showticklabels\":false},\"annotations\":[{\"font\":{\"size\":16},\"showarrow\":false,\"text\":\"GESLOTEN\",\"x\":0.14444444444444446,\"xanchor\":\"center\",\"xref\":\"paper\",\"y\":1.0,\"yanchor\":\"bottom\",\"yref\":\"paper\"},{\"font\":{\"size\":16},\"showarrow\":false,\"text\":\"HALF_OPEN\",\"x\":0.5,\"xanchor\":\"center\",\"xref\":\"paper\",\"y\":1.0,\"yanchor\":\"bottom\",\"yref\":\"paper\"},{\"font\":{\"size\":16},\"showarrow\":false,\"text\":\"OPEN\",\"x\":0.8555555555555556,\"xanchor\":\"center\",\"xref\":\"paper\",\"y\":1.0,\"yanchor\":\"bottom\",\"yref\":\"paper\"}],\"title\":{\"text\":\"CO2 Emissions Over Years by Building Type with heat pump and A labels\"},\"showlegend\":true},                        {\"responsive\": true}                    ).then(function(){\n",
       "                            \n",
       "var gd = document.getElementById('ecb8c13d-c56c-4667-be7c-d888da866ba5');\n",
       "var x = new MutationObserver(function (mutations, observer) {{\n",
       "        var display = window.getComputedStyle(gd).display;\n",
       "        if (!display || display === 'none') {{\n",
       "            console.log([gd, 'removed!']);\n",
       "            Plotly.purge(gd);\n",
       "            observer.disconnect();\n",
       "        }}\n",
       "}});\n",
       "\n",
       "// Listen for the removal of the full notebook cells\n",
       "var notebookContainer = gd.closest('#notebook-container');\n",
       "if (notebookContainer) {{\n",
       "    x.observe(notebookContainer, {childList: true});\n",
       "}}\n",
       "\n",
       "// Listen for the clearing of the current output cell\n",
       "var outputEl = gd.closest('.output');\n",
       "if (outputEl) {{\n",
       "    x.observe(outputEl, {childList: true});\n",
       "}}\n",
       "\n",
       "                        })                };                });            </script>        </div>"
      ]
     },
     "metadata": {},
     "output_type": "display_data"
    }
   ],
   "source": [
    "import pandas as pd\n",
    "import plotly.graph_objects as go\n",
    "from plotly.subplots import make_subplots\n",
    "\n",
    "\n",
    "# Filter the DataFrame\n",
    "testcase2 = df[(df['epc_ind'] < 100) & (df['heating_system'] == 'Heat Pump') & (df.scenario_name.str.contains('PV full roof')) & (~df.scenario_name.str.contains('PV full roof with battery'))  ].sort_values(by='tco', ascending=False).drop_duplicates(subset=['name'], keep='first')\n",
    "\n",
    "# Extract the years from the columns\n",
    "years = sorted([int(col.split('_')[-1]) for col in testcase2.columns if 'emissions_' in col])\n",
    "\n",
    "# Initialize lists to store the data\n",
    "data = []\n",
    "\n",
    "# Collect data for each year and each building type\n",
    "for year in years:\n",
    "    for building_type, group in testcase2.groupby('building_type'):\n",
    "        modified_emissions = group[f'modified_emissions_{year}'].sum()\n",
    "        solar_emissions = group[f'solar_injection_emissions_{year}'].sum() * -1  # Make solar emissions negative\n",
    "        data.append([year, building_type, 'Modified CO2 Emissions', modified_emissions])\n",
    "        data.append([year, building_type, 'Solar CO2 Emissions', solar_emissions])\n",
    "\n",
    "# Create a DataFrame from the collected data\n",
    "emissions_df = pd.DataFrame(data, columns=['Year', 'Building Type', 'Emissions Type', 'Emissions'])\n",
    "\n",
    "# Get unique building types\n",
    "building_types = emissions_df['Building Type'].unique()\n",
    "\n",
    "# Create subplots\n",
    "fig = make_subplots(rows=1, cols=3, shared_yaxes=True, subplot_titles=building_types)\n",
    "\n",
    "# Add traces for each building type\n",
    "for i, building_type in enumerate(building_types, start=1):\n",
    "    subset = emissions_df[emissions_df['Building Type'] == building_type]\n",
    "    fig.add_trace(go.Scatter(\n",
    "        x=subset[subset['Emissions Type'] == 'Modified CO2 Emissions']['Year'],\n",
    "        y=subset[subset['Emissions Type'] == 'Modified CO2 Emissions']['Emissions'],\n",
    "        fill='tonexty',\n",
    "        name=f'{building_type} - Modified CO2 Emissions'\n",
    "    ), row=1, col=i)\n",
    "    fig.add_trace(go.Scatter(\n",
    "        x=subset[subset['Emissions Type'] == 'Solar CO2 Emissions']['Year'],\n",
    "        y=subset[subset['Emissions Type'] == 'Solar CO2 Emissions']['Emissions'],\n",
    "        fill='tonexty',\n",
    "        name=f'{building_type} - Solar CO2 Emissions'\n",
    "    ), row=1, col=i)\n",
    "\n",
    "# Update layout\n",
    "fig.update_layout(\n",
    "    title='CO2 Emissions Over Years by Building Type with heat pump and A labels',\n",
    "    xaxis_title='Year',\n",
    "    yaxis_title='CO2 Emissions (kg)',\n",
    "    showlegend=True\n",
    ")\n",
    "\n",
    "# Update x-axes titles for each subplot\n",
    "for i in range(1, len(building_types) + 1):\n",
    "    fig.update_xaxes(title_text='Year', row=1, col=i)\n",
    "\n",
    "# Update y-axis title only for the first subplot\n",
    "fig.update_yaxes(title_text='CO2 Emissions (kg)', row=1, col=1)\n",
    "\n",
    "# Show the plot\n",
    "fig.show()\n"
   ]
  }
 ],
 "metadata": {
  "kernelspec": {
   "display_name": ".venv",
   "language": "python",
   "name": "python3"
  },
  "language_info": {
   "codemirror_mode": {
    "name": "ipython",
    "version": 3
   },
   "file_extension": ".py",
   "mimetype": "text/x-python",
   "name": "python",
   "nbconvert_exporter": "python",
   "pygments_lexer": "ipython3",
   "version": "3.10.12"
  }
 },
 "nbformat": 4,
 "nbformat_minor": 2
}
